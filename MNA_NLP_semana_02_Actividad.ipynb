{
  "nbformat": 4,
  "nbformat_minor": 0,
  "metadata": {
    "colab": {
      "provenance": []
    },
    "kernelspec": {
      "name": "python3",
      "display_name": "Python 3"
    },
    "language_info": {
      "name": "python"
    }
  },
  "cells": [
    {
      "cell_type": "markdown",
      "source": [
        "#**Maestría en Inteligencia Artificial Aplicada**\n",
        "##**Curso: Procesamiento de Lenguaje Natural (NLP)**\n",
        "###Tecnológico de Monterrey\n",
        "###Prof Luis Eduardo Falcón Morales\n",
        "\n",
        "## **Actividad de la Semana 02**\n",
        "###**Introducción al procesamiento de texto.**\n",
        "\n",
        "### 📊 **Actividad 1 | Procesamiento de texto**\n",
        "\n",
        "#### 📅 **27 de abril de 2025**\n",
        "\n",
        "**A01795941 :** Juan Carlos Pérez Nava"
      ],
      "metadata": {
        "id": "759SG4TyfbUn"
      }
    },
    {
      "cell_type": "markdown",
      "source": [
        "En esta actividad deberás utilizar los datos del siguiente archivo que se encuentra en Canvas:\n",
        "\n",
        "MNA_NLP_semana_02_Actividad_datos.txt\n",
        "\n",
        "El archivo contiene comentarios en inglés sobre servicios de comida de la página de Yelp: https://www.yelp.com/ .\n",
        "\n",
        "Son mil comentarios y forman parte del conjunto de datos que se encuentra en el Machine Learning Repository de la UCI, llamado \"Sentiment Labelled Sentences\": https://archive.ics.uci.edu/ml/datasets/Sentiment+Labelled+Sentences#\n"
      ],
      "metadata": {
        "id": "6ue1YAKx3XDo"
      }
    },
    {
      "cell_type": "markdown",
      "source": [
        "#**Parte 1. Cargamos los datos.**   "
      ],
      "metadata": {
        "id": "Zj-h4drXD-X9"
      }
    },
    {
      "cell_type": "markdown",
      "source": [
        "Cargar los datos del archivo indicado y obtener una lista de longitud de 1000 strings/comentarios.\n",
        "\n",
        "Por el momento solamente requerimos las bibliotecas de Numpy y re, para el manejo de los arreglos y de las expresiones regulares en Python.\n",
        "\n",
        "En particular, no necesitarás en esta actividad la biblioteca de Pandas.\n",
        "\n",
        "###**NOTA: En esta actividad no debes importar nada más, con estas dos bibliotecas será *suficiente*.**"
      ],
      "metadata": {
        "id": "BY6yifxscfrx"
      }
    },
    {
      "cell_type": "code",
      "source": [
        "import numpy as np       # importamos Numpy para el manejo de los arreglos.\n",
        "import re                # importamos re para el manejo de las expresiones regulares.\n",
        "import gdown             # importamos gdown para descargar el archivo de trabajo\n",
        "import os                # importamos os para manejo de archivos y directorios\n",
        "import tabulate as tab   # importamos tabulate para impresión de tablas"
      ],
      "metadata": {
        "id": "OJ26dAfhdFnf"
      },
      "execution_count": null,
      "outputs": []
    },
    {
      "cell_type": "code",
      "source": [
        "output_directory = 'datos'\n",
        "if not os.path.exists(output_directory):\n",
        "    os.makedirs(output_directory, exist_ok=True)\n",
        "    print(f\"Directorio '{output_directory}' creado exitosamente.\")\n",
        "else:\n",
        "    print(f\"El directorio '{output_directory}' ya existe. No es necesario crearlo.\")\n",
        "\n",
        "datos_url = 'https://drive.google.com/uc?id=1qVQ5sn901fDCQMRP_NpaHEoTEEOlrfM3'\n",
        "output_file = os.path.join(output_directory, 'actividad_datos.txt')\n",
        "\n",
        "print(\"Iniciando la descarga de datos desde la URL proporcionada...\")\n",
        "try:\n",
        "    gdown.download(datos_url, output_file, quiet=False)\n",
        "    print(f\"\\nDescarga completada. El archivo ha sido guardado en '{output_file}'.\")\n",
        "except Exception as e:\n",
        "    print(f\"Ocurrió un error durante la descarga: {e}\")\n",
        "\n"
      ],
      "metadata": {
        "colab": {
          "base_uri": "https://localhost:8080/"
        },
        "id": "Wqc0R1HMRP-x",
        "outputId": "322a87ac-1512-48fb-a6e7-ae114a8ca04a"
      },
      "execution_count": null,
      "outputs": [
        {
          "output_type": "stream",
          "name": "stdout",
          "text": [
            "El directorio 'datos' ya existe. No es necesario crearlo.\n",
            "Iniciando la descarga de datos desde la URL proporcionada...\n"
          ]
        },
        {
          "output_type": "stream",
          "name": "stderr",
          "text": [
            "Downloading...\n",
            "From: https://drive.google.com/uc?id=1qVQ5sn901fDCQMRP_NpaHEoTEEOlrfM3\n",
            "To: /content/datos/actividad_datos.txt\n",
            "100%|██████████| 59.9k/59.9k [00:00<00:00, 6.53MB/s]"
          ]
        },
        {
          "output_type": "stream",
          "name": "stdout",
          "text": [
            "\n",
            "Descarga completada. El archivo ha sido guardado en 'datos/actividad_datos.txt'.\n"
          ]
        },
        {
          "output_type": "stream",
          "name": "stderr",
          "text": [
            "\n"
          ]
        }
      ]
    },
    {
      "cell_type": "code",
      "source": [
        "# Ejecuta las siguientes instrucciones para cargar la información del achivo dado:\n",
        "\n",
        "with open('datos/actividad_datos.txt',        # puedes actualizar la ruta a tu archivo, en dado caso.\n",
        "          mode='r',                           # abrimos el archivo en modo lectura.\n",
        "          ) as f:\n",
        "    docs = f.readlines()                      # separamos cada comentario por líneas\n",
        "\n",
        "f.close()                         # ya que tenemos la información en la variable docs, cerramos el archivo"
      ],
      "metadata": {
        "id": "QHUmJyjDdGNP"
      },
      "execution_count": null,
      "outputs": []
    },
    {
      "cell_type": "code",
      "source": [
        "type(docs) == list   # Verifica que tu variable \"docs\" es una lista"
      ],
      "metadata": {
        "id": "L6WzrSrodG-Y",
        "colab": {
          "base_uri": "https://localhost:8080/"
        },
        "outputId": "e2343a98-8d61-4627-8497-95a3f7f4aac3"
      },
      "execution_count": null,
      "outputs": [
        {
          "output_type": "execute_result",
          "data": {
            "text/plain": [
              "True"
            ]
          },
          "metadata": {},
          "execution_count": 143
        }
      ]
    },
    {
      "cell_type": "code",
      "source": [
        "len(docs)==1000  # verifica que la longitud de \"docs\" es de mil comentarios."
      ],
      "metadata": {
        "id": "QIK1u9WS2FtS",
        "colab": {
          "base_uri": "https://localhost:8080/"
        },
        "outputId": "7b2085e9-e7f6-4cd1-b858-3953456ed462"
      },
      "execution_count": null,
      "outputs": [
        {
          "output_type": "execute_result",
          "data": {
            "text/plain": [
              "True"
            ]
          },
          "metadata": {},
          "execution_count": 144
        }
      ]
    },
    {
      "cell_type": "code",
      "source": [
        "docs[0:10]     # observa algunos de los primeros comentarios"
      ],
      "metadata": {
        "id": "9AMLIfQvJqNZ",
        "colab": {
          "base_uri": "https://localhost:8080/"
        },
        "outputId": "5f1f5baa-ecdd-4890-929b-8994f7058ad9"
      },
      "execution_count": null,
      "outputs": [
        {
          "output_type": "execute_result",
          "data": {
            "text/plain": [
              "['Wow... Loved this place.\\n',\n",
              " 'Crust is not good.\\n',\n",
              " 'Not tasty and the texture was just nasty.\\n',\n",
              " 'Stopped by during the late May bank holiday off Rick Steve recommendation and loved it.\\n',\n",
              " 'The selection on the menu was great and so were the prices.\\n',\n",
              " 'Now I am getting angry and I want my damn pho.\\n',\n",
              " \"Honeslty it didn't taste THAT fresh.)\\n\",\n",
              " 'The potatoes were like rubber and you could tell they had been made up ahead of time being kept under a warmer.\\n',\n",
              " 'The fries were great too.\\n',\n",
              " 'A great touch.\\n']"
            ]
          },
          "metadata": {},
          "execution_count": 145
        }
      ]
    },
    {
      "cell_type": "markdown",
      "source": [
        "#**Parte 2: sección de preguntas (regex).**   \n"
      ],
      "metadata": {
        "id": "k_ewoagic5jc"
      }
    },
    {
      "cell_type": "markdown",
      "source": [
        "##**Instrucciones:**\n",
        "\n",
        "###**A continuación deberás contestar cada una de las preguntas que te piden usando expresiones regulares (regex).**\n",
        "\n",
        "###**Por el momento no hay restricción en cuanto al número de líneas de código que agregues, pero trata de incluir las mínimas posibles.**"
      ],
      "metadata": {
        "id": "X-eMJa3DFCIV"
      }
    },
    {
      "cell_type": "markdown",
      "source": [
        "*   **Pregunta 1.**\n",
        "\n",
        "Busca y elimina todos los saltos de línea '\\n' que se encuentran al final de cada comentario.\n",
        "\n",
        "Una vez finalizado, imprime los primeros 10 comentarios del resultado obtenido.\n"
      ],
      "metadata": {
        "id": "78nJMemzn5a5"
      }
    },
    {
      "cell_type": "code",
      "source": [
        "def imprimir_resultado(palabras,columnas):\n",
        "  filas = []\n",
        "  ordenados = sorted(palabras)\n",
        "  for i in range(0, len(ordenados), columnas):\n",
        "        fila = ordenados[i:i + columnas]\n",
        "\n",
        "        while len(fila) < columnas:\n",
        "            fila.append(\"\")\n",
        "        filas.append(fila)\n",
        "  if columnas == 1:\n",
        "    print(tab.tabulate(filas, tablefmt=\"fancy_grid\", stralign=\"left\"))\n",
        "  else:\n",
        "    print(tab.tabulate(filas, tablefmt=\"fancy_grid\", stralign=\"center\"))\n",
        "\n",
        "  print(f\"El número total de resultados obtenidos es: \\033[32m\\033[1m{len(palabras)}\\033[0m\")\n",
        "  return len(palabras)"
      ],
      "metadata": {
        "id": "ixtW-jri6upD"
      },
      "execution_count": null,
      "outputs": []
    },
    {
      "cell_type": "code",
      "source": [
        "resultados = []\n",
        "comentarios_sin_saltos = [re.sub(r'\\n$', '', registro) for registro in docs] #elimina los saltos de línea al final de cada string\n",
        "_ = imprimir_resultado(comentarios_sin_saltos[:10],1)"
      ],
      "metadata": {
        "id": "PwbYYIuZn8pE",
        "colab": {
          "base_uri": "https://localhost:8080/"
        },
        "outputId": "b0485661-a8e7-4013-824a-05dfdebe1ffd"
      },
      "execution_count": null,
      "outputs": [
        {
          "output_type": "stream",
          "name": "stdout",
          "text": [
            "╒═════════════════════════════════════════════════════════════════════════════════════════════════════════════════╕\n",
            "│ A great touch.                                                                                                  │\n",
            "├─────────────────────────────────────────────────────────────────────────────────────────────────────────────────┤\n",
            "│ Crust is not good.                                                                                              │\n",
            "├─────────────────────────────────────────────────────────────────────────────────────────────────────────────────┤\n",
            "│ Honeslty it didn't taste THAT fresh.)                                                                           │\n",
            "├─────────────────────────────────────────────────────────────────────────────────────────────────────────────────┤\n",
            "│ Not tasty and the texture was just nasty.                                                                       │\n",
            "├─────────────────────────────────────────────────────────────────────────────────────────────────────────────────┤\n",
            "│ Now I am getting angry and I want my damn pho.                                                                  │\n",
            "├─────────────────────────────────────────────────────────────────────────────────────────────────────────────────┤\n",
            "│ Stopped by during the late May bank holiday off Rick Steve recommendation and loved it.                         │\n",
            "├─────────────────────────────────────────────────────────────────────────────────────────────────────────────────┤\n",
            "│ The fries were great too.                                                                                       │\n",
            "├─────────────────────────────────────────────────────────────────────────────────────────────────────────────────┤\n",
            "│ The potatoes were like rubber and you could tell they had been made up ahead of time being kept under a warmer. │\n",
            "├─────────────────────────────────────────────────────────────────────────────────────────────────────────────────┤\n",
            "│ The selection on the menu was great and so were the prices.                                                     │\n",
            "├─────────────────────────────────────────────────────────────────────────────────────────────────────────────────┤\n",
            "│ Wow... Loved this place.                                                                                        │\n",
            "╘═════════════════════════════════════════════════════════════════════════════════════════════════════════════════╛\n",
            "El número total de resultados obtenidos es: \u001b[32m\u001b[1m10\u001b[0m\n"
          ]
        }
      ]
    },
    {
      "cell_type": "markdown",
      "source": [
        "*   **Pregunta 2.**  \n",
        "\n",
        "Busca e imprime todas las palabras que terminan con dos o más signos de admiración seguidos, por ejemplo \"!!!\".\n",
        "\n",
        "Debes imprimir tanto la palabra como la totalidad de signos de admiración que le siguen.\n",
        "\n",
        "Indica cuántos resultados obtuviste.\n",
        "\n"
      ],
      "metadata": {
        "id": "VWeKQC93ctEo"
      }
    },
    {
      "cell_type": "code",
      "source": [
        "palabras_con_exclamaciones = []\n",
        "for comentario in comentarios_sin_saltos:\n",
        "    palabras_con_exclamaciones.extend(re.findall(r'\\b\\w+!{2,}', comentario))\n",
        "\n",
        "total_exclamaciones = imprimir_resultado(palabras_con_exclamaciones,5)\n",
        "resultados.append((\"Palabras con dos o más exclamaciones\",total_exclamaciones))"
      ],
      "metadata": {
        "colab": {
          "base_uri": "https://localhost:8080/"
        },
        "id": "LwO2Gz0Y7vs1",
        "outputId": "5f455fc8-e219-4479-bd35-4c9715cd3406"
      },
      "execution_count": null,
      "outputs": [
        {
          "output_type": "stream",
          "name": "stdout",
          "text": [
            "╒═══════════════╤══════════════╤════════════════════════════╤══════════════════╤═════════════╕\n",
            "│ APPETIZERS!!! │ DELICIOUS!!  │        FLY!!!!!!!!         │  Firehouse!!!!!  │    Up!!     │\n",
            "├───────────────┼──────────────┼────────────────────────────┼──────────────────┼─────────────┤\n",
            "│   amazing!!   │  amazing!!!  │ amazing!!!!!!!!!!!!!!!!!!! │    awesome!!     │ biscuits!!! │\n",
            "├───────────────┼──────────────┼────────────────────────────┼──────────────────┼─────────────┤\n",
            "│   buffet!!!   │ delicious!!! │       disappointed!!       │ disappointing!!! │    dry!!    │\n",
            "├───────────────┼──────────────┼────────────────────────────┼──────────────────┼─────────────┤\n",
            "│     far!!     │    good!!    │    great!!!!!!!!!!!!!!     │     here!!!      │   it!!!!    │\n",
            "├───────────────┼──────────────┼────────────────────────────┼──────────────────┼─────────────┤\n",
            "│  otherwise!!  │   packed!!   │    shawarrrrrrma!!!!!!     │    steak!!!!!    │   style!!   │\n",
            "├───────────────┼──────────────┼────────────────────────────┼──────────────────┼─────────────┤\n",
            "│   yucky!!!    │              │                            │                  │             │\n",
            "╘═══════════════╧══════════════╧════════════════════════════╧══════════════════╧═════════════╛\n",
            "El número total de resultados obtenidos es: \u001b[32m\u001b[1m26\u001b[0m\n"
          ]
        }
      ]
    },
    {
      "cell_type": "markdown",
      "source": [
        "*   **Pregunta 3.**  \n",
        "\n",
        "Busca e imprime todas las palabras que están escritas totalmente en mayúsculas. Cada coincidencia debe ser una sola palabra.\n",
        "\n",
        "Indica cuántas palabras encontraste.\n",
        "\n"
      ],
      "metadata": {
        "id": "-s3okBqL96TT"
      }
    },
    {
      "cell_type": "code",
      "source": [
        "set_mayusculas = set()\n",
        "for comentario in comentarios_sin_saltos:\n",
        "    set_mayusculas.update(re.findall(r'\\b[A-Z]+\\b', comentario))\n",
        "\n",
        "total_mayusculas = imprimir_resultado(set_mayusculas,8)\n",
        "resultados.append((\"Palabras en mayúsculas\",total_mayusculas))"
      ],
      "metadata": {
        "id": "yKHJkZKo_nW5",
        "colab": {
          "base_uri": "https://localhost:8080/"
        },
        "outputId": "b2030e27-a9d3-480c-f303-b5bfbedfcfa0"
      },
      "execution_count": null,
      "outputs": [
        {
          "output_type": "stream",
          "name": "stdout",
          "text": [
            "╒═══════╤════════════╤═══════════╤═══════════════╤═════════╤════════════╤═══════════════╤═════════╕\n",
            "│   A   │   AGAIN    │    ALL    │      AN       │   AND   │ APPETIZERS │     AVOID     │  AYCE   │\n",
            "├───────┼────────────┼───────────┼───────────────┼─────────┼────────────┼───────────────┼─────────┤\n",
            "│  AZ   │    BACK    │   BARE    │    BARGAIN    │   BBQ   │    BEST    │    BETTER     │ BITCHES │\n",
            "├───────┼────────────┼───────────┼───────────────┼─────────┼────────────┼───────────────┼─────────┤\n",
            "│ BLAND │ CONCLUSION │ DELICIOUS │ ESTABLISHMENT │  EVER   │ EXPERIENCE │   FANTASTIC   │ FLAVOR  │\n",
            "├───────┼────────────┼───────────┼───────────────┼─────────┼────────────┼───────────────┼─────────┤\n",
            "│  FLY  │  FORWARD   │ FREEZING  │      FS       │   GC    │     GO     │     GREAT     │   HAD   │\n",
            "├───────┼────────────┼───────────┼───────────────┼─────────┼────────────┼───────────────┼─────────┤\n",
            "│ HANDS │  HAPPENED  │   HAVE    │     HOUR      │    I    │     IN     │ INCONSIDERATE │   IT    │\n",
            "├───────┼────────────┼───────────┼───────────────┼─────────┼────────────┼───────────────┼─────────┤\n",
            "│ LEGIT │   LOVED    │     M     │  MANAGEMENT   │  MANY   │    MGM     │     MUST      │  NASTY  │\n",
            "├───────┼────────────┼───────────┼───────────────┼─────────┼────────────┼───────────────┼─────────┤\n",
            "│ NEVER │     NO     │   NONE    │      NOT      │   NOW   │    NYC     │      OF       │   OK    │\n",
            "├───────┼────────────┼───────────┼───────────────┼─────────┼────────────┼───────────────┼─────────┤\n",
            "│  OMG  │ OVERPRICED │  OWNERS   │    PEOPLE     │ PERFECT │    REAL    │    REALLY     │   RI    │\n",
            "├───────┼────────────┼───────────┼───────────────┼─────────┼────────────┼───────────────┼─────────┤\n",
            "│ RUDE  │  SCREAMS   │  SHOULD   │     STALE     │  STEP   │     T      │     THAT      │   THE   │\n",
            "├───────┼────────────┼───────────┼───────────────┼─────────┼────────────┼───────────────┼─────────┤\n",
            "│ THIS  │    TIME    │   TOLD    │     TOTAL     │   TV    │   UNREAL   │     VERY      │  WASTE  │\n",
            "├───────┼────────────┼───────────┼───────────────┼─────────┼────────────┼───────────────┼─────────┤\n",
            "│  WAY  │    WEAK    │   WHAT    │     WILL      │  WORST  │            │               │         │\n",
            "╘═══════╧════════════╧═══════════╧═══════════════╧═════════╧════════════╧═══════════════╧═════════╛\n",
            "El número total de resultados obtenidos es: \u001b[32m\u001b[1m85\u001b[0m\n"
          ]
        }
      ]
    },
    {
      "cell_type": "markdown",
      "source": [
        "*   **Pregunta 4.**  \n",
        "\n",
        "Busca e imprime los comentarios en donde todos los caracteres alfabéticos (letras) están en mayúsculas.\n",
        "\n",
        "Cada coincidencia encontrada debe ser todo el comentario/enunciado.\n",
        "\n",
        "Indica cuántos resultados obtuviste.\n"
      ],
      "metadata": {
        "id": "GX8eYyDoMZma"
      }
    },
    {
      "cell_type": "code",
      "source": [
        "comentarios_mayusculas = []\n",
        "\n",
        "for comentario in comentarios_sin_saltos:\n",
        "    if re.fullmatch(r'[A-Z\\s\\W]+', comentario):\n",
        "        comentarios_mayusculas.append(comentario)\n",
        "\n",
        "comentarios_mayusculas = imprimir_resultado(comentarios_mayusculas,1)\n",
        "resultados.append((\"Comentarios en mayúsculas\",comentarios_mayusculas))"
      ],
      "metadata": {
        "id": "K8VuZxvTMYj6",
        "colab": {
          "base_uri": "https://localhost:8080/"
        },
        "outputId": "322037e4-069a-471e-e187-ae14e772cf90"
      },
      "execution_count": null,
      "outputs": [
        {
          "output_type": "stream",
          "name": "stdout",
          "text": [
            "╒══════════════════════════════════════════════════════════════════════╕\n",
            "│ AVOID THIS ESTABLISHMENT!                                            │\n",
            "├──────────────────────────────────────────────────────────────────────┤\n",
            "│ DELICIOUS!!                                                          │\n",
            "├──────────────────────────────────────────────────────────────────────┤\n",
            "│ RUDE & INCONSIDERATE MANAGEMENT.                                     │\n",
            "├──────────────────────────────────────────────────────────────────────┤\n",
            "│ TOTAL WASTE OF TIME.                                                 │\n",
            "├──────────────────────────────────────────────────────────────────────┤\n",
            "│ WILL NEVER EVER GO BACK AND HAVE TOLD MANY PEOPLE WHAT HAD HAPPENED. │\n",
            "╘══════════════════════════════════════════════════════════════════════╛\n",
            "El número total de resultados obtenidos es: \u001b[32m\u001b[1m5\u001b[0m\n"
          ]
        }
      ]
    },
    {
      "cell_type": "markdown",
      "source": [
        "*   **Pregunta 5.**  \n",
        "\n",
        "Busca e imprime todas las palabras que tengan una vocal acentuada, del tipo á, é, í, ó, ú.\n",
        "\n",
        "Indica cuántos resultados obtuviste."
      ],
      "metadata": {
        "id": "a1i6qv7-McmU"
      }
    },
    {
      "cell_type": "code",
      "source": [
        "palabras_tilde = []\n",
        "\n",
        "for comentario in comentarios_sin_saltos:\n",
        "    palabras_tilde.extend(re.findall(r'\\b\\w*[áéíóú]\\w*\\b', comentario, re.IGNORECASE))\n",
        "\n",
        "total_tilde = imprimir_resultado(palabras_tilde,3)\n",
        "resultados.append((\"Palabras con tilde\",total_tilde))"
      ],
      "metadata": {
        "id": "nZZ5zKUOMeGD",
        "colab": {
          "base_uri": "https://localhost:8080/"
        },
        "outputId": "3d3ccb25-b574-495e-c8d0-ca2771ea7a31"
      },
      "execution_count": null,
      "outputs": [
        {
          "output_type": "stream",
          "name": "stdout",
          "text": [
            "╒══════╤════════╤════════╕\n",
            "│ Café │ fiancé │ puréed │\n",
            "╘══════╧════════╧════════╛\n",
            "El número total de resultados obtenidos es: \u001b[32m\u001b[1m3\u001b[0m\n"
          ]
        }
      ]
    },
    {
      "cell_type": "markdown",
      "source": [
        "*   **Pregunta 6.**  \n",
        "\n",
        "Busca e imprime todas las cantidades numéricas monetarias, enteras o con decimales, que inician con el símbolo $\\$$.\n",
        "\n",
        "Indica cuántos resultados obtuviste."
      ],
      "metadata": {
        "id": "ZmPiAI82Mfb3"
      }
    },
    {
      "cell_type": "code",
      "source": [
        "cantidades_monetarias = []\n",
        "\n",
        "for comentario in comentarios_sin_saltos:\n",
        "    cantidades_monetarias.extend(re.findall(r'\\$\\s*(\\d+(?:\\.\\d+)?)', comentario))\n",
        "\n",
        "total_numericos = imprimir_resultado(cantidades_monetarias,4)\n",
        "resultados.append((\"Cantidades numéricas\",total_numericos))"
      ],
      "metadata": {
        "id": "6vhe9-Y-MhL9",
        "colab": {
          "base_uri": "https://localhost:8080/"
        },
        "outputId": "0f3526c5-a899-47f0-e358-e51e7556173b"
      },
      "execution_count": null,
      "outputs": [
        {
          "output_type": "stream",
          "name": "stdout",
          "text": [
            "╒═══════╤════╤════╤═══════╕\n",
            "│ 11.99 │ 12 │ 17 │ 20    │\n",
            "├───────┼────┼────┼───────┤\n",
            "│  3    │ 35 │  4 │  7.85 │\n",
            "╘═══════╧════╧════╧═══════╛\n",
            "El número total de resultados obtenidos es: \u001b[32m\u001b[1m8\u001b[0m\n"
          ]
        }
      ]
    },
    {
      "cell_type": "markdown",
      "source": [
        "*   **Pregunta 7.**  \n",
        "\n",
        "Busca e imprime todas las palabras que sean variantes de la palabra \"love\", sin importar si incluyen mayúsculas o minúsculas, o la manera en que esté conjugada o alguna otra variación que se haga con dicha palabra.\n",
        "\n",
        "Indica cuántos resultados obtuviste."
      ],
      "metadata": {
        "id": "2j-HpvhwMhq2"
      }
    },
    {
      "cell_type": "code",
      "source": [
        "regex = re.compile(r'\\b[Ll]ov(?:e[sd]?|ing|er|ers|ely|able|es|ed|ing|ingly|esque|ish|less|ness|ful|ment|s|d)\\b', re.IGNORECASE)\n",
        "palabras_love = []\n",
        "\n",
        "for comentario in comentarios_sin_saltos:\n",
        "  palabras_love.extend(regex.findall(comentario))\n",
        "\n",
        "total_love = imprimir_resultado(palabras_love,6)\n",
        "resultados.append((\"Palabras variante de love\",total_love))"
      ],
      "metadata": {
        "id": "kqqyRChVMjol",
        "colab": {
          "base_uri": "https://localhost:8080/"
        },
        "outputId": "ba1a8835-4eb6-45b1-f545-28e29a38641b"
      },
      "execution_count": null,
      "outputs": [
        {
          "output_type": "stream",
          "name": "stdout",
          "text": [
            "╒════════╤═══════╤════════╤════════╤═══════╤════════╕\n",
            "│ LOVED  │ LOVED │  Love  │  Love  │ Loved │ Loved  │\n",
            "├────────┼───────┼────────┼────────┼───────┼────────┤\n",
            "│  love  │ love  │  love  │  love  │ love  │  love  │\n",
            "├────────┼───────┼────────┼────────┼───────┼────────┤\n",
            "│  love  │ love  │  love  │  love  │ love  │  love  │\n",
            "├────────┼───────┼────────┼────────┼───────┼────────┤\n",
            "│  love  │ love  │  love  │  love  │ love  │ loved  │\n",
            "├────────┼───────┼────────┼────────┼───────┼────────┤\n",
            "│ loved  │ loved │ loved  │ loved  │ loved │ lovely │\n",
            "├────────┼───────┼────────┼────────┼───────┼────────┤\n",
            "│ lovely │ lover │ lovers │ lovers │ loves │ loving │\n",
            "╘════════╧═══════╧════════╧════════╧═══════╧════════╛\n",
            "El número total de resultados obtenidos es: \u001b[32m\u001b[1m36\u001b[0m\n"
          ]
        }
      ]
    },
    {
      "cell_type": "markdown",
      "source": [
        "*   **Pregunta 8.**  \n",
        "\n",
        "Busca e imprime todas las palabras, variantes de \"so\" y \"good\", que tengan dos o más \"o\" en \"so\" y 3 o más \"o\" en good.\n",
        "\n",
        "Indica cuántas encontraste.\n"
      ],
      "metadata": {
        "id": "Ctb-NTY3MkYG"
      }
    },
    {
      "cell_type": "code",
      "source": [
        "regex_so = re.compile(r'\\bso+o+\\b', re.IGNORECASE)\n",
        "regex_good = re.compile(r'\\bgo+o+od\\w*\\b', re.IGNORECASE)\n",
        "\n",
        "# Buscar y almacenar todas las variantes de \"so\" y \"good\"\n",
        "palabras_so = []\n",
        "palabras_good = []\n",
        "for comentario in comentarios_sin_saltos:\n",
        "    palabras_so.extend(regex_so.findall(comentario))\n",
        "    palabras_good.extend(regex_good.findall(comentario))\n",
        "\n",
        "total_so = imprimir_resultado(palabras_so,4)\n",
        "total_good = imprimir_resultado(palabras_good,1)\n",
        "\n",
        "resultados.append((\"Palabras variante de so\",total_so))\n",
        "resultados.append((\"Palabras variante de good\",total_good))"
      ],
      "metadata": {
        "id": "A8Nf3B_cMlqg",
        "colab": {
          "base_uri": "https://localhost:8080/"
        },
        "outputId": "7ec59c09-d26d-4dac-fcc4-80516991a456"
      },
      "execution_count": null,
      "outputs": [
        {
          "output_type": "stream",
          "name": "stdout",
          "text": [
            "╒════════╤═══════╤═══════╤═════════╕\n",
            "│ Sooooo │ soooo │ soooo │ soooooo │\n",
            "╘════════╧═══════╧═══════╧═════════╛\n",
            "El número total de resultados obtenidos es: \u001b[32m\u001b[1m4\u001b[0m\n",
            "╒════════╕\n",
            "│ gooodd │\n",
            "╘════════╛\n",
            "El número total de resultados obtenidos es: \u001b[32m\u001b[1m1\u001b[0m\n"
          ]
        }
      ]
    },
    {
      "cell_type": "markdown",
      "source": [
        "*   **Pregunta 9.**  \n",
        "\n",
        "Busca e imprime todas las palabras que tengan una longitud mayor estrictamente a 10 caracteres alfabéticos.\n",
        "\n",
        "No se consideran los signos de puntuación o caracteres especiales en la longitud de estas cadenas, solo caracteres alfabéticos en mayúsculas o minúsculas.\n",
        "\n",
        "Indica la cantidad de palabras encontradas.\n"
      ],
      "metadata": {
        "id": "hkak1opjMmlk"
      }
    },
    {
      "cell_type": "code",
      "source": [
        "regex = re.compile(r'\\b[a-zA-Z]{11,}\\b')\n",
        "palabras_largas = []\n",
        "for comentario in comentarios_sin_saltos:\n",
        "  palabras_largas.extend(regex.findall(comentario))\n",
        "\n",
        "total_largas = imprimir_resultado(palabras_largas,6)\n",
        "resultados.append((\"Palabras largas\",total_largas))"
      ],
      "metadata": {
        "id": "PYxdp3uhMoD0",
        "colab": {
          "base_uri": "https://localhost:8080/"
        },
        "outputId": "a4166c6b-1ff0-43f4-d56e-44244edfd095"
      },
      "execution_count": null,
      "outputs": [
        {
          "output_type": "stream",
          "name": "stdout",
          "text": [
            "╒════════════════╤════════════════╤═══════════════════╤═════════════════╤════════════════╤════════════════╕\n",
            "│  Disappointed  │ Disappointing  │   ESTABLISHMENT   │   Furthermore   │ INCONSIDERATE  │  Interesting   │\n",
            "├────────────────┼────────────────┼───────────────────┼─────────────────┼────────────────┼────────────────┤\n",
            "│ Mediterranean  │  Outstanding   │   Philadelphia    │   Smashburger   │ Unfortunately  │ Unfortunately  │\n",
            "├────────────────┼────────────────┼───────────────────┼─────────────────┼────────────────┼────────────────┤\n",
            "│ Unfortunately  │  Veggitarian   │ WAAAAAAyyyyyyyyyy │ Wienerschnitzel │ accommodations │  accordingly   │\n",
            "├────────────────┼────────────────┼───────────────────┼─────────────────┼────────────────┼────────────────┤\n",
            "│  acknowledged  │  acknowledged  │    anticipated    │   beautifully   │  calligraphy   │  caterpillar   │\n",
            "├────────────────┼────────────────┼───────────────────┼─────────────────┼────────────────┼────────────────┤\n",
            "│  cheeseburger  │  cheeseburger  │    cheesecurds    │  circumstances  │  combination   │  combination   │\n",
            "├────────────────┼────────────────┼───────────────────┼─────────────────┼────────────────┼────────────────┤\n",
            "│  comfortable   │  comfortable   │    compliments    │   connoisseur   │  considering   │  considering   │\n",
            "├────────────────┼────────────────┼───────────────────┼─────────────────┼────────────────┼────────────────┤\n",
            "│  considering   │  considering   │    constructed    │   corporation   │  deliciously   │  descriptions  │\n",
            "├────────────────┼────────────────┼───────────────────┼─────────────────┼────────────────┼────────────────┤\n",
            "│ deuchebaggery  │  disappointed  │   disappointed    │  disappointed   │  disappointed  │  disappointed  │\n",
            "├────────────────┼────────────────┼───────────────────┼─────────────────┼────────────────┼────────────────┤\n",
            "│  disappointed  │  disappointed  │   disappointed    │  disappointed   │  disappointed  │  disappointed  │\n",
            "├────────────────┼────────────────┼───────────────────┼─────────────────┼────────────────┼────────────────┤\n",
            "│  disappointed  │  disappointed  │   disappointed    │  disappointed   │  disappointed  │  disappointed  │\n",
            "├────────────────┼────────────────┼───────────────────┼─────────────────┼────────────────┼────────────────┤\n",
            "│  disappointed  │ disappointing  │   disappointing   │  disappointing  │ disappointing  │ disappointment │\n",
            "├────────────────┼────────────────┼───────────────────┼─────────────────┼────────────────┼────────────────┤\n",
            "│ disappointment │ disappointment │  disappointment   │ disapppointment │  disgraceful   │  disrespected  │\n",
            "├────────────────┼────────────────┼───────────────────┼─────────────────┼────────────────┼────────────────┤\n",
            "│  disrespected  │  drastically   │   enthusiastic    │  establishment  │ establishment  │ establishment  │\n",
            "├────────────────┼────────────────┼───────────────────┼─────────────────┼────────────────┼────────────────┤\n",
            "│  exceptional   │  expectations  │    experienced    │  experiencing   │ extraordinary  │  grandmother   │\n",
            "├────────────────┼────────────────┼───────────────────┼─────────────────┼────────────────┼────────────────┤\n",
            "│  highlighted   │  hospitality   │    imagination    │   imaginative   │  immediately   │  immediately   │\n",
            "├────────────────┼────────────────┼───────────────────┼─────────────────┼────────────────┼────────────────┤\n",
            "│  immediately   │  inexpensive   │    inexpensive    │   informative   │  ingredients   │  interesting   │\n",
            "├────────────────┼────────────────┼───────────────────┼─────────────────┼────────────────┼────────────────┤\n",
            "│  interesting   │  maintaining   │   neighborhood    │  neighborhood   │  opportunity   │  opportunity   │\n",
            "├────────────────┼────────────────┼───────────────────┼─────────────────┼────────────────┼────────────────┤\n",
            "│  outrageously  │  outstanding   │    outstanding    │   overwhelmed   │  overwhelmed   │  presentation  │\n",
            "├────────────────┼────────────────┼───────────────────┼─────────────────┼────────────────┼────────────────┤\n",
            "│  presentation  │  professional  │   professional    │   profiterole   │ recommendation │ recommendation │\n",
            "├────────────────┼────────────────┼───────────────────┼─────────────────┼────────────────┼────────────────┤\n",
            "│ recommendation │  recommended   │    recommended    │   recommended   │  recommending  │  relationship  │\n",
            "├────────────────┼────────────────┼───────────────────┼─────────────────┼────────────────┼────────────────┤\n",
            "│  replenished   │  reservation   │    restaurants    │   restaurants   │  restaurants   │ shawarrrrrrma  │\n",
            "├────────────────┼────────────────┼───────────────────┼─────────────────┼────────────────┼────────────────┤\n",
            "│  suggestions   │  traditional   │   transcendant    │  unbelievable   │  unbelievably  │  undercooked   │\n",
            "├────────────────┼────────────────┼───────────────────┼─────────────────┼────────────────┼────────────────┤\n",
            "│  undercooked   │ underwhelming  │   underwhelming   │  unexperienced  │ unfortunately  │ unprofessional │\n",
            "├────────────────┼────────────────┼───────────────────┼─────────────────┼────────────────┼────────────────┤\n",
            "│  unsatisfying  │  ventilation   │    vinaigrette    │                 │                │                │\n",
            "╘════════════════╧════════════════╧═══════════════════╧═════════════════╧════════════════╧════════════════╛\n",
            "El número total de resultados obtenidos es: \u001b[32m\u001b[1m141\u001b[0m\n"
          ]
        }
      ]
    },
    {
      "cell_type": "markdown",
      "source": [
        "*   **Pregunta 10.**  \n",
        "\n",
        "Busca e imprime todas las palabras que inician con una letra mayúscula y terminan con una minúscula, pero que además no sea la primera palabra del comentario/string.\n",
        "\n",
        "Indica la cantidad de resultados obtenidos."
      ],
      "metadata": {
        "id": "ApjTNzSxMpDc"
      }
    },
    {
      "cell_type": "code",
      "source": [
        "patron_10 = r\"\\s+([A-Z][a-zA-Z]*[a-z]\\b)\"\n",
        "\n",
        "palabras_10 = []\n",
        "for comentario in comentarios_sin_saltos:\n",
        "  palabras_10.extend(re.findall(patron_10, comentario))\n",
        "\n",
        "total_ini_mayus = imprimir_resultado(palabras_10,7)\n",
        "resultados.append((\"Palabras con inicial mayúscula y final minúscula\",total_ini_mayus))"
      ],
      "metadata": {
        "id": "Vb0ndRGAMqdL",
        "colab": {
          "base_uri": "https://localhost:8080/"
        },
        "outputId": "fe796de6-3761-4452-e308-40579341b962"
      },
      "execution_count": null,
      "outputs": [
        {
          "output_type": "stream",
          "name": "stdout",
          "text": [
            "╒════════════╤══════════════╤═════════════════╤═════════════╤══════════════╤════════════╤═════════════╕\n",
            "│ Albondigas │     All      │      Also       │    Area     │     Aria     │   Attack   │    Baba     │\n",
            "├────────────┼──────────────┼─────────────────┼─────────────┼──────────────┼────────────┼─────────────┤\n",
            "│   Bachi    │    Bachi     │       Bad       │     Bar     │     Bay      │    Bay     │     Bay     │\n",
            "├────────────┼──────────────┼─────────────────┼─────────────┼──────────────┼────────────┼─────────────┤\n",
            "│    Bay     │     Bean     │    Bellagio     │    Best     │     Big      │   Bisque   │   Bisque    │\n",
            "├────────────┼──────────────┼─────────────────┼─────────────┼──────────────┼────────────┼─────────────┤\n",
            "│    Blah    │    Bloody    │      Both       │   Bouchon   │    Breeze    │ Brushfire  │   Buffet    │\n",
            "├────────────┼──────────────┼─────────────────┼─────────────┼──────────────┼────────────┼─────────────┤\n",
            "│   Buffet   │   Buldogis   │     Burger      │  Burrittos  │   Bussell    │ Caballero  │   Caesar    │\n",
            "├────────────┼──────────────┼─────────────────┼─────────────┼──────────────┼────────────┼─────────────┤\n",
            "│ Camelback  │     Cape     │      Carly      │   Cartel    │    Casino    │  Chicken   │   Chicken   │\n",
            "├────────────┼──────────────┼─────────────────┼─────────────┼──────────────┼────────────┼─────────────┤\n",
            "│  Chinese   │   Chinese    │    Chipotle     │  Christmas  │     Cibo     │    Cod     │   Coffee    │\n",
            "├────────────┼──────────────┼─────────────────┼─────────────┼──────────────┼────────────┼─────────────┤\n",
            "│  Company   │    Costco    │      Cotta      │    Crema    │   Crystals   │  Customer  │   Delight   │\n",
            "├────────────┼──────────────┼─────────────────┼─────────────┼──────────────┼────────────┼─────────────┤\n",
            "│   Denny    │ Disappointed │       Dog       │     Dos     │    Dylan     │ Edinburgh  │     Egg     │\n",
            "├────────────┼──────────────┼─────────────────┼─────────────┼──────────────┼────────────┼─────────────┤\n",
            "│  Eggplant  │     Elk      │     English     │     Eve     │  Excalibur   │ Experience │    Filet    │\n",
            "├────────────┼──────────────┼─────────────────┼─────────────┼──────────────┼────────────┼─────────────┤\n",
            "│   Filet    │  Firehouse   │     Flower      │   Flower    │     Food     │ Francisco  │  Frenchman  │\n",
            "├────────────┼──────────────┼─────────────────┼─────────────┼──────────────┼────────────┼─────────────┤\n",
            "│  Fridays   │   Ganoush    │     Gordon      │   Gourmet   │    Great     │   Great    │    Greek    │\n",
            "├────────────┼──────────────┼─────────────────┼─────────────┼──────────────┼────────────┼─────────────┤\n",
            "│   Greek    │    Greek     │      Green      │    Grill    │   Gringos    │   Gyros    │     Ha      │\n",
            "├────────────┼──────────────┼─────────────────┼─────────────┼──────────────┼────────────┼─────────────┤\n",
            "│  Halibut   │     Han      │      Hard       │    Heart    │    Heimer    │    Hiro    │  Honestly   │\n",
            "├────────────┼──────────────┼─────────────────┼─────────────┼──────────────┼────────────┼─────────────┤\n",
            "│    Hot     │     Hot      │      Hunan      │     Hut     │     Ians     │     In     │   Indian    │\n",
            "├────────────┼──────────────┼─────────────────┼─────────────┼──────────────┼────────────┼─────────────┤\n",
            "│   Indian   │   Ironman    │     Italian     │   Italian   │   Jamaican   │  Japanese  │    Jeff     │\n",
            "├────────────┼──────────────┼─────────────────┼─────────────┼──────────────┼────────────┼─────────────┤\n",
            "│   Jenni    │     Joey     │     Kabuki      │    Khao     │    Large     │    Las     │    Lemon    │\n",
            "├────────────┼──────────────┼─────────────────┼─────────────┼──────────────┼────────────┼─────────────┤\n",
            "│  Lobster   │   Lobster    │      Long       │    Loved    │     Lox      │    Luke    │  Macarons   │\n",
            "├────────────┼──────────────┼─────────────────┼─────────────┼──────────────┼────────────┼─────────────┤\n",
            "│  Madison   │   Magazine   │      Magic      │    Maine    │   Mandalay   │   Mango    │    Maria    │\n",
            "├────────────┼──────────────┼─────────────────┼─────────────┼──────────────┼────────────┼─────────────┤\n",
            "│    Mary    │     May      │  Mediterranean  │   Mellow    │   Mexican    │  Mexican   │   Mirage    │\n",
            "├────────────┼──────────────┼─────────────────┼─────────────┼──────────────┼────────────┼─────────────┤\n",
            "│    Mmmm    │     Mom      │    Mushroom     │     Nan     │     Nice     │   Ninja    │    Nobu     │\n",
            "├────────────┼──────────────┼─────────────────┼─────────────┼──────────────┼────────────┼─────────────┤\n",
            "│    Noca    │    North     │       Not       │     Not     │     Otto     │    Our     │ Outstanding │\n",
            "├────────────┼──────────────┼─────────────────┼─────────────┼──────────────┼────────────┼─────────────┤\n",
            "│    Palm    │    Panna     │    Paradise     │   Perfect   │ Philadelphia │    Pho     │     Pho     │\n",
            "├────────────┼──────────────┼─────────────────┼─────────────┼──────────────┼────────────┼─────────────┤\n",
            "│    Pho     │     Pho      │     Phoenix     │   Phoenix   │   Phoenix    │  Phoenix   │  Pineapple  │\n",
            "├────────────┼──────────────┼─────────────────┼─────────────┼──────────────┼────────────┼─────────────┤\n",
            "│    Pita    │    Pizza     │      Pizza      │    Place    │    Plater    │   Prices   │    Pros     │\n",
            "├────────────┼──────────────┼─────────────────┼─────────────┼──────────────┼────────────┼─────────────┤\n",
            "│   Ramsey   │    Really    │      Rice       │    Rick     │   Risotto    │    Rock    │    Roll     │\n",
            "├────────────┼──────────────┼─────────────────┼─────────────┼──────────────┼────────────┼─────────────┤\n",
            "│   Salad    │    Salads    │       San       │     Sat     │  Scottsdale  │    Seat    │   Service   │\n",
            "├────────────┼──────────────┼─────────────────┼─────────────┼──────────────┼────────────┼─────────────┤\n",
            "│  Service   │     Shop     │   Smashburger   │     Soi     │    Soups     │    Sour    │   Sprouts   │\n",
            "├────────────┼──────────────┼─────────────────┼─────────────┼──────────────┼────────────┼─────────────┤\n",
            "│  Standard  │    Stars     │      Steak      │    Steak    │   Steiners   │   Steve    │    Strip    │\n",
            "├────────────┼──────────────┼─────────────────┼─────────────┼──────────────┼────────────┼─────────────┤\n",
            "│   Strip    │    Subway    │     Subway      │   Subway    │     Sun      │   Sunday   │    Sushi    │\n",
            "├────────────┼──────────────┼─────────────────┼─────────────┼──────────────┼────────────┼─────────────┤\n",
            "│    Taco    │    Tasty     │      Thai       │    Thai     │     Thai     │    Thai    │    Thai     │\n",
            "├────────────┼──────────────┼─────────────────┼─────────────┼──────────────┼────────────┼─────────────┤\n",
            "│    The     │     The      │       The       │     The     │     They     │    They    │    This     │\n",
            "├────────────┼──────────────┼─────────────────┼─────────────┼──────────────┼────────────┼─────────────┤\n",
            "│   Thumbs   │  Tigerlilly  │       To        │    Toast    │    Tucson    │     Up     │   Valley    │\n",
            "├────────────┼──────────────┼─────────────────┼─────────────┼──────────────┼────────────┼─────────────┤\n",
            "│   Valley   │    Vegas     │      Vegas      │    Vegas    │    Vegas     │   Vegas    │    Vegas    │\n",
            "├────────────┼──────────────┼─────────────────┼─────────────┼──────────────┼────────────┼─────────────┤\n",
            "│   Vegas    │    Vegas     │      Vegas      │    Vegas    │    Vegas     │   Vegas    │    Vegas    │\n",
            "├────────────┼──────────────┼─────────────────┼─────────────┼──────────────┼────────────┼─────────────┤\n",
            "│   Vegas    │    Vegas     │      Vegas      │    Vegas    │    Vegas     │   Vegas    │    Vegas    │\n",
            "├────────────┼──────────────┼─────────────────┼─────────────┼──────────────┼────────────┼─────────────┤\n",
            "│   Vegas    │    Vegas     │   Vegetarian    │ Veggitarian │     Very     │    Very    │    Very     │\n",
            "├────────────┼──────────────┼─────────────────┼─────────────┼──────────────┼────────────┼─────────────┤\n",
            "│   Voodoo   │     When     │ Wienerschnitzel │    Wife     │     Yama     │    Yeah    │   Yelpers   │\n",
            "╘════════════╧══════════════╧═════════════════╧═════════════╧══════════════╧════════════╧═════════════╛\n",
            "El número total de resultados obtenidos es: \u001b[32m\u001b[1m266\u001b[0m\n"
          ]
        }
      ]
    },
    {
      "cell_type": "markdown",
      "source": [
        "*   **Pregunta 11.**  \n",
        "\n",
        "Busca e imprime la secuencia de dos o más palabras que están separadas por un guion, \"-\", sin que tengan espacios en blanco entre ellas.\n",
        "\n",
        "Por ejemplo \"Go-Kart\" sería válido, pero \"Go  -Kart\" o \"Go  -  Kart\" no lo serían.\n",
        "\n",
        "Indica la cantidad de resultados obtenidos."
      ],
      "metadata": {
        "id": "u7nfm4KhMrNW"
      }
    },
    {
      "cell_type": "code",
      "source": [
        "patron_11 = r\"\\b\\w+-\\w+(?:-\\w+)*\\b\"\n",
        "\n",
        "palabras_11 = []\n",
        "for comentario in comentarios_sin_saltos:\n",
        "  palabras_11.extend(re.findall(patron_11, comentario))\n",
        "\n",
        "total_guion = imprimir_resultado(palabras_11,5)\n",
        "resultados.append((\"Palabras con guiones\",total_guion))"
      ],
      "metadata": {
        "id": "OwU-a7eGMsub",
        "colab": {
          "base_uri": "https://localhost:8080/"
        },
        "outputId": "dc5677de-9744-470c-e0dd-077f5a7fcf99"
      },
      "execution_count": null,
      "outputs": [
        {
          "output_type": "stream",
          "name": "stdout",
          "text": [
            "╒══════════════╤═══════════════╤════════════════════════════════════════╤════════════════╤═══════════════╕\n",
            "│ High-quality │ Service-check │ been-stepped-in-and-tracked-everywhere │   flat-lined   │ golden-crispy │\n",
            "├──────────────┼───────────────┼────────────────────────────────────────┼────────────────┼───────────────┤\n",
            "│  hands-down  │   in-house    │                low-key                 │  multi-grain   │   must-stop   │\n",
            "├──────────────┼───────────────┼────────────────────────────────────────┼────────────────┼───────────────┤\n",
            "│ non-customer │   non-fancy   │                over-hip                │  over-priced   │  over-whelm   │\n",
            "├──────────────┼───────────────┼────────────────────────────────────────┼────────────────┼───────────────┤\n",
            "│   sit-down   │    sub-par    │                 to-go                  │ under-services │               │\n",
            "╘══════════════╧═══════════════╧════════════════════════════════════════╧════════════════╧═══════════════╛\n",
            "El número total de resultados obtenidos es: \u001b[32m\u001b[1m19\u001b[0m\n"
          ]
        }
      ]
    },
    {
      "cell_type": "markdown",
      "source": [
        "*   **Pregunta 12.**  \n",
        "\n",
        "Busca e imprime todas las palabras que terminan en \"ing\" o \"ed\".\n",
        "\n",
        "Indica la cantidad de palabras que encontraste de cada una."
      ],
      "metadata": {
        "id": "DEIgl79HMthr"
      }
    },
    {
      "cell_type": "code",
      "source": [
        "patron_ing = r\"\\b\\w+ing\\b\"\n",
        "patron_ed = r\"\\b\\w+ed\\b\"\n",
        "\n",
        "# Buscar palabras que coincidan con cada patrón\n",
        "palabras_ing = []\n",
        "palabras_ed = []\n",
        "for comentario in comentarios_sin_saltos:\n",
        "  palabras_ing.extend(re.findall(patron_ing, comentario))\n",
        "  palabras_ed.extend(re.findall(patron_ed, comentario))\n",
        "\n",
        "total_ing = imprimir_resultado(palabras_ing,7)\n",
        "total_ed = imprimir_resultado(palabras_ed,7)\n",
        "\n",
        "resultados.append((\"Palabras terminadas en ing\",total_ing))\n",
        "resultados.append((\"Palabras terminadas en ed\",total_ed))"
      ],
      "metadata": {
        "id": "I4TSofBMMv9y",
        "colab": {
          "base_uri": "https://localhost:8080/"
        },
        "outputId": "b2298c3f-ac37-4953-bc4b-60d7211715df"
      },
      "execution_count": null,
      "outputs": [
        {
          "output_type": "stream",
          "name": "stdout",
          "text": [
            "╒═══════════════╤═══════════════╤═══════════════╤═══════════════╤═══════════════╤═════════════╤═══════════════╕\n",
            "│    Coming     │ Disappointing │  Everything   │  Everything   │  Everything   │ Everything  │  Everything   │\n",
            "├───────────────┼───────────────┼───────────────┼───────────────┼───────────────┼─────────────┼───────────────┤\n",
            "│  Everything   │  Interesting  │    Nothing    │  Outstanding  │    Paying     │   Pricing   │    amazing    │\n",
            "├───────────────┼───────────────┼───────────────┼───────────────┼───────────────┼─────────────┼───────────────┤\n",
            "│    amazing    │    amazing    │    amazing    │    amazing    │    amazing    │   amazing   │    amazing    │\n",
            "├───────────────┼───────────────┼───────────────┼───────────────┼───────────────┼─────────────┼───────────────┤\n",
            "│    amazing    │    amazing    │    amazing    │    amazing    │    amazing    │   amazing   │    amazing    │\n",
            "├───────────────┼───────────────┼───────────────┼───────────────┼───────────────┼─────────────┼───────────────┤\n",
            "│    amazing    │    amazing    │    amazing    │    amazing    │    amazing    │   amazing   │    amazing    │\n",
            "├───────────────┼───────────────┼───────────────┼───────────────┼───────────────┼─────────────┼───────────────┤\n",
            "│    amazing    │    amazing    │   annoying    │   anything    │   anything    │  appalling  │   appealing   │\n",
            "├───────────────┼───────────────┼───────────────┼───────────────┼───────────────┼─────────────┼───────────────┤\n",
            "│   arriving    │    asking     │     being     │     being     │     being     │    being    │     being     │\n",
            "├───────────────┼───────────────┼───────────────┼───────────────┼───────────────┼─────────────┼───────────────┤\n",
            "│     being     │     being     │     being     │     being     │     being     │    being    │     being     │\n",
            "├───────────────┼───────────────┼───────────────┼───────────────┼───────────────┼─────────────┼───────────────┤\n",
            "│     being     │     being     │    boring     │     bring     │     bring     │    bring    │     bring     │\n",
            "├───────────────┼───────────────┼───────────────┼───────────────┼───────────────┼─────────────┼───────────────┤\n",
            "│     bring     │   building    │   building    │    buying     │    caring     │  changing   │   charming    │\n",
            "├───────────────┼───────────────┼───────────────┼───────────────┼───────────────┼─────────────┼───────────────┤\n",
            "│   climbing    │    coming     │    coming     │    coming     │    coming     │   coming    │    coming     │\n",
            "├───────────────┼───────────────┼───────────────┼───────────────┼───────────────┼─────────────┼───────────────┤\n",
            "│    coming     │    coming     │    coming     │  considering  │  considering  │ considering │  considering  │\n",
            "├───────────────┼───────────────┼───────────────┼───────────────┼───────────────┼─────────────┼───────────────┤\n",
            "│    cooking    │   cramming    │    craving    │    dealing    │    dealing    │ describing  │    dining     │\n",
            "├───────────────┼───────────────┼───────────────┼───────────────┼───────────────┼─────────────┼───────────────┤\n",
            "│    dining     │    dining     │    dining     │    dining     │    dining     │   dining    │    dining     │\n",
            "├───────────────┼───────────────┼───────────────┼───────────────┼───────────────┼─────────────┼───────────────┤\n",
            "│    dipping    │ disappointing │ disappointing │ disappointing │ disappointing │ disgusting  │  disgusting   │\n",
            "├───────────────┼───────────────┼───────────────┼───────────────┼───────────────┼─────────────┼───────────────┤\n",
            "│     doing     │    drawing    │   dressing    │   dressing    │   dressing    │  drinking   │   dripping    │\n",
            "├───────────────┼───────────────┼───────────────┼───────────────┼───────────────┼─────────────┼───────────────┤\n",
            "│    driving    │    during     │    during     │    during     │    during     │   during    │    eating     │\n",
            "├───────────────┼───────────────┼───────────────┼───────────────┼───────────────┼─────────────┼───────────────┤\n",
            "│    eating     │    eating     │    eating     │    eating     │    eating     │   eating    │    eating     │\n",
            "├───────────────┼───────────────┼───────────────┼───────────────┼───────────────┼─────────────┼───────────────┤\n",
            "│    editing    │    evening    │    evening    │  everything   │  everything   │ everything  │  everything   │\n",
            "├───────────────┼───────────────┼───────────────┼───────────────┼───────────────┼─────────────┼───────────────┤\n",
            "│  everything   │  everything   │   exceeding   │ experiencing  │    falling    │   feeling   │    feeling    │\n",
            "├───────────────┼───────────────┼───────────────┼───────────────┼───────────────┼─────────────┼───────────────┤\n",
            "│    filling    │    filling    │   flirting    │  forgetting   │   freaking    │   fucking   │    getting    │\n",
            "├───────────────┼───────────────┼───────────────┼───────────────┼───────────────┼─────────────┼───────────────┤\n",
            "│    getting    │    getting    │    getting    │    getting    │    getting    │   getting   │    getting    │\n",
            "├───────────────┼───────────────┼───────────────┼───────────────┼───────────────┼─────────────┼───────────────┤\n",
            "│    giving     │     going     │     going     │     going     │     going     │    going    │     going     │\n",
            "├───────────────┼───────────────┼───────────────┼───────────────┼───────────────┼─────────────┼───────────────┤\n",
            "│     going     │     going     │     going     │     going     │     going     │    going    │     going     │\n",
            "├───────────────┼───────────────┼───────────────┼───────────────┼───────────────┼─────────────┼───────────────┤\n",
            "│     going     │     going     │     going     │     going     │     going     │  handling   │   hankering   │\n",
            "├───────────────┼───────────────┼───────────────┼───────────────┼───────────────┼─────────────┼───────────────┤\n",
            "│    having     │    hoping     │   including   │  interesting  │  interesting  │  inviting   │    judging    │\n",
            "├───────────────┼───────────────┼───────────────┼───────────────┼───────────────┼─────────────┼───────────────┤\n",
            "│    lacking    │    lacking    │    lacking    │    letting    │   lighting    │   liking    │    living     │\n",
            "├───────────────┼───────────────┼───────────────┼───────────────┼───────────────┼─────────────┼───────────────┤\n",
            "│    looking    │    looking    │    loving     │  maintaining  │    making     │   missing   │    nothing    │\n",
            "├───────────────┼───────────────┼───────────────┼───────────────┼───────────────┼─────────────┼───────────────┤\n",
            "│    nothing    │    nothing    │    nothing    │    nothing    │    nothing    │  ordering   │  outshining   │\n",
            "├───────────────┼───────────────┼───────────────┼───────────────┼───────────────┼─────────────┼───────────────┤\n",
            "│  outstanding  │  outstanding  │    playing    │    playing    │   poisoning   │  preparing  │   preparing   │\n",
            "├───────────────┼───────────────┼───────────────┼───────────────┼───────────────┼─────────────┼───────────────┤\n",
            "│    pricing    │   providing   │    putting    │    rating     │    raving     │   reading   │ recommending  │\n",
            "├───────────────┼───────────────┼───────────────┼───────────────┼───────────────┼─────────────┼───────────────┤\n",
            "│   redeeming   │  refreshing   │   returning   │   reviewing   │  revisiting   │  rotating   │    running    │\n",
            "├───────────────┼───────────────┼───────────────┼───────────────┼───────────────┼─────────────┼───────────────┤\n",
            "│    running    │    running    │    running    │   satifying   │  satisfying   │ satisfying  │    saving     │\n",
            "├───────────────┼───────────────┼───────────────┼───────────────┼───────────────┼─────────────┼───────────────┤\n",
            "│    saying     │   seasoning   │    seating    │    seating    │    seating    │   serving   │    serving    │\n",
            "├───────────────┼───────────────┼───────────────┼───────────────┼───────────────┼─────────────┼───────────────┤\n",
            "│    setting    │    setting    │    setting    │   shopping    │    sitting    │   sitting   │   something   │\n",
            "├───────────────┼───────────────┼───────────────┼───────────────┼───────────────┼─────────────┼───────────────┤\n",
            "│   something   │   something   │   something   │   sporting    │    spring     │  starving   │    staying    │\n",
            "├───────────────┼───────────────┼───────────────┼───────────────┼───────────────┼─────────────┼───────────────┤\n",
            "│    staying    │    talking    │     thing     │     thing     │     thing     │    thing    │     thing     │\n",
            "├───────────────┼───────────────┼───────────────┼───────────────┼───────────────┼─────────────┼───────────────┤\n",
            "│     thing     │     thing     │     thing     │   thinking    │    trying     │   trying    │ underwhelming │\n",
            "├───────────────┼───────────────┼───────────────┼───────────────┼───────────────┼─────────────┼───────────────┤\n",
            "│ underwhelming │ unsatisfying  │   upgrading   │   venturing   │    waiting    │   waiting   │    waiting    │\n",
            "├───────────────┼───────────────┼───────────────┼───────────────┼───────────────┼─────────────┼───────────────┤\n",
            "│    waiting    │    waiting    │    wasting    │    wasting    │    working    │   writing   │               │\n",
            "╘═══════════════╧═══════════════╧═══════════════╧═══════════════╧═══════════════╧═════════════╧═══════════════╛\n",
            "El número total de resultados obtenidos es: \u001b[32m\u001b[1m279\u001b[0m\n",
            "╒══════════════╤══════════════╤═══════════════╤══════════════╤══════════════╤══════════════╤══════════════╕\n",
            "│    Based     │    Cooked    │ Disappointed  │    Loved     │    Loved     │   Ordered    │   Ordered    │\n",
            "├──────────────┼──────────────┼───────────────┼──────────────┼──────────────┼──────────────┼──────────────┤\n",
            "│   Ordered    │  Overpriced  │    Stopped    │   Stopped    │    Tasted    │    Tried     │    Waited    │\n",
            "├──────────────┼──────────────┼───────────────┼──────────────┼──────────────┼──────────────┼──────────────┤\n",
            "│    Waited    │ acknowledged │ acknowledged  │    added     │    added     │ anticipated  │   arrived    │\n",
            "├──────────────┼──────────────┼───────────────┼──────────────┼──────────────┼──────────────┼──────────────┤\n",
            "│   arrived    │   arrived    │     asked     │    asked     │    asked     │    asked     │    asked     │\n",
            "├──────────────┼──────────────┼───────────────┼──────────────┼──────────────┼──────────────┼──────────────┤\n",
            "│   attached   │   avoided    │    boiled     │    burned    │   charged    │   cheated    │   checked    │\n",
            "├──────────────┼──────────────┼───────────────┼──────────────┼──────────────┼──────────────┼──────────────┤\n",
            "│   checked    │   checked    │    claimed    │    closed    │ constructed  │  contained   │    cooked    │\n",
            "├──────────────┼──────────────┼───────────────┼──────────────┼──────────────┼──────────────┼──────────────┤\n",
            "│    cooked    │    cooked    │    cooked     │    cooked    │    cooked    │   covered    │   decided    │\n",
            "├──────────────┼──────────────┼───────────────┼──────────────┼──────────────┼──────────────┼──────────────┤\n",
            "│   decided    │  decorated   │   decorated   │  dedicated   │   desired    │ disappointed │ disappointed │\n",
            "├──────────────┼──────────────┼───────────────┼──────────────┼──────────────┼──────────────┼──────────────┤\n",
            "│ disappointed │ disappointed │ disappointed  │ disappointed │ disappointed │ disappointed │ disappointed │\n",
            "├──────────────┼──────────────┼───────────────┼──────────────┼──────────────┼──────────────┼──────────────┤\n",
            "│ disappointed │ disappointed │ disappointed  │ disappointed │ disappointed │ disappointed │ disappointed │\n",
            "├──────────────┼──────────────┼───────────────┼──────────────┼──────────────┼──────────────┼──────────────┤\n",
            "│ disappointed │ disappointed │   disgusted   │ disrespected │ disrespected │   dreamed    │   drenched   │\n",
            "├──────────────┼──────────────┼───────────────┼──────────────┼──────────────┼──────────────┼──────────────┤\n",
            "│   dressed    │    dried     │    dropped    │    dusted    │    ended     │    ended     │   enjoyed    │\n",
            "├──────────────┼──────────────┼───────────────┼──────────────┼──────────────┼──────────────┼──────────────┤\n",
            "│   enjoyed    │   enjoyed    │    enjoyed    │   enjoyed    │    ensued    │   expanded   │   expected   │\n",
            "├──────────────┼──────────────┼───────────────┼──────────────┼──────────────┼──────────────┼──────────────┤\n",
            "│   expected   │   expected   │  experienced  │     eyed     │   figured    │   flavored   │   focused    │\n",
            "├──────────────┼──────────────┼───────────────┼──────────────┼──────────────┼──────────────┼──────────────┤\n",
            "│   focused    │    fried     │     fried     │    fried     │    fried     │    fried     │  frustrated  │\n",
            "├──────────────┼──────────────┼───────────────┼──────────────┼──────────────┼──────────────┼──────────────┤\n",
            "│   greeted    │   greeted    │    grilled    │   grilled    │   grossed    │   grossed    │    handed    │\n",
            "├──────────────┼──────────────┼───────────────┼──────────────┼──────────────┼──────────────┼──────────────┤\n",
            "│   handled    │   happened   │     hated     │    helped    │    helped    │ highlighted  │    hooked    │\n",
            "├──────────────┼──────────────┼───────────────┼──────────────┼──────────────┼──────────────┼──────────────┤\n",
            "│  humiliated  │     iced     │    ignored    │   imagined   │  impressed   │  impressed   │  impressed   │\n",
            "├──────────────┼──────────────┼───────────────┼──────────────┼──────────────┼──────────────┼──────────────┤\n",
            "│  impressed   │  impressed   │   impressed   │  impressed   │  impressed   │   included   │   inspired   │\n",
            "├──────────────┼──────────────┼───────────────┼──────────────┼──────────────┼──────────────┼──────────────┤\n",
            "│   insulted   │   insulted   │   insulted    │    lacked    │    lacked    │    lacked    │    liked     │\n",
            "├──────────────┼──────────────┼───────────────┼──────────────┼──────────────┼──────────────┼──────────────┤\n",
            "│    liked     │    liked     │    limited    │    lined     │    listed    │    lived     │   located    │\n",
            "├──────────────┼──────────────┼───────────────┼──────────────┼──────────────┼──────────────┼──────────────┤\n",
            "│    looked    │    looked    │     loved     │    loved     │    loved     │    loved     │    loved     │\n",
            "├──────────────┼──────────────┼───────────────┼──────────────┼──────────────┼──────────────┼──────────────┤\n",
            "│    loved     │   managed    │    melted     │    missed    │    mixed     │  mortified   │     need     │\n",
            "├──────────────┼──────────────┼───────────────┼──────────────┼──────────────┼──────────────┼──────────────┤\n",
            "│     need     │     need     │    needed     │    needed    │   offered    │    opened    │   opposed    │\n",
            "├──────────────┼──────────────┼───────────────┼──────────────┼──────────────┼──────────────┼──────────────┤\n",
            "│   ordered    │   ordered    │    ordered    │   ordered    │   ordered    │   ordered    │   ordered    │\n",
            "├──────────────┼──────────────┼───────────────┼──────────────┼──────────────┼──────────────┼──────────────┤\n",
            "│   ordered    │   ordered    │    ordered    │   ordered    │  overcooked  │  overcooked  │  overpriced  │\n",
            "├──────────────┼──────────────┼───────────────┼──────────────┼──────────────┼──────────────┼──────────────┤\n",
            "│  overpriced  │  overpriced  │  overpriced   │  overpriced  │ overwhelmed  │ overwhelmed  │    owned     │\n",
            "├──────────────┼──────────────┼───────────────┼──────────────┼──────────────┼──────────────┼──────────────┤\n",
            "│    packed    │    passed    │    passed     │  performed   │   perpared   │  petrified   │    placed    │\n",
            "├──────────────┼──────────────┼───────────────┼──────────────┼──────────────┼──────────────┼──────────────┤\n",
            "│   pleased    │   pleased    │    pleased    │    poured    │   powdered   │   prepared   │    priced    │\n",
            "├──────────────┼──────────────┼───────────────┼──────────────┼──────────────┼──────────────┼──────────────┤\n",
            "│    priced    │    priced    │  privileged   │  proclaimed  │   provided   │    pulled    │    pulled    │\n",
            "├──────────────┼──────────────┼───────────────┼──────────────┼──────────────┼──────────────┼──────────────┤\n",
            "│    pulled    │    puréed    │   qualified   │    rated     │    rated     │   realized   │   realized   │\n",
            "├──────────────┼──────────────┼───────────────┼──────────────┼──────────────┼──────────────┼──────────────┤\n",
            "│   received   │   received   │   received    │ recommended  │ recommended  │ recommended  │     red      │\n",
            "├──────────────┼──────────────┼───────────────┼──────────────┼──────────────┼──────────────┼──────────────┤\n",
            "│     red      │  refrained   │    refried    │   refused    │   reheated   │   relaxed    │  relocated   │\n",
            "├──────────────┼──────────────┼───────────────┼──────────────┼──────────────┼──────────────┼──────────────┤\n",
            "│   reminded   │ replenished  │   requested   │   returned   │    ripped    │    ripped    │   roasted    │\n",
            "├──────────────┼──────────────┼───────────────┼──────────────┼──────────────┼──────────────┼──────────────┤\n",
            "│   roasted    │    rolled    │    rushed     │  satisfied   │   screwed    │   seasoned   │   seasoned   │\n",
            "├──────────────┼──────────────┼───────────────┼──────────────┼──────────────┼──────────────┼──────────────┤\n",
            "│    seated    │    seated    │    seated     │    seated    │    seated    │    seemed    │    seemed    │\n",
            "├──────────────┼──────────────┼───────────────┼──────────────┼──────────────┼──────────────┼──────────────┤\n",
            "│    served    │    served    │    served     │    served    │    served    │    served    │   shocked    │\n",
            "├──────────────┼──────────────┼───────────────┼──────────────┼──────────────┼──────────────┼──────────────┤\n",
            "│    showed    │    sliced    │    sliced     │   smeared    │   smelled    │   started    │   started    │\n",
            "├──────────────┼──────────────┼───────────────┼──────────────┼──────────────┼──────────────┼──────────────┤\n",
            "│    stayed    │    stayed    │    stepped    │   stepped    │   stuffed    │   stuffed    │    sucked    │\n",
            "├──────────────┼──────────────┼───────────────┼──────────────┼──────────────┼──────────────┼──────────────┤\n",
            "│    sucked    │    sucked    │    sucked     │   supposed   │  surprised   │   tailored   │    tasted    │\n",
            "├──────────────┼──────────────┼───────────────┼──────────────┼──────────────┼──────────────┼──────────────┤\n",
            "│    tasted    │    tasted    │    tasted     │    tasted    │    tasted    │    tasted    │   thrilled   │\n",
            "├──────────────┼──────────────┼───────────────┼──────────────┼──────────────┼──────────────┼──────────────┤\n",
            "│   toasted    │   toasted    │    touched    │   tracked    │   treated    │   treated    │   treated    │\n",
            "├──────────────┼──────────────┼───────────────┼──────────────┼──────────────┼──────────────┼──────────────┤\n",
            "│    tried     │    tried     │     tried     │    tried     │    tried     │    tried     │   trimmed    │\n",
            "├──────────────┼──────────────┼───────────────┼──────────────┼──────────────┼──────────────┼──────────────┤\n",
            "│ undercooked  │ undercooked  │ unexperienced │  uninspired  │  untoasted   │  unwrapped   │   uploaded   │\n",
            "├──────────────┼──────────────┼───────────────┼──────────────┼──────────────┼──────────────┼──────────────┤\n",
            "│     used     │     used     │     used      │   visited    │   vomited    │    voted     │    waited    │\n",
            "├──────────────┼──────────────┼───────────────┼──────────────┼──────────────┼──────────────┼──────────────┤\n",
            "│    waited    │    waited    │    waited     │    waited    │    waited    │    waited    │    waited    │\n",
            "├──────────────┼──────────────┼───────────────┼──────────────┼──────────────┼──────────────┼──────────────┤\n",
            "│    walked    │    walked    │    walked     │    wanted    │    wanted    │    wanted    │    wasted    │\n",
            "├──────────────┼──────────────┼───────────────┼──────────────┼──────────────┼──────────────┼──────────────┤\n",
            "│   watched    │   watched    │    watched    │   watered    │  witnessed   │   wrapped    │              │\n",
            "╘══════════════╧══════════════╧═══════════════╧══════════════╧══════════════╧══════════════╧══════════════╛\n",
            "El número total de resultados obtenidos es: \u001b[32m\u001b[1m335\u001b[0m\n"
          ]
        }
      ]
    },
    {
      "cell_type": "markdown",
      "source": [
        "#**Parte 3. Proceso de limpieza.**"
      ],
      "metadata": {
        "id": "70StdqAZa9E9"
      }
    },
    {
      "cell_type": "markdown",
      "source": [
        "*   **Pregunta 13.**  \n",
        "\n",
        "Ahora realiza un proceso de limpieza del corpus que incluya los siguientes procesos:\n",
        "\n",
        "*   Solo se deben considerar caracteres alfabéticos. Es decir, se eliminan todos los signos de puntuación y caracteres especiales.\n",
        "*   Todos los caracteres alfabéticos se transforman a minúsculas.\n",
        "*   Se deben eliminar todos los espacios en blanco adicionales que se puedan encontrar en cada comentario.\n",
        "\n",
        "Al finalizar dicho proceso de limpieza, imprime el resultado de los primeros 10 comentarios resultantes.\n",
        "   \n",
        "\n",
        "\n"
      ],
      "metadata": {
        "id": "xaDUFXHrMvX2"
      }
    },
    {
      "cell_type": "code",
      "source": [
        "def limpiar_texto(texto):\n",
        "    comentarios_limpios = []\n",
        "    for comentario in texto:\n",
        "        comentario_limpio = re.sub(r'[^a-zA-Z\\s]', '', comentario)  # Solo mantener caracteres alfabéticos (y espacios)\n",
        "        comentario_limpio = comentario_limpio.lower()               # Convertir a minúsculas\n",
        "        comentario_limpio = re.sub(r'\\s+', ' ', comentario_limpio)  # Eliminar espacios en blanco adicionales\n",
        "        comentarios_limpios.append(comentario_limpio)\n",
        "    return comentarios_limpios\n"
      ],
      "metadata": {
        "id": "K3kQzPOPMx0w"
      },
      "execution_count": null,
      "outputs": []
    },
    {
      "cell_type": "code",
      "source": [
        "comentario_limpio = limpiar_texto(comentarios_sin_saltos)\n",
        "imprimir_resultado(comentario_limpio[:10],1)"
      ],
      "metadata": {
        "id": "mYEDlHSFMyJN",
        "colab": {
          "base_uri": "https://localhost:8080/"
        },
        "outputId": "f0ed9c99-3bbf-4dbd-a59b-e8b77b7d2dc1"
      },
      "execution_count": null,
      "outputs": [
        {
          "output_type": "stream",
          "name": "stdout",
          "text": [
            "╒════════════════════════════════════════════════════════════════════════════════════════════════════════════════╕\n",
            "│ a great touch                                                                                                  │\n",
            "├────────────────────────────────────────────────────────────────────────────────────────────────────────────────┤\n",
            "│ crust is not good                                                                                              │\n",
            "├────────────────────────────────────────────────────────────────────────────────────────────────────────────────┤\n",
            "│ honeslty it didnt taste that fresh                                                                             │\n",
            "├────────────────────────────────────────────────────────────────────────────────────────────────────────────────┤\n",
            "│ not tasty and the texture was just nasty                                                                       │\n",
            "├────────────────────────────────────────────────────────────────────────────────────────────────────────────────┤\n",
            "│ now i am getting angry and i want my damn pho                                                                  │\n",
            "├────────────────────────────────────────────────────────────────────────────────────────────────────────────────┤\n",
            "│ stopped by during the late may bank holiday off rick steve recommendation and loved it                         │\n",
            "├────────────────────────────────────────────────────────────────────────────────────────────────────────────────┤\n",
            "│ the fries were great too                                                                                       │\n",
            "├────────────────────────────────────────────────────────────────────────────────────────────────────────────────┤\n",
            "│ the potatoes were like rubber and you could tell they had been made up ahead of time being kept under a warmer │\n",
            "├────────────────────────────────────────────────────────────────────────────────────────────────────────────────┤\n",
            "│ the selection on the menu was great and so were the prices                                                     │\n",
            "├────────────────────────────────────────────────────────────────────────────────────────────────────────────────┤\n",
            "│ wow loved this place                                                                                           │\n",
            "╘════════════════════════════════════════════════════════════════════════════════════════════════════════════════╛\n",
            "El número total de resultados obtenidos es: \u001b[32m\u001b[1m10\u001b[0m\n"
          ]
        },
        {
          "output_type": "execute_result",
          "data": {
            "text/plain": [
              "10"
            ]
          },
          "metadata": {},
          "execution_count": 160
        }
      ]
    },
    {
      "cell_type": "markdown",
      "source": [
        "*   **Pregunta 14.**  \n",
        "\n",
        "Con el resultado de la limpieza obtenido en la pregunta anterior, realiza ahora un proceso de tokenización por palabras del corpus.\n",
        "\n",
        "Es decir, al final de este proceso de tokenización, debes tener como resultado una lista de listas, donde cada comentario estará tokenizado por palabras.\n",
        "\n",
        "Al terminar calcula el total de tokens obtenido en todo el corpus."
      ],
      "metadata": {
        "id": "WZwEhg2lUSAX"
      }
    },
    {
      "cell_type": "code",
      "source": [
        "comentarios_tokenizados = [comentario.split() for comentario in comentario_limpio]\n",
        "total_tokens = sum(len(comentario) for comentario in comentarios_tokenizados)\n",
        "\n",
        "resultados.append((\"Total de tokens\",total_tokens))\n",
        "print(f\"Total de tokens: \\033[32m\\033[1m{total_tokens}\\033[0m\")"
      ],
      "metadata": {
        "id": "kbAL9-v0V-jx",
        "colab": {
          "base_uri": "https://localhost:8080/"
        },
        "outputId": "ad10976f-23b6-4447-fca2-d735772628a4"
      },
      "execution_count": null,
      "outputs": [
        {
          "output_type": "stream",
          "name": "stdout",
          "text": [
            "Total de tokens: \u001b[32m\u001b[1m10777\u001b[0m\n"
          ]
        }
      ]
    },
    {
      "cell_type": "markdown",
      "source": [
        "*   **Pregunta 15.**  \n",
        "\n",
        "Finalmente, en este ejercicio definiremos nuestro conjunto de palabras \"stopwords\", las cuales deberás eliminar de todo el corpus.\n",
        "\n",
        "Recuerda que ejemplos de stopwords son artículos, adverbios, conectivos, etcétera, que tienen frecuencias de aparición muy altas en cualquier documento, pero que no brindan mucho significado en cuanto al significado de un enunciado.\n",
        "\n",
        "Con base a la lista de stopwords que se te proporciona, realiza un proceso de limpieza eliminando todas estas palabras del corpus obtenido en el ejercicio anterior.\n",
        "\n",
        "Obtener cuántos tokens/palabras quedan finalmente en todo el corpus.\n",
        "\n",
        "Obtener cuántos de estos tokens/palabras son diferentes, es decir, cuántos tokens únicos tendrá lo que llamaremos más adelante nuestro vocabulario."
      ],
      "metadata": {
        "id": "EFeu0OJ7WDPD"
      }
    },
    {
      "cell_type": "code",
      "source": [
        "# Considera la siguiente lista como tu conjunto de stopwords:\n",
        "mis_stopwords = ['i', 'me', 'my', 'myself', 'we', 'our', 'ours', 'ourselves', 'you', 'your', 'yours', 'he', 'him', 'his', 'himself', 'she', 'her', 'hers', 'herself', 'it', 'its', 'itself', 'they', 'them', 'their', 'theirs', 'themselves', 'what', 'which', 'who', 'whom', 'this', 'that', 'these', 'those', 'am', 'is', 'are', 'was', 'were', 'be', 'been', 'being', 'have', 'has', 'had', 'having', 'do', 'does', 'did', 'doing', 'a', 'an', 'the', 'and', 'but', 'if', 'or', 'because', 'as', 'until', 'while', 'of', 'at', 'by', 'for', 'with', 'about', 'against', 'between', 'into', 'through', 'during', 'before', 'after', 'above', 'below', 'to', 'from', 'up', 'down', 'in', 'out', 'on', 'over', 'under', 'again', 'further', 'then', 'once', 'here', 'there', 'when', 'where', 'why', 'how', 'all', 'any', 'both', 'each', 'few', 'more', 'most', 'other', 'some', 'such', 'only', 'own', 'same', 'so', 'than', 'too', 'very', 's', 't', 'can', 'will', 'just', 'should', 'now', 'll']"
      ],
      "metadata": {
        "id": "6FP4FF3KXGxm"
      },
      "execution_count": null,
      "outputs": []
    },
    {
      "cell_type": "code",
      "source": [
        "comentarios_sin_stopwords = []\n",
        "\n",
        "for comentario in comentarios_tokenizados:\n",
        "  comentarios_sin_stopwords.append([palabra for palabra in comentario if palabra not in mis_stopwords])\n",
        "\n",
        "total_tokens_restantes = sum(len(comentario) for comentario in comentarios_sin_stopwords)\n",
        "resultados.append((\"Total de tokens restantes\",total_tokens_restantes))\n",
        "\n",
        "print(f\"Total de tokens restantes: \\033[32m\\033[1m{total_tokens_restantes}\\033[0m\")\n",
        "\n",
        "# Calcular tokens únicos (vocabulario)\n",
        "tokens_unicos = set([palabra for comentario in comentarios_sin_stopwords for palabra in comentario])\n",
        "total_tokens_unicos = len(tokens_unicos)\n",
        "resultados.append((\"Total de tokens únicos\",total_tokens_unicos))\n",
        "print(f\"Total de tokens únicos (vocabulario): \\033[32m\\033[1m{total_tokens_unicos}\\033[0m\")"
      ],
      "metadata": {
        "id": "CD8yjyq1ZrwY",
        "colab": {
          "base_uri": "https://localhost:8080/"
        },
        "outputId": "65c54044-2930-451d-f0e1-7cf3b3403cac"
      },
      "execution_count": null,
      "outputs": [
        {
          "output_type": "stream",
          "name": "stdout",
          "text": [
            "Total de tokens restantes: \u001b[32m\u001b[1m5776\u001b[0m\n",
            "Total de tokens únicos (vocabulario): \u001b[32m\u001b[1m1941\u001b[0m\n"
          ]
        }
      ]
    },
    {
      "cell_type": "code",
      "source": [
        "print(\"Resumen de resultados obtenidos:\")\n",
        "print(tab.tabulate(resultados, tablefmt=\"fancy_grid\", stralign=\"left\"))"
      ],
      "metadata": {
        "id": "LyBhzb9GDchv",
        "colab": {
          "base_uri": "https://localhost:8080/"
        },
        "outputId": "a29e312b-0975-4845-d214-bc36f2b5b20b"
      },
      "execution_count": null,
      "outputs": [
        {
          "output_type": "stream",
          "name": "stdout",
          "text": [
            "Resumen de resultados obtenidos:\n",
            "╒══════════════════════════════════════════════════╤═══════╕\n",
            "│ Palabras con dos o más exclamaciones             │    26 │\n",
            "├──────────────────────────────────────────────────┼───────┤\n",
            "│ Palabras en mayúsculas                           │    85 │\n",
            "├──────────────────────────────────────────────────┼───────┤\n",
            "│ Comentarios en mayúsculas                        │     5 │\n",
            "├──────────────────────────────────────────────────┼───────┤\n",
            "│ Palabras con tilde                               │     3 │\n",
            "├──────────────────────────────────────────────────┼───────┤\n",
            "│ Cantidades numéricas                             │     8 │\n",
            "├──────────────────────────────────────────────────┼───────┤\n",
            "│ Palabras variante de love                        │    36 │\n",
            "├──────────────────────────────────────────────────┼───────┤\n",
            "│ Palabras variante de so                          │     4 │\n",
            "├──────────────────────────────────────────────────┼───────┤\n",
            "│ Palabras variante de good                        │     1 │\n",
            "├──────────────────────────────────────────────────┼───────┤\n",
            "│ Palabras largas                                  │   141 │\n",
            "├──────────────────────────────────────────────────┼───────┤\n",
            "│ Palabras con inicial mayúscula y final minúscula │   266 │\n",
            "├──────────────────────────────────────────────────┼───────┤\n",
            "│ Palabras con guiones                             │    19 │\n",
            "├──────────────────────────────────────────────────┼───────┤\n",
            "│ Palabras terminadas en ing                       │   279 │\n",
            "├──────────────────────────────────────────────────┼───────┤\n",
            "│ Palabras terminadas en ed                        │   335 │\n",
            "├──────────────────────────────────────────────────┼───────┤\n",
            "│ Total de tokens                                  │ 10777 │\n",
            "├──────────────────────────────────────────────────┼───────┤\n",
            "│ Total de tokens restantes                        │  5776 │\n",
            "├──────────────────────────────────────────────────┼───────┤\n",
            "│ Total de tokens únicos                           │  1941 │\n",
            "╘══════════════════════════════════════════════════╧═══════╛\n"
          ]
        }
      ]
    },
    {
      "cell_type": "markdown",
      "source": [
        "*   **Comentarios**\n",
        "\n",
        "Incluye finalmente tus comentarios de la actividad."
      ],
      "metadata": {
        "id": "NDbKkuxRbLoX"
      }
    },
    {
      "cell_type": "markdown",
      "source": [
        "En esta actividad se exploró el uso de las expresiones regulares, herramienta que se destaca por su utilidad y versatilidad al identificar patrones en los datos y adaptarlos a necesidades específicas. No solo facilitan la limpieza y normalización de la información, sino que también pueden aplicarse en otras áreas, como la validación de datos de entrada, la extracción de información clave y el análisis de grandes volúmenes de texto. Las expresiones regulares representan un recurso invaluable para optimizar y automatizar tareas que requieren precisión en el tratamiento de datos."
      ],
      "metadata": {
        "id": "o7fzbvqVbUGr"
      }
    },
    {
      "cell_type": "markdown",
      "source": [
        "##**Fin de la Actividad de la semana 2.**"
      ],
      "metadata": {
        "id": "PHaKw_6Ldbaf"
      }
    }
  ]
}