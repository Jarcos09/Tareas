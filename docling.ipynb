{
  "nbformat": 4,
  "nbformat_minor": 0,
  "metadata": {
    "colab": {
      "provenance": [],
      "authorship_tag": "ABX9TyPJY0MvhqdIuNuDmW4QSIFZ",
      "include_colab_link": true
    },
    "kernelspec": {
      "name": "python3",
      "display_name": "Python 3"
    },
    "language_info": {
      "name": "python"
    }
  },
  "cells": [
    {
      "cell_type": "markdown",
      "metadata": {
        "id": "view-in-github",
        "colab_type": "text"
      },
      "source": [
        "<a href=\"https://colab.research.google.com/github/Jarcos09/Tareas/blob/main/docling.ipynb\" target=\"_parent\"><img src=\"https://colab.research.google.com/assets/colab-badge.svg\" alt=\"Open In Colab\"/></a>"
      ]
    },
    {
      "cell_type": "code",
      "execution_count": 114,
      "metadata": {
        "id": "VNEuHNPV2uvV"
      },
      "outputs": [],
      "source": [
        "from docling.document_converter import DocumentConverter\n",
        "\n",
        "import pandas as pd\n",
        "import os"
      ]
    },
    {
      "cell_type": "code",
      "source": [
        "from huggingface_hub import login\n"
      ],
      "metadata": {
        "id": "szg9Y3lKVgre"
      },
      "execution_count": 115,
      "outputs": []
    },
    {
      "cell_type": "code",
      "source": [
        "# --- Configuración ---\n",
        "# Puedes usar una URL o una ruta a un archivo PDF local.\n",
        "# Para este ejemplo, usaré un PDF de ejemplo que podrías reemplazar.\n",
        "# Si tienes un PDF local, asegúrate de que la ruta sea correcta.\n",
        "\n",
        "# pdf_source = \"ruta/a/tu/documento.pdf\" # Descomenta y usa tu propio PDF local\n",
        "pdf_source = os.path.join('Documentos', 'Prueba.pdf')\n",
        "\n",
        "# --- Inicializar el conversor de Docling ---\n",
        "converter = DocumentConverter()\n",
        "\n",
        "print(f\"Procesando el PDF desde: {pdf_source}\")"
      ],
      "metadata": {
        "colab": {
          "base_uri": "https://localhost:8080/"
        },
        "id": "6UxJ7QyL35t3",
        "outputId": "cffd5f91-10a2-4983-a2f6-e02983fb5e58"
      },
      "execution_count": 116,
      "outputs": [
        {
          "output_type": "stream",
          "name": "stdout",
          "text": [
            "Procesando el PDF desde: Documentos/Prueba.pdf\n"
          ]
        }
      ]
    },
    {
      "cell_type": "code",
      "source": [
        "def imprime_tabla(tabla_data, num_rows, num_cols):\n",
        "\n",
        "  table_matrix = [[None for _ in range(num_cols)] for _ in range(num_rows)]\n",
        "\n",
        "  # 3. Llenar la matriz con el texto de las celdas\n",
        "  for cell in tabla_data.table_cells:\n",
        "      row_start = cell.start_row_offset_idx\n",
        "      col_start = cell.start_col_offset_idx\n",
        "      row_span = cell.row_span\n",
        "      col_span = cell.col_span\n",
        "      text = cell.text\n",
        "\n",
        "      # Asignar el texto a la posición correcta, considerando row_span y col_span\n",
        "      # Aunque en tus datos todos son span 1, este código es más robusto.\n",
        "      for r_offset in range(row_span):\n",
        "          for c_offset in range(col_span):\n",
        "              current_row = row_start + r_offset\n",
        "              current_col = col_start + c_offset\n",
        "              if 0 <= current_row < num_rows and 0 <= current_col < num_cols:\n",
        "                  table_matrix[current_row][current_col] = text\n",
        "              else:\n",
        "                  print(f\"Advertencia: Celda fuera de límites calculados: {cell}\")\n",
        "\n",
        "  # 4. Identificar los nombres de las columnas (headers)\n",
        "  column_names = [None] * num_cols\n",
        "  for cell in tabla_data.table_cells:\n",
        "      if cell.column_header:\n",
        "          # Asume que los encabezados están en el primer row_offset_idx de los headers\n",
        "          if cell.start_row_offset_idx == 0:\n",
        "              col_idx = cell.start_col_offset_idx\n",
        "              if 0 <= col_idx < num_cols:\n",
        "                  column_names[col_idx] = cell.text\n",
        "\n",
        "  # Si algunos nombres de columna no se encontraron o son None (por ejemplo, si la primera fila no tuviera encabezados para todas las columnas), puedes usar nombres genéricos\n",
        "  for i, name in enumerate(column_names):\n",
        "      if name is None:\n",
        "          column_names[i] = f'Columna_{i}'\n",
        "\n",
        "  # 5. Crear el DataFrame de pandas\n",
        "  # Eliminar la fila de encabezados de la matriz si los encabezados se usarán como nombres de columna\n",
        "  # En tu caso, los encabezados están en la fila 0 (start_row_offset_idx: 0)\n",
        "  # Así que los datos \"reales\" de la tabla empiezan desde la fila 1.\n",
        "  data_rows = table_matrix[1:] # Excluye la primera fila que son los headers\n",
        "\n",
        "  df = pd.DataFrame(data_rows, columns=column_names)\n",
        "\n",
        "  # Opcional: Si la primera columna 'No' es un índice y no un dato, puedes establecerla como índice\n",
        "  # Si es un dato que quieres conservar, simplemente omite esta línea.\n",
        "  if 'Columna_0' in df.columns:\n",
        "      df = df.set_index('Columna_0')\n",
        "\n",
        "  # Mostrar el DataFrame\n",
        "  print(\"\\nDataFrame generado:\")\n",
        "  print(df)\n",
        "\n",
        "  #df.to_csv(\"prueba.csv\", index=True, encoding=\"UTF-8\")"
      ],
      "metadata": {
        "id": "Qimxf5a8I1TY"
      },
      "execution_count": 117,
      "outputs": []
    },
    {
      "cell_type": "code",
      "source": [
        "try:\n",
        "    result = converter.convert(pdf_source)\n",
        "    doc = result.document\n",
        "\n",
        "    print(\"\\n--- Información General del Documento ---\")\n",
        "    dict_repr = doc.export_to_dict()\n",
        "    num_texts = len(dict_repr.get('texts', []))\n",
        "    num_tables = len(dict_repr.get('tables', []))\n",
        "\n",
        "    print(f\"Elementos de texto encontrados: {num_texts}\")\n",
        "    print(f\"Tablas encontradas: {num_tables}\")\n",
        "\n",
        "except Exception as e:\n",
        "    print(f\"Ocurrió un error al procesar el documento: {e}\")"
      ],
      "metadata": {
        "colab": {
          "base_uri": "https://localhost:8080/"
        },
        "id": "aYNlumsw3I9P",
        "outputId": "f5da2274-9b16-4569-9766-56b0e18f07af"
      },
      "execution_count": 123,
      "outputs": [
        {
          "output_type": "stream",
          "name": "stdout",
          "text": [
            "\n",
            "--- Información General del Documento ---\n",
            "Elementos de texto encontrados: 74\n",
            "Tablas encontradas: 3\n"
          ]
        }
      ]
    },
    {
      "cell_type": "code",
      "source": [
        " # --- Extraer y mostrar los primeros párrafos ---\n",
        "print(\"\\n--- Párrafos ---\")\n",
        "# Itera sobre los elementos del documento para encontrar párrafos.\n",
        "# Docling organiza el contenido en una estructura jerárquica.\n",
        "for item, _ in doc.iterate_items():\n",
        "  if item.label == \"text\":\n",
        "    palabras = item.text.split()\n",
        "    lineas = [' '.join(palabras[i:i+10]) for i in range(0, len(palabras), 10)]\n",
        "    parrafo_formateado = '\\n'.join(lineas)\n",
        "    print(f\"• {parrafo_formateado}\\n\")\n",
        "\n",
        "\n"
      ],
      "metadata": {
        "colab": {
          "base_uri": "https://localhost:8080/"
        },
        "id": "LKvw5dwZ3Kvn",
        "outputId": "46ee5bb8-c4ab-430a-9ab4-a583bc320226"
      },
      "execution_count": 124,
      "outputs": [
        {
          "output_type": "stream",
          "name": "stdout",
          "text": [
            "\n",
            "--- Párrafos ---\n",
            "• de Operación Administrativa Desconcentrada Regional en Tamaulipas SUBDELEGACION NUEVO LAREDO\n",
            "DEPARTAMENTO DE AFILIACION Órgano\n",
            "\n",
            "• LIC. JORGE AUGUSTO RIVAS BRES ABOGADO ÁREA JURIDICA\n",
            "\n",
            "• En seguimiento al oficio circular N'0952 17 9200/203 de fecha\n",
            "02 de Septiembre del 2022, girado por el Luis Gerardo\n",
            "Magaña Zaga Titular de la Unidad de Incorporación al Seguro\n",
            "Social; en el que se instruye a los Jefes de\n",
            "Departamento de Afiliación Vigencia de Subdelegaciones que integran esta OOAD\n",
            "Regional Tamaulipas, conforme identificar mensualmente a aquellos patrones marcados con\n",
            "causa 50 relacionados dentro del proceso interactivo AFIL-16 que resulte\n",
            "de la ejecución del Proceso Mensual de Patrones Vigentes Sin\n",
            "Trabajadores y Patrones Asociados por Número de Relación de Empresa\n",
            "Municipio 0 Primeras Ocho Posiciones de acuerdo a las fechas\n",
            "establecidas en la sexta columna del calendario RT8-110. Mtro. las\n",
            "\n",
            "• Por lo que una vez analizada la totalidad de la\n",
            "información, se solicita sirva informar si los patrones vinculados dentro\n",
            "del AFIL-16 de fecha 06/02/2025, cuentan con antecedentes de haber\n",
            "interpuesto algún medio de impugnación ante cualquier instancia y este\n",
            "se encuentre en sub judice, los cuales a continuación detallo:\n",
            "\n",
            "• Sin otro particular, recibe mi cordial saludo\n",
            "\n",
            "• LUCIA ISABEL CHIRINOS ZAVALA\n",
            "\n",
            "• Jefe deepartamento de Afiliación Vigencia\n",
            "\n",
            "• Analizo, revisó\n",
            "\n",
            "• Jefe de Oficina de Afiliación\n",
            "\n",
            "• cc. OFICINA DE AFILIACION\n",
            "\n",
            "• 2918 DEPARTAMENTO DE AFILIACIÓN VIGENCIA\n",
            "\n",
            "• Nuevo Laredo; Tamaulipas, a 10 de Febrero de mx gob\n",
            "\n",
            "• Órgano de Operación Administrativa Desconcentrada Regional en Tamaulipas SUBDELEGACION NUEVO\n",
            "LAREDO DEPARTAMENTO DE AFILIACION\n",
            "\n",
            "• LIC. MELISSA SAID AGUIRRE PRADO JEFE DE DEPARTAMENTO DE COBRANZA\n",
            "\n",
            "• En seguimiento al oficio circular N'0952 17 9200/203 de fecha\n",
            "02 de Septiembre del 2022, girado por el Mtro. Luis\n",
            "Gerardo Magaña Zaga Titular de la Unidad de Incorporación al\n",
            "Seguro Social, en el que se instruye a los Jefes\n",
            "de Departamento de Afiliación Vigencia de las Subdelegaciones que integran\n",
            "esta OOAD Regional Tamaulipas, conforme identificar mensualmente aquellos patrones marcados\n",
            "con causa 50 relacionados dentro del proceso interactivo AFIL-16 que\n",
            "resulte de la ejecución del Proceso Mensual de Patrones Vigentes\n",
            "Sin Trabajadores y Patrones Asociados por Número de Relación de\n",
            "Empresa Municipio 0 Primeras Ocho Posiciones de acuerdo a las\n",
            "fechas establecidas en la sexta columna del calendario RT8-110.\n",
            "\n",
            "• Por lo que una vez analizada la totalidad de la\n",
            "información; se solicita sirva informar si los patrones vinculados dentro\n",
            "del proceso interactivo AFIL-16 de fecha 06/02/2025, cuentan con antecedentes\n",
            "de créditos fiscales, los cuales a continuación detallo:\n",
            "\n",
            "• Sin otro particular, recibe mi cordial saludo.\n",
            "\n",
            "• Atentamente\n",
            "\n",
            "• \"Seguridad y Solidaridad Social\"\n",
            "\n",
            "• LUCIA ISABEL CHIRINOS ZAVALA\n",
            "\n",
            "• Jefe\n",
            "\n",
            "• Analizo revisó\n",
            "\n",
            "• cc OFICINA DE AFILIACION\n",
            "\n",
            "• 2918 DEPARTAMENTO DE AFILIACIÓN VIGENCIA\n",
            "\n",
            "• REF. 0121/2025 Nuevo Laredo; Tamaulipas, a 10 de Febrero de\n",
            "mx\n",
            "\n",
            "• Órgano de Operación Administrativa Desconcentrada Regional en Tamaulipas SUBDELEGACION NUEVO\n",
            "LAREDO DEPARTAMENTO DE AFILIACION\n",
            "\n",
            "• 2918 DEPARTAMENTO DE AFILIACIÓN VIGENCIA REF. 0120/2025 Nuevo Laredo; Tamaulipas,\n",
            "a 10 de Febrero de 2025\n",
            "\n",
            "• ENC. DE DEPARTAMENTO DE AUDITORIA PATRONES\n",
            "\n",
            "• En seguimiento al oficio circular N'0952 17 9200/203 de fecha\n",
            "02 de Septiembre del 2022, girado por el Mtro. Luis\n",
            "Gerardo Magaña Zaga Titular de la Unidad de Incorporación al\n",
            "Seguro Social, en el que se instruye a los Jefes\n",
            "de Departamento de Afiliación Vigencia de Subdelegaciones que integran esta\n",
            "OOAD Regional Tamaulipas, conforme identificar mensualmente a aquellos patrones marcados\n",
            "con causa 50 relacionados dentro del proceso interactivo AFIL-16 que\n",
            "resulte de la ejecución del Proceso Mensual de Patrones Vigentes\n",
            "Sin Trabajadores y Patrones Asociados por Número de Relación de\n",
            "Empresa Municipio 0 Primeras Ocho Posiciones de acuerdo a las\n",
            "fechas establecidas en la sexta columna del calendario RT8-110. las\n",
            "\n",
            "• Por lo que una vez analizada la totalidad de la\n",
            "información, se solicita sirva informar si los patrones vinculados dentro\n",
            "del proceso interactivo AFIL-16 de fecha 06/02/2024, cuentan con antecedentes\n",
            "de proceso de revisión; los cuales continuación detallo:\n",
            "\n",
            "• Sin otro particular, recibe mi cordial saludo\n",
            "\n",
            "• Analizo, revisó\n",
            "\n",
            "• cc OFICINA DE AFILIACION\n",
            "\n",
            "• mx 'gob\n",
            "\n"
          ]
        }
      ]
    },
    {
      "cell_type": "code",
      "source": [
        "print(\"\\n--- Tablas ---\")\n",
        "\n",
        "for item, _ in doc.iterate_items():\n",
        "    if item.label == \"table\":\n",
        "\n",
        "        max_row_idx = 0\n",
        "        max_col_idx = 0\n",
        "\n",
        "        for cell in item.data.table_cells:\n",
        "            if cell.end_row_offset_idx > max_row_idx:\n",
        "                max_row_idx = cell.end_row_offset_idx\n",
        "            if cell.end_col_offset_idx > max_col_idx:\n",
        "                max_col_idx = cell.end_col_offset_idx\n",
        "\n",
        "        num_rows = max_row_idx\n",
        "        num_cols = max_col_idx\n",
        "\n",
        "        print(f\"\\n• La tabla tiene {num_rows} renglones y {num_cols} columnas.\")\n",
        "        imprime_tabla(item.data, num_rows, num_cols)"
      ],
      "metadata": {
        "collapsed": true,
        "id": "psPti2pQ63b4",
        "colab": {
          "base_uri": "https://localhost:8080/"
        },
        "outputId": "e3c55cc5-ee54-4b3c-de17-f90c27fdcd28"
      },
      "execution_count": 125,
      "outputs": [
        {
          "output_type": "stream",
          "name": "stdout",
          "text": [
            "\n",
            "--- Tablas ---\n",
            "\n",
            "• La tabla tiene 21 renglones y 3 columnas.\n",
            "\n",
            "DataFrame generado:\n",
            "     No. REGISIRO PAIRONAL                                  PAIRON\n",
            "0   None       E9713201106                   LORENZO GARCIA RANGEL\n",
            "1   None       E9716452102              RENE RAYMUNDO GUERRA SILVA\n",
            "2      3       E9718175107               MARIA DE JESUS MU#OZ LUGO\n",
            "3   None       E9724796102                  GABRIEL VIELMA RAMIREZ\n",
            "4      5       E9730880106                   SERGIO HERRERA RAFAEL\n",
            "5      6       E9738651103                  JOSEFINA AVILA DELGADO\n",
            "6   None       E9739195100             GILBERTO RODRIGUEZ GONZALEZ\n",
            "7      8       E9739404106             MAGDALENA BRISE#O RODRIGUEZ\n",
            "8      9       E9739425101       JUANA GUADALUPE BARRAGAN MARTINEZ\n",
            "9   None       E9739441108           SANDRA ABIGAIL MARTINEZ BASTO\n",
            "10  None       E9739618101            LAURA YOLANDA ALVARADO REYES\n",
            "11  None       E9740493106                   HECTOR MOLANO ARIZOLA\n",
            "12    13       E9740987107                  EFRAIN MADRIGAL SILVAN\n",
            "13     1       E9741457100  ADMINISTRADORA DE HOTELES GRT SA DE CV\n",
            "14  None       E9741617109        AGENCIA ADUANAL ZAMUDIO SA DE CV\n",
            "15    16       E9741720101       CRISTINA ISABEL BALDERAS GORDILLO\n",
            "16    17       E9741900109                  MICHEL GUERRERO FLORES\n",
            "17    18       E9742199107             MARIA AZENETH GARZA MERCADO\n",
            "18    19       E9742274108             JUAN ALBERTO BAEZA GUERRERO\n",
            "19    20       E9742743102                 JOSE RAUL JUAREZ GUERRA\n",
            "\n",
            "• La tabla tiene 21 renglones y 3 columnas.\n",
            "\n",
            "DataFrame generado:\n",
            "      No REGISIRO PAIRONAL                                  PAIRON\n",
            "0   None       E9713201106                   LORENZO GARCIA RANGEL\n",
            "1   None       E9716452102              RENE RAYMUNDO GUERRA SILVA\n",
            "2   None       E9718175107               MARIA DE JESUS MU#OZ LUGO\n",
            "3   None       E9724796102                  GABRIEL VIELMA RAMIREZ\n",
            "4   None       E9730880106                   SERGIO HERRERA RAFAEL\n",
            "5   None       E9738651103                  JOSEFINA AVILA DELGADO\n",
            "6   None       E9739195100             GILBERTO RODRIGUEZ GONZALEZ\n",
            "7      8       E9739404106             MAGDALENA BRISE#O RODRIGUEZ\n",
            "8      9       E9739425101       JUANA GUADALUPE BARRAGAN MARTINEZ\n",
            "9     10       E9739441108           SANDRA ABIGAIL MARTINEZ BASTO\n",
            "10  None       E9739618101            LAURA YOLANDA ALVARADO REYES\n",
            "11    12       E9740493106                   HECTOR MOLANO ARIZOLA\n",
            "12     ;       E9740987107                  EFRAIN MADRIGAL SILVAN\n",
            "13  None       E9741457100  ADMINISTRADORA DE HOTELES GRT SA DE CV\n",
            "14  None       E9741617109        AGENCIA ADUANAL ZAMUDIO SA DE CV\n",
            "15    16       E9741720101       CRISTINA ISABEL BALDERAS GORDILLO\n",
            "16    17       E9741900109                  MICHEL GUERRERO FLORES\n",
            "17    18       E9742199107             MARIA AZENETH GARZA MERCADO\n",
            "18    19       E9742274108             JUAN ALBERTO BAEZA GUERRERO\n",
            "19    20       E9742743102                 JOSE RAUL JUAREZ GUERRA\n",
            "\n",
            "• La tabla tiene 21 renglones y 3 columnas.\n",
            "\n",
            "DataFrame generado:\n",
            "      No REGISIRO PAIRONAL                                  PATRON\n",
            "0   None       E9713201106                   LORENZO GARCIA RANGEL\n",
            "1   None       E9716452102              RENE RAYMUNDO GUERRA SILVA\n",
            "2      3       E9718175107               MARIA DE JESUS MU#OZ LUGO\n",
            "3   None       E9724796102                  GABRIEL VIELMA RAMIREZ\n",
            "4      5       E9730880106                   SERGIO HERRERA RAFAEL\n",
            "5      6       E9738651103                  JOSEFINA AVILA DELGADO\n",
            "6   None       E9739195100             GILBERTO RODRIGUEZ GONZALEZ\n",
            "7      8       E9739404106             MAGDALENA BRISE#O RODRIGUEZ\n",
            "8      9       E9739425101       JUANA GUADALUPE BARRAGAN MARTINEZ\n",
            "9     10       E9739441108           SANDRA ABIGAIL MARTINEZ BASTO\n",
            "10    11       E9739618101            LAURA YOLANDA ALVARADO REYES\n",
            "11    12       E9740493106                   HECTOR MOLANO ARIZOLA\n",
            "12    13       E9740987102                  EFRAIN MADRIGAL SILVAN\n",
            "13  None       E9741457100  ADMINISTRADORA DE HOTELES GRT SA DE CV\n",
            "14  None       E9741617109        AGENCIA ADUANAL ZAMUDIO SA DE CV\n",
            "15  None       E9741720101       CRISTINA ISABEL BALDERAS GORDILLO\n",
            "16    17       E9741900109                  MICHEL GUERRERO FLORES\n",
            "17    18       E9742199107             MARIA AZENETH GARZA MERCADO\n",
            "18    19       E9742274108             JUAN ALBERTO BAEZA GUERRERO\n",
            "19    20       E9742743102                 JOSE RAUL JUAREZ GUERRA\n"
          ]
        }
      ]
    }
  ]
}