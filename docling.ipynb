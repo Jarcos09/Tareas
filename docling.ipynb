{
  "nbformat": 4,
  "nbformat_minor": 0,
  "metadata": {
    "colab": {
      "provenance": [],
      "authorship_tag": "ABX9TyMbxSESqtYGuLflTcotG+le",
      "include_colab_link": true
    },
    "kernelspec": {
      "name": "python3",
      "display_name": "Python 3"
    },
    "language_info": {
      "name": "python"
    }
  },
  "cells": [
    {
      "cell_type": "markdown",
      "metadata": {
        "id": "view-in-github",
        "colab_type": "text"
      },
      "source": [
        "<a href=\"https://colab.research.google.com/github/Jarcos09/Tareas/blob/main/docling.ipynb\" target=\"_parent\"><img src=\"https://colab.research.google.com/assets/colab-badge.svg\" alt=\"Open In Colab\"/></a>"
      ]
    },
    {
      "cell_type": "code",
      "execution_count": null,
      "metadata": {
        "id": "VNEuHNPV2uvV"
      },
      "outputs": [],
      "source": [
        "from docling.document_converter import DocumentConverter\n",
        "\n",
        "import pandas as pd\n",
        "import os"
      ]
    },
    {
      "cell_type": "code",
      "source": [
        "from huggingface_hub import login"
      ],
      "metadata": {
        "id": "szg9Y3lKVgre"
      },
      "execution_count": null,
      "outputs": []
    },
    {
      "cell_type": "code",
      "source": [
        "# --- Configuración ---\n",
        "# Puedes usar una URL o una ruta a un archivo PDF local.\n",
        "# Para este ejemplo, usaré un PDF de ejemplo que podrías reemplazar.\n",
        "# Si tienes un PDF local, asegúrate de que la ruta sea correcta.\n",
        "\n",
        "# pdf_source = \"ruta/a/tu/documento.pdf\" # Descomenta y usa tu propio PDF local\n",
        "pdf_source = os.path.join('Documentos', 'PRUEBA.pdf')\n",
        "\n",
        "# --- Inicializar el conversor de Docling ---\n",
        "converter = DocumentConverter()\n",
        "\n",
        "print(f\"Procesando el PDF desde: {pdf_source}\")"
      ],
      "metadata": {
        "colab": {
          "base_uri": "https://localhost:8080/"
        },
        "id": "6UxJ7QyL35t3",
        "outputId": "6424386d-9c5e-4a76-a080-0f2b1e28b598"
      },
      "execution_count": null,
      "outputs": [
        {
          "output_type": "stream",
          "name": "stdout",
          "text": [
            "Procesando el PDF desde: Documentos/PRUEBA.pdf\n"
          ]
        }
      ]
    },
    {
      "cell_type": "code",
      "source": [
        "try:\n",
        "    # --- Convertir el documento ---\n",
        "    # Docling analizará el PDF y extraerá su estructura, texto, tablas, etc.\n",
        "    result = converter.convert(pdf_source)\n",
        "    doc = result.document\n",
        "\n",
        "    print(\"\\n--- Información General del Documento ---\")\n",
        "    dict_repr = doc.export_to_dict()\n",
        "    num_texts = len(dict_repr.get('texts', []))\n",
        "    num_tables = len(dict_repr.get('tables', []))\n",
        "\n",
        "    print(f\"Elementos de texto encontrados: {num_texts}\")\n",
        "    print(f\"Tablas encontradas: {num_tables}\")\n",
        "\n",
        "    # --- Extraer y mostrar los primeros párrafos ---\n",
        "    print(\"\\n--- Primeros Párrafos ---\")\n",
        "    # Itera sobre los elementos del documento para encontrar párrafos.\n",
        "    # Docling organiza el contenido en una estructura jerárquica.\n",
        "    paragraph_count = 0\n",
        "    for item, _ in doc.iterate_items():\n",
        "        if item.label == \"paragraph\":\n",
        "            print(f\"- {item.text[:200]}...\") # Imprime los primeros 200 caracteres de cada párrafo\n",
        "            paragraph_count += 1\n",
        "            if paragraph_count >= 5: # Mostrar solo los primeros 5 párrafos como ejemplo\n",
        "                break\n",
        "    if paragraph_count == 0:\n",
        "        print(\"No se encontraron párrafos.\")\n",
        "\n",
        "    # --- Extraer y mostrar tablas ---\n",
        "    print(\"\\n--- Tablas Encontradas ---\")\n",
        "    table_count = 0\n",
        "    if doc.tables:\n",
        "        for i, table_item in enumerate(doc.tables):\n",
        "            print(f\"\\nTabla {i + 1}:\")\n",
        "            try:\n",
        "                # Intenta exportar la tabla a Markdown o HTML\n",
        "                # Usaremos to_markdown() para una representación legible\n",
        "                table_markdown = table_item.to_markdown()\n",
        "                print(table_markdown)\n",
        "\n",
        "                # Si quieres intentar convertir a DataFrame de Pandas,\n",
        "                # a veces es posible si el Markdown es simple o lo conviertes a HTML primero.\n",
        "                # Para este ejemplo, solo mostraremos el Markdown.\n",
        "                # Si necesitas el DataFrame, podrías explorar librerías como `markdown_tables` o `tabulate`\n",
        "                # para parsear el markdown a una estructura que Pandas pueda leer.\n",
        "\n",
        "            except Exception as e:\n",
        "                print(f\"No se pudo exportar la tabla {i+1} a Markdown: {e}\")\n",
        "            table_count += 1\n",
        "    if table_count == 0:\n",
        "        print(\"No se encontraron tablas.\")\n",
        "\n",
        "    # --- Extracción de encabezados (headings) ---\n",
        "    print(\"\\n--- Encabezados (Headings) ---\")\n",
        "    heading_count = 0\n",
        "    for item, _ in doc.iterate_items():\n",
        "        if item.label == \"heading\":\n",
        "            print(f\"- Nivel {item.depth}: {item.text}\")\n",
        "            heading_count += 1\n",
        "            if heading_count >= 5: # Mostrar solo los primeros 5 encabezados como ejemplo\n",
        "                break\n",
        "    if heading_count == 0:\n",
        "        print(\"No se encontraron encabezados.\")\n",
        "\n",
        "\n",
        "except Exception as e:\n",
        "    print(f\"Ocurrió un error al procesar el documento: {e}\")"
      ],
      "metadata": {
        "colab": {
          "base_uri": "https://localhost:8080/"
        },
        "id": "aYNlumsw3I9P",
        "outputId": "04a91224-83f9-4972-f3ce-145ba820cc69"
      },
      "execution_count": null,
      "outputs": [
        {
          "output_type": "stream",
          "name": "stdout",
          "text": [
            "\n",
            "--- Información General del Documento ---\n",
            "Elementos de texto encontrados: 21\n",
            "Tablas encontradas: 1\n",
            "\n",
            "--- Primeros Párrafos ---\n",
            "No se encontraron párrafos.\n",
            "\n",
            "--- Tablas Encontradas ---\n",
            "\n",
            "Tabla 1:\n",
            "No se pudo exportar la tabla 1 a Markdown: 'TableItem' object has no attribute 'to_markdown'\n",
            "\n",
            "--- Encabezados (Headings) ---\n",
            "No se encontraron encabezados.\n"
          ]
        }
      ]
    },
    {
      "cell_type": "code",
      "source": [
        "tabla = dict_repr.get('tables')[0]"
      ],
      "metadata": {
        "collapsed": true,
        "id": "psPti2pQ63b4"
      },
      "execution_count": null,
      "outputs": []
    },
    {
      "cell_type": "code",
      "source": [
        "for celda in tabla['data']['table_cells']:\n",
        "  print(celda['text'])"
      ],
      "metadata": {
        "colab": {
          "base_uri": "https://localhost:8080/"
        },
        "id": "Qhgs8WlgHf84",
        "outputId": "275a17de-bca1-43b0-ee84-daaf69eb989a"
      },
      "execution_count": null,
      "outputs": [
        {
          "output_type": "stream",
          "name": "stdout",
          "text": [
            "No\n",
            "Registro Patronal\n",
            "Razón social\n",
            "E9211443101\n",
            "ENERGETICOS GOJISA SA DE C.V\n",
            "2\n",
            "F0513478100\n",
            "MAYA RHI SAUSI RODRIGUEZ\n",
            "3\n",
            "F0517821107\n",
            "PUGA AGUILAR JOSE GPE\n",
            "F0520223101\n",
            "MACARIO VELAZQUEZ CASTILLO\n",
            "F0541768100\n",
            "SOFTMAT SA DE CV\n",
            "F0542258101\n",
            "SUMINISTROS INDUSTRIALES ESPECIALIZADOS VICTORIA SA DE CV\n",
            "F0542563104\n",
            "GERARDO RODRIGUEZ LAVIN\n",
            "8\n",
            "F0542951101\n",
            "MIRIAM ELIZABETH RODRIGUEZ OCHOA\n",
            "9\n",
            "F0545695101\n",
            "EDNA KARINA GUZMAN CONDE\n",
            "10\n",
            "F0545797105\n",
            "ROSALBA GUADALUPE BRIONES MENDEZ\n",
            "11\n",
            "F0546298103\n",
            "VANESSA RAQUEL AGUIAR CASTAÑEDA\n",
            "12\n",
            "F0548077109\n",
            "SAUL ECHAVARRI NAVA\n",
            "13\n",
            "F0548723108\n",
            "JV CARTIN SA DE CV\n",
            "14\n",
            "Q1811715109\n",
            "JUVENTINO RUBEN LOZANO HERNANDEZ\n",
            "15\n",
            "Q1811758109\n",
            "PROVEEDORA DE EQUIPO DE LABORATORIO, CURACION Y MEDICAMENTO MANIF SA DECV\n",
            "16\n",
            "Q2510390103\n",
            "RAFAEL DE ALBA VARGAS\n",
            "17\n",
            "02511341105\n",
            "IRENE HERMELINDA CRUZ GUEVARA\n",
            "18\n",
            "X4910391104\n",
            "JULIO CESAR MEDINA HERNANDEZ\n",
            "19\n",
            "F0543726106\n",
            "BRENDA JUDITH LOZANO SOSA\n"
          ]
        }
      ]
    },
    {
      "cell_type": "code",
      "source": [
        "# 1. Determinar las dimensiones de la tabla\n",
        "max_row_idx = 0\n",
        "max_col_idx = 0\n",
        "\n",
        "for cell in tabla['data']['table_cells']:\n",
        "    # end_row_offset_idx es el límite exclusivo, así que el índice máximo es este valor - 1.\n",
        "    # Pero para la dimensión total, el end_row_offset_idx más alto ya nos da el número de filas.\n",
        "    if cell['end_row_offset_idx'] > max_row_idx:\n",
        "        max_row_idx = cell['end_row_offset_idx']\n",
        "    if cell['end_col_offset_idx'] > max_col_idx:\n",
        "        max_col_idx = cell['end_col_offset_idx']\n",
        "\n",
        "num_rows = max_row_idx\n",
        "num_cols = max_col_idx\n",
        "\n",
        "print(f\"La tabla tiene {num_rows} renglones y {num_cols} columnas.\")\n",
        "\n"
      ],
      "metadata": {
        "colab": {
          "base_uri": "https://localhost:8080/"
        },
        "id": "HYEoshdiIy79",
        "outputId": "f3201b6d-58be-4587-bff1-89d164a8209f"
      },
      "execution_count": null,
      "outputs": [
        {
          "output_type": "stream",
          "name": "stdout",
          "text": [
            "La tabla tiene 20 renglones y 3 columnas.\n"
          ]
        }
      ]
    },
    {
      "cell_type": "code",
      "source": [
        "# 2. Inicializar una matriz vacía para la tabla\n",
        "# Usamos None como valor predeterminado para celdas vacías\n",
        "table_matrix = [[None for _ in range(num_cols)] for _ in range(num_rows)]\n",
        "\n",
        "# 3. Llenar la matriz con el texto de las celdas\n",
        "for cell in tabla['data']['table_cells']:\n",
        "    row_start = cell['start_row_offset_idx']\n",
        "    col_start = cell['start_col_offset_idx']\n",
        "    row_span = cell['row_span']\n",
        "    col_span = cell['col_span']\n",
        "    text = cell['text']\n",
        "\n",
        "    # Asignar el texto a la posición correcta, considerando row_span y col_span\n",
        "    # Aunque en tus datos todos son span 1, este código es más robusto.\n",
        "    for r_offset in range(row_span):\n",
        "        for c_offset in range(col_span):\n",
        "            current_row = row_start + r_offset\n",
        "            current_col = col_start + c_offset\n",
        "            if 0 <= current_row < num_rows and 0 <= current_col < num_cols:\n",
        "                table_matrix[current_row][current_col] = text\n",
        "            else:\n",
        "                print(f\"Advertencia: Celda fuera de límites calculados: {cell}\")\n",
        "\n",
        "# 4. Identificar los nombres de las columnas (headers)\n",
        "column_names = [None] * num_cols\n",
        "for cell in tabla['data']['table_cells']:\n",
        "    if cell['column_header']:\n",
        "        # Asume que los encabezados están en el primer row_offset_idx de los headers\n",
        "        if cell['start_row_offset_idx'] == 0:\n",
        "            col_idx = cell['start_col_offset_idx']\n",
        "            if 0 <= col_idx < num_cols:\n",
        "                column_names[col_idx] = cell['text']\n",
        "\n",
        "# Si algunos nombres de columna no se encontraron o son None (por ejemplo, si la primera fila no tuviera encabezados para todas las columnas), puedes usar nombres genéricos\n",
        "for i, name in enumerate(column_names):\n",
        "    if name is None:\n",
        "        column_names[i] = f'Columna_{i}'\n",
        "\n",
        "# 5. Crear el DataFrame de pandas\n",
        "# Eliminar la fila de encabezados de la matriz si los encabezados se usarán como nombres de columna\n",
        "# En tu caso, los encabezados están en la fila 0 (start_row_offset_idx: 0)\n",
        "# Así que los datos \"reales\" de la tabla empiezan desde la fila 1.\n",
        "data_rows = table_matrix[1:] # Excluye la primera fila que son los headers\n",
        "\n",
        "df = pd.DataFrame(data_rows, columns=column_names)\n",
        "\n",
        "# Opcional: Si la primera columna 'No' es un índice y no un dato, puedes establecerla como índice\n",
        "# Si es un dato que quieres conservar, simplemente omite esta línea.\n",
        "if 'No' in df.columns:\n",
        "    df = df.set_index('No')\n",
        "\n",
        "# Mostrar el DataFrame\n",
        "print(\"\\nDataFrame generado:\")\n",
        "print(df)\n",
        "\n",
        "df.to_csv(\"prueba.csv\", index=True, encoding=\"latin1\")\n",
        "\n"
      ],
      "metadata": {
        "colab": {
          "base_uri": "https://localhost:8080/"
        },
        "id": "Qimxf5a8I1TY",
        "outputId": "c921ef27-2f50-4ec1-eab8-d2de7b83b630"
      },
      "execution_count": null,
      "outputs": [
        {
          "output_type": "stream",
          "name": "stdout",
          "text": [
            "\n",
            "DataFrame generado:\n",
            "     Registro Patronal                                       Razón social\n",
            "No                                                                       \n",
            "None       E9211443101                       ENERGETICOS GOJISA SA DE C.V\n",
            "2          F0513478100                           MAYA RHI SAUSI RODRIGUEZ\n",
            "3          F0517821107                              PUGA AGUILAR JOSE GPE\n",
            "None       F0520223101                         MACARIO VELAZQUEZ CASTILLO\n",
            "None       F0541768100                                   SOFTMAT SA DE CV\n",
            "None       F0542258101  SUMINISTROS INDUSTRIALES ESPECIALIZADOS VICTOR...\n",
            "None       F0542563104                            GERARDO RODRIGUEZ LAVIN\n",
            "8          F0542951101                   MIRIAM ELIZABETH RODRIGUEZ OCHOA\n",
            "9          F0545695101                           EDNA KARINA GUZMAN CONDE\n",
            "10         F0545797105                   ROSALBA GUADALUPE BRIONES MENDEZ\n",
            "11         F0546298103                    VANESSA RAQUEL AGUIAR CASTAÑEDA\n",
            "12         F0548077109                                SAUL ECHAVARRI NAVA\n",
            "13         F0548723108                                 JV CARTIN SA DE CV\n",
            "14         Q1811715109                   JUVENTINO RUBEN LOZANO HERNANDEZ\n",
            "15         Q1811758109  PROVEEDORA DE EQUIPO DE LABORATORIO, CURACION ...\n",
            "16         Q2510390103                              RAFAEL DE ALBA VARGAS\n",
            "17         02511341105                      IRENE HERMELINDA CRUZ GUEVARA\n",
            "18         X4910391104                       JULIO CESAR MEDINA HERNANDEZ\n",
            "19         F0543726106                          BRENDA JUDITH LOZANO SOSA\n"
          ]
        }
      ]
    },
    {
      "cell_type": "code",
      "source": [
        "dict_repr['texts'][21]"
      ],
      "metadata": {
        "colab": {
          "base_uri": "https://localhost:8080/",
          "height": 146
        },
        "id": "DwKOlTwWXOeV",
        "outputId": "e7a3c0dc-1a5c-449c-d3fb-205543565120"
      },
      "execution_count": null,
      "outputs": [
        {
          "output_type": "error",
          "ename": "IndexError",
          "evalue": "list index out of range",
          "traceback": [
            "\u001b[31m---------------------------------------------------------------------------\u001b[39m",
            "\u001b[31mIndexError\u001b[39m                                Traceback (most recent call last)",
            "\u001b[36mCell\u001b[39m\u001b[36m \u001b[39m\u001b[32mIn[64]\u001b[39m\u001b[32m, line 1\u001b[39m\n\u001b[32m----> \u001b[39m\u001b[32m1\u001b[39m \u001b[43mdict_repr\u001b[49m\u001b[43m[\u001b[49m\u001b[33;43m'\u001b[39;49m\u001b[33;43mtexts\u001b[39;49m\u001b[33;43m'\u001b[39;49m\u001b[43m]\u001b[49m\u001b[43m[\u001b[49m\u001b[32;43m21\u001b[39;49m\u001b[43m]\u001b[49m\n",
            "\u001b[31mIndexError\u001b[39m: list index out of range"
          ]
        }
      ]
    }
  ]
}