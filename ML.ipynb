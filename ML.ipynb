{
  "nbformat": 4,
  "nbformat_minor": 0,
  "metadata": {
    "colab": {
      "provenance": [],
      "mount_file_id": "1Jab2DUXez4z1kx-o-Btc9jKPcoslob_t",
      "authorship_tag": "ABX9TyMqYiiFh9VtXz2mr12nHqcK",
      "include_colab_link": true
    },
    "kernelspec": {
      "name": "python3",
      "display_name": "Python 3"
    },
    "language_info": {
      "name": "python"
    }
  },
  "cells": [
    {
      "cell_type": "markdown",
      "metadata": {
        "id": "view-in-github",
        "colab_type": "text"
      },
      "source": [
        "<a href=\"https://colab.research.google.com/github/Jarcos09/Tareas/blob/main/ML.ipynb\" target=\"_parent\"><img src=\"https://colab.research.google.com/assets/colab-badge.svg\" alt=\"Open In Colab\"/></a>"
      ]
    },
    {
      "cell_type": "markdown",
      "source": [
        "# 🎓 **Inteligencia Artificial Aplicada**\n",
        "\n",
        "## 🤖 **Análisis de grandes volúmenes de datos (Gpo 10)**\n",
        "\n",
        "### 🏛️ Tecnológico de Monterrey\n",
        "\n",
        "#### 👨‍🏫 **Profesor titular :** Dr. Iván Olmos Pineda\n",
        "#### 👩‍🏫 **Profesor asistente :** Verónica Sandra Guzmán de Valle\n",
        "\n",
        "### 📊 **Proyecto | Base de Datos de Big Data**\n",
        "\n",
        "#### 📅 **04 de mayo de 2025**\n",
        "### 👥 Equipo 29\n",
        "\n",
        "* 🧑‍💻 **A01795941 :** Juan Carlos Pérez Nava\n",
        "* 🧑‍💻 **A01016093 :** Oscar Enrique García García\n",
        "* 🧑‍💻 **A01795164 :** Oscar Andrés Ponce Parra\n",
        "\n"
      ],
      "metadata": {
        "id": "XLo2RHbqcPHa"
      }
    },
    {
      "cell_type": "code",
      "source": [
        "import os\n",
        "import sys\n",
        "module_path = os.path.abspath(os.path.join('proyectos/librerias'))\n",
        "if module_path not in sys.path:\n",
        "    sys.path.append(module_path)\n",
        "from graficas import *\n",
        "\n",
        "from pyspark.sql import SparkSession\n",
        "from pyspark.sql.functions import col, sum, avg\n",
        "from pyspark.ml.feature import StringIndexer, OneHotEncoder\n",
        "from pyspark.ml.feature import QuantileDiscretizer\n",
        "from pyspark.ml.feature import VectorAssembler\n",
        "from pyspark.ml.evaluation import RegressionEvaluator\n",
        "\n",
        "\n",
        "import matplotlib.pyplot as plt\n",
        "import seaborn as sns\n",
        "import kagglehub\n",
        "\n",
        "import pandas as pd\n",
        "from pyspark.ml.feature import Imputer\n",
        "\n"
      ],
      "metadata": {
        "id": "lNK_005tHX9o"
      },
      "execution_count": null,
      "outputs": []
    },
    {
      "cell_type": "code",
      "source": [
        "path = kagglehub.dataset_download(\"sobhanmoosavi/us-accidents\")\n",
        "print(\"Path to dataset files:\", path)"
      ],
      "metadata": {
        "colab": {
          "base_uri": "https://localhost:8080/"
        },
        "id": "j7RDNtCfV_j8",
        "outputId": "2a81cb07-1ea2-4171-dc5f-1000063d482e"
      },
      "execution_count": null,
      "outputs": [
        {
          "output_type": "stream",
          "name": "stdout",
          "text": [
            "Path to dataset files: /home/jarcos/.cache/kagglehub/datasets/sobhanmoosavi/us-accidents/versions/13\n"
          ]
        }
      ]
    },
    {
      "cell_type": "code",
      "source": [
        "spark = SparkSession.builder.master(\"local[*]\").appName(\"CargarCSV\").config(\"spark.driver.memory\", \"40g\").config(\"spark.executor.memory\", \"20g\").getOrCreate()\n",
        "df_accident = spark.read.option(\"header\", True).option(\"inferSchema\", True).csv(path)"
      ],
      "metadata": {
        "colab": {
          "base_uri": "https://localhost:8080/"
        },
        "id": "KzhCy58rgjX1",
        "outputId": "07ad3759-518c-45ec-ac80-139f8f7ee0c3"
      },
      "execution_count": null,
      "outputs": [
        {
          "output_type": "stream",
          "name": "stderr",
          "text": []
        }
      ]
    },
    {
      "cell_type": "code",
      "source": [
        "columnas_clave = [\n",
        "    \"ID\", \"Weather_Condition\", \"Severity\", \"Start_Time\", \"End_Time\", \"City\", \"State\",\n",
        "    \"Temperature(F)\", \"Humidity(%)\", \"Visibility(mi)\",\"Crossing\",\"Junction\",\"Railway\",\n",
        "    \"Roundabout\",\"Stop\",\"Sunrise_Sunset\",\"Traffic_Calming\",\"Traffic_Signal\",\"Turning_Loop\"]"
      ],
      "metadata": {
        "id": "df6B_9yTrVaf"
      },
      "execution_count": null,
      "outputs": []
    },
    {
      "cell_type": "code",
      "source": [
        "barras_categorica(df_accident,'Severity')"
      ],
      "metadata": {
        "colab": {
          "base_uri": "https://localhost:8080/",
          "height": 487
        },
        "id": "vTbU2PTb81NG",
        "outputId": "5c7aea64-09c5-44ef-ded5-7f279f7416fa"
      },
      "execution_count": null,
      "outputs": [
        {
          "output_type": "stream",
          "name": "stderr",
          "text": []
        },
        {
          "output_type": "display_data",
          "data": {
            "text/plain": [
              "<Figure size 640x480 with 1 Axes>"
            ],
            "image/png": "[encoded data removed]"
          },
          "metadata": {}
        }
      ]
    },
    {
      "cell_type": "markdown",
      "source": [
        "**Obtención de las estadísticas descriptivas de las características categóricas**"
      ],
      "metadata": {
        "id": "A8garbrA7wu6"
      }
    },
    {
      "cell_type": "markdown",
      "source": [
        "# Particionamiento\n",
        "\n",
        "El particionamiento del conjunto de datos se basa en las condiciones climáticas y la severidad del accidente, dividiéndolo en múltiples subconjuntos según combinaciones específicas de estas características."
      ],
      "metadata": {
        "id": "BZDsQ0zuhJRD"
      }
    },
    {
      "cell_type": "code",
      "source": [
        "df_accident = df_accident.select(columnas_clave)\n",
        "\n",
        "df_accident.write.mode(\"overwrite\").partitionBy(\"Severity\").parquet(\"us_accidents_partitioned\")\n",
        "\n",
        "accident_sev_1 = spark.read.parquet(\"us_accidents_partitioned/Severity=1\")\n",
        "accident_sev_2 = spark.read.parquet(\"us_accidents_partitioned/Severity=2\")\n",
        "accident_sev_3 = spark.read.parquet(\"us_accidents_partitioned/Severity=3\")\n",
        "accident_sev_4 = spark.read.parquet(\"us_accidents_partitioned/Severity=4\")"
      ],
      "metadata": {
        "colab": {
          "base_uri": "https://localhost:8080/"
        },
        "id": "UHN8o32D2zr0",
        "outputId": "25938cba-cd04-4ba8-e088-3d4756e53330"
      },
      "execution_count": null,
      "outputs": [
        {
          "output_type": "stream",
          "name": "stderr",
          "text": []
        }
      ]
    },
    {
      "cell_type": "code",
      "source": [
        "accident_sev_1.show(5)"
      ],
      "metadata": {
        "colab": {
          "base_uri": "https://localhost:8080/"
        },
        "id": "1gLqSSYzWvD6",
        "outputId": "47642d49-84e8-45fd-9e75-e62fb1d8264a"
      },
      "execution_count": null,
      "outputs": [
        {
          "output_type": "stream",
          "name": "stdout",
          "text": [
            "+--------+-----------------+-------------------+-------------------+----------------+-----+--------------+-----------+--------------+--------+--------+-------+----------+-----+--------------+---------------+--------------+------------+\n",
            "|      ID|Weather_Condition|         Start_Time|           End_Time|            City|State|Temperature(F)|Humidity(%)|Visibility(mi)|Crossing|Junction|Railway|Roundabout| Stop|Sunrise_Sunset|Traffic_Calming|Traffic_Signal|Turning_Loop|\n",
            "+--------+-----------------+-------------------+-------------------+----------------+-----+--------------+-----------+--------------+--------+--------+-------+----------+-----+--------------+---------------+--------------+------------+\n",
            "|A-362864|            Clear|2017-03-19 12:08:40|2017-03-19 12:38:19|         Augusta|   GA|          57.9|       32.0|          10.0|   false|   false|  false|     false|false|           Day|          false|         false|       false|\n",
            "|A-365033|    Mostly Cloudy|2017-02-19 16:21:18|2017-02-19 17:21:18|   Downers Grove|   IL|          63.0|       30.0|          10.0|   false|   false|  false|     false|false|           Day|          false|         false|       false|\n",
            "|A-365255|            Clear|2017-02-23 08:24:03|2017-02-23 09:00:00|     Bolingbrook|   IL|          47.8|       93.0|          10.0|   false|   false|  false|     false|false|           Day|          false|         false|       false|\n",
            "|A-368273|            Clear|2017-03-04 08:31:27|2017-03-04 09:31:27|         Lansing|   MI|          21.0|       63.0|          10.0|   false|   false|  false|     false|false|           Day|          false|         false|       false|\n",
            "|A-375073|            Clear|2017-03-22 06:44:28|2017-03-22 07:13:53|Vernon Rockville|   CT|          37.9|       48.0|          10.0|   false|   false|  false|     false|false|         Night|          false|         false|       false|\n",
            "+--------+-----------------+-------------------+-------------------+----------------+-----+--------------+-----------+--------------+--------+--------+-------+----------+-----+--------------+---------------+--------------+------------+\n",
            "only showing top 5 rows\n",
            "\n"
          ]
        }
      ]
    },
    {
      "cell_type": "markdown",
      "source": [
        "# Imputando valores faltantes"
      ],
      "metadata": {
        "id": "tzMcfXbtGIPz"
      }
    },
    {
      "cell_type": "code",
      "source": [
        "def obten_nulos(particion):\n",
        "\n",
        "  print(f\"📌 Particiones: {particion.rdd.getNumPartitions()}\")\n",
        "  print(f\"📊 Total de filas en la partición: {particion.count()}\")\n",
        "  print(f\"🗂️ Número de columnas en la partición: {len(particion.columns)}\")\n",
        "\n",
        "  info_nulos = {}\n",
        "  cols_nulos = {}\n",
        "\n",
        "  total_rows = particion.count()\n",
        "\n",
        "  registros_totales = particion.count()\n",
        "\n",
        "  # Contar valores nulos por columna\n",
        "\n",
        "  cols_nulos = particion.select(\n",
        "    [sum(col(c).isNull().cast(\"int\")).alias(c) for c in particion.columns]\n",
        "    )\n",
        "\n",
        "  # Convertir los resultados en un diccionario\n",
        "  info_nulos = {c: cols_nulos.select(c).collect()[0][0] for c in particion.columns}\n",
        "\n",
        "  # Filtrar solo las columnas con valores nulos\n",
        "  cols_nulos = {c: {\"count\": v, \"percent\": (v / total_rows) * 100} for c, v in info_nulos.items() if v > 0}\n",
        "\n",
        "  # Validar si existen nulos\n",
        "  if not cols_nulos:\n",
        "        print(\"✅ No existen valores nulos en la partición.\")\n",
        "        return\n",
        "\n",
        "\n",
        "  df_resumen_nulos = spark.createDataFrame(\n",
        "    [(c, d[\"count\"], round(d[\"percent\"], 2)) for c, d in cols_nulos.items()],\n",
        "    [\"Columna\", \"Total de nulos\", \"%\"]\n",
        "  )\n",
        "\n",
        "  df_resumen_nulos.orderBy(col(\"Total de nulos\").desc()).show(truncate=False)\n"
      ],
      "metadata": {
        "id": "z3od6x_V7aP-"
      },
      "execution_count": null,
      "outputs": []
    },
    {
      "cell_type": "code",
      "source": [
        "def imputacion_valores(particion):\n",
        "\n",
        "\n",
        "  print(\"✅ Se realiza la imputación utilizando los siguientes valores:\\n\")\n",
        "\n",
        "  moda_Weather = particion.groupBy(\"Weather_Condition\").count().orderBy(col(\"count\").desc()).first()[\"Weather_Condition\"]\n",
        "  moda_City = particion.groupBy(\"City\").count().orderBy(col(\"count\").desc()).first()[\"City\"]\n",
        "  moda_Sunset = particion.groupBy(\"State\").count().orderBy(col(\"count\").desc()).first()[\"State\"]\n",
        "\n",
        "  media_Temperature = particion.select(avg(\"Temperature(F)\")).collect()\n",
        "  media_Humidity = particion.select(avg(\"Humidity(%)\")).collect()\n",
        "  media_Visibility = particion.select(avg(\"Visibility(mi)\")).collect()\n",
        "\n",
        "  print(f\"🌡️ Temperatura promedio: {round(media_Temperature[0][0], 2)}\")\n",
        "  print(f\"💧 Humedad promedio: {round(media_Humidity[0][0], 2)}\")\n",
        "  print(f\"👀 Visibilidad promedio: {round(media_Visibility[0][0], 2)}\")\n",
        "\n",
        "  print(f\"☁️ Condición meteorológica más frecuente: {moda_Weather}\")\n",
        "  print(f\"🏙️ Ciudad más frecuente: {moda_City}\")\n",
        "  print(f\"🌅 Hora de atardecer más frecuente: {moda_Sunset}\")\n",
        "\n",
        "  imputer_num = Imputer(\n",
        "    inputCols=[\"Temperature(F)\", \"Humidity(%)\", \"Visibility(mi)\"],\n",
        "    outputCols=[\"Temperature(F)\", \"Humidity(%)\", \"Visibility(mi)\"]\n",
        "  ).setStrategy(\"mean\")\n",
        "\n",
        "  particion = imputer_num.fit(particion).transform(particion)\n",
        "  particion = particion.na.fill({\"Weather_Condition\": moda_Weather, \"City\": moda_City, \"Sunrise_Sunset\": moda_Sunset})\n",
        "\n",
        "  particion_modificada = particion\n",
        "\n",
        "  print(\"\\n🔍 Se validan nuevamente los valores nulos para corroborar la imputación.\\n\")\n",
        "\n",
        "  obten_nulos(particion_modificada)\n",
        "\n",
        "  return particion_modificada\n",
        "\n",
        "\n"
      ],
      "metadata": {
        "id": "PS9ra8pQSM71"
      },
      "execution_count": null,
      "outputs": []
    },
    {
      "cell_type": "code",
      "source": [
        "obten_nulos(accident_sev_1)"
      ],
      "metadata": {
        "colab": {
          "base_uri": "https://localhost:8080/"
        },
        "id": "vc-aW7WY73U0",
        "outputId": "a34a5421-f7c9-419f-9ee4-a40f31210f2e"
      },
      "execution_count": null,
      "outputs": [
        {
          "output_type": "stream",
          "name": "stdout",
          "text": [
            "📌 Particiones: 13\n",
            "📊 Total de filas en la partición: 67366\n",
            "🗂️ Número de columnas en la partición: 18\n",
            "+-----------------+--------------+----+\n",
            "|Columna          |Total de nulos|%   |\n",
            "+-----------------+--------------+----+\n",
            "|Humidity(%)      |1249          |1.85|\n",
            "|Temperature(F)   |1110          |1.65|\n",
            "|Weather_Condition|954           |1.42|\n",
            "|Visibility(mi)   |935           |1.39|\n",
            "|Sunrise_Sunset   |204           |0.3 |\n",
            "|City             |3             |0.0 |\n",
            "+-----------------+--------------+----+\n",
            "\n"
          ]
        }
      ]
    },
    {
      "cell_type": "code",
      "source": [
        "imp_sev_1 = imputacion_valores(accident_sev_1)"
      ],
      "metadata": {
        "colab": {
          "base_uri": "https://localhost:8080/"
        },
        "id": "eMiT-fWeUziL",
        "outputId": "fb0dbc99-a1c8-40a5-e52f-2eed8cd0423e"
      },
      "execution_count": null,
      "outputs": [
        {
          "output_type": "stream",
          "name": "stdout",
          "text": [
            "✅ Se realiza la imputación utilizando los siguientes valores:\n",
            "\n",
            "🌡️ Temperatura promedio: 72.42\n",
            "💧 Humedad promedio: 61.91\n",
            "👀 Visibilidad promedio: 9.48\n",
            "☁️ Condición meteorológica más frecuente: Fair\n",
            "🏙️ Ciudad más frecuente: Tucson\n",
            "🌅 Hora de atardecer más frecuente: CA\n",
            "\n",
            "🔍 Se validan nuevamente los valores nulos para corroborar la imputación.\n",
            "\n",
            "📌 Particiones: 13\n",
            "📊 Total de filas en la partición: 67366\n",
            "🗂️ Número de columnas en la partición: 18\n",
            "✅ No existen valores nulos en la partición.\n"
          ]
        }
      ]
    },
    {
      "cell_type": "code",
      "source": [
        "obten_nulos(accident_sev_2)"
      ],
      "metadata": {
        "colab": {
          "base_uri": "https://localhost:8080/"
        },
        "id": "TymjcGkcVO_K",
        "outputId": "7ee6e950-0eaa-49c5-eb9f-18c21c39e207"
      },
      "execution_count": null,
      "outputs": [
        {
          "output_type": "stream",
          "name": "stdout",
          "text": [
            "📌 Particiones: 20\n",
            "📊 Total de filas en la partición: 6156981\n",
            "🗂️ Número de columnas en la partición: 18\n",
            "+-----------------+--------------+----+\n",
            "|Columna          |Total de nulos|%   |\n",
            "+-----------------+--------------+----+\n",
            "|Humidity(%)      |138627        |2.25|\n",
            "|Visibility(mi)   |138237        |2.25|\n",
            "|Weather_Condition|134781        |2.19|\n",
            "|Temperature(F)   |130158        |2.11|\n",
            "|Sunrise_Sunset   |20079         |0.33|\n",
            "|City             |217           |0.0 |\n",
            "+-----------------+--------------+----+\n",
            "\n"
          ]
        }
      ]
    },
    {
      "cell_type": "code",
      "source": [
        "imputacion_valores(accident_sev_2)"
      ],
      "metadata": {
        "colab": {
          "base_uri": "https://localhost:8080/"
        },
        "id": "ifVriQh8VRTu",
        "outputId": "d759ca46-b88f-46e0-d9b9-5ea89e31937f"
      },
      "execution_count": null,
      "outputs": [
        {
          "output_type": "stream",
          "name": "stdout",
          "text": [
            "✅ Se realiza la imputación utilizando los siguientes valores:\n",
            "\n",
            "🌡️ Temperatura promedio: 61.55\n",
            "💧 Humedad promedio: 64.67\n",
            "👀 Visibilidad promedio: 9.09\n",
            "☁️ Condición meteorológica más frecuente: Fair\n",
            "🏙️ Ciudad más frecuente: Miami\n",
            "🌅 Hora de atardecer más frecuente: CA\n",
            "\n",
            "🔍 Se validan nuevamente los valores nulos para corroborar la imputación.\n",
            "\n",
            "📌 Particiones: 20\n",
            "📊 Total de filas en la partición: 6156981\n",
            "🗂️ Número de columnas en la partición: 18\n",
            "✅ No existen valores nulos en la partición.\n"
          ]
        },
        {
          "output_type": "execute_result",
          "data": {
            "text/plain": [
              "DataFrame[ID: string, Weather_Condition: string, Start_Time: timestamp, End_Time: timestamp, City: string, State: string, Temperature(F): double, Humidity(%): double, Visibility(mi): double, Crossing: boolean, Junction: boolean, Railway: boolean, Roundabout: boolean, Stop: boolean, Sunrise_Sunset: string, Traffic_Calming: boolean, Traffic_Signal: boolean, Turning_Loop: boolean]"
            ]
          },
          "metadata": {},
          "execution_count": 143
        }
      ]
    },
    {
      "cell_type": "code",
      "source": [
        "obten_nulos(accident_sev_3)"
      ],
      "metadata": {
        "colab": {
          "base_uri": "https://localhost:8080/"
        },
        "id": "eS_a5PfgVURi",
        "outputId": "f0eb9246-15d3-4036-b6c3-1f5432bffbd1"
      },
      "execution_count": null,
      "outputs": [
        {
          "output_type": "stream",
          "name": "stdout",
          "text": [
            "📌 Particiones: 13\n",
            "📊 Total de filas en la partición: 1299337\n",
            "🗂️ Número de columnas en la partición: 18\n",
            "+-----------------+--------------+----+\n",
            "|Columna          |Total de nulos|%   |\n",
            "+-----------------+--------------+----+\n",
            "|Visibility(mi)   |30511         |2.35|\n",
            "|Weather_Condition|30295         |2.33|\n",
            "|Humidity(%)      |27322         |2.1 |\n",
            "|Temperature(F)   |25977         |2.0 |\n",
            "|Sunrise_Sunset   |689           |0.05|\n",
            "|City             |13            |0.0 |\n",
            "+-----------------+--------------+----+\n",
            "\n"
          ]
        }
      ]
    },
    {
      "cell_type": "code",
      "source": [
        "imputacion_valores(accident_sev_3)"
      ],
      "metadata": {
        "colab": {
          "base_uri": "https://localhost:8080/"
        },
        "id": "_BKgOQGyVWF3",
        "outputId": "e62c355b-65c2-46cf-ee36-46cd81f20382"
      },
      "execution_count": null,
      "outputs": [
        {
          "output_type": "stream",
          "name": "stdout",
          "text": [
            "✅ Se realiza la imputación utilizando los siguientes valores:\n",
            "\n",
            "🌡️ Temperatura promedio: 62.2\n",
            "💧 Humedad promedio: 65.38\n",
            "👀 Visibilidad promedio: 9.09\n",
            "☁️ Condición meteorológica más frecuente: Clear\n",
            "🏙️ Ciudad más frecuente: Los Angeles\n",
            "🌅 Hora de atardecer más frecuente: CA\n",
            "\n",
            "🔍 Se validan nuevamente los valores nulos para corroborar la imputación.\n",
            "\n",
            "📌 Particiones: 13\n",
            "📊 Total de filas en la partición: 1299337\n",
            "🗂️ Número de columnas en la partición: 18\n",
            "✅ No existen valores nulos en la partición.\n"
          ]
        },
        {
          "output_type": "execute_result",
          "data": {
            "text/plain": [
              "DataFrame[ID: string, Weather_Condition: string, Start_Time: timestamp, End_Time: timestamp, City: string, State: string, Temperature(F): double, Humidity(%): double, Visibility(mi): double, Crossing: boolean, Junction: boolean, Railway: boolean, Roundabout: boolean, Stop: boolean, Sunrise_Sunset: string, Traffic_Calming: boolean, Traffic_Signal: boolean, Turning_Loop: boolean]"
            ]
          },
          "metadata": {},
          "execution_count": 145
        }
      ]
    },
    {
      "cell_type": "code",
      "source": [
        "obten_nulos(accident_sev_4)"
      ],
      "metadata": {
        "colab": {
          "base_uri": "https://localhost:8080/"
        },
        "id": "4HheWZOIVajH",
        "outputId": "583d950b-5f98-4288-93b8-936ffb147d53"
      },
      "execution_count": null,
      "outputs": [
        {
          "output_type": "stream",
          "name": "stdout",
          "text": [
            "📌 Particiones: 12\n",
            "📊 Total de filas en la partición: 204710\n",
            "🗂️ Número de columnas en la partición: 18\n",
            "+-----------------+--------------+----+\n",
            "|Columna          |Total de nulos|%   |\n",
            "+-----------------+--------------+----+\n",
            "|Weather_Condition|7429          |3.63|\n",
            "|Visibility(mi)   |7415          |3.62|\n",
            "|Humidity(%)      |6946          |3.39|\n",
            "|Temperature(F)   |6608          |3.23|\n",
            "|Sunrise_Sunset   |2274          |1.11|\n",
            "|City             |20            |0.01|\n",
            "+-----------------+--------------+----+\n",
            "\n"
          ]
        }
      ]
    },
    {
      "cell_type": "code",
      "source": [
        "imputacion_valores(accident_sev_4)"
      ],
      "metadata": {
        "colab": {
          "base_uri": "https://localhost:8080/"
        },
        "id": "MjyQb39dVf11",
        "outputId": "661fc6fe-6ea0-4149-a66b-f2a11f3a737e"
      },
      "execution_count": null,
      "outputs": [
        {
          "output_type": "stream",
          "name": "stdout",
          "text": [
            "✅ Se realiza la imputación utilizando los siguientes valores:\n",
            "\n",
            "🌡️ Temperatura promedio: 58.14\n",
            "💧 Humedad promedio: 67.3\n",
            "👀 Visibilidad promedio: 9.06\n",
            "☁️ Condición meteorológica más frecuente: Fair\n",
            "🏙️ Ciudad más frecuente: Atlanta\n",
            "🌅 Hora de atardecer más frecuente: VA\n",
            "\n",
            "🔍 Se validan nuevamente los valores nulos para corroborar la imputación.\n",
            "\n",
            "📌 Particiones: 12\n",
            "📊 Total de filas en la partición: 204710\n",
            "🗂️ Número de columnas en la partición: 18\n",
            "✅ No existen valores nulos en la partición.\n"
          ]
        },
        {
          "output_type": "execute_result",
          "data": {
            "text/plain": [
              "DataFrame[ID: string, Weather_Condition: string, Start_Time: timestamp, End_Time: timestamp, City: string, State: string, Temperature(F): double, Humidity(%): double, Visibility(mi): double, Crossing: boolean, Junction: boolean, Railway: boolean, Roundabout: boolean, Stop: boolean, Sunrise_Sunset: string, Traffic_Calming: boolean, Traffic_Signal: boolean, Turning_Loop: boolean]"
            ]
          },
          "metadata": {},
          "execution_count": 147
        }
      ]
    },
    {
      "cell_type": "markdown",
      "source": [
        "# Preparando datos"
      ],
      "metadata": {
        "id": "bkIQuXvbbTv_"
      }
    },
    {
      "cell_type": "code",
      "source": [
        "imp_sev_1.show(5)"
      ],
      "metadata": {
        "colab": {
          "base_uri": "https://localhost:8080/"
        },
        "id": "Le9rgoa2bmy6",
        "outputId": "3b5f6c56-9b43-45ae-bacd-08d27554b32e"
      },
      "execution_count": null,
      "outputs": [
        {
          "output_type": "stream",
          "name": "stdout",
          "text": [
            "+--------+-----------------+-------------------+-------------------+----------------+-----+--------------+-----------+--------------+--------+--------+-------+----------+-----+--------------+---------------+--------------+------------+\n",
            "|      ID|Weather_Condition|         Start_Time|           End_Time|            City|State|Temperature(F)|Humidity(%)|Visibility(mi)|Crossing|Junction|Railway|Roundabout| Stop|Sunrise_Sunset|Traffic_Calming|Traffic_Signal|Turning_Loop|\n",
            "+--------+-----------------+-------------------+-------------------+----------------+-----+--------------+-----------+--------------+--------+--------+-------+----------+-----+--------------+---------------+--------------+------------+\n",
            "|A-362864|            Clear|2017-03-19 12:08:40|2017-03-19 12:38:19|         Augusta|   GA|          57.9|       32.0|          10.0|   false|   false|  false|     false|false|           Day|          false|         false|       false|\n",
            "|A-365033|    Mostly Cloudy|2017-02-19 16:21:18|2017-02-19 17:21:18|   Downers Grove|   IL|          63.0|       30.0|          10.0|   false|   false|  false|     false|false|           Day|          false|         false|       false|\n",
            "|A-365255|            Clear|2017-02-23 08:24:03|2017-02-23 09:00:00|     Bolingbrook|   IL|          47.8|       93.0|          10.0|   false|   false|  false|     false|false|           Day|          false|         false|       false|\n",
            "|A-368273|            Clear|2017-03-04 08:31:27|2017-03-04 09:31:27|         Lansing|   MI|          21.0|       63.0|          10.0|   false|   false|  false|     false|false|           Day|          false|         false|       false|\n",
            "|A-375073|            Clear|2017-03-22 06:44:28|2017-03-22 07:13:53|Vernon Rockville|   CT|          37.9|       48.0|          10.0|   false|   false|  false|     false|false|         Night|          false|         false|       false|\n",
            "+--------+-----------------+-------------------+-------------------+----------------+-----+--------------+-----------+--------------+--------+--------+-------+----------+-----+--------------+---------------+--------------+------------+\n",
            "only showing top 5 rows\n",
            "\n"
          ]
        }
      ]
    },
    {
      "cell_type": "code",
      "source": [
        "categoricas = [\"Weather_Condition\", \"City\", \"State\", \"Sunrise_Sunset\"]\n",
        "binarias = [\"Crossing\", \"Junction\", \"Railway\", \"Roundabout\", \"Stop\", \"Traffic_Calming\", \"Traffic_Signal\", \"Turning_Loop\"]"
      ],
      "metadata": {
        "id": "HKTLf48hbs_d"
      },
      "execution_count": null,
      "outputs": []
    },
    {
      "cell_type": "code",
      "source": [
        "# ✅ Crear una copia de `imp_sev_1` para trabajar sobre ella\n",
        "transf_sev_1 = imp_sev_1.alias(\"copia_imp_sev_1\")  # Esto asegura que el original quede intacto\n",
        "\n",
        "# Convertir variables binarias a 0 y 1 en la copia\n",
        "for columna in binarias:\n",
        "    transf_sev_1 = transf_sev_1.withColumn(columna + \"_num\", col(columna).cast(\"int\"))\n",
        "\n",
        "# Aplicar StringIndexer a las variables categóricas\n",
        "indexers = [StringIndexer(inputCol=col, outputCol=col + \"_Index\").fit(transf_sev_1) for col in categoricas]\n",
        "for indexer in indexers:\n",
        "    transf_sev_1 = indexer.transform(transf_sev_1)\n",
        "\n",
        "# Aplicar One-Hot Encoding a las categóricas\n",
        "codificadores = [OneHotEncoder(inputCol=col + \"_Index\", outputCol=col + \"_OHE\").fit(transf_sev_1) for col in categoricas]\n",
        "for codificador in codificadores:\n",
        "    transf_sev_1 = codificador.transform(transf_sev_1)\n",
        "\n",
        "# 🔥 Eliminar las columnas originales que ya no se usarán en el modelo\n",
        "transf_sev_1 = transf_sev_1.drop(*categoricas).drop(*binarias)\n",
        "\n",
        "transf_sev_1.show()\n",
        "\n",
        "\n"
      ],
      "metadata": {
        "colab": {
          "base_uri": "https://localhost:8080/"
        },
        "id": "NX_PoP6Nh3Bj",
        "outputId": "7c4408dc-ca5b-4b14-aba3-bb322882671a"
      },
      "execution_count": null,
      "outputs": [
        {
          "output_type": "stream",
          "name": "stdout",
          "text": [
            "+--------+-------------------+-------------------+--------------+-----------+-----------------+------------+------------+-----------+--------------+--------+-------------------+------------------+----------------+-----------------------+----------+-----------+--------------------+---------------------+-------------------+---------------+------------------+\n",
            "|      ID|         Start_Time|           End_Time|Temperature(F)|Humidity(%)|   Visibility(mi)|Crossing_num|Junction_num|Railway_num|Roundabout_num|Stop_num|Traffic_Calming_num|Traffic_Signal_num|Turning_Loop_num|Weather_Condition_Index|City_Index|State_Index|Sunrise_Sunset_Index|Weather_Condition_OHE|           City_OHE|      State_OHE|Sunrise_Sunset_OHE|\n",
            "+--------+-------------------+-------------------+--------------+-----------+-----------------+------------+------------+-----------+--------------+--------+-------------------+------------------+----------------+-----------------------+----------+-----------+--------------------+---------------------+-------------------+---------------+------------------+\n",
            "|A-362864|2017-03-19 12:08:40|2017-03-19 12:38:19|          57.9|       32.0|             10.0|           0|           0|          0|             0|       0|                  0|                 0|               0|                    8.0|      20.0|       17.0|                 0.0|       (55,[8],[1.0])|  (3877,[20],[1.0])|(45,[17],[1.0])|     (2,[0],[1.0])|\n",
            "|A-365033|2017-02-19 16:21:18|2017-02-19 17:21:18|          63.0|       30.0|             10.0|           0|           0|          0|             0|       0|                  0|                 0|               0|                    1.0|     162.0|       11.0|                 0.0|       (55,[1],[1.0])| (3877,[162],[1.0])|(45,[11],[1.0])|     (2,[0],[1.0])|\n",
            "|A-365255|2017-02-23 08:24:03|2017-02-23 09:00:00|          47.8|       93.0|             10.0|           0|           0|          0|             0|       0|                  0|                 0|               0|                    8.0|    1707.0|       11.0|                 0.0|       (55,[8],[1.0])|(3877,[1707],[1.0])|(45,[11],[1.0])|     (2,[0],[1.0])|\n",
            "|A-368273|2017-03-04 08:31:27|2017-03-04 09:31:27|          21.0|       63.0|             10.0|           0|           0|          0|             0|       0|                  0|                 0|               0|                    8.0|    1192.0|       16.0|                 0.0|       (55,[8],[1.0])|(3877,[1192],[1.0])|(45,[16],[1.0])|     (2,[0],[1.0])|\n",
            "|A-375073|2017-03-22 06:44:28|2017-03-22 07:13:53|          37.9|       48.0|             10.0|           0|           0|          0|             0|       0|                  0|                 0|               0|                    8.0|    1971.0|       36.0|                 1.0|       (55,[8],[1.0])|(3877,[1971],[1.0])|(45,[36],[1.0])|     (2,[1],[1.0])|\n",
            "|A-375669|2017-03-27 20:12:08|2017-03-27 21:05:00|          37.9|      100.0|9.475378663575741|           0|           0|          0|             0|       0|                  0|                 0|               0|                    0.0|     890.0|       12.0|                 1.0|       (55,[0],[1.0])| (3877,[890],[1.0])|(45,[12],[1.0])|     (2,[1],[1.0])|\n",
            "|A-376992|2017-03-03 07:04:21|2017-03-03 07:34:21|          24.8|       69.0|             10.0|           0|           0|          0|             0|       0|                  0|                 0|               0|                    1.0|    2688.0|       10.0|                 1.0|       (55,[1],[1.0])|(3877,[2688],[1.0])|(45,[10],[1.0])|     (2,[1],[1.0])|\n",
            "|A-377108|2017-03-08 06:21:56|2017-03-08 06:51:56|          39.9|       68.0|             10.0|           0|           0|          0|             0|       0|                  0|                 1|               0|                    3.0|      55.0|       10.0|                 1.0|       (55,[3],[1.0])|  (3877,[55],[1.0])|(45,[10],[1.0])|     (2,[1],[1.0])|\n",
            "|A-378252|2017-02-17 11:56:08|2017-02-17 12:41:08|          41.7|       37.0|             10.0|           0|           0|          0|             0|       0|                  0|                 0|               0|                   22.0|     720.0|       22.0|                 0.0|      (55,[22],[1.0])| (3877,[720],[1.0])|(45,[22],[1.0])|     (2,[0],[1.0])|\n",
            "|A-378472|2017-02-19 14:16:58|2017-02-19 15:16:58|          69.1|       38.0|             10.0|           0|           0|          0|             0|       0|                  0|                 0|               0|                    3.0|      33.0|       22.0|                 0.0|       (55,[3],[1.0])|  (3877,[33],[1.0])|(45,[22],[1.0])|     (2,[0],[1.0])|\n",
            "|A-378694|2017-02-21 08:38:36|2017-02-21 09:38:36|          44.6|       53.0|             10.0|           0|           0|          0|             0|       0|                  0|                 0|               0|                    8.0|    3016.0|       22.0|                 0.0|       (55,[8],[1.0])|(3877,[3016],[1.0])|(45,[22],[1.0])|     (2,[0],[1.0])|\n",
            "|A-379617|2017-02-27 08:20:59|2017-02-27 08:50:59|          39.0|       85.0|             10.0|           0|           0|          0|             0|       0|                  0|                 1|               0|                   18.0|    1436.0|       22.0|                 0.0|      (55,[18],[1.0])|(3877,[1436],[1.0])|(45,[22],[1.0])|     (2,[0],[1.0])|\n",
            "|A-381680|2017-03-13 22:58:52|2017-03-13 23:28:39|          28.9|      100.0|              0.8|           0|           0|          0|             0|       0|                  0|                 0|               0|                   21.0|      32.0|        9.0|                 1.0|      (55,[21],[1.0])|  (3877,[32],[1.0])| (45,[9],[1.0])|     (2,[1],[1.0])|\n",
            "|A-381926|2017-03-15 15:40:36|2017-03-15 16:40:36|          27.0|       63.0|              6.0|           1|           0|          0|             0|       1|                  0|                 0|               0|                   21.0|     211.0|        9.0|                 0.0|      (55,[21],[1.0])| (3877,[211],[1.0])| (45,[9],[1.0])|     (2,[0],[1.0])|\n",
            "|A-388619|2017-03-05 17:08:27|2017-03-05 17:38:27|          61.0|       90.0|              6.0|           0|           0|          0|             0|       0|                  0|                 0|               0|                    4.0|    2541.0|        5.0|                 0.0|       (55,[4],[1.0])|(3877,[2541],[1.0])| (45,[5],[1.0])|     (2,[0],[1.0])|\n",
            "|A-389527|2017-03-09 11:31:26|2017-03-09 12:01:03|          73.9|       76.0|             10.0|           1|           0|          0|             0|       0|                  0|                 1|               0|                   18.0|      13.0|        5.0|                 0.0|      (55,[18],[1.0])|  (3877,[13],[1.0])| (45,[5],[1.0])|     (2,[0],[1.0])|\n",
            "|A-391436|2017-03-18 20:39:27|2017-03-18 21:24:27|          68.7|       76.0|             10.0|           0|           0|          0|             0|       0|                  0|                 0|               0|                    8.0|    1079.0|        5.0|                 1.0|       (55,[8],[1.0])|(3877,[1079],[1.0])| (45,[5],[1.0])|     (2,[1],[1.0])|\n",
            "|A-396170|2017-03-18 18:28:56|2017-03-18 19:13:56|          46.4|       64.0|             10.0|           0|           0|          0|             0|       0|                  0|                 0|               0|                    1.0|     173.0|       19.0|                 0.0|       (55,[1],[1.0])| (3877,[173],[1.0])|(45,[19],[1.0])|     (2,[0],[1.0])|\n",
            "|A-398112|2017-04-13 04:42:16|2017-04-13 05:27:00|          54.0|       80.0|             10.0|           0|           0|          0|             0|       0|                  0|                 0|               0|                    1.0|      44.0|        0.0|                 1.0|       (55,[1],[1.0])|  (3877,[44],[1.0])| (45,[0],[1.0])|     (2,[1],[1.0])|\n",
            "|A-399673|2017-04-22 14:15:24|2017-04-22 14:45:05|          62.6|       77.0|             10.0|           0|           0|          0|             0|       0|                  0|                 1|               0|                    8.0|     221.0|        0.0|                 0.0|       (55,[8],[1.0])| (3877,[221],[1.0])| (45,[0],[1.0])|     (2,[0],[1.0])|\n",
            "+--------+-------------------+-------------------+--------------+-----------+-----------------+------------+------------+-----------+--------------+--------+-------------------+------------------+----------------+-----------------------+----------+-----------+--------------------+---------------------+-------------------+---------------+------------------+\n",
            "only showing top 20 rows\n",
            "\n"
          ]
        }
      ]
    },
    {
      "cell_type": "markdown",
      "source": [
        "# Creando conjuntos de datos"
      ],
      "metadata": {
        "id": "sGFg6ohTCf-5"
      }
    },
    {
      "cell_type": "code",
      "source": [
        "spark.conf.set(\"spark.sql.shuffle.partitions\", \"200\")\n",
        "\n",
        "train_sev1,test_sev1 = transf_sev_1.randomSplit([0.8,0.2], seed = 10)\n",
        "\n",
        "print(f\"\"\"Existen {train_sev1.count()} instancias en el conjunto train, y {test_sev1.count()} en el conjunto test\"\"\")\n",
        "\n",
        "train_sev1.show(5)"
      ],
      "metadata": {
        "colab": {
          "base_uri": "https://localhost:8080/"
        },
        "id": "VSgGyGFgCk9M",
        "outputId": "11766271-c297-4b0c-8958-8212800b6ad3"
      },
      "execution_count": null,
      "outputs": [
        {
          "output_type": "stream",
          "name": "stdout",
          "text": [
            "Existen 53888 instancias en el conjunto train, y 13478 en el conjunto test\n",
            "+--------+-------------------+-------------------+--------------+-----------+-----------------+------------+------------+-----------+--------------+--------+-------------------+------------------+----------------+-----------------------+----------+-----------+--------------------+---------------------+-------------------+---------------+------------------+\n",
            "|      ID|         Start_Time|           End_Time|Temperature(F)|Humidity(%)|   Visibility(mi)|Crossing_num|Junction_num|Railway_num|Roundabout_num|Stop_num|Traffic_Calming_num|Traffic_Signal_num|Turning_Loop_num|Weather_Condition_Index|City_Index|State_Index|Sunrise_Sunset_Index|Weather_Condition_OHE|           City_OHE|      State_OHE|Sunrise_Sunset_OHE|\n",
            "+--------+-------------------+-------------------+--------------+-----------+-----------------+------------+------------+-----------+--------------+--------+-------------------+------------------+----------------+-----------------------+----------+-----------+--------------------+---------------------+-------------------+---------------+------------------+\n",
            "|A-362864|2017-03-19 12:08:40|2017-03-19 12:38:19|          57.9|       32.0|             10.0|           0|           0|          0|             0|       0|                  0|                 0|               0|                    8.0|      20.0|       17.0|                 0.0|       (55,[8],[1.0])|  (3877,[20],[1.0])|(45,[17],[1.0])|     (2,[0],[1.0])|\n",
            "|A-365255|2017-02-23 08:24:03|2017-02-23 09:00:00|          47.8|       93.0|             10.0|           0|           0|          0|             0|       0|                  0|                 0|               0|                    8.0|    1707.0|       11.0|                 0.0|       (55,[8],[1.0])|(3877,[1707],[1.0])|(45,[11],[1.0])|     (2,[0],[1.0])|\n",
            "|A-375073|2017-03-22 06:44:28|2017-03-22 07:13:53|          37.9|       48.0|             10.0|           0|           0|          0|             0|       0|                  0|                 0|               0|                    8.0|    1971.0|       36.0|                 1.0|       (55,[8],[1.0])|(3877,[1971],[1.0])|(45,[36],[1.0])|     (2,[1],[1.0])|\n",
            "|A-375669|2017-03-27 20:12:08|2017-03-27 21:05:00|          37.9|      100.0|9.475378663575741|           0|           0|          0|             0|       0|                  0|                 0|               0|                    0.0|     890.0|       12.0|                 1.0|       (55,[0],[1.0])| (3877,[890],[1.0])|(45,[12],[1.0])|     (2,[1],[1.0])|\n",
            "|A-377108|2017-03-08 06:21:56|2017-03-08 06:51:56|          39.9|       68.0|             10.0|           0|           0|          0|             0|       0|                  0|                 1|               0|                    3.0|      55.0|       10.0|                 1.0|       (55,[3],[1.0])|  (3877,[55],[1.0])|(45,[10],[1.0])|     (2,[1],[1.0])|\n",
            "+--------+-------------------+-------------------+--------------+-----------+-----------------+------------+------------+-----------+--------------+--------+-------------------+------------------+----------------+-----------------------+----------+-----------+--------------------+---------------------+-------------------+---------------+------------------+\n",
            "only showing top 5 rows\n",
            "\n"
          ]
        }
      ]
    },
    {
      "cell_type": "code",
      "source": [
        "atributos = [ 'Temperature(F)', 'Humidity(%)', 'Visibility(mi)', 'Crossing_num', 'Junction_num', 'Railway_num',\n",
        "              'Roundabout_num', 'Stop_num', 'Traffic_Signal_num', 'Turning_Loop_num',\n",
        "              'Sunrise_Sunset_Index','Weather_Condition_Index','City_Index','State_Index','Weather_Condition_OHE',\n",
        "              'City_OHE','State_OHE']"
      ],
      "metadata": {
        "id": "-M_w0JQFotVI"
      },
      "execution_count": null,
      "outputs": []
    },
    {
      "cell_type": "code",
      "source": [
        "assembler = VectorAssembler(inputCols=atributos, outputCol = 'Attributes')\n",
        "output_train = assembler.transform(train_sev1)\n",
        "output_test = assembler.transform(test_sev1)\n",
        "\n",
        "output_train.show(5)\n",
        "output_test.show(5)"
      ],
      "metadata": {
        "colab": {
          "base_uri": "https://localhost:8080/"
        },
        "id": "o-PbBSmym4J8",
        "outputId": "7b808c2b-4bfd-46b0-b685-8c3374a38af9"
      },
      "execution_count": null,
      "outputs": [
        {
          "output_type": "stream",
          "name": "stdout",
          "text": [
            "+--------+-------------------+-------------------+--------------+-----------+-----------------+------------+------------+-----------+--------------+--------+-------------------+------------------+----------------+-----------------------+----------+-----------+--------------------+---------------------+-------------------+---------------+------------------+--------------------+\n",
            "|      ID|         Start_Time|           End_Time|Temperature(F)|Humidity(%)|   Visibility(mi)|Crossing_num|Junction_num|Railway_num|Roundabout_num|Stop_num|Traffic_Calming_num|Traffic_Signal_num|Turning_Loop_num|Weather_Condition_Index|City_Index|State_Index|Sunrise_Sunset_Index|Weather_Condition_OHE|           City_OHE|      State_OHE|Sunrise_Sunset_OHE|          Attributes|\n",
            "+--------+-------------------+-------------------+--------------+-----------+-----------------+------------+------------+-----------+--------------+--------+-------------------+------------------+----------------+-----------------------+----------+-----------+--------------------+---------------------+-------------------+---------------+------------------+--------------------+\n",
            "|A-362864|2017-03-19 12:08:40|2017-03-19 12:38:19|          57.9|       32.0|             10.0|           0|           0|          0|             0|       0|                  0|                 0|               0|                    8.0|      20.0|       17.0|                 0.0|       (55,[8],[1.0])|  (3877,[20],[1.0])|(45,[17],[1.0])|     (2,[0],[1.0])|(3991,[0,1,2,11,1...|\n",
            "|A-365255|2017-02-23 08:24:03|2017-02-23 09:00:00|          47.8|       93.0|             10.0|           0|           0|          0|             0|       0|                  0|                 0|               0|                    8.0|    1707.0|       11.0|                 0.0|       (55,[8],[1.0])|(3877,[1707],[1.0])|(45,[11],[1.0])|     (2,[0],[1.0])|(3991,[0,1,2,11,1...|\n",
            "|A-375073|2017-03-22 06:44:28|2017-03-22 07:13:53|          37.9|       48.0|             10.0|           0|           0|          0|             0|       0|                  0|                 0|               0|                    8.0|    1971.0|       36.0|                 1.0|       (55,[8],[1.0])|(3877,[1971],[1.0])|(45,[36],[1.0])|     (2,[1],[1.0])|(3991,[0,1,2,10,1...|\n",
            "|A-375669|2017-03-27 20:12:08|2017-03-27 21:05:00|          37.9|      100.0|9.475378663575741|           0|           0|          0|             0|       0|                  0|                 0|               0|                    0.0|     890.0|       12.0|                 1.0|       (55,[0],[1.0])| (3877,[890],[1.0])|(45,[12],[1.0])|     (2,[1],[1.0])|(3991,[0,1,2,10,1...|\n",
            "|A-377108|2017-03-08 06:21:56|2017-03-08 06:51:56|          39.9|       68.0|             10.0|           0|           0|          0|             0|       0|                  0|                 1|               0|                    3.0|      55.0|       10.0|                 1.0|       (55,[3],[1.0])|  (3877,[55],[1.0])|(45,[10],[1.0])|     (2,[1],[1.0])|(3991,[0,1,2,8,10...|\n",
            "+--------+-------------------+-------------------+--------------+-----------+-----------------+------------+------------+-----------+--------------+--------+-------------------+------------------+----------------+-----------------------+----------+-----------+--------------------+---------------------+-------------------+---------------+------------------+--------------------+\n",
            "only showing top 5 rows\n",
            "\n",
            "+--------+-------------------+-------------------+--------------+-----------+--------------+------------+------------+-----------+--------------+--------+-------------------+------------------+----------------+-----------------------+----------+-----------+--------------------+---------------------+-------------------+---------------+------------------+--------------------+\n",
            "|      ID|         Start_Time|           End_Time|Temperature(F)|Humidity(%)|Visibility(mi)|Crossing_num|Junction_num|Railway_num|Roundabout_num|Stop_num|Traffic_Calming_num|Traffic_Signal_num|Turning_Loop_num|Weather_Condition_Index|City_Index|State_Index|Sunrise_Sunset_Index|Weather_Condition_OHE|           City_OHE|      State_OHE|Sunrise_Sunset_OHE|          Attributes|\n",
            "+--------+-------------------+-------------------+--------------+-----------+--------------+------------+------------+-----------+--------------+--------+-------------------+------------------+----------------+-----------------------+----------+-----------+--------------------+---------------------+-------------------+---------------+------------------+--------------------+\n",
            "|A-365033|2017-02-19 16:21:18|2017-02-19 17:21:18|          63.0|       30.0|          10.0|           0|           0|          0|             0|       0|                  0|                 0|               0|                    1.0|     162.0|       11.0|                 0.0|       (55,[1],[1.0])| (3877,[162],[1.0])|(45,[11],[1.0])|     (2,[0],[1.0])|(3991,[0,1,2,11,1...|\n",
            "|A-368273|2017-03-04 08:31:27|2017-03-04 09:31:27|          21.0|       63.0|          10.0|           0|           0|          0|             0|       0|                  0|                 0|               0|                    8.0|    1192.0|       16.0|                 0.0|       (55,[8],[1.0])|(3877,[1192],[1.0])|(45,[16],[1.0])|     (2,[0],[1.0])|(3991,[0,1,2,11,1...|\n",
            "|A-376992|2017-03-03 07:04:21|2017-03-03 07:34:21|          24.8|       69.0|          10.0|           0|           0|          0|             0|       0|                  0|                 0|               0|                    1.0|    2688.0|       10.0|                 1.0|       (55,[1],[1.0])|(3877,[2688],[1.0])|(45,[10],[1.0])|     (2,[1],[1.0])|(3991,[0,1,2,10,1...|\n",
            "|A-378694|2017-02-21 08:38:36|2017-02-21 09:38:36|          44.6|       53.0|          10.0|           0|           0|          0|             0|       0|                  0|                 0|               0|                    8.0|    3016.0|       22.0|                 0.0|       (55,[8],[1.0])|(3877,[3016],[1.0])|(45,[22],[1.0])|     (2,[0],[1.0])|(3991,[0,1,2,11,1...|\n",
            "|A-381926|2017-03-15 15:40:36|2017-03-15 16:40:36|          27.0|       63.0|           6.0|           1|           0|          0|             0|       1|                  0|                 0|               0|                   21.0|     211.0|        9.0|                 0.0|      (55,[21],[1.0])| (3877,[211],[1.0])| (45,[9],[1.0])|     (2,[0],[1.0])|(3991,[0,1,2,3,7,...|\n",
            "+--------+-------------------+-------------------+--------------+-----------+--------------+------------+------------+-----------+--------------+--------+-------------------+------------------+----------------+-----------------------+----------+-----------+--------------------+---------------------+-------------------+---------------+------------------+--------------------+\n",
            "only showing top 5 rows\n",
            "\n"
          ]
        }
      ]
    },
    {
      "cell_type": "code",
      "source": [
        "from pyspark.ml.regression import LinearRegression\n",
        "lr = LinearRegression(featuresCol = 'Attributes', labelCol = 'Traffic_Calming_num', maxIter=10, regParam=0.3, elasticNetParam=0.8)\n",
        "lr_model = lr.fit(output_train)"
      ],
      "metadata": {
        "id": "GN9E6EYYoHLO"
      },
      "execution_count": null,
      "outputs": []
    },
    {
      "cell_type": "code",
      "source": [
        "print (\"The coefficient of the model is : \", lr_model.coefficients)\n",
        "print (\"The Intercept of the model is : \", lr_model.intercept)"
      ],
      "metadata": {
        "colab": {
          "base_uri": "https://localhost:8080/"
        },
        "id": "rHZ-ACWLoNww",
        "outputId": "ec47e015-4c78-4438-f32b-7207c844174b"
      },
      "execution_count": null,
      "outputs": [
        {
          "output_type": "stream",
          "name": "stdout",
          "text": [
            "The coefficient of the model is :  [0.0,0.0,0.0,0.0,0.0,0.0,0.0,0.0,0.0,0.0,0.0,0.0,0.0,0.0,0.0,0.0,0.0,0.0,0.0,0.0,0.0,0.0,0.0,0.0,0.0,0.0,0.0,0.0,0.0,0.0,0.0,0.0,0.0,0.0,0.0,0.0,0.0,0.0,0.0,0.0,0.0,0.0,0.0,0.0,0.0,0.0,0.0,0.0,0.0,0.0,0.0,0.0,0.0,0.0,0.0,0.0,0.0,0.0,0.0,0.0,0.0,0.0,0.0,0.0,0.0,0.0,0.0,0.0,0.0,0.0,0.0,0.0,0.0,0.0,0.0,0.0,0.0,0.0,0.0,0.0,0.0,0.0,0.0,0.0,0.0,0.0,0.0,0.0,0.0,0.0,0.0,0.0,0.0,0.0,0.0,0.0,0.0,0.0,0.0,0.0,0.0,0.0,0.0,0.0,0.0,0.0,0.0,0.0,0.0,0.0,0.0,0.0,0.0,0.0,0.0,0.0,0.0,0.0,0.0,0.0,0.0,0.0,0.0,0.0,0.0,0.0,0.0,0.0,0.0,0.0,0.0,0.0,0.0,0.0,0.0,0.0,0.0,0.0,0.0,0.0,0.0,0.0,0.0,0.0,0.0,0.0,0.0,0.0,0.0,0.0,0.0,0.0,0.0,0.0,0.0,0.0,0.0,0.0,0.0,0.0,0.0,0.0,0.0,0.0,0.0,0.0,0.0,0.0,0.0,0.0,0.0,0.0,0.0,0.0,0.0,0.0,0.0,0.0,0.0,0.0,0.0,0.0,0.0,0.0,0.0,0.0,0.0,0.0,0.0,0.0,0.0,0.0,0.0,0.0,0.0,0.0,0.0,0.0,0.0,0.0,0.0,0.0,0.0,0.0,0.0,0.0,0.0,0.0,0.0,0.0,0.0,0.0,0.0,0.0,0.0,0.0,0.0,0.0,0.0,0.0,0.0,0.0,0.0,0.0,0.0,0.0,0.0,0.0,0.0,0.0,0.0,0.0,0.0,0.0,0.0,0.0,0.0,0.0,0.0,0.0,0.0,0.0,0.0,0.0,0.0,0.0,0.0,0.0,0.0,0.0,0.0,0.0,0.0,0.0,0.0,0.0,0.0,0.0,0.0,0.0,0.0,0.0,0.0,0.0,0.0,0.0,0.0,0.0,0.0,0.0,0.0,0.0,0.0,0.0,0.0,0.0,0.0,0.0,0.0,0.0,0.0,0.0,0.0,0.0,0.0,0.0,0.0,0.0,0.0,0.0,0.0,0.0,0.0,0.0,0.0,0.0,0.0,0.0,0.0,0.0,0.0,0.0,0.0,0.0,0.0,0.0,0.0,0.0,0.0,0.0,0.0,0.0,0.0,0.0,0.0,0.0,0.0,0.0,0.0,0.0,0.0,0.0,0.0,0.0,0.0,0.0,0.0,0.0,0.0,0.0,0.0,0.0,0.0,0.0,0.0,0.0,0.0,0.0,0.0,0.0,0.0,0.0,0.0,0.0,0.0,0.0,0.0,0.0,0.0,0.0,0.0,0.0,0.0,0.0,0.0,0.0,0.0,0.0,0.0,0.0,0.0,0.0,0.0,0.0,0.0,0.0,0.0,0.0,0.0,0.0,0.0,0.0,0.0,0.0,0.0,0.0,0.0,0.0,0.0,0.0,0.0,0.0,0.0,0.0,0.0,0.0,0.0,0.0,0.0,0.0,0.0,0.0,0.0,0.0,0.0,0.0,0.0,0.0,0.0,0.0,0.0,0.0,0.0,0.0,0.0,0.0,0.0,0.0,0.0,0.0,0.0,0.0,0.0,0.0,0.0,0.0,0.0,0.0,0.0,0.0,0.0,0.0,0.0,0.0,0.0,0.0,0.0,0.0,0.0,0.0,0.0,0.0,0.0,0.0,0.0,0.0,0.0,0.0,0.0,0.0,0.0,0.0,0.0,0.0,0.0,0.0,0.0,0.0,0.0,0.0,0.0,0.0,0.0,0.0,0.0,0.0,0.0,0.0,0.0,0.0,0.0,0.0,0.0,0.0,0.0,0.0,0.0,0.0,0.0,0.0,0.0,0.0,0.0,0.0,0.0,0.0,0.0,0.0,0.0,0.0,0.0,0.0,0.0,0.0,0.0,0.0,0.0,0.0,0.0,0.0,0.0,0.0,0.0,0.0,0.0,0.0,0.0,0.0,0.0,0.0,0.0,0.0,0.0,0.0,0.0,0.0,0.0,0.0,0.0,0.0,0.0,0.0,0.0,0.0,0.0,0.0,0.0,0.0,0.0,0.0,0.0,0.0,0.0,0.0,0.0,0.0,0.0,0.0,0.0,0.0,0.0,0.0,0.0,0.0,0.0,0.0,0.0,0.0,0.0,0.0,0.0,0.0,0.0,0.0,0.0,0.0,0.0,0.0,0.0,0.0,0.0,0.0,0.0,0.0,0.0,0.0,0.0,0.0,0.0,0.0,0.0,0.0,0.0,0.0,0.0,0.0,0.0,0.0,0.0,0.0,0.0,0.0,0.0,0.0,0.0,0.0,0.0,0.0,0.0,0.0,0.0,0.0,0.0,0.0,0.0,0.0,0.0,0.0,0.0,0.0,0.0,0.0,0.0,0.0,0.0,0.0,0.0,0.0,0.0,0.0,0.0,0.0,0.0,0.0,0.0,0.0,0.0,0.0,0.0,0.0,0.0,0.0,0.0,0.0,0.0,0.0,0.0,0.0,0.0,0.0,0.0,0.0,0.0,0.0,0.0,0.0,0.0,0.0,0.0,0.0,0.0,0.0,0.0,0.0,0.0,0.0,0.0,0.0,0.0,0.0,0.0,0.0,0.0,0.0,0.0,0.0,0.0,0.0,0.0,0.0,0.0,0.0,0.0,0.0,0.0,0.0,0.0,0.0,0.0,0.0,0.0,0.0,0.0,0.0,0.0,0.0,0.0,0.0,0.0,0.0,0.0,0.0,0.0,0.0,0.0,0.0,0.0,0.0,0.0,0.0,0.0,0.0,0.0,0.0,0.0,0.0,0.0,0.0,0.0,0.0,0.0,0.0,0.0,0.0,0.0,0.0,0.0,0.0,0.0,0.0,0.0,0.0,0.0,0.0,0.0,0.0,0.0,0.0,0.0,0.0,0.0,0.0,0.0,0.0,0.0,0.0,0.0,0.0,0.0,0.0,0.0,0.0,0.0,0.0,0.0,0.0,0.0,0.0,0.0,0.0,0.0,0.0,0.0,0.0,0.0,0.0,0.0,0.0,0.0,0.0,0.0,0.0,0.0,0.0,0.0,0.0,0.0,0.0,0.0,0.0,0.0,0.0,0.0,0.0,0.0,0.0,0.0,0.0,0.0,0.0,0.0,0.0,0.0,0.0,0.0,0.0,0.0,0.0,0.0,0.0,0.0,0.0,0.0,0.0,0.0,0.0,0.0,0.0,0.0,0.0,0.0,0.0,0.0,0.0,0.0,0.0,0.0,0.0,0.0,0.0,0.0,0.0,0.0,0.0,0.0,0.0,0.0,0.0,0.0,0.0,0.0,0.0,0.0,0.0,0.0,0.0,0.0,0.0,0.0,0.0,0.0,0.0,0.0,0.0,0.0,0.0,0.0,0.0,0.0,0.0,0.0,0.0,0.0,0.0,0.0,0.0,0.0,0.0,0.0,0.0,0.0,0.0,0.0,0.0,0.0,0.0,0.0,0.0,0.0,0.0,0.0,0.0,0.0,0.0,0.0,0.0,0.0,0.0,0.0,0.0,0.0,0.0,0.0,0.0,0.0,0.0,0.0,0.0,0.0,0.0,0.0,0.0,0.0,0.0,0.0,0.0,0.0,0.0,0.0,0.0,0.0,0.0,0.0,0.0,0.0,0.0,0.0,0.0,0.0,0.0,0.0,0.0,0.0,0.0,0.0,0.0,0.0,0.0,0.0,0.0,0.0,0.0,0.0,0.0,0.0,0.0,0.0,0.0,0.0,0.0,0.0,0.0,0.0,0.0,0.0,0.0,0.0,0.0,0.0,0.0,0.0,0.0,0.0,0.0,0.0,0.0,0.0,0.0,0.0,0.0,0.0,0.0,0.0,0.0,0.0,0.0,0.0,0.0,0.0,0.0,0.0,0.0,0.0,0.0,0.0,0.0,0.0,0.0,0.0,0.0,0.0,0.0,0.0,0.0,0.0,0.0,0.0,0.0,0.0,0.0,0.0,0.0,0.0,0.0,0.0,0.0,0.0,0.0,0.0,0.0,0.0,0.0,0.0,0.0,0.0,0.0,0.0,0.0,0.0,0.0,0.0,0.0,0.0,0.0,0.0,0.0,0.0,0.0,0.0,0.0,0.0,0.0,0.0,0.0,0.0,0.0,0.0,0.0,0.0,0.0,0.0,0.0,0.0,0.0,0.0,0.0,0.0,0.0,0.0,0.0,0.0,0.0,0.0,0.0,0.0,0.0,0.0,0.0,0.0,0.0,0.0,0.0,0.0,0.0,0.0,0.0,0.0,0.0,0.0,0.0,0.0,0.0,0.0,0.0,0.0,0.0,0.0,0.0,0.0,0.0,0.0,0.0,0.0,0.0,0.0,0.0,0.0,0.0,0.0,0.0,0.0,0.0,0.0,0.0,0.0,0.0,0.0,0.0,0.0,0.0,0.0,0.0,0.0,0.0,0.0,0.0,0.0,0.0,0.0,0.0,0.0,0.0,0.0,0.0,0.0,0.0,0.0,0.0,0.0,0.0,0.0,0.0,0.0,0.0,0.0,0.0,0.0,0.0,0.0,0.0,0.0,0.0,0.0,0.0,0.0,0.0,0.0,0.0,0.0,0.0,0.0,0.0,0.0,0.0,0.0,0.0,0.0,0.0,0.0,0.0,0.0,0.0,0.0,0.0,0.0,0.0,0.0,0.0,0.0,0.0,0.0,0.0,0.0,0.0,0.0,0.0,0.0,0.0,0.0,0.0,0.0,0.0,0.0,0.0,0.0,0.0,0.0,0.0,0.0,0.0,0.0,0.0,0.0,0.0,0.0,0.0,0.0,0.0,0.0,0.0,0.0,0.0,0.0,0.0,0.0,0.0,0.0,0.0,0.0,0.0,0.0,0.0,0.0,0.0,0.0,0.0,0.0,0.0,0.0,0.0,0.0,0.0,0.0,0.0,0.0,0.0,0.0,0.0,0.0,0.0,0.0,0.0,0.0,0.0,0.0,0.0,0.0,0.0,0.0,0.0,0.0,0.0,0.0,0.0,0.0,0.0,0.0,0.0,0.0,0.0,0.0,0.0,0.0,0.0,0.0,0.0,0.0,0.0,0.0,0.0,0.0,0.0,0.0,0.0,0.0,0.0,0.0,0.0,0.0,0.0,0.0,0.0,0.0,0.0,0.0,0.0,0.0,0.0,0.0,0.0,0.0,0.0,0.0,0.0,0.0,0.0,0.0,0.0,0.0,0.0,0.0,0.0,0.0,0.0,0.0,0.0,0.0,0.0,0.0,0.0,0.0,0.0,0.0,0.0,0.0,0.0,0.0,0.0,0.0,0.0,0.0,0.0,0.0,0.0,0.0,0.0,0.0,0.0,0.0,0.0,0.0,0.0,0.0,0.0,0.0,0.0,0.0,0.0,0.0,0.0,0.0,0.0,0.0,0.0,0.0,0.0,0.0,0.0,0.0,0.0,0.0,0.0,0.0,0.0,0.0,0.0,0.0,0.0,0.0,0.0,0.0,0.0,0.0,0.0,0.0,0.0,0.0,0.0,0.0,0.0,0.0,0.0,0.0,0.0,0.0,0.0,0.0,0.0,0.0,0.0,0.0,0.0,0.0,0.0,0.0,0.0,0.0,0.0,0.0,0.0,0.0,0.0,0.0,0.0,0.0,0.0,0.0,0.0,0.0,0.0,0.0,0.0,0.0,0.0,0.0,0.0,0.0,0.0,0.0,0.0,0.0,0.0,0.0,0.0,0.0,0.0,0.0,0.0,0.0,0.0,0.0,0.0,0.0,0.0,0.0,0.0,0.0,0.0,0.0,0.0,0.0,0.0,0.0,0.0,0.0,0.0,0.0,0.0,0.0,0.0,0.0,0.0,0.0,0.0,0.0,0.0,0.0,0.0,0.0,0.0,0.0,0.0,0.0,0.0,0.0,0.0,0.0,0.0,0.0,0.0,0.0,0.0,0.0,0.0,0.0,0.0,0.0,0.0,0.0,0.0,0.0,0.0,0.0,0.0,0.0,0.0,0.0,0.0,0.0,0.0,0.0,0.0,0.0,0.0,0.0,0.0,0.0,0.0,0.0,0.0,0.0,0.0,0.0,0.0,0.0,0.0,0.0,0.0,0.0,0.0,0.0,0.0,0.0,0.0,0.0,0.0,0.0,0.0,0.0,0.0,0.0,0.0,0.0,0.0,0.0,0.0,0.0,0.0,0.0,0.0,0.0,0.0,0.0,0.0,0.0,0.0,0.0,0.0,0.0,0.0,0.0,0.0,0.0,0.0,0.0,0.0,0.0,0.0,0.0,0.0,0.0,0.0,0.0,0.0,0.0,0.0,0.0,0.0,0.0,0.0,0.0,0.0,0.0,0.0,0.0,0.0,0.0,0.0,0.0,0.0,0.0,0.0,0.0,0.0,0.0,0.0,0.0,0.0,0.0,0.0,0.0,0.0,0.0,0.0,0.0,0.0,0.0,0.0,0.0,0.0,0.0,0.0,0.0,0.0,0.0,0.0,0.0,0.0,0.0,0.0,0.0,0.0,0.0,0.0,0.0,0.0,0.0,0.0,0.0,0.0,0.0,0.0,0.0,0.0,0.0,0.0,0.0,0.0,0.0,0.0,0.0,0.0,0.0,0.0,0.0,0.0,0.0,0.0,0.0,0.0,0.0,0.0,0.0,0.0,0.0,0.0,0.0,0.0,0.0,0.0,0.0,0.0,0.0,0.0,0.0,0.0,0.0,0.0,0.0,0.0,0.0,0.0,0.0,0.0,0.0,0.0,0.0,0.0,0.0,0.0,0.0,0.0,0.0,0.0,0.0,0.0,0.0,0.0,0.0,0.0,0.0,0.0,0.0,0.0,0.0,0.0,0.0,0.0,0.0,0.0,0.0,0.0,0.0,0.0,0.0,0.0,0.0,0.0,0.0,0.0,0.0,0.0,0.0,0.0,0.0,0.0,0.0,0.0,0.0,0.0,0.0,0.0,0.0,0.0,0.0,0.0,0.0,0.0,0.0,0.0,0.0,0.0,0.0,0.0,0.0,0.0,0.0,0.0,0.0,0.0,0.0,0.0,0.0,0.0,0.0,0.0,0.0,0.0,0.0,0.0,0.0,0.0,0.0,0.0,0.0,0.0,0.0,0.0,0.0,0.0,0.0,0.0,0.0,0.0,0.0,0.0,0.0,0.0,0.0,0.0,0.0,0.0,0.0,0.0,0.0,0.0,0.0,0.0,0.0,0.0,0.0,0.0,0.0,0.0,0.0,0.0,0.0,0.0,0.0,0.0,0.0,0.0,0.0,0.0,0.0,0.0,0.0,0.0,0.0,0.0,0.0,0.0,0.0,0.0,0.0,0.0,0.0,0.0,0.0,0.0,0.0,0.0,0.0,0.0,0.0,0.0,0.0,0.0,0.0,0.0,0.0,0.0,0.0,0.0,0.0,0.0,0.0,0.0,0.0,0.0,0.0,0.0,0.0,0.0,0.0,0.0,0.0,0.0,0.0,0.0,0.0,0.0,0.0,0.0,0.0,0.0,0.0,0.0,0.0,0.0,0.0,0.0,0.0,0.0,0.0,0.0,0.0,0.0,0.0,0.0,0.0,0.0,0.0,0.0,0.0,0.0,0.0,0.0,0.0,0.0,0.0,0.0,0.0,0.0,0.0,0.0,0.0,0.0,0.0,0.0,0.0,0.0,0.0,0.0,0.0,0.0,0.0,0.0,0.0,0.0,0.0,0.0,0.0,0.0,0.0,0.0,0.0,0.0,0.0,0.0,0.0,0.0,0.0,0.0,0.0,0.0,0.0,0.0,0.0,0.0,0.0,0.0,0.0,0.0,0.0,0.0,0.0,0.0,0.0,0.0,0.0,0.0,0.0,0.0,0.0,0.0,0.0,0.0,0.0,0.0,0.0,0.0,0.0,0.0,0.0,0.0,0.0,0.0,0.0,0.0,0.0,0.0,0.0,0.0,0.0,0.0,0.0,0.0,0.0,0.0,0.0,0.0,0.0,0.0,0.0,0.0,0.0,0.0,0.0,0.0,0.0,0.0,0.0,0.0,0.0,0.0,0.0,0.0,0.0,0.0,0.0,0.0,0.0,0.0,0.0,0.0,0.0,0.0,0.0,0.0,0.0,0.0,0.0,0.0,0.0,0.0,0.0,0.0,0.0,0.0,0.0,0.0,0.0,0.0,0.0,0.0,0.0,0.0,0.0,0.0,0.0,0.0,0.0,0.0,0.0,0.0,0.0,0.0,0.0,0.0,0.0,0.0,0.0,0.0,0.0,0.0,0.0,0.0,0.0,0.0,0.0,0.0,0.0,0.0,0.0,0.0,0.0,0.0,0.0,0.0,0.0,0.0,0.0,0.0,0.0,0.0,0.0,0.0,0.0,0.0,0.0,0.0,0.0,0.0,0.0,0.0,0.0,0.0,0.0,0.0,0.0,0.0,0.0,0.0,0.0,0.0,0.0,0.0,0.0,0.0,0.0,0.0,0.0,0.0,0.0,0.0,0.0,0.0,0.0,0.0,0.0,0.0,0.0,0.0,0.0,0.0,0.0,0.0,0.0,0.0,0.0,0.0,0.0,0.0,0.0,0.0,0.0,0.0,0.0,0.0,0.0,0.0,0.0,0.0,0.0,0.0,0.0,0.0,0.0,0.0,0.0,0.0,0.0,0.0,0.0,0.0,0.0,0.0,0.0,0.0,0.0,0.0,0.0,0.0,0.0,0.0,0.0,0.0,0.0,0.0,0.0,0.0,0.0,0.0,0.0,0.0,0.0,0.0,0.0,0.0,0.0,0.0,0.0,0.0,0.0,0.0,0.0,0.0,0.0,0.0,0.0,0.0,0.0,0.0,0.0,0.0,0.0,0.0,0.0,0.0,0.0,0.0,0.0,0.0,0.0,0.0,0.0,0.0,0.0,0.0,0.0,0.0,0.0,0.0,0.0,0.0,0.0,0.0,0.0,0.0,0.0,0.0,0.0,0.0,0.0,0.0,0.0,0.0,0.0,0.0,0.0,0.0,0.0,0.0,0.0,0.0,0.0,0.0,0.0,0.0,0.0,0.0,0.0,0.0,0.0,0.0,0.0,0.0,0.0,0.0,0.0,0.0,0.0,0.0,0.0,0.0,0.0,0.0,0.0,0.0,0.0,0.0,0.0,0.0,0.0,0.0,0.0,0.0,0.0,0.0,0.0,0.0,0.0,0.0,0.0,0.0,0.0,0.0,0.0,0.0,0.0,0.0,0.0,0.0,0.0,0.0,0.0,0.0,0.0,0.0,0.0,0.0,0.0,0.0,0.0,0.0,0.0,0.0,0.0,0.0,0.0,0.0,0.0,0.0,0.0,0.0,0.0,0.0,0.0,0.0,0.0,0.0,0.0,0.0,0.0,0.0,0.0,0.0,0.0,0.0,0.0,0.0,0.0,0.0,0.0,0.0,0.0,0.0,0.0,0.0,0.0,0.0,0.0,0.0,0.0,0.0,0.0,0.0,0.0,0.0,0.0,0.0,0.0,0.0,0.0,0.0,0.0,0.0,0.0,0.0,0.0,0.0,0.0,0.0,0.0,0.0,0.0,0.0,0.0,0.0,0.0,0.0,0.0,0.0,0.0,0.0,0.0,0.0,0.0,0.0,0.0,0.0,0.0,0.0,0.0,0.0,0.0,0.0,0.0,0.0,0.0,0.0,0.0,0.0,0.0,0.0,0.0,0.0,0.0,0.0,0.0,0.0,0.0,0.0,0.0,0.0,0.0,0.0,0.0,0.0,0.0,0.0,0.0,0.0,0.0,0.0,0.0,0.0,0.0,0.0,0.0,0.0,0.0,0.0,0.0,0.0,0.0,0.0,0.0,0.0,0.0,0.0,0.0,0.0,0.0,0.0,0.0,0.0,0.0,0.0,0.0,0.0,0.0,0.0,0.0,0.0,0.0,0.0,0.0,0.0,0.0,0.0,0.0,0.0,0.0,0.0,0.0,0.0,0.0,0.0,0.0,0.0,0.0,0.0,0.0,0.0,0.0,0.0,0.0,0.0,0.0,0.0,0.0,0.0,0.0,0.0,0.0,0.0,0.0,0.0,0.0,0.0,0.0,0.0,0.0,0.0,0.0,0.0,0.0,0.0,0.0,0.0,0.0,0.0,0.0,0.0,0.0,0.0,0.0,0.0,0.0,0.0,0.0,0.0,0.0,0.0,0.0,0.0,0.0,0.0,0.0,0.0,0.0,0.0,0.0,0.0,0.0,0.0,0.0,0.0,0.0,0.0,0.0,0.0,0.0,0.0,0.0,0.0,0.0,0.0,0.0,0.0,0.0,0.0,0.0,0.0,0.0,0.0,0.0,0.0,0.0,0.0,0.0,0.0,0.0,0.0,0.0,0.0,0.0,0.0,0.0,0.0,0.0,0.0,0.0,0.0,0.0,0.0,0.0,0.0,0.0,0.0,0.0,0.0,0.0,0.0,0.0,0.0,0.0,0.0,0.0,0.0,0.0,0.0,0.0,0.0,0.0,0.0,0.0,0.0,0.0,0.0,0.0,0.0,0.0,0.0,0.0,0.0,0.0,0.0,0.0,0.0,0.0,0.0,0.0,0.0,0.0,0.0,0.0,0.0,0.0,0.0,0.0,0.0,0.0,0.0,0.0,0.0,0.0,0.0,0.0,0.0,0.0,0.0,0.0,0.0,0.0,0.0,0.0,0.0,0.0,0.0,0.0,0.0,0.0,0.0,0.0,0.0,0.0,0.0,0.0,0.0,0.0,0.0,0.0,0.0,0.0,0.0,0.0,0.0,0.0,0.0,0.0,0.0,0.0,0.0,0.0,0.0,0.0,0.0,0.0,0.0,0.0,0.0,0.0,0.0,0.0,0.0,0.0,0.0,0.0,0.0,0.0,0.0,0.0,0.0,0.0,0.0,0.0,0.0,0.0,0.0,0.0,0.0,0.0,0.0,0.0,0.0,0.0,0.0,0.0,0.0,0.0,0.0,0.0,0.0,0.0,0.0,0.0,0.0,0.0,0.0,0.0,0.0,0.0,0.0,0.0,0.0,0.0,0.0,0.0,0.0,0.0,0.0,0.0,0.0,0.0,0.0,0.0,0.0,0.0,0.0,0.0,0.0,0.0,0.0,0.0,0.0,0.0,0.0,0.0,0.0,0.0,0.0,0.0,0.0,0.0,0.0,0.0,0.0,0.0,0.0,0.0,0.0,0.0,0.0,0.0,0.0,0.0,0.0,0.0,0.0,0.0,0.0,0.0,0.0,0.0,0.0,0.0,0.0,0.0,0.0,0.0,0.0,0.0,0.0,0.0,0.0,0.0,0.0,0.0,0.0,0.0,0.0,0.0,0.0,0.0,0.0,0.0,0.0,0.0,0.0,0.0,0.0,0.0,0.0,0.0,0.0,0.0,0.0,0.0,0.0,0.0,0.0,0.0,0.0,0.0,0.0,0.0,0.0,0.0,0.0,0.0,0.0,0.0,0.0,0.0,0.0,0.0,0.0,0.0,0.0,0.0,0.0,0.0,0.0,0.0,0.0,0.0,0.0,0.0,0.0,0.0,0.0,0.0,0.0,0.0,0.0,0.0,0.0,0.0,0.0,0.0,0.0,0.0,0.0,0.0,0.0,0.0,0.0,0.0,0.0,0.0,0.0,0.0,0.0,0.0,0.0,0.0,0.0,0.0,0.0,0.0,0.0,0.0,0.0,0.0,0.0,0.0,0.0,0.0,0.0,0.0,0.0,0.0,0.0,0.0,0.0,0.0,0.0,0.0,0.0,0.0,0.0,0.0,0.0,0.0,0.0,0.0,0.0,0.0,0.0,0.0,0.0,0.0,0.0,0.0,0.0,0.0,0.0,0.0,0.0,0.0,0.0,0.0,0.0,0.0,0.0,0.0,0.0,0.0,0.0,0.0,0.0,0.0,0.0,0.0,0.0,0.0,0.0,0.0,0.0,0.0,0.0,0.0,0.0,0.0,0.0,0.0,0.0,0.0,0.0,0.0,0.0,0.0,0.0,0.0,0.0,0.0,0.0,0.0,0.0,0.0,0.0,0.0,0.0,0.0,0.0,0.0,0.0,0.0,0.0,0.0,0.0,0.0,0.0,0.0,0.0,0.0,0.0,0.0,0.0,0.0,0.0,0.0,0.0,0.0,0.0,0.0,0.0,0.0,0.0,0.0,0.0,0.0,0.0,0.0,0.0,0.0,0.0,0.0,0.0,0.0,0.0,0.0,0.0,0.0,0.0,0.0,0.0,0.0,0.0,0.0,0.0,0.0,0.0,0.0,0.0,0.0,0.0,0.0,0.0,0.0,0.0,0.0,0.0,0.0,0.0,0.0,0.0,0.0,0.0,0.0,0.0,0.0,0.0,0.0,0.0,0.0,0.0,0.0,0.0,0.0,0.0,0.0,0.0,0.0,0.0,0.0,0.0,0.0,0.0,0.0,0.0,0.0,0.0,0.0,0.0,0.0,0.0,0.0,0.0,0.0,0.0,0.0,0.0,0.0,0.0,0.0,0.0,0.0,0.0,0.0,0.0,0.0,0.0,0.0,0.0,0.0,0.0,0.0,0.0,0.0,0.0,0.0,0.0,0.0,0.0,0.0,0.0,0.0,0.0,0.0,0.0,0.0,0.0,0.0,0.0,0.0,0.0,0.0,0.0,0.0,0.0,0.0,0.0,0.0,0.0,0.0,0.0,0.0,0.0,0.0,0.0,0.0,0.0,0.0,0.0,0.0,0.0,0.0,0.0,0.0,0.0,0.0,0.0,0.0,0.0,0.0,0.0,0.0,0.0,0.0,0.0,0.0,0.0,0.0,0.0,0.0,0.0,0.0,0.0,0.0,0.0,0.0,0.0,0.0,0.0,0.0,0.0,0.0,0.0,0.0,0.0,0.0,0.0,0.0,0.0,0.0,0.0,0.0,0.0,0.0,0.0,0.0,0.0,0.0,0.0,0.0,0.0,0.0,0.0,0.0,0.0,0.0,0.0,0.0,0.0,0.0,0.0,0.0,0.0,0.0,0.0,0.0,0.0,0.0,0.0,0.0,0.0,0.0,0.0,0.0,0.0,0.0,0.0,0.0,0.0,0.0,0.0,0.0,0.0,0.0,0.0,0.0,0.0,0.0,0.0,0.0,0.0,0.0,0.0,0.0,0.0,0.0,0.0,0.0,0.0,0.0,0.0,0.0,0.0,0.0,0.0,0.0,0.0,0.0,0.0,0.0,0.0,0.0,0.0,0.0,0.0,0.0,0.0,0.0,0.0,0.0,0.0,0.0,0.0,0.0,0.0,0.0,0.0,0.0,0.0,0.0,0.0,0.0,0.0,0.0,0.0,0.0,0.0,0.0,0.0,0.0,0.0,0.0,0.0,0.0,0.0,0.0,0.0,0.0,0.0,0.0,0.0,0.0,0.0,0.0,0.0,0.0,0.0,0.0,0.0,0.0,0.0,0.0,0.0,0.0,0.0,0.0,0.0,0.0,0.0,0.0,0.0,0.0,0.0,0.0,0.0,0.0,0.0,0.0,0.0,0.0,0.0,0.0,0.0,0.0,0.0,0.0,0.0,0.0,0.0,0.0,0.0,0.0,0.0,0.0,0.0,0.0,0.0,0.0,0.0,0.0,0.0,0.0,0.0,0.0,0.0,0.0,0.0,0.0,0.0,0.0,0.0,0.0,0.0,0.0,0.0,0.0,0.0,0.0,0.0,0.0,0.0,0.0,0.0,0.0,0.0,0.0,0.0,0.0,0.0,0.0,0.0,0.0,0.0,0.0,0.0,0.0,0.0,0.0,0.0,0.0,0.0,0.0,0.0,0.0,0.0,0.0,0.0,0.0,0.0,0.0,0.0,0.0,0.0,0.0,0.0,0.0,0.0,0.0,0.0,0.0,0.0,0.0,0.0,0.0,0.0,0.0,0.0,0.0,0.0,0.0,0.0,0.0,0.0,0.0,0.0,0.0,0.0,0.0,0.0,0.0,0.0,0.0,0.0,0.0,0.0,0.0,0.0,0.0,0.0,0.0,0.0,0.0,0.0,0.0,0.0,0.0,0.0,0.0,0.0,0.0,0.0,0.0,0.0,0.0,0.0,0.0,0.0,0.0,0.0,0.0,0.0,0.0,0.0,0.0,0.0,0.0,0.0,0.0,0.0,0.0,0.0,0.0,0.0,0.0,0.0,0.0,0.0,0.0,0.0,0.0,0.0,0.0,0.0,0.0,0.0,0.0,0.0,0.0,0.0,0.0,0.0,0.0,0.0,0.0,0.0,0.0,0.0,0.0,0.0,0.0,0.0,0.0,0.0,0.0,0.0,0.0,0.0,0.0,0.0,0.0,0.0,0.0,0.0,0.0,0.0,0.0,0.0,0.0,0.0,0.0,0.0,0.0,0.0,0.0,0.0,0.0,0.0,0.0,0.0,0.0,0.0,0.0,0.0,0.0,0.0,0.0,0.0,0.0,0.0,0.0,0.0,0.0,0.0,0.0,0.0,0.0,0.0,0.0,0.0,0.0,0.0,0.0,0.0,0.0,0.0,0.0,0.0,0.0,0.0,0.0,0.0,0.0,0.0,0.0,0.0,0.0,0.0,0.0,0.0,0.0,0.0,0.0,0.0,0.0,0.0,0.0,0.0,0.0,0.0,0.0,0.0,0.0,0.0,0.0,0.0,0.0,0.0,0.0,0.0,0.0,0.0,0.0,0.0,0.0,0.0,0.0,0.0,0.0,0.0,0.0,0.0,0.0,0.0,0.0,0.0,0.0,0.0,0.0,0.0,0.0,0.0,0.0,0.0,0.0,0.0,0.0,0.0,0.0,0.0,0.0,0.0,0.0,0.0,0.0,0.0,0.0,0.0,0.0,0.0,0.0,0.0,0.0,0.0,0.0,0.0,0.0,0.0,0.0,0.0,0.0,0.0,0.0,0.0,0.0,0.0,0.0,0.0,0.0,0.0,0.0,0.0,0.0,0.0,0.0,0.0,0.0,0.0,0.0,0.0,0.0,0.0,0.0,0.0,0.0,0.0,0.0,0.0,0.0,0.0,0.0,0.0,0.0,0.0,0.0,0.0,0.0,0.0,0.0,0.0,0.0,0.0,0.0,0.0,0.0,0.0,0.0,0.0,0.0,0.0,0.0,0.0,0.0,0.0,0.0,0.0,0.0,0.0,0.0,0.0,0.0,0.0,0.0,0.0,0.0,0.0,0.0,0.0,0.0,0.0,0.0,0.0,0.0,0.0,0.0,0.0,0.0,0.0,0.0,0.0,0.0,0.0,0.0,0.0,0.0,0.0,0.0,0.0,0.0,0.0,0.0,0.0,0.0,0.0,0.0,0.0,0.0,0.0,0.0,0.0,0.0,0.0,0.0,0.0,0.0,0.0,0.0,0.0,0.0,0.0,0.0,0.0,0.0,0.0,0.0,0.0,0.0,0.0,0.0,0.0,0.0,0.0,0.0,0.0,0.0,0.0,0.0,0.0,0.0,0.0,0.0,0.0,0.0,0.0,0.0,0.0,0.0,0.0,0.0,0.0,0.0,0.0,0.0,0.0,0.0,0.0,0.0,0.0,0.0,0.0,0.0,0.0,0.0,0.0,0.0,0.0,0.0,0.0,0.0,0.0,0.0,0.0,0.0,0.0,0.0,0.0,0.0,0.0,0.0,0.0,0.0,0.0,0.0,0.0,0.0,0.0,0.0,0.0,0.0,0.0,0.0,0.0,0.0,0.0,0.0,0.0,0.0,0.0,0.0,0.0,0.0,0.0,0.0,0.0,0.0,0.0,0.0,0.0,0.0,0.0,0.0,0.0,0.0,0.0,0.0,0.0,0.0,0.0,0.0,0.0,0.0,0.0,0.0,0.0,0.0,0.0,0.0,0.0,0.0,0.0,0.0,0.0,0.0,0.0,0.0,0.0,0.0,0.0,0.0,0.0,0.0,0.0,0.0,0.0,0.0,0.0,0.0,0.0,0.0,0.0,0.0,0.0,0.0,0.0,0.0,0.0,0.0,0.0,0.0,0.0,0.0,0.0,0.0,0.0,0.0,0.0,0.0,0.0,0.0,0.0,0.0,0.0,0.0,0.0,0.0,0.0,0.0,0.0,0.0,0.0,0.0,0.0,0.0,0.0,0.0,0.0,0.0,0.0,0.0,0.0,0.0,0.0,0.0,0.0,0.0,0.0,0.0,0.0,0.0,0.0,0.0,0.0,0.0,0.0,0.0,0.0,0.0,0.0,0.0,0.0,0.0,0.0,0.0,0.0,0.0,0.0,0.0,0.0,0.0,0.0,0.0,0.0,0.0,0.0,0.0,0.0,0.0,0.0,0.0,0.0,0.0,0.0,0.0,0.0,0.0,0.0,0.0,0.0,0.0,0.0,0.0,0.0,0.0,0.0,0.0,0.0,0.0,0.0,0.0,0.0,0.0,0.0,0.0,0.0,0.0,0.0,0.0,0.0,0.0,0.0,0.0,0.0,0.0,0.0,0.0,0.0,0.0,0.0,0.0,0.0,0.0,0.0,0.0,0.0,0.0,0.0,0.0,0.0,0.0,0.0,0.0,0.0,0.0,0.0,0.0,0.0,0.0,0.0,0.0,0.0,0.0,0.0,0.0,0.0,0.0,0.0,0.0,0.0,0.0,0.0,0.0,0.0,0.0,0.0,0.0,0.0,0.0,0.0,0.0,0.0,0.0,0.0,0.0,0.0,0.0,0.0,0.0,0.0,0.0,0.0,0.0,0.0,0.0,0.0,0.0,0.0,0.0,0.0,0.0,0.0,0.0,0.0,0.0,0.0,0.0,0.0,0.0,0.0,0.0,0.0,0.0,0.0,0.0,0.0,0.0,0.0,0.0,0.0,0.0,0.0,0.0,0.0,0.0,0.0,0.0,0.0,0.0,0.0,0.0,0.0,0.0,0.0,0.0,0.0,0.0,0.0,0.0,0.0,0.0,0.0,0.0,0.0,0.0,0.0,0.0,0.0,0.0,0.0,0.0,0.0,0.0,0.0,0.0,0.0,0.0,0.0,0.0,0.0,0.0,0.0,0.0,0.0,0.0,0.0,0.0,0.0,0.0,0.0,0.0,0.0,0.0,0.0,0.0,0.0,0.0,0.0,0.0,0.0,0.0,0.0,0.0,0.0,0.0,0.0,0.0,0.0,0.0,0.0,0.0,0.0,0.0,0.0,0.0,0.0,0.0,0.0,0.0,0.0,0.0,0.0,0.0,0.0,0.0,0.0,0.0,0.0,0.0,0.0,0.0,0.0,0.0,0.0,0.0,0.0,0.0,0.0,0.0,0.0,0.0,0.0,0.0,0.0,0.0,0.0,0.0,0.0,0.0,0.0,0.0,0.0,0.0,0.0,0.0,0.0,0.0,0.0,0.0,0.0,0.0,0.0,0.0,0.0,0.0,0.0,0.0,0.0,0.0,0.0,0.0,0.0,0.0,0.0,0.0,0.0,0.0,0.0,0.0,0.0,0.0,0.0,0.0,0.0,0.0]\n",
            "The Intercept of the model is :  0.0012247624703087886\n"
          ]
        }
      ]
    },
    {
      "cell_type": "code",
      "source": [
        "Pred_lr = lr_model.evaluate(output_test)"
      ],
      "metadata": {
        "id": "oeRW8av3oOfH"
      },
      "execution_count": null,
      "outputs": []
    },
    {
      "cell_type": "code",
      "source": [
        "#Root Mean Square Error\n",
        "eval_lr = RegressionEvaluator(labelCol=\"Sunrise_Sunset_Index\", predictionCol=\"prediction\", metricName=\"rmse\")\n",
        "rmse_lr = eval_lr.evaluate(Pred_lr.predictions)\n",
        "print(\"RMSE: %.3f\" % rmse_lr)\n",
        "\n",
        "# Mean Square Error\n",
        "mse = eval_lr.evaluate(Pred_lr.predictions, {eval_lr.metricName: \"mse\"})\n",
        "print(\"MSE: %.3f\" % mse)\n",
        "\n",
        "# Mean Absolute Error\n",
        "mae = eval_lr.evaluate(Pred_lr.predictions, {eval_lr.metricName: \"mae\"})\n",
        "print(\"MAE: %.3f\" % mae)\n",
        "\n",
        "# r2 - coefficient of determination\n",
        "r2 = eval_lr.evaluate(Pred_lr.predictions, {eval_lr.metricName: \"r2\"})\n",
        "print(\"r2: %.3f\" %r2)"
      ],
      "metadata": {
        "colab": {
          "base_uri": "https://localhost:8080/"
        },
        "id": "bwZf1S0poUEH",
        "outputId": "64059b29-7033-4301-ef9c-f6b526ac92b3"
      },
      "execution_count": null,
      "outputs": [
        {
          "output_type": "stream",
          "name": "stdout",
          "text": [
            "RMSE: 0.441\n",
            "MSE: 0.195\n",
            "MAE: 0.189\n",
            "r2: -0.218\n"
          ]
        }
      ]
    }
  ]
}