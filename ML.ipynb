{
  "nbformat": 4,
  "nbformat_minor": 0,
  "metadata": {
    "colab": {
      "provenance": [],
      "mount_file_id": "1Jab2DUXez4z1kx-o-Btc9jKPcoslob_t",
      "authorship_tag": "ABX9TyNr5dE0c5hdXanogpz4HnPY",
      "include_colab_link": true
    },
    "kernelspec": {
      "name": "python3",
      "display_name": "Python 3"
    },
    "language_info": {
      "name": "python"
    }
  },
  "cells": [
    {
      "cell_type": "markdown",
      "metadata": {
        "id": "view-in-github",
        "colab_type": "text"
      },
      "source": [
        "<a href=\"https://colab.research.google.com/github/Jarcos09/Tareas/blob/main/ML.ipynb\" target=\"_parent\"><img src=\"https://colab.research.google.com/assets/colab-badge.svg\" alt=\"Open In Colab\"/></a>"
      ]
    },
    {
      "cell_type": "markdown",
      "source": [
        "# 🎓 **Inteligencia Artificial Aplicada**\n",
        "\n",
        "## 🤖 **Análisis de grandes volúmenes de datos (Gpo 10)**\n",
        "\n",
        "### 🏛️ Tecnológico de Monterrey\n",
        "\n",
        "#### 👨‍🏫 **Profesor titular :** Dr. Iván Olmos Pineda\n",
        "#### 👩‍🏫 **Profesor asistente :** Verónica Sandra Guzmán de Valle\n",
        "\n",
        "### 📊 **Proyecto | Base de Datos de Big Data**\n",
        "\n",
        "#### 📅 **04 de mayo de 2025**\n",
        "\n",
        "* 🧑‍💻 **A01795941 :** Juan Carlos Pérez Nava\n",
        "\n",
        "\n"
      ],
      "metadata": {
        "id": "XLo2RHbqcPHa"
      }
    },
    {
      "cell_type": "code",
      "source": [
        "import os\n",
        "import sys\n",
        "module_path = os.path.abspath(os.path.join('proyectos/librerias'))\n",
        "if module_path not in sys.path:\n",
        "    sys.path.append(module_path)\n",
        "from graficas import *\n",
        "\n",
        "from pyspark.sql import SparkSession\n",
        "from pyspark.sql.functions import col, sum, avg, lit, count, when\n",
        "from pyspark.ml.feature import StringIndexer, OneHotEncoder\n",
        "from pyspark.ml.feature import QuantileDiscretizer\n",
        "from pyspark.ml.feature import VectorAssembler\n",
        "from pyspark.ml.evaluation import RegressionEvaluator\n",
        "\n",
        "\n",
        "import matplotlib.pyplot as plt\n",
        "import seaborn as sns\n",
        "import kagglehub\n",
        "\n",
        "import pandas as pd\n",
        "from pyspark.ml.feature import Imputer\n",
        "\n"
      ],
      "metadata": {
        "id": "lNK_005tHX9o"
      },
      "execution_count": null,
      "outputs": []
    },
    {
      "cell_type": "code",
      "source": [
        "path = kagglehub.dataset_download(\"sobhanmoosavi/us-accidents\")\n",
        "print(\"Path to dataset files:\", path)"
      ],
      "metadata": {
        "colab": {
          "base_uri": "https://localhost:8080/"
        },
        "id": "j7RDNtCfV_j8",
        "outputId": "ba7792de-26ec-4ed5-e4cb-f2e8a0c7c6a9"
      },
      "execution_count": null,
      "outputs": [
        {
          "output_type": "stream",
          "name": "stdout",
          "text": [
            "Path to dataset files: /home/jarcos/.cache/kagglehub/datasets/sobhanmoosavi/us-accidents/versions/13\n"
          ]
        }
      ]
    },
    {
      "cell_type": "code",
      "source": [
        "spark = SparkSession.builder.master(\"local[*]\").appName(\"CargarCSV\").config(\"spark.driver.memory\", \"40g\").config(\"spark.executor.memory\", \"20g\").getOrCreate()\n",
        "df_accident = spark.read.option(\"header\", True).option(\"inferSchema\", True).csv(path)"
      ],
      "metadata": {
        "colab": {
          "base_uri": "https://localhost:8080/"
        },
        "id": "KzhCy58rgjX1",
        "outputId": "300a8786-8038-443d-ddc2-63e9662881c6"
      },
      "execution_count": null,
      "outputs": [
        {
          "output_type": "stream",
          "name": "stderr",
          "text": [
            "Setting default log level to \"WARN\".\n",
            "To adjust logging level use sc.setLogLevel(newLevel). For SparkR, use setLogLevel(newLevel).\n",
            "25/05/20 18:31:38 WARN NativeCodeLoader: Unable to load native-hadoop library for your platform... using builtin-java classes where applicable\n"
          ]
        }
      ]
    },
    {
      "cell_type": "code",
      "source": [
        "df_accident.show(5)"
      ],
      "metadata": {
        "colab": {
          "base_uri": "https://localhost:8080/"
        },
        "id": "97uEFSF5t4A0",
        "outputId": "b6c60810-d354-4ce4-89f2-32e62f199d37"
      },
      "execution_count": null,
      "outputs": [
        {
          "output_type": "stream",
          "name": "stderr",
          "text": [
            "25/05/20 18:31:48 WARN SparkStringUtils: Truncated the string representation of a plan since it was too large. This behavior can be adjusted by setting 'spark.sql.debug.maxToStringFields'.\n"
          ]
        },
        {
          "output_type": "stream",
          "name": "stdout",
          "text": [
            "+---+-------+--------+-------------------+-------------------+-----------------+------------------+-------+-------+------------+--------------------+--------------------+------------+----------+-----+----------+-------+----------+------------+-------------------+--------------+-------------+-----------+------------+--------------+--------------+---------------+-----------------+-----------------+-------+-----+--------+--------+--------+-------+-------+----------+-------+-----+---------------+--------------+------------+--------------+--------------+-----------------+---------------------+\n",
            "| ID| Source|Severity|         Start_Time|           End_Time|        Start_Lat|         Start_Lng|End_Lat|End_Lng|Distance(mi)|         Description|              Street|        City|    County|State|   Zipcode|Country|  Timezone|Airport_Code|  Weather_Timestamp|Temperature(F)|Wind_Chill(F)|Humidity(%)|Pressure(in)|Visibility(mi)|Wind_Direction|Wind_Speed(mph)|Precipitation(in)|Weather_Condition|Amenity| Bump|Crossing|Give_Way|Junction|No_Exit|Railway|Roundabout|Station| Stop|Traffic_Calming|Traffic_Signal|Turning_Loop|Sunrise_Sunset|Civil_Twilight|Nautical_Twilight|Astronomical_Twilight|\n",
            "+---+-------+--------+-------------------+-------------------+-----------------+------------------+-------+-------+------------+--------------------+--------------------+------------+----------+-----+----------+-------+----------+------------+-------------------+--------------+-------------+-----------+------------+--------------+--------------+---------------+-----------------+-----------------+-------+-----+--------+--------+--------+-------+-------+----------+-------+-----+---------------+--------------+------------+--------------+--------------+-----------------+---------------------+\n",
            "|A-1|Source2|       3|2016-02-08 05:46:00|2016-02-08 11:00:00|        39.865147|        -84.058723|   NULL|   NULL|        0.01|Right lane blocke...|              I-70 E|      Dayton|Montgomery|   OH|     45424|     US|US/Eastern|        KFFO|2016-02-08 05:58:00|          36.9|         NULL|       91.0|       29.68|          10.0|          Calm|           NULL|             0.02|       Light Rain|  false|false|   false|   false|   false|  false|  false|     false|  false|false|          false|         false|       false|         Night|         Night|            Night|                Night|\n",
            "|A-2|Source2|       2|2016-02-08 06:07:59|2016-02-08 06:37:59|39.92805900000001|        -82.831184|   NULL|   NULL|        0.01|Accident on Brice...|            Brice Rd|Reynoldsburg|  Franklin|   OH|43068-3402|     US|US/Eastern|        KCMH|2016-02-08 05:51:00|          37.9|         NULL|      100.0|       29.65|          10.0|          Calm|           NULL|              0.0|       Light Rain|  false|false|   false|   false|   false|  false|  false|     false|  false|false|          false|         false|       false|         Night|         Night|            Night|                  Day|\n",
            "|A-3|Source2|       2|2016-02-08 06:49:27|2016-02-08 07:19:27|        39.063148|        -84.032608|   NULL|   NULL|        0.01|Accident on OH-32...|      State Route 32|Williamsburg|  Clermont|   OH|     45176|     US|US/Eastern|        KI69|2016-02-08 06:56:00|          36.0|         33.3|      100.0|       29.67|          10.0|            SW|            3.5|             NULL|         Overcast|  false|false|   false|   false|   false|  false|  false|     false|  false|false|          false|          true|       false|         Night|         Night|              Day|                  Day|\n",
            "|A-4|Source2|       3|2016-02-08 07:23:34|2016-02-08 07:53:34|        39.747753|-84.20558199999998|   NULL|   NULL|        0.01|Accident on I-75 ...|              I-75 S|      Dayton|Montgomery|   OH|     45417|     US|US/Eastern|        KDAY|2016-02-08 07:38:00|          35.1|         31.0|       96.0|       29.64|           9.0|            SW|            4.6|             NULL|    Mostly Cloudy|  false|false|   false|   false|   false|  false|  false|     false|  false|false|          false|         false|       false|         Night|           Day|              Day|                  Day|\n",
            "|A-5|Source2|       2|2016-02-08 07:39:07|2016-02-08 08:09:07|        39.627781|        -84.188354|   NULL|   NULL|        0.01|Accident on McEwe...|Miamisburg Center...|      Dayton|Montgomery|   OH|     45459|     US|US/Eastern|        KMGY|2016-02-08 07:53:00|          36.0|         33.3|       89.0|       29.65|           6.0|            SW|            3.5|             NULL|    Mostly Cloudy|  false|false|   false|   false|   false|  false|  false|     false|  false|false|          false|          true|       false|           Day|           Day|              Day|                  Day|\n",
            "+---+-------+--------+-------------------+-------------------+-----------------+------------------+-------+-------+------------+--------------------+--------------------+------------+----------+-----+----------+-------+----------+------------+-------------------+--------------+-------------+-----------+------------+--------------+--------------+---------------+-----------------+-----------------+-------+-----+--------+--------+--------+-------+-------+----------+-------+-----+---------------+--------------+------------+--------------+--------------+-----------------+---------------------+\n",
            "only showing top 5 rows\n",
            "\n"
          ]
        }
      ]
    },
    {
      "cell_type": "code",
      "source": [
        "columnas_clave = [\n",
        "    \"ID\", \"Weather_Condition\",\"Precipitation(in)\",\"Severity\", \"City\", \"State\",\n",
        "    \"Temperature(F)\", \"Humidity(%)\", \"Visibility(mi)\",\"Wind_Direction\",\"Wind_Speed(mph)\",\"Crossing\",\"Junction\",\"Railway\",\n",
        "    \"Roundabout\",\"Stop\",\"Sunrise_Sunset\",\"Traffic_Calming\",\"Traffic_Signal\"]"
      ],
      "metadata": {
        "id": "df6B_9yTrVaf"
      },
      "execution_count": null,
      "outputs": []
    },
    {
      "cell_type": "code",
      "source": [
        "barras_categorica(df_accident,'Severity')"
      ],
      "metadata": {
        "colab": {
          "base_uri": "https://localhost:8080/",
          "height": 487
        },
        "id": "vTbU2PTb81NG",
        "outputId": "5b48d689-201c-4601-e99e-130a9aefa5d8"
      },
      "execution_count": null,
      "outputs": [
        {
          "output_type": "stream",
          "name": "stderr",
          "text": []
        },
        {
          "output_type": "display_data",
          "data": {
            "text/plain": [
              "<Figure size 640x480 with 1 Axes>"
            ],
            "image/png": "[encoded data removed]"
          },
          "metadata": {}
        }
      ]
    },
    {
      "cell_type": "markdown",
      "source": [
        "**Obtención de las estadísticas descriptivas de las características categóricas**"
      ],
      "metadata": {
        "id": "A8garbrA7wu6"
      }
    },
    {
      "cell_type": "markdown",
      "source": [
        "# Particionamiento\n",
        "\n",
        "El particionamiento del conjunto de datos se basa en las condiciones climáticas y la severidad del accidente, dividiéndolo en múltiples subconjuntos según combinaciones específicas de estas características."
      ],
      "metadata": {
        "id": "BZDsQ0zuhJRD"
      }
    },
    {
      "cell_type": "code",
      "source": [
        "df_accident = df_accident.select(columnas_clave)\n",
        "\n",
        "df_accident.write.mode(\"overwrite\").partitionBy(\"Severity\").parquet(\"us_accidents_partitioned\")\n",
        "\n",
        "accident_sev_1 = spark.read.parquet(\"us_accidents_partitioned/Severity=1\")\n",
        "accident_sev_2 = spark.read.parquet(\"us_accidents_partitioned/Severity=2\")\n",
        "accident_sev_3 = spark.read.parquet(\"us_accidents_partitioned/Severity=3\")\n",
        "accident_sev_4 = spark.read.parquet(\"us_accidents_partitioned/Severity=4\")"
      ],
      "metadata": {
        "colab": {
          "base_uri": "https://localhost:8080/"
        },
        "id": "UHN8o32D2zr0",
        "outputId": "fefe3575-ea23-41b0-94ed-c7650f959948"
      },
      "execution_count": null,
      "outputs": [
        {
          "output_type": "stream",
          "name": "stderr",
          "text": []
        }
      ]
    },
    {
      "cell_type": "code",
      "source": [
        "accident_sev_1.show(5)"
      ],
      "metadata": {
        "colab": {
          "base_uri": "https://localhost:8080/"
        },
        "id": "1gLqSSYzWvD6",
        "outputId": "e4a57bfe-3bb2-47b3-e6a4-38b783dfd784"
      },
      "execution_count": null,
      "outputs": [
        {
          "output_type": "stream",
          "name": "stdout",
          "text": [
            "+--------+-----------------+-----------------+----------------+-----+--------------+-----------+--------------+--------------+---------------+--------+--------+-------+----------+-----+--------------+---------------+--------------+\n",
            "|      ID|Weather_Condition|Precipitation(in)|            City|State|Temperature(F)|Humidity(%)|Visibility(mi)|Wind_Direction|Wind_Speed(mph)|Crossing|Junction|Railway|Roundabout| Stop|Sunrise_Sunset|Traffic_Calming|Traffic_Signal|\n",
            "+--------+-----------------+-----------------+----------------+-----+--------------+-----------+--------------+--------------+---------------+--------+--------+-------+----------+-----+--------------+---------------+--------------+\n",
            "|A-362864|            Clear|             NULL|         Augusta|   GA|          57.9|       32.0|          10.0|            NE|            8.1|   false|   false|  false|     false|false|           Day|          false|         false|\n",
            "|A-365033|    Mostly Cloudy|             NULL|   Downers Grove|   IL|          63.0|       30.0|          10.0|           ESE|            8.1|   false|   false|  false|     false|false|           Day|          false|         false|\n",
            "|A-365255|            Clear|             NULL|     Bolingbrook|   IL|          47.8|       93.0|          10.0|            NE|           10.4|   false|   false|  false|     false|false|           Day|          false|         false|\n",
            "|A-368273|            Clear|             NULL|         Lansing|   MI|          21.0|       63.0|          10.0|            SE|            6.9|   false|   false|  false|     false|false|           Day|          false|         false|\n",
            "|A-375073|            Clear|             NULL|Vernon Rockville|   CT|          37.9|       48.0|          10.0|          West|            6.9|   false|   false|  false|     false|false|         Night|          false|         false|\n",
            "+--------+-----------------+-----------------+----------------+-----+--------------+-----------+--------------+--------------+---------------+--------+--------+-------+----------+-----+--------------+---------------+--------------+\n",
            "only showing top 5 rows\n",
            "\n"
          ]
        }
      ]
    },
    {
      "cell_type": "markdown",
      "source": [
        "# Imputando valores faltantes"
      ],
      "metadata": {
        "id": "tzMcfXbtGIPz"
      }
    },
    {
      "cell_type": "code",
      "source": [
        "def obten_nulos(particion):\n",
        "\n",
        "  print(f\"📌 Particiones: {particion.rdd.getNumPartitions()}\")\n",
        "  print(f\"📊 Total de filas en la partición: {particion.count()}\")\n",
        "  print(f\"🗂️ Número de columnas en la partición: {len(particion.columns)}\")\n",
        "\n",
        "  info_nulos = {}\n",
        "  cols_nulos = {}\n",
        "\n",
        "  total_rows = particion.count()\n",
        "\n",
        "  registros_totales = particion.count()\n",
        "\n",
        "  # Contar valores nulos por columna\n",
        "\n",
        "  cols_nulos = particion.select(\n",
        "    [sum(col(c).isNull().cast(\"int\")).alias(c) for c in particion.columns]\n",
        "    )\n",
        "\n",
        "  # Convertir los resultados en un diccionario\n",
        "  info_nulos = {c: cols_nulos.select(c).collect()[0][0] for c in particion.columns}\n",
        "\n",
        "  # Filtrar solo las columnas con valores nulos\n",
        "  cols_nulos = {c: {\"count\": v, \"percent\": (v / total_rows) * 100} for c, v in info_nulos.items() if v > 0}\n",
        "\n",
        "  # Validar si existen nulos\n",
        "  if not cols_nulos:\n",
        "        print(\"✅ No existen valores nulos en la partición.\")\n",
        "        return\n",
        "\n",
        "\n",
        "  df_resumen_nulos = spark.createDataFrame(\n",
        "    [(c, d[\"count\"], round(d[\"percent\"], 2)) for c, d in cols_nulos.items()],\n",
        "    [\"Columna\", \"Total de nulos\", \"%\"]\n",
        "  )\n",
        "\n",
        "  df_resumen_nulos.orderBy(col(\"Total de nulos\").desc()).show(truncate=False)\n"
      ],
      "metadata": {
        "id": "z3od6x_V7aP-"
      },
      "execution_count": null,
      "outputs": []
    },
    {
      "cell_type": "code",
      "source": [
        "def imputacion_valores(particion):\n",
        "\n",
        "\n",
        "  print(\"✅ Se realiza la imputación utilizando los siguientes valores:\\n\")\n",
        "\n",
        "  moda_Weather = particion.groupBy(\"Weather_Condition\").count().orderBy(col(\"count\").desc()).first()[\"Weather_Condition\"]\n",
        "  moda_City = particion.groupBy(\"City\").count().orderBy(col(\"count\").desc()).first()[\"City\"]\n",
        "  moda_Sunset = particion.groupBy(\"Sunrise_Sunset\").count().orderBy(col(\"count\").desc()).first()[\"Sunrise_Sunset\"]\n",
        "  moda_wub = particion.groupBy(\"Wind_Direction\").count().orderBy(col(\"count\").desc()).first()[\"Wind_Direction\"]\n",
        "\n",
        "  media_Temperature = particion.select(avg(\"Temperature(F)\")).collect()\n",
        "  media_Humidity = particion.select(avg(\"Humidity(%)\")).collect()\n",
        "  media_Visibility = particion.select(avg(\"Visibility(mi)\")).collect()\n",
        "  media_Precipitation = particion.select(avg(\"Precipitation(in)\")).collect()\n",
        "  media_Wind_Speed = particion.select(avg(\"Wind_Speed(mph)\")).collect()\n",
        "\n",
        "  print(f\"🌡️ Temperatura promedio: {round(media_Temperature[0][0], 2)}\")\n",
        "  print(f\"💧 Humedad promedio: {round(media_Humidity[0][0], 2)}\")\n",
        "  print(f\"👀 Visibilidad promedio: {round(media_Visibility[0][0], 2)}\")\n",
        "  print(f\"🌧️ Precipitación promedio: {round(media_Precipitation[0][0], 2)}\")\n",
        "  print(f\"🌬️ Velocidad del viento promedio: {round(particion.select(avg(\"Wind_Speed(mph)\")).collect()[0][0], 2)}\")\n",
        "\n",
        "  print(f\"☁️ Condición meteorológica más frecuente: {moda_Weather}\")\n",
        "  print(f\"🏙️ Ciudad más frecuente: {moda_City}\")\n",
        "  print(f\"🌅 Hora de atardecer más frecuente: {moda_Sunset}\")\n",
        "  print(f\"🌬️ Dirección del viento más frecuente: {moda_wub}\")\n",
        "\n",
        "  imputer_num = Imputer(\n",
        "    inputCols=[\"Temperature(F)\", \"Humidity(%)\", \"Visibility(mi)\",\"Precipitation(in)\",\"Wind_Speed(mph)\"],\n",
        "    outputCols=[\"Temperature(F)\", \"Humidity(%)\", \"Visibility(mi)\",\"Precipitation(in)\",\"Wind_Speed(mph)\"]\n",
        "  ).setStrategy(\"mean\")\n",
        "\n",
        "  particion = imputer_num.fit(particion).transform(particion)\n",
        "  particion = particion.na.fill({\"Weather_Condition\": moda_Weather, \"City\": moda_City,\n",
        "                                 \"Sunrise_Sunset\": moda_Sunset,\"Wind_Direction\":moda_wub})\n",
        "\n",
        "  particion_modificada = particion\n",
        "\n",
        "  print(\"\\n🔍 Se validan nuevamente los valores nulos para corroborar la imputación.\\n\")\n",
        "\n",
        "  obten_nulos(particion_modificada)\n",
        "\n",
        "  return particion_modificada\n",
        "\n",
        "\n"
      ],
      "metadata": {
        "id": "PS9ra8pQSM71"
      },
      "execution_count": null,
      "outputs": []
    },
    {
      "cell_type": "code",
      "source": [
        "obten_nulos(accident_sev_1)"
      ],
      "metadata": {
        "colab": {
          "base_uri": "https://localhost:8080/"
        },
        "id": "vc-aW7WY73U0",
        "outputId": "6b3bca31-3b92-468b-860e-bc5df306b7d2"
      },
      "execution_count": null,
      "outputs": [
        {
          "output_type": "stream",
          "name": "stdout",
          "text": [
            "📌 Particiones: 13\n",
            "📊 Total de filas en la partición: 67366\n",
            "🗂️ Número de columnas en la partición: 18\n",
            "+-----------------+--------------+----+\n",
            "|Columna          |Total de nulos|%   |\n",
            "+-----------------+--------------+----+\n",
            "|Precipitation(in)|3916          |5.81|\n",
            "|Wind_Speed(mph)  |1352          |2.01|\n",
            "|Humidity(%)      |1249          |1.85|\n",
            "|Wind_Direction   |1210          |1.8 |\n",
            "|Temperature(F)   |1110          |1.65|\n",
            "|Weather_Condition|954           |1.42|\n",
            "|Visibility(mi)   |935           |1.39|\n",
            "|Sunrise_Sunset   |204           |0.3 |\n",
            "|City             |3             |0.0 |\n",
            "+-----------------+--------------+----+\n",
            "\n"
          ]
        }
      ]
    },
    {
      "cell_type": "code",
      "source": [
        "imp_sev_1 = imputacion_valores(accident_sev_1)"
      ],
      "metadata": {
        "colab": {
          "base_uri": "https://localhost:8080/"
        },
        "id": "eMiT-fWeUziL",
        "outputId": "c79aee4a-f18b-4726-d4b2-b8ea19bab297"
      },
      "execution_count": null,
      "outputs": [
        {
          "output_type": "stream",
          "name": "stdout",
          "text": [
            "✅ Se realiza la imputación utilizando los siguientes valores:\n",
            "\n",
            "🌡️ Temperatura promedio: 72.42\n",
            "💧 Humedad promedio: 61.91\n",
            "👀 Visibilidad promedio: 9.48\n",
            "🌧️ Precipitación promedio: 0.01\n",
            "🌬️ Velocidad del viento promedio: 7.14\n",
            "☁️ Condición meteorológica más frecuente: Fair\n",
            "🏙️ Ciudad más frecuente: Tucson\n",
            "🌅 Hora de atardecer más frecuente: Day\n",
            "🌬️ Dirección del viento más frecuente: CALM\n",
            "\n",
            "🔍 Se validan nuevamente los valores nulos para corroborar la imputación.\n",
            "\n",
            "📌 Particiones: 13\n",
            "📊 Total de filas en la partición: 67366\n",
            "🗂️ Número de columnas en la partición: 18\n",
            "✅ No existen valores nulos en la partición.\n"
          ]
        }
      ]
    },
    {
      "cell_type": "code",
      "source": [
        "obten_nulos(accident_sev_2)"
      ],
      "metadata": {
        "colab": {
          "base_uri": "https://localhost:8080/"
        },
        "id": "TymjcGkcVO_K",
        "outputId": "05e42f5e-4342-4899-e541-ba9792959117"
      },
      "execution_count": null,
      "outputs": [
        {
          "output_type": "stream",
          "name": "stdout",
          "text": [
            "📌 Particiones: 17\n",
            "📊 Total de filas en la partición: 6156981\n",
            "🗂️ Número de columnas en la partición: 18\n",
            "+-----------------+--------------+----+\n",
            "|Columna          |Total de nulos|%   |\n",
            "+-----------------+--------------+----+\n",
            "|Precipitation(in)|1489966       |24.2|\n",
            "|Wind_Speed(mph)  |398896        |6.48|\n",
            "|Wind_Direction   |143899        |2.34|\n",
            "|Humidity(%)      |138627        |2.25|\n",
            "|Visibility(mi)   |138237        |2.25|\n",
            "|Weather_Condition|134781        |2.19|\n",
            "|Temperature(F)   |130158        |2.11|\n",
            "|Sunrise_Sunset   |20079         |0.33|\n",
            "|City             |217           |0.0 |\n",
            "+-----------------+--------------+----+\n",
            "\n"
          ]
        }
      ]
    },
    {
      "cell_type": "code",
      "source": [
        "imp_sev_2 = imputacion_valores(accident_sev_2)"
      ],
      "metadata": {
        "colab": {
          "base_uri": "https://localhost:8080/"
        },
        "id": "ifVriQh8VRTu",
        "outputId": "e295c9b6-ff3f-4122-f560-69ab9397b607"
      },
      "execution_count": null,
      "outputs": [
        {
          "output_type": "stream",
          "name": "stdout",
          "text": [
            "✅ Se realiza la imputación utilizando los siguientes valores:\n",
            "\n",
            "🌡️ Temperatura promedio: 61.55\n",
            "💧 Humedad promedio: 64.67\n",
            "👀 Visibilidad promedio: 9.09\n",
            "🌧️ Precipitación promedio: 0.01\n",
            "🌬️ Velocidad del viento promedio: 7.57\n",
            "☁️ Condición meteorológica más frecuente: Fair\n",
            "🏙️ Ciudad más frecuente: Miami\n",
            "🌅 Hora de atardecer más frecuente: Day\n",
            "🌬️ Dirección del viento más frecuente: CALM\n",
            "\n",
            "🔍 Se validan nuevamente los valores nulos para corroborar la imputación.\n",
            "\n",
            "📌 Particiones: 17\n",
            "📊 Total de filas en la partición: 6156981\n",
            "🗂️ Número de columnas en la partición: 18\n",
            "✅ No existen valores nulos en la partición.\n"
          ]
        }
      ]
    },
    {
      "cell_type": "code",
      "source": [
        "obten_nulos(accident_sev_3)"
      ],
      "metadata": {
        "colab": {
          "base_uri": "https://localhost:8080/"
        },
        "id": "eS_a5PfgVURi",
        "outputId": "8e6d6bd2-12fd-40f0-9d6b-075737085cd0"
      },
      "execution_count": null,
      "outputs": [
        {
          "output_type": "stream",
          "name": "stdout",
          "text": [
            "📌 Particiones: 14\n",
            "📊 Total de filas en la partición: 1299337\n",
            "🗂️ Número de columnas en la partición: 18\n",
            "+-----------------+--------------+-----+\n",
            "|Columna          |Total de nulos|%    |\n",
            "+-----------------+--------------+-----+\n",
            "|Precipitation(in)|640382        |49.29|\n",
            "|Wind_Speed(mph)  |150046        |11.55|\n",
            "|Visibility(mi)   |30511         |2.35 |\n",
            "|Weather_Condition|30295         |2.33 |\n",
            "|Humidity(%)      |27322         |2.1  |\n",
            "|Temperature(F)   |25977         |2.0  |\n",
            "|Wind_Direction   |23376         |1.8  |\n",
            "|Sunrise_Sunset   |689           |0.05 |\n",
            "|City             |13            |0.0  |\n",
            "+-----------------+--------------+-----+\n",
            "\n"
          ]
        }
      ]
    },
    {
      "cell_type": "code",
      "source": [
        "imp_sev_3 = imputacion_valores(accident_sev_3)"
      ],
      "metadata": {
        "colab": {
          "base_uri": "https://localhost:8080/"
        },
        "id": "_BKgOQGyVWF3",
        "outputId": "411de656-3854-4908-80b1-7d8c332c2daa"
      },
      "execution_count": null,
      "outputs": [
        {
          "output_type": "stream",
          "name": "stdout",
          "text": [
            "✅ Se realiza la imputación utilizando los siguientes valores:\n",
            "\n",
            "🌡️ Temperatura promedio: 62.2\n",
            "💧 Humedad promedio: 65.38\n",
            "👀 Visibilidad promedio: 9.09\n",
            "🌧️ Precipitación promedio: 0.02\n",
            "🌬️ Velocidad del viento promedio: 8.32\n",
            "☁️ Condición meteorológica más frecuente: Clear\n",
            "🏙️ Ciudad más frecuente: Los Angeles\n",
            "🌅 Hora de atardecer más frecuente: Day\n",
            "🌬️ Dirección del viento más frecuente: Calm\n",
            "\n",
            "🔍 Se validan nuevamente los valores nulos para corroborar la imputación.\n",
            "\n",
            "📌 Particiones: 14\n",
            "📊 Total de filas en la partición: 1299337\n",
            "🗂️ Número de columnas en la partición: 18\n",
            "✅ No existen valores nulos en la partición.\n"
          ]
        }
      ]
    },
    {
      "cell_type": "code",
      "source": [
        "obten_nulos(accident_sev_4)"
      ],
      "metadata": {
        "colab": {
          "base_uri": "https://localhost:8080/"
        },
        "id": "4HheWZOIVajH",
        "outputId": "de17e22c-6ac7-4877-b33c-8c8f2e006228"
      },
      "execution_count": null,
      "outputs": [
        {
          "output_type": "stream",
          "name": "stdout",
          "text": [
            "📌 Particiones: 12\n",
            "📊 Total de filas en la partición: 204710\n",
            "🗂️ Número de columnas en la partición: 18\n",
            "+-----------------+--------------+-----+\n",
            "|Columna          |Total de nulos|%    |\n",
            "+-----------------+--------------+-----+\n",
            "|Precipitation(in)|69322         |33.86|\n",
            "|Wind_Speed(mph)  |20939         |10.23|\n",
            "|Weather_Condition|7429          |3.63 |\n",
            "|Visibility(mi)   |7415          |3.62 |\n",
            "|Humidity(%)      |6946          |3.39 |\n",
            "|Wind_Direction   |6721          |3.28 |\n",
            "|Temperature(F)   |6608          |3.23 |\n",
            "|Sunrise_Sunset   |2274          |1.11 |\n",
            "|City             |20            |0.01 |\n",
            "+-----------------+--------------+-----+\n",
            "\n"
          ]
        }
      ]
    },
    {
      "cell_type": "code",
      "source": [
        "imp_sev_4 = imputacion_valores(accident_sev_4)"
      ],
      "metadata": {
        "colab": {
          "base_uri": "https://localhost:8080/"
        },
        "id": "MjyQb39dVf11",
        "outputId": "9f84471e-f6ff-4868-dfe8-54e4d75e4e5c"
      },
      "execution_count": null,
      "outputs": [
        {
          "output_type": "stream",
          "name": "stdout",
          "text": [
            "✅ Se realiza la imputación utilizando los siguientes valores:\n",
            "\n",
            "🌡️ Temperatura promedio: 58.14\n",
            "💧 Humedad promedio: 67.3\n",
            "👀 Visibilidad promedio: 9.06\n",
            "🌧️ Precipitación promedio: 0.01\n",
            "🌬️ Velocidad del viento promedio: 7.66\n",
            "☁️ Condición meteorológica más frecuente: Fair\n",
            "🏙️ Ciudad más frecuente: Atlanta\n",
            "🌅 Hora de atardecer más frecuente: Day\n",
            "🌬️ Dirección del viento más frecuente: CALM\n",
            "\n",
            "🔍 Se validan nuevamente los valores nulos para corroborar la imputación.\n",
            "\n",
            "📌 Particiones: 12\n",
            "📊 Total de filas en la partición: 204710\n",
            "🗂️ Número de columnas en la partición: 18\n",
            "✅ No existen valores nulos en la partición.\n"
          ]
        }
      ]
    },
    {
      "cell_type": "markdown",
      "source": [
        "# Preparando datos"
      ],
      "metadata": {
        "id": "bkIQuXvbbTv_"
      }
    },
    {
      "cell_type": "code",
      "source": [
        "imp_sev_1 = imp_sev_1.withColumn(\"Severity\", lit(1))\n",
        "imp_sev_2 = imp_sev_2.withColumn(\"Severity\", lit(2))\n",
        "imp_sev_3 = imp_sev_3.withColumn(\"Severity\", lit(3))\n",
        "imp_sev_4 = imp_sev_4.withColumn(\"Severity\", lit(4))\n",
        "\n",
        "listado_particiones = [imp_sev_1, imp_sev_2, imp_sev_3, imp_sev_4]\n",
        "\n",
        "tamaño_muestra = min(particion.count() for particion in listado_particiones)  # Tomar el tamaño del DF más pequeño\n",
        "\n",
        "print(tamaño_muestra)\n",
        "\n",
        "muestra_particion = [particion.sample(fraction=tamaño_muestra / particion.count(), seed=25) for particion in listado_particiones]\n",
        "\n",
        "muestra = muestra_particion[0].union(muestra_particion[1]).union(muestra_particion[2]).union(muestra_particion[3])\n",
        "\n",
        "muestra.show(5)\n"
      ],
      "metadata": {
        "colab": {
          "base_uri": "https://localhost:8080/"
        },
        "id": "62zRU-kahy7-",
        "outputId": "45836176-2e12-4a7f-bf14-afeb77c36e0e"
      },
      "execution_count": null,
      "outputs": [
        {
          "output_type": "stream",
          "name": "stdout",
          "text": [
            "67366\n",
            "+--------+-----------------+--------------------+----------------+-----+--------------+-----------+--------------+--------------+---------------+--------+--------+-------+----------+-----+--------------+---------------+--------------+--------+\n",
            "|      ID|Weather_Condition|   Precipitation(in)|            City|State|Temperature(F)|Humidity(%)|Visibility(mi)|Wind_Direction|Wind_Speed(mph)|Crossing|Junction|Railway|Roundabout| Stop|Sunrise_Sunset|Traffic_Calming|Traffic_Signal|Severity|\n",
            "+--------+-----------------+--------------------+----------------+-----+--------------+-----------+--------------+--------------+---------------+--------+--------+-------+----------+-----+--------------+---------------+--------------+--------+\n",
            "|A-362864|            Clear|0.005067454688731288|         Augusta|   GA|          57.9|       32.0|          10.0|            NE|            8.1|   false|   false|  false|     false|false|           Day|          false|         false|       1|\n",
            "|A-365033|    Mostly Cloudy|0.005067454688731288|   Downers Grove|   IL|          63.0|       30.0|          10.0|           ESE|            8.1|   false|   false|  false|     false|false|           Day|          false|         false|       1|\n",
            "|A-365255|            Clear|0.005067454688731288|     Bolingbrook|   IL|          47.8|       93.0|          10.0|            NE|           10.4|   false|   false|  false|     false|false|           Day|          false|         false|       1|\n",
            "|A-368273|            Clear|0.005067454688731288|         Lansing|   MI|          21.0|       63.0|          10.0|            SE|            6.9|   false|   false|  false|     false|false|           Day|          false|         false|       1|\n",
            "|A-375073|            Clear|0.005067454688731288|Vernon Rockville|   CT|          37.9|       48.0|          10.0|          West|            6.9|   false|   false|  false|     false|false|         Night|          false|         false|       1|\n",
            "+--------+-----------------+--------------------+----------------+-----+--------------+-----------+--------------+--------------+---------------+--------+--------+-------+----------+-----+--------------+---------------+--------------+--------+\n",
            "only showing top 5 rows\n",
            "\n"
          ]
        }
      ]
    },
    {
      "cell_type": "code",
      "source": [
        "muestra.groupBy(\"Severity\").count().show()"
      ],
      "metadata": {
        "colab": {
          "base_uri": "https://localhost:8080/"
        },
        "id": "cCLiAdHcjHm-",
        "outputId": "25e331c3-93b2-40ab-e7ae-91341b6851d7"
      },
      "execution_count": null,
      "outputs": [
        {
          "output_type": "stream",
          "name": "stdout",
          "text": [
            "+--------+-----+\n",
            "|Severity|count|\n",
            "+--------+-----+\n",
            "|       1|67366|\n",
            "|       2|67022|\n",
            "|       3|67708|\n",
            "|       4|67674|\n",
            "+--------+-----+\n",
            "\n"
          ]
        }
      ]
    },
    {
      "cell_type": "code",
      "source": [
        "categoricas = [\"Weather_Condition\", \"City\", \"State\", \"Sunrise_Sunset\",\"Wind_Direction\"]\n",
        "binarias = [\"Crossing\", \"Junction\", \"Railway\", \"Roundabout\", \"Stop\", \"Traffic_Calming\", \"Traffic_Signal\"]"
      ],
      "metadata": {
        "id": "HKTLf48hbs_d"
      },
      "execution_count": null,
      "outputs": []
    },
    {
      "cell_type": "code",
      "source": [
        "# ✅ Crear una copia de `imp_sev_1` para trabajar sobre ella\n",
        "Transf_muestra = muestra.alias(\"copia_muestra\")  # Esto asegura que el original quede intacto\n",
        "\n",
        "# Convertir variables binarias a 0 y 1 en la copia\n",
        "for columna in binarias:\n",
        "    Transf_muestra = Transf_muestra.withColumn(columna + \"_num\", col(columna).cast(\"int\"))\n",
        "\n",
        "# Aplicar StringIndexer a las variables categóricas\n",
        "indexers = [StringIndexer(inputCol=col, outputCol=col + \"_Index\").fit(Transf_muestra) for col in categoricas]\n",
        "for indexer in indexers:\n",
        "    Transf_muestra = indexer.transform(Transf_muestra)\n",
        "\n",
        "# Aplicar One-Hot Encoding a las categóricas\n",
        "#codificadores = [OneHotEncoder(inputCol=col + \"_Index\", outputCol=col + \"_OHE\").fit(Transf_muestra) for col in categoricas]\n",
        "#for codificador in codificadores:\n",
        "#    Transf_muestra = codificador.transform(Transf_muestra)\n",
        "\n",
        "# 🔥 Eliminar las columnas originales que ya no se usarán en el modelo\n",
        "Transf_muestra = Transf_muestra.drop(*categoricas).drop(*binarias)\n",
        "\n",
        "Transf_muestra.show()\n",
        "\n",
        "\n"
      ],
      "metadata": {
        "colab": {
          "base_uri": "https://localhost:8080/"
        },
        "id": "NX_PoP6Nh3Bj",
        "outputId": "4343c56b-131d-4e80-ff28-7c6e8915e710"
      },
      "execution_count": null,
      "outputs": [
        {
          "output_type": "stream",
          "name": "stdout",
          "text": [
            "+--------+--------------------+--------------+-----------+-----------------+-----------------+--------+------------+------------+-----------+--------------+--------+-------------------+------------------+-----------------------+----------+-----------+--------------------+--------------------+\n",
            "|      ID|   Precipitation(in)|Temperature(F)|Humidity(%)|   Visibility(mi)|  Wind_Speed(mph)|Severity|Crossing_num|Junction_num|Railway_num|Roundabout_num|Stop_num|Traffic_Calming_num|Traffic_Signal_num|Weather_Condition_Index|City_Index|State_Index|Sunrise_Sunset_Index|Wind_Direction_Index|\n",
            "+--------+--------------------+--------------+-----------+-----------------+-----------------+--------+------------+------------+-----------+--------------+--------+-------------------+------------------+-----------------------+----------+-----------+--------------------+--------------------+\n",
            "|A-362864|0.005067454688731288|          57.9|       32.0|             10.0|              8.1|       1|           0|           0|          0|             0|       0|                  0|                 0|                    2.0|      54.0|        9.0|                 0.0|                17.0|\n",
            "|A-365033|0.005067454688731288|          63.0|       30.0|             10.0|              8.1|       1|           0|           0|          0|             0|       0|                  0|                 0|                    1.0|     295.0|       10.0|                 0.0|                14.0|\n",
            "|A-365255|0.005067454688731288|          47.8|       93.0|             10.0|             10.4|       1|           0|           0|          0|             0|       0|                  0|                 0|                    2.0|     821.0|       10.0|                 0.0|                17.0|\n",
            "|A-368273|0.005067454688731288|          21.0|       63.0|             10.0|              6.9|       1|           0|           0|          0|             0|       0|                  0|                 0|                    2.0|     169.0|       11.0|                 0.0|                12.0|\n",
            "|A-375073|0.005067454688731288|          37.9|       48.0|             10.0|              6.9|       1|           0|           0|          0|             0|       0|                  0|                 0|                    2.0|    1817.0|       25.0|                 1.0|                20.0|\n",
            "|A-375669|0.005067454688731288|          37.9|      100.0|9.475378663575741|              9.2|       1|           0|           0|          0|             0|       0|                  0|                 0|                    0.0|    2097.0|       24.0|                 1.0|                10.0|\n",
            "|A-376992|0.005067454688731288|          24.8|       69.0|             10.0|             15.0|       1|           0|           0|          0|             0|       0|                  0|                 0|                    1.0|    7459.0|       14.0|                 1.0|                 7.0|\n",
            "|A-377108|0.005067454688731288|          39.9|       68.0|             10.0|             15.0|       1|           0|           0|          0|             0|       0|                  0|                 1|                    4.0|      32.0|       14.0|                 1.0|                 3.0|\n",
            "|A-378252|0.005067454688731288|          41.7|       37.0|             10.0|              3.5|       1|           0|           0|          0|             0|       0|                  0|                 0|                    7.0|     377.0|       12.0|                 0.0|                 7.0|\n",
            "|A-378472|0.005067454688731288|          69.1|       38.0|             10.0|             11.5|       1|           0|           0|          0|             0|       0|                  0|                 0|                    4.0|      27.0|       12.0|                 0.0|                20.0|\n",
            "|A-378694|0.005067454688731288|          44.6|       53.0|             10.0|7.142301632986942|       1|           0|           0|          0|             0|       0|                  0|                 0|                    2.0|    3804.0|       12.0|                 0.0|                 4.0|\n",
            "|A-379617|0.005067454688731288|          39.0|       85.0|             10.0|              8.1|       1|           0|           0|          0|             0|       0|                  0|                 1|                    5.0|     893.0|       12.0|                 0.0|                 3.0|\n",
            "|A-381680|                0.01|          28.9|      100.0|              0.8|              9.2|       1|           0|           0|          0|             0|       0|                  0|                 0|                    8.0|      46.0|        7.0|                 1.0|                15.0|\n",
            "|A-381926|                 0.0|          27.0|       63.0|              6.0|             23.0|       1|           1|           0|          0|             0|       1|                  0|                 0|                    8.0|      43.0|        7.0|                 0.0|                20.0|\n",
            "|A-388619|                 0.0|          61.0|       90.0|              6.0|             12.7|       1|           0|           0|          0|             0|       0|                  0|                 0|                    6.0|    2072.0|        2.0|                 0.0|                12.0|\n",
            "|A-389527|0.005067454688731288|          73.9|       76.0|             10.0|              5.8|       1|           1|           0|          0|             0|       0|                  0|                 1|                    5.0|      12.0|        2.0|                 0.0|                 9.0|\n",
            "|A-391436|0.005067454688731288|          68.7|       76.0|             10.0|              5.8|       1|           0|           0|          0|             0|       0|                  0|                 0|                    2.0|     177.0|        2.0|                 1.0|                12.0|\n",
            "|A-396170|0.005067454688731288|          46.4|       64.0|             10.0|             16.1|       1|           0|           0|          0|             0|       0|                  0|                 0|                    1.0|     101.0|       18.0|                 0.0|                 3.0|\n",
            "|A-398112|0.005067454688731288|          54.0|       80.0|             10.0|              8.1|       1|           0|           0|          0|             0|       0|                  0|                 0|                    1.0|      55.0|        0.0|                 1.0|                12.0|\n",
            "|A-399673|0.005067454688731288|          62.6|       77.0|             10.0|             13.8|       1|           0|           0|          0|             0|       0|                  0|                 1|                    2.0|     575.0|        0.0|                 0.0|                20.0|\n",
            "+--------+--------------------+--------------+-----------+-----------------+-----------------+--------+------------+------------+-----------+--------------+--------+-------------------+------------------+-----------------------+----------+-----------+--------------------+--------------------+\n",
            "only showing top 20 rows\n",
            "\n"
          ]
        }
      ]
    },
    {
      "cell_type": "code",
      "source": [
        "from pyspark.sql.functions import when, col\n",
        "from pyspark.sql.functions import mean\n",
        "\n",
        "\n",
        "calcular_IQR(Transf_muestra,['Temperature(F)','Humidity(%)','Visibility(mi)','Wind_Speed(mph)'])\n",
        "\n",
        "mean_values = Transf_muestra.select(\n",
        "    mean(\"Temperature(F)\").alias(\"mean_temp\"),\n",
        "    mean(\"Humidity(%)\").alias(\"mean_humidity\"),\n",
        "    mean(\"Wind_Speed(mph)\").alias(\"mean_wind_speed\")\n",
        ").collect()[0]\n",
        "\n",
        "\n",
        "Transf_muestra_iqr = Transf_muestra.withColumn(\"Temperature(F)\", when((col(\"Temperature(F)\") < 14.5) | (col(\"Temperature(F)\") > 114.5), mean_values[\"mean_temp\"]).otherwise(col(\"Temperature(F)\"))) \\\n",
        "             .withColumn(\"Humidity(%)\", when((col(\"Humidity(%)\") < -6.0) | (col(\"Humidity(%)\") > 138.0), mean_values[\"mean_humidity\"]).otherwise(col(\"Humidity(%)\"))) \\\n",
        "             .withColumn(\"Wind_Speed(mph)\", when((col(\"Wind_Speed(mph)\") < -2.5) | (col(\"Wind_Speed(mph)\") > 17.5), mean_values[\"mean_wind_speed\"]).otherwise(col(\"Wind_Speed(mph)\")))"
      ],
      "metadata": {
        "id": "QuXJLcbJwdzo"
      },
      "execution_count": null,
      "outputs": []
    },
    {
      "cell_type": "code",
      "source": [
        "calcular_IQR(Transf_muestra,['Temperature(F)','Humidity(%)','Visibility(mi)','Wind_Speed(mph)'])\n"
      ],
      "metadata": {
        "colab": {
          "base_uri": "https://localhost:8080/",
          "height": 206
        },
        "id": "nL90UIDBxvvf",
        "outputId": "40997f57-d451-4217-89c8-44c9d9b782ae"
      },
      "execution_count": null,
      "outputs": [
        {
          "output_type": "execute_result",
          "data": {
            "text/plain": [
              "                  IQR  Límite Inf.  Límite Sup.\n",
              "Columna                                        \n",
              "Temperature(F)   25.0         14.5        114.5\n",
              "Humidity(%)      36.0         -6.0        138.0\n",
              "Visibility(mi)    0.0         10.0         10.0\n",
              "Wind_Speed(mph)   5.0         -2.5         17.5"
            ],
            "text/html": [
              "<div>\n",
              "<style scoped>\n",
              "    .dataframe tbody tr th:only-of-type {\n",
              "        vertical-align: middle;\n",
              "    }\n",
              "\n",
              "    .dataframe tbody tr th {\n",
              "        vertical-align: top;\n",
              "    }\n",
              "\n",
              "    .dataframe thead th {\n",
              "        text-align: right;\n",
              "    }\n",
              "</style>\n",
              "<table border=\"1\" class=\"dataframe\">\n",
              "  <thead>\n",
              "    <tr style=\"text-align: right;\">\n",
              "      <th></th>\n",
              "      <th>IQR</th>\n",
              "      <th>Límite Inf.</th>\n",
              "      <th>Límite Sup.</th>\n",
              "    </tr>\n",
              "    <tr>\n",
              "      <th>Columna</th>\n",
              "      <th></th>\n",
              "      <th></th>\n",
              "      <th></th>\n",
              "    </tr>\n",
              "  </thead>\n",
              "  <tbody>\n",
              "    <tr>\n",
              "      <th>Temperature(F)</th>\n",
              "      <td>25.0</td>\n",
              "      <td>14.5</td>\n",
              "      <td>114.5</td>\n",
              "    </tr>\n",
              "    <tr>\n",
              "      <th>Humidity(%)</th>\n",
              "      <td>36.0</td>\n",
              "      <td>-6.0</td>\n",
              "      <td>138.0</td>\n",
              "    </tr>\n",
              "    <tr>\n",
              "      <th>Visibility(mi)</th>\n",
              "      <td>0.0</td>\n",
              "      <td>10.0</td>\n",
              "      <td>10.0</td>\n",
              "    </tr>\n",
              "    <tr>\n",
              "      <th>Wind_Speed(mph)</th>\n",
              "      <td>5.0</td>\n",
              "      <td>-2.5</td>\n",
              "      <td>17.5</td>\n",
              "    </tr>\n",
              "  </tbody>\n",
              "</table>\n",
              "</div>"
            ]
          },
          "metadata": {},
          "execution_count": 82
        }
      ]
    },
    {
      "cell_type": "code",
      "source": [
        "calcular_IQR(Transf_muestra_iqr,['Temperature(F)','Humidity(%)','Visibility(mi)','Wind_Speed(mph)'])"
      ],
      "metadata": {
        "colab": {
          "base_uri": "https://localhost:8080/",
          "height": 206
        },
        "id": "MclfVST0x8X7",
        "outputId": "c18771db-94c0-4151-9a12-62c436647773"
      },
      "execution_count": null,
      "outputs": [
        {
          "output_type": "execute_result",
          "data": {
            "text/plain": [
              "                  IQR  Límite Inf.  Límite Sup.\n",
              "Columna                                        \n",
              "Temperature(F)   24.0         17.0        113.0\n",
              "Humidity(%)      36.0         -6.0        138.0\n",
              "Visibility(mi)    0.0         10.0         10.0\n",
              "Wind_Speed(mph)   4.0         -1.0         15.0"
            ],
            "text/html": [
              "<div>\n",
              "<style scoped>\n",
              "    .dataframe tbody tr th:only-of-type {\n",
              "        vertical-align: middle;\n",
              "    }\n",
              "\n",
              "    .dataframe tbody tr th {\n",
              "        vertical-align: top;\n",
              "    }\n",
              "\n",
              "    .dataframe thead th {\n",
              "        text-align: right;\n",
              "    }\n",
              "</style>\n",
              "<table border=\"1\" class=\"dataframe\">\n",
              "  <thead>\n",
              "    <tr style=\"text-align: right;\">\n",
              "      <th></th>\n",
              "      <th>IQR</th>\n",
              "      <th>Límite Inf.</th>\n",
              "      <th>Límite Sup.</th>\n",
              "    </tr>\n",
              "    <tr>\n",
              "      <th>Columna</th>\n",
              "      <th></th>\n",
              "      <th></th>\n",
              "      <th></th>\n",
              "    </tr>\n",
              "  </thead>\n",
              "  <tbody>\n",
              "    <tr>\n",
              "      <th>Temperature(F)</th>\n",
              "      <td>24.0</td>\n",
              "      <td>17.0</td>\n",
              "      <td>113.0</td>\n",
              "    </tr>\n",
              "    <tr>\n",
              "      <th>Humidity(%)</th>\n",
              "      <td>36.0</td>\n",
              "      <td>-6.0</td>\n",
              "      <td>138.0</td>\n",
              "    </tr>\n",
              "    <tr>\n",
              "      <th>Visibility(mi)</th>\n",
              "      <td>0.0</td>\n",
              "      <td>10.0</td>\n",
              "      <td>10.0</td>\n",
              "    </tr>\n",
              "    <tr>\n",
              "      <th>Wind_Speed(mph)</th>\n",
              "      <td>4.0</td>\n",
              "      <td>-1.0</td>\n",
              "      <td>15.0</td>\n",
              "    </tr>\n",
              "  </tbody>\n",
              "</table>\n",
              "</div>"
            ]
          },
          "metadata": {},
          "execution_count": 83
        }
      ]
    },
    {
      "cell_type": "code",
      "source": [
        "atributos = [ 'Precipitation(in)', 'Temperature(F)', 'Humidity(%)', 'Visibility(mi)',\n",
        "             'Crossing_num', 'Junction_num', 'Railway_num','Roundabout_num','Stop_num',\n",
        "              'Traffic_Calming_num', 'Traffic_Signal_num','Weather_Condition_Index',\n",
        "              'Sunrise_Sunset_Index','Wind_Direction_Index']"
      ],
      "metadata": {
        "id": "-M_w0JQFotVI"
      },
      "execution_count": null,
      "outputs": []
    },
    {
      "cell_type": "code",
      "source": [
        "assembler = VectorAssembler(inputCols=atributos, outputCol = 'Caracteristicas')\n",
        "df_vec = assembler.transform(Transf_muestra_iqr)\n",
        "df_vec.select('Caracteristicas','Severity').show(5,truncate = False)"
      ],
      "metadata": {
        "colab": {
          "base_uri": "https://localhost:8080/"
        },
        "id": "o-PbBSmym4J8",
        "outputId": "443f2e53-3c41-486d-b9fa-c350f2b2cc90"
      },
      "execution_count": null,
      "outputs": [
        {
          "output_type": "stream",
          "name": "stdout",
          "text": [
            "+--------------------------------------------------------------------------+--------+\n",
            "|Caracteristicas                                                           |Severity|\n",
            "+--------------------------------------------------------------------------+--------+\n",
            "|(14,[0,1,2,3,11,13],[0.005067454688731288,57.9,32.0,10.0,2.0,17.0])       |1       |\n",
            "|(14,[0,1,2,3,11,13],[0.005067454688731288,63.0,30.0,10.0,1.0,14.0])       |1       |\n",
            "|(14,[0,1,2,3,11,13],[0.005067454688731288,47.8,93.0,10.0,2.0,17.0])       |1       |\n",
            "|(14,[0,1,2,3,11,13],[0.005067454688731288,21.0,63.0,10.0,2.0,12.0])       |1       |\n",
            "|(14,[0,1,2,3,11,12,13],[0.005067454688731288,37.9,48.0,10.0,2.0,1.0,20.0])|1       |\n",
            "+--------------------------------------------------------------------------+--------+\n",
            "only showing top 5 rows\n",
            "\n"
          ]
        }
      ]
    },
    {
      "cell_type": "markdown",
      "source": [
        "# Creando conjuntos de datos"
      ],
      "metadata": {
        "id": "sGFg6ohTCf-5"
      }
    },
    {
      "cell_type": "code",
      "source": [
        "spark.conf.set(\"spark.sql.shuffle.partitions\", \"200\")\n",
        "train, test = df_vec.randomSplit([0.8,0.2], seed = 10)\n",
        "\n",
        "train_size = train.count()\n",
        "test_size = test.count()\n",
        "total_size = train_size + test_size\n",
        "\n",
        "train_pct = (train_size / total_size) * 100\n",
        "test_pct = (test_size / total_size) * 100\n",
        "\n",
        "print(f\"\"\"Existen {train_size} instancias en el conjunto train ({train_pct:.2f}%),\n",
        "y {test_size} en el conjunto test ({test_pct:.2f}%).\"\"\")"
      ],
      "metadata": {
        "colab": {
          "base_uri": "https://localhost:8080/"
        },
        "id": "VSgGyGFgCk9M",
        "outputId": "80d4b2b0-07ee-4a26-b49e-55082d63d0e2"
      },
      "execution_count": null,
      "outputs": [
        {
          "output_type": "stream",
          "name": "stdout",
          "text": [
            "Existen 216091 instancias en el conjunto train (80.10%),\n",
            "y 53679 en el conjunto test (19.90%).\n"
          ]
        },
        {
          "output_type": "stream",
          "name": "stderr",
          "text": [
            "\r[Stage 768:===============================================>       (48 + 8) / 56]\r\r                                                                                \r"
          ]
        }
      ]
    },
    {
      "cell_type": "code",
      "source": [
        "from pyspark.ml.regression import LinearRegression\n",
        "lr = LinearRegression(featuresCol='Caracteristicas', labelCol='Severity', maxIter=10, regParam=0.03, elasticNetParam=0.08)\n",
        "lr_model = lr.fit(train)"
      ],
      "metadata": {
        "id": "GN9E6EYYoHLO"
      },
      "execution_count": null,
      "outputs": []
    },
    {
      "cell_type": "code",
      "source": [
        "y_pred = lr_model.transform(test)\n",
        "y_pred.select('Caracteristicas','Severity','prediction').show(truncate = False)"
      ],
      "metadata": {
        "colab": {
          "base_uri": "https://localhost:8080/"
        },
        "id": "jupb8TgdafId",
        "outputId": "42edc7fd-74b3-42af-f14f-b51cdd3f6045"
      },
      "execution_count": null,
      "outputs": [
        {
          "output_type": "stream",
          "name": "stdout",
          "text": [
            "+---------------------------------------------------------------------------------------------------------+--------+------------------+\n",
            "|Caracteristicas                                                                                          |Severity|prediction        |\n",
            "+---------------------------------------------------------------------------------------------------------+--------+------------------+\n",
            "|(14,[0,1,2,3,11,13],[0.005067454688731288,63.0,30.0,10.0,1.0,14.0])                                      |1       |2.5381004853012357|\n",
            "|(14,[0,1,2,3,11,13],[0.005067454688731288,21.0,63.0,10.0,2.0,12.0])                                      |1       |2.6141684423664926|\n",
            "|(14,[0,1,2,3,11,12,13],[0.005067454688731288,24.8,69.0,10.0,1.0,1.0,7.0])                                |1       |2.6072861033939216|\n",
            "|(14,[0,1,2,3,11,13],[0.005067454688731288,44.6,53.0,10.0,2.0,4.0])                                       |1       |2.5714254950631577|\n",
            "|(14,[1,2,3,4,8,11,13],[27.0,63.0,6.0,1.0,1.0,8.0,20.0])                                                  |1       |2.6033015913571704|\n",
            "|(14,[0,1,2,3,11,12,13],[0.005067454688731288,68.7,76.0,10.0,2.0,1.0,12.0])                               |1       |2.5277769768423792|\n",
            "|(14,[0,1,2,3,11,13],[0.005067454688731288,66.0,45.0,10.0,2.0,23.0])                                      |1       |2.5326670597965744|\n",
            "|(14,[0,1,2,3,11,12,13],[0.005067454688731288,68.0,88.0,10.0,7.0,1.0,12.0])                               |1       |2.5290447761268005|\n",
            "|(14,[0,1,2,3,4,10,11,13],[0.005067454688731288,48.9,83.0,10.0,1.0,1.0,1.0,17.0])                         |1       |2.3866654049712435|\n",
            "|[0.005067454688731288,64.0,96.0,10.0,1.0,0.0,0.0,0.0,1.0,0.0,0.0,5.0,1.0,3.0]                            |1       |2.5362893434663487|\n",
            "|(14,[0,1,2,3,11,13],[0.005067454688731288,73.9,52.0,10.0,2.0,20.0])                                      |1       |2.5183590393009667|\n",
            "|(14,[0,1,2,3,11,13],[0.005067454688731288,69.8,73.0,10.0,2.0,10.0])                                      |1       |2.5257847208240034|\n",
            "|(14,[0,1,2,3,4,11,13],[0.005067454688731288,64.0,78.0,10.0,1.0,5.0,20.0])                                |1       |2.5362893434663487|\n",
            "|(14,[0,1,2,3,11,13],[0.005067454688731288,84.2,35.0,10.0,2.0,6.0])                                       |1       |2.4997042784016297|\n",
            "|(14,[0,1,2,3,4,11,13],[0.005067454688731288,91.4,59.0,10.0,1.0,1.0,21.0])                                |1       |2.486664057190443 |\n",
            "|(14,[0,1,2,3,11,13],[0.005067454688731288,80.1,45.0,10.0,4.0,20.0])                                      |1       |2.507129959924667 |\n",
            "|(14,[0,1,2,3,11,13],[0.005067454688731288,71.1,41.0,10.0,1.0,20.0])                                      |1       |2.5234302364386503|\n",
            "|(14,[0,1,2,3,11,13],[0.005067454688731288,70.5,38.0,10.0,2.0,20.0])                                      |1       |2.5245169215395826|\n",
            "|(14,[0,1,2,3,10,12],[0.005067454688731288,72.41767236174839,61.90745194125565,9.475378663575741,1.0,1.0])|1       |2.3440715646977135|\n",
            "|(14,[0,1,2,3,8,11,13],[0.005067454688731288,91.4,52.0,10.0,1.0,2.0,3.0])                                 |1       |2.486664057190443 |\n",
            "+---------------------------------------------------------------------------------------------------------+--------+------------------+\n",
            "only showing top 20 rows\n",
            "\n"
          ]
        }
      ]
    },
    {
      "cell_type": "code",
      "source": [
        "print (\"The coefficient of the model is : \", lr_model.coefficients)\n",
        "print (\"The Intercept of the model is : \", lr_model.intercept)"
      ],
      "metadata": {
        "colab": {
          "base_uri": "https://localhost:8080/"
        },
        "id": "rHZ-ACWLoNww",
        "outputId": "1c2e389e-0aa2-4d76-eac6-1eaaa89a08d3"
      },
      "execution_count": null,
      "outputs": [
        {
          "output_type": "stream",
          "name": "stdout",
          "text": [
            "The coefficient of the model is :  [0.1121755764956163,-0.011655757779509343,-0.002343187899375896,0.005233038337461752,-0.3579298448215011,0.13265750988166494,0.021060772662815717,0.0,-0.2582343408735631,-0.02821419787830661,-0.5319464511382956,0.014313454799226853,0.2390850928230416,0.013740197069681962]\n",
            "The Intercept of the model is :  3.2634032334076375\n"
          ]
        }
      ]
    },
    {
      "cell_type": "code",
      "source": [
        "#Root Mean Square Error\n",
        "eval_lr = RegressionEvaluator(labelCol=\"Stop_num\", predictionCol=\"prediction\", metricName=\"rmse\")\n",
        "rmse_lr = eval_lr.evaluate(y_pred)\n",
        "print(\"RMSE: %.3f\" % rmse_lr)\n",
        "\n",
        "# Mean Square Error\n",
        "mse = eval_lr.evaluate(y_pred, {eval_lr.metricName: \"mse\"})\n",
        "print(\"MSE: %.3f\" % mse)\n",
        "\n",
        "# Mean Absolute Error\n",
        "mae = eval_lr.evaluate(y_pred, {eval_lr.metricName: \"mae\"})\n",
        "print(\"MAE: %.3f\" % mae)\n",
        "\n",
        "# r2 - coefficient of determination\n",
        "r2 = eval_lr.evaluate(y_pred, {eval_lr.metricName: \"r2\"})\n",
        "print(\"r2: %.3f\" %r2)"
      ],
      "metadata": {
        "colab": {
          "base_uri": "https://localhost:8080/"
        },
        "id": "bwZf1S0poUEH",
        "outputId": "7a60302c-fc5c-4f21-d1da-ce6c8ea1b94a"
      },
      "execution_count": null,
      "outputs": [
        {
          "output_type": "stream",
          "name": "stdout",
          "text": [
            "RMSE: 2.482\n",
            "MSE: 6.161\n",
            "MAE: 2.476\n",
            "r2: -224.785\n"
          ]
        }
      ]
    },
    {
      "cell_type": "code",
      "source": [
        "from pyspark.ml.clustering import KMeans\n",
        "from pyspark.ml.evaluation import ClusteringEvaluator\n",
        "\n",
        "gmm = GaussianMixture(k=4, seed=1, featuresCol=\"Caracteristicas\", predictionCol=\"Prediccion\")\n",
        "model = gmm.fit(df_vec)\n",
        "\n"
      ],
      "metadata": {
        "id": "lZMItLOyPxTp"
      },
      "execution_count": null,
      "outputs": []
    },
    {
      "cell_type": "code",
      "source": [
        "print(\"Pesos de los clusters:\", model.weights)\n",
        "print(\"Medias de los clusters:\", [g.mean for g in model.gaussians])\n",
        "print(\"Covarianzas de los clusters:\", [g.cov for g in model.gaussians])\n",
        "\n"
      ],
      "metadata": {
        "colab": {
          "base_uri": "https://localhost:8080/"
        },
        "id": "D9lKtHZvTBYT",
        "outputId": "b2a8d85b-9095-4187-e234-396b24e6ede9"
      },
      "execution_count": null,
      "outputs": [
        {
          "output_type": "stream",
          "name": "stdout",
          "text": [
            "Pesos de los clusters: [0.040984313443578065, 0.9590156865564223]\n",
            "Medias de los clusters: [DenseVector([0.0701, 62.0278, 71.3729, 8.1689, 0.2502, 0.0711, 0.2387, 0.0001, 0.0142, 0.0111, 0.2126, 17.5856, 0.2424, 8.7926]), DenseVector([0.0066, 64.1946, 64.5536, 9.2228, 0.1227, 0.0802, 0.0002, 0.0, 0.027, 0.0005, 0.1802, 2.3678, 0.2973, 8.3276])]\n",
            "Covarianzas de los clusters: [DenseMatrix(14, 14, [0.0944, 0.1916, 1.2557, -0.2613, -0.0082, 0.001, -0.015, -0.0, ..., -0.082, 0.0007, -0.011, -0.0036, -0.0393, 4.4089, -0.0324, 38.6113], 0), DenseMatrix(14, 14, [0.0032, -0.0269, 0.0764, -0.0114, -0.0002, 0.0002, 0.0, 0.0, ..., -0.0002, 0.0, -0.0136, 0.0001, -0.0372, 3.0223, -0.2372, 43.9597], 0)]\n"
          ]
        }
      ]
    },
    {
      "cell_type": "code",
      "source": [
        "df_result = model.transform(df_vec)\n",
        "df_result.select('Caracteristicas','Severity','Prediccion').show(truncate = False)"
      ],
      "metadata": {
        "colab": {
          "base_uri": "https://localhost:8080/"
        },
        "id": "ehC0BsBfTEAQ",
        "outputId": "12c52f9b-0d3a-4f5d-e76c-36f2d5f821a0"
      },
      "execution_count": null,
      "outputs": [
        {
          "output_type": "stream",
          "name": "stdout",
          "text": [
            "+---------------------------------------------------------------------------------+--------+----------+\n",
            "|Caracteristicas                                                                  |Severity|Prediccion|\n",
            "+---------------------------------------------------------------------------------+--------+----------+\n",
            "|(14,[0,1,2,3,11,13],[0.005067454688731288,57.9,32.0,10.0,2.0,17.0])              |1       |1         |\n",
            "|(14,[0,1,2,3,11,13],[0.005067454688731288,63.0,30.0,10.0,1.0,14.0])              |1       |1         |\n",
            "|(14,[0,1,2,3,11,13],[0.005067454688731288,47.8,93.0,10.0,2.0,17.0])              |1       |1         |\n",
            "|(14,[0,1,2,3,11,13],[0.005067454688731288,21.0,63.0,10.0,2.0,12.0])              |1       |1         |\n",
            "|(14,[0,1,2,3,11,12,13],[0.005067454688731288,37.9,48.0,10.0,2.0,1.0,20.0])       |1       |1         |\n",
            "|(14,[0,1,2,3,12,13],[0.005067454688731288,37.9,100.0,9.475378663575741,1.0,10.0])|1       |1         |\n",
            "|(14,[0,1,2,3,11,12,13],[0.005067454688731288,24.8,69.0,10.0,1.0,1.0,7.0])        |1       |1         |\n",
            "|(14,[0,1,2,3,10,11,12,13],[0.005067454688731288,39.9,68.0,10.0,1.0,4.0,1.0,3.0]) |1       |3         |\n",
            "|(14,[0,1,2,3,11,13],[0.005067454688731288,41.7,37.0,10.0,7.0,7.0])               |1       |1         |\n",
            "|(14,[0,1,2,3,11,13],[0.005067454688731288,69.1,38.0,10.0,4.0,20.0])              |1       |1         |\n",
            "|(14,[0,1,2,3,11,13],[0.005067454688731288,44.6,53.0,10.0,2.0,4.0])               |1       |1         |\n",
            "|(14,[0,1,2,3,10,11,13],[0.005067454688731288,39.0,85.0,10.0,1.0,5.0,3.0])        |1       |3         |\n",
            "|(14,[0,1,2,3,11,12,13],[0.01,28.9,100.0,0.8,8.0,1.0,15.0])                       |1       |1         |\n",
            "|(14,[1,2,3,4,8,11,13],[27.0,63.0,6.0,1.0,1.0,8.0,20.0])                          |1       |2         |\n",
            "|(14,[1,2,3,11,13],[61.0,90.0,6.0,6.0,12.0])                                      |1       |1         |\n",
            "|(14,[0,1,2,3,4,10,11,13],[0.005067454688731288,73.9,76.0,10.0,1.0,1.0,5.0,9.0])  |1       |3         |\n",
            "|(14,[0,1,2,3,11,12,13],[0.005067454688731288,68.7,76.0,10.0,2.0,1.0,12.0])       |1       |1         |\n",
            "|(14,[0,1,2,3,11,13],[0.005067454688731288,46.4,64.0,10.0,1.0,3.0])               |1       |1         |\n",
            "|(14,[0,1,2,3,11,12,13],[0.005067454688731288,54.0,80.0,10.0,1.0,1.0,12.0])       |1       |1         |\n",
            "|(14,[0,1,2,3,10,11,13],[0.005067454688731288,62.6,77.0,10.0,1.0,2.0,20.0])       |1       |3         |\n",
            "+---------------------------------------------------------------------------------+--------+----------+\n",
            "only showing top 20 rows\n",
            "\n"
          ]
        }
      ]
    },
    {
      "cell_type": "code",
      "source": [
        "df_igual = df_result.withColumn(\"es_igual\", when(col(\"Severity\") == col(\"Prediccion\"), 1).otherwise(0))\n",
        "conteo_iguales = df_igual.select(count(when(col(\"es_igual\") == 1, True)).alias(\"total_iguales\"))\n",
        "\n",
        "# Mostrar resultados\n",
        "df_igual.show()\n",
        "conteo_iguales.show()\n"
      ],
      "metadata": {
        "colab": {
          "base_uri": "https://localhost:8080/"
        },
        "id": "5oewfLJKXmwj",
        "outputId": "f8e62e15-4c07-465b-b04b-ea67f536f840"
      },
      "execution_count": null,
      "outputs": [
        {
          "output_type": "stream",
          "name": "stdout",
          "text": [
            "+--------+--------------------+--------------+-----------+-----------------+-----------------+--------+------------+------------+-----------+--------------+--------+-------------------+------------------+-----------------------+----------+-----------+--------------------+--------------------+--------------------+--------------------+----------+--------+\n",
            "|      ID|   Precipitation(in)|Temperature(F)|Humidity(%)|   Visibility(mi)|  Wind_Speed(mph)|Severity|Crossing_num|Junction_num|Railway_num|Roundabout_num|Stop_num|Traffic_Calming_num|Traffic_Signal_num|Weather_Condition_Index|City_Index|State_Index|Sunrise_Sunset_Index|Wind_Direction_Index|     Caracteristicas|         probability|Prediccion|es_igual|\n",
            "+--------+--------------------+--------------+-----------+-----------------+-----------------+--------+------------+------------+-----------+--------------+--------+-------------------+------------------+-----------------------+----------+-----------+--------------------+--------------------+--------------------+--------------------+----------+--------+\n",
            "|A-362864|0.005067454688731288|          57.9|       32.0|             10.0|              8.1|       1|           0|           0|          0|             0|       0|                  0|                 0|                    2.0|      54.0|        9.0|                 0.0|                17.0|(14,[0,1,2,3,11,1...|[7.77302066946861...|         1|       1|\n",
            "|A-365033|0.005067454688731288|          63.0|       30.0|             10.0|              8.1|       1|           0|           0|          0|             0|       0|                  0|                 0|                    1.0|     295.0|       10.0|                 0.0|                14.0|(14,[0,1,2,3,11,1...|[6.64494417902274...|         1|       1|\n",
            "|A-365255|0.005067454688731288|          47.8|       93.0|             10.0|             10.4|       1|           0|           0|          0|             0|       0|                  0|                 0|                    2.0|     821.0|       10.0|                 0.0|                17.0|(14,[0,1,2,3,11,1...|[6.03650688099918...|         1|       1|\n",
            "|A-368273|0.005067454688731288|          21.0|       63.0|             10.0|              6.9|       1|           0|           0|          0|             0|       0|                  0|                 0|                    2.0|     169.0|       11.0|                 0.0|                12.0|(14,[0,1,2,3,11,1...|[1.12959099615323...|         1|       1|\n",
            "|A-375073|0.005067454688731288|          37.9|       48.0|             10.0|              6.9|       1|           0|           0|          0|             0|       0|                  0|                 0|                    2.0|    1817.0|       25.0|                 1.0|                20.0|(14,[0,1,2,3,11,1...|[9.55935844451634...|         1|       1|\n",
            "|A-375669|0.005067454688731288|          37.9|      100.0|9.475378663575741|              9.2|       1|           0|           0|          0|             0|       0|                  0|                 0|                    0.0|    2097.0|       24.0|                 1.0|                10.0|(14,[0,1,2,3,12,1...|[1.95790264654389...|         1|       1|\n",
            "|A-376992|0.005067454688731288|          24.8|       69.0|             10.0|             15.0|       1|           0|           0|          0|             0|       0|                  0|                 0|                    1.0|    7459.0|       14.0|                 1.0|                 7.0|(14,[0,1,2,3,11,1...|[6.62717747606401...|         1|       1|\n",
            "|A-377108|0.005067454688731288|          39.9|       68.0|             10.0|             15.0|       1|           0|           0|          0|             0|       0|                  0|                 1|                    4.0|      32.0|       14.0|                 1.0|                 3.0|(14,[0,1,2,3,10,1...|[1.94167266559627...|         3|       0|\n",
            "|A-378252|0.005067454688731288|          41.7|       37.0|             10.0|              3.5|       1|           0|           0|          0|             0|       0|                  0|                 0|                    7.0|     377.0|       12.0|                 0.0|                 7.0|(14,[0,1,2,3,11,1...|[1.59150194407431...|         1|       1|\n",
            "|A-378472|0.005067454688731288|          69.1|       38.0|             10.0|             11.5|       1|           0|           0|          0|             0|       0|                  0|                 0|                    4.0|      27.0|       12.0|                 0.0|                20.0|(14,[0,1,2,3,11,1...|[2.39566868920184...|         1|       1|\n",
            "|A-378694|0.005067454688731288|          44.6|       53.0|             10.0|7.142301632986942|       1|           0|           0|          0|             0|       0|                  0|                 0|                    2.0|    3804.0|       12.0|                 0.0|                 4.0|(14,[0,1,2,3,11,1...|[8.96215269632312...|         1|       1|\n",
            "|A-379617|0.005067454688731288|          39.0|       85.0|             10.0|              8.1|       1|           0|           0|          0|             0|       0|                  0|                 1|                    5.0|     893.0|       12.0|                 0.0|                 3.0|(14,[0,1,2,3,10,1...|[1.71757387339752...|         3|       0|\n",
            "|A-381680|                0.01|          28.9|      100.0|              0.8|              9.2|       1|           0|           0|          0|             0|       0|                  0|                 0|                    8.0|      46.0|        7.0|                 1.0|                15.0|(14,[0,1,2,3,11,1...|[7.5738849051466E...|         1|       1|\n",
            "|A-381926|                 0.0|          27.0|       63.0|              6.0|7.665968668188354|       1|           1|           0|          0|             0|       1|                  0|                 0|                    8.0|      43.0|        7.0|                 0.0|                20.0|(14,[1,2,3,4,8,11...|[1.85870378594372...|         2|       0|\n",
            "|A-388619|                 0.0|          61.0|       90.0|              6.0|             12.7|       1|           0|           0|          0|             0|       0|                  0|                 0|                    6.0|    2072.0|        2.0|                 0.0|                12.0|(14,[1,2,3,11,13]...|[4.22685973687617...|         1|       1|\n",
            "|A-389527|0.005067454688731288|          73.9|       76.0|             10.0|              5.8|       1|           1|           0|          0|             0|       0|                  0|                 1|                    5.0|      12.0|        2.0|                 0.0|                 9.0|(14,[0,1,2,3,4,10...|[6.75864591509232...|         3|       0|\n",
            "|A-391436|0.005067454688731288|          68.7|       76.0|             10.0|              5.8|       1|           0|           0|          0|             0|       0|                  0|                 0|                    2.0|     177.0|        2.0|                 1.0|                12.0|(14,[0,1,2,3,11,1...|[2.45178774995216...|         1|       1|\n",
            "|A-396170|0.005067454688731288|          46.4|       64.0|             10.0|             16.1|       1|           0|           0|          0|             0|       0|                  0|                 0|                    1.0|     101.0|       18.0|                 0.0|                 3.0|(14,[0,1,2,3,11,1...|[1.04634808331982...|         1|       1|\n",
            "|A-398112|0.005067454688731288|          54.0|       80.0|             10.0|              8.1|       1|           0|           0|          0|             0|       0|                  0|                 0|                    1.0|      55.0|        0.0|                 1.0|                12.0|(14,[0,1,2,3,11,1...|[1.88704133112972...|         1|       1|\n",
            "|A-399673|0.005067454688731288|          62.6|       77.0|             10.0|             13.8|       1|           0|           0|          0|             0|       0|                  0|                 1|                    2.0|     575.0|        0.0|                 0.0|                20.0|(14,[0,1,2,3,10,1...|[2.43633293746266...|         3|       0|\n",
            "+--------+--------------------+--------------+-----------+-----------------+-----------------+--------+------------+------------+-----------+--------------+--------+-------------------+------------------+-----------------------+----------+-----------+--------------------+--------------------+--------------------+--------------------+----------+--------+\n",
            "only showing top 20 rows\n",
            "\n",
            "+-------------+\n",
            "|total_iguales|\n",
            "+-------------+\n",
            "|        44269|\n",
            "+-------------+\n",
            "\n"
          ]
        }
      ]
    }
  ]
}