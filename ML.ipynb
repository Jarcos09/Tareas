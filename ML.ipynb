{
  "nbformat": 4,
  "nbformat_minor": 0,
  "metadata": {
    "colab": {
      "provenance": [],
      "mount_file_id": "1Jab2DUXez4z1kx-o-Btc9jKPcoslob_t",
      "authorship_tag": "ABX9TyN7m3D62WbCMTGbLjtJ+UjD",
      "include_colab_link": true
    },
    "kernelspec": {
      "name": "python3",
      "display_name": "Python 3"
    },
    "language_info": {
      "name": "python"
    }
  },
  "cells": [
    {
      "cell_type": "markdown",
      "metadata": {
        "id": "view-in-github",
        "colab_type": "text"
      },
      "source": [
        "<a href=\"https://colab.research.google.com/github/Jarcos09/Tareas/blob/main/ML.ipynb\" target=\"_parent\"><img src=\"https://colab.research.google.com/assets/colab-badge.svg\" alt=\"Open In Colab\"/></a>"
      ]
    },
    {
      "cell_type": "markdown",
      "source": [
        "# 🎓 **Inteligencia Artificial Aplicada**\n",
        "\n",
        "## 🤖 **Análisis de grandes volúmenes de datos (Gpo 10)**\n",
        "\n",
        "### 🏛️ Tecnológico de Monterrey\n",
        "\n",
        "#### 👨‍🏫 **Profesor titular :** Dr. Iván Olmos Pineda\n",
        "#### 👩‍🏫 **Profesor asistente :** Verónica Sandra Guzmán de Valle\n",
        "\n",
        "### 📊 **Proyecto | Base de Datos de Big Data**\n",
        "\n",
        "#### 📅 **04 de mayo de 2025**\n",
        "\n",
        "* 🧑‍💻 **A01795941 :** Juan Carlos Pérez Nava\n",
        "\n",
        "\n"
      ],
      "metadata": {
        "id": "XLo2RHbqcPHa"
      }
    },
    {
      "cell_type": "code",
      "source": [
        "import os\n",
        "import sys\n",
        "module_path = os.path.abspath(os.path.join('proyectos/librerias'))\n",
        "if module_path not in sys.path:\n",
        "    sys.path.append(module_path)\n",
        "from graficas import *\n",
        "\n",
        "from pyspark.sql import SparkSession, DataFrame\n",
        "from pyspark.sql.functions import col, sum, avg, lit, count, when, format_number, round, rand\n",
        "from pyspark.ml.feature import StringIndexer, OneHotEncoder\n",
        "from pyspark.ml.feature import QuantileDiscretizer\n",
        "from pyspark.ml.feature import VectorAssembler, StandardScaler\n",
        "from pyspark.ml.evaluation import RegressionEvaluator\n",
        "from pyspark.ml.regression import LinearRegression\n",
        "from pyspark.ml.feature import Imputer\n",
        "\n",
        "import matplotlib.pyplot as plt\n",
        "import seaborn as sns\n",
        "import kagglehub\n",
        "\n",
        "import pandas as pd\n",
        "\n",
        "\n",
        "from functools import reduce"
      ],
      "metadata": {
        "id": "lNK_005tHX9o"
      },
      "execution_count": 36,
      "outputs": []
    },
    {
      "cell_type": "code",
      "source": [
        "path = kagglehub.dataset_download(\"sobhanmoosavi/us-accidents\")\n",
        "print(\"Path to dataset files:\", path)"
      ],
      "metadata": {
        "colab": {
          "base_uri": "https://localhost:8080/"
        },
        "id": "j7RDNtCfV_j8",
        "outputId": "2fce349e-f5b3-4dea-953c-4f893d304a20"
      },
      "execution_count": 2,
      "outputs": [
        {
          "output_type": "stream",
          "name": "stdout",
          "text": [
            "Path to dataset files: /home/jarcos/.cache/kagglehub/datasets/sobhanmoosavi/us-accidents/versions/13\n"
          ]
        }
      ]
    },
    {
      "cell_type": "code",
      "source": [
        "spark = SparkSession.builder.master(\"local[*]\").appName(\"CargarCSV\").config(\"spark.driver.memory\", \"40g\").config(\"spark.executor.memory\", \"20g\").getOrCreate()\n",
        "df_accident = spark.read.option(\"header\", True).option(\"inferSchema\", True).csv(path)\n",
        "spark.sparkContext.setLogLevel(\"ERROR\")"
      ],
      "metadata": {
        "colab": {
          "base_uri": "https://localhost:8080/"
        },
        "id": "KzhCy58rgjX1",
        "outputId": "e5fc8889-fcc2-41e7-8bdc-672bfe250285"
      },
      "execution_count": 3,
      "outputs": [
        {
          "output_type": "stream",
          "name": "stderr",
          "text": [
            "Setting default log level to \"WARN\".\n",
            "To adjust logging level use sc.setLogLevel(newLevel). For SparkR, use setLogLevel(newLevel).\n",
            "25/05/24 10:41:24 WARN NativeCodeLoader: Unable to load native-hadoop library for your platform... using builtin-java classes where applicable\n"
          ]
        }
      ]
    },
    {
      "cell_type": "code",
      "source": [
        "df_accident.show(5)"
      ],
      "metadata": {
        "colab": {
          "base_uri": "https://localhost:8080/"
        },
        "id": "97uEFSF5t4A0",
        "outputId": "f8b883af-b67a-40f9-ec35-5b2eebffc0b8"
      },
      "execution_count": 4,
      "outputs": [
        {
          "output_type": "stream",
          "name": "stdout",
          "text": [
            "+---+-------+--------+-------------------+-------------------+-----------------+------------------+-------+-------+------------+--------------------+--------------------+------------+----------+-----+----------+-------+----------+------------+-------------------+--------------+-------------+-----------+------------+--------------+--------------+---------------+-----------------+-----------------+-------+-----+--------+--------+--------+-------+-------+----------+-------+-----+---------------+--------------+------------+--------------+--------------+-----------------+---------------------+\n",
            "| ID| Source|Severity|         Start_Time|           End_Time|        Start_Lat|         Start_Lng|End_Lat|End_Lng|Distance(mi)|         Description|              Street|        City|    County|State|   Zipcode|Country|  Timezone|Airport_Code|  Weather_Timestamp|Temperature(F)|Wind_Chill(F)|Humidity(%)|Pressure(in)|Visibility(mi)|Wind_Direction|Wind_Speed(mph)|Precipitation(in)|Weather_Condition|Amenity| Bump|Crossing|Give_Way|Junction|No_Exit|Railway|Roundabout|Station| Stop|Traffic_Calming|Traffic_Signal|Turning_Loop|Sunrise_Sunset|Civil_Twilight|Nautical_Twilight|Astronomical_Twilight|\n",
            "+---+-------+--------+-------------------+-------------------+-----------------+------------------+-------+-------+------------+--------------------+--------------------+------------+----------+-----+----------+-------+----------+------------+-------------------+--------------+-------------+-----------+------------+--------------+--------------+---------------+-----------------+-----------------+-------+-----+--------+--------+--------+-------+-------+----------+-------+-----+---------------+--------------+------------+--------------+--------------+-----------------+---------------------+\n",
            "|A-1|Source2|       3|2016-02-08 05:46:00|2016-02-08 11:00:00|        39.865147|        -84.058723|   NULL|   NULL|        0.01|Right lane blocke...|              I-70 E|      Dayton|Montgomery|   OH|     45424|     US|US/Eastern|        KFFO|2016-02-08 05:58:00|          36.9|         NULL|       91.0|       29.68|          10.0|          Calm|           NULL|             0.02|       Light Rain|  false|false|   false|   false|   false|  false|  false|     false|  false|false|          false|         false|       false|         Night|         Night|            Night|                Night|\n",
            "|A-2|Source2|       2|2016-02-08 06:07:59|2016-02-08 06:37:59|39.92805900000001|        -82.831184|   NULL|   NULL|        0.01|Accident on Brice...|            Brice Rd|Reynoldsburg|  Franklin|   OH|43068-3402|     US|US/Eastern|        KCMH|2016-02-08 05:51:00|          37.9|         NULL|      100.0|       29.65|          10.0|          Calm|           NULL|              0.0|       Light Rain|  false|false|   false|   false|   false|  false|  false|     false|  false|false|          false|         false|       false|         Night|         Night|            Night|                  Day|\n",
            "|A-3|Source2|       2|2016-02-08 06:49:27|2016-02-08 07:19:27|        39.063148|        -84.032608|   NULL|   NULL|        0.01|Accident on OH-32...|      State Route 32|Williamsburg|  Clermont|   OH|     45176|     US|US/Eastern|        KI69|2016-02-08 06:56:00|          36.0|         33.3|      100.0|       29.67|          10.0|            SW|            3.5|             NULL|         Overcast|  false|false|   false|   false|   false|  false|  false|     false|  false|false|          false|          true|       false|         Night|         Night|              Day|                  Day|\n",
            "|A-4|Source2|       3|2016-02-08 07:23:34|2016-02-08 07:53:34|        39.747753|-84.20558199999998|   NULL|   NULL|        0.01|Accident on I-75 ...|              I-75 S|      Dayton|Montgomery|   OH|     45417|     US|US/Eastern|        KDAY|2016-02-08 07:38:00|          35.1|         31.0|       96.0|       29.64|           9.0|            SW|            4.6|             NULL|    Mostly Cloudy|  false|false|   false|   false|   false|  false|  false|     false|  false|false|          false|         false|       false|         Night|           Day|              Day|                  Day|\n",
            "|A-5|Source2|       2|2016-02-08 07:39:07|2016-02-08 08:09:07|        39.627781|        -84.188354|   NULL|   NULL|        0.01|Accident on McEwe...|Miamisburg Center...|      Dayton|Montgomery|   OH|     45459|     US|US/Eastern|        KMGY|2016-02-08 07:53:00|          36.0|         33.3|       89.0|       29.65|           6.0|            SW|            3.5|             NULL|    Mostly Cloudy|  false|false|   false|   false|   false|  false|  false|     false|  false|false|          false|          true|       false|           Day|           Day|              Day|                  Day|\n",
            "+---+-------+--------+-------------------+-------------------+-----------------+------------------+-------+-------+------------+--------------------+--------------------+------------+----------+-----+----------+-------+----------+------------+-------------------+--------------+-------------+-----------+------------+--------------+--------------+---------------+-----------------+-----------------+-------+-----+--------+--------+--------+-------+-------+----------+-------+-----+---------------+--------------+------------+--------------+--------------+-----------------+---------------------+\n",
            "only showing top 5 rows\n",
            "\n"
          ]
        }
      ]
    },
    {
      "cell_type": "markdown",
      "source": [
        "**Obtención de las estadísticas descriptivas de las características categóricas**"
      ],
      "metadata": {
        "id": "A8garbrA7wu6"
      }
    },
    {
      "cell_type": "markdown",
      "source": [
        "# Particionamiento\n",
        "\n",
        "El particionamiento del conjunto de datos se basa en las condiciones climáticas y la severidad del accidente, dividiéndolo en múltiples subconjuntos según combinaciones específicas de estas características."
      ],
      "metadata": {
        "id": "BZDsQ0zuhJRD"
      }
    },
    {
      "cell_type": "code",
      "source": [
        "columnas_clave = [\n",
        "    \"ID\", \"Weather_Condition\",\"Precipitation(in)\",\"Severity\", \"City\", \"State\",\n",
        "    \"Temperature(F)\", \"Humidity(%)\", \"Visibility(mi)\",\"Wind_Direction\",\"Wind_Speed(mph)\",\"Crossing\",\"Junction\",\"Railway\",\n",
        "    \"Roundabout\",\"Stop\",\"Sunrise_Sunset\",\"Traffic_Calming\",\"Traffic_Signal\"]\n",
        "\n",
        "total = df_accident.count()\n",
        "\n",
        "combinaciones_top = df_accident.groupBy(\"Weather_Condition\", \"Severity\") \\\n",
        "    .agg(count(\"*\").alias(\"Frecuencia\")) \\\n",
        "    .withColumn(\"Proporción\", col(\"Frecuencia\") / total) \\\n",
        "    .orderBy(col(\"Proporción\").desc())\n",
        "\n",
        "combinaciones_top = combinaciones_top.withColumn(\"Frecuencia\", col(\"Frecuencia\"))  \\\n",
        "    .withColumn(\"Proporción\", col(\"Proporción\")*100)\n",
        "\n",
        "df_particionada = df_accident.select(columnas_clave)\n",
        "df_particionada.write.mode(\"overwrite\").partitionBy(\"Weather_Condition\",\"Severity\").parquet(\"us_accidents_partitioned\")\n",
        "\n",
        "combinaciones_top.show(10, truncate=False)\n",
        "\n"
      ],
      "metadata": {
        "colab": {
          "base_uri": "https://localhost:8080/"
        },
        "id": "90X1Pa19yCZP",
        "outputId": "6f45ee68-1a5c-4db5-f900-e8588b672018"
      },
      "execution_count": 5,
      "outputs": [
        {
          "output_type": "stream",
          "name": "stderr",
          "text": []
        },
        {
          "output_type": "stream",
          "name": "stdout",
          "text": [
            "+-----------------+--------+----------+------------------+\n",
            "|Weather_Condition|Severity|Frecuencia|Proporción        |\n",
            "+-----------------+--------+----------+------------------+\n",
            "|Fair             |2       |2226576   |28.810332392473782|\n",
            "|Mostly Cloudy    |2       |792735    |10.25743511523869 |\n",
            "|Cloudy           |2       |692929    |8.966015449005317 |\n",
            "|Partly Cloudy    |2       |548760    |7.1005696655734685|\n",
            "|Clear            |2       |536971    |6.948028270815386 |\n",
            "|Light Rain       |2       |270162    |3.495706870017238 |\n",
            "|Overcast         |2       |248938    |3.22108319011686  |\n",
            "|Clear            |3       |244956    |3.1695589018882835|\n",
            "|Fair             |3       |240084    |3.1065186376367455|\n",
            "|Mostly Cloudy    |3       |189229    |2.4484905919651614|\n",
            "+-----------------+--------+----------+------------------+\n",
            "only showing top 10 rows\n",
            "\n"
          ]
        }
      ]
    },
    {
      "cell_type": "code",
      "source": [
        "max_reg = 2000\n",
        "\n",
        "# Filtrar las filas\n",
        "combinaciones_filtradas = combinaciones_top.filter(col(\"Frecuencia\") >= max_reg)\n",
        "\n",
        "# Si hay datos, guardarlos en un vector\n",
        "particiones = combinaciones_filtradas.select(\"Weather_Condition\", \"Severity\").collect()\n",
        "\n",
        "# Mostrar el resultado\n",
        "\n",
        "print(f'✅ Se identificaron \\033[32m\\033[1m{len(particiones)}\\033[0m particiones que contienen más de \\033[36m{max_reg}\\033[0m registros.')"
      ],
      "metadata": {
        "colab": {
          "base_uri": "https://localhost:8080/"
        },
        "id": "D7nfphRPbPN3",
        "outputId": "998b0e39-936d-4554-f462-c17ead50ed09"
      },
      "execution_count": 6,
      "outputs": [
        {
          "output_type": "stream",
          "name": "stdout",
          "text": [
            "✅ Se identificaron \u001b[32m\u001b[1m77\u001b[0m particiones que contienen más de \u001b[36m2000\u001b[0m registros.\n"
          ]
        }
      ]
    },
    {
      "cell_type": "code",
      "source": [
        "contador_total = 0\n",
        "semilla = 364\n",
        "\n",
        "# Crear un DataFrame vacío con la misma estructura\n",
        "df_muestras = spark.createDataFrame([], df_particionada.schema)\n",
        "lista_muestras = []\n",
        "\n",
        "for particion in particiones:\n",
        "\n",
        "    contador_total += 1\n",
        "    weather = particion[\"Weather_Condition\"]\n",
        "    severity = particion[\"Severity\"]\n",
        "\n",
        "    print(f\"Extrayendo Partición #\\033[32m\\033[1m{contador_total:03}\\033[0m | 🌦 Weather: \\033[1;36m{weather}\\033[0m | ⚠ Severity: \\033[1;36m{severity}\\033[0m\")\n",
        "\n",
        "    # Filtrar correctamente la partición\n",
        "    df_filtrada = df_particionada.filter((col(\"Weather_Condition\") == weather) & (col(\"Severity\") == severity))\n",
        "\n",
        "    # Limitar a 1200 registros\n",
        "    df_rand = df_filtrada.orderBy(rand(semilla)).limit(max_reg)\n",
        "\n",
        "    lista_muestras.append(df_rand)\n",
        "\n",
        "df_muestras = lista_muestras[0]  # Inicializamos con el primer DataFrame\n",
        "\n",
        "for df in lista_muestras[1:]:\n",
        "    df_muestras = df_muestras.union(df)\n",
        "\n",
        "# **Optimizar con persistencia**\n",
        "df_muestras = df_muestras.persist().coalesce(8)\n",
        "\n",
        "# Contar los registros en el nuevo DataFrame\n",
        "contador_total = df_muestras.count()\n",
        "\n",
        "\n",
        "print(f\"Total de registros obtenidos en la muestra: \\033[32m\\033[1m{contador_total}\\033[0m\")"
      ],
      "metadata": {
        "colab": {
          "base_uri": "https://localhost:8080/"
        },
        "id": "r0ZXtzjReRcH",
        "outputId": "5f39176d-06ec-446f-ea9b-8b8560120f05"
      },
      "execution_count": 7,
      "outputs": [
        {
          "output_type": "stream",
          "name": "stdout",
          "text": [
            "Extrayendo Partición #\u001b[32m\u001b[1m001\u001b[0m | 🌦 Weather: \u001b[1;36mFair\u001b[0m | ⚠ Severity: \u001b[1;36m2\u001b[0m\n",
            "Extrayendo Partición #\u001b[32m\u001b[1m002\u001b[0m | 🌦 Weather: \u001b[1;36mMostly Cloudy\u001b[0m | ⚠ Severity: \u001b[1;36m2\u001b[0m\n",
            "Extrayendo Partición #\u001b[32m\u001b[1m003\u001b[0m | 🌦 Weather: \u001b[1;36mCloudy\u001b[0m | ⚠ Severity: \u001b[1;36m2\u001b[0m\n",
            "Extrayendo Partición #\u001b[32m\u001b[1m004\u001b[0m | 🌦 Weather: \u001b[1;36mPartly Cloudy\u001b[0m | ⚠ Severity: \u001b[1;36m2\u001b[0m\n",
            "Extrayendo Partición #\u001b[32m\u001b[1m005\u001b[0m | 🌦 Weather: \u001b[1;36mClear\u001b[0m | ⚠ Severity: \u001b[1;36m2\u001b[0m\n",
            "Extrayendo Partición #\u001b[32m\u001b[1m006\u001b[0m | 🌦 Weather: \u001b[1;36mLight Rain\u001b[0m | ⚠ Severity: \u001b[1;36m2\u001b[0m\n",
            "Extrayendo Partición #\u001b[32m\u001b[1m007\u001b[0m | 🌦 Weather: \u001b[1;36mOvercast\u001b[0m | ⚠ Severity: \u001b[1;36m2\u001b[0m\n",
            "Extrayendo Partición #\u001b[32m\u001b[1m008\u001b[0m | 🌦 Weather: \u001b[1;36mClear\u001b[0m | ⚠ Severity: \u001b[1;36m3\u001b[0m\n",
            "Extrayendo Partición #\u001b[32m\u001b[1m009\u001b[0m | 🌦 Weather: \u001b[1;36mFair\u001b[0m | ⚠ Severity: \u001b[1;36m3\u001b[0m\n",
            "Extrayendo Partición #\u001b[32m\u001b[1m010\u001b[0m | 🌦 Weather: \u001b[1;36mMostly Cloudy\u001b[0m | ⚠ Severity: \u001b[1;36m3\u001b[0m\n",
            "Extrayendo Partición #\u001b[32m\u001b[1m011\u001b[0m | 🌦 Weather: \u001b[1;36mNone\u001b[0m | ⚠ Severity: \u001b[1;36m2\u001b[0m\n",
            "Extrayendo Partición #\u001b[32m\u001b[1m012\u001b[0m | 🌦 Weather: \u001b[1;36mScattered Clouds\u001b[0m | ⚠ Severity: \u001b[1;36m2\u001b[0m\n",
            "Extrayendo Partición #\u001b[32m\u001b[1m013\u001b[0m | 🌦 Weather: \u001b[1;36mPartly Cloudy\u001b[0m | ⚠ Severity: \u001b[1;36m3\u001b[0m\n",
            "Extrayendo Partición #\u001b[32m\u001b[1m014\u001b[0m | 🌦 Weather: \u001b[1;36mOvercast\u001b[0m | ⚠ Severity: \u001b[1;36m3\u001b[0m\n",
            "Extrayendo Partición #\u001b[32m\u001b[1m015\u001b[0m | 🌦 Weather: \u001b[1;36mLight Snow\u001b[0m | ⚠ Severity: \u001b[1;36m2\u001b[0m\n",
            "Extrayendo Partición #\u001b[32m\u001b[1m016\u001b[0m | 🌦 Weather: \u001b[1;36mCloudy\u001b[0m | ⚠ Severity: \u001b[1;36m3\u001b[0m\n",
            "Extrayendo Partición #\u001b[32m\u001b[1m017\u001b[0m | 🌦 Weather: \u001b[1;36mFog\u001b[0m | ⚠ Severity: \u001b[1;36m2\u001b[0m\n",
            "Extrayendo Partición #\u001b[32m\u001b[1m018\u001b[0m | 🌦 Weather: \u001b[1;36mLight Rain\u001b[0m | ⚠ Severity: \u001b[1;36m3\u001b[0m\n",
            "Extrayendo Partición #\u001b[32m\u001b[1m019\u001b[0m | 🌦 Weather: \u001b[1;36mScattered Clouds\u001b[0m | ⚠ Severity: \u001b[1;36m3\u001b[0m\n",
            "Extrayendo Partición #\u001b[32m\u001b[1m020\u001b[0m | 🌦 Weather: \u001b[1;36mRain\u001b[0m | ⚠ Severity: \u001b[1;36m2\u001b[0m\n",
            "Extrayendo Partición #\u001b[32m\u001b[1m021\u001b[0m | 🌦 Weather: \u001b[1;36mHaze\u001b[0m | ⚠ Severity: \u001b[1;36m2\u001b[0m\n",
            "Extrayendo Partición #\u001b[32m\u001b[1m022\u001b[0m | 🌦 Weather: \u001b[1;36mFair\u001b[0m | ⚠ Severity: \u001b[1;36m4\u001b[0m\n",
            "Extrayendo Partición #\u001b[32m\u001b[1m023\u001b[0m | 🌦 Weather: \u001b[1;36mFair\u001b[0m | ⚠ Severity: \u001b[1;36m1\u001b[0m\n",
            "Extrayendo Partición #\u001b[32m\u001b[1m024\u001b[0m | 🌦 Weather: \u001b[1;36mFair / Windy\u001b[0m | ⚠ Severity: \u001b[1;36m2\u001b[0m\n",
            "Extrayendo Partición #\u001b[32m\u001b[1m025\u001b[0m | 🌦 Weather: \u001b[1;36mNone\u001b[0m | ⚠ Severity: \u001b[1;36m3\u001b[0m\n",
            "Extrayendo Partición #\u001b[32m\u001b[1m026\u001b[0m | 🌦 Weather: \u001b[1;36mClear\u001b[0m | ⚠ Severity: \u001b[1;36m4\u001b[0m\n",
            "Extrayendo Partición #\u001b[32m\u001b[1m027\u001b[0m | 🌦 Weather: \u001b[1;36mHeavy Rain\u001b[0m | ⚠ Severity: \u001b[1;36m2\u001b[0m\n",
            "Extrayendo Partición #\u001b[32m\u001b[1m028\u001b[0m | 🌦 Weather: \u001b[1;36mMostly Cloudy\u001b[0m | ⚠ Severity: \u001b[1;36m4\u001b[0m\n",
            "Extrayendo Partición #\u001b[32m\u001b[1m029\u001b[0m | 🌦 Weather: \u001b[1;36mCloudy\u001b[0m | ⚠ Severity: \u001b[1;36m4\u001b[0m\n",
            "Extrayendo Partición #\u001b[32m\u001b[1m030\u001b[0m | 🌦 Weather: \u001b[1;36mLight Snow\u001b[0m | ⚠ Severity: \u001b[1;36m3\u001b[0m\n",
            "Extrayendo Partición #\u001b[32m\u001b[1m031\u001b[0m | 🌦 Weather: \u001b[1;36mRain\u001b[0m | ⚠ Severity: \u001b[1;36m3\u001b[0m\n",
            "Extrayendo Partición #\u001b[32m\u001b[1m032\u001b[0m | 🌦 Weather: \u001b[1;36mLight Drizzle\u001b[0m | ⚠ Severity: \u001b[1;36m2\u001b[0m\n",
            "Extrayendo Partición #\u001b[32m\u001b[1m033\u001b[0m | 🌦 Weather: \u001b[1;36mPartly Cloudy\u001b[0m | ⚠ Severity: \u001b[1;36m4\u001b[0m\n",
            "Extrayendo Partición #\u001b[32m\u001b[1m034\u001b[0m | 🌦 Weather: \u001b[1;36mThunder in the Vicinity\u001b[0m | ⚠ Severity: \u001b[1;36m2\u001b[0m\n",
            "Extrayendo Partición #\u001b[32m\u001b[1m035\u001b[0m | 🌦 Weather: \u001b[1;36mCloudy / Windy\u001b[0m | ⚠ Severity: \u001b[1;36m2\u001b[0m\n",
            "Extrayendo Partición #\u001b[32m\u001b[1m036\u001b[0m | 🌦 Weather: \u001b[1;36mHaze\u001b[0m | ⚠ Severity: \u001b[1;36m3\u001b[0m\n",
            "Extrayendo Partición #\u001b[32m\u001b[1m037\u001b[0m | 🌦 Weather: \u001b[1;36mOvercast\u001b[0m | ⚠ Severity: \u001b[1;36m4\u001b[0m\n",
            "Extrayendo Partición #\u001b[32m\u001b[1m038\u001b[0m | 🌦 Weather: \u001b[1;36mMostly Cloudy / Windy\u001b[0m | ⚠ Severity: \u001b[1;36m2\u001b[0m\n",
            "Extrayendo Partición #\u001b[32m\u001b[1m039\u001b[0m | 🌦 Weather: \u001b[1;36mT-Storm\u001b[0m | ⚠ Severity: \u001b[1;36m2\u001b[0m\n",
            "Extrayendo Partición #\u001b[32m\u001b[1m040\u001b[0m | 🌦 Weather: \u001b[1;36mSnow\u001b[0m | ⚠ Severity: \u001b[1;36m2\u001b[0m\n",
            "Extrayendo Partición #\u001b[32m\u001b[1m041\u001b[0m | 🌦 Weather: \u001b[1;36mThunder\u001b[0m | ⚠ Severity: \u001b[1;36m2\u001b[0m\n",
            "Extrayendo Partición #\u001b[32m\u001b[1m042\u001b[0m | 🌦 Weather: \u001b[1;36mLight Rain with Thunder\u001b[0m | ⚠ Severity: \u001b[1;36m2\u001b[0m\n",
            "Extrayendo Partición #\u001b[32m\u001b[1m043\u001b[0m | 🌦 Weather: \u001b[1;36mMostly Cloudy\u001b[0m | ⚠ Severity: \u001b[1;36m1\u001b[0m\n",
            "Extrayendo Partición #\u001b[32m\u001b[1m044\u001b[0m | 🌦 Weather: \u001b[1;36mSmoke\u001b[0m | ⚠ Severity: \u001b[1;36m2\u001b[0m\n",
            "Extrayendo Partición #\u001b[32m\u001b[1m045\u001b[0m | 🌦 Weather: \u001b[1;36mWintry Mix\u001b[0m | ⚠ Severity: \u001b[1;36m2\u001b[0m\n",
            "Extrayendo Partición #\u001b[32m\u001b[1m046\u001b[0m | 🌦 Weather: \u001b[1;36mFog\u001b[0m | ⚠ Severity: \u001b[1;36m3\u001b[0m\n",
            "Extrayendo Partición #\u001b[32m\u001b[1m047\u001b[0m | 🌦 Weather: \u001b[1;36mLight Rain\u001b[0m | ⚠ Severity: \u001b[1;36m4\u001b[0m\n",
            "Extrayendo Partición #\u001b[32m\u001b[1m048\u001b[0m | 🌦 Weather: \u001b[1;36mPartly Cloudy / Windy\u001b[0m | ⚠ Severity: \u001b[1;36m2\u001b[0m\n",
            "Extrayendo Partición #\u001b[32m\u001b[1m049\u001b[0m | 🌦 Weather: \u001b[1;36mCloudy\u001b[0m | ⚠ Severity: \u001b[1;36m1\u001b[0m\n",
            "Extrayendo Partición #\u001b[32m\u001b[1m050\u001b[0m | 🌦 Weather: \u001b[1;36mHeavy T-Storm\u001b[0m | ⚠ Severity: \u001b[1;36m2\u001b[0m\n",
            "Extrayendo Partición #\u001b[32m\u001b[1m051\u001b[0m | 🌦 Weather: \u001b[1;36mNone\u001b[0m | ⚠ Severity: \u001b[1;36m4\u001b[0m\n",
            "Extrayendo Partición #\u001b[32m\u001b[1m052\u001b[0m | 🌦 Weather: \u001b[1;36mHeavy Rain\u001b[0m | ⚠ Severity: \u001b[1;36m3\u001b[0m\n",
            "Extrayendo Partición #\u001b[32m\u001b[1m053\u001b[0m | 🌦 Weather: \u001b[1;36mPartly Cloudy\u001b[0m | ⚠ Severity: \u001b[1;36m1\u001b[0m\n",
            "Extrayendo Partición #\u001b[32m\u001b[1m054\u001b[0m | 🌦 Weather: \u001b[1;36mLight Rain / Windy\u001b[0m | ⚠ Severity: \u001b[1;36m2\u001b[0m\n",
            "Extrayendo Partición #\u001b[32m\u001b[1m055\u001b[0m | 🌦 Weather: \u001b[1;36mLight Snow / Windy\u001b[0m | ⚠ Severity: \u001b[1;36m2\u001b[0m\n",
            "Extrayendo Partición #\u001b[32m\u001b[1m056\u001b[0m | 🌦 Weather: \u001b[1;36mScattered Clouds\u001b[0m | ⚠ Severity: \u001b[1;36m4\u001b[0m\n",
            "Extrayendo Partición #\u001b[32m\u001b[1m057\u001b[0m | 🌦 Weather: \u001b[1;36mLight Snow\u001b[0m | ⚠ Severity: \u001b[1;36m4\u001b[0m\n",
            "Extrayendo Partición #\u001b[32m\u001b[1m058\u001b[0m | 🌦 Weather: \u001b[1;36mLight Drizzle\u001b[0m | ⚠ Severity: \u001b[1;36m3\u001b[0m\n",
            "Extrayendo Partición #\u001b[32m\u001b[1m059\u001b[0m | 🌦 Weather: \u001b[1;36mHeavy Snow\u001b[0m | ⚠ Severity: \u001b[1;36m2\u001b[0m\n",
            "Extrayendo Partición #\u001b[32m\u001b[1m060\u001b[0m | 🌦 Weather: \u001b[1;36mDrizzle\u001b[0m | ⚠ Severity: \u001b[1;36m2\u001b[0m\n",
            "Extrayendo Partición #\u001b[32m\u001b[1m061\u001b[0m | 🌦 Weather: \u001b[1;36mFair / Windy\u001b[0m | ⚠ Severity: \u001b[1;36m3\u001b[0m\n",
            "Extrayendo Partición #\u001b[32m\u001b[1m062\u001b[0m | 🌦 Weather: \u001b[1;36mPatches of Fog\u001b[0m | ⚠ Severity: \u001b[1;36m2\u001b[0m\n",
            "Extrayendo Partición #\u001b[32m\u001b[1m063\u001b[0m | 🌦 Weather: \u001b[1;36mN/A Precipitation\u001b[0m | ⚠ Severity: \u001b[1;36m2\u001b[0m\n",
            "Extrayendo Partición #\u001b[32m\u001b[1m064\u001b[0m | 🌦 Weather: \u001b[1;36mLight Thunderstorms and Rain\u001b[0m | ⚠ Severity: \u001b[1;36m2\u001b[0m\n",
            "Extrayendo Partición #\u001b[32m\u001b[1m065\u001b[0m | 🌦 Weather: \u001b[1;36mT-Storm\u001b[0m | ⚠ Severity: \u001b[1;36m3\u001b[0m\n",
            "Extrayendo Partición #\u001b[32m\u001b[1m066\u001b[0m | 🌦 Weather: \u001b[1;36mFog\u001b[0m | ⚠ Severity: \u001b[1;36m4\u001b[0m\n",
            "Extrayendo Partición #\u001b[32m\u001b[1m067\u001b[0m | 🌦 Weather: \u001b[1;36mThunderstorm\u001b[0m | ⚠ Severity: \u001b[1;36m2\u001b[0m\n",
            "Extrayendo Partición #\u001b[32m\u001b[1m068\u001b[0m | 🌦 Weather: \u001b[1;36mMist\u001b[0m | ⚠ Severity: \u001b[1;36m2\u001b[0m\n",
            "Extrayendo Partición #\u001b[32m\u001b[1m069\u001b[0m | 🌦 Weather: \u001b[1;36mShallow Fog\u001b[0m | ⚠ Severity: \u001b[1;36m2\u001b[0m\n",
            "Extrayendo Partición #\u001b[32m\u001b[1m070\u001b[0m | 🌦 Weather: \u001b[1;36mLight Rain with Thunder\u001b[0m | ⚠ Severity: \u001b[1;36m3\u001b[0m\n",
            "Extrayendo Partición #\u001b[32m\u001b[1m071\u001b[0m | 🌦 Weather: \u001b[1;36mSnow\u001b[0m | ⚠ Severity: \u001b[1;36m3\u001b[0m\n",
            "Extrayendo Partición #\u001b[32m\u001b[1m072\u001b[0m | 🌦 Weather: \u001b[1;36mLight Rain\u001b[0m | ⚠ Severity: \u001b[1;36m1\u001b[0m\n",
            "Extrayendo Partición #\u001b[32m\u001b[1m073\u001b[0m | 🌦 Weather: \u001b[1;36mMostly Cloudy / Windy\u001b[0m | ⚠ Severity: \u001b[1;36m3\u001b[0m\n",
            "Extrayendo Partición #\u001b[32m\u001b[1m074\u001b[0m | 🌦 Weather: \u001b[1;36mLight Freezing Rain\u001b[0m | ⚠ Severity: \u001b[1;36m2\u001b[0m\n",
            "Extrayendo Partición #\u001b[32m\u001b[1m075\u001b[0m | 🌦 Weather: \u001b[1;36mThunder in the Vicinity\u001b[0m | ⚠ Severity: \u001b[1;36m3\u001b[0m\n",
            "Extrayendo Partición #\u001b[32m\u001b[1m076\u001b[0m | 🌦 Weather: \u001b[1;36mCloudy / Windy\u001b[0m | ⚠ Severity: \u001b[1;36m3\u001b[0m\n",
            "Extrayendo Partición #\u001b[32m\u001b[1m077\u001b[0m | 🌦 Weather: \u001b[1;36mRain\u001b[0m | ⚠ Severity: \u001b[1;36m4\u001b[0m\n"
          ]
        },
        {
          "output_type": "stream",
          "name": "stderr",
          "text": []
        },
        {
          "output_type": "stream",
          "name": "stdout",
          "text": [
            "Total de registros obtenidos en la muestra: \u001b[32m\u001b[1m148000\u001b[0m\n"
          ]
        },
        {
          "output_type": "stream",
          "name": "stderr",
          "text": [
            "\r                                                                                \r"
          ]
        }
      ]
    },
    {
      "cell_type": "markdown",
      "source": [
        "# Imputando valores faltantes"
      ],
      "metadata": {
        "id": "tzMcfXbtGIPz"
      }
    },
    {
      "cell_type": "code",
      "source": [
        "def obten_nulos(particion):\n",
        "  from pyspark.sql.types import StructType, StructField, StringType, IntegerType, DoubleType\n",
        "\n",
        "  print(f\"📊 Total de filas en la partición: {particion.count()}\")\n",
        "  print(f\"🗂️ Número de columnas en la partición: {len(particion.columns)}\")\n",
        "\n",
        "  info_nulos = {}\n",
        "  cols_nulos = {}\n",
        "\n",
        "  total_rows = particion.count()\n",
        "\n",
        "  registros_totales = particion.count()\n",
        "\n",
        "  # Contar valores nulos por columna\n",
        "\n",
        "  cols_nulos = particion.select(\n",
        "    [sum(col(c).isNull().cast(\"int\")).alias(c) for c in particion.columns]\n",
        "    )\n",
        "\n",
        "  # Convertir los resultados en un diccionario\n",
        "  info_nulos = {c: cols_nulos.select(c).collect()[0][0] for c in particion.columns}\n",
        "\n",
        "  # Filtrar solo las columnas con valores nulos\n",
        "  cols_nulos = {c: {\"count\": v, \"percent\": (v / total_rows) * 100} for c, v in info_nulos.items() if v > 0}\n",
        "\n",
        "  # Validar si existen nulos\n",
        "  if not cols_nulos:\n",
        "        print(\"✅ No existen valores nulos en la partición.\")\n",
        "        return\n",
        "\n",
        "  listado = [(key, value['count'], value['percent']) for key, value in cols_nulos.items()]\n",
        "\n",
        "  # Definir el esquema del DataFrame\n",
        "  schema = StructType([\n",
        "    StructField(\"Columna\", StringType(), True),\n",
        "    StructField(\"Total de nulos\", IntegerType(), True),\n",
        "    StructField(\"Porcentaje\", DoubleType(), True)\n",
        "  ])\n",
        "\n",
        "  df_resumen_nulos = spark.createDataFrame(listado, schema=schema)\n",
        "\n",
        "  for col_name in [c for c, t in df_resumen_nulos.dtypes if t == \"double\"]:\n",
        "      df_resumen_nulos = df_resumen_nulos.withColumn(col_name, round(df_resumen_nulos[col_name], 2))\n",
        "\n",
        "  df_resumen_nulos.orderBy(col(\"Total de nulos\").desc()).show(truncate=False)\n"
      ],
      "metadata": {
        "id": "z3od6x_V7aP-"
      },
      "execution_count": 8,
      "outputs": []
    },
    {
      "cell_type": "code",
      "source": [
        "def imputacion_valores(particion):\n",
        "    print(\"✅ Se realiza la imputación utilizando los siguientes valores:\\n\")\n",
        "\n",
        "    # Obtener las modas (valores más frecuentes)\n",
        "    moda_Weather = particion.groupBy(\"Weather_Condition\").count().orderBy(col(\"count\").desc()).first()[\"Weather_Condition\"]\n",
        "    moda_City = particion.groupBy(\"City\").count().orderBy(col(\"count\").desc()).first()[\"City\"]\n",
        "    moda_Sunset = particion.groupBy(\"Sunrise_Sunset\").count().orderBy(col(\"count\").desc()).first()[\"Sunrise_Sunset\"]\n",
        "    moda_wub = particion.groupBy(\"Wind_Direction\").count().orderBy(col(\"count\").desc()).first()[\"Wind_Direction\"]\n",
        "\n",
        "    # Obtener promedios de las variables numéricas\n",
        "    media_Temperature = particion.select(round(avg(col(\"Temperature(F)\")), 2).alias(\"avg_temp\")).collect()[0][0]\n",
        "    media_Humidity = particion.select(round(avg(col(\"Humidity(%)\")), 2).alias(\"avg_humidity\")).collect()[0][0]\n",
        "    media_Visibility = particion.select(round(avg(col(\"Visibility(mi)\")), 2).alias(\"avg_visibility\")).collect()[0][0]\n",
        "    media_Precipitation = particion.select(round(avg(col(\"Precipitation(in)\")), 2).alias(\"avg_precipitation\")).collect()[0][0]\n",
        "    media_Wind_Speed = particion.select(round(avg(col(\"Wind_Speed(mph)\")), 2).alias(\"avg_wind_speed\")).collect()[0][0]\n",
        "\n",
        "\n",
        "    # Imprimir valores calculados correctamente\n",
        "    print(f\"🌡️ Temperatura promedio: {media_Temperature}\")\n",
        "    print(f\"💧 Humedad promedio: {media_Humidity}\")\n",
        "    print(f\"👀 Visibilidad promedio: {media_Visibility}\")\n",
        "    print(f\"🌧️ Precipitación promedio: {media_Precipitation}\")\n",
        "    print(f\"🌬️ Velocidad del viento promedio: {media_Wind_Speed}\")\n",
        "\n",
        "    print(f\"☁️ Condición meteorológica más frecuente: {moda_Weather}\")\n",
        "    print(f\"🏙️ Ciudad más frecuente: {moda_City}\")\n",
        "    print(f\"🌅 Hora de atardecer más frecuente: {moda_Sunset}\")\n",
        "    print(f\"🌬️ Dirección del viento más frecuente: {moda_wub}\")\n",
        "\n",
        "    # Aplicar imputación con Imputer\n",
        "    from pyspark.ml.feature import Imputer\n",
        "\n",
        "    imputer_num = Imputer(\n",
        "        inputCols=[\"Temperature(F)\", \"Humidity(%)\", \"Visibility(mi)\", \"Precipitation(in)\", \"Wind_Speed(mph)\"],\n",
        "        outputCols=[\"Temperature(F)\", \"Humidity(%)\", \"Visibility(mi)\", \"Precipitation(in)\", \"Wind_Speed(mph)\"]\n",
        "    ).setStrategy(\"mean\")\n",
        "\n",
        "    particion = imputer_num.fit(particion).transform(particion)\n",
        "\n",
        "    # Imputación de valores categóricos con na.fill()\n",
        "    particion = particion.na.fill({\n",
        "        \"Weather_Condition\": moda_Weather,\n",
        "        \"City\": moda_City,\n",
        "        \"Sunrise_Sunset\": moda_Sunset,\n",
        "        \"Wind_Direction\": moda_wub\n",
        "    })\n",
        "\n",
        "    print(\"\\n🔍 Se validan nuevamente los valores nulos para corroborar la imputación.\\n\")\n",
        "\n",
        "    obten_nulos(particion)\n",
        "\n",
        "    for col_name in [c for c, t in particion.dtypes if t == \"double\"]:\n",
        "      particion = particion.withColumn(col_name, round(particion[col_name], 1))\n",
        "\n",
        "    return particion"
      ],
      "metadata": {
        "id": "PS9ra8pQSM71"
      },
      "execution_count": 9,
      "outputs": []
    },
    {
      "cell_type": "code",
      "source": [
        "obten_nulos(df_muestras)"
      ],
      "metadata": {
        "id": "vc-aW7WY73U0",
        "colab": {
          "base_uri": "https://localhost:8080/"
        },
        "outputId": "bea89bfd-f25a-43c6-9ca8-105d5d39b0f1"
      },
      "execution_count": 10,
      "outputs": [
        {
          "output_type": "stream",
          "name": "stdout",
          "text": [
            "📊 Total de filas en la partición: 148000\n",
            "🗂️ Número de columnas en la partición: 19\n",
            "+-----------------+--------------+----------+\n",
            "|Columna          |Total de nulos|Porcentaje|\n",
            "+-----------------+--------------+----------+\n",
            "|Precipitation(in)|33504         |22.64     |\n",
            "|Wind_Speed(mph)  |8921          |6.03      |\n",
            "|Humidity(%)      |995           |0.67      |\n",
            "|Wind_Direction   |750           |0.51      |\n",
            "|Temperature(F)   |641           |0.43      |\n",
            "|Sunrise_Sunset   |572           |0.39      |\n",
            "|Visibility(mi)   |446           |0.3       |\n",
            "|City             |7             |0.0       |\n",
            "+-----------------+--------------+----------+\n",
            "\n"
          ]
        },
        {
          "output_type": "stream",
          "name": "stderr",
          "text": [
            "\r[Stage 3566:======>                                               (2 + 14) / 16]\r\r                                                                                \r"
          ]
        }
      ]
    },
    {
      "cell_type": "code",
      "source": [
        "muestra_imp = imputacion_valores(df_muestras)"
      ],
      "metadata": {
        "colab": {
          "base_uri": "https://localhost:8080/"
        },
        "id": "eMiT-fWeUziL",
        "outputId": "da578d0d-1c4d-4343-c436-547c023f4655"
      },
      "execution_count": 11,
      "outputs": [
        {
          "output_type": "stream",
          "name": "stdout",
          "text": [
            "✅ Se realiza la imputación utilizando los siguientes valores:\n",
            "\n",
            "🌡️ Temperatura promedio: 57.45\n",
            "💧 Humedad promedio: 75.19\n",
            "👀 Visibilidad promedio: 7.02\n",
            "🌧️ Precipitación promedio: 0.04\n",
            "🌬️ Velocidad del viento promedio: 10.15\n",
            "☁️ Condición meteorológica más frecuente: Fair\n",
            "🏙️ Ciudad más frecuente: Houston\n",
            "🌅 Hora de atardecer más frecuente: Day\n",
            "🌬️ Dirección del viento más frecuente: CALM\n",
            "\n",
            "🔍 Se validan nuevamente los valores nulos para corroborar la imputación.\n",
            "\n",
            "📊 Total de filas en la partición: 148000\n",
            "🗂️ Número de columnas en la partición: 19\n",
            "✅ No existen valores nulos en la partición.\n"
          ]
        }
      ]
    },
    {
      "cell_type": "code",
      "source": [
        "outliers = calcular_IQR(muestra_imp,['Precipitation(in)','Temperature(F)','Humidity(%)','Visibility(mi)','Wind_Speed(mph)'])\n",
        "outliers"
      ],
      "metadata": {
        "colab": {
          "base_uri": "https://localhost:8080/",
          "height": 237
        },
        "id": "nL90UIDBxvvf",
        "outputId": "ea3fed74-13ae-41fc-ea7c-f62d9b32ecd3"
      },
      "execution_count": 12,
      "outputs": [
        {
          "output_type": "execute_result",
          "data": {
            "text/plain": [
              "                    IQR  Límite Inf.  Límite Sup.\n",
              "Columna                                          \n",
              "Precipitation(in)   0.0          0.0          0.0\n",
              "Temperature(F)     31.4         -5.1        120.5\n",
              "Humidity(%)        30.0         17.0        137.0\n",
              "Visibility(mi)      7.0         -7.5         20.5\n",
              "Wind_Speed(mph)     8.0         -7.0         25.0"
            ],
            "text/html": [
              "<div>\n",
              "<style scoped>\n",
              "    .dataframe tbody tr th:only-of-type {\n",
              "        vertical-align: middle;\n",
              "    }\n",
              "\n",
              "    .dataframe tbody tr th {\n",
              "        vertical-align: top;\n",
              "    }\n",
              "\n",
              "    .dataframe thead th {\n",
              "        text-align: right;\n",
              "    }\n",
              "</style>\n",
              "<table border=\"1\" class=\"dataframe\">\n",
              "  <thead>\n",
              "    <tr style=\"text-align: right;\">\n",
              "      <th></th>\n",
              "      <th>IQR</th>\n",
              "      <th>Límite Inf.</th>\n",
              "      <th>Límite Sup.</th>\n",
              "    </tr>\n",
              "    <tr>\n",
              "      <th>Columna</th>\n",
              "      <th></th>\n",
              "      <th></th>\n",
              "      <th></th>\n",
              "    </tr>\n",
              "  </thead>\n",
              "  <tbody>\n",
              "    <tr>\n",
              "      <th>Precipitation(in)</th>\n",
              "      <td>0.0</td>\n",
              "      <td>0.0</td>\n",
              "      <td>0.0</td>\n",
              "    </tr>\n",
              "    <tr>\n",
              "      <th>Temperature(F)</th>\n",
              "      <td>31.4</td>\n",
              "      <td>-5.1</td>\n",
              "      <td>120.5</td>\n",
              "    </tr>\n",
              "    <tr>\n",
              "      <th>Humidity(%)</th>\n",
              "      <td>30.0</td>\n",
              "      <td>17.0</td>\n",
              "      <td>137.0</td>\n",
              "    </tr>\n",
              "    <tr>\n",
              "      <th>Visibility(mi)</th>\n",
              "      <td>7.0</td>\n",
              "      <td>-7.5</td>\n",
              "      <td>20.5</td>\n",
              "    </tr>\n",
              "    <tr>\n",
              "      <th>Wind_Speed(mph)</th>\n",
              "      <td>8.0</td>\n",
              "      <td>-7.0</td>\n",
              "      <td>25.0</td>\n",
              "    </tr>\n",
              "  </tbody>\n",
              "</table>\n",
              "</div>"
            ]
          },
          "metadata": {},
          "execution_count": 12
        }
      ]
    },
    {
      "cell_type": "code",
      "source": [
        "for index, row in outliers.iterrows():\n",
        "    columna = index\n",
        "    limite_inf = row[\"Límite Inf.\"]\n",
        "    limite_sup = row[\"Límite Sup.\"]\n",
        "\n",
        "    quoted_columna = f\"`{columna}`\"\n",
        "\n",
        "    muestra_imp = muestra_imp.withColumn(columna, when((col(columna) < limite_inf) | (col(columna) > limite_sup), muestra_imp.selectExpr(f\"avg({quoted_columna})\").collect()[0][0])\n",
        "        .otherwise(col(columna))\n",
        "    )\n"
      ],
      "metadata": {
        "id": "Ik_Vc3ihHYhz"
      },
      "execution_count": 13,
      "outputs": []
    },
    {
      "cell_type": "code",
      "source": [
        "outliers = calcular_IQR(muestra_imp,['Precipitation(in)','Temperature(F)','Humidity(%)','Visibility(mi)','Wind_Speed(mph)'])\n",
        "outliers"
      ],
      "metadata": {
        "colab": {
          "base_uri": "https://localhost:8080/",
          "height": 237
        },
        "id": "h75AazMxJ8Li",
        "outputId": "183d81f7-7d9f-4299-a347-2f463a8dc308"
      },
      "execution_count": 14,
      "outputs": [
        {
          "output_type": "execute_result",
          "data": {
            "text/plain": [
              "                    IQR  Límite Inf.  Límite Sup.\n",
              "Columna                                          \n",
              "Precipitation(in)   0.0         0.00         0.00\n",
              "Temperature(F)     31.4        -5.10       120.50\n",
              "Humidity(%)        29.0        19.50       135.50\n",
              "Visibility(mi)      7.0        -7.50        20.50\n",
              "Wind_Speed(mph)     7.7        -6.55        24.25"
            ],
            "text/html": [
              "<div>\n",
              "<style scoped>\n",
              "    .dataframe tbody tr th:only-of-type {\n",
              "        vertical-align: middle;\n",
              "    }\n",
              "\n",
              "    .dataframe tbody tr th {\n",
              "        vertical-align: top;\n",
              "    }\n",
              "\n",
              "    .dataframe thead th {\n",
              "        text-align: right;\n",
              "    }\n",
              "</style>\n",
              "<table border=\"1\" class=\"dataframe\">\n",
              "  <thead>\n",
              "    <tr style=\"text-align: right;\">\n",
              "      <th></th>\n",
              "      <th>IQR</th>\n",
              "      <th>Límite Inf.</th>\n",
              "      <th>Límite Sup.</th>\n",
              "    </tr>\n",
              "    <tr>\n",
              "      <th>Columna</th>\n",
              "      <th></th>\n",
              "      <th></th>\n",
              "      <th></th>\n",
              "    </tr>\n",
              "  </thead>\n",
              "  <tbody>\n",
              "    <tr>\n",
              "      <th>Precipitation(in)</th>\n",
              "      <td>0.0</td>\n",
              "      <td>0.00</td>\n",
              "      <td>0.00</td>\n",
              "    </tr>\n",
              "    <tr>\n",
              "      <th>Temperature(F)</th>\n",
              "      <td>31.4</td>\n",
              "      <td>-5.10</td>\n",
              "      <td>120.50</td>\n",
              "    </tr>\n",
              "    <tr>\n",
              "      <th>Humidity(%)</th>\n",
              "      <td>29.0</td>\n",
              "      <td>19.50</td>\n",
              "      <td>135.50</td>\n",
              "    </tr>\n",
              "    <tr>\n",
              "      <th>Visibility(mi)</th>\n",
              "      <td>7.0</td>\n",
              "      <td>-7.50</td>\n",
              "      <td>20.50</td>\n",
              "    </tr>\n",
              "    <tr>\n",
              "      <th>Wind_Speed(mph)</th>\n",
              "      <td>7.7</td>\n",
              "      <td>-6.55</td>\n",
              "      <td>24.25</td>\n",
              "    </tr>\n",
              "  </tbody>\n",
              "</table>\n",
              "</div>"
            ]
          },
          "metadata": {},
          "execution_count": 14
        }
      ]
    },
    {
      "cell_type": "code",
      "source": [
        "muestra_imp.show(5)"
      ],
      "metadata": {
        "colab": {
          "base_uri": "https://localhost:8080/"
        },
        "id": "qiMUlUEGNepw",
        "outputId": "93c757e1-da4b-4331-deca-bfe322782649"
      },
      "execution_count": 31,
      "outputs": [
        {
          "output_type": "stream",
          "name": "stdout",
          "text": [
            "+---------+-----------------+-----------------+--------+---------+-----+--------------+-----------+--------------+--------------+---------------+--------+--------+-------+----------+-----+--------------+---------------+--------------+\n",
            "|       ID|Weather_Condition|Precipitation(in)|Severity|     City|State|Temperature(F)|Humidity(%)|Visibility(mi)|Wind_Direction|Wind_Speed(mph)|Crossing|Junction|Railway|Roundabout| Stop|Sunrise_Sunset|Traffic_Calming|Traffic_Signal|\n",
            "+---------+-----------------+-----------------+--------+---------+-----+--------------+-----------+--------------+--------------+---------------+--------+--------+-------+----------+-----+--------------+---------------+--------------+\n",
            "|A-7395585|             Fair|              0.0|       2|Riverside|   CA|          89.0|       36.0|          10.0|             W|           17.0|   false|   false|  false|     false|false|           Day|          false|         false|\n",
            "|A-4435213|             Fair|              0.0|       2|   Irvine|   CA|          65.0|       33.0|          10.0|           WSW|            9.0|   false|   false|  false|     false|false|           Day|          false|         false|\n",
            "|A-4139701|             Fair|              0.0|       2|Remington|   VA|          73.0|       21.0|          10.0|             E|            9.0|   false|   false|  false|     false| true|           Day|          false|         false|\n",
            "|A-6921654|             Fair|              0.0|       2| Richburg|   SC|          41.0|       87.0|          10.0|          CALM|            0.0|   false|    true|  false|     false|false|         Night|          false|         false|\n",
            "|A-7774675|             Fair|              0.0|       2| Woodland|   CA|          94.0|       28.0|          10.0|           VAR|            5.0|   false|   false|  false|     false|false|           Day|          false|         false|\n",
            "+---------+-----------------+-----------------+--------+---------+-----+--------------+-----------+--------------+--------------+---------------+--------+--------+-------+----------+-----+--------------+---------------+--------------+\n",
            "only showing top 5 rows\n",
            "\n"
          ]
        }
      ]
    },
    {
      "cell_type": "markdown",
      "source": [
        "# Preparando datos"
      ],
      "metadata": {
        "id": "bkIQuXvbbTv_"
      }
    },
    {
      "cell_type": "code",
      "source": [
        "muestra_imp.groupBy(\"Severity\").count().show()"
      ],
      "metadata": {
        "colab": {
          "base_uri": "https://localhost:8080/"
        },
        "id": "cCLiAdHcjHm-",
        "outputId": "6e011310-7999-4d70-bf90-07f4d9141e43"
      },
      "execution_count": 15,
      "outputs": [
        {
          "output_type": "stream",
          "name": "stdout",
          "text": [
            "+--------+-----+\n",
            "|Severity|count|\n",
            "+--------+-----+\n",
            "|       3|42000|\n",
            "|       2|74000|\n",
            "|       4|22000|\n",
            "|       1|10000|\n",
            "+--------+-----+\n",
            "\n"
          ]
        }
      ]
    },
    {
      "cell_type": "code",
      "source": [
        "muestra_imp.show(5)"
      ],
      "metadata": {
        "colab": {
          "base_uri": "https://localhost:8080/"
        },
        "id": "3RFzlmg12gfA",
        "outputId": "5d2c4a02-bc8f-4721-938e-ca83ed0c64e0"
      },
      "execution_count": 16,
      "outputs": [
        {
          "output_type": "stream",
          "name": "stdout",
          "text": [
            "+---------+-----------------+-----------------+--------+---------+-----+--------------+-----------+--------------+--------------+---------------+--------+--------+-------+----------+-----+--------------+---------------+--------------+\n",
            "|       ID|Weather_Condition|Precipitation(in)|Severity|     City|State|Temperature(F)|Humidity(%)|Visibility(mi)|Wind_Direction|Wind_Speed(mph)|Crossing|Junction|Railway|Roundabout| Stop|Sunrise_Sunset|Traffic_Calming|Traffic_Signal|\n",
            "+---------+-----------------+-----------------+--------+---------+-----+--------------+-----------+--------------+--------------+---------------+--------+--------+-------+----------+-----+--------------+---------------+--------------+\n",
            "|A-7395585|             Fair|              0.0|       2|Riverside|   CA|          89.0|       36.0|          10.0|             W|           17.0|   false|   false|  false|     false|false|           Day|          false|         false|\n",
            "|A-4435213|             Fair|              0.0|       2|   Irvine|   CA|          65.0|       33.0|          10.0|           WSW|            9.0|   false|   false|  false|     false|false|           Day|          false|         false|\n",
            "|A-4139701|             Fair|              0.0|       2|Remington|   VA|          73.0|       21.0|          10.0|             E|            9.0|   false|   false|  false|     false| true|           Day|          false|         false|\n",
            "|A-6921654|             Fair|              0.0|       2| Richburg|   SC|          41.0|       87.0|          10.0|          CALM|            0.0|   false|    true|  false|     false|false|         Night|          false|         false|\n",
            "|A-7774675|             Fair|              0.0|       2| Woodland|   CA|          94.0|       28.0|          10.0|           VAR|            5.0|   false|   false|  false|     false|false|           Day|          false|         false|\n",
            "+---------+-----------------+-----------------+--------+---------+-----+--------------+-----------+--------------+--------------+---------------+--------+--------+-------+----------+-----+--------------+---------------+--------------+\n",
            "only showing top 5 rows\n",
            "\n"
          ]
        }
      ]
    },
    {
      "cell_type": "code",
      "source": [
        "categoricas = [\"Weather_Condition\", \"City\", \"State\", \"Sunrise_Sunset\",\"Wind_Direction\"]\n",
        "binarias = [\"Crossing\", \"Junction\", \"Railway\", \"Roundabout\", \"Stop\", \"Traffic_Calming\", \"Traffic_Signal\"]"
      ],
      "metadata": {
        "id": "HKTLf48hbs_d"
      },
      "execution_count": 35,
      "outputs": []
    },
    {
      "cell_type": "code",
      "source": [
        "# ✅ Crear una copia de `imp_sev_1` para trabajar sobre ella\n",
        "Transf_muestra = muestra_imp.alias(\"copia_muestra\")  # Esto asegura que el original quede intacto\n",
        "\n",
        "# Convertir variables binarias a 0 y 1 en la copia\n",
        "for columna in binarias:\n",
        "    Transf_muestra = Transf_muestra.withColumn(columna + \"_num\", col(columna).cast(\"int\"))\n",
        "\n",
        "# Aplicar StringIndexer a las variables categóricas\n",
        "indexers = [StringIndexer(inputCol=col, outputCol=col + \"_Index\").fit(Transf_muestra) for col in categoricas]\n",
        "for indexer in indexers:\n",
        "    Transf_muestra = indexer.transform(Transf_muestra)\n",
        "\n",
        "index_label = StringIndexer(inputCol=\"Severity\", outputCol=\"Severity_Index\").fit(Transf_muestra)\n",
        "Transf_muestra = index_label.transform(Transf_muestra)\n",
        "\n",
        "# Aplicar One-Hot Encoding a las categóricas\n",
        "codificadores = [OneHotEncoder(inputCol=col + \"_Index\", outputCol=col + \"_OHE\").fit(Transf_muestra) for col in categoricas]\n",
        "for codificador in codificadores:\n",
        "    Transf_muestra = codificador.transform(Transf_muestra)\n",
        "\n",
        "# 🔥 Eliminar las columnas originales que ya no se usarán en el modelo\n",
        "Transf_muestra = Transf_muestra.drop(*categoricas).drop(*binarias)\n",
        "\n",
        "Transf_muestra.show()\n",
        "\n",
        "\n"
      ],
      "metadata": {
        "colab": {
          "base_uri": "https://localhost:8080/"
        },
        "id": "NX_PoP6Nh3Bj",
        "outputId": "06471d26-4ab5-4e2a-e20c-741288147b2f"
      },
      "execution_count": 18,
      "outputs": [
        {
          "output_type": "stream",
          "name": "stdout",
          "text": [
            "+---------+-----------------+--------+--------------+-----------------+--------------+---------------+------------+------------+-----------+--------------+--------+-------------------+------------------+-----------------------+----------+-----------+--------------------+--------------------+--------------+---------------------+-------------------+---------------+------------------+------------------+\n",
            "|       ID|Precipitation(in)|Severity|Temperature(F)|      Humidity(%)|Visibility(mi)|Wind_Speed(mph)|Crossing_num|Junction_num|Railway_num|Roundabout_num|Stop_num|Traffic_Calming_num|Traffic_Signal_num|Weather_Condition_Index|City_Index|State_Index|Sunrise_Sunset_Index|Wind_Direction_Index|Severity_Index|Weather_Condition_OHE|           City_OHE|      State_OHE|Sunrise_Sunset_OHE|Wind_Direction_OHE|\n",
            "+---------+-----------------+--------+--------------+-----------------+--------------+---------------+------------+------------+-----------+--------------+--------+-------------------+------------------+-----------------------+----------+-----------+--------------------+--------------------+--------------+---------------------+-------------------+---------------+------------------+------------------+\n",
            "|A-7395585|              0.0|       2|          89.0|             36.0|          10.0|           17.0|           0|           0|          0|             0|       0|                  0|                 0|                    1.0|      83.0|        0.0|                 0.0|                 3.0|           0.0|       (36,[1],[1.0])|  (7788,[83],[1.0])| (48,[0],[1.0])|     (1,[0],[1.0])|    (23,[3],[1.0])|\n",
            "|A-4435213|              0.0|       2|          65.0|             33.0|          10.0|            9.0|           0|           0|          0|             0|       0|                  0|                 0|                    1.0|     186.0|        0.0|                 0.0|                11.0|           0.0|       (36,[1],[1.0])| (7788,[186],[1.0])| (48,[0],[1.0])|     (1,[0],[1.0])|   (23,[11],[1.0])|\n",
            "|A-4139701|              0.0|       2|          73.0|             21.0|          10.0|            9.0|           0|           0|          0|             0|       1|                  0|                 0|                    1.0|    2638.0|        5.0|                 0.0|                14.0|           0.0|       (36,[1],[1.0])|(7788,[2638],[1.0])| (48,[5],[1.0])|     (1,[0],[1.0])|   (23,[14],[1.0])|\n",
            "|A-6921654|              0.0|       2|          41.0|             87.0|          10.0|            0.0|           0|           1|          0|             0|       0|                  0|                 0|                    1.0|    1348.0|        6.0|                 1.0|                 0.0|           0.0|       (36,[1],[1.0])|(7788,[1348],[1.0])| (48,[6],[1.0])|         (1,[],[])|    (23,[0],[1.0])|\n",
            "|A-7774675|              0.0|       2|          94.0|             28.0|          10.0|            5.0|           0|           0|          0|             0|       0|                  0|                 0|                    1.0|     339.0|        0.0|                 0.0|                21.0|           0.0|       (36,[1],[1.0])| (7788,[339],[1.0])| (48,[0],[1.0])|     (1,[0],[1.0])|   (23,[21],[1.0])|\n",
            "|A-6793821|              0.0|       2|          11.0|             77.0|          10.0|            6.0|           0|           0|          0|             0|       0|                  0|                 0|                    1.0|      11.0|        8.0|                 1.0|                 5.0|           0.0|       (36,[1],[1.0])|  (7788,[11],[1.0])| (48,[8],[1.0])|         (1,[],[])|    (23,[5],[1.0])|\n",
            "|A-4843296|              0.0|       2|          83.0|75.18970270270253|          10.0|           10.0|           0|           0|          0|             0|       0|                  0|                 0|                    1.0|      83.0|        0.0|                 0.0|                 8.0|           0.0|       (36,[1],[1.0])|  (7788,[83],[1.0])| (48,[0],[1.0])|     (1,[0],[1.0])|    (23,[8],[1.0])|\n",
            "|A-1391255|              0.0|       2|          96.0|             46.0|          10.0|           13.0|           0|           0|          0|             0|       0|                  0|                 0|                    1.0|      43.0|       25.0|                 0.0|                 1.0|           0.0|       (36,[1],[1.0])|  (7788,[43],[1.0])|(48,[25],[1.0])|     (1,[0],[1.0])|    (23,[1],[1.0])|\n",
            "|A-1938592|              0.0|       2|          81.0|             50.0|           9.0|            7.0|           0|           0|          0|             0|       0|                  0|                 0|                    1.0|     185.0|       22.0|                 1.0|                 8.0|           0.0|       (36,[1],[1.0])| (7788,[185],[1.0])|(48,[22],[1.0])|         (1,[],[])|    (23,[8],[1.0])|\n",
            "| A-890493|              0.0|       2|          74.0|             52.0|          10.0|            9.0|           0|           0|          0|             0|       0|                  0|                 0|                    1.0|    1885.0|       26.0|                 0.0|                 9.0|           0.0|       (36,[1],[1.0])|(7788,[1885],[1.0])|(48,[26],[1.0])|     (1,[0],[1.0])|    (23,[9],[1.0])|\n",
            "|A-5051475|              0.0|       2|          74.0|             61.0|          10.0|            6.0|           0|           0|          0|             0|       0|                  0|                 0|                    1.0|     282.0|        4.0|                 0.0|                 4.0|           0.0|       (36,[1],[1.0])| (7788,[282],[1.0])| (48,[4],[1.0])|     (1,[0],[1.0])|    (23,[4],[1.0])|\n",
            "|A-5700982|              0.0|       2|          39.0|             55.0|          10.0|           13.0|           0|           0|          0|             0|       0|                  0|                 0|                    1.0|    5103.0|       24.0|                 0.0|                13.0|           0.0|       (36,[1],[1.0])|(7788,[5103],[1.0])|(48,[24],[1.0])|     (1,[0],[1.0])|   (23,[13],[1.0])|\n",
            "|A-5833551|              0.0|       2|          64.0|             83.0|          10.0|            0.0|           0|           0|          0|             0|       0|                  0|                 0|                    1.0|    1245.0|        6.0|                 1.0|                 0.0|           0.0|       (36,[1],[1.0])|(7788,[1245],[1.0])| (48,[6],[1.0])|         (1,[],[])|    (23,[0],[1.0])|\n",
            "|A-1331291|              0.0|       2|          54.0|             90.0|           7.0|            0.0|           1|           0|          0|             0|       0|                  0|                 1|                    1.0|       5.0|       11.0|                 1.0|                 0.0|           0.0|       (36,[1],[1.0])|   (7788,[5],[1.0])|(48,[11],[1.0])|         (1,[],[])|    (23,[0],[1.0])|\n",
            "|A-1859209|              0.0|       2|          90.0|             49.0|          10.0|            5.0|           0|           0|          0|             0|       0|                  0|                 0|                    1.0|    1658.0|        6.0|                 0.0|                 6.0|           0.0|       (36,[1],[1.0])|(7788,[1658],[1.0])| (48,[6],[1.0])|     (1,[0],[1.0])|    (23,[6],[1.0])|\n",
            "|A-4615130|              0.0|       2|          99.0|75.18970270270253|          10.0|            0.0|           0|           0|          0|             0|       0|                  0|                 0|                    1.0|      93.0|        0.0|                 0.0|                 0.0|           0.0|       (36,[1],[1.0])|  (7788,[93],[1.0])| (48,[0],[1.0])|     (1,[0],[1.0])|    (23,[0],[1.0])|\n",
            "|A-1133617|              0.0|       2|          28.0|             47.0|          10.0|            5.0|           1|           0|          0|             0|       0|                  0|                 1|                    1.0|     232.0|       18.0|                 0.0|                21.0|           0.0|       (36,[1],[1.0])| (7788,[232],[1.0])|(48,[18],[1.0])|     (1,[0],[1.0])|   (23,[21],[1.0])|\n",
            "|A-7112407|              0.0|       2|          71.0|             42.0|          10.0|           13.0|           0|           0|          0|             0|       0|                  0|                 0|                    1.0|      31.0|        0.0|                 0.0|                 3.0|           0.0|       (36,[1],[1.0])|  (7788,[31],[1.0])| (48,[0],[1.0])|     (1,[0],[1.0])|    (23,[3],[1.0])|\n",
            "|A-6197421|              0.0|       2|          77.0|             30.0|          10.0|           10.0|           0|           0|          0|             0|       0|                  0|                 0|                    1.0|       1.0|        1.0|                 0.0|                 8.0|           0.0|       (36,[1],[1.0])|   (7788,[1],[1.0])| (48,[1],[1.0])|     (1,[0],[1.0])|    (23,[8],[1.0])|\n",
            "|A-3908664|              0.0|       2|          80.0|75.18970270270253|          10.0|            5.0|           0|           0|          0|             0|       0|                  0|                 0|                    1.0|    2347.0|       43.0|                 0.0|                12.0|           0.0|       (36,[1],[1.0])|(7788,[2347],[1.0])|(48,[43],[1.0])|     (1,[0],[1.0])|   (23,[12],[1.0])|\n",
            "+---------+-----------------+--------+--------------+-----------------+--------------+---------------+------------+------------+-----------+--------------+--------+-------------------+------------------+-----------------------+----------+-----------+--------------------+--------------------+--------------+---------------------+-------------------+---------------+------------------+------------------+\n",
            "only showing top 20 rows\n",
            "\n"
          ]
        }
      ]
    },
    {
      "cell_type": "code",
      "source": [
        "atributos = [ 'Precipitation(in)', 'Temperature(F)', 'Humidity(%)', 'Visibility(mi)',\n",
        "              'Wind_Speed(mph)','Crossing_num', 'Junction_num', 'Railway_num',\n",
        "              'Roundabout_num','Stop_num','Traffic_Calming_num', 'Traffic_Signal_num',\n",
        "              'Weather_Condition_OHE','City_OHE','State_OHE','Sunrise_Sunset_OHE','Wind_Direction_OHE']"
      ],
      "metadata": {
        "id": "0Ya5tV_N7Wz8"
      },
      "execution_count": 19,
      "outputs": []
    },
    {
      "cell_type": "code",
      "source": [
        "assembler = VectorAssembler(inputCols=atributos, outputCol = 'Caracteristicas')\n",
        "df_vec = assembler.transform(Transf_muestra)\n",
        "df_vec.select('Caracteristicas','Severity_index').show(5,truncate = False)"
      ],
      "metadata": {
        "colab": {
          "base_uri": "https://localhost:8080/"
        },
        "id": "o-PbBSmym4J8",
        "outputId": "2e9786b3-9888-427b-ea42-0c5a73c4c4d3"
      },
      "execution_count": 20,
      "outputs": [
        {
          "output_type": "stream",
          "name": "stdout",
          "text": [
            "+--------------------------------------------------------------------------------------+--------------+\n",
            "|Caracteristicas                                                                       |Severity_index|\n",
            "+--------------------------------------------------------------------------------------+--------------+\n",
            "|(7908,[1,2,3,4,13,131,7836,7884,7888],[89.0,36.0,10.0,17.0,1.0,1.0,1.0,1.0,1.0])      |0.0           |\n",
            "|(7908,[1,2,3,4,13,234,7836,7884,7896],[65.0,33.0,10.0,9.0,1.0,1.0,1.0,1.0,1.0])       |0.0           |\n",
            "|(7908,[1,2,3,4,9,13,2686,7841,7884,7899],[73.0,21.0,10.0,9.0,1.0,1.0,1.0,1.0,1.0,1.0])|0.0           |\n",
            "|(7908,[1,2,3,6,13,1396,7842,7885],[41.0,87.0,10.0,1.0,1.0,1.0,1.0,1.0])               |0.0           |\n",
            "|(7908,[1,2,3,4,13,387,7836,7884,7906],[94.0,28.0,10.0,5.0,1.0,1.0,1.0,1.0,1.0])       |0.0           |\n",
            "+--------------------------------------------------------------------------------------+--------------+\n",
            "only showing top 5 rows\n",
            "\n"
          ]
        }
      ]
    },
    {
      "cell_type": "code",
      "source": [
        "# Aplicar StandardScaler\n",
        "scaler = StandardScaler(inputCol=\"Caracteristicas\", outputCol=\"Caracteristicas_scale\", withStd=True, withMean=True)\n",
        "scaler_model = scaler.fit(df_vec)\n",
        "df_scaled = scaler_model.transform(df_vec)"
      ],
      "metadata": {
        "id": "vVS6yqRlO21R"
      },
      "execution_count": 37,
      "outputs": []
    },
    {
      "cell_type": "code",
      "source": [
        "df_scaled.select('Caracteristicas_scale','Severity_index').show(5,truncate = True)"
      ],
      "metadata": {
        "colab": {
          "base_uri": "https://localhost:8080/"
        },
        "id": "72uDjejWPHkA",
        "outputId": "4f1b8412-3b9e-48f7-f355-d7bdd84375e1"
      },
      "execution_count": 40,
      "outputs": [
        {
          "output_type": "stream",
          "name": "stdout",
          "text": [
            "+---------------------+--------------+\n",
            "|Caracteristicas_scale|Severity_index|\n",
            "+---------------------+--------------+\n",
            "| [-0.3712080739226...|           0.0|\n",
            "| [-0.3712080739226...|           0.0|\n",
            "| [-0.3712080739226...|           0.0|\n",
            "| [-0.3712080739226...|           0.0|\n",
            "| [-0.3712080739226...|           0.0|\n",
            "+---------------------+--------------+\n",
            "only showing top 5 rows\n",
            "\n"
          ]
        }
      ]
    },
    {
      "cell_type": "markdown",
      "source": [
        "# Creando conjuntos de datos"
      ],
      "metadata": {
        "id": "sGFg6ohTCf-5"
      }
    },
    {
      "cell_type": "code",
      "source": [
        "#spark.conf.set(\"spark.sql.shuffle.partitions\", \"200\")\n",
        "train, test = df_scaled.randomSplit([0.8,0.2], seed = 10)\n",
        "\n",
        "train_size = train.count()\n",
        "test_size = test.count()\n",
        "total_size = train_size + test_size\n",
        "\n",
        "train_pct = (train_size / total_size) * 100\n",
        "test_pct = (test_size / total_size) * 100\n",
        "\n",
        "print(f\"\"\"Existen {train_size} instancias en el conjunto train ({train_pct:.2f}%),\n",
        "y {test_size} en el conjunto test ({test_pct:.2f}%).\"\"\")"
      ],
      "metadata": {
        "colab": {
          "base_uri": "https://localhost:8080/"
        },
        "id": "VSgGyGFgCk9M",
        "outputId": "19343fe3-f266-4b31-cb23-d6d32dfe5056"
      },
      "execution_count": 41,
      "outputs": [
        {
          "output_type": "stream",
          "name": "stderr",
          "text": []
        },
        {
          "output_type": "stream",
          "name": "stdout",
          "text": [
            "Existen 118446 instancias en el conjunto train (80.03%),\n",
            "y 29554 en el conjunto test (19.97%).\n"
          ]
        },
        {
          "output_type": "stream",
          "name": "stderr",
          "text": [
            "\r[Stage 18863:======>                                                (1 + 7) / 8]\r\r                                                                                \r"
          ]
        }
      ]
    },
    {
      "cell_type": "code",
      "source": [
        "lr = LinearRegression(featuresCol='Caracteristicas_scale', labelCol='Severity_Index', maxIter=50, regParam=0.01, elasticNetParam=0.2)\n",
        "lr_model = lr.fit(train)\n",
        "y_pred = lr_model.transform(test)\n",
        "y_pred.select('Caracteristicas_scale','Severity_Index','prediction').show(truncate = True)"
      ],
      "metadata": {
        "id": "GN9E6EYYoHLO",
        "colab": {
          "base_uri": "https://localhost:8080/"
        },
        "outputId": "fc6fa914-cd3b-4468-fa69-bd570c38987b"
      },
      "execution_count": 54,
      "outputs": [
        {
          "output_type": "stream",
          "name": "stderr",
          "text": []
        },
        {
          "output_type": "stream",
          "name": "stdout",
          "text": [
            "+---------------------+--------------+-------------------+\n",
            "|Caracteristicas_scale|Severity_Index|         prediction|\n",
            "+---------------------+--------------+-------------------+\n",
            "| [-0.3712080739226...|           0.0| 1.5758581773217535|\n",
            "| [-0.3712080739226...|           0.0| 1.6189071070736651|\n",
            "| [-0.3712080739226...|           0.0| 1.5103725703454818|\n",
            "| [-0.3712080739226...|           0.0|  1.264633881570988|\n",
            "| [-0.3712080739226...|           1.0| 1.5400269207807868|\n",
            "| [-0.3712080739226...|           0.0| 1.5146740715418239|\n",
            "| [2.69388872035048...|           0.0|0.37392410280165356|\n",
            "| [-0.3712080739226...|           0.0|0.22365273243708006|\n",
            "| [-0.3712080739226...|           0.0|  1.567171472827566|\n",
            "| [2.69388872035048...|           0.0| 0.5601719134317715|\n",
            "| [-0.3712080739226...|           1.0|  0.680741887451435|\n",
            "| [-0.3712080739226...|           1.0|  0.933916661718215|\n",
            "| [-0.3712080739226...|           1.0| 0.5890673574470703|\n",
            "| [-0.3712080739226...|           1.0| 0.5459688127761118|\n",
            "| [-0.3712080739226...|           1.0| 0.5691720827316271|\n",
            "| [-0.3712080739226...|           1.0|  1.457692241079069|\n",
            "| [2.69388872035048...|           0.0| 0.6171932945210595|\n",
            "| [-0.3712080739226...|           1.0| 0.8399962929426086|\n",
            "| [-0.3712080739226...|           0.0|0.19010604102090656|\n",
            "| [-0.3712080739226...|           0.0| 1.4674146944904334|\n",
            "+---------------------+--------------+-------------------+\n",
            "only showing top 20 rows\n",
            "\n"
          ]
        }
      ]
    },
    {
      "cell_type": "code",
      "source": [
        "print (\"The coefficient of the model is : \", lr_model.coefficients)\n",
        "print (\"The Intercept of the model is : \", lr_model.intercept)"
      ],
      "metadata": {
        "colab": {
          "base_uri": "https://localhost:8080/"
        },
        "id": "rHZ-ACWLoNww",
        "outputId": "368bacfe-477a-4e51-a1e8-572556512d35"
      },
      "execution_count": 55,
      "outputs": [
        {
          "output_type": "stream",
          "name": "stdout",
          "text": [
            "The coefficient of the model is :  (7908,[1,2,3,4,5,6,11,12,13,14,15,16,17,18,19,20,21,22,23,24,25,26,28,30,31,32,33,34,35,36,37,38,39,40,41,42,43,44,45,46,47,48,49,50,51,52,53,55,56,57,58,60,61,62,63,64,65,66,67,68,69,70,71,73,75,76,77,78,79,80,81,82,83,84,85,86,87,89,91,92,94,96,97,98,99,100,101,102,104,106,111,112,113,114,115,117,119,121,122,127,129,130,131,132,133,134,135,137,138,139,140,141,142,143,144,146,148,151,152,155,156,161,164,167,169,173,174,175,176,177,178,179,180,181,182,185,186,187,189,190,191,192,193,195,197,198,200,201,202,203,204,205,210,211,212,214,215,218,219,221,224,225,226,228,231,232,233,234,235,237,238,239,240,241,242,244,245,246,247,248,251,254,258,261,262,265,267,268,269,272,273,274,277,278,279,280,281,282,284,285,287,288,289,291,292,293,294,295,299,300,301,302,303,306,307,310,312,313,314,317,318,319,324,325,326,327,329,330,331,332,335,337,340,341,342,343,345,346,347,348,350,351,352,354,355,359,363,365,366,367,369,371,372,374,375,376,378,379,380,383,387,388,389,395,397,398,399,401,402,404,407,409,411,414,415,416,417,421,422,427,429,433,434,435,438,440,441,442,443,444,445,450,451,452,455,456,458,459,460,463,465,466,467,470,472,475,479,480,481,483,488,489,490,492,493,494,495,496,498,504,506,509,512,513,520,523,526,528,529,530,531,534,535,540,542,543,544,545,547,549,550,552,553,555,557,558,559,560,562,563,565,566,568,570,571,572,573,574,576,577,578,580,581,583,584,587,588,589,590,591,596,600,604,605,606,607,608,610,615,617,621,624,626,627,628,629,630,634,636,637,638,639,640,641,645,648,649,657,659,660,666,667,670,671,672,674,677,678,679,680,681,683,684,687,689,692,695,699,700,701,702,704,707,708,711,712,714,721,722,723,724,725,728,729,730,731,732,733,735,736,737,739,741,742,743,744,745,749,750,752,753,754,757,758,760,761,762,763,765,767,769,771,772,773,774,775,781,785,787,789,790,792,794,795,796,799,800,803,804,807,811,814,817,818,823,824,825,826,828,830,831,837,840,845,846,848,851,853,854,856,859,860,861,862,863,864,869,870,871,873,874,875,877,879,882,886,888,891,892,893,895,897,898,899,901,902,903,905,906,909,910,912,914,915,916,917,918,921,923,924,925,927,929,930,931,932,933,934,935,937,941,943,944,946,948,951,952,957,958,959,962,963,966,967,969,970,973,976,978,979,980,981,986,989,992,993,995,996,1000,1003,1004,1005,1006,1008,1009,1011,1012,1023,1028,1030,1034,1037,1038,1040,1045,1046,1052,1053,1054,1055,1057,1059,1063,1067,1068,1069,1071,1072,1075,1076,1078,1080,1084,1088,1091,1092,1093,1094,1095,1096,1097,1098,1099,1100,1103,1105,1108,1109,1110,1115,1119,1122,1123,1125,1126,1127,1134,1137,1141,1144,1145,1147,1148,1151,1154,1155,1156,1157,1158,1161,1162,1163,1166,1167,1171,1174,1175,1176,1177,1178,1179,1180,1181,1187,1189,1190,1192,1196,1197,1200,1202,1203,1207,1208,1212,1213,1215,1216,1217,1220,1225,1228,1230,1234,1235,1237,1241,1242,1243,1250,1253,1256,1262,1263,1265,1266,1270,1272,1279,1281,1283,1284,1286,1287,1288,1289,1291,1296,1298,1301,1307,1314,1315,1316,1317,1318,1324,1325,1326,1327,1332,1336,1337,1340,1341,1342,1343,1344,1346,1347,1348,1349,1352,1356,1357,1361,1363,1366,1370,1371,1376,1379,1381,1384,1385,1386,1392,1393,1399,1401,1404,1408,1410,1412,1415,1416,1418,1419,1423,1424,1425,1426,1427,1428,1429,1430,1431,1432,1434,1436,1437,1442,1443,1445,1448,1449,1451,1459,1461,1462,1464,1466,1469,1470,1471,1472,1473,1475,1480,1482,1483,1485,1487,1488,1490,1491,1492,1493,1496,1497,1498,1502,1506,1508,1511,1512,1514,1520,1521,1524,1527,1530,1533,1540,1546,1549,1552,1554,1555,1556,1557,1558,1559,1562,1565,1566,1568,1570,1572,1575,1579,1584,1586,1592,1598,1605,1606,1607,1610,1612,1613,1618,1625,1632,1633,1634,1638,1642,1644,1646,1647,1648,1649,1652,1654,1658,1660,1663,1664,1669,1674,1682,1684,1687,1691,1692,1693,1694,1695,1698,1699,1700,1704,1709,1714,1715,1719,1722,1723,1736,1737,1743,1744,1745,1755,1756,1757,1759,1760,1762,1769,1772,1773,1774,1777,1784,1786,1788,1793,1794,1795,1797,1798,1799,1807,1810,1811,1813,1818,1821,1823,1827,1828,1829,1830,1833,1834,1835,1836,1837,1839,1842,1846,1848,1853,1857,1860,1861,1862,1866,1867,1868,1876,1879,1880,1882,1883,1885,1887,1889,1890,1891,1897,1898,1903,1907,1908,1909,1910,1911,1913,1914,1916,1917,1918,1921,1922,1925,1926,1928,1931,1932,1933,1937,1943,1945,1946,1947,1949,1950,1951,1954,1956,1958,1959,1962,1963,1965,1966,1967,1968,1969,1970,1976,1978,1979,1985,1986,1990,1991,1992,1993,1995,1996,2003,2005,2008,2012,2019,2020,2021,2022,2026,2027,2028,2031,2032,2039,2040,2041,2044,2048,2049,2051,2055,2056,2058,2059,2061,2064,2066,2069,2070,2071,2073,2074,2077,2079,2082,2085,2086,2087,2088,2091,2092,2098,2099,2102,2103,2105,2106,2107,2110,2111,2112,2114,2115,2116,2117,2118,2122,2125,2131,2134,2140,2142,2146,2151,2152,2153,2161,2162,2163,2167,2168,2172,2173,2174,2175,2180,2183,2184,2185,2186,2187,2188,2191,2195,2197,2201,2208,2212,2213,2219,2220,2221,2224,2229,2230,2231,2234,2236,2237,2239,2241,2246,2247,2253,2257,2261,2263,2265,2270,2273,2275,2276,2278,2282,2283,2290,2291,2293,2294,2295,2296,2302,2304,2311,2313,2314,2318,2319,2320,2321,2322,2324,2325,2327,2328,2333,2336,2337,2339,2341,2345,2349,2352,2353,2355,2357,2361,2363,2364,2365,2366,2368,2372,2375,2377,2381,2386,2387,2389,2390,2392,2397,2398,2399,2400,2401,2402,2403,2407,2414,2416,2417,2419,2420,2423,2425,2426,2428,2432,2433,2434,2438,2440,2442,2446,2447,2450,2458,2459,2462,2465,2467,2469,2470,2471,2473,2474,2475,2476,2477,2482,2483,2485,2487,2489,2491,2492,2493,2498,2499,2500,2501,2505,2508,2510,2511,2513,2514,2517,2518,2520,2521,2522,2524,2527,2530,2533,2536,2538,2539,2540,2542,2543,2545,2548,2549,2551,2552,2553,2554,2555,2559,2561,2563,2571,2572,2574,2575,2578,2582,2583,2584,2586,2590,2596,2597,2607,2609,2611,2612,2617,2619,2624,2625,2627,2628,2629,2633,2634,2636,2637,2639,2641,2644,2645,2646,2647,2652,2654,2657,2658,2660,2662,2665,2666,2669,2670,2671,2674,2675,2676,2678,2681,2683,2684,2685,2687,2688,2689,2690,2691,2692,2693,2695,2696,2698,2701,2702,2707,2708,2709,2712,2713,2714,2715,2719,2721,2722,2723,2725,2726,2727,2728,2729,2730,2731,2732,2733,2734,2739,2740,2742,2747,2748,2751,2752,2755,2756,2757,2760,2761,2763,2764,2766,2767,2770,2772,2773,2774,2776,2777,2778,2782,2784,2785,2787,2789,2790,2792,2794,2796,2797,2799,2802,2807,2809,2811,2814,2815,2816,2817,2824,2825,2827,2828,2830,2831,2832,2834,2836,2838,2839,2840,2841,2844,2847,2849,2850,2864,2865,2866,2867,2870,2871,2874,2876,2877,2881,2886,2887,2890,2891,2892,2897,2900,2902,2903,2908,2909,2914,2916,2919,2922,2923,2924,2928,2934,2936,2939,2940,2942,2944,2945,2948,2949,2951,2955,2956,2957,2959,2960,2961,2962,2964,2965,2968,2969,2970,2971,2972,2973,2974,2975,2978,2979,2981,2982,2983,2984,2985,2996,3002,3005,3006,3008,3010,3014,3017,3020,3024,3025,3026,3031,3032,3033,3036,3041,3045,3047,3050,3051,3052,3053,3055,3056,3058,3059,3060,3061,3063,3065,3071,3073,3074,3089,3090,3092,3097,3100,3101,3104,3111,3113,3115,3117,3120,3123,3124,3125,3127,3128,3132,3135,3136,3138,3146,3147,3148,3149,3151,3153,3156,3157,3158,3164,3167,3169,3170,3176,3178,3188,3189,3192,3197,3200,3201,3202,3203,3204,3209,3212,3215,3216,3217,3218,3219,3220,3222,3225,3228,3229,3230,3232,3237,3238,3244,3245,3246,3250,3251,3253,3254,3255,3256,3257,3258,3260,3264,3267,3268,3277,3278,3281,3282,3287,3289,3293,3295,3301,3302,3303,3305,3311,3315,3318,3319,3323,3327,3328,3329,3330,3331,3333,3336,3339,3344,3345,3347,3349,3351,3357,3358,3359,3361,3362,3363,3365,3367,3368,3369,3370,3371,3372,3373,3374,3377,3378,3379,3382,3383,3384,3386,3387,3388,3389,3391,3392,3394,3398,3400,3402,3403,3410,3415,3416,3417,3418,3419,3423,3425,3426,3429,3436,3438,3439,3442,3443,3444,3445,3446,3449,3452,3453,3455,3458,3463,3464,3465,3466,3467,3469,3471,3472,3473,3474,3475,3477,3479,3484,3485,3486,3488,3490,3492,3493,3496,3504,3505,3507,3510,3513,3515,3518,3520,3522,3524,3525,3529,3535,3536,3537,3538,3539,3540,3543,3544,3545,3548,3550,3552,3554,3556,3557,3558,3561,3563,3568,3569,3570,3573,3577,3578,3580,3581,3582,3583,3585,3588,3590,3593,3595,3597,3598,3603,3604,3605,3606,3612,3616,3617,3618,3619,3623,3627,3628,3630,3631,3632,3634,3636,3637,3639,3640,3644,3645,3646,3647,3649,3650,3654,3657,3659,3660,3664,3666,3668,3673,3674,3675,3676,3678,3681,3686,3688,3689,3690,3693,3694,3695,3696,3697,3701,3702,3703,3705,3709,3710,3711,3713,3718,3720,3722,3725,3726,3727,3730,3732,3734,3741,3744,3746,3747,3752,3753,3754,3757,3758,3759,3761,3762,3763,3765,3766,3767,3768,3771,3773,3774,3777,3784,3790,3791,3792,3796,3799,3801,3802,3807,3809,3810,3811,3812,3818,3821,3825,3827,3832,3833,3835,3838,3840,3841,3846,3848,3850,3852,3853,3856,3857,3858,3859,3860,3861,3862,3865,3868,3869,3870,3871,3876,3878,3879,3886,3890,3892,3895,3896,3897,3898,3899,3900,3906,3907,3908,3910,3918,3920,3921,3924,3925,3926,3927,3928,3930,3931,3932,3933,3936,3937,3942,3943,3946,3950,3951,3953,3955,3956,3959,3960,3962,3964,3965,3966,3969,3970,3972,3973,3975,3978,3986,3987,3993,3995,3997,4001,4003,4008,4013,4014,4015,4019,4020,4022,4023,4024,4025,4026,4028,4030,4034,4037,4041,4042,4044,4049,4052,4053,4056,4058,4059,4060,4061,4062,4065,4066,4068,4070,4078,4079,4082,4084,4085,4089,4095,4098,4099,4100,4102,4103,4104,4106,4108,4110,4113,4121,4122,4124,4127,4128,4130,4134,4135,4136,4138,4140,4141,4144,4147,4149,4150,4156,4158,4160,4161,4163,4164,4169,4175,4176,4181,4183,4185,4186,4188,4195,4198,4203,4205,4206,4207,4209,4211,4214,4215,4216,4217,4218,4219,4221,4223,4224,4230,4236,4241,4242,4244,4245,4246,4248,4249,4252,4257,4261,4262,4263,4264,4266,4269,4270,4274,4277,4280,4281,4282,4284,4285,4286,4288,4293,4296,4297,4298,4300,4301,4302,4304,4306,4308,4309,4313,4317,4321,4322,4323,4325,4326,4330,4331,4333,4335,4343,4344,4345,4346,4347,4351,4352,4353,4357,4358,4359,4361,4364,4365,4367,4370,4371,4373,4376,4377,4381,4382,4383,4385,4386,4388,4390,4392,4395,4396,4397,4398,4400,4403,4406,4407,4409,4414,4420,4421,4422,4423,4424,4426,4427,4428,4432,4434,4436,4437,4440,4441,4442,4443,4444,4447,4448,4450,4451,4454,4456,4457,4458,4462,4464,4466,4470,4476,4477,4479,4481,4482,4483,4484,4489,4491,4492,4493,4494,4500,4501,4502,4506,4509,4512,4519,4529,4530,4532,4538,4541,4542,4549,4551,4554,4556,4557,4558,4559,4560,4561,4564,4565,4569,4570,4572,4575,4577,4578,4579,4580,4581,4582,4584,4585,4587,4588,4591,4594,4597,4602,4604,4605,4608,4610,4612,4613,4617,4619,4624,4626,4632,4633,4638,4644,4650,4651,4653,4654,4655,4660,4662,4663,4664,4665,4666,4670,4671,4672,4674,4676,4678,4685,4686,4687,4689,4690,4693,4694,4697,4698,4699,4707,4708,4709,4710,4712,4714,4716,4719,4721,4723,4725,4726,4727,4729,4730,4733,4736,4737,4738,4739,4743,4744,4746,4747,4750,4751,4754,4755,4757,4758,4761,4762,4763,4764,4766,4767,4772,4775,4777,4779,4782,4785,4786,4787,4788,4795,4796,4797,4799,4800,4802,4804,4805,4808,4809,4811,4812,4814,4815,4816,4817,4818,4821,4824,4825,4829,4832,4834,4839,4841,4845,4847,4850,4853,4854,4856,4857,4864,4865,4869,4870,4874,4875,4876,4877,4879,4885,4887,4893,4894,4895,4896,4898,4900,4903,4909,4910,4911,4913,4914,4915,4919,4920,4922,4923,4925,4927,4929,4931,4934,4935,4940,4944,4946,4951,4953,4955,4957,4961,4965,4972,4973,4974,4975,4976,4977,4978,4980,4981,4982,4984,4988,4991,4992,4993,4994,4996,4997,4999,5000,5006,5008,5009,5010,5011,5013,5014,5015,5016,5017,5018,5020,5021,5022,5024,5026,5028,5029,5033,5034,5037,5038,5039,5040,5041,5042,5044,5045,5048,5051,5059,5060,5064,5065,5068,5070,5074,5075,5076,5077,5079,5081,5086,5090,5091,5093,5094,5095,5098,5099,5110,5111,5114,5116,5117,5118,5120,5122,5123,5125,5126,5129,5130,5131,5136,5141,5142,5143,5145,5146,5147,5148,5150,5153,5157,5164,5172,5173,5175,5176,5177,5178,5184,5186,5192,5195,5196,5199,5200,5207,5209,5210,5213,5216,5222,5227,5228,5229,5230,5232,5233,5235,5239,5240,5243,5246,5249,5251,5253,5255,5260,5264,5266,5267,5268,5269,5270,5276,5279,5284,5285,5286,5289,5293,5294,5296,5298,5300,5303,5309,5317,5318,5319,5325,5327,5328,5329,5330,5332,5334,5335,5336,5337,5339,5340,5343,5347,5348,5349,5354,5355,5358,5360,5367,5368,5371,5372,5374,5375,5377,5378,5382,5387,5388,5390,5392,5394,5395,5397,5398,5401,5403,5408,5409,5411,5414,5415,5416,5418,5420,5423,5429,5430,5431,5432,5433,5434,5436,5437,5438,5439,5441,5442,5447,5448,5451,5455,5456,5457,5460,5461,5464,5471,5473,5476,5479,5480,5481,5482,5483,5484,5488,5493,5494,5495,5496,5501,5502,5509,5513,5514,5515,5525,5526,5529,5530,5532,5533,5535,5537,5538,5539,5540,5545,5546,5547,5548,5550,5553,5554,5557,5559,5560,5561,5563,5564,5565,5566,5567,5569,5570,5571,5572,5573,5576,5577,5578,5580,5581,5582,5583,5585,5588,5593,5595,5596,5602,5603,5604,5605,5607,5608,5609,5611,5613,5617,5618,5619,5624,5625,5626,5628,5631,5634,5637,5640,5644,5645,5649,5653,5656,5657,5661,5663,5668,5670,5672,5674,5675,5677,5680,5681,5684,5685,5686,5688,5689,5690,5691,5699,5704,5709,5710,5716,5717,5720,5721,5722,5723,5727,5733,5734,5735,5737,5742,5743,5745,5747,5750,5751,5753,5754,5762,5763,5764,5765,5766,5768,5769,5771,5772,5773,5776,5777,5778,5783,5784,5792,5793,5797,5799,5802,5803,5804,5805,5806,5807,5808,5811,5812,5817,5820,5821,5822,5824,5827,5829,5831,5832,5834,5835,5840,5842,5846,5848,5850,5851,5852,5855,5857,5859,5862,5864,5865,5867,5872,5875,5878,5880,5881,5882,5883,5888,5890,5891,5893,5895,5897,5900,5902,5903,5907,5908,5917,5920,5923,5924,5927,5928,5930,5935,5936,5939,5941,5943,5944,5945,5946,5947,5954,5955,5963,5965,5966,5969,5970,5971,5973,5974,5975,5976,5979,5980,5983,5992,5993,5994,5995,5999,6001,6003,6005,6008,6010,6014,6015,6021,6023,6024,6027,6029,6031,6032,6035,6042,6044,6045,6046,6054,6058,6061,6062,6064,6065,6069,6070,6073,6074,6076,6077,6078,6079,6081,6084,6086,6089,6092,6094,6097,6104,6105,6107,6108,6111,6112,6115,6116,6117,6121,6122,6125,6128,6132,6138,6140,6143,6146,6147,6153,6154,6156,6160,6162,6164,6165,6166,6171,6174,6176,6179,6180,6181,6182,6184,6191,6192,6193,6196,6198,6201,6203,6205,6206,6210,6219,6222,6223,6227,6229,6230,6231,6234,6236,6238,6241,6242,6243,6245,6246,6248,6252,6254,6255,6261,6263,6265,6267,6268,6276,6277,6279,6283,6288,6294,6295,6296,6297,6299,6307,6309,6311,6312,6315,6316,6320,6321,6323,6326,6327,6329,6335,6338,6339,6341,6342,6345,6346,6351,6361,6363,6364,6376,6378,6379,6380,6381,6384,6385,6386,6387,6389,6398,6401,6402,6406,6407,6409,6417,6418,6419,6424,6428,6434,6437,6441,6446,6447,6448,6449,6450,6451,6456,6460,6461,6462,6465,6466,6467,6468,6474,6477,6480,6484,6486,6492,6494,6496,6507,6509,6510,6512,6515,6524,6526,6528,6532,6536,6537,6539,6548,6549,6551,6554,6555,6556,6563,6564,6565,6572,6576,6577,6579,6585,6594,6597,6605,6609,6613,6615,6616,6617,6619,6621,6622,6623,6624,6633,6634,6637,6639,6642,6643,6651,6654,6660,6661,6663,6666,6667,6668,6672,6675,6679,6681,6683,6685,6687,6691,6695,6696,6697,6701,6702,6706,6709,6711,6712,6716,6717,6722,6723,6730,6737,6744,6748,6750,6758,6759,6765,6771,6774,6778,6779,6780,6781,6782,6783,6792,6796,6797,6798,6800,6802,6805,6807,6810,6812,6813,6814,6815,6816,6817,6821,6822,6827,6829,6830,6832,6836,6839,6841,6843,6844,6845,6849,6857,6859,6865,6867,6872,6873,6875,6878,6879,6882,6885,6886,6890,6893,6898,6899,6900,6901,6902,6903,6906,6910,6911,6913,6914,6915,6916,6926,6928,6932,6935,6937,6940,6945,6946,6948,6954,6959,6960,6963,6965,6967,6968,6969,6970,6976,6978,6982,6985,6986,6987,6989,6990,6991,6993,6994,6998,7007,7009,7014,7015,7016,7018,7019,7022,7023,7034,7036,7044,7047,7048,7051,7053,7054,7061,7062,7065,7066,7067,7069,7072,7074,7075,7078,7079,7085,7089,7090,7091,7094,7095,7100,7101,7103,7105,7106,7111,7112,7114,7115,7117,7120,7123,7127,7129,7131,7133,7135,7136,7138,7139,7140,7145,7148,7151,7152,7155,7157,7158,7159,7160,7161,7167,7168,7169,7171,7172,7173,7178,7181,7184,7185,7186,7188,7192,7195,7196,7203,7207,7210,7215,7216,7224,7230,7233,7236,7239,7242,7247,7250,7254,7255,7257,7260,7262,7263,7269,7273,7276,7277,7281,7283,7284,7291,7292,7294,7295,7296,7300,7303,7307,7312,7313,7314,7315,7316,7318,7319,7322,7324,7330,7333,7336,7337,7338,7339,7341,7343,7345,7349,7351,7354,7357,7358,7359,7362,7363,7365,7370,7373,7376,7380,7381,7385,7388,7390,7391,7393,7394,7395,7396,7399,7401,7402,7403,7405,7408,7409,7411,7414,7417,7418,7423,7426,7427,7429,7431,7435,7437,7445,7447,7452,7453,7456,7458,7461,7462,7463,7466,7467,7468,7470,7471,7473,7476,7483,7484,7485,7492,7493,7496,7499,7502,7503,7504,7505,7506,7508,7509,7512,7513,7515,7516,7518,7519,7522,7523,7527,7528,7530,7531,7532,7539,7540,7545,7548,7549,7550,7551,7556,7558,7559,7561,7562,7564,7575,7578,7580,7583,7585,7589,7593,7594,7595,7597,7602,7609,7610,7617,7621,7622,7623,7629,7630,7631,7632,7636,7639,7640,7644,7649,7651,7653,7655,7656,7660,7664,7667,7668,7669,7672,7673,7677,7681,7687,7690,7691,7692,7693,7694,7695,7696,7703,7705,7707,7708,7714,7717,7721,7723,7724,7734,7743,7744,7746,7752,7757,7767,7771,7778,7783,7787,7789,7793,7794,7795,7797,7799,7802,7807,7811,7816,7820,7823,7825,7826,7829,7831,7832,7833,7834,7835,7836,7837,7838,7839,7840,7841,7842,7843,7844,7845,7846,7847,7848,7849,7851,7852,7854,7855,7856,7858,7859,7860,7861,7862,7864,7865,7866,7867,7870,7872,7873,7874,7875,7876,7878,7880,7881,7884,7887,7890,7892,7893,7894,7895,7896,7897,7898,7900,7901,7904,7905,7907],[0.10851782050953666,0.03744093392190535,0.03734035595307867,-0.005779694089483132,-0.0024010262547859615,0.016721074070857378,0.025063205668093277,0.2119187680571926,0.2134667677098852,0.2112892990997901,0.20949657728077384,0.20851345593768417,0.09260469971549401,0.1027303422521723,0.11817850490903116,0.08767458266077853,0.09308516735042313,0.08265991454970405,0.0031171869024712263,0.005197345574498204,0.02409945160542087,0.00416221855940077,-0.00539164094831155,0.028891392304211658,-0.002896241397557812,-0.007566910464303889,-0.05237684442838649,-0.030800454327422937,-0.04860859368585337,-0.03992213059637982,-0.04680158124849633,-0.027963840188880425,-0.058899751198938526,-0.044799519502358796,-0.03096764498585859,-0.047522828664365815,-0.051671597715251524,-0.0516429870932242,-0.04293509256399729,-0.0547090840174849,-0.062482594075146926,-0.0315177622835316,-0.0304361674381053,-0.007427297534464097,-0.023494058166514876,-0.01745466701407546,-0.012694615780536479,-0.011390752326637225,-0.024837216095996567,-0.018125948777716252,-0.027418460175629728,0.007405439344354146,0.0036749509431714946,-0.015603483200092527,0.016700282422716692,0.001953506287655575,-0.004362236037968076,0.02291816935139398,-0.0005767274931081479,-0.019668108004997308,-0.005071644138466944,-0.0016184065084006575,-0.002288471778361766,0.0034447643671792756,-0.0011915717285074369,-0.016433348044716772,-0.011703700230208065,0.004554148563321551,0.013109640193451259,0.006065877547301732,0.004426833051478007,-0.004127746437493112,0.007472056016730182,-0.008597080995718386,-0.00617153956288276,-0.007960541077929541,0.007750047561942,-0.0009599639505770658,-0.008459018283963296,-0.0036951718929012947,0.0021377713519310382,0.016464815704545204,0.015084779821733061,-0.006094004259132928,-0.009507813874257321,-0.014955005886745034,-0.0010221106554817885,0.0018117797158383737,0.011862743947015567,-0.00343293877862621,-0.01060834702697753,-0.006611339318584401,0.005651512989938995,0.005575776729981893,-0.0011390116599937414,0.009204155929647897,-0.0006184091675477902,-0.0062691170345205525,-0.000482333486254813,0.00554524660709552,-0.004574912246818053,-0.00012520319744082655,-0.00833797096565331,0.0036794732688687163,0.0029233754496205398,0.005882065139051597,-0.002662513309930078,0.008104532971826601,-0.002696096427558711,-0.002076277591048856,-0.0009342127020413297,0.0050627431404526285,-0.0037022858881212415,-0.006865140422359988,-0.010359986923625664,-0.008387028111521089,-0.003936139307725938,-0.007003503283135582,0.0006507886358379053,-0.004935969779547217,-0.004535591163652068,0.0014019705085887388,-0.007301385457148807,0.005060884212432603,-0.0010778955393760817,0.008244866053446657,0.0001867052573483258,-0.0026131911282164435,-0.009955487352198615,0.0055847008280319795,0.0016857512712424646,-0.0015403965132004434,-0.00016898583915693586,0.0009612012027565592,-0.0037731467182506888,-0.0016441204747139665,-0.003256422262460326,-0.005255472158169548,0.000536478138857858,-0.0005252336553391968,0.006717124179703424,0.001884207496011027,0.003948339198375372,0.0031031355887800164,0.005443734490542203,-0.005187138246180787,-0.0023742215537359895,-0.001108944827251441,-0.00021040569408244084,-0.00015488774437643336,-0.00010922558983875253,0.004829636634456392,-0.0023233571733166486,-0.004823058765683886,-0.0014486523134376364,0.003847601966541819,-0.0033062821993017828,-0.00030311436629449517,0.00041686064381832153,0.007304330063672133,0.0006776366822774858,-0.00015179847789499853,-0.007310534069646337,0.0010598129450729971,0.00020483446104730335,-0.0004934762821342137,-0.0061878836965614135,-0.0007319795231006212,0.0003141295830580761,0.0029695985593778266,0.0022325046059659295,0.0010967971816496142,0.0013910365279253662,0.000633794495949749,-0.0006686767607875532,0.000817660345273433,0.000438730092472187,0.005405167960350927,-0.008261575675198762,0.00016343416361361594,-0.00030023293332947116,-0.0004622042652923354,-0.001373348941170154,-0.00746112246466681,0.0016535300061460648,0.0005972482402276842,0.001971288792712938,0.0077854425724400355,-0.00016931356912478176,-0.006655400938722432,0.002023161349204398,-0.0005290608371381386,0.011805863595792929,0.001819990378842115,-0.00035094212056685877,-0.0014321464679809101,-0.004558777066524758,-0.001465579299751397,0.0002026847882101201,-0.0034113857268744125,-0.0015956240171398465,7.889501608941087e-05,-0.0012665932348452508,0.0008000621982111658,-0.0006090884551427353,0.001532286978786455,-0.0003380097318863751,-0.0020660326617995646,-0.002233397763183224,-0.0021911493533881814,0.0001691827135968966,0.004379188064845871,0.0018790755539404398,0.0021814361728310495,-0.004364471247077928,-0.006727250798413169,0.0006561278055533259,-0.0007289533763886974,0.0011762762478043176,-0.0001051782870173319,0.0005929459076202291,-0.0076308594500675625,1.919207241827928e-05,-0.0016552208138611402,-0.0006742899260838796,-0.001455874517391937,-0.004635411473941288,-0.009067779222254858,-0.0013770060501147945,0.0013462939625255336,0.001647682781180002,-0.000978048605060224,-0.0035160204970588493,0.00036111160113132485,0.0015108767750392316,0.002026216356695974,-0.0004624987400591239,-0.0070557590383205976,-7.626949785804525e-05,0.0019191569032733146,0.0011895304001596787,-0.0032487559589713445,0.0014134630435479207,-0.005147521851913338,0.002232441162943253,-0.0036972709660677925,0.00431743815014026,-0.0010924002853288724,-0.00016282161165553458,-0.0005068958747904426,-0.00018925241303743368,-0.0018725179222356997,0.0023478811343031042,-0.00534831493242938,-0.0005803191086869563,-0.0018173632134283796,0.0017216772811614951,-0.0019256709949646428,0.00247301012156415,-0.0004281146988811107,0.0008702604202436133,0.0008623051377553743,-9.779756151511785e-05,-0.003131885401777436,0.0006665146804473984,-0.002412788515921278,0.0018873815509388397,-0.0010914366108599647,-0.0007609409799083159,-0.0014120618653728416,-0.0018334946028500372,-0.00014082847582753573,-0.0019485756106356735,0.002198955391379682,0.0008069660350934655,-1.8920541529319212e-05,-0.002368821462283633,0.00450086648915655,0.00011989086073880692,-0.00016619974850043317,-0.0023330212179389193,0.0016082493855130275,0.0009449236556271403,-0.000820337685607579,-0.0016955211761439817,0.003235922738154369,-0.0009432178508557795,0.005273748496119411,-0.0013653747924634797,-0.004647761367448049,-0.003578872568260722,0.0075469115270766765,-0.0005171905234690856,0.0025691593496502594,0.0007200128911449663,-0.004191800936594198,-0.002493835463009434,0.0009693015608662184,-0.00176128852775902,0.005467257961779692,-0.0030923056882785713,-0.0007915669789884985,-0.005412685677280268,-0.0026173157091026566,0.006401285381476989,-0.0016697169916910033,-0.0009892475209418228,-0.002115510095383232,0.004255861712340398,0.0017376145349676181,-0.00042769341266315065,-0.007312534945374191,-0.0006017838953573056,0.0001843433264932177,0.001386968032444127,0.0018563495415792745,-0.0010064648986420413,0.001372292415656537,0.000682209811543435,0.0002654703840432033,0.002733739279272774,-0.0040936866692431965,0.0010865454255248276,0.00038349036631287354,-0.0011356450132984214,0.002251846443778361,0.004852958276919709,0.0019246996060752568,0.0009323276102909417,0.00010925265572547567,-0.00010924957150018692,-0.004098219298866945,-0.0008284745337734495,-0.0017463383468302874,-0.0019874775585353487,0.0006495686784490093,0.00022704112968446007,0.007108300822429769,0.0035069132989419115,-0.0005843544627368139,-0.006995249724682885,-0.0019537639530517793,-0.002618647787410823,-0.0006940098638391147,0.0028472075640009523,0.0011583805347691,0.0001872435746169122,-0.0029381650421343025,-0.003274790140495444,0.0005391992362491722,-0.004371856141487833,0.0003348252361921018,-0.0009497050535933481,-0.003068288971693988,-0.0029001436339980875,0.00036414099868789887,0.0008906650254309965,-0.0030325784175657426,-0.002744110610389303,0.0020935131463475816,0.0009148667830818821,0.0028658469995222324,-0.003377299390103808,-0.0028640106757658575,0.0015530781984122043,-0.0008507293257256805,-0.0032019156888370127,0.00029775162057712264,0.002009276107221109,-0.004576342825717015,0.0032559326723605336,-0.00035797978314385334,-0.00469231360710251,0.0008218635079031511,-0.002336204402660981,-0.004454282880091538,-0.003184906481669099,-0.0026744514194059505,-0.0005480067168774459,-0.008192963745713383,0.003878625663888374,-0.0018130737263150184,0.005622923932186973,-0.001044380452309633,0.00336094152771554,-0.0006764560492356403,-0.004897983217707041,-0.0010436799837317812,0.0035142693802655335,-0.0023072798509448937,-0.000481482248063109,0.0014836672042593988,-0.0034740591637529164,-0.0018452107412694236,-0.0011663162691298611,0.006455071302756118,-0.001519998676161958,-0.0005247654092301927,-0.003396043645878691,-0.002017615859078019,-0.006513032387348316,-0.0007447143729239482,0.0008678016673601012,-0.002407907775537934,-0.0005377147938512289,-0.004564662550310695,-0.0024091623136026407,-0.0008397612934454984,-0.0002459656652030588,-0.0032292900718167853,0.002903618818146749,0.005065213523541179,-0.0031502871045192733,-0.0011851745416641898,-0.00025386767828516996,-0.006080793687587818,-0.002332121867767,0.007192476323760049,-0.003082313935268474,0.0009119289308800761,-0.00047103525735138816,0.002750633319577296,0.0064997317817899,-0.004225520380885079,-0.0005198156191827719,0.000704521068244476,0.0019226824339391867,-0.0009365378835392948,0.0032201945141903613,0.0005044699280784328,-0.007649640252182676,-0.0006953708893297858,0.001858409683537121,0.0024089963262687673,0.0051020519023819485,0.0015387285956713467,-0.005471424393761133,-0.0005677416753722071,-0.0015328034908148,-0.0019466740910691676,0.003966133754317343,0.001631744385550227,-0.0009458925673614151,0.0004736997143347475,-0.0011992611038989854,-0.002368181824463542,-0.001497003172169397,0.0002027414232219501,-0.002033124440686111,0.0009556151523024372,0.0004020730554757194,0.0033346317466783314,-0.004097281133908011,0.00036392748466960735,-0.0036381780030224887,-0.0012285961149081034,-0.008040088510038776,0.0003366609699219433,-0.002061354144342985,-0.00012708847118232463,0.0072698963061533966,0.0022472805333722014,0.0011121498112640399,-0.000660865640658283,0.003970075156654366,0.00043730242546706987,0.001308679517075693,-0.00012015174483328703,-0.004894152633583247,-0.0029057949630885084,-0.003377302467205699,0.0007619364855113059,-0.0006704173944488843,-0.002001164891945957,0.0011139852758712432,0.004569187861061919,-0.00048379220959170237,-0.0014547967866886515,0.0006161647738372007,-0.0002495463227988358,4.671175829738394e-06,-0.0003940484822878336,0.0004839535061240536,-0.0010526359618023033,0.0007729595420752822,-0.005209470554154518,-0.0007387667921021989,0.0006287455589765174,0.003608399537394097,0.00044858596106761887,-0.0008368603152206123,0.0016792708239169293,-0.0018703852805480377,-0.0017670664828442748,0.0025052884486561765,-0.00033724886654216323,0.000309245598815612,0.0004067214509172521,-0.0007902622344870363,-0.0020504362527903964,0.0006555569156664929,0.0014864501232653001,-0.0007203885523441696,-0.0012799867260535334,0.00048362802368470356,0.0015513741895582592,-0.0045797954974958035,-0.0007293753836502431,-0.0025800487767403905,-0.0029496431393278154,-0.0030503006449827405,-0.003268728503355521,0.00102216920051569,0.007525154533077149,0.0019353930692894835,-0.0066000027997141575,-0.000907128240906165,-0.0011467799757924218,0.0027269263022387216,0.0017347009356999713,0.00186733468375797,0.0001479469083277522,-0.0013696135644748306,-0.003998839109311836,-0.0006150427813096674,0.0026445139428651217,-0.0014956687635952885,-7.50004239383122e-05,-0.0010196895930103048,0.0009284909735760051,-0.003625304658474939,3.1199065455359425e-05,-7.85281737961481e-05,-0.005091053891151938,-0.0024743758058063422,-0.0013621862545591555,-0.0015305874761757298,0.0005366998628884801,-0.00011360711723865708,0.0031919420896596275,0.0012265567000389337,0.004822334319960654,-0.0023353816947887626,-0.005475366692483925,-0.0012429705153997838,0.0027086519113077093,-0.0009235306919552961,0.003495544719104922,0.001374538913292094,-0.001445239272893672,0.00015179294577151206,0.002874674903622311,-0.003907897666223404,-0.0006096550080076179,0.0019738998906261994,0.005803529913601675,0.0008276148507422433,0.0021393118711647884,-0.0008165218974027036,-0.0028322680975506314,-0.0030821388850492803,-0.0006044000964083561,-0.0008901673989400284,0.003697086782656784,-0.0006183144361249209,-2.6664541987188224e-05,-0.0008171343755270768,0.002022893243486137,-0.002073666756418207,-0.00021845796624098333,-0.0009795654355523246,-0.0009304303623586159,-0.0030127971560224907,0.0006191390398271807,-0.0005671133190894097,0.00042047868676747753,-0.0012139660173799806,0.0032315055220254025,-0.003497196528418018,0.0030066667504735074,-0.0009158680219401464,0.0012788068853261804,0.005360819619780772,0.0003034689192958485,-0.0007875281781814327,0.0014755622590572226,0.0048829559467179024,0.0027229753106355606,-0.0010734082791433806,-9.751223846978897e-05,0.0015548222582247916,0.004137079567750176,0.0013223577532245592,0.00030682079928763,0.005598389899595974,0.001069650546199646,-0.005276036456918688,0.0006679925129287025,0.006152431115004301,0.005434264673047973,-0.00024144674579657405,0.0028902993042751735,-0.002175121585994263,0.0034866989331879803,0.000552646670768828,-0.0024580893769095063,-0.0005671863723680042,-0.0022533383664426043,0.00011900604963040985,-0.0016648353063227425,-0.000764048610428443,-0.001696320593394751,-0.002688788210070719,0.0006928718741919982,0.0010144149668496697,0.00481824692472517,0.00104710210590453,-0.004608724980970992,0.0011491825739600614,0.0009424388705569907,0.004967022066721825,-0.004547142232046604,-0.0011710666689199406,0.0029397302864637865,0.0011457413131468542,-0.0013454613652993054,0.002220454849200876,-0.005877128956514401,0.001663287515751253,-0.0007993472568965166,-0.005050751129666711,-0.0006281822131383888,-0.00010789778349822938,0.0033801252170761577,-0.002003043398036479,0.0005627793165682216,-6.61795371561911e-05,-0.003876904342550194,-0.003615466103954543,0.00017789508499475374,0.0016169789531307185,-0.0022448529101287843,-0.0010555414763571134,-0.0011562705428081416,0.004174494667538227,0.016054097300874513,0.004995794568586742,-0.0031179575380726712,0.0018207480404764948,-0.000438875661595739,-0.0033895056670145054,0.0030596573529702666,-0.0009037018861385897,0.0008377280802090275,-0.0014533486827086493,-0.0007455650768898804,-0.002662002809325248,-0.004287580986872404,-0.001704267027238965,0.000578798563256598,-0.0060785235282139125,0.0011296102522817854,-8.8275933569287e-05,-0.0002620552272617806,-0.0027382827040463072,0.0017757070832785384,-0.0007419719427117003,0.00026610729584444423,-0.0028458527535283377,-0.0013589492028180273,-0.002286320823882491,-0.0002308708853897975,0.002356006154723407,-0.0009382233244419959,0.002660689140046308,-0.0024598421463440058,0.0017808927629888887,0.0023799750586222935,-0.00011118732104783584,-0.0013882537610356129,0.0022885781117005337,-0.0008322185554761253,0.004073754241159163,-0.0008875558107556943,-0.0010259639800629724,-0.003246839348212328,-0.000800905826864105,-0.004502448411353195,-0.00029003869880885963,-0.0022808089898163986,-0.0034326476374666585,0.002390580373754959,-0.0036557978561227154,-0.0012034853765665397,-0.0037583645589587215,-0.004221297493357828,0.003592080019781411,0.0012952275168738368,-0.0019464006095712568,-0.00018109268158200982,0.002485800069580174,-0.00042788515647629164,-0.0028956835192263525,-0.0005312305805843599,0.0011932002551560854,0.00208520182675716,0.00026952954819420424,-0.0020406836383497625,3.550556017629776e-05,-0.0038906881271999452,0.0033484891341508346,0.003544689393259705,-0.006478615523326649,-0.0020545372330453664,0.00052103999608004,-0.000606957087834859,-0.0018116078669222612,-0.00039499225848104987,0.002735223123663012,0.00031310520319878456,-0.0001439660610348048,-0.0002904999452472328,-0.0016094079608058947,-0.0020080265462310864,0.0012876813010856399,0.0035259141626114393,0.002029058897365145,0.0024541519240592956,-0.00023926198078248656,-0.0022407761070626004,-0.003039257462145293,0.002554334483329948,-0.0032951698027468045,-0.0005714556652929153,-6.986687852416019e-06,0.0010236709618927804,-0.0005496708601744199,0.0010721490306496496,-0.00019619315297741627,0.00043414956142052774,0.005516089133400837,0.0011769955921961163,0.00032136128381750367,-0.000284308077662556,-0.000759175196845209,0.0016462131828626082,0.0003678220482645538,-0.0007740033981289844,0.000253654722268338,0.00037968656655093785,-0.0016296227758159747,-0.004343611177347482,-0.002602361426805876,-0.0002517327902178343,0.001269760657017387,0.004000684773391035,-0.0021282025580296533,-0.0040176035816751705,-0.0015169475139506505,0.0007565571099651298,-0.0010277163424786421,0.0024276784139090615,0.0022154758683442977,0.0005835518365560374,0.0014225763045758793,-0.0006281866504118848,0.0010488750026470626,-0.0006576461887378105,-0.0008838345443501776,-0.0006022548831158928,-0.0014336568341507705,-0.0022758232772294405,0.001293195279724441,0.0005983552564305822,-0.00027534067569803176,-0.0005273792551820566,0.000636028559379667,0.003284489645560883,-0.0031949308659175854,0.0016128195789104633,-0.001339222413581899,0.000415557146279723,0.003276555250119037,0.0015437853552025627,-1.671209951745185e-05,0.0007654746441492293,-8.659860120959342e-05,-0.001165006630161897,-0.0006511421544069208,-4.065118016878056e-06,-0.0002762369029419652,0.0030708265039226267,-0.0009219272987563834,0.003061926106695011,-0.0013735392161749443,0.00030047947389535463,-4.7942989766021905e-05,0.0015849972353471633,6.547217219573419e-06,-0.003143959851769663,-0.003107998533565709,-0.0011964305896219147,-0.0012009663211597758,0.0008723254690918861,3.1779811601474146e-05,-0.0009954863233387424,-0.0003323467532312526,0.0011463099222729217,-0.00140960004869301,0.0020402568131482456,-0.0021016380211291903,-0.0015169702433920594,-0.00014228113015885086,-0.0023423323095254915,0.00030453178197840214,0.002169870730007062,0.0011256435504556335,-0.0036266726483422363,-0.0005650956108457593,0.00029171627577575024,0.0007543483325719452,-0.0020950738483539602,-0.0016234812245057642,0.0010965005284812289,-0.0010232226665952255,-0.0018785019964506517,-0.004381294635904025,-0.003791611874843992,0.006123760388911309,-0.001841638001743341,0.001325978925482675,0.0009376905429985551,0.0015833983890038625,0.004180826079488616,0.0016906250468371616,-0.0008884777791258955,-0.001886990695381757,0.002841487687352807,-0.0014555504954988515,0.0009483494368132305,-0.00015109056118331628,-0.002967750175438594,0.0004702420777340928,-0.00019319650112244662,0.0010238641175728922,0.0023445636446168296,-0.0008894468942796564,0.0013997386369569026,-0.0019899170739644304,0.0012086773825373226,0.0011166162558807601,-7.749476138276086e-05,0.0027032560335171762,0.004732719915557639,0.004216601999411864,0.0005624419423826832,0.002415853760295005,-0.000991328442342199,0.002649928661957023,-0.0004177338072250447,0.0003094475805410953,-0.0021258967330951895,0.003339789511631596,0.0002454365730193721,0.0018741195924139526,-0.002143293947109988,0.0010638959436173351,-0.0031647945385012317,-0.001622083376467007,-0.003078199820386999,0.0013027114894334155,0.003827391314889844,-0.0002502708505515,0.002757947581958245,-0.00031065988398396873,0.0053669663607587145,0.0017466634071668147,-0.0021239293501802772,0.0027658120517945984,-0.0008428113394317394,-0.0006257017008075573,-0.0036160621109223635,0.0003980114888778194,8.332489068054068e-05,-0.0010983163091878682,-0.0030367442171271293,0.0011194978770309944,0.0030984740827198695,-0.0046117719495898735,-0.0010206450652589742,0.0005641500071844178,-0.00552167193236148,-0.0013321021424444008,-0.0015209317724594023,0.0028761316923486737,-0.002222775376823165,-0.00456286581484384,0.0005982143115555684,0.001399420642343388,-0.0017157873396836697,0.0020104148722857283,0.0003120863170659637,-0.001996375411815756,-0.0010743201449934657,-0.0003887175211491556,0.0011149217860276417,0.0017631610576400178,0.0009759148371089036,-0.0007068859363929366,0.004045026437805507,0.0013172625895571262,-0.00037844400437047466,0.0016587763225327443,-8.731486780582127e-05,0.0005897353385603518,-0.003346668828222803,0.0019287687200241189,0.002115740575684382,-0.004894747979976241,0.0014088569071980268,-0.0013901258273730079,0.0008374050697475095,0.0013817779182693185,0.0012245663933366268,-0.0042997001864281716,0.0018597150181229461,-0.005949283811687971,-0.0016086431459729836,0.0003418957283604789,0.0010404923505345437,0.004665952212077514,0.000903781524199732,-0.0033745789236412963,-0.001732013284745063,0.005715016477702148,-0.0012208954292497638,-0.0006175393010157986,-0.00041683166132515826,-0.0008235707874458935,0.005307730803660238,0.003272623206760003,0.0016572238643105966,-0.0002857989071801982,-0.0016562918465207058,-0.00144974974730902,0.002830969297629305,-0.00023367320519758017,-0.0009677660422276196,0.005478514916824281,0.0022423984453784564,0.004390593705482413,0.001403059047246973,0.0019205358923814475,0.0011125152180491975,0.0031701732711111505,0.0005565554885949829,0.0011595764018753408,0.0030417513114413958,0.0045485557326689395,-0.0009720641094539923,-0.0006379203558564016,-0.0002805846362184972,-0.0005231614047819859,0.0023620075596409358,0.0017220100183320197,0.004343100917022379,-0.001905323155304659,0.0014877708432996955,-0.002108152042491143,-0.0010508811130837937,0.0020828001260666563,0.0027609347289363905,8.191262381239877e-05,-0.0035930200074585222,0.0035168380016353425,0.001752249670440919,-0.0009173728015146789,-0.00175223350383512,-0.002086259715772555,0.0031325289693025574,-0.0003665057376473253,-0.003737284776504574,-0.0022466845630858333,-0.0003688879459929699,0.0001889494047230818,0.0011108535590075663,0.0010412723153657229,0.002176782690155589,0.0012291572240251485,0.0020676813715764567,0.0015073570677278183,0.00036606810667080375,0.0019619547465553216,-0.0007889423016069154,0.0024205147833031835,0.0009512953283649629,-0.0013309455478463432,-0.0004981929597529532,0.001724062832323242,0.0027404346262549823,0.00018283466793547846,0.0014541158743838897,2.2902493904943066e-05,-0.001885056820127813,-0.001663083500019066,0.00042240735603268215,0.0008286946740286044,-0.004266494576809934,-0.0032861004441774276,-0.001934754678824908,-0.0021381904330013465,0.00031801590241393855,-1.7599405894160529e-06,-1.1693662496300926e-05,-0.004908014214036336,-0.00048317745782565396,0.00016991942952302057,-0.0004282651180618072,-0.0016799143243799227,0.0012503789848108658,0.0030657781303608596,0.0007515942616038523,0.001426763614311762,-0.002784237429018301,0.00024617996333815866,0.00041299171980652556,-0.0025188738931714843,-3.984947592698459e-05,-0.0007392726751229553,-0.0011982592398133555,0.0031333306297655866,0.002727067844462443,-0.0017497123032779614,-0.0023411704803524133,-0.0016611378116193857,0.00118781810256236,-0.0017486259478548434,0.0003982532658303643,-0.0013861883286887505,0.00014334873429482707,-0.0002141978619768171,0.0005431744284892542,-0.0012008294759014615,-0.0007549124685383885,-0.0012273387761820112,-0.0007698482052407264,0.0028288564275894285,-0.0020451026895769464,0.005595991821414372,0.0014519532333755233,-4.16334629487781e-05,0.0020114932568163543,-0.0019383479209417395,0.00040867472472154627,0.00025972023952487656,-0.00029070670207693603,0.0006355905378897645,-0.0002583522467407885,5.029997672350085e-05,0.002598782242803923,0.003853943426055049,-0.00018861226388591922,-0.0002445247226721998,0.0008221753137694051,0.0005113978072069133,0.00388131377098749,-0.0008607983686799353,0.002121005641780748,0.0032276671021958456,0.0004510919745945885,-5.1009470943694936e-05,-0.0018019093013492298,-0.0013792565242024444,-0.0013617715506758503,0.0034041162452691674,-0.0012704947716992774,-0.0005964253855679722,0.0007869364059499006,-0.00035447034873838584,0.00146640832156679,0.0002567237878872008,0.0033845168686898416,0.0006405356809137836,0.005901828109108398,0.0021101848077774463,-0.001240493226315385,-0.004043093532651275,-0.0014586235990422822,0.00010269576771630072,0.0028440498935718432,-0.0031662246397383704,-0.0002366383039903056,0.000571402830285244,0.0013532107210084373,-0.0002247096129186347,0.00120847338301213,0.0005548530027777936,0.00034831088925528877,0.00037778728354941385,-0.0006426104186179268,0.0006727311381380029,0.0018918775933004675,0.001000388746311574,0.0002753478567642547,0.005726092651192965,0.002341468315638112,0.0003121471054676662,-0.00033324850006140897,0.0023838257313313674,-0.00280498575338553,-0.003148668309649367,0.0007880086754530792,-0.001383037026156232,0.0056226619173951,0.0004604940789790312,-0.00040773411655797734,0.006331904028373723,-0.0002456254100339739,6.71733030692645e-05,0.0019538837879407634,-0.0001249154262484833,0.0014454469465211993,0.004044484514417318,-0.0039194073880942145,0.0017234305223173018,-0.00025964420104852734,-0.0017604391043508922,-0.0011546340321315655,0.00037790119910708145,-0.0004527124087441712,0.001500544353532306,0.0017798877894264526,0.000391258604906598,-0.0014376060916459314,0.0005840307560250074,-0.0019918928605361257,-0.0011312520798456376,-0.0022879256629106705,0.0006116123751744163,0.002991410620686983,0.003500596882736408,-0.0027338296236206865,-0.00010231902202251948,-0.002074213845733252,0.0014860570439078138,0.0025993403407562773,-0.0008757900519834859,0.004513777114191126,0.0036256738023058544,0.001425684299650118,-0.0016973888642276256,0.003534525226781291,-0.001404108804695804,0.00022543875785138078,0.0009299081166223626,0.0015238261387787205,0.0028693211748044125,-6.203306735641487e-05,-0.001483117162038994,0.00018074195161432024,0.0008520275924024497,0.0023092521835446802,0.00047772558780183094,-0.00045698418192848526,0.001395815852912988,-0.00048722835864150384,-0.0006117328430929379,0.002097646153243639,0.0014044377893239375,0.000658524879485269,0.0007078850595162396,-0.00020183365483519562,-0.0014242472069004336,0.00027728998592988586,-0.0003903479966211555,0.0003861614265635988,-0.0003804478157355927,0.0003285037909294274,-0.0007968793698886878,0.0017586327598606568,-0.001782869162345289,-0.0010549642124873912,-0.00230262933131985,-0.002076798505763569,-0.00036375483050116576,0.0008154433351443927,-0.0030198139718673567,-0.0037433912953468724,0.00020037782271145233,2.5122865801255662e-05,-0.004449330023527884,0.0019912614890067494,0.00017495706102339353,-0.0014808871881414546,0.0007115974139025705,-0.0037699278785486004,-0.0014319446402627318,0.003738287736611212,0.0032397778030157725,0.001255191504315982,-0.004528736798522265,-0.0013496350471366935,0.0057533683768545354,0.003977566749021151,-0.00039186703164468043,0.0024022449212966566,0.0009261288730403511,0.0018132877672720124,-0.005312779110374356,-0.0010841915424630835,0.0030215006092722237,-0.0011277727652393398,0.0022929783805250657,-0.004701124520187572,0.0011744432796637924,-0.0005890739752464167,0.0016905624454486522,0.002400920806192401,0.0005505683142984887,0.0016786946826428282,-0.0006500189799696947,0.00042540489774798033,-0.0027052941497282624,0.003809025476028023,0.00020217215495517668,0.0018005754576034233,0.0053300975814695,-0.00215715922569952,0.0025749181733909308,0.0002998620944790429,0.0003535791474844426,-0.0010309070207798,0.0015072056630640617,-0.002025478920517321,-0.0012386281798219538,-0.0009182141091097249,-0.002373393815091459,0.0035261576384277202,7.882271012177787e-05,-0.00215981052097129,0.0019704283715939164,0.0011352915017290958,0.0006979139701746071,0.00013304568997634517,0.0006361157010051297,0.002451924037033749,-0.0003389165625271931,0.0017480560644500165,0.0013800693876496399,0.0016793426148799097,0.002634992668966808,-0.0002391728324950475,-0.0022214430707603416,-9.930156192611452e-05,0.0002915327591950465,0.0007168163185430525,-0.0033123366416217947,3.0294628032720973e-06,0.0018938495338425983,-0.0018484886423556003,-0.0010995956472763429,0.0002547112107454787,-0.0004082452876173552,-0.0038019504351658683,0.0014454734081010834,0.0018053588737115221,0.0010832831796818343,9.977515745965703e-05,0.0005373265002979866,0.00043416892930721275,-0.00020372094856534043,-0.0012896489551611889,0.0009152782188214044,0.0029225152972150925,0.003349541069339255,0.0003927058580888833,0.0027682349480910888,-0.001544390600188018,0.0007258593969192658,-0.0030035294302487975,-0.002177775641024421,-0.001916859261393947,0.002817588938694974,0.0007004313181987016,-0.0008744058345175721,-0.0009529502553917383,0.00021987735910492307,-0.0016703364003148504,0.004421006808393623,0.006184759129420336,-0.0017475825570147053,0.0020669440880253234,0.0011957994737964363,0.00021415541213684665,0.0008626421898027974,-0.001457230633981895,0.0040655625654490634,-0.0028373565770886114,0.0004895113166604676,0.0009577078865997772,0.0008222755398651709,0.003520198593766871,-0.0011089979158553102,-0.0022698400976789088,0.0014270100395576087,0.0025119614476643067,0.00010333857330626862,0.0019227579970207,-0.00039916588261566615,0.0006540850382294677,0.000897581092800009,0.00225360734165839,0.004283791583757992,0.0009352185990154964,-0.0011956449330540184,0.0013766982797355312,0.0009875671760500781,0.0032450180808819345,0.00010532447151277516,0.003033682576035786,0.0009317482299072593,0.002659499750193773,-7.095334661357368e-05,-0.0015824696219191282,0.0020149428911002245,0.0021876368634771424,0.0015951792064097727,-0.0008044014538223732,-0.0004967502094957472,0.0011445909865676338,-0.002673653345065096,6.312405551230024e-05,0.0001579414307696355,-0.0010889607829615332,0.003265052711867471,0.00023186767083865746,-0.0014626807783273273,-0.0002837675992510759,-7.444564995819011e-06,-0.0008701276893652506,-0.0018593792796464874,-0.001542094391003128,0.00031845969092710735,-0.0017979685872735092,-0.00014392996335646843,0.002641345159644404,-0.0029544751495484516,-0.0010202151052165378,0.001431182583112591,0.0027205891712019144,-0.0007308775710311367,0.0013674707353923327,0.0016673987719451392,-0.002068466294279502,-0.0003283283890537157,0.0008816963669332705,0.00016728498648648063,0.0012320367602844052,0.0017423314279521413,0.0005952394170901095,0.0007791243012123037,0.0011332249930527875,0.00014151610552414325,0.002706087932518384,-0.0030247035820924074,0.00661523384252175,0.00045673119986502605,-2.8949740493643146e-05,-0.002053905304358339,-0.004280890677770342,0.0013827060665559591,-0.00015465106688035147,0.000520968800449861,0.000405734673074732,-0.0010103694455417353,0.0004958870976952108,0.0005539879828515133,0.0012255137833160736,0.0023819192133635266,0.0026941313354480285,0.0014814241468436027,0.0007081168794239253,0.0025288967282876924,1.262335392559979e-05,0.0032660447657899484,-0.0001580344937024198,-0.0014782183867527747,-0.0021932718998361202,-0.003929746800901981,0.0027813844317397386,-0.001289070525560431,0.0009099939023547386,-0.0004284953898633109,-0.0004404309375466517,0.0037769900113623738,9.078809335925857e-05,-0.001246086414708249,-0.00018921746931353523,0.0014217508677789447,0.004373842809705295,-0.000842417512037302,-0.0010485107946621797,0.0019182894780648816,-0.0020042481666216637,-0.0015959663944842097,0.0012685155034438587,-0.0020693485969559386,0.000631598395344496,0.00047166113587457495,0.005260692637866381,0.00047252155310441144,0.0007494029489767553,-0.00018046099268657673,-0.0034862992750951,-0.0023447432470356006,-0.0006074286075054733,0.002215399998276367,-1.4049691877199645e-05,0.0030234061010637227,-0.0007658299905032575,0.002977809823996718,0.00029049356828270384,-0.0029789765583430727,0.0038777185171270353,0.0005268702248196311,0.0022750913178042295,0.002427013145355793,0.00016256145654085122,0.0032675384226842105,0.0020612146034136116,0.0007766224607454689,0.0002781502453775956,-0.0004908527217239313,-0.00024545301217589427,0.0008397436846293583,-0.002574187656267526,0.00025035247219070127,-0.003645292416019026,0.0016177539770783865,-0.0007915331394498105,0.000590788947181907,0.0002551135370975567,0.0052530731536754565,3.699541092308719e-05,0.00018849393683212517,-0.0015222638332954952,0.0005356368429358465,-0.0004298041868753986,0.0011304359677517851,0.00018921627850189329,-0.000516302249338088,-0.0011098486619620495,3.8752560224880935e-05,1.0959413679738175e-05,0.0002308986086913719,-0.0008551587086835959,0.0011987212112455005,-0.0015540751917973736,8.01735907054914e-05,0.00042258564168253817,-0.0007664915939500593,0.0007256136417787374,-0.0019250181345454504,-0.0015867354559062758,0.0031433244770414236,4.134991491234292e-05,0.00043764230332678363,0.00045694719434030765,0.0030692366739319406,-0.00013275564201931268,0.0023147626453760774,0.0010464148383468805,-0.002813864087361032,-0.00031840080512024764,-0.00143635405873307,0.0017360285840544848,0.002496811401861549,0.0019194204175683313,-0.0022338758770996366,-0.0021567673806911873,0.0012134370876240375,7.339907537454317e-05,-0.001049434658098962,0.0011487922256621366,0.0022795951721178804,-0.0008718500704086254,0.0017861995615011184,0.0032494410262027063,0.0009601337312095308,-0.00017042950121271344,0.0004966666000441621,-0.0004274449652642166,0.003297142434009789,0.0005674059093205048,-0.000771660060731863,-0.0009181528208260431,0.0021885505339773793,-0.0010231380287011504,0.0020530224628972985,0.002958554708369283,-0.00247990218974743,0.0003345385454899567,-0.004491284365361831,-0.0006282991324325919,0.00118443686609676,0.002684000446884254,0.0021671899717821495,0.0018160074031916321,0.0016520129212822462,0.0008187224259686443,0.00284823741212548,0.0010405927458266356,-0.002033802046968234,0.0008190911734248818,0.00564510289191325,-0.00032436731585152055,0.0010067819977131645,0.0021379935826668257,0.0011012892111197576,-0.0013082180073537932,-0.00013834862675541175,-0.0007713544661231595,0.0012665483143412752,-0.00235882411762257,0.0008545216877297593,0.0001894923933696372,0.003119430756085967,0.001176798044678792,-0.0024157766909842075,0.00223330004691627,-0.00011471276113888046,0.002768649654985782,-6.381485421133458e-05,2.4866118342288124e-06,0.003604176757528115,0.0006529403608962116,0.001606909199639883,-0.002167812107608294,0.002474536256202588,0.002116651529186106,0.002139380969406172,0.0009318311067197042,-0.0009775994049890252,-0.00047886208921081634,-0.00310712411600265,-0.00023621295721792924,0.0006471020732645191,-0.0005961431106151911,0.0008244636879181131,-0.00034908377054581637,0.0004127119255988935,-0.0018495380121840454,-0.0005314524999352747,0.0010059760413644004,0.0011963375331158876,-0.001874469549856821,0.003218194914715112,-0.005651749355504865,0.00046684269067387516,0.0011451421440243858,-0.0014231541995955485,0.0010348844734201514,-0.0009424467779714414,0.0018441518697973657,0.0012697376270072783,0.0008784895016152528,-0.0007056864401481788,0.0017435845245045232,-0.001202604257632238,0.0014319536794934248,0.0008921950413076666,0.002302441801866407,-0.0012510349564413131,0.001719705023717529,0.002003478717643589,2.174721704802098e-05,0.0011813110422814078,-0.0015231959202239493,-0.0015774494666983383,0.0018714705368554946,0.00031106184917782176,-0.0010492561317889512,0.00321344160467774,0.0011647345706196977,0.0002708340457532172,-0.002264071900815094,-0.0008859026699312819,0.0008436729289053056,0.003862548800964643,-0.0012199109926134693,0.0004020573940627606,0.0023945828687249224,-0.0008813020585397501,-0.0007844457822304222,0.0036689269949355965,0.0005171061906257325,0.0005296853104227138,0.0019297095001067006,0.002535499521498395,5.3551501243552614e-05,0.0025748960463703504,0.0031747044017660063,0.0008930987327303566,-0.000376210806499224,0.0005976461135255749,0.0010406159694979816,0.0027156744285505184,-0.001775233164897468,0.0013772557470943393,0.0023248244714783694,-4.8210996963385e-05,-0.0011939246825989009,0.0008290237835226878,0.0033294539703279443,0.0021522818484526317,0.001526888133613158,0.001480636597667899,0.002546322160782823,0.0021272154738170095,0.0003120546942092077,-0.0002490585712656778,0.0006541139167324829,-0.0033555193278115374,0.00048579398186506504,0.0026561458065920618,0.0032588661675248126,0.001927497249040396,-0.0007310988828528874,-0.00026902126027035305,-0.0012813175758037058,-0.003177843250308933,6.472565992989037e-05,0.0009060623025306972,0.0007449600866232627,0.00043721958365608703,-0.00038253753341780354,0.002925515918238152,-0.0010319930394571957,-0.00134345455718814,0.000918548992155165,0.00022246878662059144,0.002200925647757294,0.0015676096608695073,-0.000641457643682308,0.001488450755509632,-0.00010369728349890994,0.002188043105682354,0.0012162692329929323,0.0007946797685916956,0.0012102813477772136,-2.7557768347339733e-05,-0.0016585295366514834,-0.0035925586165411584,0.0025669577454571564,0.0012938669693457298,0.0029351239467199745,0.00018078709386436012,-0.0018628522233215547,-0.0003676018479964101,-0.0037406966836169863,0.004119779109248942,-8.72663890401548e-05,0.0023105635793796513,0.0035699206796700003,0.0043309906703860816,0.0003014877437657632,0.001411339790150503,-0.00021539369889791025,-0.0010151009340894836,-0.0015012039070437804,-0.00023113993068344204,0.002631444585373102,0.0033733295534214766,0.0017325085761557336,-0.0006422153447393518,0.0010244855709822772,-0.0010761431368734352,-0.00045108007603521493,0.002546559431796084,0.00031531834820965266,0.002161394159405799,0.003377539026978751,-9.226798501313244e-05,0.0009961356610164354,-0.001175125909990364,-0.002830066926159532,-0.0019818570134663063,-0.0007435977534251707,-0.00038109000015274934,-0.0011210338066433726,-0.001351749339666847,0.0006282490124911517,0.0006478347052680533,0.0017451032060994405,-0.00015005767311323856,0.0005690991211761688,0.0012691787797287778,0.0020800153918646733,0.0011473862678710737,0.0001320397645540669,0.0013678548800581398,-0.000468520809560409,0.0012155126544550058,-0.0007912314606136581,0.001943986127052972,-0.0016413500196047778,0.0018970532793035572,0.00027674964939157227,-0.0005603892970968763,0.0007371622427211047,-0.00121434949526786,0.0012267030482819457,0.0017088075160054457,0.00096041712317303,3.8694846229044994e-05,-0.0013990848071503104,0.003192815898706548,-0.0015119347566645428,-0.0008697937891527772,-0.001411469657934746,0.003508937380176079,0.0007294472141079008,0.0033179458157500475,0.0021872150729446414,-0.005942663935741595,0.0030343078513068527,0.0002800921704401626,-0.00014854048177035024,-0.0034681694559685933,-0.00438558642796803,0.0005629514641110058,-0.0023093036514042994,0.0010868960116107616,0.0015678091944808868,0.0007736029503436962,0.0007317046442164957,0.0009325544983147473,5.676569401549954e-05,0.0007711466817573007,0.002918980002264831,0.0007339286729309425,-0.0020282093143970167,0.002680619781721763,0.0038986915156491004,0.002041325262023438,-0.0023360965994354433,0.002129918370040815,0.000250702948559819,-0.0008119394897374879,-0.0009587168954120577,0.0016073907098910322,-0.0009658445853021491,0.0012228437433553043,-0.0008684461615731889,0.0007591719244828739,-0.0019421170821372897,-0.0009182898300024514,-0.00046882302978670006,0.0002554149022529924,0.0007665188731870199,0.0022213785859144103,0.00033595865654658595,0.00014126072578195405,0.0006192116641941478,0.002608196293156205,0.0024474233660613442,0.0049247837316503925,0.002972375953121566,-0.0015363137764213741,0.0025749055217829534,0.0025458136420332352,0.00016793013425534634,3.2563026064669676e-05,-5.690458494517285e-05,0.00037825584884167466,0.0021416557768324787,0.0030809565106601987,0.0013019942319096266,0.0026604480108825368,-0.0007960507122123821,0.0011747010525660357,0.0027004962078539477,0.0015773755994685655,-0.0011839150809340108,-0.0006755003092287695,0.00012351306498765025,0.002252813025744298,-0.0022035143379098036,-0.0007039736396217898,3.616662886015433e-05,0.0010278021108868051,0.0015870484368281385,0.0022818369477274835,0.00029529807414899813,-0.0008338653195845413,-0.00242472074576062,-0.0025294467885646297,0.00024062357585427987,-0.0016272131005471199,0.0018042702242131638,-0.0008782270826445478,0.000832436609511328,-1.8686173053761233e-06,-0.00041885827248879973,0.0012516636600836144,0.0001031993122456923,0.0005545222033798443,0.0026769500685438117,-0.0032935882294906926,0.0009423943568849085,0.0010556790197965092,0.0016528643786773518,0.0015379999184481185,0.0009125687636555151,0.002643258566392139,-0.004568562687786926,0.0018452599146407441,-0.0004506012321874889,-0.003725599124435898,0.0020587381622055247,0.0005583668502934792,-0.0015031167457633327,-0.0007339500474592356,-0.00346765988488593,-0.0027986873015024057,-0.0002392336705599027,-0.0025661368888472104,-0.0012759694919353525,-0.0009111524414099461,0.00024373100014882061,0.0008033866551919479,0.0009504530140404257,1.3328516441403041e-05,0.002537080606155064,-0.0018890600787768584,-0.0023504541142890037,-7.01064423920632e-05,0.001991266682356287,-0.0004616183991808015,0.0031217539543230174,0.002842063951498276,-0.001218316743309325,0.00038981334140488454,-0.0015226812462534162,0.003039496739206484,-0.001196095125857884,-0.00024635328250687547,-0.0008348831782005138,-0.0005879734083042339,0.0014899874870632687,0.0007210980069739931,-0.00019595053623950817,0.0027373226026355334,-0.0008727634670968013,0.001229833840454375,0.0011170849865487803,0.0008495747031368081,-0.0006747516300113328,-0.0023400730626467366,-0.0028878372977886187,0.002361894658192538,0.0008011722456127788,0.003459061219808812,0.0007732098199068802,0.0015166954841049193,0.0027492834216773184,0.0013137690734724029,0.001305095158201775,0.0023323775210968957,-0.0019584718554294233,0.0011945087301809892,-0.001090741869614739,0.0005179867862770857,0.002827688818808655,0.0009209291328613083,-0.0022678356446779683,-0.0009818840116896715,0.00344152245805336,-0.00030039958464392786,0.00043520339224939274,-0.001299918501948092,0.0019471728238722018,0.001285013551218215,-0.0039116003123868025,0.0004979678570804362,0.0018455373171984918,0.0019956801523763517,0.0017474645187146658,8.663796652432502e-05,0.002359829300397926,0.00217766423571569,0.0013680481599987054,0.002027417332829497,0.0019602110349824214,-0.0005890115428224079,0.0002523070693189918,0.0019405969995603383,0.001927543368852854,0.00447510644394673,-0.00027355037067978587,0.0024642380029159697,-0.0024235686470685668,-0.0005952879866717797,-0.002589582395968438,0.0009042734577164427,0.002166145976816583,0.0024350268571224063,0.0011977591714462427,0.0017329876133304319,0.0008383089989032711,-0.0005782618738971493,0.0025175929383917162,0.004724122724569221,0.0023958613524443194,-0.0009281824649372371,-0.00048561226663951425,-0.0016204446191743218,-0.0029805597380251066,-0.0005197301891027042,0.00037304781825174115,0.0011050886080130314,0.000952685557998003,0.0007838895873347313,0.0007617745636522165,-0.00042707766079091135,0.0019366298547232592,0.000381071589510291,0.0007011634685574733,0.0023319670512424624,0.0014236893432091502,2.9192857495325784e-05,0.0017335921898463708,-0.0017414848867970693,0.002208617048569527,-0.0002995107164740776,-0.0008313169959578063,0.0006337371198789143,0.000955134066829083,0.0003436576493094617,0.0001604396075599108,0.0013765074595644049,-0.0005823892935300321,-0.0012588658681951291,-0.0006159526329645513,-0.00022393897431539808,0.0011383612270374726,-0.00293586669011428,0.002473621406617934,0.0007117012295953357,0.001036571000697345,0.0012406355913190024,-0.00045698251579852773,0.0007717919691714963,0.00045300484070362305,-0.001981853457820013,0.0022116473705058393,0.0010653652127065492,0.0017505454302006321,-0.0001342643243639852,0.000513266532683356,0.0014178881885246943,-0.002707661266138833,0.002650215074414983,0.001420685353314683,-0.0009532165738499183,0.0009003856159832727,0.001924524902558151,-0.0009508732585392786,0.00211410856444493,0.000776108467811829,-0.0004116515376109415,0.0008845209369210249,-0.0014526909754634687,0.0014413016312521958,0.0029158294864570127,0.0011265749657847644,0.0008135481285089871,-0.0002934975876203347,0.0020988291073507177,0.001348463512614927,0.0021917012086399203,0.000582786512570689,-0.0013707575203664765,0.00023049271148320495,-0.000652745464573666,0.0012550946927307194,0.0001965300756161615,0.000673326326407563,0.0010410953392567303,0.0029294900264727397,-0.0003969701156858631,0.0011181824487910366,-0.0031172224384030853,-0.0005301890438435893,-0.0011443291698480587,-0.0013967351131609945,0.001948231305888942,-0.000854785632111504,0.0007035989470529588,0.000598484462840983,0.0007143017637642002,0.00021110677716034963,0.001781060768430234,-0.004961937973561332,0.0027891338882176657,-0.0002099241713459667,0.001593720904133418,0.0003548920463469465,0.0008544537794879687,-0.0018506566981316807,8.466177029265084e-05,9.05244377839075e-05,-0.0008698404298886162,-0.0015393403315955836,0.0006421890615241836,0.0010316644547782733,0.001809968693591715,0.0010562461891155345,0.0005512503513714972,0.0020975916633079305,0.00046466320665446,-0.0011147547580050308,0.0005971556036024597,0.0011179064199461507,0.0013531825019871481,0.000600559123616185,0.001247618130447122,-0.0008049691761480343,0.0020556792875215967,-0.0022658398580633655,0.00218326808193505,0.0014830382968357605,0.0011580690207409928,-0.001066444614189756,-0.0003901648308574943,0.0007737561792765354,0.002521613032043593,0.0012772823521427154,-0.0013644593280302117,0.0010161551046960825,-0.00015618353518236908,0.0018978604619177815,0.0012334408914490094,0.0011579130897294745,0.0010776328101952267,0.0004859302393861812,-2.198579230358795e-05,0.001156418682587479,0.002202730178863553,-1.8376746647451167e-05,0.0005758276997186321,-0.0012952288162716994,0.003220709295182453,0.0015963785168008947,0.001866905371773976,-0.0036216364309354103,0.0010474169745772475,-0.0011812346318091204,0.00046466788216840824,0.001367550007298807,0.0019073678810453867,0.0010657619652426715,-0.0029829522726270556,0.0010921783066746495,0.0005367531833974265,0.0006301204594612333,-0.0018316667772585457,0.0025965143483820388,-4.783520919548643e-05,0.0005281094878251815,-0.0003451106435162566,-0.0009342321634900026,0.0009589662593100911,-0.0020645985505434593,0.0007596420180184039,0.002262291164900997,-0.002037233438457431,8.689885160150062e-05,0.001434821713017135,-0.0005093417154314556,0.0014345155157003437,-0.00014014766340115955,-0.0007045081609622446,0.0015464225652309653,0.0008535350791199767,0.0009155350483521687,0.00032619701516507115,0.0008363334034385422,8.684095267100811e-05,-0.0004209437904185749,0.00045016295730546796,0.0005597767012122352,-0.0015021313192949812,0.002925660784279422,0.0007013274469832924,0.0014988935536067627,0.0021038448244615083,0.0005313597215504142,3.882207038417204e-05,0.00011457189193151577,0.000627235002386388,0.0007406274678717067,-0.00044101312792287057,0.0006427076562283961,0.0005117116888979812,0.0007311356989797016,-0.0004911594944373485,0.0018649293291087142,-0.001488217540390095,-0.0014149127539977197,0.0011982685956921002,0.002058760972814894,9.579646361885741e-07,-0.0007144661881528844,0.004492636115113576,-0.00030676159194525373,0.0008279486129549923,0.0022316746904038963,0.00230903912215893,0.001635920609437943,0.00014486806725088044,0.0004508438551612327,-0.0014397382843421727,0.0010234964427973078,0.0019332553754131234,0.0013212179166336817,-0.0006920931314213238,-0.0009278235761669963,-0.002019113487861968,0.0009276692836566942,-0.0001744642441254691,0.001919835092596515,0.0022705650703704044,-0.0005419801615461756,0.0006340620657855636,0.0024610949531472456,5.998791679025829e-05,-0.0021881656877788475,0.00017085744765402096,0.0016352859106553773,0.001316508848802017,0.0032159088162951066,-0.0024202458091812963,-0.0014714217557204796,0.0005481973882653722,0.0017686599481014417,8.184307229787889e-05,-0.0011329101632033577,0.0009767333103130867,-0.0009445294150667941,0.0016516487491934051,0.0013420283256102767,0.0012943328704977622,0.0018520326143911141,0.0004908682147657374,-0.0006272534745112768,0.0009810270114414211,3.5965759894438517e-05,-0.0007663792109176396,0.001495221622699781,-0.0016321915754992677,0.0006607224658809232,-0.0021326651440462937,0.0009942709659758154,-0.0011261924560325206,-0.0014728733953304437,-0.0016904165904631234,-0.0010420543765425703,0.000348573612305525,0.0028461098827406205,0.0008212643688569752,0.0011529639585151448,0.0002682554206939725,-0.0005317093849585062,0.00031008214390130373,-0.001020588468613206,0.0007251780142402168,-0.001912461661510278,0.0012269252575385135,0.0020706015416985797,0.0007655651359847956,-0.0016145288834080364,-0.00017311597253026595,0.00033207875106530156,-0.0009138794073191331,-0.0010412729734580923,0.002242514301457141,-0.003072173015732232,-0.00019548335543365114,-3.1061418720730173e-05,0.0009981197662511808,0.0011538801481999358,0.0017008496555191291,-0.0012858572002578685,-0.0018954549444982365,-0.002236327684684324,-0.0007680642457575696,0.0006769547282557764,0.0023393869579025153,-0.0021365428106329518,0.0012887363122493685,0.0003871243772085152,-0.00028638571863095184,-0.00357602445134988,-0.0011282054527704487,-0.00014173274962677102,0.00010636743157725998,-0.00040093067945457667,-0.0001514666597302705,-0.0003719176245116511,1.0465339362628787e-05,-0.001138216812797032,9.97077457727129e-05,0.00047702997122172,0.00028908859721229774,-0.0017551425136029162,0.004589334350291583,0.002253873586801698,0.00033015526345573113,0.00102287678842064,0.0019356519600943413,0.00020721356881203145,-0.0014687800034144545,-0.001592341899411933,0.0019906257036727136,0.0010108673137139397,-0.0024594179189424267,0.0013892194629558,-1.3852996623953837e-06,-0.0013355493275971713,0.0010770733705430526,0.0010098858014146207,0.001048443021611099,-0.00254640516225816,-0.00026118833101971666,-0.002467444318239307,0.0008806302311186677,0.0029651693969742886,0.0016959004009961072,0.0008896341053786492,0.001289966399611502,0.0005693101005937133,0.0002733206169901464,0.0010314370674265431,-0.00020760311253085833,0.0005809785796739287,0.0008103290029351717,0.0012225769289148087,0.001888713706591593,0.0004089053251224684,0.0016821937983431026,0.0010808540294139593,0.001040824464884353,-0.0018421967698901102,-7.729959147583617e-05,-0.0025363969984014416,-0.0031576324163692924,0.00041494059301244924,-0.0004933598978179254,-0.0012890936312144143,-0.0027472855515647664,-7.559436882252328e-05,-0.00043214945083813993,0.000952033432772088,0.0036889852730143547,-0.0023355613256822645,0.00019344024377556984,0.0010716229129698782,0.00010625186096883782,-0.0007430241439770413,0.0010919896686789547,0.0006686178578349268,0.0008536796906425206,0.001360428428059845,-0.0025404894514160295,0.0019083501549279143,-0.0012020201451003127,0.0018079833036535016,0.0003006459785819067,-0.0010957602547437804,9.426237933391859e-05,0.0017978950398009682,0.0018680354828665288,-0.0003054211006001521,-0.0005277994633687359,0.0006287571344774215,0.0007275491010141687,0.0006383847937057055,0.001274403634785763,0.0009693742057530301,-2.6673432797835548e-05,0.0002183566769924735,0.0021015949996966415,0.0009284160192051882,-0.0018982930713406113,-0.0018375659946894445,-0.0006956431319604341,-0.00010094813595428362,0.0018095309033313118,0.001212349999776422,0.0008360775719489773,-0.0017904859170438832,-0.0013877136465233818,6.206790090091856e-05,-0.0008279980598807818,0.002126441015375083,0.0010801665158669195,0.00412613309661074,0.0009156124016063014,0.0009989974524996195,-0.0018688665223937384,0.0007063273900275128,0.0010162730590629941,0.0021921722774525107,0.00025827828741961645,0.0013009554566549362,0.001302622941419889,0.0009393665695918169,0.002126582252364226,0.0007760141513655089,-0.0015002479503590693,0.0012476648130821495,-0.0007898848479085249,6.98566690202363e-05,-0.00027648698536072584,0.0007450947719623618,-0.0014664038306456814,-0.0006673805463690212,-0.0008914268987010034,-0.0007361497214500955,0.0027629933653105896,0.0011089058157957546,-0.00041729950465389364,0.000617361710566082,-0.0017591878397653139,0.000832057977063683,0.001333647282130338,0.0014205234897399185,0.0011019698211081881,-0.0013530927289765297,0.0025519291974665497,0.002821293240051501,0.002006135186573254,-0.00156515713470662,0.0006089978877777583,0.001950081355188433,0.00044039400232061694,0.0005233684209307701,0.001899285524983802,-0.0002217524658860575,-0.0031850132793850663,-0.0007444369348819436,0.0011106036717975086,0.0013097164810755588,0.0007009604806737512,-0.0007734734640768325,0.0018193375982240802,-0.0034457387952715325,0.00020340144320150617,0.0001150381176033434,-0.0009968043424293032,-0.0005806796510822418,0.0019145897685730454,0.0015511985421965255,0.0009281310162439471,0.00021826285096222461,-0.00041935413789472606,0.00016047330825493826,0.0004837161771660043,-0.0008811109404207268,0.0018602654769698987,0.0006884606757909269,-5.4806164450202496e-05,-0.0016591752075244132,-0.0019220457068858325,0.0010653540374677617,0.0014134102260059812,-0.0008722474877861725,0.0002890721308628683,-0.00010992583184592068,-0.0020557160859603694,0.0022975192381169103,0.0018260492357746526,0.0016198627234191695,0.0011736945385258347,0.0007768171452228757,-8.928755285678447e-05,0.000235354637304195,0.0004093205017649211,0.0009129756440519036,0.00017233327036889943,-0.00070089460965033,-0.001990072189929571,0.0007608681629618281,-0.0003516536493036166,-0.0018378506796984354,-0.0006830296148897925,-0.0039637032384738325,0.0010803178929385667,6.478680935050609e-05,0.0006903421055281154,0.0016144099833544359,0.001617814988860375,0.00026592999198977654,-0.002547753344960387,0.0003679084749363349,0.0009211944982619953,0.00015982894984518305,-0.0013205233095652557,-0.00014884412699540562,-0.0014584471831192544,0.0007523194522486558,-0.0007492537935926981,-0.0014221008948779954,-0.002463746053115434,0.0015491396771446996,0.0006217305689474659,-0.003671942166261832,0.0010878229797601055,0.001823527917856746,6.0993990493182e-05,0.0014654826123423276,0.0008210796770624717,-0.0018613598766778123,0.0019604677074123223,-0.0015578377001100423,-0.0017108351830510912,0.001874866109942965,0.0015603441566258995,0.00063830560036893,-0.0001800632090210196,3.401619301824109e-05,0.0013633709521197969,0.0006641156228469259,0.00022878841522598668,0.0011799386289297624,0.00024375284422615843,0.001005120312048419,-0.0006124816004801437,0.0019282600192112355,0.0005141083861373646,-0.0016213941718876248,0.0013431007515344391,-0.0005564550932574306,0.0017291931280167504,0.0007635279909079795,-0.0010962307423465726,0.0008339164928049209,0.0018051943106969345,0.0029137951802207436,0.00255719955268632,0.00014909203752064612,0.0011656708832755351,0.0015132760850539737,0.0004105956950020824,-0.0014796499943311944,0.0007279357509246365,-0.0019640811079157717,0.002107185191994482,-0.0023129446321479797,0.0003732636915053217,0.0019129450333533974,-0.0004432646393235767,0.00043453225318313,0.0021204431675950278,-0.0004762929251226813,0.000892648623180614,0.0024225616918081756,0.0004936311251317894,-0.002523887779335908,0.0008707291621211325,0.0011876208135459785,6.486956378023501e-05,-0.0002860267987918722,0.0006902294881251022,0.001519170028050087,0.0008936516938355348,2.029798333250512e-05,0.0033486032377891537,0.001084347171759641,-0.0016481432291994235,3.1109149969082297e-06,0.0005797142658242049,0.001702989210460626,0.0014720752237869356,0.0006845498851769633,0.0013992551564502673,0.0006495484986140535,-0.00379975928619297,0.0014772301979910107,0.0013401782718071885,-0.00010862804501200082,0.0011094788653888594,0.0013117924234354044,-8.040558686244091e-05,0.0009015327992259643,0.0014830304235076625,-0.0005373273569741953,-0.0009974901327687365,5.441782084981295e-06,-0.00044079304516846915,-0.001073685132925026,-0.002327832520072924,0.003034729571100856,-0.0023716881562728703,0.0007571133938187192,0.0017161384763009996,1.7025000397051485e-05,-0.0008344793952109458,0.001876765923728984,0.002971653747134799,0.0008473008194858784,0.0007028414169078668,0.0013610579612502592,0.001323080495226908,0.0015040744472285049,0.0007623702131971978,-0.0019214423163809067,-0.0010144634061539058,0.0018578279839215125,-0.001974960039924056,-0.00010466970587982349,-0.00019393730000363327,0.000474718653238507,-0.0013853059707777849,-0.0007984689933230774,0.0023178861504161248,-0.001342741483646644,0.0005347295965089916,-0.0008511757874865228,-0.0006100749073365476,-0.0003655742912523207,-0.0020210431339267583,0.0015381764663998836,0.0009616481345654092,0.002063908064121688,0.0007750973580467419,0.0011240342455394667,-0.0013781577346208113,0.0015799112510208363,0.0018576560182494433,-0.0026056259515794115,0.0005748010217492303,0.0012113606480599556,0.0007404147702280153,-0.0019291855625645062,5.974070735048237e-05,0.0010305915268978283,0.003706515626850626,0.0010542164610045754,0.001735433326292049,0.002234056176805452,0.0009889324483925647,0.0016488971827626495,-2.7824120035329094e-06,0.002179813511576717,7.862218588232889e-05,0.002090926699114105,0.000603894818722113,0.0005092128682774441,0.0013260447617966338,0.0019815956383069763,0.0021828805439280587,0.0016069346992049697,0.0027566519140048698,-0.0007758646160261436,-0.001056857167747047,-0.0016850619749859026,-0.0004369155168668803,0.0007311763611679634,4.739709779901269e-05,0.0010251598560226123,-0.0025530848922287437,0.0013432963783854702,-0.0020677305407458355,0.0013196857830879243,0.0009712664035237165,-0.0011216101186860904,0.0010355503093173238,0.00010885986639767888,0.0020844775121940163,0.0007412512281187442,0.0008735265658059274,0.002791827492135057,-7.293359616194682e-05,-0.0008148022193819278,0.0017943753141539567,-0.0019791054684472204,-0.0006553346962489354,0.0012892249280730588,0.001630335046407541,0.001377575724603454,-0.00308319169929745,0.002095307038351843,0.0007904499019164201,0.00033442198456377686,0.0017643011934903579,-0.0023331226362584604,0.00043430279204927617,0.000635174418467711,0.00127726033411426,0.002513610649385917,0.0007077745697844352,-0.0006692788991211766,0.0010087674961017038,4.006770552406781e-05,0.0006646250047422832,-0.00039981426175239056,0.0003426191131852915,0.0012043832604568601,0.0006732577055615783,0.001113379485717621,0.0015935847337109226,-0.00010916376089230458,-0.0023746146920507324,2.4731311848209843e-06,-0.001613509168132604,0.0014303102587467362,0.0020224129553986937,0.00029010488570951106,-0.0017472173391248978,0.0018639050947765656,-6.890855824847522e-05,-0.0018798606951943794,-0.002183365452985233,0.0003350057125057617,-0.002211715218077042,0.0009172673459447848,-0.0006361132631538897,-0.001869658510019134,0.002408165307400484,0.0010867864272390592,-0.002320128391440699,-2.8238817907770723e-05,0.003007883144932997,0.0005724779926881787,0.0010445327643215049,-0.0002184099331114504,-0.0010689177724129437,0.0012355205199241891,0.00045851717546667486,-0.0010375957813506336,-0.00020612269907605707,0.0012123499997764202,0.0008625361202525998,3.044095222394019e-05,0.0012639208089554887,0.0010348086184561022,0.0012566767167976908,0.001346362858565748,-0.0036397133907227126,-0.0016890834611399392,0.0006215136399030113,-0.003395056867589105,4.461784269484551e-05,-0.003045546008534764,0.000831286590229064,0.002433948876831548,0.00024649659970961814,-0.001136069642637949,-0.003784214705916396,0.0009116734866151248,0.00015373408809408293,0.0009884898870669678,-2.9009757898989325e-05,8.554666978186885e-05,0.00032975089236582367,-0.003217647857051678,-0.0026034494227050444,-0.0026128593621319515,0.001350247610464688,0.0012528329329796635,0.0017227970078295602,0.0018763734452556568,0.0004057591842048783,-0.0010315489456437126,-0.003882112467280355,-0.0005250813336235943,0.00085340965189694,0.0006046349521731234,-0.0001792597419036257,-0.0009678101646435756,0.00042148770974239475,0.0006401500647563958,-0.0036505211051077453,0.00304575548509008,0.000981126160710505,0.0009779109023860077,0.0010381516338520246,9.779710345589501e-05,-0.0007123537034552887,-0.000712950047490901,0.001528820978923881,0.0014605874781177283,0.001263230981033183,0.001635953574746,0.0035146777238241216,0.0005816165177463667,0.00031637031302364797,-0.0011290527367735477,0.0027484264566222695,-0.0001337786805860562,-0.0009585418673939822,-0.002588168071459235,0.00253117995063994,0.00180312612730348,0.00033171467444338,0.0016158604276310638,0.0017272230510650597,0.00037578968682502184,-0.002386111805784974,-0.0015901575607456995,-0.00017604547392466145,7.968460014216244e-05,-0.001028227838575304,0.0010957638675128428,0.0019977011086611523,0.00036720503244442194,0.0012910106868916208,0.00022318090081577968,0.001092514752209101,0.0008576976485308444,0.0023206763053774697,-0.0005431201245477277,0.0005245855921146872,0.0009779072551589383,0.0012865466475140137,0.0008088818658010216,0.0005968356934450754,0.0007008709563491193,0.001054104079829219,0.0012852665903683674,0.0008238347389568457,-0.0019012028913084373,-0.000627876559943508,-0.0008538815459041859,3.6101871644640484e-05,-0.0022596227790143016,0.0008221268492676867,-0.001755113152040337,-0.0012544456592426577,9.366826449039692e-05,0.00037194000070690835,0.0010448648283091398,0.000896172565538647,0.0005243350441403183,0.0006711701336046139,0.0006685946576202704,0.0008467424556461541,0.000793874159889323,-0.0013860184709465694,0.0005854743896378302,0.0004835411667802181,0.000822211954208506,0.000963445426915114,-0.0024694087543939325,0.0006317774046532287,0.00021290445106565974,3.0242656000947573e-06,0.0002783193774465696,0.0005300218198263235,0.0007805743011786089,0.0005597346093437107,0.0004884641204415763,0.0007166843311808432,0.0005103094328149621,0.001075518732870926,0.0005597346093437107,-0.0012958874382540324,0.0009107987416382562,0.001616461259276316,-0.0006417474372252299,0.0005381756777018942,0.0008083848512099305,-0.0003023119471403136,0.0003422508037544592,0.000943436984489981,0.0007238851588933583,-0.0016753478162608473,-0.0010827499449078879,-0.0010790431169619761,0.0006104019656859855,-0.0011760712722249194,-0.0005947005097217958,0.0026798759482877165,0.00016004102520723596,0.0005217362144756466,0.0011472867182929188,0.0007477684772065554,0.0017711379827993871,0.00024499863646969803,-0.0010537011370174367,0.000424994083362483,0.0012409250887252816,0.0002165099237364449,-0.0010234842553054674,0.0002776000474316698,0.0007484550556850115,0.001141389003923232,0.0003637163722409835,9.906247552925022e-05,0.00034951185531786595,0.000792971797438432,-0.0005203384266381176,0.0005130944194741897,0.0007632421579345058,-0.0009391980435195591,0.0018525291574671132,0.0007191185718427274,0.0002465164921301301,0.0008494893544359787,0.0005380600218846344,0.0003893641740818454,0.00014902949248673354,-1.2656246444560265e-05,0.002571129482892357,2.7969761254442795e-06,-0.001482126290250868,-0.00016172147286326933,-6.514762620849874e-05,0.0007204363296511093,-0.0013562816504778413,-0.0019910981114768626,0.0016348115730935827,0.0007353701397923977,0.0014066766158204148,0.0010537293016483643,0.0006804556339189079,0.00010841746053655762,0.0022567038195691535,0.0019004139920034662,0.0005539348260115792,0.0006951699776877304,0.0008430478195269867,0.0005982128148333166,0.0005750110454451074,0.0007004359456465819,0.0009588599488484923,0.00047413180450960735,-0.002605145283093995,0.0006976819377862543,0.0004736338938996624,-0.0008111217853008449,0.0006100669728329781,0.00038767554614485176,0.00039577839978787555,0.0008139293852889347,0.0005747999448837064,0.0012175448805864485,0.0006847003898295839,-0.001382811014345306,0.002379578765494018,0.00042702682837148263,-0.0006009547377411795,-0.0009402284867741806,0.0008791263762375948,-0.0021489344883833575,0.0010044740729276132,0.0005404886638462725,-0.0006544818711055245,-0.0005795756681587297,0.0007794142306798074,-0.00036564804543230017,3.935261417372488e-05,0.00017467755194667067,0.0003255342605745294,-0.0008440406745792034,0.0019333438583093402,0.0009641220230756179,0.00022368026674633276,0.0007755156729760876,0.0005399700983847814,-0.0012451107367417935,-0.0024243820296686943,6.616604217169779e-05,0.0006025204643390249,0.0016643219789221626,0.0009978630726527517,-0.0004497997066282059,0.00024181153991518334,0.0006870286762118945,-0.002059611087369799,0.001588967611055932,-0.0007109721540667316,-0.0009302214016513013,-0.0003430941461311099,0.0005766424668384218,0.0005737878352241033,8.610781349000857e-05,-0.0004662982588002797,-0.0004112825549784539,0.001998108370064616,0.0008837225935909611,0.0013585895002731858,0.0005946328325300689,0.0003711753594794091,-0.00021182128375795447,-0.0024690901260233907,0.0008454940297471274,0.00042458967007039875,-0.002164839954310904,-0.0009782095169486125,-0.00020646370647276694,0.0009733995965699723,0.00147973071788336,-0.00228618372094468,-0.001948528288287583,0.0007054053006218709,0.0008685055694599925,-0.0019360408317597888,0.000675182836753206,0.00042427054728536284,0.0006974528263012475,0.0008233141387238893,-0.00010028080094671177,-0.0004674799454024955,0.0008712269443478722,0.0009267476872413033,0.0003554383823846551,-0.002264961998490832,-0.00038129616149866794,-0.0015185053063857788,0.000790085011852081,-0.001852377655944188,0.00013936168222479175,0.00022757699663748836,-7.709528975359452e-05,-0.0002867269806594223,0.0006778925190114096,0.0008778104366416666,0.0010621558690672235,0.0010186758743401555,0.0008243049126316187,0.0007663805749837417,-6.949017276146036e-05,-0.0013798457549878888,0.0012820181735678034,-0.0020872448171916557,0.0006137374505323718,-0.0006466609725344058,0.0009404992324674612,0.0010285306440924063,0.0010333439281425916,-0.00013283411077418564,0.0006561694665692446,-0.0008164388781019417,-0.000684106348556931,-0.0020502305438534164,0.0002644592713602869,0.0014119613657796294,-0.0024751102103254138,2.6151526612893792e-05,0.0003311716615012722,-0.0003676092640779079,0.00152233170603338,0.0004469990884787076,-0.001993004894981549,0.0010172585261761717,0.0004505981621049518,-0.001014696492995875,0.0009461533007854716,0.001637151776466249,-0.002484261911769975,0.0003436218893502671,0.000366648889051817,0.00124411385853321,0.000438582487015887,0.0007043914716044891,-0.0020771647198907887,0.0009978630726527515,1.8319821401125823e-05,0.00041070425553361783,0.0005473662450996393,0.0011421598878282434,0.0007793815757516413,0.0010457640425862542,0.00029811050189579254,-0.0015028161123117382,0.0006944979248265517,0.0019247921182296525,0.0006808124098175,-7.767724014026086e-05,-0.001671518972634069,-0.0022799066473883664,-0.0010909836265010195,0.0005161664584782968,0.0008952384834172087,-0.0013188745913952124,0.0015362033074987243,0.0002636347293671389,-0.0011636188991807292,0.0016047943900928045,0.0002010329556967723,-0.0010127575521640794,0.0010491154533395048,0.0008102394832841943,0.0011844891159196692,-0.000963162990844559,0.001593056987388864,-0.0019041448705971718,0.0006415633970120733,0.0013215437249559762,0.0005912503465132136,0.0016855598880206196,0.0015692998192390654,-0.0001296977905931577,0.00044520646186870904,-0.0004597536086490422,-0.001562035813238947,-0.00231655466776801,0.0007799161723901971,-7.682527980048987e-06,-0.00013183059194171073,0.00031617020669694076,-0.0009400597254900306,-0.00027296472253362115,-0.0011724183020910858,0.0007798051540200806,-0.00220287136290215,0.0008790496355321449,0.0021598358042421257,0.002076672436665436,-0.00038790780760994783,0.00043346314594117785,-1.8114678783807468e-05,0.0005917573353236389,-0.0020786544183711334,0.00031050721290370396,-0.0021325376652975444,0.00039530972111782083,0.00020513582497283552,0.0007813881106085636,0.001042829446874666,0.0009592902808662759,0.0004051440218304924,0.0009969615050040277,0.0020462422175485965,-0.0005528969461624678,0.00029557056610917683,0.0011465851325204743,0.0003953807220542341,0.0015926864787378348,0.0010635730098976764,0.001166189092918123,0.0003194766723501512,0.0008027476132203177,-0.0008506026866868409,0.0012980774683424418,0.002679181917188463,-0.00047711522600276925,7.697659658279692e-05,-0.0009581000399838638,-0.0001356850731506577,-0.002350246744201322,-0.00031225510127948306,0.0005447191421527124,-0.00022094022556808063,-8.618339511160883e-05,0.0006582287999086246,0.0007943218183317954,0.001056948998902182,-0.0017976587825740253,0.000667896923702437,-0.0006314002734667946,-0.0011923576095371187,0.000769876450517406,0.0004888865604897657,0.0008813570182313408,0.0009630533604528653,0.0008173007539363777,-0.0016202608953655398,0.0010808799899844107,0.0007076191924846912,9.696694326040333e-05,-0.00112684617562728,-0.0019461976455201673,0.0006698275875230512,0.00039303071298811126,0.0015831551496778033,0.0008389732765331946,0.0003003543153207707,0.001037404177809689,-0.00010971727619237345,0.0015475193981804405,0.0016453326405175615,-0.0011322083172882306,0.0010953282578569006,0.0008726809992410711,-0.0021516049597025276,-0.0025093232020012087,-3.5621928076557984e-05,-0.0011797318425108268,0.00043406374148697446,0.0008619561189236988,0.0005058048384440759,0.0009894848123960973,0.0009066925177851719,0.00010300797344408493,0.0016428257942297114,0.00029346080583500967,0.0003841849102823221,-0.0012247149436797392,0.0010961937455132504,-0.00036680824441775187,-0.0021931427264439357,0.0018746611179602584,0.002030407767373378,0.0015020413317344565,0.002073389063067852,0.001968337456372382,-0.002109459603993329,0.00021765514683979174,0.0012202545483787665,-0.0009571033081123733,0.0005572400051482878,0.00041992513038350117,-0.0019982496685427105,-0.0005480154362847852,0.0007853226758753608,-0.0012707336659773688,-0.002049957571064924,0.000145112646280396,0.00023740063979425726,0.0005761958777635377,0.0005506958042640647,0.00196593748769321,-0.0028554023729423198,0.0008444025771827626,0.0021642400484851317,-0.0002793312874848973,0.00041687156979778315,0.0009467771678142457,-0.0015961075042314125,0.00011884409037897484,0.0018162600508480845,-0.0014923329198969794,-0.0005494268794967484,0.001990194476524482,0.00034551911196978384,0.001433412277807034,-0.0020879769077067774,-0.0006045822086577821,0.0004939737191021939,0.0006896974907072376,0.0020321587586184255,0.0005302531108835797,0.00028302278802306907,0.0005132140471972482,0.001147329155069433,0.0010192239464451955,0.0003600896737573172,3.2272090338471816e-05,0.00048727069467794894,0.0015685149370881948,0.0002396899077990481,0.0006060915992362401,0.0005330818039827768,0.00018088085289196876,-0.0002939987779054723,0.0008547083531609181,0.0012219942122011075,-0.00016434035882409393,0.0008715949171164981,0.0012537977082050101,0.0007392563872915363,-0.0009574152979442939,0.0007658889854447328,0.000862062711902045,0.0003876755461448528,-0.002269469405988533,2.9340981593823026e-05,0.0009003315309909283,0.0006677576394118581,0.000987833462879149,0.0016675326932780654,0.0013811463155411422,0.0025941066234148307,0.00075660363468521,0.0007226138663373169,0.0013501769387586453,-0.002134388870476304,1.4135339135706491e-05,0.0005072632295300286,0.0015129546285849763,0.0006352060578715177,-0.0007848153966610052,-0.0010236003428821504,0.000857697648530844,0.001651144267475133,0.00013888153443419502,0.0011783169656387977,0.0010163314915713048,0.001254663140337455,-0.0017497021819922632,-0.0003749701228261252,3.137672229601732e-05,0.0005056637023685228,0.0003818278969051355,0.0010208840752001073,-0.00231202599080686,0.0007054557339417677,-0.0008802186312528783,-0.0007862307141810472,0.00030978253057882007,-0.00022664240193816568,0.00030877699150830534,8.123834716670326e-05,-0.00017005412150656677,0.0017986629909578482,0.0009332642121398732,0.0009530624823155364,2.160859402205262e-05,-0.0014488876109021859,0.0007484078297053442,-0.0018734397527675755,0.0008016347629429182,0.0004844323595877505,0.00046494007154416545,-0.0011139752219769812,0.001111045808290343,-0.0013714942739985689,-0.0018318273064586727,0.000693225923261408,-0.0009323164476785137,-0.0006400300611117214,0.0021693972126432997,-0.00014705373483032283,0.0010310446057040204,-0.0020605307092720726,5.793655584139833e-05,0.00018469979220001002,-0.0013685674122718555,0.000403626985810092,0.0006983027278209972,-0.0006376294940791033,0.0008176303689607373,-7.03789837477613e-05,0.00059463283253007,0.0016749668587362945,0.0008407405774703594,0.0008533626031805489,0.001950759546729463,-0.0018111639091437956,0.0012922980559222181,0.0005690569226815489,0.0009506756269571402,0.0006930233952427398,0.0008191463591939127,0.0005627139243181376,0.0010180977869536777,0.00021940162990875096,-0.0015305774362023867,0.00020669918203242588,0.0017905470877553305,0.002208216015153169,0.0017766429408855055,0.0008448215906965305,-0.002132504202436434,0.0006195311165490868,-0.0007207539955772219,0.0005427048131778399,-0.0006428127216931514,0.0007947531695956003,-1.2009983201178469e-05,0.000594632832530069,-0.0007225955057066588,-7.73212738169773e-05,-0.0002168609028755144,0.0002630273897314427,0.00024594341847054884,0.000680265709747289,-0.000323280323995508,0.002361238111140037,-0.0023531328142721865,0.00019633007166434418,-0.0018461115002771243,-0.0002992681127280591,-0.001062073205870409,0.0006430293954989445,0.002141146666963584,-0.001555353600141423,0.00258741629760583,0.00045155711060193706,-0.00011967644686486777,0.00052312374167432,0.0006690353061474158,-0.0011897184472805724,0.0006160064847893022,-0.0010939569960689277,0.0009045283495626344,0.00011582433612937582,0.002086010030633987,0.0010427161154483058,0.00036271984109837124,-0.0021462203989505682,0.000838032547213187,0.000105372475803384,-0.00017421529718340942,-0.0009206018708532012,-0.001241811493540293,-0.00016074017125351865,0.0008054003120005959,0.00087831446236724,0.0009205880146970355,0.0009048178619639548,-0.0009798867367808426,0.0005853482847198697,-0.0017031893300772142,0.000731444515092275,0.0006154979108271394,-0.0011061474561246552,-0.0008971784654721285,-0.000575915482623672,0.0005235710790439723,-0.0016217184294406233,0.0006937565654955964,-0.0007532032840536702,0.00024387191108062788,0.0005404886638462742,-0.0001467222209157028,0.0006811197038244344,0.0009901111082509712,0.0010289034790157718,0.0005304971246757945,-0.001058275693707807,-0.00081797431155753,-0.001067871371590286,-0.001274077969522933,0.0009167554007674995,-0.0003807076626088955,-0.002549765886006018,0.00010165375326674928,0.00011523243985095085,0.000577634744879844,0.0008005344252400064,0.0008565458933952493,0.00030337143819691916,-0.001777619859481847,0.0006293617045914413,0.0007526368564928932,-0.0017846641930441287,0.0001978011820669361,-0.0002646404749364639,-0.0010557387059763898,0.0013629952968283747,0.00021002050564611937,-0.002211454291220831,0.0019309292723387694,0.0009286997576626928,0.0024045255278137096,0.0008910845014457143,0.0005868660971326466,0.001118540013705019,-0.001089184015703527,0.002075712989219922,0.0012210810363964503,-0.0016262882805671002,0.001818307166266136,-0.0016078320832876225,0.000776757587842793,-8.327170226339282e-05,0.0011869241544630387,0.0004334003521743559,-0.001762875790572039,-0.00224281268238735,0.0027284763754949317,-0.0012643042805258063,-0.0008465687611894391,-0.0006181237975091143,0.0006338611545631163,-0.0024381129708654216,-0.0024011424789942377,0.0012348782003107133,0.00037198098400521563,0.0020295410039264366,-0.0018666341542636835,0.0009573021238299064,-0.000509559148845548,0.0004957095945872003,0.0005841037381290752,0.0007094063814220113,-0.001629515585730782,0.0007488603527808556,0.0008087630384493881,0.0002183203230392556,0.002786103025146045,-0.0018257636816679306,0.00040177737835266314,0.0007961687402396877,0.0007186564293993837,-0.001457851786043035,-0.0006249242535128869,0.0006313566861957349,0.0007029063252327647,-0.0020241416765965333,0.0008069747030074866,0.0008629337885679494,0.0016460281131580655,0.002166725108893994,0.0009275651559748598,0.0005738601391611173,-6.407275654512617e-05,0.0007031229618692786,0.0008330449179760054,0.0007776793358599567,0.0009200588249320479,-0.001339366785966424,-0.0015524785938987444,0.0013375030920705197,0.0003843233700597193,0.00031063000701017337,-0.0012265732802615257,0.0010600624177213207,0.000605285874208378,-0.0016819160423642788,0.0005876142049438988,0.0004917576382505244,0.000567892015444471,0.0008761174567281408,7.676457199312955e-05,-0.0007615505729832498,0.0006924451974253636,0.0010611178799158599,-9.39694736942062e-05,0.0006325894356116701,0.0005211929490913119,-0.0024252756723215597,0.0010820725648105166,-0.002135749097005872,0.0004730992551922099,0.0012659549761439876,0.00014666881927524451,0.0006886120482154184,-0.0022046792131299943,0.0006005458478099797,-4.464814107208004e-05,0.00046206523493380126,0.0009105966426726766,0.0005727339984365294,-0.0013780752126230185,0.000324744952341997,0.0009527289842090853,-0.0016437507810765988,0.0009749167971262537,-0.0023111141693579283,-0.001339347637772223,0.0014126447701220013,0.00029124434649037146,0.0005947277382374317,-0.0012096862659910226,-0.0035955674192607976,0.001404061873591567,-0.0018161343530886274,-0.08878493959414198,-0.060649986919816164,-0.01680485191975551,-0.004832860778934121,0.004546672275445042,0.01661243367339578,-0.022184379558269247,0.021177103550837795,-0.037445303875761976,0.024014849570995693,0.009523698915933628,0.028065600586408654,0.032587770756239275,-0.02483349330356382,-0.008050733622838405,0.03289977554991326,0.011109804667210633,0.0005249662724121299,0.01820213002989398,-0.007010521486580202,0.01892984623414754,-0.012114141398204641,-0.002224472288259791,0.006033272586487404,0.02614563951829078,0.01075965971743755,-0.019419827753844213,0.002669594163644058,0.002124137683704293,-0.0030379681986642984,-0.0003295915413015058,-0.0009978885784134115,0.012000354221972405,-0.0029916557887062663,0.0016276217739924494,0.0012013530403632204,-0.005638263577285946,-0.0011888436562995965,0.004088027661751279,0.0005520498654407005,7.2362399661996e-05,-0.0008457674666367277,-0.006251340279293829,0.000776415252878632,0.003981598338179297,-0.004594004139464992,-0.0016674508984587005,-0.007229078048462141,-0.0024885200825620016,-0.005549894799159531,0.0015228879416643868,0.0033324334828882286])\n",
            "The Intercept of the model is :  0.7866743401626507\n"
          ]
        }
      ]
    },
    {
      "cell_type": "code",
      "source": [
        "#Root Mean Square Error\n",
        "eval_lr = RegressionEvaluator(labelCol=\"Stop_num\", predictionCol=\"prediction\", metricName=\"rmse\")\n",
        "rmse_lr = eval_lr.evaluate(y_pred)\n",
        "print(\"RMSE: %.3f\" % rmse_lr)\n",
        "\n",
        "# Mean Square Error\n",
        "mse = eval_lr.evaluate(y_pred, {eval_lr.metricName: \"mse\"})\n",
        "print(\"MSE: %.3f\" % mse)\n",
        "\n",
        "# Mean Absolute Error\n",
        "mae = eval_lr.evaluate(y_pred, {eval_lr.metricName: \"mae\"})\n",
        "print(\"MAE: %.3f\" % mae)\n",
        "\n",
        "# r2 - coefficient of determination\n",
        "r2 = eval_lr.evaluate(y_pred, {eval_lr.metricName: \"r2\"})\n",
        "print(\"r2: %.3f\" %r2)"
      ],
      "metadata": {
        "colab": {
          "base_uri": "https://localhost:8080/"
        },
        "id": "bwZf1S0poUEH",
        "outputId": "6b0f3ec8-b274-48c4-ca5b-2080e93fdeba"
      },
      "execution_count": 56,
      "outputs": [
        {
          "output_type": "stream",
          "name": "stderr",
          "text": []
        },
        {
          "output_type": "stream",
          "name": "stdout",
          "text": [
            "RMSE: 0.962\n",
            "MSE: 0.926\n",
            "MAE: 0.802\n",
            "r2: -41.722\n"
          ]
        }
      ]
    }
  ]
}