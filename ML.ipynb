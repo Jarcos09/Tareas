{
  "nbformat": 4,
  "nbformat_minor": 0,
  "metadata": {
    "colab": {
      "provenance": [],
      "mount_file_id": "1Jab2DUXez4z1kx-o-Btc9jKPcoslob_t",
      "authorship_tag": "ABX9TyMTOgMy37own5nCJGUy+x+o",
      "include_colab_link": true
    },
    "kernelspec": {
      "name": "python3",
      "display_name": "Python 3"
    },
    "language_info": {
      "name": "python"
    }
  },
  "cells": [
    {
      "cell_type": "markdown",
      "metadata": {
        "id": "view-in-github",
        "colab_type": "text"
      },
      "source": [
        "<a href=\"https://colab.research.google.com/github/Jarcos09/Tareas/blob/main/ML.ipynb\" target=\"_parent\"><img src=\"https://colab.research.google.com/assets/colab-badge.svg\" alt=\"Open In Colab\"/></a>"
      ]
    },
    {
      "cell_type": "markdown",
      "source": [
        "# 🎓 **Inteligencia Artificial Aplicada**\n",
        "\n",
        "## 🤖 **Análisis de grandes volúmenes de datos (Gpo 10)**\n",
        "\n",
        "### 🏛️ Tecnológico de Monterrey\n",
        "\n",
        "#### 👨‍🏫 **Profesor titular :** Dr. Iván Olmos Pineda\n",
        "#### 👩‍🏫 **Profesor asistente :** Verónica Sandra Guzmán de Valle\n",
        "\n",
        "### 📊 **Proyecto | Base de Datos de Big Data**\n",
        "\n",
        "#### 📅 **04 de mayo de 2025**\n",
        "\n",
        "* 🧑‍💻 **A01795941 :** Juan Carlos Pérez Nava\n",
        "\n",
        "\n"
      ],
      "metadata": {
        "id": "XLo2RHbqcPHa"
      }
    },
    {
      "cell_type": "code",
      "source": [
        "import os\n",
        "import sys\n",
        "module_path = os.path.abspath(os.path.join('proyectos/librerias'))\n",
        "if module_path not in sys.path:\n",
        "    sys.path.append(module_path)\n",
        "from graficas import *\n",
        "\n",
        "from pyspark.sql import SparkSession, DataFrame\n",
        "from pyspark.sql.functions import col, sum, avg, lit, count, when, format_number, round, rand\n",
        "from pyspark.ml.feature import StringIndexer, OneHotEncoder\n",
        "from pyspark.ml.feature import QuantileDiscretizer\n",
        "from pyspark.ml.feature import VectorAssembler, StandardScaler\n",
        "from pyspark.ml.evaluation import RegressionEvaluator\n",
        "from pyspark.ml.regression import LinearRegression\n",
        "from pyspark.ml.feature import Imputer\n",
        "\n",
        "import matplotlib.pyplot as plt\n",
        "import seaborn as sns\n",
        "import kagglehub\n",
        "\n",
        "import pandas as pd\n",
        "\n",
        "\n",
        "from functools import reduce"
      ],
      "metadata": {
        "id": "lNK_005tHX9o"
      },
      "execution_count": 31,
      "outputs": []
    },
    {
      "cell_type": "code",
      "source": [
        "path = kagglehub.dataset_download(\"sobhanmoosavi/us-accidents\")\n",
        "print(\"Path to dataset files:\", path)"
      ],
      "metadata": {
        "colab": {
          "base_uri": "https://localhost:8080/"
        },
        "id": "j7RDNtCfV_j8",
        "outputId": "9530c58e-b4b5-4612-fd54-090888636dbe"
      },
      "execution_count": 32,
      "outputs": [
        {
          "output_type": "stream",
          "name": "stdout",
          "text": [
            "Path to dataset files: /home/jarcos/.cache/kagglehub/datasets/sobhanmoosavi/us-accidents/versions/13\n"
          ]
        }
      ]
    },
    {
      "cell_type": "code",
      "source": [
        "spark = SparkSession.builder.master(\"local[*]\").appName(\"CargarCSV\").config(\"spark.driver.memory\", \"40g\").config(\"spark.executor.memory\", \"20g\").getOrCreate()\n",
        "df_accident = spark.read.option(\"header\", True).option(\"inferSchema\", True).csv(path)\n",
        "spark.sparkContext.setLogLevel(\"ERROR\")"
      ],
      "metadata": {
        "colab": {
          "base_uri": "https://localhost:8080/"
        },
        "id": "KzhCy58rgjX1",
        "outputId": "26d34d19-aba6-46bb-9485-93560ccf88b2"
      },
      "execution_count": 33,
      "outputs": [
        {
          "output_type": "stream",
          "name": "stderr",
          "text": []
        }
      ]
    },
    {
      "cell_type": "code",
      "source": [
        "df_accident.show(5)"
      ],
      "metadata": {
        "colab": {
          "base_uri": "https://localhost:8080/"
        },
        "id": "97uEFSF5t4A0",
        "outputId": "b6c1c50c-9969-46a6-ec1a-1acbacfd9eb3"
      },
      "execution_count": 34,
      "outputs": [
        {
          "output_type": "stream",
          "name": "stdout",
          "text": [
            "+---+-------+--------+-------------------+-------------------+-----------------+------------------+-------+-------+------------+--------------------+--------------------+------------+----------+-----+----------+-------+----------+------------+-------------------+--------------+-------------+-----------+------------+--------------+--------------+---------------+-----------------+-----------------+-------+-----+--------+--------+--------+-------+-------+----------+-------+-----+---------------+--------------+------------+--------------+--------------+-----------------+---------------------+\n",
            "| ID| Source|Severity|         Start_Time|           End_Time|        Start_Lat|         Start_Lng|End_Lat|End_Lng|Distance(mi)|         Description|              Street|        City|    County|State|   Zipcode|Country|  Timezone|Airport_Code|  Weather_Timestamp|Temperature(F)|Wind_Chill(F)|Humidity(%)|Pressure(in)|Visibility(mi)|Wind_Direction|Wind_Speed(mph)|Precipitation(in)|Weather_Condition|Amenity| Bump|Crossing|Give_Way|Junction|No_Exit|Railway|Roundabout|Station| Stop|Traffic_Calming|Traffic_Signal|Turning_Loop|Sunrise_Sunset|Civil_Twilight|Nautical_Twilight|Astronomical_Twilight|\n",
            "+---+-------+--------+-------------------+-------------------+-----------------+------------------+-------+-------+------------+--------------------+--------------------+------------+----------+-----+----------+-------+----------+------------+-------------------+--------------+-------------+-----------+------------+--------------+--------------+---------------+-----------------+-----------------+-------+-----+--------+--------+--------+-------+-------+----------+-------+-----+---------------+--------------+------------+--------------+--------------+-----------------+---------------------+\n",
            "|A-1|Source2|       3|2016-02-08 05:46:00|2016-02-08 11:00:00|        39.865147|        -84.058723|   NULL|   NULL|        0.01|Right lane blocke...|              I-70 E|      Dayton|Montgomery|   OH|     45424|     US|US/Eastern|        KFFO|2016-02-08 05:58:00|          36.9|         NULL|       91.0|       29.68|          10.0|          Calm|           NULL|             0.02|       Light Rain|  false|false|   false|   false|   false|  false|  false|     false|  false|false|          false|         false|       false|         Night|         Night|            Night|                Night|\n",
            "|A-2|Source2|       2|2016-02-08 06:07:59|2016-02-08 06:37:59|39.92805900000001|        -82.831184|   NULL|   NULL|        0.01|Accident on Brice...|            Brice Rd|Reynoldsburg|  Franklin|   OH|43068-3402|     US|US/Eastern|        KCMH|2016-02-08 05:51:00|          37.9|         NULL|      100.0|       29.65|          10.0|          Calm|           NULL|              0.0|       Light Rain|  false|false|   false|   false|   false|  false|  false|     false|  false|false|          false|         false|       false|         Night|         Night|            Night|                  Day|\n",
            "|A-3|Source2|       2|2016-02-08 06:49:27|2016-02-08 07:19:27|        39.063148|        -84.032608|   NULL|   NULL|        0.01|Accident on OH-32...|      State Route 32|Williamsburg|  Clermont|   OH|     45176|     US|US/Eastern|        KI69|2016-02-08 06:56:00|          36.0|         33.3|      100.0|       29.67|          10.0|            SW|            3.5|             NULL|         Overcast|  false|false|   false|   false|   false|  false|  false|     false|  false|false|          false|          true|       false|         Night|         Night|              Day|                  Day|\n",
            "|A-4|Source2|       3|2016-02-08 07:23:34|2016-02-08 07:53:34|        39.747753|-84.20558199999998|   NULL|   NULL|        0.01|Accident on I-75 ...|              I-75 S|      Dayton|Montgomery|   OH|     45417|     US|US/Eastern|        KDAY|2016-02-08 07:38:00|          35.1|         31.0|       96.0|       29.64|           9.0|            SW|            4.6|             NULL|    Mostly Cloudy|  false|false|   false|   false|   false|  false|  false|     false|  false|false|          false|         false|       false|         Night|           Day|              Day|                  Day|\n",
            "|A-5|Source2|       2|2016-02-08 07:39:07|2016-02-08 08:09:07|        39.627781|        -84.188354|   NULL|   NULL|        0.01|Accident on McEwe...|Miamisburg Center...|      Dayton|Montgomery|   OH|     45459|     US|US/Eastern|        KMGY|2016-02-08 07:53:00|          36.0|         33.3|       89.0|       29.65|           6.0|            SW|            3.5|             NULL|    Mostly Cloudy|  false|false|   false|   false|   false|  false|  false|     false|  false|false|          false|          true|       false|           Day|           Day|              Day|                  Day|\n",
            "+---+-------+--------+-------------------+-------------------+-----------------+------------------+-------+-------+------------+--------------------+--------------------+------------+----------+-----+----------+-------+----------+------------+-------------------+--------------+-------------+-----------+------------+--------------+--------------+---------------+-----------------+-----------------+-------+-----+--------+--------+--------+-------+-------+----------+-------+-----+---------------+--------------+------------+--------------+--------------+-----------------+---------------------+\n",
            "only showing top 5 rows\n",
            "\n"
          ]
        }
      ]
    },
    {
      "cell_type": "markdown",
      "source": [
        "**Obtención de las estadísticas descriptivas de las características categóricas**"
      ],
      "metadata": {
        "id": "A8garbrA7wu6"
      }
    },
    {
      "cell_type": "markdown",
      "source": [
        "# Particionamiento\n",
        "\n",
        "El particionamiento del conjunto de datos se basa en las condiciones climáticas y la severidad del accidente, dividiéndolo en múltiples subconjuntos según combinaciones específicas de estas características."
      ],
      "metadata": {
        "id": "BZDsQ0zuhJRD"
      }
    },
    {
      "cell_type": "code",
      "source": [
        "columnas_clave = [\n",
        "    \"ID\", \"Weather_Condition\",\"Precipitation(in)\",\"Severity\", \"City\", \"State\",\n",
        "    \"Temperature(F)\", \"Humidity(%)\", \"Visibility(mi)\",\"Wind_Direction\",\"Wind_Speed(mph)\",\"Crossing\",\"Junction\",\"Railway\",\n",
        "    \"Roundabout\",\"Stop\",\"Sunrise_Sunset\",\"Traffic_Calming\",\"Traffic_Signal\"]\n",
        "\n",
        "total = df_accident.count()\n",
        "\n",
        "combinaciones_top = df_accident.groupBy(\"Weather_Condition\", \"Severity\") \\\n",
        "    .agg(count(\"*\").alias(\"Frecuencia\")) \\\n",
        "    .withColumn(\"Proporción\", col(\"Frecuencia\") / total) \\\n",
        "    .orderBy(col(\"Proporción\").desc())\n",
        "\n",
        "combinaciones_top = combinaciones_top.withColumn(\"Frecuencia\", col(\"Frecuencia\"))  \\\n",
        "    .withColumn(\"Proporción\", col(\"Proporción\")*100)\n",
        "\n",
        "df_particionada = df_accident.select(columnas_clave)\n",
        "df_particionada.write.mode(\"overwrite\").partitionBy(\"Weather_Condition\",\"Severity\").parquet(\"us_accidents_partitioned\")\n",
        "\n",
        "combinaciones_top.show(10, truncate=False)\n",
        "\n"
      ],
      "metadata": {
        "colab": {
          "base_uri": "https://localhost:8080/"
        },
        "id": "90X1Pa19yCZP",
        "outputId": "7d2c546f-d7d9-49a7-c304-e28ad1c4987b"
      },
      "execution_count": 35,
      "outputs": [
        {
          "output_type": "stream",
          "name": "stderr",
          "text": []
        },
        {
          "output_type": "stream",
          "name": "stdout",
          "text": [
            "+-----------------+--------+----------+------------------+\n",
            "|Weather_Condition|Severity|Frecuencia|Proporción        |\n",
            "+-----------------+--------+----------+------------------+\n",
            "|Fair             |2       |2226576   |28.810332392473782|\n",
            "|Mostly Cloudy    |2       |792735    |10.25743511523869 |\n",
            "|Cloudy           |2       |692929    |8.966015449005317 |\n",
            "|Partly Cloudy    |2       |548760    |7.1005696655734685|\n",
            "|Clear            |2       |536971    |6.948028270815386 |\n",
            "|Light Rain       |2       |270162    |3.495706870017238 |\n",
            "|Overcast         |2       |248938    |3.22108319011686  |\n",
            "|Clear            |3       |244956    |3.1695589018882835|\n",
            "|Fair             |3       |240084    |3.1065186376367455|\n",
            "|Mostly Cloudy    |3       |189229    |2.4484905919651614|\n",
            "+-----------------+--------+----------+------------------+\n",
            "only showing top 10 rows\n",
            "\n"
          ]
        },
        {
          "output_type": "stream",
          "name": "stderr",
          "text": [
            "\r                                                                                \r"
          ]
        }
      ]
    },
    {
      "cell_type": "code",
      "source": [
        "max_reg = 1000\n",
        "\n",
        "# Filtrar las filas\n",
        "combinaciones_filtradas = combinaciones_top.filter(col(\"Frecuencia\") >= max_reg)\n",
        "\n",
        "# Si hay datos, guardarlos en un vector\n",
        "particiones = combinaciones_filtradas.select(\"Weather_Condition\", \"Severity\").collect()\n",
        "\n",
        "# Mostrar el resultado\n",
        "\n",
        "print(f'✅ Se identificaron \\033[32m\\033[1m{len(particiones)}\\033[0m particiones que contienen más de \\033[36m{max_reg}\\033[0m registros.')"
      ],
      "metadata": {
        "colab": {
          "base_uri": "https://localhost:8080/"
        },
        "id": "D7nfphRPbPN3",
        "outputId": "50f1a383-6b67-45f6-f261-e43804c8e059"
      },
      "execution_count": 36,
      "outputs": [
        {
          "output_type": "stream",
          "name": "stdout",
          "text": [
            "✅ Se identificaron \u001b[32m\u001b[1m95\u001b[0m particiones que contienen más de \u001b[36m1000\u001b[0m registros.\n"
          ]
        }
      ]
    },
    {
      "cell_type": "code",
      "source": [
        "muestras = 500\n",
        "contador_total = 0\n",
        "semilla = 450\n",
        "\n",
        "# Crear un DataFrame vacío con la misma estructura\n",
        "df_muestras = spark.createDataFrame([], df_particionada.schema)\n",
        "lista_muestras = []\n",
        "\n",
        "for particion in particiones:\n",
        "\n",
        "    contador_total += 1\n",
        "    weather = particion[\"Weather_Condition\"]\n",
        "    severity = particion[\"Severity\"]\n",
        "\n",
        "    print(f\"Extrayendo Partición #\\033[32m\\033[1m{contador_total:03}\\033[0m | 🌦 Weather: \\033[1;36m{weather}\\033[0m | ⚠ Severity: \\033[1;36m{severity}\\033[0m\")\n",
        "\n",
        "    # Filtrar correctamente la partición\n",
        "    df_filtrada = df_particionada.filter((col(\"Weather_Condition\") == weather) & (col(\"Severity\") == severity))\n",
        "\n",
        "    # Limitar registros\n",
        "    df_rand = df_filtrada.orderBy(rand(semilla)).limit(muestras)\n",
        "\n",
        "    lista_muestras.append(df_rand)\n",
        "\n",
        "df_muestras = lista_muestras[0]  # Inicializamos con el primer DataFrame\n",
        "\n",
        "for df in lista_muestras[1:]:\n",
        "    df_muestras = df_muestras.union(df)\n",
        "\n",
        "# **Optimizar con persistencia**\n",
        "df_muestras = df_muestras.persist().coalesce(8)\n",
        "\n",
        "# Contar los registros en el nuevo DataFrame\n",
        "contador_total = df_muestras.count()\n",
        "\n",
        "\n",
        "print(f\"Total de registros obtenidos en la muestra: \\033[32m\\033[1m{contador_total}\\033[0m\")"
      ],
      "metadata": {
        "colab": {
          "base_uri": "https://localhost:8080/"
        },
        "id": "r0ZXtzjReRcH",
        "outputId": "53931924-37cc-40c7-98d3-519b209de189"
      },
      "execution_count": 37,
      "outputs": [
        {
          "output_type": "stream",
          "name": "stdout",
          "text": [
            "Extrayendo Partición #\u001b[32m\u001b[1m001\u001b[0m | 🌦 Weather: \u001b[1;36mFair\u001b[0m | ⚠ Severity: \u001b[1;36m2\u001b[0m\n",
            "Extrayendo Partición #\u001b[32m\u001b[1m002\u001b[0m | 🌦 Weather: \u001b[1;36mMostly Cloudy\u001b[0m | ⚠ Severity: \u001b[1;36m2\u001b[0m\n",
            "Extrayendo Partición #\u001b[32m\u001b[1m003\u001b[0m | 🌦 Weather: \u001b[1;36mCloudy\u001b[0m | ⚠ Severity: \u001b[1;36m2\u001b[0m\n",
            "Extrayendo Partición #\u001b[32m\u001b[1m004\u001b[0m | 🌦 Weather: \u001b[1;36mPartly Cloudy\u001b[0m | ⚠ Severity: \u001b[1;36m2\u001b[0m\n",
            "Extrayendo Partición #\u001b[32m\u001b[1m005\u001b[0m | 🌦 Weather: \u001b[1;36mClear\u001b[0m | ⚠ Severity: \u001b[1;36m2\u001b[0m\n",
            "Extrayendo Partición #\u001b[32m\u001b[1m006\u001b[0m | 🌦 Weather: \u001b[1;36mLight Rain\u001b[0m | ⚠ Severity: \u001b[1;36m2\u001b[0m\n",
            "Extrayendo Partición #\u001b[32m\u001b[1m007\u001b[0m | 🌦 Weather: \u001b[1;36mOvercast\u001b[0m | ⚠ Severity: \u001b[1;36m2\u001b[0m\n",
            "Extrayendo Partición #\u001b[32m\u001b[1m008\u001b[0m | 🌦 Weather: \u001b[1;36mClear\u001b[0m | ⚠ Severity: \u001b[1;36m3\u001b[0m\n",
            "Extrayendo Partición #\u001b[32m\u001b[1m009\u001b[0m | 🌦 Weather: \u001b[1;36mFair\u001b[0m | ⚠ Severity: \u001b[1;36m3\u001b[0m\n",
            "Extrayendo Partición #\u001b[32m\u001b[1m010\u001b[0m | 🌦 Weather: \u001b[1;36mMostly Cloudy\u001b[0m | ⚠ Severity: \u001b[1;36m3\u001b[0m\n",
            "Extrayendo Partición #\u001b[32m\u001b[1m011\u001b[0m | 🌦 Weather: \u001b[1;36mNone\u001b[0m | ⚠ Severity: \u001b[1;36m2\u001b[0m\n",
            "Extrayendo Partición #\u001b[32m\u001b[1m012\u001b[0m | 🌦 Weather: \u001b[1;36mScattered Clouds\u001b[0m | ⚠ Severity: \u001b[1;36m2\u001b[0m\n",
            "Extrayendo Partición #\u001b[32m\u001b[1m013\u001b[0m | 🌦 Weather: \u001b[1;36mPartly Cloudy\u001b[0m | ⚠ Severity: \u001b[1;36m3\u001b[0m\n",
            "Extrayendo Partición #\u001b[32m\u001b[1m014\u001b[0m | 🌦 Weather: \u001b[1;36mOvercast\u001b[0m | ⚠ Severity: \u001b[1;36m3\u001b[0m\n",
            "Extrayendo Partición #\u001b[32m\u001b[1m015\u001b[0m | 🌦 Weather: \u001b[1;36mLight Snow\u001b[0m | ⚠ Severity: \u001b[1;36m2\u001b[0m\n",
            "Extrayendo Partición #\u001b[32m\u001b[1m016\u001b[0m | 🌦 Weather: \u001b[1;36mCloudy\u001b[0m | ⚠ Severity: \u001b[1;36m3\u001b[0m\n",
            "Extrayendo Partición #\u001b[32m\u001b[1m017\u001b[0m | 🌦 Weather: \u001b[1;36mFog\u001b[0m | ⚠ Severity: \u001b[1;36m2\u001b[0m\n",
            "Extrayendo Partición #\u001b[32m\u001b[1m018\u001b[0m | 🌦 Weather: \u001b[1;36mLight Rain\u001b[0m | ⚠ Severity: \u001b[1;36m3\u001b[0m\n",
            "Extrayendo Partición #\u001b[32m\u001b[1m019\u001b[0m | 🌦 Weather: \u001b[1;36mScattered Clouds\u001b[0m | ⚠ Severity: \u001b[1;36m3\u001b[0m\n",
            "Extrayendo Partición #\u001b[32m\u001b[1m020\u001b[0m | 🌦 Weather: \u001b[1;36mRain\u001b[0m | ⚠ Severity: \u001b[1;36m2\u001b[0m\n",
            "Extrayendo Partición #\u001b[32m\u001b[1m021\u001b[0m | 🌦 Weather: \u001b[1;36mHaze\u001b[0m | ⚠ Severity: \u001b[1;36m2\u001b[0m\n",
            "Extrayendo Partición #\u001b[32m\u001b[1m022\u001b[0m | 🌦 Weather: \u001b[1;36mFair\u001b[0m | ⚠ Severity: \u001b[1;36m4\u001b[0m\n",
            "Extrayendo Partición #\u001b[32m\u001b[1m023\u001b[0m | 🌦 Weather: \u001b[1;36mFair\u001b[0m | ⚠ Severity: \u001b[1;36m1\u001b[0m\n",
            "Extrayendo Partición #\u001b[32m\u001b[1m024\u001b[0m | 🌦 Weather: \u001b[1;36mFair / Windy\u001b[0m | ⚠ Severity: \u001b[1;36m2\u001b[0m\n",
            "Extrayendo Partición #\u001b[32m\u001b[1m025\u001b[0m | 🌦 Weather: \u001b[1;36mNone\u001b[0m | ⚠ Severity: \u001b[1;36m3\u001b[0m\n",
            "Extrayendo Partición #\u001b[32m\u001b[1m026\u001b[0m | 🌦 Weather: \u001b[1;36mClear\u001b[0m | ⚠ Severity: \u001b[1;36m4\u001b[0m\n",
            "Extrayendo Partición #\u001b[32m\u001b[1m027\u001b[0m | 🌦 Weather: \u001b[1;36mHeavy Rain\u001b[0m | ⚠ Severity: \u001b[1;36m2\u001b[0m\n",
            "Extrayendo Partición #\u001b[32m\u001b[1m028\u001b[0m | 🌦 Weather: \u001b[1;36mMostly Cloudy\u001b[0m | ⚠ Severity: \u001b[1;36m4\u001b[0m\n",
            "Extrayendo Partición #\u001b[32m\u001b[1m029\u001b[0m | 🌦 Weather: \u001b[1;36mCloudy\u001b[0m | ⚠ Severity: \u001b[1;36m4\u001b[0m\n",
            "Extrayendo Partición #\u001b[32m\u001b[1m030\u001b[0m | 🌦 Weather: \u001b[1;36mLight Snow\u001b[0m | ⚠ Severity: \u001b[1;36m3\u001b[0m\n",
            "Extrayendo Partición #\u001b[32m\u001b[1m031\u001b[0m | 🌦 Weather: \u001b[1;36mRain\u001b[0m | ⚠ Severity: \u001b[1;36m3\u001b[0m\n",
            "Extrayendo Partición #\u001b[32m\u001b[1m032\u001b[0m | 🌦 Weather: \u001b[1;36mLight Drizzle\u001b[0m | ⚠ Severity: \u001b[1;36m2\u001b[0m\n",
            "Extrayendo Partición #\u001b[32m\u001b[1m033\u001b[0m | 🌦 Weather: \u001b[1;36mPartly Cloudy\u001b[0m | ⚠ Severity: \u001b[1;36m4\u001b[0m\n",
            "Extrayendo Partición #\u001b[32m\u001b[1m034\u001b[0m | 🌦 Weather: \u001b[1;36mThunder in the Vicinity\u001b[0m | ⚠ Severity: \u001b[1;36m2\u001b[0m\n",
            "Extrayendo Partición #\u001b[32m\u001b[1m035\u001b[0m | 🌦 Weather: \u001b[1;36mCloudy / Windy\u001b[0m | ⚠ Severity: \u001b[1;36m2\u001b[0m\n",
            "Extrayendo Partición #\u001b[32m\u001b[1m036\u001b[0m | 🌦 Weather: \u001b[1;36mHaze\u001b[0m | ⚠ Severity: \u001b[1;36m3\u001b[0m\n",
            "Extrayendo Partición #\u001b[32m\u001b[1m037\u001b[0m | 🌦 Weather: \u001b[1;36mOvercast\u001b[0m | ⚠ Severity: \u001b[1;36m4\u001b[0m\n",
            "Extrayendo Partición #\u001b[32m\u001b[1m038\u001b[0m | 🌦 Weather: \u001b[1;36mMostly Cloudy / Windy\u001b[0m | ⚠ Severity: \u001b[1;36m2\u001b[0m\n",
            "Extrayendo Partición #\u001b[32m\u001b[1m039\u001b[0m | 🌦 Weather: \u001b[1;36mT-Storm\u001b[0m | ⚠ Severity: \u001b[1;36m2\u001b[0m\n",
            "Extrayendo Partición #\u001b[32m\u001b[1m040\u001b[0m | 🌦 Weather: \u001b[1;36mSnow\u001b[0m | ⚠ Severity: \u001b[1;36m2\u001b[0m\n",
            "Extrayendo Partición #\u001b[32m\u001b[1m041\u001b[0m | 🌦 Weather: \u001b[1;36mThunder\u001b[0m | ⚠ Severity: \u001b[1;36m2\u001b[0m\n",
            "Extrayendo Partición #\u001b[32m\u001b[1m042\u001b[0m | 🌦 Weather: \u001b[1;36mLight Rain with Thunder\u001b[0m | ⚠ Severity: \u001b[1;36m2\u001b[0m\n",
            "Extrayendo Partición #\u001b[32m\u001b[1m043\u001b[0m | 🌦 Weather: \u001b[1;36mMostly Cloudy\u001b[0m | ⚠ Severity: \u001b[1;36m1\u001b[0m\n",
            "Extrayendo Partición #\u001b[32m\u001b[1m044\u001b[0m | 🌦 Weather: \u001b[1;36mSmoke\u001b[0m | ⚠ Severity: \u001b[1;36m2\u001b[0m\n",
            "Extrayendo Partición #\u001b[32m\u001b[1m045\u001b[0m | 🌦 Weather: \u001b[1;36mWintry Mix\u001b[0m | ⚠ Severity: \u001b[1;36m2\u001b[0m\n",
            "Extrayendo Partición #\u001b[32m\u001b[1m046\u001b[0m | 🌦 Weather: \u001b[1;36mFog\u001b[0m | ⚠ Severity: \u001b[1;36m3\u001b[0m\n",
            "Extrayendo Partición #\u001b[32m\u001b[1m047\u001b[0m | 🌦 Weather: \u001b[1;36mLight Rain\u001b[0m | ⚠ Severity: \u001b[1;36m4\u001b[0m\n",
            "Extrayendo Partición #\u001b[32m\u001b[1m048\u001b[0m | 🌦 Weather: \u001b[1;36mPartly Cloudy / Windy\u001b[0m | ⚠ Severity: \u001b[1;36m2\u001b[0m\n",
            "Extrayendo Partición #\u001b[32m\u001b[1m049\u001b[0m | 🌦 Weather: \u001b[1;36mCloudy\u001b[0m | ⚠ Severity: \u001b[1;36m1\u001b[0m\n",
            "Extrayendo Partición #\u001b[32m\u001b[1m050\u001b[0m | 🌦 Weather: \u001b[1;36mHeavy T-Storm\u001b[0m | ⚠ Severity: \u001b[1;36m2\u001b[0m\n",
            "Extrayendo Partición #\u001b[32m\u001b[1m051\u001b[0m | 🌦 Weather: \u001b[1;36mNone\u001b[0m | ⚠ Severity: \u001b[1;36m4\u001b[0m\n",
            "Extrayendo Partición #\u001b[32m\u001b[1m052\u001b[0m | 🌦 Weather: \u001b[1;36mHeavy Rain\u001b[0m | ⚠ Severity: \u001b[1;36m3\u001b[0m\n",
            "Extrayendo Partición #\u001b[32m\u001b[1m053\u001b[0m | 🌦 Weather: \u001b[1;36mPartly Cloudy\u001b[0m | ⚠ Severity: \u001b[1;36m1\u001b[0m\n",
            "Extrayendo Partición #\u001b[32m\u001b[1m054\u001b[0m | 🌦 Weather: \u001b[1;36mLight Rain / Windy\u001b[0m | ⚠ Severity: \u001b[1;36m2\u001b[0m\n",
            "Extrayendo Partición #\u001b[32m\u001b[1m055\u001b[0m | 🌦 Weather: \u001b[1;36mLight Snow / Windy\u001b[0m | ⚠ Severity: \u001b[1;36m2\u001b[0m\n",
            "Extrayendo Partición #\u001b[32m\u001b[1m056\u001b[0m | 🌦 Weather: \u001b[1;36mScattered Clouds\u001b[0m | ⚠ Severity: \u001b[1;36m4\u001b[0m\n",
            "Extrayendo Partición #\u001b[32m\u001b[1m057\u001b[0m | 🌦 Weather: \u001b[1;36mLight Snow\u001b[0m | ⚠ Severity: \u001b[1;36m4\u001b[0m\n",
            "Extrayendo Partición #\u001b[32m\u001b[1m058\u001b[0m | 🌦 Weather: \u001b[1;36mLight Drizzle\u001b[0m | ⚠ Severity: \u001b[1;36m3\u001b[0m\n",
            "Extrayendo Partición #\u001b[32m\u001b[1m059\u001b[0m | 🌦 Weather: \u001b[1;36mHeavy Snow\u001b[0m | ⚠ Severity: \u001b[1;36m2\u001b[0m\n",
            "Extrayendo Partición #\u001b[32m\u001b[1m060\u001b[0m | 🌦 Weather: \u001b[1;36mDrizzle\u001b[0m | ⚠ Severity: \u001b[1;36m2\u001b[0m\n",
            "Extrayendo Partición #\u001b[32m\u001b[1m061\u001b[0m | 🌦 Weather: \u001b[1;36mFair / Windy\u001b[0m | ⚠ Severity: \u001b[1;36m3\u001b[0m\n",
            "Extrayendo Partición #\u001b[32m\u001b[1m062\u001b[0m | 🌦 Weather: \u001b[1;36mPatches of Fog\u001b[0m | ⚠ Severity: \u001b[1;36m2\u001b[0m\n",
            "Extrayendo Partición #\u001b[32m\u001b[1m063\u001b[0m | 🌦 Weather: \u001b[1;36mN/A Precipitation\u001b[0m | ⚠ Severity: \u001b[1;36m2\u001b[0m\n",
            "Extrayendo Partición #\u001b[32m\u001b[1m064\u001b[0m | 🌦 Weather: \u001b[1;36mLight Thunderstorms and Rain\u001b[0m | ⚠ Severity: \u001b[1;36m2\u001b[0m\n",
            "Extrayendo Partición #\u001b[32m\u001b[1m065\u001b[0m | 🌦 Weather: \u001b[1;36mT-Storm\u001b[0m | ⚠ Severity: \u001b[1;36m3\u001b[0m\n",
            "Extrayendo Partición #\u001b[32m\u001b[1m066\u001b[0m | 🌦 Weather: \u001b[1;36mFog\u001b[0m | ⚠ Severity: \u001b[1;36m4\u001b[0m\n",
            "Extrayendo Partición #\u001b[32m\u001b[1m067\u001b[0m | 🌦 Weather: \u001b[1;36mThunderstorm\u001b[0m | ⚠ Severity: \u001b[1;36m2\u001b[0m\n",
            "Extrayendo Partición #\u001b[32m\u001b[1m068\u001b[0m | 🌦 Weather: \u001b[1;36mMist\u001b[0m | ⚠ Severity: \u001b[1;36m2\u001b[0m\n",
            "Extrayendo Partición #\u001b[32m\u001b[1m069\u001b[0m | 🌦 Weather: \u001b[1;36mShallow Fog\u001b[0m | ⚠ Severity: \u001b[1;36m2\u001b[0m\n",
            "Extrayendo Partición #\u001b[32m\u001b[1m070\u001b[0m | 🌦 Weather: \u001b[1;36mLight Rain with Thunder\u001b[0m | ⚠ Severity: \u001b[1;36m3\u001b[0m\n",
            "Extrayendo Partición #\u001b[32m\u001b[1m071\u001b[0m | 🌦 Weather: \u001b[1;36mSnow\u001b[0m | ⚠ Severity: \u001b[1;36m3\u001b[0m\n",
            "Extrayendo Partición #\u001b[32m\u001b[1m072\u001b[0m | 🌦 Weather: \u001b[1;36mLight Rain\u001b[0m | ⚠ Severity: \u001b[1;36m1\u001b[0m\n",
            "Extrayendo Partición #\u001b[32m\u001b[1m073\u001b[0m | 🌦 Weather: \u001b[1;36mMostly Cloudy / Windy\u001b[0m | ⚠ Severity: \u001b[1;36m3\u001b[0m\n",
            "Extrayendo Partición #\u001b[32m\u001b[1m074\u001b[0m | 🌦 Weather: \u001b[1;36mLight Freezing Rain\u001b[0m | ⚠ Severity: \u001b[1;36m2\u001b[0m\n",
            "Extrayendo Partición #\u001b[32m\u001b[1m075\u001b[0m | 🌦 Weather: \u001b[1;36mThunder in the Vicinity\u001b[0m | ⚠ Severity: \u001b[1;36m3\u001b[0m\n",
            "Extrayendo Partición #\u001b[32m\u001b[1m076\u001b[0m | 🌦 Weather: \u001b[1;36mCloudy / Windy\u001b[0m | ⚠ Severity: \u001b[1;36m3\u001b[0m\n",
            "Extrayendo Partición #\u001b[32m\u001b[1m077\u001b[0m | 🌦 Weather: \u001b[1;36mRain\u001b[0m | ⚠ Severity: \u001b[1;36m4\u001b[0m\n",
            "Extrayendo Partición #\u001b[32m\u001b[1m078\u001b[0m | 🌦 Weather: \u001b[1;36mRain / Windy\u001b[0m | ⚠ Severity: \u001b[1;36m2\u001b[0m\n",
            "Extrayendo Partición #\u001b[32m\u001b[1m079\u001b[0m | 🌦 Weather: \u001b[1;36mLight Thunderstorms and Rain\u001b[0m | ⚠ Severity: \u001b[1;36m3\u001b[0m\n",
            "Extrayendo Partición #\u001b[32m\u001b[1m080\u001b[0m | 🌦 Weather: \u001b[1;36mSmoke\u001b[0m | ⚠ Severity: \u001b[1;36m3\u001b[0m\n",
            "Extrayendo Partición #\u001b[32m\u001b[1m081\u001b[0m | 🌦 Weather: \u001b[1;36mThunder\u001b[0m | ⚠ Severity: \u001b[1;36m3\u001b[0m\n",
            "Extrayendo Partición #\u001b[32m\u001b[1m082\u001b[0m | 🌦 Weather: \u001b[1;36mHeavy T-Storm\u001b[0m | ⚠ Severity: \u001b[1;36m3\u001b[0m\n",
            "Extrayendo Partición #\u001b[32m\u001b[1m083\u001b[0m | 🌦 Weather: \u001b[1;36mThunderstorm\u001b[0m | ⚠ Severity: \u001b[1;36m3\u001b[0m\n",
            "Extrayendo Partición #\u001b[32m\u001b[1m084\u001b[0m | 🌦 Weather: \u001b[1;36mHaze / Windy\u001b[0m | ⚠ Severity: \u001b[1;36m2\u001b[0m\n",
            "Extrayendo Partición #\u001b[32m\u001b[1m085\u001b[0m | 🌦 Weather: \u001b[1;36mHeavy Thunderstorms and Rain\u001b[0m | ⚠ Severity: \u001b[1;36m2\u001b[0m\n",
            "Extrayendo Partición #\u001b[32m\u001b[1m086\u001b[0m | 🌦 Weather: \u001b[1;36mPartly Cloudy / Windy\u001b[0m | ⚠ Severity: \u001b[1;36m3\u001b[0m\n",
            "Extrayendo Partición #\u001b[32m\u001b[1m087\u001b[0m | 🌦 Weather: \u001b[1;36mThunderstorms and Rain\u001b[0m | ⚠ Severity: \u001b[1;36m2\u001b[0m\n",
            "Extrayendo Partición #\u001b[32m\u001b[1m088\u001b[0m | 🌦 Weather: \u001b[1;36mHeavy Rain / Windy\u001b[0m | ⚠ Severity: \u001b[1;36m2\u001b[0m\n",
            "Extrayendo Partición #\u001b[32m\u001b[1m089\u001b[0m | 🌦 Weather: \u001b[1;36mShowers in the Vicinity\u001b[0m | ⚠ Severity: \u001b[1;36m2\u001b[0m\n",
            "Extrayendo Partición #\u001b[32m\u001b[1m090\u001b[0m | 🌦 Weather: \u001b[1;36mSnow / Windy\u001b[0m | ⚠ Severity: \u001b[1;36m2\u001b[0m\n",
            "Extrayendo Partición #\u001b[32m\u001b[1m091\u001b[0m | 🌦 Weather: \u001b[1;36mLight Rain / Windy\u001b[0m | ⚠ Severity: \u001b[1;36m3\u001b[0m\n",
            "Extrayendo Partición #\u001b[32m\u001b[1m092\u001b[0m | 🌦 Weather: \u001b[1;36mHaze\u001b[0m | ⚠ Severity: \u001b[1;36m4\u001b[0m\n",
            "Extrayendo Partición #\u001b[32m\u001b[1m093\u001b[0m | 🌦 Weather: \u001b[1;36mWintry Mix\u001b[0m | ⚠ Severity: \u001b[1;36m3\u001b[0m\n",
            "Extrayendo Partición #\u001b[32m\u001b[1m094\u001b[0m | 🌦 Weather: \u001b[1;36mFair / Windy\u001b[0m | ⚠ Severity: \u001b[1;36m4\u001b[0m\n",
            "Extrayendo Partición #\u001b[32m\u001b[1m095\u001b[0m | 🌦 Weather: \u001b[1;36mHeavy Thunderstorms and Rain\u001b[0m | ⚠ Severity: \u001b[1;36m3\u001b[0m\n"
          ]
        },
        {
          "output_type": "stream",
          "name": "stderr",
          "text": []
        },
        {
          "output_type": "stream",
          "name": "stdout",
          "text": [
            "Total de registros obtenidos en la muestra: \u001b[32m\u001b[1m46000\u001b[0m\n"
          ]
        },
        {
          "output_type": "stream",
          "name": "stderr",
          "text": [
            "\r                                                                                \r"
          ]
        }
      ]
    },
    {
      "cell_type": "markdown",
      "source": [
        "# Imputando valores faltantes"
      ],
      "metadata": {
        "id": "tzMcfXbtGIPz"
      }
    },
    {
      "cell_type": "code",
      "source": [
        "def obten_nulos(particion):\n",
        "  from pyspark.sql.types import StructType, StructField, StringType, IntegerType, DoubleType\n",
        "\n",
        "  print(f\"📊 Total de filas en la partición: {particion.count()}\")\n",
        "  print(f\"🗂️ Número de columnas en la partición: {len(particion.columns)}\")\n",
        "\n",
        "  info_nulos = {}\n",
        "  cols_nulos = {}\n",
        "\n",
        "  total_rows = particion.count()\n",
        "\n",
        "  registros_totales = particion.count()\n",
        "\n",
        "  # Contar valores nulos por columna\n",
        "\n",
        "  cols_nulos = particion.select(\n",
        "    [sum(col(c).isNull().cast(\"int\")).alias(c) for c in particion.columns]\n",
        "    )\n",
        "\n",
        "  # Convertir los resultados en un diccionario\n",
        "  info_nulos = {c: cols_nulos.select(c).collect()[0][0] for c in particion.columns}\n",
        "\n",
        "  # Filtrar solo las columnas con valores nulos\n",
        "  cols_nulos = {c: {\"count\": v, \"percent\": (v / total_rows) * 100} for c, v in info_nulos.items() if v > 0}\n",
        "\n",
        "  # Validar si existen nulos\n",
        "  if not cols_nulos:\n",
        "        print(\"✅ No existen valores nulos en la partición.\")\n",
        "        return\n",
        "\n",
        "  listado = [(key, value['count'], value['percent']) for key, value in cols_nulos.items()]\n",
        "\n",
        "  # Definir el esquema del DataFrame\n",
        "  schema = StructType([\n",
        "    StructField(\"Columna\", StringType(), True),\n",
        "    StructField(\"Total de nulos\", IntegerType(), True),\n",
        "    StructField(\"Porcentaje\", DoubleType(), True)\n",
        "  ])\n",
        "\n",
        "  df_resumen_nulos = spark.createDataFrame(listado, schema=schema)\n",
        "\n",
        "  for col_name in [c for c, t in df_resumen_nulos.dtypes if t == \"double\"]:\n",
        "      df_resumen_nulos = df_resumen_nulos.withColumn(col_name, round(df_resumen_nulos[col_name], 2))\n",
        "\n",
        "  df_resumen_nulos.orderBy(col(\"Total de nulos\").desc()).show(truncate=False)\n"
      ],
      "metadata": {
        "id": "z3od6x_V7aP-"
      },
      "execution_count": 38,
      "outputs": []
    },
    {
      "cell_type": "code",
      "source": [
        "def imputacion_valores(particion):\n",
        "    print(\"✅ Se realiza la imputación utilizando los siguientes valores:\\n\")\n",
        "\n",
        "    # Obtener las modas (valores más frecuentes)\n",
        "    moda_Weather = particion.groupBy(\"Weather_Condition\").count().orderBy(col(\"count\").desc()).first()[\"Weather_Condition\"]\n",
        "    moda_City = particion.groupBy(\"City\").count().orderBy(col(\"count\").desc()).first()[\"City\"]\n",
        "    moda_Sunset = particion.groupBy(\"Sunrise_Sunset\").count().orderBy(col(\"count\").desc()).first()[\"Sunrise_Sunset\"]\n",
        "    moda_wub = particion.groupBy(\"Wind_Direction\").count().orderBy(col(\"count\").desc()).first()[\"Wind_Direction\"]\n",
        "\n",
        "    # Obtener promedios de las variables numéricas\n",
        "    media_Temperature = particion.select(round(avg(col(\"Temperature(F)\")), 2).alias(\"avg_temp\")).collect()[0][0]\n",
        "    media_Humidity = particion.select(round(avg(col(\"Humidity(%)\")), 2).alias(\"avg_humidity\")).collect()[0][0]\n",
        "    media_Visibility = particion.select(round(avg(col(\"Visibility(mi)\")), 2).alias(\"avg_visibility\")).collect()[0][0]\n",
        "    media_Precipitation = particion.select(round(avg(col(\"Precipitation(in)\")), 2).alias(\"avg_precipitation\")).collect()[0][0]\n",
        "    media_Wind_Speed = particion.select(round(avg(col(\"Wind_Speed(mph)\")), 2).alias(\"avg_wind_speed\")).collect()[0][0]\n",
        "\n",
        "\n",
        "    # Imprimir valores calculados correctamente\n",
        "    print(f\"🌡️ Temperatura promedio: {media_Temperature}\")\n",
        "    print(f\"💧 Humedad promedio: {media_Humidity}\")\n",
        "    print(f\"👀 Visibilidad promedio: {media_Visibility}\")\n",
        "    print(f\"🌧️ Precipitación promedio: {media_Precipitation}\")\n",
        "    print(f\"🌬️ Velocidad del viento promedio: {media_Wind_Speed}\")\n",
        "\n",
        "    print(f\"☁️ Condición meteorológica más frecuente: {moda_Weather}\")\n",
        "    print(f\"🏙️ Ciudad más frecuente: {moda_City}\")\n",
        "    print(f\"🌅 Hora de atardecer más frecuente: {moda_Sunset}\")\n",
        "    print(f\"🌬️ Dirección del viento más frecuente: {moda_wub}\")\n",
        "\n",
        "    # Aplicar imputación con Imputer\n",
        "    from pyspark.ml.feature import Imputer\n",
        "\n",
        "    imputer_num = Imputer(\n",
        "        inputCols=[\"Temperature(F)\", \"Humidity(%)\", \"Visibility(mi)\", \"Precipitation(in)\", \"Wind_Speed(mph)\"],\n",
        "        outputCols=[\"Temperature(F)\", \"Humidity(%)\", \"Visibility(mi)\", \"Precipitation(in)\", \"Wind_Speed(mph)\"]\n",
        "    ).setStrategy(\"mean\")\n",
        "\n",
        "    particion = imputer_num.fit(particion).transform(particion)\n",
        "\n",
        "    # Imputación de valores categóricos con na.fill()\n",
        "    particion = particion.na.fill({\n",
        "        \"Weather_Condition\": moda_Weather,\n",
        "        \"City\": moda_City,\n",
        "        \"Sunrise_Sunset\": moda_Sunset,\n",
        "        \"Wind_Direction\": moda_wub\n",
        "    })\n",
        "\n",
        "    print(\"\\n🔍 Se validan nuevamente los valores nulos para corroborar la imputación.\\n\")\n",
        "\n",
        "    obten_nulos(particion)\n",
        "\n",
        "    for col_name in [c for c, t in particion.dtypes if t == \"double\"]:\n",
        "      particion = particion.withColumn(col_name, round(particion[col_name], 1))\n",
        "\n",
        "    return particion"
      ],
      "metadata": {
        "id": "PS9ra8pQSM71"
      },
      "execution_count": 39,
      "outputs": []
    },
    {
      "cell_type": "code",
      "source": [
        "obten_nulos(df_muestras)"
      ],
      "metadata": {
        "id": "vc-aW7WY73U0",
        "colab": {
          "base_uri": "https://localhost:8080/"
        },
        "outputId": "a235499d-31ac-43ed-f362-5a0fc53a938a"
      },
      "execution_count": 40,
      "outputs": [
        {
          "output_type": "stream",
          "name": "stdout",
          "text": [
            "📊 Total de filas en la partición: 46000\n",
            "🗂️ Número de columnas en la partición: 19\n",
            "+-----------------+--------------+----------+\n",
            "|Columna          |Total de nulos|Porcentaje|\n",
            "+-----------------+--------------+----------+\n",
            "|Precipitation(in)|9628          |20.93     |\n",
            "|Wind_Speed(mph)  |2488          |5.41      |\n",
            "|Humidity(%)      |318           |0.69      |\n",
            "|Temperature(F)   |224           |0.49      |\n",
            "|Wind_Direction   |179           |0.39      |\n",
            "|Sunrise_Sunset   |171           |0.37      |\n",
            "|Visibility(mi)   |141           |0.31      |\n",
            "|City             |1             |0.0       |\n",
            "+-----------------+--------------+----------+\n",
            "\n"
          ]
        }
      ]
    },
    {
      "cell_type": "code",
      "source": [
        "muestra_imp = imputacion_valores(df_muestras)"
      ],
      "metadata": {
        "colab": {
          "base_uri": "https://localhost:8080/"
        },
        "id": "eMiT-fWeUziL",
        "outputId": "d9968d27-cfd2-4266-b4cb-671f87188de6"
      },
      "execution_count": 41,
      "outputs": [
        {
          "output_type": "stream",
          "name": "stdout",
          "text": [
            "✅ Se realiza la imputación utilizando los siguientes valores:\n",
            "\n",
            "🌡️ Temperatura promedio: 57.7\n",
            "💧 Humedad promedio: 75.24\n",
            "👀 Visibilidad promedio: 6.7\n",
            "🌧️ Precipitación promedio: 0.05\n",
            "🌬️ Velocidad del viento promedio: 11.27\n",
            "☁️ Condición meteorológica más frecuente: Fair\n",
            "🏙️ Ciudad más frecuente: Miami\n",
            "🌅 Hora de atardecer más frecuente: Day\n",
            "🌬️ Dirección del viento más frecuente: CALM\n",
            "\n",
            "🔍 Se validan nuevamente los valores nulos para corroborar la imputación.\n",
            "\n",
            "📊 Total de filas en la partición: 46000\n",
            "🗂️ Número de columnas en la partición: 19\n",
            "✅ No existen valores nulos en la partición.\n"
          ]
        }
      ]
    },
    {
      "cell_type": "code",
      "source": [
        "outliers = calcular_IQR(muestra_imp,['Precipitation(in)','Temperature(F)','Humidity(%)','Visibility(mi)','Wind_Speed(mph)'])\n",
        "outliers"
      ],
      "metadata": {
        "colab": {
          "base_uri": "https://localhost:8080/",
          "height": 237
        },
        "id": "nL90UIDBxvvf",
        "outputId": "3ba0285c-62bb-40df-c809-9aa172400f4a"
      },
      "execution_count": 42,
      "outputs": [
        {
          "output_type": "execute_result",
          "data": {
            "text/plain": [
              "                    IQR  Límite Inf.  Límite Sup.\n",
              "Columna                                          \n",
              "Precipitation(in)   0.1        -0.15         0.25\n",
              "Temperature(F)     31.6        -5.00       121.40\n",
              "Humidity(%)        29.0        19.50       135.50\n",
              "Visibility(mi)      7.0        -7.50        20.50\n",
              "Wind_Speed(mph)     9.2        -8.00        28.80"
            ],
            "text/html": [
              "<div>\n",
              "<style scoped>\n",
              "    .dataframe tbody tr th:only-of-type {\n",
              "        vertical-align: middle;\n",
              "    }\n",
              "\n",
              "    .dataframe tbody tr th {\n",
              "        vertical-align: top;\n",
              "    }\n",
              "\n",
              "    .dataframe thead th {\n",
              "        text-align: right;\n",
              "    }\n",
              "</style>\n",
              "<table border=\"1\" class=\"dataframe\">\n",
              "  <thead>\n",
              "    <tr style=\"text-align: right;\">\n",
              "      <th></th>\n",
              "      <th>IQR</th>\n",
              "      <th>Límite Inf.</th>\n",
              "      <th>Límite Sup.</th>\n",
              "    </tr>\n",
              "    <tr>\n",
              "      <th>Columna</th>\n",
              "      <th></th>\n",
              "      <th></th>\n",
              "      <th></th>\n",
              "    </tr>\n",
              "  </thead>\n",
              "  <tbody>\n",
              "    <tr>\n",
              "      <th>Precipitation(in)</th>\n",
              "      <td>0.1</td>\n",
              "      <td>-0.15</td>\n",
              "      <td>0.25</td>\n",
              "    </tr>\n",
              "    <tr>\n",
              "      <th>Temperature(F)</th>\n",
              "      <td>31.6</td>\n",
              "      <td>-5.00</td>\n",
              "      <td>121.40</td>\n",
              "    </tr>\n",
              "    <tr>\n",
              "      <th>Humidity(%)</th>\n",
              "      <td>29.0</td>\n",
              "      <td>19.50</td>\n",
              "      <td>135.50</td>\n",
              "    </tr>\n",
              "    <tr>\n",
              "      <th>Visibility(mi)</th>\n",
              "      <td>7.0</td>\n",
              "      <td>-7.50</td>\n",
              "      <td>20.50</td>\n",
              "    </tr>\n",
              "    <tr>\n",
              "      <th>Wind_Speed(mph)</th>\n",
              "      <td>9.2</td>\n",
              "      <td>-8.00</td>\n",
              "      <td>28.80</td>\n",
              "    </tr>\n",
              "  </tbody>\n",
              "</table>\n",
              "</div>"
            ]
          },
          "metadata": {},
          "execution_count": 42
        }
      ]
    },
    {
      "cell_type": "code",
      "source": [
        "for index, row in outliers.iterrows():\n",
        "    columna = index\n",
        "    limite_inf = row[\"Límite Inf.\"]\n",
        "    limite_sup = row[\"Límite Sup.\"]\n",
        "\n",
        "    quoted_columna = f\"`{columna}`\"\n",
        "\n",
        "    muestra_imp = muestra_imp.withColumn(columna, when((col(columna) < limite_inf) | (col(columna) > limite_sup), muestra_imp.selectExpr(f\"avg({quoted_columna})\").collect()[0][0])\n",
        "        .otherwise(col(columna))\n",
        "    )\n"
      ],
      "metadata": {
        "id": "Ik_Vc3ihHYhz"
      },
      "execution_count": 43,
      "outputs": []
    },
    {
      "cell_type": "code",
      "source": [
        "outliers = calcular_IQR(muestra_imp,['Precipitation(in)','Temperature(F)','Humidity(%)','Visibility(mi)','Wind_Speed(mph)'])\n",
        "outliers"
      ],
      "metadata": {
        "colab": {
          "base_uri": "https://localhost:8080/",
          "height": 237
        },
        "id": "h75AazMxJ8Li",
        "outputId": "d69320b3-c478-4576-be02-36b7afa22e8d"
      },
      "execution_count": 44,
      "outputs": [
        {
          "output_type": "execute_result",
          "data": {
            "text/plain": [
              "                    IQR  Límite Inf.  Límite Sup.\n",
              "Columna                                          \n",
              "Precipitation(in)   0.1        -0.15         0.25\n",
              "Temperature(F)     31.0        -3.50       120.50\n",
              "Humidity(%)        27.0        24.50       132.50\n",
              "Visibility(mi)      7.0        -7.50        20.50\n",
              "Wind_Speed(mph)     8.2        -6.50        26.30"
            ],
            "text/html": [
              "<div>\n",
              "<style scoped>\n",
              "    .dataframe tbody tr th:only-of-type {\n",
              "        vertical-align: middle;\n",
              "    }\n",
              "\n",
              "    .dataframe tbody tr th {\n",
              "        vertical-align: top;\n",
              "    }\n",
              "\n",
              "    .dataframe thead th {\n",
              "        text-align: right;\n",
              "    }\n",
              "</style>\n",
              "<table border=\"1\" class=\"dataframe\">\n",
              "  <thead>\n",
              "    <tr style=\"text-align: right;\">\n",
              "      <th></th>\n",
              "      <th>IQR</th>\n",
              "      <th>Límite Inf.</th>\n",
              "      <th>Límite Sup.</th>\n",
              "    </tr>\n",
              "    <tr>\n",
              "      <th>Columna</th>\n",
              "      <th></th>\n",
              "      <th></th>\n",
              "      <th></th>\n",
              "    </tr>\n",
              "  </thead>\n",
              "  <tbody>\n",
              "    <tr>\n",
              "      <th>Precipitation(in)</th>\n",
              "      <td>0.1</td>\n",
              "      <td>-0.15</td>\n",
              "      <td>0.25</td>\n",
              "    </tr>\n",
              "    <tr>\n",
              "      <th>Temperature(F)</th>\n",
              "      <td>31.0</td>\n",
              "      <td>-3.50</td>\n",
              "      <td>120.50</td>\n",
              "    </tr>\n",
              "    <tr>\n",
              "      <th>Humidity(%)</th>\n",
              "      <td>27.0</td>\n",
              "      <td>24.50</td>\n",
              "      <td>132.50</td>\n",
              "    </tr>\n",
              "    <tr>\n",
              "      <th>Visibility(mi)</th>\n",
              "      <td>7.0</td>\n",
              "      <td>-7.50</td>\n",
              "      <td>20.50</td>\n",
              "    </tr>\n",
              "    <tr>\n",
              "      <th>Wind_Speed(mph)</th>\n",
              "      <td>8.2</td>\n",
              "      <td>-6.50</td>\n",
              "      <td>26.30</td>\n",
              "    </tr>\n",
              "  </tbody>\n",
              "</table>\n",
              "</div>"
            ]
          },
          "metadata": {},
          "execution_count": 44
        }
      ]
    },
    {
      "cell_type": "code",
      "source": [
        "muestra_imp.show(5)"
      ],
      "metadata": {
        "colab": {
          "base_uri": "https://localhost:8080/"
        },
        "id": "qiMUlUEGNepw",
        "outputId": "a2bbaf58-a353-4337-f344-b893ecf68094"
      },
      "execution_count": 45,
      "outputs": [
        {
          "output_type": "stream",
          "name": "stdout",
          "text": [
            "+---------+-----------------+-----------------+--------+--------------+-----+--------------+-----------+--------------+--------------+---------------+--------+--------+-------+----------+-----+--------------+---------------+--------------+\n",
            "|       ID|Weather_Condition|Precipitation(in)|Severity|          City|State|Temperature(F)|Humidity(%)|Visibility(mi)|Wind_Direction|Wind_Speed(mph)|Crossing|Junction|Railway|Roundabout| Stop|Sunrise_Sunset|Traffic_Calming|Traffic_Signal|\n",
            "+---------+-----------------+-----------------+--------+--------------+-----+--------------+-----------+--------------+--------------+---------------+--------+--------+-------+----------+-----+--------------+---------------+--------------+\n",
            "|A-4912715|             Fair|              0.0|       2|  Port Angeles|   WA|          60.0|       72.0|          10.0|           WNW|           12.0|   false|   false|  false|     false|false|           Day|          false|         false|\n",
            "|A-4035789|             Fair|              0.1|       2|          Mesa|   AZ|          72.0|       20.0|          10.0|          CALM|            0.0|   false|   false|  false|     false|false|           Day|          false|         false|\n",
            "|A-5298999|             Fair|              0.0|       2|Pawleys Island|   SC|          75.0|       94.0|           7.0|             S|            3.0|   false|   false|  false|     false|false|           Day|          false|         false|\n",
            "|A-3885258|             Fair|              0.0|       2|   Springfield|   VA|          54.0|       78.0|          10.0|          CALM|            0.0|   false|   false|  false|     false|false|         Night|          false|         false|\n",
            "|A-6886081|             Fair|              0.0|       2|     Paramount|   CA|          60.0|       55.0|          10.0|           WNW|            6.0|   false|   false|  false|     false|false|         Night|          false|         false|\n",
            "+---------+-----------------+-----------------+--------+--------------+-----+--------------+-----------+--------------+--------------+---------------+--------+--------+-------+----------+-----+--------------+---------------+--------------+\n",
            "only showing top 5 rows\n",
            "\n"
          ]
        }
      ]
    },
    {
      "cell_type": "markdown",
      "source": [
        "# Preparando datos"
      ],
      "metadata": {
        "id": "bkIQuXvbbTv_"
      }
    },
    {
      "cell_type": "code",
      "source": [
        "muestra_imp.groupBy(\"Severity\").count().show()"
      ],
      "metadata": {
        "colab": {
          "base_uri": "https://localhost:8080/"
        },
        "id": "cCLiAdHcjHm-",
        "outputId": "d62d617f-ac14-4080-db31-1628edb44332"
      },
      "execution_count": 46,
      "outputs": [
        {
          "output_type": "stream",
          "name": "stdout",
          "text": [
            "+--------+-----+\n",
            "|Severity|count|\n",
            "+--------+-----+\n",
            "|       3|15000|\n",
            "|       4| 6500|\n",
            "|       2|22000|\n",
            "|       1| 2500|\n",
            "+--------+-----+\n",
            "\n"
          ]
        }
      ]
    },
    {
      "cell_type": "code",
      "source": [
        "muestra_imp.show(5)"
      ],
      "metadata": {
        "colab": {
          "base_uri": "https://localhost:8080/"
        },
        "id": "3RFzlmg12gfA",
        "outputId": "b15003b0-ee7f-49ba-fa7b-3c6a084ed807"
      },
      "execution_count": 47,
      "outputs": [
        {
          "output_type": "stream",
          "name": "stdout",
          "text": [
            "+---------+-----------------+-----------------+--------+--------------+-----+--------------+-----------+--------------+--------------+---------------+--------+--------+-------+----------+-----+--------------+---------------+--------------+\n",
            "|       ID|Weather_Condition|Precipitation(in)|Severity|          City|State|Temperature(F)|Humidity(%)|Visibility(mi)|Wind_Direction|Wind_Speed(mph)|Crossing|Junction|Railway|Roundabout| Stop|Sunrise_Sunset|Traffic_Calming|Traffic_Signal|\n",
            "+---------+-----------------+-----------------+--------+--------------+-----+--------------+-----------+--------------+--------------+---------------+--------+--------+-------+----------+-----+--------------+---------------+--------------+\n",
            "|A-4912715|             Fair|              0.0|       2|  Port Angeles|   WA|          60.0|       72.0|          10.0|           WNW|           12.0|   false|   false|  false|     false|false|           Day|          false|         false|\n",
            "|A-4035789|             Fair|              0.1|       2|          Mesa|   AZ|          72.0|       20.0|          10.0|          CALM|            0.0|   false|   false|  false|     false|false|           Day|          false|         false|\n",
            "|A-5298999|             Fair|              0.0|       2|Pawleys Island|   SC|          75.0|       94.0|           7.0|             S|            3.0|   false|   false|  false|     false|false|           Day|          false|         false|\n",
            "|A-3885258|             Fair|              0.0|       2|   Springfield|   VA|          54.0|       78.0|          10.0|          CALM|            0.0|   false|   false|  false|     false|false|         Night|          false|         false|\n",
            "|A-6886081|             Fair|              0.0|       2|     Paramount|   CA|          60.0|       55.0|          10.0|           WNW|            6.0|   false|   false|  false|     false|false|         Night|          false|         false|\n",
            "+---------+-----------------+-----------------+--------+--------------+-----+--------------+-----------+--------------+--------------+---------------+--------+--------+-------+----------+-----+--------------+---------------+--------------+\n",
            "only showing top 5 rows\n",
            "\n"
          ]
        }
      ]
    },
    {
      "cell_type": "code",
      "source": [
        "categoricas = [\"Weather_Condition\", \"City\", \"State\", \"Sunrise_Sunset\",\"Wind_Direction\"]\n",
        "binarias = [\"Crossing\", \"Junction\", \"Railway\", \"Roundabout\", \"Stop\", \"Traffic_Calming\", \"Traffic_Signal\"]"
      ],
      "metadata": {
        "id": "HKTLf48hbs_d"
      },
      "execution_count": 48,
      "outputs": []
    },
    {
      "cell_type": "code",
      "source": [
        "# ✅ Crear una copia de `imp_sev_1` para trabajar sobre ella\n",
        "Transf_muestra = muestra_imp.alias(\"copia_muestra\")  # Esto asegura que el original quede intacto\n",
        "\n",
        "# Convertir variables binarias a 0 y 1 en la copia\n",
        "for columna in binarias:\n",
        "    Transf_muestra = Transf_muestra.withColumn(columna + \"_num\", col(columna).cast(\"int\"))\n",
        "\n",
        "# Aplicar StringIndexer a las variables categóricas\n",
        "indexers = [StringIndexer(inputCol=col, outputCol=col + \"_Index\").fit(Transf_muestra) for col in categoricas]\n",
        "for indexer in indexers:\n",
        "    Transf_muestra = indexer.transform(Transf_muestra)\n",
        "\n",
        "index_label = StringIndexer(inputCol=\"Severity\", outputCol=\"Severity_Index\").fit(Transf_muestra)\n",
        "Transf_muestra = index_label.transform(Transf_muestra)\n",
        "\n",
        "# Aplicar One-Hot Encoding a las categóricas\n",
        "codificadores = [OneHotEncoder(inputCol=col + \"_Index\", outputCol=col + \"_OHE\").fit(Transf_muestra) for col in categoricas]\n",
        "for codificador in codificadores:\n",
        "    Transf_muestra = codificador.transform(Transf_muestra)\n",
        "\n",
        "# 🔥 Eliminar las columnas originales que ya no se usarán en el modelo\n",
        "Transf_muestra = Transf_muestra.drop(*categoricas).drop(*binarias)\n",
        "\n",
        "Transf_muestra.show()\n",
        "\n",
        "\n"
      ],
      "metadata": {
        "colab": {
          "base_uri": "https://localhost:8080/"
        },
        "id": "NX_PoP6Nh3Bj",
        "outputId": "24b6c552-17cc-4bad-8293-0309cc671240"
      },
      "execution_count": 49,
      "outputs": [
        {
          "output_type": "stream",
          "name": "stdout",
          "text": [
            "+---------+-----------------+--------+--------------+-----------+--------------+---------------+------------+------------+-----------+--------------+--------+-------------------+------------------+-----------------------+----------+-----------+--------------------+--------------------+--------------+---------------------+-------------------+---------------+------------------+------------------+\n",
            "|       ID|Precipitation(in)|Severity|Temperature(F)|Humidity(%)|Visibility(mi)|Wind_Speed(mph)|Crossing_num|Junction_num|Railway_num|Roundabout_num|Stop_num|Traffic_Calming_num|Traffic_Signal_num|Weather_Condition_Index|City_Index|State_Index|Sunrise_Sunset_Index|Wind_Direction_Index|Severity_Index|Weather_Condition_OHE|           City_OHE|      State_OHE|Sunrise_Sunset_OHE|Wind_Direction_OHE|\n",
            "+---------+-----------------+--------+--------------+-----------+--------------+---------------+------------+------------+-----------+--------------+--------+-------------------+------------------+-----------------------+----------+-----------+--------------------+--------------------+--------------+---------------------+-------------------+---------------+------------------+------------------+\n",
            "|A-4912715|              0.0|       2|          60.0|       72.0|          10.0|           12.0|           0|           0|          0|             0|       0|                  0|                 0|                    1.0|    3200.0|       19.0|                 0.0|                 2.0|           0.0|       (43,[1],[1.0])|(5307,[3200],[1.0])|(48,[19],[1.0])|     (1,[0],[1.0])|    (23,[2],[1.0])|\n",
            "|A-4035789|              0.1|       2|          72.0|       20.0|          10.0|            0.0|           0|           0|          0|             0|       0|                  0|                 0|                    1.0|     358.0|       21.0|                 0.0|                 0.0|           0.0|       (43,[1],[1.0])| (5307,[358],[1.0])|(48,[21],[1.0])|     (1,[0],[1.0])|    (23,[0],[1.0])|\n",
            "|A-5298999|              0.0|       2|          75.0|       94.0|           7.0|            3.0|           0|           0|          0|             0|       0|                  0|                 0|                    1.0|    1385.0|        7.0|                 0.0|                 1.0|           0.0|       (43,[1],[1.0])|(5307,[1385],[1.0])| (48,[7],[1.0])|     (1,[0],[1.0])|    (23,[1],[1.0])|\n",
            "|A-3885258|              0.0|       2|          54.0|       78.0|          10.0|            0.0|           0|           0|          0|             0|       0|                  0|                 0|                    1.0|      66.0|        4.0|                 1.0|                 0.0|           0.0|       (43,[1],[1.0])|  (5307,[66],[1.0])| (48,[4],[1.0])|         (1,[],[])|    (23,[0],[1.0])|\n",
            "|A-6886081|              0.0|       2|          60.0|       55.0|          10.0|            6.0|           0|           0|          0|             0|       0|                  0|                 0|                    1.0|     828.0|        0.0|                 1.0|                 2.0|           0.0|       (43,[1],[1.0])| (5307,[828],[1.0])| (48,[0],[1.0])|         (1,[],[])|    (23,[2],[1.0])|\n",
            "|A-7419718|              0.0|       2|          81.0|       50.0|          10.0|            7.0|           0|           0|          0|             0|       0|                  0|                 0|                    1.0|     281.0|        0.0|                 1.0|                11.0|           0.0|       (43,[1],[1.0])| (5307,[281],[1.0])| (48,[0],[1.0])|         (1,[],[])|   (23,[11],[1.0])|\n",
            "|A-6370791|              0.0|       2|          43.0|       76.0|          10.0|            6.0|           0|           0|          0|             0|       0|                  0|                 0|                    1.0|     411.0|        1.0|                 1.0|                 7.0|           0.0|       (43,[1],[1.0])| (5307,[411],[1.0])| (48,[1],[1.0])|         (1,[],[])|    (23,[7],[1.0])|\n",
            "|A-1167697|              0.0|       2|          44.0|       53.0|          10.0|            5.0|           0|           0|          0|             0|       0|                  0|                 1|                    1.0|     425.0|       23.0|                 0.0|                22.0|           0.0|       (43,[1],[1.0])| (5307,[425],[1.0])|(48,[23],[1.0])|     (1,[0],[1.0])|   (23,[22],[1.0])|\n",
            "|A-4820109|              0.0|       2|          75.0|       60.0|          10.0|            9.0|           0|           0|          0|             0|       0|                  0|                 0|                    1.0|      31.0|        7.0|                 0.0|                16.0|           0.0|       (43,[1],[1.0])|  (5307,[31],[1.0])| (48,[7],[1.0])|     (1,[0],[1.0])|   (23,[16],[1.0])|\n",
            "|A-1157601|              0.0|       2|           5.0|       66.0|          10.0|            9.0|           0|           0|          0|             0|       0|                  0|                 0|                    1.0|      11.0|        9.0|                 0.0|                 7.0|           0.0|       (43,[1],[1.0])|  (5307,[11],[1.0])| (48,[9],[1.0])|     (1,[0],[1.0])|    (23,[7],[1.0])|\n",
            "|A-5061254|              0.0|       2|          30.0|       86.0|          10.0|            5.0|           0|           0|          0|             0|       0|                  0|                 0|                    1.0|      73.0|       14.0|                 1.0|                 7.0|           0.0|       (43,[1],[1.0])|  (5307,[73],[1.0])|(48,[14],[1.0])|         (1,[],[])|    (23,[7],[1.0])|\n",
            "|A-4504531|              0.0|       2|          42.0|       67.0|          10.0|            9.0|           0|           0|          0|             0|       0|                  0|                 0|                    1.0|     115.0|        0.0|                 0.0|                17.0|           0.0|       (43,[1],[1.0])| (5307,[115],[1.0])| (48,[0],[1.0])|     (1,[0],[1.0])|   (23,[17],[1.0])|\n",
            "|A-1385221|              0.0|       2|          71.0|       84.0|           9.0|            7.0|           0|           1|          0|             0|       0|                  0|                 0|                    1.0|     790.0|        0.0|                 1.0|                11.0|           0.0|       (43,[1],[1.0])| (5307,[790],[1.0])| (48,[0],[1.0])|         (1,[],[])|   (23,[11],[1.0])|\n",
            "|A-3872546|              0.0|       2|          48.0|       71.0|          10.0|            3.0|           0|           0|          0|             0|       0|                  0|                 0|                    1.0|      25.0|        0.0|                 0.0|                14.0|           0.0|       (43,[1],[1.0])|  (5307,[25],[1.0])| (48,[0],[1.0])|     (1,[0],[1.0])|   (23,[14],[1.0])|\n",
            "|A-4191643|              0.0|       2|          45.0|       77.0|          10.0|            5.0|           0|           0|          0|             0|       0|                  0|                 0|                    1.0|     420.0|       10.0|                 1.0|                10.0|           0.0|       (43,[1],[1.0])| (5307,[420],[1.0])|(48,[10],[1.0])|         (1,[],[])|   (23,[10],[1.0])|\n",
            "|A-6059098|              0.0|       2|          87.0|       24.0|          10.0|            8.0|           0|           0|          0|             0|       0|                  0|                 0|                    1.0|     419.0|        0.0|                 0.0|                11.0|           0.0|       (43,[1],[1.0])| (5307,[419],[1.0])| (48,[0],[1.0])|     (1,[0],[1.0])|   (23,[11],[1.0])|\n",
            "|A-6491625|              0.0|       2|          61.0|       44.0|          10.0|            6.0|           0|           0|          0|             0|       0|                  0|                 0|                    1.0|      15.0|        2.0|                 1.0|                13.0|           0.0|       (43,[1],[1.0])|  (5307,[15],[1.0])| (48,[2],[1.0])|         (1,[],[])|   (23,[13],[1.0])|\n",
            "|A-1994025|              0.1|       2|          75.0|       69.0|           6.0|            6.0|           0|           0|          0|             0|       0|                  0|                 0|                    1.0|    1673.0|        0.0|                 0.0|                 4.0|           0.0|       (43,[1],[1.0])|(5307,[1673],[1.0])| (48,[0],[1.0])|     (1,[0],[1.0])|    (23,[4],[1.0])|\n",
            "|A-6772602|              0.0|       2|          41.0|       57.0|          10.0|            0.0|           0|           0|          0|             0|       0|                  0|                 0|                    1.0|    2109.0|       16.0|                 1.0|                 0.0|           0.0|       (43,[1],[1.0])|(5307,[2109],[1.0])|(48,[16],[1.0])|         (1,[],[])|    (23,[0],[1.0])|\n",
            "|A-6205348|              0.0|       2|          74.0|       28.0|          10.0|           11.3|           0|           0|          0|             0|       0|                  0|                 0|                    1.0|       9.0|        0.0|                 0.0|                 0.0|           0.0|       (43,[1],[1.0])|   (5307,[9],[1.0])| (48,[0],[1.0])|     (1,[0],[1.0])|    (23,[0],[1.0])|\n",
            "+---------+-----------------+--------+--------------+-----------+--------------+---------------+------------+------------+-----------+--------------+--------+-------------------+------------------+-----------------------+----------+-----------+--------------------+--------------------+--------------+---------------------+-------------------+---------------+------------------+------------------+\n",
            "only showing top 20 rows\n",
            "\n"
          ]
        }
      ]
    },
    {
      "cell_type": "code",
      "source": [
        "atributos = [ 'Precipitation(in)', 'Temperature(F)', 'Humidity(%)', 'Visibility(mi)',\n",
        "              'Wind_Speed(mph)','Crossing_num', 'Junction_num', 'Railway_num',\n",
        "              'Roundabout_num','Stop_num','Traffic_Calming_num', 'Traffic_Signal_num',\n",
        "              'Weather_Condition_OHE','City_OHE','State_OHE','Sunrise_Sunset_OHE','Wind_Direction_OHE']"
      ],
      "metadata": {
        "id": "0Ya5tV_N7Wz8"
      },
      "execution_count": 50,
      "outputs": []
    },
    {
      "cell_type": "code",
      "source": [
        "assembler = VectorAssembler(inputCols=atributos, outputCol = 'Caracteristicas')\n",
        "df_vec = assembler.transform(Transf_muestra)\n",
        "df_vec.select('Caracteristicas','Severity_index').show(5,truncate = False)"
      ],
      "metadata": {
        "colab": {
          "base_uri": "https://localhost:8080/"
        },
        "id": "o-PbBSmym4J8",
        "outputId": "c2d3b50a-8997-432f-a0e3-d988fa5951b4"
      },
      "execution_count": 51,
      "outputs": [
        {
          "output_type": "stream",
          "name": "stdout",
          "text": [
            "+---------------------------------------------------------------------------------+--------------+\n",
            "|Caracteristicas                                                                  |Severity_index|\n",
            "+---------------------------------------------------------------------------------+--------------+\n",
            "|(5434,[1,2,3,4,13,3255,5381,5410,5413],[60.0,72.0,10.0,12.0,1.0,1.0,1.0,1.0,1.0])|0.0           |\n",
            "|(5434,[0,1,2,3,13,413,5383,5410,5411],[0.1,72.0,20.0,10.0,1.0,1.0,1.0,1.0,1.0])  |0.0           |\n",
            "|(5434,[1,2,3,4,13,1440,5369,5410,5412],[75.0,94.0,7.0,3.0,1.0,1.0,1.0,1.0,1.0])  |0.0           |\n",
            "|(5434,[1,2,3,13,121,5366,5411],[54.0,78.0,10.0,1.0,1.0,1.0,1.0])                 |0.0           |\n",
            "|(5434,[1,2,3,4,13,883,5362,5413],[60.0,55.0,10.0,6.0,1.0,1.0,1.0,1.0])           |0.0           |\n",
            "+---------------------------------------------------------------------------------+--------------+\n",
            "only showing top 5 rows\n",
            "\n"
          ]
        }
      ]
    },
    {
      "cell_type": "code",
      "source": [
        "# Aplicar StandardScaler\n",
        "scaler = StandardScaler(inputCol=\"Caracteristicas\", outputCol=\"Caracteristicas_scale\", withStd=True, withMean=True)\n",
        "scaler_model = scaler.fit(df_vec)\n",
        "df_scaled = scaler_model.transform(df_vec)"
      ],
      "metadata": {
        "id": "vVS6yqRlO21R"
      },
      "execution_count": 52,
      "outputs": []
    },
    {
      "cell_type": "code",
      "source": [
        "df_scaled.select('Caracteristicas_scale','Severity_index').show(5,truncate = True)"
      ],
      "metadata": {
        "colab": {
          "base_uri": "https://localhost:8080/"
        },
        "id": "72uDjejWPHkA",
        "outputId": "75873847-5d76-4cfa-8de4-1d3b49406780"
      },
      "execution_count": 53,
      "outputs": [
        {
          "output_type": "stream",
          "name": "stdout",
          "text": [
            "+---------------------+--------------+\n",
            "|Caracteristicas_scale|Severity_index|\n",
            "+---------------------+--------------+\n",
            "| [-0.7106023951071...|           0.0|\n",
            "| [1.16458160594481...|           0.0|\n",
            "| [-0.7106023951071...|           0.0|\n",
            "| [-0.7106023951071...|           0.0|\n",
            "| [-0.7106023951071...|           0.0|\n",
            "+---------------------+--------------+\n",
            "only showing top 5 rows\n",
            "\n"
          ]
        }
      ]
    },
    {
      "cell_type": "markdown",
      "source": [
        "# Creando conjuntos de datos"
      ],
      "metadata": {
        "id": "sGFg6ohTCf-5"
      }
    },
    {
      "cell_type": "code",
      "source": [
        "#spark.conf.set(\"spark.sql.shuffle.partitions\", \"200\")\n",
        "train, test = df_scaled.randomSplit([0.8,0.2], seed = 10)\n",
        "\n",
        "train_size = train.count()\n",
        "test_size = test.count()\n",
        "total_size = train_size + test_size\n",
        "\n",
        "train_pct = (train_size / total_size) * 100\n",
        "test_pct = (test_size / total_size) * 100\n",
        "\n",
        "print(f\"\"\"Existen {train_size} instancias en el conjunto train ({train_pct:.2f}%),\n",
        "y {test_size} en el conjunto test ({test_pct:.2f}%).\"\"\")"
      ],
      "metadata": {
        "colab": {
          "base_uri": "https://localhost:8080/"
        },
        "id": "VSgGyGFgCk9M",
        "outputId": "5fe2a9ce-9179-4e61-ba8e-0625c5485c87"
      },
      "execution_count": 54,
      "outputs": [
        {
          "output_type": "stream",
          "name": "stdout",
          "text": [
            "Existen 36756 instancias en el conjunto train (79.90%),\n",
            "y 9244 en el conjunto test (20.10%).\n"
          ]
        }
      ]
    },
    {
      "cell_type": "code",
      "source": [
        "lr = LinearRegression(featuresCol='Caracteristicas_scale', labelCol='Severity_Index', maxIter=50, regParam=0.01, elasticNetParam=0.2)\n",
        "lr_model = lr.fit(train)\n",
        "y_pred = lr_model.transform(test)\n",
        "y_pred.select('Caracteristicas_scale','Severity_Index','prediction').show(5,truncate = True)"
      ],
      "metadata": {
        "id": "GN9E6EYYoHLO",
        "colab": {
          "base_uri": "https://localhost:8080/"
        },
        "outputId": "a92f16a6-06df-4546-b63d-76dc726ee1d2"
      },
      "execution_count": 55,
      "outputs": [
        {
          "output_type": "stream",
          "name": "stderr",
          "text": []
        },
        {
          "output_type": "stream",
          "name": "stdout",
          "text": [
            "+---------------------+--------------+------------------+\n",
            "|Caracteristicas_scale|Severity_Index|        prediction|\n",
            "+---------------------+--------------+------------------+\n",
            "| [-0.7106023951071...|           0.0| 1.338933353580241|\n",
            "| [1.16458160594481...|           1.0|1.2853623665992282|\n",
            "| [-0.7106023951071...|           0.0|1.6009070969980073|\n",
            "| [-0.7106023951071...|           0.0|1.3980048097073956|\n",
            "| [-0.7106023951071...|           1.0|1.5098498571210905|\n",
            "+---------------------+--------------+------------------+\n",
            "only showing top 5 rows\n",
            "\n"
          ]
        }
      ]
    },
    {
      "cell_type": "code",
      "source": [
        "print (\"The coefficient of the model is : \", lr_model.coefficients)\n",
        "print (\"The Intercept of the model is : \", lr_model.intercept)"
      ],
      "metadata": {
        "colab": {
          "base_uri": "https://localhost:8080/"
        },
        "id": "rHZ-ACWLoNww",
        "outputId": "c45f5d06-625d-44bc-e84a-edb7688aeaed"
      },
      "execution_count": 56,
      "outputs": [
        {
          "output_type": "stream",
          "name": "stdout",
          "text": [
            "The coefficient of the model is :  (5434,[0,1,2,3,4,5,6,8,9,11,12,13,14,15,16,17,18,19,20,21,22,23,24,26,28,29,30,31,32,34,35,36,37,38,39,40,41,42,43,44,45,46,47,48,49,50,51,52,53,54,55,56,57,58,59,60,61,62,63,64,65,66,67,68,70,71,72,74,75,77,78,79,82,83,84,85,87,88,89,90,91,92,93,94,96,97,98,99,100,101,102,103,104,105,106,107,108,109,110,111,113,114,115,116,118,120,121,123,124,125,126,127,128,130,132,134,135,136,137,138,139,140,141,142,143,144,145,146,147,148,149,150,151,152,153,155,157,158,159,160,163,164,166,167,170,172,173,174,177,178,179,180,181,182,183,184,187,188,192,193,194,195,196,197,198,199,202,203,204,205,206,207,208,209,211,212,213,214,215,216,218,219,222,223,224,225,226,228,230,233,234,235,238,239,240,242,243,247,248,250,253,254,255,258,261,265,267,268,272,273,274,275,276,277,278,280,281,282,283,287,289,290,291,292,293,294,295,297,301,303,305,307,308,309,310,311,312,313,314,317,319,320,321,322,324,325,326,327,328,331,332,333,334,335,338,339,340,341,342,343,345,347,350,351,353,355,356,359,362,363,365,367,368,369,371,372,373,374,375,376,377,378,379,380,381,383,384,385,386,387,389,390,391,394,396,398,399,400,401,402,403,405,408,409,411,413,414,416,418,419,420,422,423,424,427,428,429,430,432,433,438,441,442,443,444,445,446,448,449,451,452,454,456,459,460,463,465,469,471,474,475,476,478,479,480,481,482,483,486,487,488,490,491,493,494,495,496,500,503,504,505,506,511,512,516,518,519,520,521,522,525,529,531,532,533,534,536,537,538,540,541,542,544,545,546,547,551,556,557,559,560,562,563,564,567,568,569,570,571,573,574,575,578,579,580,581,582,583,584,586,588,589,591,593,595,596,599,602,603,604,605,606,607,608,609,611,614,615,616,618,619,620,622,623,624,626,628,629,630,634,635,637,640,641,648,650,651,652,653,654,655,657,658,660,662,663,664,665,666,669,670,673,675,676,677,678,679,680,681,682,684,685,686,687,688,689,690,691,693,694,695,696,697,699,701,702,703,704,707,708,710,711,712,713,714,715,716,717,718,719,721,722,723,724,726,730,732,733,734,735,736,737,738,739,743,744,745,746,747,748,749,750,752,753,754,756,757,758,760,763,765,766,767,768,769,771,772,773,776,777,779,780,785,786,787,788,790,791,795,797,798,799,800,802,803,805,807,808,811,812,814,815,816,817,818,819,820,821,822,824,825,827,832,833,834,835,836,838,839,845,846,847,848,849,850,851,852,855,857,858,859,861,862,864,865,866,868,870,872,873,874,875,876,877,880,881,883,884,885,886,887,888,890,891,892,893,894,895,901,902,903,906,909,912,913,915,916,918,919,920,921,922,925,926,928,930,931,932,933,934,935,936,938,939,940,942,943,944,945,946,947,950,951,952,953,954,956,957,958,959,960,961,963,965,966,967,969,971,972,973,975,976,978,979,980,981,983,985,987,988,989,991,992,995,997,998,1000,1003,1004,1007,1008,1009,1010,1011,1014,1015,1016,1018,1019,1020,1021,1023,1024,1025,1027,1029,1032,1033,1035,1038,1039,1040,1042,1043,1046,1050,1051,1052,1053,1054,1055,1056,1058,1059,1060,1063,1064,1066,1068,1069,1070,1072,1073,1075,1076,1077,1078,1079,1084,1087,1088,1089,1090,1091,1093,1094,1096,1097,1098,1099,1100,1101,1102,1104,1105,1106,1107,1108,1110,1111,1112,1113,1114,1116,1117,1118,1121,1122,1125,1126,1127,1131,1132,1135,1136,1138,1141,1142,1144,1145,1147,1148,1149,1150,1151,1153,1154,1155,1156,1158,1159,1160,1162,1163,1164,1166,1169,1170,1173,1175,1176,1178,1179,1181,1182,1183,1184,1186,1188,1192,1194,1197,1199,1201,1202,1203,1204,1205,1206,1208,1209,1214,1215,1216,1218,1219,1224,1225,1228,1232,1234,1237,1238,1241,1242,1243,1245,1246,1247,1252,1255,1259,1260,1264,1265,1267,1270,1271,1273,1276,1277,1280,1285,1286,1287,1288,1291,1293,1295,1296,1298,1299,1301,1302,1303,1304,1306,1308,1311,1312,1313,1314,1315,1317,1318,1319,1320,1321,1324,1325,1327,1328,1331,1334,1336,1339,1340,1341,1342,1343,1344,1345,1347,1348,1350,1351,1352,1354,1357,1361,1363,1364,1365,1366,1367,1368,1369,1370,1371,1372,1373,1374,1375,1376,1377,1378,1381,1382,1383,1385,1388,1391,1392,1393,1399,1400,1402,1404,1405,1406,1407,1409,1413,1418,1420,1421,1422,1423,1428,1433,1434,1436,1437,1438,1439,1440,1441,1442,1443,1447,1448,1453,1457,1458,1459,1460,1461,1462,1463,1464,1467,1469,1470,1472,1475,1477,1478,1479,1483,1485,1487,1488,1490,1492,1493,1496,1497,1498,1499,1501,1502,1503,1504,1505,1507,1509,1511,1512,1513,1514,1515,1516,1517,1518,1520,1521,1522,1523,1530,1531,1535,1536,1537,1538,1539,1540,1541,1543,1544,1545,1546,1548,1550,1553,1554,1555,1556,1559,1560,1561,1566,1567,1568,1569,1570,1571,1574,1575,1576,1578,1579,1580,1582,1583,1584,1589,1590,1591,1592,1595,1596,1597,1598,1599,1600,1601,1604,1605,1607,1608,1610,1611,1612,1613,1614,1616,1617,1618,1621,1622,1623,1624,1625,1626,1627,1628,1630,1631,1632,1633,1636,1637,1643,1644,1645,1646,1647,1648,1649,1651,1652,1653,1654,1655,1656,1660,1662,1663,1664,1665,1667,1668,1669,1672,1673,1674,1675,1676,1677,1678,1679,1680,1681,1683,1684,1686,1687,1689,1690,1692,1693,1696,1697,1698,1699,1700,1702,1703,1704,1706,1707,1708,1710,1711,1712,1713,1715,1716,1718,1721,1722,1725,1726,1727,1728,1730,1731,1732,1734,1735,1737,1738,1739,1740,1741,1742,1743,1744,1745,1746,1748,1749,1750,1751,1753,1754,1755,1757,1760,1761,1763,1765,1766,1767,1768,1770,1771,1773,1778,1781,1782,1783,1784,1787,1788,1789,1790,1792,1794,1796,1797,1799,1800,1801,1802,1803,1805,1806,1807,1808,1810,1811,1812,1813,1814,1815,1816,1818,1819,1820,1821,1822,1824,1826,1827,1828,1829,1830,1834,1835,1837,1839,1840,1842,1843,1844,1848,1849,1850,1851,1854,1857,1858,1859,1860,1861,1862,1863,1866,1867,1868,1870,1872,1873,1874,1875,1879,1881,1882,1884,1887,1888,1889,1890,1891,1893,1895,1896,1897,1898,1901,1902,1903,1904,1906,1908,1911,1915,1917,1918,1920,1923,1925,1929,1932,1933,1934,1935,1937,1938,1939,1940,1942,1943,1947,1948,1949,1950,1951,1952,1954,1955,1956,1958,1959,1960,1961,1964,1966,1967,1968,1971,1975,1976,1977,1978,1979,1982,1984,1986,1987,1988,1989,1993,1994,1996,1997,1999,2000,2003,2005,2006,2007,2009,2011,2012,2013,2014,2016,2024,2026,2027,2028,2029,2031,2035,2036,2038,2039,2040,2044,2048,2049,2051,2052,2053,2055,2056,2060,2061,2063,2064,2068,2069,2073,2074,2075,2076,2077,2079,2080,2082,2083,2084,2086,2087,2088,2091,2093,2094,2096,2098,2099,2102,2103,2104,2105,2106,2107,2111,2112,2116,2117,2118,2119,2120,2122,2123,2125,2127,2129,2131,2132,2133,2135,2136,2140,2144,2146,2149,2151,2152,2154,2155,2161,2162,2163,2164,2165,2168,2169,2170,2171,2172,2173,2174,2175,2178,2179,2182,2183,2185,2187,2189,2190,2193,2195,2198,2199,2200,2203,2205,2206,2212,2213,2214,2215,2216,2217,2218,2221,2222,2225,2226,2227,2228,2229,2230,2231,2232,2236,2237,2239,2240,2242,2243,2244,2246,2247,2249,2250,2251,2252,2253,2254,2256,2257,2260,2266,2268,2269,2270,2272,2275,2276,2280,2281,2283,2284,2285,2286,2288,2289,2290,2299,2300,2301,2302,2303,2306,2307,2310,2312,2314,2315,2316,2317,2319,2320,2321,2322,2323,2324,2326,2328,2329,2330,2333,2337,2338,2341,2343,2344,2345,2346,2347,2348,2351,2356,2357,2358,2360,2366,2370,2373,2374,2375,2377,2378,2379,2382,2383,2384,2386,2387,2390,2399,2400,2401,2402,2403,2404,2405,2406,2407,2412,2413,2414,2415,2416,2419,2421,2422,2425,2426,2427,2429,2430,2431,2432,2433,2434,2436,2437,2440,2442,2443,2444,2445,2446,2447,2449,2450,2453,2454,2455,2458,2459,2461,2462,2464,2466,2468,2471,2475,2476,2479,2480,2481,2482,2483,2486,2489,2490,2491,2494,2495,2497,2498,2499,2500,2501,2502,2503,2504,2505,2506,2508,2509,2510,2512,2513,2514,2515,2516,2517,2519,2521,2522,2526,2528,2529,2530,2532,2533,2534,2537,2538,2539,2540,2544,2545,2547,2549,2550,2552,2553,2554,2555,2558,2559,2561,2562,2564,2565,2566,2568,2569,2571,2572,2573,2574,2575,2576,2579,2580,2582,2584,2585,2586,2588,2589,2591,2592,2593,2594,2596,2597,2600,2601,2602,2606,2607,2610,2613,2614,2615,2617,2618,2619,2621,2622,2624,2627,2628,2629,2630,2633,2634,2635,2636,2640,2642,2644,2653,2656,2657,2658,2659,2660,2661,2664,2665,2667,2668,2669,2670,2673,2674,2675,2678,2679,2680,2683,2684,2687,2688,2689,2690,2692,2695,2698,2699,2704,2705,2707,2710,2712,2715,2716,2721,2722,2723,2725,2728,2729,2730,2734,2735,2736,2737,2738,2739,2742,2743,2745,2746,2747,2750,2752,2754,2756,2757,2759,2761,2762,2763,2765,2768,2769,2770,2771,2772,2773,2774,2776,2777,2779,2780,2781,2782,2783,2784,2785,2786,2788,2791,2792,2795,2798,2799,2800,2801,2802,2803,2804,2805,2806,2810,2811,2812,2813,2816,2819,2820,2821,2822,2824,2827,2828,2829,2830,2833,2834,2835,2836,2838,2839,2842,2843,2846,2847,2848,2849,2850,2852,2854,2855,2856,2857,2858,2859,2861,2862,2864,2865,2867,2868,2869,2870,2873,2875,2876,2879,2881,2882,2884,2886,2890,2893,2895,2896,2898,2900,2901,2904,2908,2913,2915,2918,2921,2923,2925,2927,2929,2930,2931,2932,2933,2936,2938,2940,2941,2942,2943,2944,2945,2946,2950,2951,2952,2953,2955,2957,2960,2961,2962,2964,2965,2966,2972,2973,2974,2975,2978,2980,2981,2983,2984,2985,2986,2988,2993,2994,2995,2996,2997,2999,3001,3002,3003,3005,3006,3007,3008,3009,3010,3011,3012,3013,3014,3015,3016,3018,3019,3021,3022,3023,3024,3025,3026,3028,3029,3030,3031,3032,3036,3037,3038,3039,3041,3042,3043,3044,3047,3048,3050,3052,3053,3056,3057,3058,3059,3060,3062,3063,3064,3066,3067,3068,3069,3070,3071,3073,3075,3076,3078,3079,3080,3081,3082,3083,3084,3085,3086,3087,3088,3089,3091,3092,3093,3095,3096,3097,3099,3101,3104,3106,3108,3109,3110,3112,3114,3115,3116,3117,3121,3123,3124,3126,3127,3130,3134,3135,3136,3138,3140,3143,3144,3145,3146,3148,3150,3152,3154,3155,3156,3157,3159,3162,3163,3165,3167,3168,3169,3170,3171,3172,3174,3175,3176,3177,3178,3179,3183,3184,3185,3187,3189,3190,3191,3193,3194,3195,3196,3197,3198,3200,3201,3202,3205,3206,3209,3211,3215,3216,3217,3218,3219,3222,3223,3226,3227,3229,3231,3232,3233,3234,3235,3238,3239,3240,3244,3246,3247,3248,3249,3250,3251,3252,3254,3256,3258,3259,3262,3263,3264,3267,3268,3270,3271,3272,3273,3274,3275,3276,3277,3278,3279,3280,3281,3283,3285,3288,3289,3290,3291,3292,3293,3295,3298,3299,3300,3301,3302,3305,3306,3307,3308,3313,3314,3316,3317,3318,3321,3323,3324,3327,3329,3330,3331,3332,3333,3335,3336,3337,3338,3339,3341,3344,3345,3346,3349,3350,3351,3355,3358,3359,3360,3362,3365,3367,3368,3369,3370,3371,3372,3373,3374,3375,3376,3377,3379,3380,3382,3383,3386,3387,3388,3390,3391,3393,3394,3396,3398,3399,3401,3402,3403,3404,3405,3406,3407,3409,3410,3411,3412,3414,3415,3416,3417,3419,3421,3423,3424,3425,3426,3427,3429,3430,3431,3432,3433,3434,3436,3437,3439,3442,3443,3444,3446,3447,3449,3450,3452,3453,3454,3456,3458,3460,3461,3463,3464,3467,3468,3469,3470,3471,3473,3478,3479,3480,3483,3484,3485,3486,3487,3488,3490,3491,3495,3496,3498,3500,3501,3504,3506,3507,3508,3510,3511,3512,3513,3514,3516,3517,3518,3519,3520,3523,3525,3528,3529,3530,3531,3538,3539,3540,3541,3545,3546,3549,3551,3553,3557,3562,3563,3565,3566,3568,3569,3572,3575,3576,3577,3580,3581,3582,3583,3585,3587,3590,3591,3592,3593,3594,3595,3597,3598,3599,3601,3607,3608,3612,3614,3619,3623,3625,3628,3632,3633,3635,3636,3637,3638,3639,3640,3642,3643,3644,3645,3648,3650,3653,3655,3658,3660,3661,3662,3664,3665,3667,3669,3670,3671,3673,3674,3675,3676,3678,3680,3681,3683,3684,3688,3689,3691,3692,3693,3697,3698,3699,3700,3701,3703,3705,3708,3709,3714,3716,3717,3721,3723,3724,3726,3730,3732,3733,3735,3737,3738,3739,3741,3743,3745,3748,3752,3755,3756,3759,3760,3763,3764,3765,3767,3768,3769,3771,3773,3774,3776,3777,3778,3779,3782,3783,3784,3785,3789,3792,3793,3796,3800,3804,3805,3807,3808,3810,3812,3813,3815,3819,3822,3825,3826,3827,3828,3830,3831,3832,3833,3834,3837,3838,3840,3841,3842,3843,3844,3845,3846,3847,3848,3849,3850,3852,3853,3854,3855,3858,3862,3864,3865,3869,3871,3874,3875,3876,3878,3879,3884,3885,3886,3887,3888,3896,3900,3902,3904,3906,3907,3908,3909,3910,3913,3915,3916,3917,3919,3921,3923,3926,3929,3930,3931,3934,3935,3938,3940,3942,3945,3949,3951,3952,3953,3957,3958,3962,3963,3964,3965,3966,3968,3972,3974,3978,3980,3981,3987,3988,3989,3990,3991,3993,3996,3997,3998,3999,4001,4002,4003,4005,4007,4008,4010,4011,4012,4015,4016,4020,4021,4025,4028,4030,4032,4033,4034,4039,4043,4044,4047,4048,4049,4055,4056,4057,4059,4060,4061,4062,4063,4066,4068,4069,4070,4071,4072,4073,4074,4075,4077,4079,4080,4082,4083,4085,4087,4088,4089,4090,4091,4093,4094,4095,4098,4099,4102,4103,4104,4106,4110,4111,4112,4113,4114,4118,4119,4120,4123,4124,4125,4126,4127,4128,4129,4134,4135,4136,4139,4140,4141,4142,4145,4146,4147,4148,4149,4150,4152,4154,4159,4161,4162,4164,4166,4167,4168,4169,4170,4171,4172,4173,4174,4175,4180,4181,4185,4186,4189,4190,4191,4192,4194,4196,4197,4198,4201,4202,4203,4204,4205,4206,4208,4209,4211,4212,4213,4215,4216,4220,4221,4223,4224,4225,4226,4229,4230,4231,4233,4234,4235,4236,4237,4242,4243,4244,4246,4247,4248,4251,4252,4253,4255,4256,4259,4260,4261,4264,4265,4266,4267,4268,4270,4273,4274,4275,4277,4278,4279,4281,4282,4283,4287,4289,4290,4291,4292,4294,4295,4296,4300,4303,4305,4306,4308,4314,4315,4317,4318,4319,4321,4323,4326,4328,4329,4330,4331,4332,4337,4340,4342,4349,4352,4359,4360,4365,4366,4370,4371,4372,4375,4376,4378,4379,4381,4383,4385,4387,4388,4389,4392,4394,4395,4397,4398,4400,4401,4403,4404,4408,4409,4411,4412,4414,4416,4417,4423,4425,4426,4430,4436,4439,4440,4441,4443,4447,4449,4456,4457,4458,4459,4461,4462,4464,4465,4466,4468,4469,4471,4472,4473,4474,4477,4478,4479,4480,4484,4485,4486,4489,4490,4494,4495,4500,4501,4504,4507,4508,4510,4511,4512,4514,4515,4516,4519,4520,4521,4522,4523,4524,4525,4528,4532,4533,4534,4537,4538,4539,4541,4542,4544,4545,4548,4553,4554,4555,4556,4560,4562,4565,4566,4567,4569,4570,4572,4573,4574,4575,4576,4577,4579,4581,4583,4586,4588,4590,4591,4594,4596,4597,4598,4599,4600,4601,4602,4605,4606,4608,4609,4614,4616,4618,4619,4624,4625,4629,4633,4635,4636,4642,4644,4647,4649,4650,4653,4655,4656,4658,4660,4662,4663,4664,4668,4670,4671,4672,4673,4674,4677,4678,4680,4683,4684,4685,4687,4688,4689,4690,4691,4694,4695,4698,4699,4700,4701,4702,4704,4707,4709,4710,4712,4713,4714,4718,4719,4724,4725,4727,4728,4730,4732,4733,4734,4735,4736,4739,4742,4743,4745,4747,4748,4749,4750,4751,4752,4756,4757,4758,4759,4760,4761,4762,4764,4768,4769,4770,4771,4772,4773,4774,4776,4777,4778,4779,4780,4782,4783,4784,4790,4791,4792,4794,4796,4798,4800,4802,4804,4808,4809,4810,4811,4812,4813,4816,4818,4819,4821,4823,4824,4826,4827,4828,4830,4832,4834,4836,4837,4838,4840,4841,4842,4843,4845,4846,4847,4848,4849,4856,4857,4858,4861,4862,4865,4867,4869,4870,4871,4873,4875,4877,4878,4879,4883,4884,4887,4889,4890,4892,4893,4895,4896,4897,4899,4900,4901,4902,4903,4909,4911,4913,4914,4917,4919,4925,4927,4928,4929,4930,4931,4932,4933,4936,4939,4940,4941,4942,4943,4945,4946,4948,4949,4950,4952,4954,4955,4956,4957,4958,4959,4960,4961,4965,4966,4967,4968,4971,4972,4974,4975,4977,4978,4979,4980,4981,4982,4984,4985,4986,4987,4988,4989,4992,4996,4999,5000,5002,5003,5004,5006,5007,5011,5013,5014,5018,5019,5021,5022,5025,5028,5029,5032,5033,5034,5036,5038,5039,5041,5042,5043,5045,5046,5048,5049,5050,5052,5054,5056,5060,5061,5062,5064,5066,5068,5069,5070,5072,5074,5076,5077,5078,5080,5081,5082,5084,5085,5086,5087,5088,5092,5093,5095,5096,5098,5099,5102,5103,5106,5108,5111,5112,5113,5115,5116,5117,5120,5123,5124,5125,5126,5127,5128,5129,5130,5131,5132,5133,5135,5136,5138,5140,5141,5142,5144,5145,5146,5147,5150,5155,5157,5159,5160,5163,5164,5168,5171,5172,5174,5177,5178,5179,5182,5185,5188,5189,5190,5192,5193,5197,5198,5200,5203,5205,5207,5208,5209,5210,5211,5212,5213,5216,5217,5218,5221,5222,5223,5226,5235,5238,5241,5245,5248,5249,5250,5251,5253,5255,5256,5257,5262,5263,5270,5273,5279,5283,5291,5292,5293,5295,5298,5301,5302,5306,5307,5309,5310,5311,5312,5315,5320,5322,5324,5325,5328,5329,5331,5335,5339,5346,5348,5349,5351,5352,5353,5354,5356,5357,5359,5360,5361,5362,5363,5364,5365,5366,5367,5368,5369,5370,5371,5372,5373,5374,5375,5376,5378,5379,5380,5381,5383,5384,5386,5387,5388,5390,5391,5392,5393,5395,5396,5397,5399,5402,5404,5405,5407,5410,5412,5414,5415,5416,5421,5422,5423,5424,5425,5426,5428,5429,5432,5433],[-0.011072342354166397,0.0657542342870233,0.024959063102054695,0.021052848228516885,-0.004777332390919882,-0.015170522870671244,0.016020660218541486,0.003268972955088172,-0.0035457460017142527,0.00881512958732668,0.18659799041203728,0.19337473413295897,0.18642429353599785,0.19268283579030115,0.18982941118084642,0.0845428836396326,0.07357294770277552,0.0796818397206856,0.10557097320509212,0.0821303364562952,0.07868452141997051,0.08187311022989317,0.07940831877394294,0.0023898341771943507,0.0012994329260033702,-0.0024658786962042088,2.8537897829536868e-06,-0.0018980724072231534,-0.00019589850135334094,0.0006722262551501858,0.016387423813352134,0.01033379215616624,-0.0004570539380778013,-0.0026255082162588445,-0.0008880546491475362,-0.001594604385632593,0.00022353612642743954,-0.0455736372548055,-0.033395124595226096,-0.041704997763557905,-0.03785003157342345,-0.04317408541651353,-0.03687188639991801,-0.039688657811199166,-0.0393837263530948,-0.043002295589467866,-0.0408065013509757,-0.04649754369347589,-0.046419900285293365,-0.03636751517379618,-0.03518884612812889,-0.028214084059662026,-0.007272074070636503,-0.032956395550377875,-0.020063214095867605,-0.010900761499732438,0.016891109295867367,-0.024854801702127793,-0.0046064238395188304,-0.01071528551980459,-0.01882249834471396,0.006420444384057781,-0.016261128863348927,-0.00047410781846311123,-0.027620602710888124,0.0005208479208412707,0.002653558821147699,0.00025310147462081367,0.01765429067293494,-0.022377310495465732,-0.0071061129378327025,-0.0007055765343375852,-0.00604187173663794,0.008179751221109732,0.01661631317825563,-0.013327235181069968,0.008164059032508969,-0.008533506732745624,0.002532423364371946,-0.005983712916792109,-0.008988512368623244,0.0017468104916592815,0.0031892553896606746,0.00034162124474850907,0.008035911144061509,0.019455789651622354,0.0026624996578629586,-0.0042177602969071405,0.007685675568774741,0.015794037165829018,-0.01403258903634199,-0.0022272069768182494,0.004508260606332591,-0.0019499077832633078,0.003680213429044344,-0.0013300735399213507,0.0027441463224958567,-0.011556785467886011,-0.007294038276361082,0.0041315570258341535,-0.00045080047765828424,-0.006445952023134199,-0.011617049524911771,-0.017687183045034114,-0.005305534228899809,0.002006279953904718,-0.004944284552163721,0.0007107544646122216,0.0037304628573287587,-0.003510876335069049,0.006511136342313484,-0.0001375423785038628,-0.010324656638108085,-0.007814184167708325,-0.001815253725609728,0.013104438595707474,0.0042203619228422,-0.010974465443750822,-0.0038086718330934796,0.0007379773525224682,-0.0016806989306429284,-0.0017101827000470717,0.008807176267452754,-0.00031871143203507623,0.025232482818309206,-0.0006308963167842142,0.0006725234801547499,-0.0037657042975723135,0.0054386337591298605,-0.0006451926531902932,-0.001246525079653683,-0.01001151208491111,-0.0019926790184649538,1.3128192716389356e-05,-0.011585415455635989,-0.0011079158361297916,-0.002607239937800739,-0.0006103874544000935,-0.005542120839660761,-0.0043522088729943675,-0.0012946930542131016,0.002212191296554318,-0.0019305626242908322,0.0017407785757365625,-0.001083750759150031,-0.004265868147481702,0.0038813924803186173,-0.0031162391543843003,0.0012279924211071704,0.00012052268600568964,4.7378892530326406e-05,-0.0005928263486804139,-0.004591761681121099,0.00147390955630846,0.002142910010337645,0.003369864461296222,-0.00232494192471756,0.005374539497497838,-0.0020938711803716007,-0.0037067307245940515,-0.0072016646149212615,-0.006475126734979406,-0.0018603795861217498,-0.0005349219845293508,-0.002273810186072255,-0.005835733824704768,-0.004128814150854714,0.0017596205497412587,0.0021701068533587736,-0.0014703504854398405,-0.00019785867651914013,-0.005819327050514255,0.00414603768389822,-0.000270121775460067,0.0010030119225851474,0.00024263340555389932,-0.0034611560496960905,0.0010979096867560069,-0.0002785899656741403,0.006345689305605746,0.001975384396150794,0.00792244738824903,-0.0006456420381715044,0.0036642077936727712,-0.00038598410606491236,0.007446974537188892,0.001112822123430452,-0.005893199504957019,0.015111585430318345,-0.00762638716353408,0.002836750070060595,-0.004150472017236203,0.0026219741233655973,-0.003176793628288288,-0.0005462955278418432,-0.0008228494811613422,0.003849244155926479,-0.00034098366480658164,0.006786316517279806,0.001151346348939004,0.0028640763478972064,0.0008154326110902789,-0.0016389604306568538,0.003425467737465403,-0.0029552508630438807,-0.00021030040476179625,-0.0038056258380519616,0.00019675087462741085,0.007916351271776456,-0.0012364232704125905,-0.00791859333544607,0.0012951149947575944,0.004352798587949568,0.0038165239699912315,-0.0028835783083440264,0.0028436100208211147,0.0008294664508339915,-0.005475324775088142,0.0037778210587037673,-0.002784967941037854,-0.0027309902865565016,0.013704255625471602,0.0013903763161420958,0.0016998851971466765,-0.006517684339620397,0.000476665210129917,0.004170256465665577,-0.0017756250425562399,-0.0026417354770069392,-0.006582110648431922,-0.0016973451563144007,0.0005880670116665658,-0.004865685806064701,0.00972626314719743,-0.000830137543793671,0.004236805206061364,-0.008061487839682038,0.002054015959848123,-0.00018042189061418014,0.0006779574338604568,0.001840148970630176,-0.0019398459291577793,-0.008335860825918725,0.0037913949412840763,0.0007519905823992335,0.0017620737885797857,0.0006750472052070429,-0.007225860516992122,-0.0025968606946117725,0.0008935308520599617,0.001961300484805972,0.000306663058602529,0.0009046833053417997,-0.001554225634438079,-0.0015828518775810527,0.0015330111924338223,0.0006701698838646353,-0.00017519494279401326,0.004188872083619818,-0.008533462802688721,0.004867662646225481,-0.0017685767469546355,0.0005144830777083792,0.0006469008510613214,-0.0035348876447990484,-0.0052581614481410945,-0.003003518966897842,0.0001937217929843982,0.007105818493983766,-0.0019158699020197802,0.006571921291196895,0.002908328985851897,-0.0013874811967346647,-0.0020378014353821428,-0.008039112298704696,-0.0011896840591884789,-0.0036230640845089953,-0.008462711532241611,0.0037769292764037736,-0.0018512552109024563,0.006360638928965972,0.001425181468345405,-0.01128398381319803,-0.00013672430573344183,-4.910002605106104e-05,-0.0029162763752913668,0.0029084011141007416,0.00018475870597743453,-0.0010950166122672559,-0.007567222624018106,0.002587494136397161,0.0033761703843866427,0.0021000040756095433,0.002538512544877119,0.0009020822011905223,0.005935840935301282,-0.0036774924974254585,0.0007671665348149918,-0.0027130798089009416,-0.0007079818474683559,0.0012560648673257688,0.0034137779120656433,-0.0067761705980284226,0.0014846788085424924,-0.00020879761611238668,-0.003315332095053467,0.005871502626227524,0.00013131975388962843,-0.0010977052169089034,0.0018875051517382151,0.0019620739218329823,0.0034831410610359883,-0.00328915088297328,0.006292936476598104,0.00524360484041583,-0.00034170762947821105,-0.0027400622743164937,0.004227604203439043,-0.004183181482293338,-0.007906972360609577,-0.0006620264864121765,0.0011642885964615742,-0.002524693564534673,-0.008391479241634999,-0.002931837031431525,-0.007309431312269602,0.003826217061624967,0.0012785038877258601,-0.0021513879312338086,-0.0019402905169817659,-0.0011121283846206775,0.00016598864024870228,0.0044420326817114775,-0.008591019274620621,0.0007141424963747202,0.003730442302794756,0.0017716577531959297,-0.0011128603367816688,-0.007052679711419599,-0.004305470129274484,-0.004288198831943748,0.005584686940120751,-0.0014620858964455924,0.0029611285634172503,-0.0014154128203223886,0.0003524337698191014,0.0013329206238029217,-0.002231442066144177,0.003556985238337704,-0.0012601703655333917,0.0014926887811434143,-0.005668524843269632,-0.0016519289603207988,-0.001820278199717239,-0.004068574408954128,-0.004919135766157842,-2.8750279714608718e-05,-0.003611652152626744,0.005860646479899207,-0.0030750358520070433,-0.00545891312869695,-0.0018814767856385947,-0.000577020192931548,-0.0001817477210760319,-0.001619536303768691,-0.006317956457371776,-0.0013347398843908801,0.0012585768817732143,0.002587349271491608,-0.00987991096601659,3.83703540395049e-05,-0.0038694152665686575,-0.002119371978085975,0.00043644071938472135,-0.0002923235056753799,0.0024662322869728063,-0.008847590592439806,0.004960405854061439,-0.004964759904912388,0.0003498254257979199,0.0019554753396764496,0.0065378301862063,-0.005935435554953676,-0.0013566600432900118,5.8552020553917026e-05,0.000558354909662439,-0.00334367026738783,0.002726144425161799,-0.005228550391122512,-0.002917832582615091,-0.005383101002082643,-0.0014046683110044175,-0.0033787180240538966,-0.0038403531424171695,-0.0029425079650642364,-0.0013727849501532872,0.002679587361504681,8.401132525944461e-05,-0.0017875202303653643,0.00356677863706681,0.004523209289434516,-0.0004452517662937274,-0.001270834407603866,-0.0028208560814109843,-0.003888882884577538,-0.0011947212504834857,-0.007098905708085181,0.001120087222516221,-0.004252388884084457,-0.0023242307052840374,-0.0013512371820613826,-0.00413367921543278,-0.0017085386465300085,-0.006956004314888064,0.0024707933670159023,0.002094844036030036,-0.001620322896373763,-0.0034561623003484974,0.002354082506584904,-0.0011342369403411388,-0.0010084034312097783,-0.00019452099241939935,-0.00035108550838265965,-0.0016180194695558717,-0.0003731165758763859,-0.008740791386196317,-0.0020325128718442537,-0.001230975212621564,0.0014681621910371857,-0.0018028833244001442,0.004571445622816563,-0.0017480759497561205,0.0027734232408645467,-0.005819629260677727,0.0010947985324089601,-0.008424913139532694,-0.0022025178378046266,-0.001738396999083253,-0.0035732438710318467,-0.005370545243581025,-0.004793976556126061,-0.0024620918168826622,-0.00037494520766944485,-0.00022708000330194577,0.00038956792518825766,0.00047096443263992295,-0.005417439530503238,0.0029077738246367163,-0.006567985935247556,-0.003745874874077906,-0.001363071476969002,0.0032062947725843196,-0.003962866806045767,-0.0020705617055933882,0.0016469063703223722,0.003522134497310398,-0.002099192169839089,0.0006247170085150889,-0.007906732645822872,0.0007375218944218872,0.004920443712011898,-5.578938691255846e-05,-0.0017245088692799287,0.004854886335258737,0.0012015540298378736,0.0007953651082762274,0.0015735886642371162,-0.0021049845004997257,-0.00593293923562228,-0.0030856945802114023,0.0005391155269303877,-0.0012842378334349284,-0.0019821772650423816,0.0023550611452642957,-0.003550620847704916,-0.004292908694182421,-0.0031310245155200386,0.0007027960261078358,-0.003466221207814811,0.002290493404576282,-0.002311399994795044,0.001438884919295499,-0.005358276727642456,-0.000427339908552507,0.0021202533797625538,-0.00860164677943628,0.0009759396576728906,0.002792124025860661,-0.0060684284281126155,0.0027833147252795502,-0.0027497694765317125,-0.007336999209941849,0.006559856831197342,0.0022986859802267066,0.0051637032984005425,-0.001334315048111592,2.617236483007397e-05,-0.0022963256102156867,0.005421607276742124,0.0012727923032035474,0.002539068037497173,0.003096155668126419,0.004414886292207112,-0.0012236243608621847,-0.0015247904575624283,-0.0033913748856466727,-0.00784727742997517,-0.003378089571878147,0.004962347775803257,0.0006378865734788598,0.006243911251722548,0.0037689302883300692,0.0007035562153541049,0.0005999426332031773,0.0023283664869917227,0.001646565159500817,6.801062648565698e-05,-0.0009025410600180548,-0.006364862711785164,0.00504437601515847,-0.0008499276069947066,-0.003251707053205267,0.0010310766545811255,-0.001012908061211763,-0.007152945127340107,-0.005057902308628191,-0.005391354320737575,-0.008573881306688012,0.0028114775004850403,4.4336371077918824e-05,0.017811315271802658,0.0017669190145274871,-0.0015588659889028994,0.003893335419622594,-0.001659326299730966,0.0008363307351003756,-0.0015606261410718812,0.00020009458224099478,0.0014698983263907118,0.002266074393790357,0.0036116116687801235,-0.0003043899171465199,0.0002280115697278055,0.0002838135399952068,0.002376770171415139,-0.003203966281155564,-0.003135492147328098,0.0034775762748170858,-0.008226112694431425,0.0023826075739434623,0.0004825116753875093,-0.002424530844673602,-0.0033333401443210856,-0.0002258392211516854,-0.0035920752768657093,0.0011974488233309993,-0.00032026846522405976,-0.001967143603852427,-0.0015168900001360207,-0.0018554702790950473,-0.003937632471838706,-0.006502530867340904,0.0015881124404166897,0.002247718269192584,-0.004491976616735491,0.0011831581014149026,0.00261574952225828,0.0010236695438080071,0.004521356803827373,-0.0037722131082272084,-0.0004996692979333594,-0.0018862784114052748,0.001429197454441356,0.0059264422783664615,-0.0008346195985532029,-0.005573025764305117,-0.000737114655136876,0.000676314243017757,-0.008137524693988976,-0.009020803991070457,0.0019590631122897843,-0.0021907919623068606,-0.0025622002714867937,0.00479513240995652,0.0006154044587112884,-0.0009876530968762204,0.006511342053049484,-0.00011748055692859315,0.004465067748543319,-0.001590562734709702,-0.0015110046061141426,-0.0005391139139146651,0.0018104880439471331,-0.006835145070578037,-0.000869120131118907,0.007396008678222097,-0.012715844939026767,-0.0028672372640257343,-0.003480894386874775,-9.327983917591913e-05,-0.001713208325893472,-0.0013420688682227798,-0.0031869330302384292,-0.0003452835565213044,0.0028335060783579243,-0.001461174056720742,-5.140692333196377e-05,-0.0024577870357541773,0.003032224752081945,0.001354762675109577,-0.0024379125401311243,-0.011033241779894822,0.003992361728851249,-0.0014116477464375626,3.521228323907044e-05,0.00012045000714610764,-0.0015649152677664384,0.002684313270654678,-9.334579453821188e-05,-0.0022978079122994463,-0.0027598526883101885,-0.003723080444208388,-0.001531843963739494,0.003034405674737331,-0.001072813985563696,-0.002887519354809879,-0.0017038120205735286,0.0074974083762989465,0.0006315608648556455,0.0005301540246549062,0.00028065127735904885,0.0012854976920813309,-0.0027352265009192014,0.0022323817183017443,0.0041998895500949636,0.00029689202114698525,-0.0010702878185491443,0.0016392330371053868,-0.005274153968036085,-0.004596203709686342,-0.0033784550550031013,-0.0025749734173710864,-0.003289792585963604,0.0018319551576426037,-0.0016805546908045296,0.002955351400393414,-0.0017247161974789013,-0.0003522240870158297,0.002175541926549536,0.003965809876259376,-0.00038293199564514,-0.006001253831782194,-0.004616933593044368,0.003168758609339837,-0.006755854674698856,0.0005122350827052679,0.005034448809242261,0.002587867643407462,0.005566187595650181,0.0006847323970052321,-0.006212034920730317,0.002762017773919393,-0.00022637173424903766,0.001724575093499146,-0.0052394115711508465,0.0005893149240830897,-0.001604343877437466,-0.0007093563292771515,-0.00274882034588322,-0.005093434530801689,-0.0012442444670656093,-0.0008892219284410208,0.0025103201610115833,0.002484666598018517,-0.0013709202826250055,0.0002574912288037696,0.007813167511203334,-0.005618877096598842,0.0041117965578987194,-0.0032446977793250823,-0.0005316647327711606,-0.006371528451676926,-0.002934255642625597,-0.006254775196154751,0.0013244313492076871,-0.000884320600262445,-0.0025304128797721407,-0.00017796897906805162,-0.002193438031853448,0.004646374099971184,-0.0043952236019005695,0.001114588222848892,-0.003951812663767979,0.00030519299052885927,-0.002619195493881263,-0.002767358079755922,-0.0019096334896154994,-0.004266723504343091,0.0005318231527546725,-0.004201981439723845,0.003442826591800799,0.005878791162152357,-0.002783981154494813,-0.0034087371273575115,-0.0036971809727126387,-0.0006843213610334162,-0.004496009770914426,0.0007951322243061332,0.003869315201943361,0.004698316483970977,-0.0056716569487754226,0.0025632670898750516,0.0005459914670359445,-0.006063401077871658,0.0011215978157806555,-0.005627193847703301,-0.0017435569318334377,0.0010156089164659516,0.006526929913333352,0.0003181407064621096,0.010399340431183983,0.00040656195177579126,0.004115095595093686,-0.0019815868947343595,-0.0027880567850811005,0.0012160042434401744,-0.003975753946358611,-0.002651171672437852,0.0009221034573816166,0.006032890298476055,-0.004012980941361801,0.005662930536130937,0.005790083257502521,-0.0040962997189303504,0.0038747637723551003,-0.003759561554076535,0.001720858820021197,-0.0016938546030964832,0.0009261013096548658,0.00019765964881225722,-0.0012696947207787876,-0.002498119089225062,0.0032681537953804917,-0.0067720826779092405,0.0025297980097315604,0.0020197518267901834,0.002594518254998613,-0.0008253512912530931,0.0032136435970317244,0.002225426524862153,-0.00018393521461339155,-0.0019828621166346192,-0.0009763162620649677,-0.0022571773633832215,0.0015216776816502288,0.0023056403354659587,-0.001179124361582277,0.0005549488768404824,0.00404089234475835,8.609599005840655e-05,0.0013460309703294119,-5.84956378818777e-05,0.005653063694633112,0.0007919945325343702,0.001388447604734121,0.002124149993416724,0.001097631934752548,0.0037539892498518095,0.005213238244906445,0.00311830342105204,-0.0008742827224868304,7.123951353500441e-05,-0.0003352964592616011,-0.004478660571110147,0.0038626565540774414,-0.0027625019220751277,-0.002962661890967436,-0.003789502931252858,-0.0001829278905876073,-0.0019420032795601147,0.005434558713968508,0.0015856688440610122,0.0019231277059909492,0.0010935719721448707,-0.000600597785624632,-0.0011414035332037603,-0.0019880959511748932,0.0011412520453866369,-0.0048882717108696735,0.003650317037181181,0.00037073465329323587,0.008635918953022043,-0.0016246211583388203,0.0068288666881622904,-0.0024025521600995942,0.0008401953193573167,0.001464980283558653,0.00716620341149308,-0.0018301539313903103,0.011727350907833516,0.0003602927898638526,-0.002502578989310828,0.0008514138880083906,0.0048434362220959775,-0.0013592551620556761,-0.0034880063417370506,0.0013578417820524946,0.005002820723236773,0.0013573963936633683,-0.002778728801099249,-0.002755552634558577,0.00014637139342329607,5.5403066709114555e-05,-0.007223367256060437,-0.005621410868308609,-0.004329139371295832,0.0031429975887101677,5.305944804927534e-05,0.005307495032132233,0.0008439738407016711,0.00010216628294363616,-0.004602785455291429,0.00108718950194269,0.004388196307907785,0.004083926634734259,0.008163775451409283,0.004053153572640125,-0.001203621312885612,-0.0015877494229244993,-0.0019069571861552457,-0.005776201726413755,-0.00351734062835305,-0.0025650375526304198,-0.0007925735036273404,0.002298650895341359,-0.0028631790337222064,0.0017165037602630685,0.005442872786787098,0.001995223760684161,0.0040395565636506744,-0.0048126977545504025,-0.00325332789369989,0.0010518165769714876,-0.0031170146530071275,-0.0002100039302580369,-0.0008514148508888766,-0.0014822888494673185,0.0023639849101524985,-0.003761061028442909,0.005249240927896299,-0.00687536156814362,-0.00037944748093209145,-0.0033995126802953443,0.0005491351843442169,-0.000594689355459703,-0.0045347157012683385,-0.0049392248703788244,0.0040326209563634145,-0.002708931223973975,0.005574400929552729,0.0015519493199974348,-0.001917771890654356,-0.006996060559589406,-0.0001718470713602443,-0.0007311636497318552,0.004105300379024975,0.005273486415015304,0.005885884321275259,-0.0006055061651308926,0.0007370149271215826,0.0011376469840093445,0.009002636547532854,0.0011394740754916714,0.0013713524482943692,-0.0008453551751888092,8.40424645405783e-05,-0.002693104246256439,0.0015597631508927421,0.0025150829782918434,0.0007393215168619011,7.541604317844031e-05,0.0027708972782786744,-0.00028520875706217143,-0.0039054082063906966,-0.0005975467600386827,-0.0035785065678012977,0.0051837199724201165,-0.004094231425454621,-1.0843889931474291e-05,0.0002979007618410134,0.0009981606430086202,0.0016668897921733648,-0.0029585377453139397,0.0009356157342263295,0.0004413341409644747,-0.0007896669207825492,-0.0021795229098012757,0.00027543117856611326,-0.00041897554994933914,0.0010390736095887427,0.004453187452783779,0.006765051779653733,0.0002481198742834135,0.00097622458536287,-0.0032681439716054543,-0.00452494853274007,0.001556548827482166,0.004564905858203617,-0.0055980761640264725,0.0045892552860918815,0.0008062266875059718,0.0007697181400321997,-0.0016783538657653577,0.010336220855199996,0.00025314917748442065,-0.0005439064034298228,0.0009458361577336392,0.005770322498067968,-0.003817896806990296,-0.00027799168341975785,-0.0010417974723179746,-3.266351397702398e-05,0.0018683079492878652,0.0034346697781463937,0.00026657142740373584,-0.004497310422521553,0.0007392262855171126,-0.0024702631200169073,-0.0013277204110332913,-0.00025091252342418176,0.005265095694267639,-0.0018877742961982509,-0.004426271380833758,0.004830877687317755,-0.00022788853350097388,-0.0010197449558116507,-0.006113430509969542,0.005914302270966243,-0.003696358204790228,-0.00014941074978291178,-0.0058025163395648525,-0.0023388089114971464,0.002256550785997796,0.00444308932453926,-0.0004214404147406336,-0.005291273128143144,0.001513448113889751,-0.0013220997052640407,0.0009467281968997085,0.0005551974458039278,-0.0023079085184539556,-0.002337865574625839,0.0012422587042830494,-0.0018049131214248715,0.005839188834755492,-0.00041383123674780086,-0.0009527144102611046,-0.002020132412637252,-0.0024400175529368296,-0.0030505717311212176,0.005587889561382951,-0.004630097923505675,-0.002096242149572852,-0.002947947667942047,-0.003735839919362726,-0.005375552735607003,0.005991497168682253,-0.0024606494249907757,0.004725371918538896,-0.0013854044213348054,-0.0007390876979063264,-0.00014224954666686062,-2.9002161242983908e-05,0.0013807860128231234,-0.0067472254585220085,-0.0059752442473966876,-0.001478360753758769,0.003435595335028266,-0.0011421439137695784,-0.0021578823675116278,0.0011855717597691235,0.0057133435182133785,-0.0010326770654803365,0.004032369902649095,-0.0018114828219810658,-0.002272214877000468,0.00033572653351366657,0.002254988383534082,-0.0033598811842988456,-0.003718518339401493,-0.0006356886901316292,-0.0005684997667471548,-0.0023781214317184335,-0.001520881315576725,0.0015290293900666484,0.006756480971479624,-0.0019483987716038163,0.0037297482553430893,0.002347958992445132,-0.001471978363268064,0.00024871524591125614,-0.0036442179999771752,0.003147844027382329,-0.0014031928673705204,-0.0033508945299254374,-0.0046879815350339945,-0.0033903921538118225,0.006021180267333558,0.0025092227357949295,-0.0036015085247780953,0.0020728722776849067,-0.001219913598485709,0.0038611041871595385,0.0026888942555304335,0.01037607144452282,-0.006290426800528872,-0.00359758082736063,0.0006671006226115957,-0.003852182944195825,0.005180419288108238,0.00277866784020835,0.003867609263928956,-0.0031741051993877363,0.004809041466075319,-0.001260088587340381,-5.457739426644559e-05,0.0021274700906869985,-0.0007996894510524722,0.001285764933946133,0.001582600949715513,-0.003536607298874097,0.002475928360439525,0.015013739746780438,-0.0011528374645705924,0.002406212936784505,0.0009195622666499213,-0.0015932690585351735,-0.0026411299246884602,-0.0038047893017755926,0.001399497259496968,0.00027568848854634596,0.004256420880970366,0.0008020536613273951,-0.0028549205582998234,-0.005794224505103253,0.0003980300273946439,0.004543053495605259,0.00026035737634674285,-0.0009824130417569407,0.007206333630951577,-0.002219114585596819,-0.0029275334802223276,-0.002977547642800944,0.005563966696241745,-0.004618356671708696,0.004571728917945033,-0.0003821185399366055,-0.005719989023842366,0.00372606777053697,-0.003922104677528314,-0.004243198680688546,0.0009864529216762254,-0.00403567135172425,-0.0004377563341048319,-0.00013152897335119435,0.0012011488244014648,-0.00490696516886992,-0.0028359426759113886,0.0006493333266174693,-0.002275072005091901,0.004013888120724947,-0.0038788275588111094,0.002679460153055476,1.9500309320369367e-05,0.00026886489934397327,0.0011183656933148342,-0.003926532851543439,-0.0017010736700940044,0.0029603568845615632,0.0010347589402987145,0.0006576973551756513,-0.005933178727515547,-0.006962528522275732,-0.0021045239613401577,0.004306888089156917,-0.0015102672780876092,-0.002884283147028421,0.004128253434374278,-0.0035015485165166083,0.002785865691345528,0.0029156978233631863,-0.0005467826399548854,0.0035722781920821136,0.002892614921594527,0.0007198521957612348,0.0005382032416332512,0.005008309083109551,0.0052073652867982495,0.00013253378275246116,0.007673272119713689,0.002061854775512336,-0.006402651755801779,0.0007781679914228884,0.0018119880853376328,0.007728873391695572,0.005068865214619045,5.265044259594096e-05,0.001678752693782895,0.0016619393589135014,0.0009620820787636595,0.0037541096180317302,-0.004809123536926396,-0.0003329486784604368,-0.000255057320750028,0.0009066433321712521,-0.0004340610945852332,0.007625080368645992,-0.0024916916862988405,-0.0026231122652359464,0.00023598618159645753,0.0032963970824502545,0.0006145872624017524,-0.005132239085285489,-0.0003079466406351121,0.005049320741943618,-0.0023933740306458858,-0.0009509601085477574,0.00018615252138756583,0.0017537981681377335,0.005932540265639816,-0.00490766228054679,0.0022060377801638364,-0.007686526614448179,0.0008649625546232543,-0.005447445522072825,-0.000934845678128342,0.002871076935521345,0.0012057048522956806,-0.0005908750857743858,0.007289265014371514,-0.0054010615700776435,0.000493496157231583,0.0030455926466432517,-0.0036989229825787526,0.001096952056676923,0.0013431322381232318,-0.0013980555956495783,0.0021058116768436566,0.0020490315876638535,0.0034375711065993864,-0.0025217868304025816,-0.004391517690985671,-0.00860748683724792,-0.0007238646768886517,-0.0012546962848477082,-0.006437791022049681,0.0008895451370399221,0.0047180851222891375,0.005765594119390774,-0.0012417050137181365,-0.0025191611890124587,0.0002999604832642361,0.004468500645446271,-0.002195537373808725,0.0017971669868879021,0.00041305722877191335,1.0654744408657156e-05,0.0009840620396690516,-0.0005808496806247269,0.0032754139368930506,0.005893590914165965,-0.0004857891718107525,0.0027629325951395974,0.0008348764064286113,0.0013293923357531221,0.005356247893495049,-0.0007902725255363527,-0.003168751159474664,-0.0003259111471140127,-0.001124834321278573,3.6547459917663206e-05,0.002382780858043327,-0.00024835381316597914,0.0035256496970285027,-0.000666078691381544,0.0010296053038496645,0.0028166088991068913,0.00740376070487537,-0.002742218969342591,0.006595837926244103,-0.0024016537796550676,0.0031224839131673214,-0.0010171200186997996,-0.00036654136397498574,0.004515889880357628,0.002147344432080793,-0.0005574980857068894,0.005211319095742618,0.006170542518805752,0.002112308789900102,-0.002958333561705121,0.005364940510191929,-7.370994875840074e-05,0.0023622578237885625,0.001483417634957571,-0.002125406245780927,9.888118823224704e-05,0.0011081179596358266,0.0018110348588485203,0.0025628799010410153,0.0006984626362551707,0.008933214373982245,-0.001846327130928197,0.002456459310878904,-0.0017805081267227342,-0.0019790064306237356,0.0008363101987016186,0.0013818357948931193,-0.0041933935511412465,0.0023879575106605247,0.00019197162936776012,-0.001173060258291758,-0.006561590625975468,-0.0069319299400835595,0.008919418944745986,0.003927798112327419,-0.0023819936817179705,-0.0008825009087721816,3.066258990088591e-05,-0.0021729501775127006,-0.0016290655337832846,-0.010154439915036995,0.002219618065422481,-0.0033323525341137535,-0.0010879273023041661,-0.003396478572281702,-0.0012513333659062962,0.0006372668434652973,-0.0018731760953157816,-0.0014268310377161567,-0.0011419786457405252,0.007617406777050947,-0.0010881214202803414,7.272355845839324e-06,-0.0009136333429423496,-0.0068682308324138535,0.0009111390222082004,0.005505955208244552,0.00572971641600807,0.005874582756876534,-0.004765241257874029,-0.00037637569758134656,0.00434135540201864,0.0002152042682492131,-0.004228892861761168,-0.0040190630751046124,0.003168776087434782,0.00644355916382862,-0.0017417156389382714,0.0019707618277999077,0.00031015185708972004,0.0009621501208218013,0.00489587289860996,0.0007900173111839081,-0.00039947532637151065,0.004155650911930939,0.0019849024404903623,-0.002500855222162186,-0.0012664175598378112,0.0019329078985559143,0.0045623917043085245,0.0004002651069618988,-0.002168750354820485,-0.0004844096028532167,0.0010025693933675237,0.0001718854526603189,-0.0033694220801009415,-0.0018343506166083542,0.0011425006224534573,-0.0032760118260606306,0.0033769717585227766,-0.0014631093210998975,-0.002368457840044777,-0.006567093692241471,-0.0015929377354202525,0.0006041776318153064,-7.165108903623304e-05,-0.0008131881267025789,0.006024882581356829,-0.006937967612771614,0.0030908532687765355,-0.0019288529676491054,0.003036744961950544,0.0015511839524515237,0.0037517744869496254,-0.0076752017005974685,-0.003410385918891236,0.0014403510545204746,-0.00044708107101362206,-0.002334303503115764,0.0025981584438501447,0.004188633288812725,0.0009247147671220083,0.005700498384119455,-0.0003407794365589303,0.0027157809249492766,0.0024058664052616667,0.0014824711658898973,0.006971774892681973,0.005129100919747354,-0.004345222159998878,-0.0010152947916293581,-0.007386677529450086,-0.0010685688209599894,0.003796503938042009,-0.0013198538403546088,-0.004983847483945397,0.0015801681182532699,0.0029637148616541726,-0.003453031326920834,0.007640588501967178,-0.0002672332209852087,-0.0016970431082872675,-0.0013244306586835976,-0.00032126715075649455,0.00034575338896571003,0.0009740451534957469,-0.003913497719189518,0.0026347998739103193,0.0008044078682782074,0.0005682412363246759,0.0031994892834971106,0.0007011323354434017,-0.0037911371495301777,0.0028364186934632385,-0.003607109376438353,-0.0003688087131993046,0.0053318638613798815,-0.0053420676011328985,0.0019409325615858902,-0.002466602783396104,0.0038446620332625503,0.001563866309993108,0.0036885527972493268,-0.00030985915290431194,-0.0018933883203439735,0.00022541514996121892,0.0014093557169459257,0.005112765462609184,0.00031644816679893983,-7.275173488970853e-05,-0.0060366582457201294,0.004053688676849011,0.006405521977672209,0.01011787643028445,-0.001444146480044325,-0.00011722473123495907,0.0016673468606796414,0.001156035792908263,-0.004256964714021455,0.00491517779326825,0.0011188711822043794,0.003965193417505332,0.0008307113608388614,-0.0046442406652753235,0.0021179034062605803,0.0003286566702233613,-0.0033311966303084524,-0.0013632571022273643,-0.0004979561811731759,0.001394157748795704,0.003242056140104306,-0.005674615684922009,-0.0019124035222887463,-0.0031452305273102373,0.0010721088334950041,0.0023566346725659762,-0.000480606754052099,-0.0019254755801460016,0.0010877731568206587,0.00024502319814220314,0.002896500582609542,-0.0041973876088590685,0.001220991957685834,0.00093373603129762,0.0009276995253995707,-0.0019225955937896,0.003618952253397155,0.003552593496563655,-0.002979123235276026,0.0017287391298842839,-0.00012911534763219404,0.00013076346048112013,-0.00445430303958252,-0.0012963861870447083,0.0013016805299292922,-0.0003420475455499918,-0.004558992005471667,-0.0017647911480570151,-0.002190465257082184,0.004653820643129631,0.004277407508970275,0.0014180604910367673,-0.0011300783420248556,0.0013275425514613138,0.0024666618446883043,0.0008750516753856963,-0.002399982352764467,0.005843151338659136,0.0014243381222562722,0.000493326678437435,-0.0049071201518376744,0.004920488375655439,0.002301840811049419,0.001016403602829912,-0.004154716386613975,0.0031252595295628216,0.005144475133095916,-0.0002371391016993889,-0.0012212804074587412,0.006768390844430084,-0.00046668599723219206,0.0059280716995184805,0.004174416114516359,0.00010772835723889153,-0.0032146808442282478,-0.0016378682456302536,-0.0017005234962625948,0.005871935134188421,0.0006947241309140924,0.0026564104603422336,-0.0008597593991874904,-0.007039468226862846,0.000917310048706192,0.0010289901210826327,0.004554271731143615,0.004607837130031502,0.00687427298560357,0.002383260459588175,0.00011876402176604177,0.0007551697129935061,0.003798765425204922,0.0032089945633011997,0.002839116147913382,0.0013578144230304938,-0.002698865041324851,0.002327971491605563,0.0015798158120649782,-0.0025220165260550114,-0.0020557022283047392,0.006007374128043069,0.0005341492835142154,0.005420460391982969,0.0024072111885889372,0.004108295256559969,0.00035865037052752713,0.0051919899109411525,-0.00811847449040931,-0.0001920105887400894,0.002901165366683708,0.0008390766055364822,-0.0027378542196486075,0.002000995996942515,-0.0005575153889990996,0.0004627167120778154,0.0045357181442771425,-0.0007891076675917904,-0.005751954674212824,0.0004267053406700619,-0.0007824517720823754,-0.0021729874648873985,0.0016125395414441181,0.005098166095669623,-0.0007879807149291388,0.0046332680461386635,0.0016959324423897488,-0.00042522545028911724,-0.0019580506943452365,0.0015561804276261687,-0.0021923431007869055,-0.004608472324712824,0.0043094621177262316,0.004377632692418663,0.0011852318095124071,0.001307821031299068,0.005829279398601604,-0.0015999827773478692,0.00514224904676764,0.0021476664519756825,-0.0018346112306294033,0.002706869097412689,0.0024489954295604326,0.0014077965888600386,0.003427630839873244,-0.0018581546047547358,0.009458463710636205,-0.0029607501215535843,-0.0010961017010914082,0.002474094807053771,-0.004355467442402391,0.005358560715641653,-0.005013775326882292,0.0009002593316575621,0.0055359724081231205,0.0015009737887646372,-0.0035028708664839783,-0.0017149863537240944,0.005804371558530266,-0.002615975272493333,-0.003238425493658591,-0.00360428936885089,-0.003164441715287243,0.00012346610114731259,0.0023343124377424975,0.004833146464821702,0.0035444355808786736,-0.0007510260429611743,-0.005601733253935152,-0.008238377171001662,0.0004115612900686666,0.00359289793483525,0.005530480710383211,-0.0016052549983910994,0.004515976927274291,-0.0010783450736889396,0.0017811627229493362,0.00010969516607943409,-0.00012417487987305694,0.005530038503970406,0.0025253544884531903,-0.0026901406261206472,-0.0019321995554961054,-0.0037955330129659614,-0.004077097412546058,-0.000151945836149016,0.004062884132399188,0.0005495259072842892,0.0019482279433168236,5.071141030315771e-05,0.004718366557683986,-0.006480318918981585,0.0022801334367591416,0.0008928144159341419,0.0008916273825295761,0.0014475474835925557,-0.0021771205286132,0.005169070542794793,-0.006890157585662709,0.0038376579952771515,-0.0010497856681288165,0.0023669091809788672,0.0021327947391461145,-0.003254189603877504,0.0008621853660207227,-0.002344694439890458,0.0040477574717541175,-0.002225584744224823,-0.002527245556413365,5.524092950904893e-06,0.0030862216616428743,-0.0009607692870144441,0.0021150481718093203,0.0015098880812524922,-0.0005617325671717444,0.001998863487085692,-0.004479805791505476,-0.001500878800518037,-0.003785135917505264,-0.005050579086161364,-0.001206795085690345,-0.0054002760039145925,0.00555059311852401,-0.0034366327845944743,0.0004929772656076112,-0.0028483903075292765,-0.002585871009858658,-0.004746630047947236,-0.0016197223291247707,0.002207007752498081,-0.003685509308593654,0.003970310294889321,0.004934383637128711,-0.0007627889023920044,0.002548865324318572,0.0027590733959111267,0.000502396154604403,-0.0002973026620412666,0.003160592969844053,0.001374110715193192,-0.0016113392580511243,-0.0003408271233360555,-0.0005944093675846734,-0.0056189782962944015,0.001357638751096063,0.005835682221708559,-0.0022290390522169573,0.00024173124849462938,0.006759798647145461,0.011170210212176878,-0.001625391103689895,0.0021324236356137054,0.001939663319694404,0.0007596886210912157,-0.0019306356878238415,-0.0006842499007329015,-0.005771958331610896,0.00017038964156821897,-0.0018271464821696943,-0.01000082741610909,0.004283764535183898,0.0024292249243810667,-0.0057117058772794835,-0.005743949532915936,0.0033352884700860977,0.0005360185894854528,-0.002541193116035072,0.00498842772496633,-0.00200138559355875,-0.00017066807072976556,0.0011340499150542594,-0.0017170805395831479,-0.0058098324328343266,0.0040098570298398375,0.006289710596825631,0.005797904248047625,-0.0022136525998847187,0.004443936389106725,0.0027276289483794446,0.002468469096023792,0.004628910258238164,0.007583392577266447,-0.004101629933905653,-0.0005386794540308561,-0.006759403073466617,0.004620126049953293,-0.0005366106997644583,-0.0004815272085500261,0.0037549624379503072,0.001392794792542955,0.0012555733967695875,0.004587023800691282,-0.004084737553965854,-0.0008303413433930045,-0.002817281972478259,0.003376679953156191,-0.005806581167169911,8.011230076195737e-05,-0.0015444339205645692,0.00033168447117421456,-0.0034117319530893517,0.0002550144266530311,-0.0016199262736689931,-0.0008851351603356012,0.00522733126093226,0.00012692215533190976,0.0014699362769519631,0.0016515363610174784,0.0036463030959597896,0.005065070578658206,0.004792764636689255,0.005697589031556404,-0.0002567156315070726,-0.001584469508495419,-0.0037448697137101032,0.0008399670995606614,-0.0004982745958997377,-0.0045771224747594924,-0.00027767876064051813,0.0016353132931958454,-0.0058944704410490625,0.004254172722945692,0.001960948433695405,-0.003047861713327918,0.00041634770478348414,0.0037808527604891967,0.003622081880580975,-0.0017110976879383395,0.0013371515198334182,0.00134387339980745,-1.3501608444726143e-05,-0.004079450864506109,0.001591182064847608,0.002181056801700102,-0.0027720459748504533,0.003926867454281102,0.0010599232306123026,0.001591981167341377,0.0009378386102273929,0.003958343695753228,0.0005975549541864806,-0.001623848372792094,0.0029526827382434237,-0.00548564504638002,-0.0008294353290465998,-0.0033058600350352437,-0.004166357630292039,0.0012273665603160623,0.000493112308681793,0.0014429740269519004,-0.0003464687927111872,-0.002770760587731175,-0.004399974916428362,0.004987120065438336,0.003997144364818545,0.006860630542972694,-0.004847782074666281,0.0006894523631268385,8.593143795661549e-05,-0.002124038539796819,-0.0006311445130764348,0.001171789468282282,-0.00046719267702170905,-0.0013516993545028965,0.004643947797413494,-0.0029084059726671263,-0.006228197455762334,0.004113788894653396,0.001574759627310097,-0.001481132399326526,-0.0006380097524768984,0.0027979753240843456,-0.001929265172482829,0.0003236913412765918,0.004832011491821734,0.0050294229246271045,0.0027465375801910166,0.0003710599480666762,-0.005186094979716876,0.003529749951161711,0.0015043335447209446,-0.0012059306142770461,0.00020199135878096235,-0.001833175529923048,0.0012712286695771248,0.002959565156365278,0.0003299330483478392,0.005105822085496914,0.001133178156386651,-0.0028251232891550885,-0.0009341439589440187,-0.0012327184897488576,0.0009667407796457528,0.0004392374103565739,0.003778914712409071,0.003898414312287701,0.0009400005037815682,0.0024893102197572885,0.003599905649833887,-0.001104037722835311,0.003041303981234614,0.0005945322414375915,-0.001639595079020944,0.0021110273241486495,0.003951708715346179,0.0037893766842107346,0.0034377761034612487,7.300532070546553e-05,0.002231157867102123,-0.0004120066995068796,0.0012130990905730979,-0.002281185082171196,0.0015076610143406782,-0.0019241292111009092,0.004641753299127793,-0.0013810707025483577,-0.0020863708932423266,-0.005922000031871672,-0.0013088619695638057,0.002550513297873109,0.002446326222773517,0.00036084677792281217,0.00010038143005705576,0.0017547916149202039,-0.0004607724825746502,0.0014621062473131514,-0.0031966041112153477,0.0028803113871527096,0.0031160535053254353,0.00039472462021753857,-0.0017547288571486464,0.002668035873581299,-0.00023066249361451395,0.003615547499291478,0.0015971967869455293,-0.00036026186867329135,-5.405859284918781e-05,-0.0010686893740582879,-0.002522631776993009,0.0015995650088430585,0.002248629608834346,0.007057660462526391,0.0007944751049525343,-0.002998517118008768,0.0038757540924798644,-0.00529869394055582,-0.00011813391216939414,0.004447449017691238,0.0026037087876711407,-0.0039268089706966615,0.0037993264594974236,0.004656658887838515,-0.0015296127822729691,0.0008673623007093424,-0.006710655808812031,0.00640174488508571,0.0049266706175886766,-0.0016091600088108749,-0.002067410187299127,-0.006258682215800127,-0.0031936573584242095,0.0045159661434364074,0.0005675800247114785,0.0012336053645040151,-0.0008860808257705304,0.005435481501842301,0.0026707172549318846,0.0013705055244703876,0.0014634330341606932,-7.168870851417085e-06,-0.0007934359405156251,0.00406182042249297,-0.004702154252024323,-0.0012642895367704372,0.004030034169234201,0.0016344249918726107,-0.000558169587394362,-0.0032892474229449043,-0.000860481709173296,0.0037002797327443286,0.005138103153495942,0.000828889576968088,-0.002150760858901298,0.003997372815146844,-0.0008205920965125944,0.00022553136418012427,-0.0015145650567070746,0.002490556300941753,0.005558374993352013,0.003855985712909032,0.0012851646404125987,0.0020826147378333244,0.00191400938337145,0.004471026651423346,0.0033434371628843352,0.006753977325721282,-0.0013440486171786494,0.002747809343715578,0.0008680017887611052,-0.001075305716101182,-0.0017045562564385103,0.005230563569844784,0.0033220523222021797,0.004296449046166251,0.0022146991693787867,-0.0010947091367901976,0.0074467226434522995,0.0011903158176135747,0.0031826170873991426,-0.00040951536910689083,-3.925476679592802e-05,-0.0019013021478547925,0.0054369748469490905,-0.002396022784797986,0.001014743464484843,0.0019314885936017117,-0.006695884254314811,-0.0027672424273146316,-0.0009686862838862058,0.002707275755552008,0.0010562538827575071,0.003275948843335833,0.0008123345137823714,-0.0072370879044101975,0.00310459478760985,0.0050661620838818875,0.002578218473194815,-0.0010941588045967259,-0.0006177156695724468,-0.0013287425590637458,0.0009098205494599048,-0.0039044028846166993,-0.002253265087048235,-0.0034903408998566985,0.004453240376299993,-0.0001625858089015468,0.0026641540777585194,-0.005999236644346026,-0.003506466683800221,0.0016909274860203679,-0.0011702913353642376,0.0009587166516245307,0.001313251438879945,0.003753982435041087,0.0027184936517440366,0.00998542581744575,0.004524200358984206,0.004223382722747252,-0.0015993874766228036,-0.001327253499047788,-0.001830346224261711,0.000329298945784505,9.739171057958057e-05,0.003975516183495864,-0.0075404210715023295,0.00018226851950116094,0.006892717091099656,0.0044211419585917415,0.0029212042681570956,-0.006060220588151847,-0.0046059138445872835,0.002056558789016052,0.005603961533855644,0.0016596608207483828,0.004647854081689703,-0.002940761361042184,0.0028633036277285785,5.825432440280368e-05,0.0004142659512460911,-0.0041138176512297035,0.00021392543303480263,-9.30532368614713e-05,0.0005348217297392784,-0.003815188372877853,0.0006204502374205735,0.0029340334631316667,-0.0017639910212064638,0.0011726624350953758,0.0033202744657139134,0.0012188119051435434,0.004324414427560368,0.007532236964766027,0.0015870335032316164,0.009172422586031145,0.0014643010185766104,-0.0030204284236832924,0.006881780578223764,-0.007417021859752216,-0.0022355005431834796,-0.0009541833401982453,0.004072293191029182,-0.0009500585124358182,-0.003174793260501159,-0.003256887017959074,0.006979888271444333,-0.0015511854102093678,0.0019810984229562314,0.006353033043114232,0.003815461892137362,0.0007442208753404604,0.004984943664212732,0.0034589436630429503,0.004233160380643127,0.0003228471160769589,-0.002816666839380094,0.0011054887030403863,-0.007174950769593714,-0.003459567591687701,0.001471660568851065,-0.0029102874638060544,-0.00332372417400808,-0.0008490698727242257,0.0006135999886172786,-0.00030170451440229335,0.003385736850819385,-0.0027659950514454046,0.004659271717099264,-0.0004063080100960149,-0.0014832865386961733,0.0056806814813831555,0.002879780785281499,-0.001796738592158915,-0.0015581259605430258,0.001018002783084076,-0.0022222716491920257,0.000731104843638161,0.0033154475421948346,0.0008062599543040558,0.0005082778546868443,-0.002157601904062294,-0.003127164380665715,0.004695501927039558,-0.0021091210526831793,0.00022952125984825676,-0.001353881345855855,-0.0021080483707726825,0.003908300259098783,-0.007489417143071529,0.0014087536265299863,-0.0043665765724992716,-0.0006526003376897921,-0.006977850692740803,0.0033205351717119436,0.000744826843358834,0.00016496939524009543,-0.002929693777276102,0.004426856594639191,-0.0015182400472528413,0.003113977897835459,-0.007532966241623915,-0.007915621594032026,-0.0004568097124599029,0.0025989818412264836,-0.003404010356541048,0.004236842745780532,0.0020045486398230492,0.0012826565250790704,-0.001139930144997784,0.009737403383487562,0.004142012774560546,0.004118624553036322,-0.0008463699978479509,0.0012061655083151542,0.004952210689048143,0.005185099265062322,0.002915188084777514,0.0017244860521579085,0.0005353665888494177,0.0014931428468841525,0.0036337190440364985,-0.005595854019255619,-0.005503297344663533,0.0022398299950193985,0.003038247882389389,0.00040791438880230464,-0.0014611098889397698,-0.0009932791609294283,-0.0040617375059983155,0.0050185338391006,-0.0009753637675903172,-0.002830502918409944,0.005287506803869181,0.002649409595452165,-0.00021244661747593253,0.0005741397248129798,-0.002508937625302769,0.0012607851660707686,0.001988242218890746,-0.001850983503007319,0.005209536791618657,0.004847108241871874,0.0015036720713893263,-0.0010280173777929779,-0.001416012417603313,-0.0029561054321612977,0.0015591166933310704,0.003873672022602955,-0.0017093642565784778,0.004257809745784806,-0.0013348889359315226,-0.0023458406148648653,0.0023761433218856924,-0.005556556809334813,-0.001998161654640005,0.0016088322005381437,-0.0001185209751391757,0.0004955757823717087,0.004731461371407239,-0.0012004572529223296,0.00011042780660011983,0.0003552958359293743,-0.0002429696230107808,0.004273250636821882,-0.0029538887820374005,0.0012277512714644913,-0.0012232898318128,0.002837116863550345,0.0006038894618591793,0.004375589090471616,-0.00633452845397857,0.00817144238029607,-0.00017545024924000205,-0.0037237721338773708,0.0014191682520449072,0.0018882622316365595,-0.0018568375645025103,0.003883105114398054,0.0035134885152859918,0.0001396590881642481,0.003615086307425412,0.0013251760213724819,-0.0001704493864503231,0.0032160189813501276,0.002846300284603047,0.0011186627837068465,0.000234360696480379,-0.0003970279717138181,-0.005119108003230463,0.004814638369425449,-0.0038912504273599987,0.003357346109961013,0.0023373718316618145,0.009076748084541727,-0.001846591884714305,0.00258088369338622,0.0031913070912470225,0.001982437374342183,0.001611914331664498,-0.0009631786015935287,0.0030194634944853693,0.001698678663751439,-0.005461904482823721,-0.005787047666641956,-0.0035025259371591366,0.0033049616451258216,-0.00014855519076748956,-0.003197877764506513,-0.004672133715065213,0.0014895679444903796,-0.006549287331432531,-0.0012901957350296871,0.001859484947095002,0.0005489105830711588,0.0006175148536259347,0.0011811404937639917,-0.0038857034138221544,-0.0005696490957310901,0.0011461837750119136,0.0019627493114427338,-0.0016734902447025355,-0.00459312369556421,-0.0004879926792065044,0.007483677700881672,-0.0015684729651313243,0.002742931234766538,0.0036115759844904593,0.00253593863697943,-0.004359893276865452,-0.0028870680126522443,-0.0014869910940729148,0.005177700178017621,0.005012875998422295,-0.008828322532022226,0.0028802168368277305,0.0005140216833905732,0.00027255189331840905,-0.0012611136580019816,0.0049820815993441275,0.0006126231360846921,-0.006524852752535616,-0.00034605498319832353,0.0004979134765652434,0.0017186482304445217,0.0005660193378137546,-0.00023369022448304128,0.004513718905094773,-0.003790089615820194,0.003838832446599806,0.0024686917933648637,-0.000124748498932767,-0.0004889472710998501,0.000956714574335063,0.003222577950096004,0.0029201430973582747,-0.0032063160908004946,0.001079462280349516,0.00687631664876157,0.0006423485552502596,-0.001209752023569038,-0.0024443576459726776,0.0035670629707212427,-0.001644129541789446,0.004438666050793016,-0.0026851407560797235,0.0037399508674991963,0.0057923853703530015,-0.0007693158325934134,-0.003159099737736998,0.003013672024669523,0.0005825832534982213,-0.0034407566448843483,-0.003916849171355875,0.0017027178919876349,-0.005030895705776086,0.004257619750542603,0.0038921787311302874,0.004494935447445381,0.00016165967105538992,0.0004258640448049564,0.00323755124767135,0.0021213517083201934,0.0020324932249860365,0.0058417877215308795,-0.0059796036282436385,0.00573557951278608,-0.0048455808474730045,-0.0013165857604032606,0.0008957935264787738,0.002083976916920795,0.0010360898962441384,0.0008111295752806257,0.00044719461309660955,0.0020111833913554907,0.00714485682155147,3.360766558497077e-05,0.0015487201448774583,-0.0011143441519083392,0.001754765109984205,0.00016241921730299295,-0.0008168931730917887,0.0030926257426881023,0.0030406033456074383,0.00027590316712040007,0.00043674197994544015,-0.000616479979558508,-0.0026125885479324888,0.003472278272106496,0.0027202376917723563,-0.0013453025089716646,0.0016495064351680173,0.0023597006107577293,-0.000466304817682315,0.0007913331550169201,0.00337332288990539,0.00027317537243616406,0.002474471074076734,0.0002922787242873283,-0.0016638089056134715,-0.0017793151721632835,0.002195154702070173,-0.0018235645461082794,0.0007677700967352536,0.00022867532985081156,-0.00036233143710045156,-0.0038391653069429423,0.0023801038686586,0.006410588808377186,0.0030121211003474907,0.0017227637233581555,0.000584176946593433,0.0024929857961033816,0.00040463558990327914,0.000199241930385161,0.0020086010621252984,-0.0005496750202371051,0.003684293733294001,0.0008062453329150976,-0.005560691016214938,0.0033826831239391836,0.0003772651210100659,0.0052291023899649815,-0.0031477835960634316,0.00032637108400715,-0.005652302504761625,0.0005062621194744591,-0.0004934640437846149,-0.00514193450039757,-0.0015572860810704292,0.0005752924775394502,0.0028856498111136165,0.001509661078014044,-0.0003918404309308801,-0.0011929836416324226,0.003791952216304379,-0.0004750039507325595,0.001182840267116429,0.003417238170423898,0.0026572994612496198,0.003019396002910856,-0.00036570033571536235,0.0015125157151323588,0.0035726536706863366,-0.004065802884124156,0.0007288976246279383,0.00022461434590936104,-0.0007454060991025505,-0.005003839425729218,0.0006756422701510086,0.00013947157481798385,-0.000692544312085446,-4.4975905935019705e-05,-0.003677109133699639,0.000718167681691531,0.002175480113346289,-0.003076736256209573,0.0027558018299933293,0.0009709652745535943,0.0028233929979246666,-0.0015801708896912585,0.0019102401847154525,0.0035974840778949155,0.003277648195196625,0.0025882043405903547,-0.0015955836058730711,0.000560373125451612,0.005741360987865422,0.0024090181459812078,-0.003438527299804587,-0.0013785221058569858,0.0007749307261209942,-0.0023304597559222397,-0.001532382353693899,0.003145278717388458,-0.001929561864586635,-0.004862258752735442,-0.0027745447555376696,0.0003400071216242684,0.0001423418546394966,1.582485745025783e-05,0.0023111604746488836,-0.00043924348389976647,-0.0007008079491087878,-0.005964007058769145,0.004193055866643849,0.0006292490325446682,0.001897038436645397,0.00044590183598279917,4.6197474958649814e-05,0.003607857408349875,0.0014146569985418625,0.0021848998613749975,0.002062019650663543,0.0009616175213635833,-0.0008081329450444994,-0.0010926980964595446,0.002041761464642055,-0.003404527168561574,0.004685518195671513,-0.0010453575965496998,-0.0007975610535321321,0.00018608968030232913,0.002146570149847093,-0.0008758808069363874,-0.00302442568071844,0.0024991207263511165,0.001803858594639951,-0.0015987308722837858,0.0021604979468222876,0.0008312000338761928,0.000131708574753165,0.004748542306943232,0.0020433642947507275,0.0020895479822866177,-0.0019201161574461444,0.0036747310609944344,-0.0010816062769082682,-0.0016499202744565027,0.00044893669710665277,0.0015962049602850214,-0.0035701753105547305,0.0007767536543157035,-0.0048102682606901166,0.0001785015906914812,-0.0023605377968366277,-0.0011426383790293444,0.004489285781018767,-0.0018055470866630773,0.0042719293582379,-0.0048465593898648525,-0.003819173526061021,8.328370477106931e-05,0.0025270830786966922,-0.0009370910765952634,0.0030241672295707985,0.0025101548444276776,-0.0031428189079626793,0.005077913298444637,0.0011124207851177525,0.004345702684368005,-0.0004273238942019515,-0.00011673625507293357,-0.0016134365594809646,0.0021744105503321777,0.0012475359908919847,-0.003238417393469523,-0.0005939866673946164,0.0038487492463814372,0.0021883691548346827,-0.0005603349492599979,0.002525658868927591,0.002826946512273336,0.003122623408226805,0.0025877954594842067,0.0023181947096726323,0.0002949944862314915,0.001766711085644017,-0.006162195339428722,-0.003065037602606793,0.004602134547368176,-0.0008928891722997103,-0.0027779550215320742,-0.0041709006302613994,0.001214854214669995,0.0042443699881847775,0.002972744250269949,0.0025122249006338877,0.003141668706508793,-0.0009029339382323913,-0.0051306316037446845,4.4441037361286614e-05,-0.001170650525473295,0.0028951473977169673,0.0024355438888928,0.0007186354873737834,-0.0008475212130627655,-0.003198970620113633,0.0008410080480075632,0.0020993886364513745,-0.0014191356290041725,0.0020579677588358127,0.0030456936073100078,0.00021426532578896853,-0.00045231126095607223,0.0011406720452843224,0.0025434378910002423,0.005463342633896043,-0.004187055945650467,-0.0004393216233188476,-0.0006387266346516524,0.0010706392779860662,0.004185108855508375,-0.0017607164230730849,0.0026375623351094124,0.000251975152798606,-0.003812813706617693,-0.0025747639629924175,0.0024010107756768768,-0.0013055488206261698,0.0026972167488858298,0.0004307953387329538,-0.000894363273772316,0.000420405571481076,0.003064027034827645,-0.0012660282380059086,0.0024808874990180354,0.002975337271656044,0.0005410905574724464,0.002901465229598828,0.0009106618637635205,-0.0009159309163540809,0.0006297462161662108,0.0025373100874093255,-0.0023450407031549545,0.00020466481170662524,0.002084969068877345,-0.0037828384043797794,0.0033116736181129504,0.00019439525066253,0.001870104624779468,-0.001975697424488675,0.0003048147587820973,0.005549863912549408,0.0004690282587702126,0.0005482774138965481,0.00321158107399934,-0.0036086428957442644,-0.001606137309296994,-0.0006147349433833499,0.006507159848173926,-0.0006454757164749689,0.003373166217074947,0.002118792197653336,0.0006331433912116935,-0.005461129354371737,-0.0031934952376966312,0.0007133408221342631,-0.0019422465847985374,-0.00043094368176067855,-0.0021944208048518543,-0.000938863744130926,-0.0005612956241704265,0.0037594314208953274,-0.0023118823298396846,-0.00093234309655454,0.0007867553698651396,0.004488184199199796,-0.0007370812949756528,0.004016635172736152,0.0003802935562682198,9.280199340039834e-05,0.0011841432707414424,0.0022310843373661276,0.0025983352940003326,-0.0004067954644353818,-0.0005365633366501419,-0.0022170332319628077,0.00035441585842134834,0.0033144422028235534,-0.004950276704166897,0.0023683675677466528,0.002593461049709983,0.002898747651977242,0.0032750470255080598,0.0006526884325384827,-0.003083239892833857,0.0032201840379394403,0.0030868425041999086,0.002801500780980615,0.0008819038403762828,-0.0008229162724568954,-0.0015023050634953084,0.0021985870543944136,0.00022433815107090593,0.0011254712926646998,-0.0006134785673490299,0.0028779134500657466,-0.0005077723782429578,0.0027852144082533216,0.004857650371323074,0.0027965190913766943,0.00010244359462210319,2.5055061992065486e-05,-0.004247379582975359,0.0018354467114308427,0.004093369177167593,-0.001441720432522771,0.002768599475099286,0.0006825922730744255,-0.0012709432620528446,-0.00381679543836129,0.002920133558125942,0.0012623808503675754,-0.002428435631485701,0.002111373960962719,0.0027448189844196183,0.005437469520009723,-0.0015863318403377526,0.0025726382951462043,-0.0012456549747735272,0.0008479240136300714,-0.000609682999723548,-0.00047206725608194797,-0.001126600255186096,0.004113224618317525,0.0012727464889654484,0.0007074213043991013,0.00030122440948239233,0.0020727193337832395,0.001816881218318285,-0.0019164401709701243,0.002258553862698598,0.00018046589747038698,0.0002318064608715013,0.000533693583617031,-0.0013555057517808788,0.005034122174068991,-0.004391671515393738,0.0031904315254950547,-0.0007892029075487278,0.0004363298193413229,-0.0008370505633037738,-0.0022682620545532227,-0.005512390185803065,0.005999724298881615,0.00039221622333914267,-0.0028712383583552317,-0.000612932767395336,-0.00019760200917588904,0.003274460176542573,0.0022512159971813397,0.0003088857017632065,0.003433496011810409,0.002281222550695065,0.0021962041475303185,0.00023499364487879188,0.0011597558490018364,-0.00034422856856549983,0.0032466387336625444,0.0022993705936282718,0.002595808615190598,-0.0021158897019168763,0.0023753767134795404,0.004065852310169588,0.00034663273776705457,0.00040862106610002114,0.0029715405599808216,-0.000856003203290122,0.001315192584221608,-0.0016626678616433507,-0.003807657012889481,-0.0010860364043127956,7.59405060766798e-05,0.0025397851598722952,0.00415344033038829,0.0006461569995532962,0.00014166167851010656,-0.0016834344873371723,0.0012560403261383873,8.939897771172109e-05,0.0017609030261333694,0.005299331126684816,0.0005096469968967291,0.006393253953462074,-0.001020598603198584,-0.0008865129729648918,0.0008457367895443041,-0.0022804535577953962,0.0017530120372385377,-0.002069670335676343,-0.0028516798136294717,-0.0012458814462047844,0.0027635766503543674,-0.0012061346971467828,0.0016890086089566348,-0.00033498503888704137,-0.0008100315825931108,0.00023141073897797293,0.0024213647051239623,-0.0014813013241817402,-0.0008533888339693189,0.0009103774617169906,0.002440170915492642,-0.002842905894822965,0.002236301268690902,0.0024544691795495674,0.0026636161187475545,0.0006974508170030659,0.0042108604030409065,-0.00210858379945759,0.0027151893459878493,0.002972059689840516,-0.0007551467729860409,-8.06801242892168e-05,0.00047366730190529324,-0.003994522689019939,0.0011231517800338153,-0.005002519768420965,0.0010502602257212686,-0.0009655779072106451,-0.0010931207224796507,8.52198436784747e-05,0.0022883814936962435,-0.0005063033405413503,-0.0004983097568016337,0.001573524395536653,0.002030984805297044,-0.002611911405191873,-0.0018272820228882295,0.005450929136914379,-0.00031540646303703055,0.00020098370815520167,0.0010790106591570133,-0.0056187735444387125,0.002197194462761103,0.000751233569320789,0.0010139730409864417,0.0008316844184472072,0.004640984943622797,-0.001399273115436052,-0.000977870126306603,0.0008424115355305056,-0.0004154014093086587,0.0021306727709104385,-0.0005687481753919493,0.00032170012910930144,0.003155791426137697,0.002226005807427555,0.0026612736938416036,0.0026726611142526948,-0.0005375261229343066,-0.0033078665125778825,0.0015390490207217039,0.001898033050591613,-0.0008344755975042172,0.005144942166175393,0.00017476358361570037,0.0007398774680834127,0.002427335513120349,0.0009836598762234655,-0.0042695889662856595,-0.00035010590449803243,0.0004281817461858077,-0.0004709163237676761,0.0031466812432367273,0.002599490289787584,0.0003811177684083246,6.0831840519493945e-05,-0.0009508601150329282,0.004188743773776999,0.0036259122555841526,-0.0022029971356289256,0.00010175616239846198,-0.0007915258547409772,6.817094290015095e-05,0.0002722465196502492,-0.0047848794687237114,4.1802445930883843e-05,0.0041607773996852485,0.0003312383029348765,0.004234910682176328,0.0005088083130424721,-0.0004957023621041578,0.001313818161101457,-0.00165572355339503,0.0007858363503641695,0.0002601322195196547,-0.0030747251936783146,0.0019338131670741288,0.005226625451425523,0.0023815838895410273,-0.0023565061056054094,-0.0015095402070927982,0.004180464782386056,-0.002696186770071256,0.002901934031545449,-0.002907227403558143,0.002692094472332666,-0.00013504585721845784,0.002461767253765443,-0.0036065224114034834,-0.000777144163580919,-0.0015168749012288499,0.0006661198367885482,-0.0015461389942556336,-0.0015269781898872353,0.0009873950664291535,0.00229096707509135,-0.00148639804919631,-0.0009632214214727538,0.002604263357093462,0.002310975345636245,0.0009410594803045606,-2.0852543315464883e-05,0.0028135477532351587,-0.000995160137225794,0.002144673190996537,-0.0008933056351078193,-0.005248129850978485,0.00011820208595751521,0.0024560971345040893,-0.0014972025044438584,-0.0012130009703480782,0.001123736758940697,-0.0008146524608499023,0.00031839686490369015,0.0027568918888570726,-0.0010075876519072024,-0.0011682372349291676,0.005364239899080298,-0.0017658427884610767,0.0028312605800786417,0.0032187593040297843,0.002988114485287506,0.0030573816288177983,0.0023892129819474556,0.0031862012516153553,-0.00467916780586751,9.611385575603708e-05,0.004652515621359372,0.0036078534881448725,0.003331039747819168,-0.005053931690511221,0.0024750757052948162,0.002062183445483833,-0.0017123892092819684,0.000941337497217175,0.0028110223289008933,-0.001591887538436012,0.0027440529095150118,0.002796091930163955,-0.004164253014807559,0.0019043006965975362,-0.0008596029691869037,-0.0005172052780432868,0.0042251035863320125,0.001647122440335997,-0.0004175458357622239,-0.001277679993189393,-0.0004737946324697611,-0.003317067653796669,-0.0009098488613751323,0.00011699721988082663,0.004500994428762555,0.0025129634969840568,-0.005225749588401707,0.00010709634573156055,0.0006721623726840262,-0.0029251639073520535,-0.0010356054413095544,0.005472511629794193,0.0001867232552452178,-0.0014730792694329783,0.0020700836161617396,0.0016915968584049817,-0.0028959738509195775,0.0029270523601975643,-0.0004424338011825197,0.0001701503093682634,-0.00492969995809562,0.00012313047797029498,0.0030229984040212,0.003068831835872589,0.006039515334443015,-0.0007659916685538663,0.0006220610079316713,-0.0006492222514574341,0.0020667970827995042,0.00048451595361312453,0.00025704474734684164,0.0028770361159642776,-0.000741180797092375,-0.000862698889188182,0.0031123978221241798,0.0033226039340234696,-0.00026990236862512866,-0.003278405069846149,0.000524139134719808,-0.0009217406947652696,0.0028701461630178276,-0.002654215286172224,0.0019273957155053485,0.002386417674327619,-0.002886770616373202,0.0029310856390699367,0.00017329524826649516,0.0032654671810805748,-0.000282106905486071,-0.003088597192989768,-0.0009957796465543637,0.0024490175206026447,-0.005783670864341874,0.00015289758988059374,0.004558237406561166,0.004605588084181794,-0.0028193871028037755,-0.004058665222031065,0.0031149818817485073,-0.0024583644984693255,0.0011978190884912277,-0.0006030465069702278,-0.000516739691391777,0.000874839645143897,-0.0010364408047595607,-0.0010326783430552986,-0.00042554193723372155,0.002557035209651254,0.0006260665090706575,0.003039548195337088,0.002545631080062319,-0.0015272761623787798,0.002599082526782257,0.0024447218087788516,-0.0012715352362829705,0.002720701865300081,0.002802703499552794,-0.0033648327188505714,0.0030470578676587627,-0.0012746580573427628,0.00018696463516038758,0.002749037491861519,-0.0035218179013304877,0.0008503263142616253,0.0024527062298998164,0.00296316190640186,0.00023873527017991,0.0036998208306702218,0.0003187596824632951,0.004558267639244778,0.0029934227064544023,-0.005603981965113704,-0.002560718903633048,-0.005070752967789947,-0.001957384935443726,8.37011109485415e-05,0.003067851780323322,0.002530452229374548,-0.0005992634768009136,8.159399537759445e-05,0.0024442559766559187,-0.0008579523722590056,0.004730001632901285,0.0035228126675149896,0.000579173584237345,0.0005572608930507721,0.003464669052738298,7.02490109594705e-05,-0.0009606329680472785,-0.0013636082515808019,0.00010556410191580293,-0.0018877307959887441,0.0023778753363034957,-0.0010290216322502805,-0.00017959858265344301,-0.001697262880598406,0.003727210910148136,-0.0014478234905669156,-0.0010830073728581315,-0.0009820427601717127,-0.00040328206027458684,-0.002302182541703952,-0.000499588880336098,0.0019786884603163316,0.0026921252270981494,0.0007180982263201614,0.0001349102489237066,0.002924273690619631,-0.0019233056537612328,4.817668108175275e-05,0.002531674807590633,0.002009719077619502,0.0032176693180040734,0.0005374760702001678,0.004263011900445144,0.002375063033271558,-0.004261311145458962,9.284677008095816e-05,0.00013137412555935552,0.0006409874061232033,-0.005665067545991434,-0.0013759563660296168,0.0021008597625100365,0.0017606059042784947,0.0028097437779483537,0.0015923116904954645,0.005393137006794276,-0.001673221380366995,-0.000568585798552013,0.0013123059334793983,0.002574210136602459,0.00308763336287229,0.0017635433965169387,-0.0012051375645674837,0.0019932017912416447,0.002878759961671558,-0.0029338317161314484,0.0027098170268079467,-0.002450582118894179,0.003405427975754637,-0.002639788878551559,-0.0024281582922957208,0.000821620548866819,-0.0001478946914579164,0.003206143681281754,0.002178621545573218,0.0030053330951056887,0.0021744032232322383,-0.0007091716631651479,0.00042307545509529887,0.00045976469560237755,-0.0022767018458558453,-0.000991702808796269,0.004305243520561932,0.0020698485427852746,0.0021384398228429333,0.0016056713388246718,0.004950419065692495,-0.0020337921126478255,-0.0034743894526467183,0.0017986222165347085,-0.004169782389368159,-0.0005530578381147815,0.00028945196892820886,0.0029744901045914863,-0.0013860379247862087,-0.001521540034206713,0.0021568722344978593,0.002676386408296101,-0.00601953894823458,0.0029680644330734884,0.0024329882313220484,0.0023325613816188016,0.0029679173602738473,-5.5110755833269886e-05,-0.00495367273130011,0.005649647621643355,0.0032557564050398175,0.0003461795305186655,-0.0025645026552693797,-0.0016452249085149744,0.0014567021422329477,-0.0015813106815933929,-0.0038026707817039504,0.0019385681606002947,-0.003908527967017574,0.0027639556975689408,0.00039386852589634727,0.0033069768261903337,0.002876985213639121,-0.0003815653991471225,-0.0009099309090889977,0.002444275486086639,0.0002945526331830607,0.0008335849420163659,0.0009346096080089036,0.00033281938193010374,-0.0016640909995211868,-0.0024554057416866447,0.0021399690734684104,0.00267927181783639,0.0008536455820945154,-0.00017576986916527173,-0.0011289622080235362,0.0010436643583676597,0.0026299893400763066,-0.0006992470014458976,0.0025187035646960856,-0.0015540403112697357,0.0033059141265881034,0.002945246747824216,-0.0021980370614240467,-0.0017387377539425347,0.0007667249917041475,0.0016796900501798871,0.000750828163517267,0.0018026256539538004,-0.004787078842411403,-0.0010402244362938047,0.005552664492696229,-0.0005837685727372823,0.0029764787524383936,-0.004115905091185273,0.005016208484152248,-0.0033089144341242674,-0.0016605311489580987,-0.0013849003128889581,-0.0033106713400468677,0.0050977912378875005,0.0027669635077807353,-0.002722796577576123,0.002348734314055724,0.0002901153074444328,-0.004936399376635493,-0.0017773964380564528,0.002828332905432764,0.0029969011373835197,0.00017301319045896416,0.0030220892201925837,0.0025107085604108735,-0.0004401005797093531,1.3194930450147735e-05,0.0009340057061816298,0.0001927725918708799,0.0029708738059678313,0.0031787749630159843,-0.0009004414120365036,-0.0005561260146340182,-0.004004797877573017,0.002777787715608064,-0.003881571367824488,0.0026080644225707607,-0.0012952498865305912,-0.0011910611034844794,0.0018233519014985314,-0.004159847753562925,0.003005443268390664,0.0002562556709637454,0.00274742129962745,0.0028135477532351626,0.0019036522471272354,-0.0007939128860716508,-0.00242099215419386,0.0057990625471943695,-2.6070541762165338e-05,0.000950544132296563,0.002822744933954194,0.002720365989563662,-0.0009012913881255432,-0.001499236219439814,0.0005967509463094283,0.00013529313457809564,-0.0028737153855805,0.0002140354654622134,0.0018866724373307608,-0.0004658786345625147,0.0019331540957388184,-0.0020236058364021415,0.002259004527075505,0.004155197438314677,0.001787074322653957,0.002254488782811727,-0.002469668438448207,0.00603905643442281,-0.000693548527677737,-0.0003333110706079317,-0.00541687387983059,-0.0007403005315660301,0.006456877287363039,0.0008622906613864031,-0.003232238471756454,-0.0007895734189726177,0.001442312689491106,-0.001602662126800411,0.0037134462088980256,0.0006113122811136564,-0.005219922890438309,0.0008126622202367333,0.0022245704123926993,0.004075100497814615,0.0003297234068415795,0.0026767282788434936,0.002173915002683684,-0.0007970445442480093,0.004548745342476572,-0.004581281298283845,0.0053791938340009325,0.0018923849319253706,-0.003159104215591418,-0.0038036983652000073,-0.0012715759883008566,-0.0008072732879548932,0.0029857665357616975,-0.004782590779441717,0.0024433160585406654,0.0005880324394629847,0.00018072247718071518,0.002341583401790875,0.0052242361231400365,-0.0005496561993906786,-0.0006204530429921398,0.0023394388190407242,-0.0007355270446326904,0.004636886492390579,-0.004668228209076486,0.0023900652281967686,0.0028432320962128404,0.000602336604767976,0.0023709517784508893,0.0002297372700488048,0.0028967992132144294,-0.0004212807123074259,0.0019562129559033367,0.002628700403929355,0.002484869547779961,-0.0016964941210754398,0.0028828321803640463,-0.0012386034100020107,-0.003193864942212355,0.000750631739148583,0.005042129712141984,0.0016793465370017638,-0.002582668287131835,0.0018876315674947713,-0.0029081172104225774,0.0020642063207033153,0.0038112040495150825,0.0003494032968769659,0.0004953060668464375,0.004116687419080468,-0.002546759279064567,0.0004374657324536236,-0.0013793958291736946,-0.0017931894567121372,-0.004130420975193397,0.002033535353435391,0.00292806384060581,-0.004394211221485912,0.0022955487465475826,-0.0001162071571177667,-0.00017856311752529122,0.003155808560626571,0.0016859557211599335,0.0007841552712230719,0.005072379850960972,-0.001993236539616983,0.004859079731348149,0.0010726799899627984,0.00010553636710149502,0.00021579725696849533,-0.004163697716539765,0.0002849320653691722,0.0002444842296326107,0.0028918333474695014,0.00023367287804220606,0.0027961285490976113,-0.00572055073982608,0.002814150572453941,0.003182937719214573,-0.0012712518455045394,-0.0015658698476567095,-0.0011985279235907597,-0.00547624696217318,-0.000369853053016932,0.0004370052106508723,-0.000964175774333768,-0.000800580930992423,0.0006753305548982172,-0.00025955973311548236,0.002305855165273172,-0.002182375721650269,-0.0005720207005680875,-0.0018377301461379998,-0.0030755204878786706,-0.0015162400296975106,0.0019229419376899763,-0.003648495096044037,-0.005309895040121613,0.0019409300328881243,-0.0011781994851776138,0.0018104325712495657,0.0022513173990181485,7.524937683335118e-05,0.0016042736382771913,0.0024029733569320925,0.0020403565278115177,7.985608502108143e-06,0.002457771056774974,-0.0005597232431888569,0.00188600597325727,0.0052077860904747785,0.0020405698412863335,-0.0014394864398469226,0.0027117477439899565,-0.003760824928112063,0.002706456141318725,0.0026647604512558924,0.0025499458727205955,0.002999511808045375,-0.000628434698854983,-0.0010479803936252906,-3.947225081497723e-05,0.0035806067245937735,0.0022399037670539027,-0.0009151197937209051,0.004956772062641866,0.00020082625248518172,-0.003085188487206749,0.0028179285647776165,-0.002812291122077066,-9.839680705238446e-05,0.002157203388275455,0.0026580297515180758,-0.00035689661796832017,0.005142836981381934,0.004721296231686288,-0.0054390927540011475,0.002244576249223201,-0.00100951372767793,0.0005309199616643246,0.006541426725856005,0.0013016157354532297,0.0032829180450950042,0.0036853810907570297,0.001026600719275902,-0.0018086981247623735,0.002093080461978452,-0.0005606715207947902,-7.999917319956975e-05,-0.003599287015675675,-0.0005079313194088286,-0.0032896070037865413,-0.0014677951017765967,0.00031457998464669415,0.002591849051754075,0.0017401564870472587,-0.003124419429767873,-0.0025847236103628615,-0.0027737462234524372,-0.003333468843863573,0.002797907997111535,-0.0028569118105262617,-0.0899528112529438,-0.046159593680011914,-0.004735291194513562,-0.006659721395078795,0.018874713442085533,0.009054259882192451,0.015957716127686452,-0.017767395517557304,-0.03681537456989329,0.01505165274822233,0.0342930760909085,0.025941126362936696,-0.022457477118279227,0.022993369208144685,0.03033587504452173,-0.005041372966346453,-0.0049775594924647325,0.014062648876913532,0.00907828216684955,0.016614986600650593,0.026936479883740025,-7.956510998363287e-05,-0.0015966330583666048,0.005833736801379082,0.02910775712183636,0.0052123574553020946,-0.015179445844014556,0.009722211902061425,0.0001496215003703855,0.006229786182697572,-0.0005990145035292444,0.0030687703720658427,0.01202047497871976,0.009759202576046696,-0.002066962607710465,-0.004307083536737421,-0.0015578185415206322,0.00025783579119070306,0.004291661763092472,-0.0013482331222847554,0.002254083386417719,0.0045466149212403766,0.005262912482823334,-0.0034044504412309236,-0.000901413928736309,-0.005857404951742592,0.005714893222649516,-0.002919067667839621,-0.010021582413778068,0.002315754981599841,-0.0007616801024298937])\n",
            "The Intercept of the model is :  0.7704719338863437\n"
          ]
        }
      ]
    },
    {
      "cell_type": "code",
      "source": [
        "#Root Mean Square Error\n",
        "eval_lr = RegressionEvaluator(labelCol=\"Stop_num\", predictionCol=\"prediction\", metricName=\"rmse\")\n",
        "rmse_lr = eval_lr.evaluate(y_pred)\n",
        "print(\"RMSE: %.3f\" % rmse_lr)\n",
        "\n",
        "# Mean Square Error\n",
        "mse = eval_lr.evaluate(y_pred, {eval_lr.metricName: \"mse\"})\n",
        "print(\"MSE: %.3f\" % mse)\n",
        "\n",
        "# Mean Absolute Error\n",
        "mae = eval_lr.evaluate(y_pred, {eval_lr.metricName: \"mae\"})\n",
        "print(\"MAE: %.3f\" % mae)\n",
        "\n",
        "# r2 - coefficient of determination\n",
        "r2 = eval_lr.evaluate(y_pred, {eval_lr.metricName: \"r2\"})\n",
        "print(\"r2: %.3f\" %r2)"
      ],
      "metadata": {
        "colab": {
          "base_uri": "https://localhost:8080/"
        },
        "id": "bwZf1S0poUEH",
        "outputId": "3d72f8cc-a612-4803-93cd-f4ffa511fe48"
      },
      "execution_count": 57,
      "outputs": [
        {
          "output_type": "stream",
          "name": "stdout",
          "text": [
            "RMSE: 0.927\n",
            "MSE: 0.860\n",
            "MAE: 0.784\n",
            "r2: -41.946\n"
          ]
        }
      ]
    },
    {
      "cell_type": "code",
      "source": [
        "from pyspark.ml.clustering import KMeans\n",
        "kmeans = KMeans(k=3, seed=42, featuresCol=\"Caracteristicas_scale\")\n",
        "model = kmeans.fit(df_scaled)"
      ],
      "metadata": {
        "colab": {
          "base_uri": "https://localhost:8080/"
        },
        "id": "b_THswHJZldo",
        "outputId": "287abebd-92e2-4ac6-d914-429a2e2661b1"
      },
      "execution_count": 58,
      "outputs": [
        {
          "output_type": "stream",
          "name": "stderr",
          "text": []
        }
      ]
    },
    {
      "cell_type": "code",
      "source": [
        "predictions = model.transform(df_scaled)\n",
        "predictions.select('Caracteristicas_scale','Severity_Index','prediction').show()\n"
      ],
      "metadata": {
        "colab": {
          "base_uri": "https://localhost:8080/"
        },
        "id": "X5mDttnpcLc9",
        "outputId": "fb656285-2422-4992-d494-577c8a26c38a"
      },
      "execution_count": 59,
      "outputs": [
        {
          "output_type": "stream",
          "name": "stdout",
          "text": [
            "+---------------------+--------------+----------+\n",
            "|Caracteristicas_scale|Severity_Index|prediction|\n",
            "+---------------------+--------------+----------+\n",
            "| [-0.7106023951071...|           0.0|         0|\n",
            "| [1.16458160594481...|           0.0|         0|\n",
            "| [-0.7106023951071...|           0.0|         0|\n",
            "| [-0.7106023951071...|           0.0|         0|\n",
            "| [-0.7106023951071...|           0.0|         0|\n",
            "| [-0.7106023951071...|           0.0|         0|\n",
            "| [-0.7106023951071...|           0.0|         0|\n",
            "| [-0.7106023951071...|           0.0|         0|\n",
            "| [-0.7106023951071...|           0.0|         0|\n",
            "| [-0.7106023951071...|           0.0|         0|\n",
            "| [-0.7106023951071...|           0.0|         0|\n",
            "| [-0.7106023951071...|           0.0|         0|\n",
            "| [-0.7106023951071...|           0.0|         0|\n",
            "| [-0.7106023951071...|           0.0|         0|\n",
            "| [-0.7106023951071...|           0.0|         0|\n",
            "| [-0.7106023951071...|           0.0|         0|\n",
            "| [-0.7106023951071...|           0.0|         0|\n",
            "| [1.16458160594481...|           0.0|         0|\n",
            "| [-0.7106023951071...|           0.0|         0|\n",
            "| [-0.7106023951071...|           0.0|         0|\n",
            "+---------------------+--------------+----------+\n",
            "only showing top 20 rows\n",
            "\n"
          ]
        }
      ]
    },
    {
      "cell_type": "code",
      "source": [
        "summary = model.summary\n",
        "print(\"Tamaño de los clusters:\", summary.clusterSizes)\n",
        "print(\"Costo de entrenamiento (WSSSE):\", summary.trainingCost)\n"
      ],
      "metadata": {
        "colab": {
          "base_uri": "https://localhost:8080/"
        },
        "id": "50WjiXlYdmvD",
        "outputId": "12664128-24e2-4e28-cc9a-66af6f868eef"
      },
      "execution_count": 60,
      "outputs": [
        {
          "output_type": "stream",
          "name": "stdout",
          "text": [
            "Tamaño de los clusters: [45845, 153, 2]\n",
            "Costo de entrenamiento (WSSSE): 249863137.2076334\n"
          ]
        }
      ]
    }
  ]
}