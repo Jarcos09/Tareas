{
  "nbformat": 4,
  "nbformat_minor": 0,
  "metadata": {
    "colab": {
      "provenance": [],
      "mount_file_id": "1Jab2DUXez4z1kx-o-Btc9jKPcoslob_t",
      "authorship_tag": "ABX9TyMkxxpp/MpzJ4sgtCXVO29E",
      "include_colab_link": true
    },
    "kernelspec": {
      "name": "python3",
      "display_name": "Python 3"
    },
    "language_info": {
      "name": "python"
    }
  },
  "cells": [
    {
      "cell_type": "markdown",
      "metadata": {
        "id": "view-in-github",
        "colab_type": "text"
      },
      "source": [
        "<a href=\"https://colab.research.google.com/github/Jarcos09/Tareas/blob/main/ML.ipynb\" target=\"_parent\"><img src=\"https://colab.research.google.com/assets/colab-badge.svg\" alt=\"Open In Colab\"/></a>"
      ]
    },
    {
      "cell_type": "markdown",
      "source": [
        "# 🎓 **Inteligencia Artificial Aplicada**\n",
        "\n",
        "## 🤖 **Análisis de grandes volúmenes de datos (Gpo 10)**\n",
        "\n",
        "### 🏛️ Tecnológico de Monterrey\n",
        "\n",
        "#### 👨‍🏫 **Profesor titular :** Dr. Iván Olmos Pineda\n",
        "#### 👩‍🏫 **Profesor asistente :** Verónica Sandra Guzmán de Valle\n",
        "\n",
        "### 📊 **Proyecto | Base de Datos de Big Data**\n",
        "\n",
        "#### 📅 **04 de mayo de 2025**\n",
        "\n",
        "* 🧑‍💻 **A01795941 :** Juan Carlos Pérez Nava\n",
        "\n",
        "\n"
      ],
      "metadata": {
        "id": "XLo2RHbqcPHa"
      }
    },
    {
      "cell_type": "code",
      "source": [
        "import os\n",
        "import sys\n",
        "module_path = os.path.abspath(os.path.join('proyectos/librerias'))\n",
        "if module_path not in sys.path:\n",
        "    sys.path.append(module_path)\n",
        "from graficas import *\n",
        "\n",
        "from pyspark.sql import SparkSession, DataFrame\n",
        "from pyspark.sql.functions import col, sum, avg, lit, count, when, format_number, round, rand\n",
        "from pyspark.ml.feature import StringIndexer, OneHotEncoder\n",
        "from pyspark.ml.feature import QuantileDiscretizer\n",
        "from pyspark.ml.feature import VectorAssembler\n",
        "from pyspark.ml.evaluation import RegressionEvaluator\n",
        "from pyspark.ml.feature import Imputer\n",
        "\n",
        "import matplotlib.pyplot as plt\n",
        "import seaborn as sns\n",
        "import kagglehub\n",
        "\n",
        "import pandas as pd\n",
        "\n",
        "\n",
        "from functools import reduce\n",
        "spark.sparkContext.setLogLevel(\"ERROR\")"
      ],
      "metadata": {
        "id": "lNK_005tHX9o"
      },
      "execution_count": 34,
      "outputs": []
    },
    {
      "cell_type": "code",
      "source": [
        "path = kagglehub.dataset_download(\"sobhanmoosavi/us-accidents\")\n",
        "print(\"Path to dataset files:\", path)"
      ],
      "metadata": {
        "colab": {
          "base_uri": "https://localhost:8080/"
        },
        "id": "j7RDNtCfV_j8",
        "outputId": "9070f322-6e29-4bb6-89f9-70035bd2eece"
      },
      "execution_count": 2,
      "outputs": [
        {
          "output_type": "stream",
          "name": "stdout",
          "text": [
            "Path to dataset files: /home/jarcos/.cache/kagglehub/datasets/sobhanmoosavi/us-accidents/versions/13\n"
          ]
        }
      ]
    },
    {
      "cell_type": "code",
      "source": [
        "spark = SparkSession.builder.master(\"local[*]\").appName(\"CargarCSV\").config(\"spark.driver.memory\", \"40g\").config(\"spark.executor.memory\", \"20g\").getOrCreate()\n",
        "df_accident = spark.read.option(\"header\", True).option(\"inferSchema\", True).csv(path)"
      ],
      "metadata": {
        "colab": {
          "base_uri": "https://localhost:8080/"
        },
        "id": "KzhCy58rgjX1",
        "outputId": "a8406dc6-56ea-4849-c8ed-b92bc508b2cc"
      },
      "execution_count": 3,
      "outputs": [
        {
          "output_type": "stream",
          "name": "stderr",
          "text": [
            "Setting default log level to \"WARN\".\n",
            "To adjust logging level use sc.setLogLevel(newLevel). For SparkR, use setLogLevel(newLevel).\n",
            "25/05/23 23:53:25 WARN NativeCodeLoader: Unable to load native-hadoop library for your platform... using builtin-java classes where applicable\n"
          ]
        }
      ]
    },
    {
      "cell_type": "code",
      "source": [
        "df_accident.show(5)"
      ],
      "metadata": {
        "colab": {
          "base_uri": "https://localhost:8080/"
        },
        "id": "97uEFSF5t4A0",
        "outputId": "48efb5cf-0ea2-4d86-d865-38d728026818"
      },
      "execution_count": 4,
      "outputs": [
        {
          "output_type": "stream",
          "name": "stderr",
          "text": [
            "25/05/23 23:53:35 WARN SparkStringUtils: Truncated the string representation of a plan since it was too large. This behavior can be adjusted by setting 'spark.sql.debug.maxToStringFields'.\n"
          ]
        },
        {
          "output_type": "stream",
          "name": "stdout",
          "text": [
            "+---+-------+--------+-------------------+-------------------+-----------------+------------------+-------+-------+------------+--------------------+--------------------+------------+----------+-----+----------+-------+----------+------------+-------------------+--------------+-------------+-----------+------------+--------------+--------------+---------------+-----------------+-----------------+-------+-----+--------+--------+--------+-------+-------+----------+-------+-----+---------------+--------------+------------+--------------+--------------+-----------------+---------------------+\n",
            "| ID| Source|Severity|         Start_Time|           End_Time|        Start_Lat|         Start_Lng|End_Lat|End_Lng|Distance(mi)|         Description|              Street|        City|    County|State|   Zipcode|Country|  Timezone|Airport_Code|  Weather_Timestamp|Temperature(F)|Wind_Chill(F)|Humidity(%)|Pressure(in)|Visibility(mi)|Wind_Direction|Wind_Speed(mph)|Precipitation(in)|Weather_Condition|Amenity| Bump|Crossing|Give_Way|Junction|No_Exit|Railway|Roundabout|Station| Stop|Traffic_Calming|Traffic_Signal|Turning_Loop|Sunrise_Sunset|Civil_Twilight|Nautical_Twilight|Astronomical_Twilight|\n",
            "+---+-------+--------+-------------------+-------------------+-----------------+------------------+-------+-------+------------+--------------------+--------------------+------------+----------+-----+----------+-------+----------+------------+-------------------+--------------+-------------+-----------+------------+--------------+--------------+---------------+-----------------+-----------------+-------+-----+--------+--------+--------+-------+-------+----------+-------+-----+---------------+--------------+------------+--------------+--------------+-----------------+---------------------+\n",
            "|A-1|Source2|       3|2016-02-08 05:46:00|2016-02-08 11:00:00|        39.865147|        -84.058723|   NULL|   NULL|        0.01|Right lane blocke...|              I-70 E|      Dayton|Montgomery|   OH|     45424|     US|US/Eastern|        KFFO|2016-02-08 05:58:00|          36.9|         NULL|       91.0|       29.68|          10.0|          Calm|           NULL|             0.02|       Light Rain|  false|false|   false|   false|   false|  false|  false|     false|  false|false|          false|         false|       false|         Night|         Night|            Night|                Night|\n",
            "|A-2|Source2|       2|2016-02-08 06:07:59|2016-02-08 06:37:59|39.92805900000001|        -82.831184|   NULL|   NULL|        0.01|Accident on Brice...|            Brice Rd|Reynoldsburg|  Franklin|   OH|43068-3402|     US|US/Eastern|        KCMH|2016-02-08 05:51:00|          37.9|         NULL|      100.0|       29.65|          10.0|          Calm|           NULL|              0.0|       Light Rain|  false|false|   false|   false|   false|  false|  false|     false|  false|false|          false|         false|       false|         Night|         Night|            Night|                  Day|\n",
            "|A-3|Source2|       2|2016-02-08 06:49:27|2016-02-08 07:19:27|        39.063148|        -84.032608|   NULL|   NULL|        0.01|Accident on OH-32...|      State Route 32|Williamsburg|  Clermont|   OH|     45176|     US|US/Eastern|        KI69|2016-02-08 06:56:00|          36.0|         33.3|      100.0|       29.67|          10.0|            SW|            3.5|             NULL|         Overcast|  false|false|   false|   false|   false|  false|  false|     false|  false|false|          false|          true|       false|         Night|         Night|              Day|                  Day|\n",
            "|A-4|Source2|       3|2016-02-08 07:23:34|2016-02-08 07:53:34|        39.747753|-84.20558199999998|   NULL|   NULL|        0.01|Accident on I-75 ...|              I-75 S|      Dayton|Montgomery|   OH|     45417|     US|US/Eastern|        KDAY|2016-02-08 07:38:00|          35.1|         31.0|       96.0|       29.64|           9.0|            SW|            4.6|             NULL|    Mostly Cloudy|  false|false|   false|   false|   false|  false|  false|     false|  false|false|          false|         false|       false|         Night|           Day|              Day|                  Day|\n",
            "|A-5|Source2|       2|2016-02-08 07:39:07|2016-02-08 08:09:07|        39.627781|        -84.188354|   NULL|   NULL|        0.01|Accident on McEwe...|Miamisburg Center...|      Dayton|Montgomery|   OH|     45459|     US|US/Eastern|        KMGY|2016-02-08 07:53:00|          36.0|         33.3|       89.0|       29.65|           6.0|            SW|            3.5|             NULL|    Mostly Cloudy|  false|false|   false|   false|   false|  false|  false|     false|  false|false|          false|          true|       false|           Day|           Day|              Day|                  Day|\n",
            "+---+-------+--------+-------------------+-------------------+-----------------+------------------+-------+-------+------------+--------------------+--------------------+------------+----------+-----+----------+-------+----------+------------+-------------------+--------------+-------------+-----------+------------+--------------+--------------+---------------+-----------------+-----------------+-------+-----+--------+--------+--------+-------+-------+----------+-------+-----+---------------+--------------+------------+--------------+--------------+-----------------+---------------------+\n",
            "only showing top 5 rows\n",
            "\n"
          ]
        }
      ]
    },
    {
      "cell_type": "markdown",
      "source": [
        "**Obtención de las estadísticas descriptivas de las características categóricas**"
      ],
      "metadata": {
        "id": "A8garbrA7wu6"
      }
    },
    {
      "cell_type": "markdown",
      "source": [
        "# Particionamiento\n",
        "\n",
        "El particionamiento del conjunto de datos se basa en las condiciones climáticas y la severidad del accidente, dividiéndolo en múltiples subconjuntos según combinaciones específicas de estas características."
      ],
      "metadata": {
        "id": "BZDsQ0zuhJRD"
      }
    },
    {
      "cell_type": "code",
      "source": [
        "columnas_clave = [\n",
        "    \"ID\", \"Weather_Condition\",\"Precipitation(in)\",\"Severity\", \"City\", \"State\",\n",
        "    \"Temperature(F)\", \"Humidity(%)\", \"Visibility(mi)\",\"Wind_Direction\",\"Wind_Speed(mph)\",\"Crossing\",\"Junction\",\"Railway\",\n",
        "    \"Roundabout\",\"Stop\",\"Sunrise_Sunset\",\"Traffic_Calming\",\"Traffic_Signal\"]\n",
        "\n",
        "total = df_accident.count()\n",
        "\n",
        "combinaciones_top = df_accident.groupBy(\"Weather_Condition\", \"Severity\") \\\n",
        "    .agg(count(\"*\").alias(\"Frecuencia\")) \\\n",
        "    .withColumn(\"Proporción\", col(\"Frecuencia\") / total) \\\n",
        "    .orderBy(col(\"Proporción\").desc())\n",
        "\n",
        "combinaciones_top = combinaciones_top.withColumn(\"Frecuencia\", col(\"Frecuencia\"))  \\\n",
        "    .withColumn(\"Proporción\", col(\"Proporción\")*100)\n",
        "\n",
        "df_particionada = df_accident.select(columnas_clave)\n",
        "df_particionada.write.mode(\"overwrite\").partitionBy(\"Weather_Condition\",\"Severity\").parquet(\"us_accidents_partitioned\")\n",
        "\n",
        "combinaciones_top.show(10, truncate=False)\n",
        "\n"
      ],
      "metadata": {
        "colab": {
          "base_uri": "https://localhost:8080/"
        },
        "id": "90X1Pa19yCZP",
        "outputId": "50e3f06a-1972-4a1a-f8f6-a233381983a8"
      },
      "execution_count": 5,
      "outputs": [
        {
          "output_type": "stream",
          "name": "stderr",
          "text": []
        },
        {
          "output_type": "stream",
          "name": "stdout",
          "text": [
            "+-----------------+--------+----------+------------------+\n",
            "|Weather_Condition|Severity|Frecuencia|Proporción        |\n",
            "+-----------------+--------+----------+------------------+\n",
            "|Fair             |2       |2226576   |28.810332392473782|\n",
            "|Mostly Cloudy    |2       |792735    |10.25743511523869 |\n",
            "|Cloudy           |2       |692929    |8.966015449005317 |\n",
            "|Partly Cloudy    |2       |548760    |7.1005696655734685|\n",
            "|Clear            |2       |536971    |6.948028270815386 |\n",
            "|Light Rain       |2       |270162    |3.495706870017238 |\n",
            "|Overcast         |2       |248938    |3.22108319011686  |\n",
            "|Clear            |3       |244956    |3.1695589018882835|\n",
            "|Fair             |3       |240084    |3.1065186376367455|\n",
            "|Mostly Cloudy    |3       |189229    |2.4484905919651614|\n",
            "+-----------------+--------+----------+------------------+\n",
            "only showing top 10 rows\n",
            "\n"
          ]
        },
        {
          "output_type": "stream",
          "name": "stderr",
          "text": [
            "\r                                                                                \r"
          ]
        }
      ]
    },
    {
      "cell_type": "code",
      "source": [
        "max_reg = 2000\n",
        "\n",
        "# Filtrar las filas\n",
        "combinaciones_filtradas = combinaciones_top.filter(col(\"Frecuencia\") >+ max_reg)\n",
        "\n",
        "# Si hay datos, guardarlos en un vector\n",
        "particiones = combinaciones_filtradas.select(\"Weather_Condition\", \"Severity\").collect()\n",
        "\n",
        "# Mostrar el resultado\n",
        "\n",
        "print(f'✅ Se identificaron \\033[32m\\033[1m{len(particiones)}\\033[0m particiones que contienen más de \\033[36m{max_reg}\\033[0m registros.')"
      ],
      "metadata": {
        "colab": {
          "base_uri": "https://localhost:8080/"
        },
        "id": "D7nfphRPbPN3",
        "outputId": "6badb404-0996-43ce-e064-1d43a6318021"
      },
      "execution_count": 6,
      "outputs": [
        {
          "output_type": "stream",
          "name": "stderr",
          "text": []
        },
        {
          "output_type": "stream",
          "name": "stdout",
          "text": [
            "✅ Se identificaron \u001b[32m\u001b[1m77\u001b[0m particiones que contienen más de \u001b[36m2000\u001b[0m registros.\n"
          ]
        }
      ]
    },
    {
      "cell_type": "code",
      "source": [
        "contador_total = 0\n",
        "semilla = 42\n",
        "\n",
        "# Crear un DataFrame vacío con la misma estructura\n",
        "df_muestras = spark.createDataFrame([], df_particionada.schema)\n",
        "lista_muestras = []\n",
        "\n",
        "for particion in particiones:\n",
        "\n",
        "    contador_total += 1\n",
        "    weather = particion[\"Weather_Condition\"]\n",
        "    severity = particion[\"Severity\"]\n",
        "\n",
        "    print(f\"Extrayendo Partición #\\033[32m\\033[1m{contador_total:03}\\033[0m | 🌦 Weather: \\033[1;36m{weather}\\033[0m | ⚠ Severity: \\033[1;36m{severity}\\033[0m\")\n",
        "\n",
        "    # Filtrar correctamente la partición\n",
        "    df_filtrada = df_particionada.filter((col(\"Weather_Condition\") == weather) & (col(\"Severity\") == severity))\n",
        "\n",
        "    # Limitar a 1200 registros\n",
        "    df_rand = df_filtrada.orderBy(rand(semilla)).limit(max_reg)\n",
        "\n",
        "    lista_muestras.append(df_rand)\n",
        "\n",
        "df_muestras = lista_muestras[0]  # Inicializamos con el primer DataFrame\n",
        "\n",
        "for df in lista_muestras[1:]:\n",
        "    df_muestras = df_muestras.union(df)\n",
        "\n",
        "# **Optimizar con persistencia**\n",
        "#df_muestras = df_muestras.persist().coalesce(8)\n",
        "\n",
        "# Contar los registros en el nuevo DataFrame\n",
        "contador_total = df_muestras.count()\n",
        "\n",
        "\n",
        "print(f\"Total de registros obtenidos en la muestra: \\033[32m\\033[1m{contador_total}\\033[0m\")"
      ],
      "metadata": {
        "colab": {
          "base_uri": "https://localhost:8080/"
        },
        "id": "r0ZXtzjReRcH",
        "outputId": "e41cb5d5-1fb7-41b4-dc1a-5dd17a5e434d"
      },
      "execution_count": 8,
      "outputs": [
        {
          "output_type": "stream",
          "name": "stderr",
          "text": [
            "\r[Stage 36:> (5 + 16) / 23][Stage 37:>  (0 + 0) / 23][Stage 38:>  (0 + 0) / 23]\r"
          ]
        },
        {
          "output_type": "stream",
          "name": "stdout",
          "text": [
            "Extrayendo Partición #\u001b[32m\u001b[1m001\u001b[0m | 🌦 Weather: \u001b[1;36mFair\u001b[0m | ⚠ Severity: \u001b[1;36m2\u001b[0m\n",
            "Extrayendo Partición #\u001b[32m\u001b[1m002\u001b[0m | 🌦 Weather: \u001b[1;36mMostly Cloudy\u001b[0m | ⚠ Severity: \u001b[1;36m2\u001b[0m\n",
            "Extrayendo Partición #\u001b[32m\u001b[1m003\u001b[0m | 🌦 Weather: \u001b[1;36mCloudy\u001b[0m | ⚠ Severity: \u001b[1;36m2\u001b[0m\n",
            "Extrayendo Partición #\u001b[32m\u001b[1m004\u001b[0m | 🌦 Weather: \u001b[1;36mPartly Cloudy\u001b[0m | ⚠ Severity: \u001b[1;36m2\u001b[0m\n",
            "Extrayendo Partición #\u001b[32m\u001b[1m005\u001b[0m | 🌦 Weather: \u001b[1;36mClear\u001b[0m | ⚠ Severity: \u001b[1;36m2\u001b[0m\n",
            "Extrayendo Partición #\u001b[32m\u001b[1m006\u001b[0m | 🌦 Weather: \u001b[1;36mLight Rain\u001b[0m | ⚠ Severity: \u001b[1;36m2\u001b[0m\n",
            "Extrayendo Partición #\u001b[32m\u001b[1m007\u001b[0m | 🌦 Weather: \u001b[1;36mOvercast\u001b[0m | ⚠ Severity: \u001b[1;36m2\u001b[0m\n",
            "Extrayendo Partición #\u001b[32m\u001b[1m008\u001b[0m | 🌦 Weather: \u001b[1;36mClear\u001b[0m | ⚠ Severity: \u001b[1;36m3\u001b[0m\n",
            "Extrayendo Partición #\u001b[32m\u001b[1m009\u001b[0m | 🌦 Weather: \u001b[1;36mFair\u001b[0m | ⚠ Severity: \u001b[1;36m3\u001b[0m\n",
            "Extrayendo Partición #\u001b[32m\u001b[1m010\u001b[0m | 🌦 Weather: \u001b[1;36mMostly Cloudy\u001b[0m | ⚠ Severity: \u001b[1;36m3\u001b[0m\n",
            "Extrayendo Partición #\u001b[32m\u001b[1m011\u001b[0m | 🌦 Weather: \u001b[1;36mNone\u001b[0m | ⚠ Severity: \u001b[1;36m2\u001b[0m\n",
            "Extrayendo Partición #\u001b[32m\u001b[1m012\u001b[0m | 🌦 Weather: \u001b[1;36mScattered Clouds\u001b[0m | ⚠ Severity: \u001b[1;36m2\u001b[0m\n",
            "Extrayendo Partición #\u001b[32m\u001b[1m013\u001b[0m | 🌦 Weather: \u001b[1;36mPartly Cloudy\u001b[0m | ⚠ Severity: \u001b[1;36m3\u001b[0m\n",
            "Extrayendo Partición #\u001b[32m\u001b[1m014\u001b[0m | 🌦 Weather: \u001b[1;36mOvercast\u001b[0m | ⚠ Severity: \u001b[1;36m3\u001b[0m\n",
            "Extrayendo Partición #\u001b[32m\u001b[1m015\u001b[0m | 🌦 Weather: \u001b[1;36mLight Snow\u001b[0m | ⚠ Severity: \u001b[1;36m2\u001b[0m\n",
            "Extrayendo Partición #\u001b[32m\u001b[1m016\u001b[0m | 🌦 Weather: \u001b[1;36mCloudy\u001b[0m | ⚠ Severity: \u001b[1;36m3\u001b[0m\n",
            "Extrayendo Partición #\u001b[32m\u001b[1m017\u001b[0m | 🌦 Weather: \u001b[1;36mFog\u001b[0m | ⚠ Severity: \u001b[1;36m2\u001b[0m\n",
            "Extrayendo Partición #\u001b[32m\u001b[1m018\u001b[0m | 🌦 Weather: \u001b[1;36mLight Rain\u001b[0m | ⚠ Severity: \u001b[1;36m3\u001b[0m\n",
            "Extrayendo Partición #\u001b[32m\u001b[1m019\u001b[0m | 🌦 Weather: \u001b[1;36mScattered Clouds\u001b[0m | ⚠ Severity: \u001b[1;36m3\u001b[0m\n",
            "Extrayendo Partición #\u001b[32m\u001b[1m020\u001b[0m | 🌦 Weather: \u001b[1;36mRain\u001b[0m | ⚠ Severity: \u001b[1;36m2\u001b[0m\n",
            "Extrayendo Partición #\u001b[32m\u001b[1m021\u001b[0m | 🌦 Weather: \u001b[1;36mHaze\u001b[0m | ⚠ Severity: \u001b[1;36m2\u001b[0m\n",
            "Extrayendo Partición #\u001b[32m\u001b[1m022\u001b[0m | 🌦 Weather: \u001b[1;36mFair\u001b[0m | ⚠ Severity: \u001b[1;36m4\u001b[0m\n",
            "Extrayendo Partición #\u001b[32m\u001b[1m023\u001b[0m | 🌦 Weather: \u001b[1;36mFair\u001b[0m | ⚠ Severity: \u001b[1;36m1\u001b[0m\n",
            "Extrayendo Partición #\u001b[32m\u001b[1m024\u001b[0m | 🌦 Weather: \u001b[1;36mFair / Windy\u001b[0m | ⚠ Severity: \u001b[1;36m2\u001b[0m\n",
            "Extrayendo Partición #\u001b[32m\u001b[1m025\u001b[0m | 🌦 Weather: \u001b[1;36mNone\u001b[0m | ⚠ Severity: \u001b[1;36m3\u001b[0m\n",
            "Extrayendo Partición #\u001b[32m\u001b[1m026\u001b[0m | 🌦 Weather: \u001b[1;36mClear\u001b[0m | ⚠ Severity: \u001b[1;36m4\u001b[0m\n",
            "Extrayendo Partición #\u001b[32m\u001b[1m027\u001b[0m | 🌦 Weather: \u001b[1;36mHeavy Rain\u001b[0m | ⚠ Severity: \u001b[1;36m2\u001b[0m\n",
            "Extrayendo Partición #\u001b[32m\u001b[1m028\u001b[0m | 🌦 Weather: \u001b[1;36mMostly Cloudy\u001b[0m | ⚠ Severity: \u001b[1;36m4\u001b[0m\n",
            "Extrayendo Partición #\u001b[32m\u001b[1m029\u001b[0m | 🌦 Weather: \u001b[1;36mCloudy\u001b[0m | ⚠ Severity: \u001b[1;36m4\u001b[0m\n"
          ]
        },
        {
          "output_type": "stream",
          "name": "stderr",
          "text": [
            "\r[Stage 36:> (8 + 15) / 23][Stage 37:>  (0 + 1) / 23][Stage 38:>  (0 + 0) / 23]\r\r[Stage 36:>(11 + 12) / 23][Stage 37:>  (0 + 4) / 23][Stage 38:>  (0 + 0) / 23]\r"
          ]
        },
        {
          "output_type": "stream",
          "name": "stdout",
          "text": [
            "Extrayendo Partición #\u001b[32m\u001b[1m030\u001b[0m | 🌦 Weather: \u001b[1;36mLight Snow\u001b[0m | ⚠ Severity: \u001b[1;36m3\u001b[0m\n",
            "Extrayendo Partición #\u001b[32m\u001b[1m031\u001b[0m | 🌦 Weather: \u001b[1;36mRain\u001b[0m | ⚠ Severity: \u001b[1;36m3\u001b[0m\n",
            "Extrayendo Partición #\u001b[32m\u001b[1m032\u001b[0m | 🌦 Weather: \u001b[1;36mLight Drizzle\u001b[0m | ⚠ Severity: \u001b[1;36m2\u001b[0m\n",
            "Extrayendo Partición #\u001b[32m\u001b[1m033\u001b[0m | 🌦 Weather: \u001b[1;36mPartly Cloudy\u001b[0m | ⚠ Severity: \u001b[1;36m4\u001b[0m\n",
            "Extrayendo Partición #\u001b[32m\u001b[1m034\u001b[0m | 🌦 Weather: \u001b[1;36mThunder in the Vicinity\u001b[0m | ⚠ Severity: \u001b[1;36m2\u001b[0m\n",
            "Extrayendo Partición #\u001b[32m\u001b[1m035\u001b[0m | 🌦 Weather: \u001b[1;36mCloudy / Windy\u001b[0m | ⚠ Severity: \u001b[1;36m2\u001b[0m\n",
            "Extrayendo Partición #\u001b[32m\u001b[1m036\u001b[0m | 🌦 Weather: \u001b[1;36mHaze\u001b[0m | ⚠ Severity: \u001b[1;36m3\u001b[0m\n",
            "Extrayendo Partición #\u001b[32m\u001b[1m037\u001b[0m | 🌦 Weather: \u001b[1;36mOvercast\u001b[0m | ⚠ Severity: \u001b[1;36m4\u001b[0m\n",
            "Extrayendo Partición #\u001b[32m\u001b[1m038\u001b[0m | 🌦 Weather: \u001b[1;36mMostly Cloudy / Windy\u001b[0m | ⚠ Severity: \u001b[1;36m2\u001b[0m\n",
            "Extrayendo Partición #\u001b[32m\u001b[1m039\u001b[0m | 🌦 Weather: \u001b[1;36mT-Storm\u001b[0m | ⚠ Severity: \u001b[1;36m2\u001b[0m\n",
            "Extrayendo Partición #\u001b[32m\u001b[1m040\u001b[0m | 🌦 Weather: \u001b[1;36mSnow\u001b[0m | ⚠ Severity: \u001b[1;36m2\u001b[0m\n",
            "Extrayendo Partición #\u001b[32m\u001b[1m041\u001b[0m | 🌦 Weather: \u001b[1;36mThunder\u001b[0m | ⚠ Severity: \u001b[1;36m2\u001b[0m\n",
            "Extrayendo Partición #\u001b[32m\u001b[1m042\u001b[0m | 🌦 Weather: \u001b[1;36mLight Rain with Thunder\u001b[0m | ⚠ Severity: \u001b[1;36m2\u001b[0m\n"
          ]
        },
        {
          "output_type": "stream",
          "name": "stderr",
          "text": [
            "\r[Stage 36:>(13 + 10) / 23][Stage 37:>  (0 + 6) / 23][Stage 38:>  (0 + 0) / 23]\r\r[Stage 36:=>(14 + 9) / 23][Stage 37:>  (0 + 7) / 23][Stage 38:>  (0 + 0) / 23]\r"
          ]
        },
        {
          "output_type": "stream",
          "name": "stdout",
          "text": [
            "Extrayendo Partición #\u001b[32m\u001b[1m043\u001b[0m | 🌦 Weather: \u001b[1;36mMostly Cloudy\u001b[0m | ⚠ Severity: \u001b[1;36m1\u001b[0m\n",
            "Extrayendo Partición #\u001b[32m\u001b[1m044\u001b[0m | 🌦 Weather: \u001b[1;36mSmoke\u001b[0m | ⚠ Severity: \u001b[1;36m2\u001b[0m\n",
            "Extrayendo Partición #\u001b[32m\u001b[1m045\u001b[0m | 🌦 Weather: \u001b[1;36mWintry Mix\u001b[0m | ⚠ Severity: \u001b[1;36m2\u001b[0m\n",
            "Extrayendo Partición #\u001b[32m\u001b[1m046\u001b[0m | 🌦 Weather: \u001b[1;36mFog\u001b[0m | ⚠ Severity: \u001b[1;36m3\u001b[0m\n",
            "Extrayendo Partición #\u001b[32m\u001b[1m047\u001b[0m | 🌦 Weather: \u001b[1;36mLight Rain\u001b[0m | ⚠ Severity: \u001b[1;36m4\u001b[0m\n",
            "Extrayendo Partición #\u001b[32m\u001b[1m048\u001b[0m | 🌦 Weather: \u001b[1;36mPartly Cloudy / Windy\u001b[0m | ⚠ Severity: \u001b[1;36m2\u001b[0m\n",
            "Extrayendo Partición #\u001b[32m\u001b[1m049\u001b[0m | 🌦 Weather: \u001b[1;36mCloudy\u001b[0m | ⚠ Severity: \u001b[1;36m1\u001b[0m\n",
            "Extrayendo Partición #\u001b[32m\u001b[1m050\u001b[0m | 🌦 Weather: \u001b[1;36mHeavy T-Storm\u001b[0m | ⚠ Severity: \u001b[1;36m2\u001b[0m\n",
            "Extrayendo Partición #\u001b[32m\u001b[1m051\u001b[0m | 🌦 Weather: \u001b[1;36mNone\u001b[0m | ⚠ Severity: \u001b[1;36m4\u001b[0m\n",
            "Extrayendo Partición #\u001b[32m\u001b[1m052\u001b[0m | 🌦 Weather: \u001b[1;36mHeavy Rain\u001b[0m | ⚠ Severity: \u001b[1;36m3\u001b[0m\n",
            "Extrayendo Partición #\u001b[32m\u001b[1m053\u001b[0m | 🌦 Weather: \u001b[1;36mPartly Cloudy\u001b[0m | ⚠ Severity: \u001b[1;36m1\u001b[0m\n",
            "Extrayendo Partición #\u001b[32m\u001b[1m054\u001b[0m | 🌦 Weather: \u001b[1;36mLight Rain / Windy\u001b[0m | ⚠ Severity: \u001b[1;36m2\u001b[0m\n",
            "Extrayendo Partición #\u001b[32m\u001b[1m055\u001b[0m | 🌦 Weather: \u001b[1;36mLight Snow / Windy\u001b[0m | ⚠ Severity: \u001b[1;36m2\u001b[0m\n",
            "Extrayendo Partición #\u001b[32m\u001b[1m056\u001b[0m | 🌦 Weather: \u001b[1;36mScattered Clouds\u001b[0m | ⚠ Severity: \u001b[1;36m4\u001b[0m\n",
            "Extrayendo Partición #\u001b[32m\u001b[1m057\u001b[0m | 🌦 Weather: \u001b[1;36mLight Snow\u001b[0m | ⚠ Severity: \u001b[1;36m4\u001b[0m\n",
            "Extrayendo Partición #\u001b[32m\u001b[1m058\u001b[0m | 🌦 Weather: \u001b[1;36mLight Drizzle\u001b[0m | ⚠ Severity: \u001b[1;36m3\u001b[0m\n",
            "Extrayendo Partición #\u001b[32m\u001b[1m059\u001b[0m | 🌦 Weather: \u001b[1;36mHeavy Snow\u001b[0m | ⚠ Severity: \u001b[1;36m2\u001b[0m\n",
            "Extrayendo Partición #\u001b[32m\u001b[1m060\u001b[0m | 🌦 Weather: \u001b[1;36mDrizzle\u001b[0m | ⚠ Severity: \u001b[1;36m2\u001b[0m\n",
            "Extrayendo Partición #\u001b[32m\u001b[1m061\u001b[0m | 🌦 Weather: \u001b[1;36mFair / Windy\u001b[0m | ⚠ Severity: \u001b[1;36m3\u001b[0m\n",
            "Extrayendo Partición #\u001b[32m\u001b[1m062\u001b[0m | 🌦 Weather: \u001b[1;36mPatches of Fog\u001b[0m | ⚠ Severity: \u001b[1;36m2\u001b[0m\n",
            "Extrayendo Partición #\u001b[32m\u001b[1m063\u001b[0m | 🌦 Weather: \u001b[1;36mN/A Precipitation\u001b[0m | ⚠ Severity: \u001b[1;36m2\u001b[0m\n",
            "Extrayendo Partición #\u001b[32m\u001b[1m064\u001b[0m | 🌦 Weather: \u001b[1;36mLight Thunderstorms and Rain\u001b[0m | ⚠ Severity: \u001b[1;36m2\u001b[0m\n",
            "Extrayendo Partición #\u001b[32m\u001b[1m065\u001b[0m | 🌦 Weather: \u001b[1;36mT-Storm\u001b[0m | ⚠ Severity: \u001b[1;36m3\u001b[0m\n",
            "Extrayendo Partición #\u001b[32m\u001b[1m066\u001b[0m | 🌦 Weather: \u001b[1;36mFog\u001b[0m | ⚠ Severity: \u001b[1;36m4\u001b[0m\n",
            "Extrayendo Partición #\u001b[32m\u001b[1m067\u001b[0m | 🌦 Weather: \u001b[1;36mThunderstorm\u001b[0m | ⚠ Severity: \u001b[1;36m2\u001b[0m\n",
            "Extrayendo Partición #\u001b[32m\u001b[1m068\u001b[0m | 🌦 Weather: \u001b[1;36mMist\u001b[0m | ⚠ Severity: \u001b[1;36m2\u001b[0m\n",
            "Extrayendo Partición #\u001b[32m\u001b[1m069\u001b[0m | 🌦 Weather: \u001b[1;36mShallow Fog\u001b[0m | ⚠ Severity: \u001b[1;36m2\u001b[0m\n",
            "Extrayendo Partición #\u001b[32m\u001b[1m070\u001b[0m | 🌦 Weather: \u001b[1;36mLight Rain with Thunder\u001b[0m | ⚠ Severity: \u001b[1;36m3\u001b[0m\n",
            "Extrayendo Partición #\u001b[32m\u001b[1m071\u001b[0m | 🌦 Weather: \u001b[1;36mSnow\u001b[0m | ⚠ Severity: \u001b[1;36m3\u001b[0m\n",
            "Extrayendo Partición #\u001b[32m\u001b[1m072\u001b[0m | 🌦 Weather: \u001b[1;36mLight Rain\u001b[0m | ⚠ Severity: \u001b[1;36m1\u001b[0m\n",
            "Extrayendo Partición #\u001b[32m\u001b[1m073\u001b[0m | 🌦 Weather: \u001b[1;36mMostly Cloudy / Windy\u001b[0m | ⚠ Severity: \u001b[1;36m3\u001b[0m\n"
          ]
        },
        {
          "output_type": "stream",
          "name": "stderr",
          "text": [
            "\r[Stage 36:=>(15 + 8) / 23][Stage 37:>  (0 + 8) / 23][Stage 38:>  (0 + 0) / 23]\r"
          ]
        },
        {
          "output_type": "stream",
          "name": "stdout",
          "text": [
            "Extrayendo Partición #\u001b[32m\u001b[1m074\u001b[0m | 🌦 Weather: \u001b[1;36mLight Freezing Rain\u001b[0m | ⚠ Severity: \u001b[1;36m2\u001b[0m\n",
            "Extrayendo Partición #\u001b[32m\u001b[1m075\u001b[0m | 🌦 Weather: \u001b[1;36mThunder in the Vicinity\u001b[0m | ⚠ Severity: \u001b[1;36m3\u001b[0m\n",
            "Extrayendo Partición #\u001b[32m\u001b[1m076\u001b[0m | 🌦 Weather: \u001b[1;36mCloudy / Windy\u001b[0m | ⚠ Severity: \u001b[1;36m3\u001b[0m\n",
            "Extrayendo Partición #\u001b[32m\u001b[1m077\u001b[0m | 🌦 Weather: \u001b[1;36mRain\u001b[0m | ⚠ Severity: \u001b[1;36m4\u001b[0m\n"
          ]
        },
        {
          "output_type": "stream",
          "name": "stderr",
          "text": []
        },
        {
          "output_type": "stream",
          "name": "stdout",
          "text": [
            "Total de registros obtenidos en la muestra: \u001b[32m\u001b[1m148000\u001b[0m\n"
          ]
        },
        {
          "output_type": "stream",
          "name": "stderr",
          "text": [
            "\r                                                                                \r"
          ]
        }
      ]
    },
    {
      "cell_type": "markdown",
      "source": [
        "# Imputando valores faltantes"
      ],
      "metadata": {
        "id": "tzMcfXbtGIPz"
      }
    },
    {
      "cell_type": "code",
      "source": [
        "def obten_nulos(particion):\n",
        "  from pyspark.sql.types import StructType, StructField, StringType, IntegerType, DoubleType\n",
        "\n",
        "  print(f\"📊 Total de filas en la partición: {particion.count()}\")\n",
        "  print(f\"🗂️ Número de columnas en la partición: {len(particion.columns)}\")\n",
        "\n",
        "  info_nulos = {}\n",
        "  cols_nulos = {}\n",
        "\n",
        "  total_rows = particion.count()\n",
        "\n",
        "  registros_totales = particion.count()\n",
        "\n",
        "  # Contar valores nulos por columna\n",
        "\n",
        "  cols_nulos = particion.select(\n",
        "    [sum(col(c).isNull().cast(\"int\")).alias(c) for c in particion.columns]\n",
        "    )\n",
        "\n",
        "  # Convertir los resultados en un diccionario\n",
        "  info_nulos = {c: cols_nulos.select(c).collect()[0][0] for c in particion.columns}\n",
        "\n",
        "  # Filtrar solo las columnas con valores nulos\n",
        "  cols_nulos = {c: {\"count\": v, \"percent\": (v / total_rows) * 100} for c, v in info_nulos.items() if v > 0}\n",
        "\n",
        "  # Validar si existen nulos\n",
        "  if not cols_nulos:\n",
        "        print(\"✅ No existen valores nulos en la partición.\")\n",
        "        return\n",
        "\n",
        "  listado = [(key, value['count'], value['percent']) for key, value in cols_nulos.items()]\n",
        "\n",
        "  # Definir el esquema del DataFrame\n",
        "  schema = StructType([\n",
        "    StructField(\"Columna\", StringType(), True),\n",
        "    StructField(\"Total de nulos\", IntegerType(), True),\n",
        "    StructField(\"Porcentaje\", DoubleType(), True)\n",
        "  ])\n",
        "\n",
        "  df_resumen_nulos = spark.createDataFrame(listado, schema=schema)\n",
        "\n",
        "  for col_name in [c for c, t in df_resumen_nulos.dtypes if t == \"double\"]:\n",
        "      df_resumen_nulos = df_resumen_nulos.withColumn(col_name, round(df_resumen_nulos[col_name], 2))\n",
        "\n",
        "  df_resumen_nulos.orderBy(col(\"Total de nulos\").desc()).show(truncate=False)\n"
      ],
      "metadata": {
        "id": "z3od6x_V7aP-"
      },
      "execution_count": 9,
      "outputs": []
    },
    {
      "cell_type": "code",
      "source": [
        "def imputacion_valores(particion):\n",
        "    print(\"✅ Se realiza la imputación utilizando los siguientes valores:\\n\")\n",
        "\n",
        "    # Obtener las modas (valores más frecuentes)\n",
        "    moda_Weather = particion.groupBy(\"Weather_Condition\").count().orderBy(col(\"count\").desc()).first()[\"Weather_Condition\"]\n",
        "    moda_City = particion.groupBy(\"City\").count().orderBy(col(\"count\").desc()).first()[\"City\"]\n",
        "    moda_Sunset = particion.groupBy(\"Sunrise_Sunset\").count().orderBy(col(\"count\").desc()).first()[\"Sunrise_Sunset\"]\n",
        "    moda_wub = particion.groupBy(\"Wind_Direction\").count().orderBy(col(\"count\").desc()).first()[\"Wind_Direction\"]\n",
        "\n",
        "    # Obtener promedios de las variables numéricas\n",
        "    media_Temperature = particion.select(round(avg(col(\"Temperature(F)\")), 2).alias(\"avg_temp\")).collect()[0][0]\n",
        "    media_Humidity = particion.select(round(avg(col(\"Humidity(%)\")), 2).alias(\"avg_humidity\")).collect()[0][0]\n",
        "    media_Visibility = particion.select(round(avg(col(\"Visibility(mi)\")), 2).alias(\"avg_visibility\")).collect()[0][0]\n",
        "    media_Precipitation = particion.select(round(avg(col(\"Precipitation(in)\")), 2).alias(\"avg_precipitation\")).collect()[0][0]\n",
        "    media_Wind_Speed = particion.select(round(avg(col(\"Wind_Speed(mph)\")), 2).alias(\"avg_wind_speed\")).collect()[0][0]\n",
        "\n",
        "\n",
        "    # Imprimir valores calculados correctamente\n",
        "    print(f\"🌡️ Temperatura promedio: {media_Temperature}\")\n",
        "    print(f\"💧 Humedad promedio: {media_Humidity}\")\n",
        "    print(f\"👀 Visibilidad promedio: {media_Visibility}\")\n",
        "    print(f\"🌧️ Precipitación promedio: {media_Precipitation}\")\n",
        "    print(f\"🌬️ Velocidad del viento promedio: {media_Wind_Speed}\")\n",
        "\n",
        "    print(f\"☁️ Condición meteorológica más frecuente: {moda_Weather}\")\n",
        "    print(f\"🏙️ Ciudad más frecuente: {moda_City}\")\n",
        "    print(f\"🌅 Hora de atardecer más frecuente: {moda_Sunset}\")\n",
        "    print(f\"🌬️ Dirección del viento más frecuente: {moda_wub}\")\n",
        "\n",
        "    # Aplicar imputación con Imputer\n",
        "    from pyspark.ml.feature import Imputer\n",
        "\n",
        "    imputer_num = Imputer(\n",
        "        inputCols=[\"Temperature(F)\", \"Humidity(%)\", \"Visibility(mi)\", \"Precipitation(in)\", \"Wind_Speed(mph)\"],\n",
        "        outputCols=[\"Temperature(F)\", \"Humidity(%)\", \"Visibility(mi)\", \"Precipitation(in)\", \"Wind_Speed(mph)\"]\n",
        "    ).setStrategy(\"mean\")\n",
        "\n",
        "    particion = imputer_num.fit(particion).transform(particion)\n",
        "\n",
        "    # Imputación de valores categóricos con na.fill()\n",
        "    particion = particion.na.fill({\n",
        "        \"Weather_Condition\": moda_Weather,\n",
        "        \"City\": moda_City,\n",
        "        \"Sunrise_Sunset\": moda_Sunset,\n",
        "        \"Wind_Direction\": moda_wub\n",
        "    })\n",
        "\n",
        "    print(\"\\n🔍 Se validan nuevamente los valores nulos para corroborar la imputación.\\n\")\n",
        "\n",
        "    obten_nulos(particion)\n",
        "\n",
        "    for col_name in [c for c, t in particion.dtypes if t == \"double\"]:\n",
        "      particion = particion.withColumn(col_name, round(particion[col_name], 2))\n",
        "\n",
        "    return particion"
      ],
      "metadata": {
        "id": "PS9ra8pQSM71"
      },
      "execution_count": 10,
      "outputs": []
    },
    {
      "cell_type": "code",
      "source": [
        "obten_nulos(df_muestras)"
      ],
      "metadata": {
        "id": "vc-aW7WY73U0",
        "colab": {
          "base_uri": "https://localhost:8080/"
        },
        "outputId": "aaf4c95d-b863-4354-dac0-c52d2721b4a4"
      },
      "execution_count": 11,
      "outputs": [
        {
          "output_type": "stream",
          "name": "stdout",
          "text": [
            "📊 Total de filas en la partición: 148000\n",
            "🗂️ Número de columnas en la partición: 19\n",
            "+-----------------+--------------+----------+\n",
            "|Columna          |Total de nulos|Porcentaje|\n",
            "+-----------------+--------------+----------+\n",
            "|Precipitation(in)|33333         |22.52     |\n",
            "|Wind_Speed(mph)  |8766          |5.92      |\n",
            "|Humidity(%)      |1055          |0.71      |\n",
            "|Wind_Direction   |760           |0.51      |\n",
            "|Temperature(F)   |713           |0.48      |\n",
            "|Sunrise_Sunset   |509           |0.34      |\n",
            "|Visibility(mi)   |425           |0.29      |\n",
            "|City             |7             |0.0       |\n",
            "+-----------------+--------------+----------+\n",
            "\n"
          ]
        }
      ]
    },
    {
      "cell_type": "code",
      "source": [
        "muestra_imp = imputacion_valores(df_muestras)"
      ],
      "metadata": {
        "colab": {
          "base_uri": "https://localhost:8080/"
        },
        "id": "eMiT-fWeUziL",
        "outputId": "ccb270b5-3580-4eef-d690-9ba1f1282db2"
      },
      "execution_count": 12,
      "outputs": [
        {
          "output_type": "stream",
          "name": "stdout",
          "text": [
            "✅ Se realiza la imputación utilizando los siguientes valores:\n",
            "\n"
          ]
        },
        {
          "output_type": "stream",
          "name": "stderr",
          "text": [
            "\r[Stage 3722:======================================>              (54 + 16) / 74]\r\r                                                                                \r"
          ]
        },
        {
          "output_type": "stream",
          "name": "stdout",
          "text": [
            "🌡️ Temperatura promedio: 57.58\n",
            "💧 Humedad promedio: 75.18\n",
            "👀 Visibilidad promedio: 7.01\n",
            "🌧️ Precipitación promedio: 0.04\n",
            "🌬️ Velocidad del viento promedio: 10.17\n",
            "☁️ Condición meteorológica más frecuente: Fair\n",
            "🏙️ Ciudad más frecuente: Houston\n",
            "🌅 Hora de atardecer más frecuente: Day\n",
            "🌬️ Dirección del viento más frecuente: CALM\n",
            "\n",
            "🔍 Se validan nuevamente los valores nulos para corroborar la imputación.\n",
            "\n",
            "📊 Total de filas en la partición: 148000\n",
            "🗂️ Número de columnas en la partición: 19\n",
            "✅ No existen valores nulos en la partición.\n"
          ]
        }
      ]
    },
    {
      "cell_type": "markdown",
      "source": [
        "# Preparando datos"
      ],
      "metadata": {
        "id": "bkIQuXvbbTv_"
      }
    },
    {
      "cell_type": "code",
      "source": [
        "muestra_imp.groupBy(\"Severity\").count().show()"
      ],
      "metadata": {
        "colab": {
          "base_uri": "https://localhost:8080/"
        },
        "id": "cCLiAdHcjHm-",
        "outputId": "c2bf0ba2-fa62-44a1-ab33-46a9645cde38"
      },
      "execution_count": 13,
      "outputs": [
        {
          "output_type": "stream",
          "name": "stdout",
          "text": [
            "+--------+-----+\n",
            "|Severity|count|\n",
            "+--------+-----+\n",
            "|       2|74000|\n",
            "|       3|42000|\n",
            "|       4|22000|\n",
            "|       1|10000|\n",
            "+--------+-----+\n",
            "\n"
          ]
        }
      ]
    },
    {
      "cell_type": "code",
      "source": [
        "muestra_imp.show()"
      ],
      "metadata": {
        "colab": {
          "base_uri": "https://localhost:8080/"
        },
        "id": "3RFzlmg12gfA",
        "outputId": "9eae1eb3-dd65-4ee5-8402-9d9227e13873"
      },
      "execution_count": 14,
      "outputs": [
        {
          "output_type": "stream",
          "name": "stdout",
          "text": [
            "+---------+-----------------+-----------------+--------+-------------+-----+--------------+-----------+--------------+--------------+---------------+--------+--------+-------+----------+-----+--------------+---------------+--------------+\n",
            "|       ID|Weather_Condition|Precipitation(in)|Severity|         City|State|Temperature(F)|Humidity(%)|Visibility(mi)|Wind_Direction|Wind_Speed(mph)|Crossing|Junction|Railway|Roundabout| Stop|Sunrise_Sunset|Traffic_Calming|Traffic_Signal|\n",
            "+---------+-----------------+-----------------+--------+-------------+-----+--------------+-----------+--------------+--------------+---------------+--------+--------+-------+----------+-----+--------------+---------------+--------------+\n",
            "|A-5653328|             Fair|              0.0|       2|     Richmond|   CA|          52.0|       71.0|          10.0|             S|           15.0|    true|   false|  false|     false|false|         Night|          false|          true|\n",
            "|A-4972285|             Fair|              0.0|       2| Apple Valley|   CA|          64.0|       42.0|          10.0|           WSW|           17.0|   false|   false|  false|     false|false|           Day|          false|         false|\n",
            "|A-4205479|             Fair|              0.0|       2|   Birmingham|   AL|          68.0|       40.0|          10.0|             N|            9.0|   false|   false|  false|     false|false|           Day|          false|         false|\n",
            "|A-6329358|             Fair|             0.04|       2|   Sacramento|   CA|          81.0|       42.0|          10.0|            SW|           10.0|    true|   false|  false|     false|false|           Day|          false|         false|\n",
            "|A-6350774|             Fair|              0.0|       2|       Austin|   TX|          68.0|       21.0|          10.0|           SSE|           10.0|   false|   false|  false|     false|false|           Day|          false|         false|\n",
            "|A-2054417|             Fair|              0.0|       2|      Phoenix|   AZ|          96.0|       15.0|          10.0|          CALM|            0.0|   false|   false|  false|     false|false|           Day|          false|         false|\n",
            "|A-1279182|             Fair|              0.0|       2|     Valencia|   CA|          63.0|       58.0|          10.0|            NE|            3.0|    true|   false|  false|     false|false|         Night|          false|          true|\n",
            "|A-4981543|             Fair|              0.0|       2|        Miami|   FL|          74.0|       82.0|          10.0|             E|            7.0|   false|   false|  false|     false|false|           Day|          false|         false|\n",
            "|A-6721985|             Fair|              0.0|       2|      Orlando|   FL|          79.0|       94.0|          10.0|           ENE|           10.0|   false|   false|  false|     false|false|           Day|          false|         false|\n",
            "|A-4322588|             Fair|              0.0|       2|    San Mateo|   CA|          54.0|       62.0|          10.0|             W|            7.0|   false|    true|  false|     false|false|         Night|          false|         false|\n",
            "|A-4875434|             Fair|              0.0|       2|        Manor|   TX|          25.0|       36.0|          10.0|           NNE|           10.0|   false|   false|  false|     false|false|         Night|          false|         false|\n",
            "|A-4501786|             Fair|              0.0|       2| Eden Prairie|   MN|          -1.0|       66.0|          10.0|           WNW|           12.0|   false|   false|  false|     false|false|           Day|          false|         false|\n",
            "|A-4421077|             Fair|              0.0|       2|     Carlsbad|   CA|          63.0|       22.0|          10.0|             W|            9.0|   false|   false|  false|     false|false|           Day|          false|         false|\n",
            "|A-3694023|             Fair|              0.0|       2|    Fairfield|   CT|          49.0|       59.0|          10.0|           WSW|            7.0|   false|   false|  false|     false|false|           Day|          false|         false|\n",
            "|A-1722120|             Fair|              0.0|       2|Oklahoma City|   OK|          26.0|       71.0|          10.0|           SSW|            3.0|    true|   false|  false|     false|false|         Night|          false|          true|\n",
            "|A-4755504|             Fair|              0.0|       2|     Columbia|   SC|          62.0|       34.0|          10.0|          CALM|            0.0|   false|   false|  false|     false|false|           Day|          false|         false|\n",
            "| A-937406|             Fair|              0.0|       2|         Orem|   UT|          73.0|       34.0|          10.0|            SE|            5.0|    true|   false|  false|     false|false|           Day|          false|         false|\n",
            "|A-5827359|             Fair|              0.0|       2|      Modesto|   CA|          61.0|       35.0|          10.0|            NW|           15.0|   false|   false|  false|     false|false|           Day|          false|         false|\n",
            "|A-5980554|             Fair|              0.0|       2|   Sacramento|   CA|          61.0|       68.0|          10.0|          CALM|            0.0|   false|   false|  false|     false|false|         Night|          false|         false|\n",
            "|A-1033973|             Fair|             0.04|       2|  Diamond Bar|   CA|          90.0|       16.0|          10.0|            NW|            8.0|   false|   false|  false|     false|false|           Day|          false|         false|\n",
            "+---------+-----------------+-----------------+--------+-------------+-----+--------------+-----------+--------------+--------------+---------------+--------+--------+-------+----------+-----+--------------+---------------+--------------+\n",
            "only showing top 20 rows\n",
            "\n"
          ]
        }
      ]
    },
    {
      "cell_type": "code",
      "source": [
        "categoricas = [\"Weather_Condition\", \"City\", \"State\", \"Sunrise_Sunset\",\"Wind_Direction\"]\n",
        "binarias = [\"Crossing\", \"Junction\", \"Railway\", \"Roundabout\", \"Stop\", \"Traffic_Calming\", \"Traffic_Signal\"]"
      ],
      "metadata": {
        "id": "HKTLf48hbs_d"
      },
      "execution_count": 15,
      "outputs": []
    },
    {
      "cell_type": "code",
      "source": [
        "# ✅ Crear una copia de `imp_sev_1` para trabajar sobre ella\n",
        "Transf_muestra = muestra_imp.alias(\"copia_muestra\")  # Esto asegura que el original quede intacto\n",
        "\n",
        "# Convertir variables binarias a 0 y 1 en la copia\n",
        "for columna in binarias:\n",
        "    Transf_muestra = Transf_muestra.withColumn(columna + \"_num\", col(columna).cast(\"int\"))\n",
        "\n",
        "# Aplicar StringIndexer a las variables categóricas\n",
        "indexers = [StringIndexer(inputCol=col, outputCol=col + \"_Index\").fit(Transf_muestra) for col in categoricas]\n",
        "for indexer in indexers:\n",
        "    Transf_muestra = indexer.transform(Transf_muestra)\n",
        "\n",
        "# Aplicar One-Hot Encoding a las categóricas\n",
        "#codificadores = [OneHotEncoder(inputCol=col + \"_Index\", outputCol=col + \"_OHE\").fit(Transf_muestra) for col in categoricas]\n",
        "#for codificador in codificadores:\n",
        "#    Transf_muestra = codificador.transform(Transf_muestra)\n",
        "\n",
        "# 🔥 Eliminar las columnas originales que ya no se usarán en el modelo\n",
        "Transf_muestra = Transf_muestra.drop(*categoricas).drop(*binarias)\n",
        "\n",
        "Transf_muestra.show()\n",
        "\n",
        "\n"
      ],
      "metadata": {
        "colab": {
          "base_uri": "https://localhost:8080/"
        },
        "id": "NX_PoP6Nh3Bj",
        "outputId": "aa651325-48d6-4fcb-9c0b-c661338c11ab"
      },
      "execution_count": 35,
      "outputs": [
        {
          "output_type": "stream",
          "name": "stdout",
          "text": [
            "+---------+-----------------+--------+--------------+-----------+--------------+---------------+------------+------------+-----------+--------------+--------+-------------------+------------------+-----------------------+----------+-----------+--------------------+--------------------+\n",
            "|       ID|Precipitation(in)|Severity|Temperature(F)|Humidity(%)|Visibility(mi)|Wind_Speed(mph)|Crossing_num|Junction_num|Railway_num|Roundabout_num|Stop_num|Traffic_Calming_num|Traffic_Signal_num|Weather_Condition_Index|City_Index|State_Index|Sunrise_Sunset_Index|Wind_Direction_Index|\n",
            "+---------+-----------------+--------+--------------+-----------+--------------+---------------+------------+------------+-----------+--------------+--------+-------------------+------------------+-----------------------+----------+-----------+--------------------+--------------------+\n",
            "|A-5653328|              0.0|       2|          52.0|       71.0|          10.0|           15.0|           1|           0|          0|             0|       0|                  0|                 1|                    1.0|      15.0|        0.0|                 1.0|                 1.0|\n",
            "|A-4972285|              0.0|       2|          64.0|       42.0|          10.0|           17.0|           0|           0|          0|             0|       0|                  0|                 0|                    1.0|    1986.0|        0.0|                 0.0|                11.0|\n",
            "|A-4205479|              0.0|       2|          68.0|       40.0|          10.0|            9.0|           0|           0|          0|             0|       0|                  0|                 0|                    1.0|      51.0|       22.0|                 0.0|                 6.0|\n",
            "|A-6329358|             0.04|       2|          81.0|       42.0|          10.0|           10.0|           1|           0|          0|             0|       0|                  0|                 0|                    1.0|      29.0|        0.0|                 0.0|                10.0|\n",
            "|A-6350774|              0.0|       2|          68.0|       21.0|          10.0|           10.0|           0|           0|          0|             0|       0|                  0|                 0|                    1.0|      10.0|        2.0|                 0.0|                 9.0|\n",
            "|A-2054417|              0.0|       2|          96.0|       15.0|          10.0|            0.0|           0|           0|          0|             0|       0|                  0|                 0|                    1.0|      23.0|       20.0|                 0.0|                 0.0|\n",
            "|A-1279182|              0.0|       2|          63.0|       58.0|          10.0|            3.0|           1|           0|          0|             0|       0|                  0|                 1|                    1.0|     997.0|        0.0|                 1.0|                15.0|\n",
            "|A-4981543|              0.0|       2|          74.0|       82.0|          10.0|            7.0|           0|           0|          0|             0|       0|                  0|                 0|                    1.0|       1.0|        1.0|                 0.0|                14.0|\n",
            "|A-6721985|              0.0|       2|          79.0|       94.0|          10.0|           10.0|           0|           0|          0|             0|       0|                  0|                 0|                    1.0|       4.0|        1.0|                 0.0|                13.0|\n",
            "|A-4322588|              0.0|       2|          54.0|       62.0|          10.0|            7.0|           0|           1|          0|             0|       0|                  0|                 0|                    1.0|     253.0|        0.0|                 1.0|                 3.0|\n",
            "|A-4875434|              0.0|       2|          25.0|       36.0|          10.0|           10.0|           0|           0|          0|             0|       0|                  0|                 0|                    1.0|     628.0|        2.0|                 1.0|                12.0|\n",
            "|A-4501786|              0.0|       2|          -1.0|       66.0|          10.0|           12.0|           0|           0|          0|             0|       0|                  0|                 0|                    1.0|     456.0|        8.0|                 0.0|                 5.0|\n",
            "|A-4421077|              0.0|       2|          63.0|       22.0|          10.0|            9.0|           0|           0|          0|             0|       0|                  0|                 0|                    1.0|     774.0|        0.0|                 0.0|                 3.0|\n",
            "|A-3694023|              0.0|       2|          49.0|       59.0|          10.0|            7.0|           0|           0|          0|             0|       0|                  0|                 0|                    1.0|      82.0|       27.0|                 0.0|                11.0|\n",
            "|A-1722120|              0.0|       2|          26.0|       71.0|          10.0|            3.0|           1|           0|          0|             0|       0|                  0|                 1|                    1.0|      14.0|       25.0|                 1.0|                 7.0|\n",
            "|A-4755504|              0.0|       2|          62.0|       34.0|          10.0|            0.0|           0|           0|          0|             0|       0|                  0|                 0|                    1.0|      28.0|        6.0|                 0.0|                 0.0|\n",
            "| A-937406|              0.0|       2|          73.0|       34.0|          10.0|            5.0|           1|           0|          0|             0|       0|                  0|                 0|                    1.0|     631.0|       24.0|                 0.0|                16.0|\n",
            "|A-5827359|              0.0|       2|          61.0|       35.0|          10.0|           15.0|           0|           0|          0|             0|       0|                  0|                 0|                    1.0|     379.0|        0.0|                 0.0|                 4.0|\n",
            "|A-5980554|              0.0|       2|          61.0|       68.0|          10.0|            0.0|           0|           0|          0|             0|       0|                  0|                 0|                    1.0|      29.0|        0.0|                 1.0|                 0.0|\n",
            "|A-1033973|             0.04|       2|          90.0|       16.0|          10.0|            8.0|           0|           0|          0|             0|       0|                  0|                 0|                    1.0|     647.0|        0.0|                 0.0|                 4.0|\n",
            "+---------+-----------------+--------+--------------+-----------+--------------+---------------+------------+------------+-----------+--------------+--------+-------------------+------------------+-----------------------+----------+-----------+--------------------+--------------------+\n",
            "only showing top 20 rows\n",
            "\n"
          ]
        }
      ]
    },
    {
      "cell_type": "code",
      "source": [
        "from pyspark.sql.functions import when, col\n",
        "from pyspark.sql.functions import mean\n",
        "\n",
        "\n",
        "calcular_IQR(Transf_muestra,['Temperature(F)','Humidity(%)','Visibility(mi)','Wind_Speed(mph)'])\n",
        "\n",
        "mean_values = Transf_muestra.select(\n",
        "    mean(\"Temperature(F)\").alias(\"mean_temp\"),\n",
        "    mean(\"Humidity(%)\").alias(\"mean_humidity\"),\n",
        "    mean(\"Wind_Speed(mph)\").alias(\"mean_wind_speed\")\n",
        ").collect()[0]\n",
        "\n",
        "\n",
        "Transf_muestra_iqr = Transf_muestra.withColumn(\"Temperature(F)\", when((col(\"Temperature(F)\") < 14.5) | (col(\"Temperature(F)\") > 114.5), mean_values[\"mean_temp\"]).otherwise(col(\"Temperature(F)\"))) \\\n",
        "             .withColumn(\"Humidity(%)\", when((col(\"Humidity(%)\") < -6.0) | (col(\"Humidity(%)\") > 138.0), mean_values[\"mean_humidity\"]).otherwise(col(\"Humidity(%)\"))) \\\n",
        "             .withColumn(\"Wind_Speed(mph)\", when((col(\"Wind_Speed(mph)\") < -2.5) | (col(\"Wind_Speed(mph)\") > 17.5), mean_values[\"mean_wind_speed\"]).otherwise(col(\"Wind_Speed(mph)\")))"
      ],
      "metadata": {
        "id": "QuXJLcbJwdzo"
      },
      "execution_count": 36,
      "outputs": []
    },
    {
      "cell_type": "code",
      "source": [
        "calcular_IQR(Transf_muestra,['Temperature(F)','Humidity(%)','Visibility(mi)','Wind_Speed(mph)'])\n"
      ],
      "metadata": {
        "colab": {
          "base_uri": "https://localhost:8080/",
          "height": 206
        },
        "id": "nL90UIDBxvvf",
        "outputId": "e689ff68-206d-4aa6-a859-5e0f92e3c948"
      },
      "execution_count": 37,
      "outputs": [
        {
          "output_type": "execute_result",
          "data": {
            "text/plain": [
              "                  IQR  Límite Inf.  Límite Sup.\n",
              "Columna                                        \n",
              "Temperature(F)   31.8         -5.6        121.6\n",
              "Humidity(%)      30.0         17.0        137.0\n",
              "Visibility(mi)    7.0         -7.5         20.5\n",
              "Wind_Speed(mph)   8.0         -7.0         25.0"
            ],
            "text/html": [
              "<div>\n",
              "<style scoped>\n",
              "    .dataframe tbody tr th:only-of-type {\n",
              "        vertical-align: middle;\n",
              "    }\n",
              "\n",
              "    .dataframe tbody tr th {\n",
              "        vertical-align: top;\n",
              "    }\n",
              "\n",
              "    .dataframe thead th {\n",
              "        text-align: right;\n",
              "    }\n",
              "</style>\n",
              "<table border=\"1\" class=\"dataframe\">\n",
              "  <thead>\n",
              "    <tr style=\"text-align: right;\">\n",
              "      <th></th>\n",
              "      <th>IQR</th>\n",
              "      <th>Límite Inf.</th>\n",
              "      <th>Límite Sup.</th>\n",
              "    </tr>\n",
              "    <tr>\n",
              "      <th>Columna</th>\n",
              "      <th></th>\n",
              "      <th></th>\n",
              "      <th></th>\n",
              "    </tr>\n",
              "  </thead>\n",
              "  <tbody>\n",
              "    <tr>\n",
              "      <th>Temperature(F)</th>\n",
              "      <td>31.8</td>\n",
              "      <td>-5.6</td>\n",
              "      <td>121.6</td>\n",
              "    </tr>\n",
              "    <tr>\n",
              "      <th>Humidity(%)</th>\n",
              "      <td>30.0</td>\n",
              "      <td>17.0</td>\n",
              "      <td>137.0</td>\n",
              "    </tr>\n",
              "    <tr>\n",
              "      <th>Visibility(mi)</th>\n",
              "      <td>7.0</td>\n",
              "      <td>-7.5</td>\n",
              "      <td>20.5</td>\n",
              "    </tr>\n",
              "    <tr>\n",
              "      <th>Wind_Speed(mph)</th>\n",
              "      <td>8.0</td>\n",
              "      <td>-7.0</td>\n",
              "      <td>25.0</td>\n",
              "    </tr>\n",
              "  </tbody>\n",
              "</table>\n",
              "</div>"
            ]
          },
          "metadata": {},
          "execution_count": 37
        }
      ]
    },
    {
      "cell_type": "code",
      "source": [
        "calcular_IQR(Transf_muestra_iqr,['Temperature(F)','Humidity(%)','Visibility(mi)','Wind_Speed(mph)'])"
      ],
      "metadata": {
        "colab": {
          "base_uri": "https://localhost:8080/",
          "height": 206
        },
        "id": "MclfVST0x8X7",
        "outputId": "60f56d2d-1c65-492b-d4eb-f96af2c80f6f"
      },
      "execution_count": 38,
      "outputs": [
        {
          "output_type": "execute_result",
          "data": {
            "text/plain": [
              "                   IQR  Límite Inf.  Límite Sup.\n",
              "Columna                                         \n",
              "Temperature(F)   29.90       -0.850      118.750\n",
              "Humidity(%)      30.00       17.000      137.000\n",
              "Visibility(mi)    7.00       -7.500       20.500\n",
              "Wind_Speed(mph)   5.17       -2.755       17.925"
            ],
            "text/html": [
              "<div>\n",
              "<style scoped>\n",
              "    .dataframe tbody tr th:only-of-type {\n",
              "        vertical-align: middle;\n",
              "    }\n",
              "\n",
              "    .dataframe tbody tr th {\n",
              "        vertical-align: top;\n",
              "    }\n",
              "\n",
              "    .dataframe thead th {\n",
              "        text-align: right;\n",
              "    }\n",
              "</style>\n",
              "<table border=\"1\" class=\"dataframe\">\n",
              "  <thead>\n",
              "    <tr style=\"text-align: right;\">\n",
              "      <th></th>\n",
              "      <th>IQR</th>\n",
              "      <th>Límite Inf.</th>\n",
              "      <th>Límite Sup.</th>\n",
              "    </tr>\n",
              "    <tr>\n",
              "      <th>Columna</th>\n",
              "      <th></th>\n",
              "      <th></th>\n",
              "      <th></th>\n",
              "    </tr>\n",
              "  </thead>\n",
              "  <tbody>\n",
              "    <tr>\n",
              "      <th>Temperature(F)</th>\n",
              "      <td>29.90</td>\n",
              "      <td>-0.850</td>\n",
              "      <td>118.750</td>\n",
              "    </tr>\n",
              "    <tr>\n",
              "      <th>Humidity(%)</th>\n",
              "      <td>30.00</td>\n",
              "      <td>17.000</td>\n",
              "      <td>137.000</td>\n",
              "    </tr>\n",
              "    <tr>\n",
              "      <th>Visibility(mi)</th>\n",
              "      <td>7.00</td>\n",
              "      <td>-7.500</td>\n",
              "      <td>20.500</td>\n",
              "    </tr>\n",
              "    <tr>\n",
              "      <th>Wind_Speed(mph)</th>\n",
              "      <td>5.17</td>\n",
              "      <td>-2.755</td>\n",
              "      <td>17.925</td>\n",
              "    </tr>\n",
              "  </tbody>\n",
              "</table>\n",
              "</div>"
            ]
          },
          "metadata": {},
          "execution_count": 38
        }
      ]
    },
    {
      "cell_type": "code",
      "source": [
        "atributos = [ 'Precipitation(in)', 'Temperature(F)', 'Humidity(%)', 'Visibility(mi)',\n",
        "             'Crossing_num', 'Junction_num', 'Railway_num','Roundabout_num','Stop_num',\n",
        "              'Traffic_Calming_num', 'Traffic_Signal_num','Weather_Condition_Index',\n",
        "              'Sunrise_Sunset_Index','Wind_Direction_Index']"
      ],
      "metadata": {
        "id": "-M_w0JQFotVI"
      },
      "execution_count": 39,
      "outputs": []
    },
    {
      "cell_type": "code",
      "source": [
        "assembler = VectorAssembler(inputCols=atributos, outputCol = 'Caracteristicas')\n",
        "df_vec = assembler.transform(Transf_muestra_iqr)\n",
        "df_vec.select('Caracteristicas','Severity').show(5,truncate = False)"
      ],
      "metadata": {
        "colab": {
          "base_uri": "https://localhost:8080/"
        },
        "id": "o-PbBSmym4J8",
        "outputId": "8008df82-3683-4681-9bf2-6b9142975b38"
      },
      "execution_count": 40,
      "outputs": [
        {
          "output_type": "stream",
          "name": "stdout",
          "text": [
            "+---------------------------------------------------------------+--------+\n",
            "|Caracteristicas                                                |Severity|\n",
            "+---------------------------------------------------------------+--------+\n",
            "|(14,[1,2,3,4,10,11,12,13],[52.0,71.0,10.0,1.0,1.0,1.0,1.0,1.0])|2       |\n",
            "|(14,[1,2,3,11,13],[64.0,42.0,10.0,1.0,11.0])                   |2       |\n",
            "|(14,[1,2,3,11,13],[68.0,40.0,10.0,1.0,6.0])                    |2       |\n",
            "|(14,[0,1,2,3,4,11,13],[0.04,81.0,42.0,10.0,1.0,1.0,10.0])      |2       |\n",
            "|(14,[1,2,3,11,13],[68.0,21.0,10.0,1.0,9.0])                    |2       |\n",
            "+---------------------------------------------------------------+--------+\n",
            "only showing top 5 rows\n",
            "\n"
          ]
        }
      ]
    },
    {
      "cell_type": "markdown",
      "source": [
        "# Creando conjuntos de datos"
      ],
      "metadata": {
        "id": "sGFg6ohTCf-5"
      }
    },
    {
      "cell_type": "code",
      "source": [
        "#spark.conf.set(\"spark.sql.shuffle.partitions\", \"200\")\n",
        "train, test = df_vec.randomSplit([0.8,0.2], seed = 10)\n",
        "\n",
        "train_size = train.count()\n",
        "test_size = test.count()\n",
        "total_size = train_size + test_size\n",
        "\n",
        "train_pct = (train_size / total_size) * 100\n",
        "test_pct = (test_size / total_size) * 100\n",
        "\n",
        "print(f\"\"\"Existen {train_size} instancias en el conjunto train ({train_pct:.2f}%),\n",
        "y {test_size} en el conjunto test ({test_pct:.2f}%).\"\"\")"
      ],
      "metadata": {
        "colab": {
          "base_uri": "https://localhost:8080/"
        },
        "id": "VSgGyGFgCk9M",
        "outputId": "157b3ee4-9f9c-48b6-99c8-1fbcf99f1d70"
      },
      "execution_count": 41,
      "outputs": [
        {
          "output_type": "stream",
          "name": "stdout",
          "text": [
            "Existen 118393 instancias en el conjunto train (80.00%),\n",
            "y 29607 en el conjunto test (20.00%).\n"
          ]
        }
      ]
    },
    {
      "cell_type": "code",
      "source": [
        "from pyspark.ml.regression import LinearRegression\n",
        "lr = LinearRegression(featuresCol='Caracteristicas', labelCol='Severity', maxIter=10, regParam=0.03, elasticNetParam=0.08)\n",
        "lr_model = lr.fit(train)"
      ],
      "metadata": {
        "id": "GN9E6EYYoHLO"
      },
      "execution_count": 42,
      "outputs": []
    },
    {
      "cell_type": "code",
      "source": [
        "y_pred = lr_model.transform(test)\n",
        "y_pred.select('Caracteristicas','Severity','prediction').show(truncate = False)"
      ],
      "metadata": {
        "colab": {
          "base_uri": "https://localhost:8080/"
        },
        "id": "jupb8TgdafId",
        "outputId": "aa8e581c-bc23-400b-e76d-0ee76c7fccae"
      },
      "execution_count": 43,
      "outputs": [
        {
          "output_type": "stream",
          "name": "stdout",
          "text": [
            "+---------------------------------------------------------+--------+------------------+\n",
            "|Caracteristicas                                          |Severity|prediction        |\n",
            "+---------------------------------------------------------+--------+------------------+\n",
            "|(14,[1,2,3,11,13],[62.0,34.0,10.0,1.0,14.0])             |2       |2.819870107813826 |\n",
            "|(14,[1,2,3,11,12,13],[75.0,90.0,10.0,1.0,1.0,10.0])      |2       |2.8676742699880804|\n",
            "|(14,[1,2,3,11,13],[89.0,59.0,10.0,1.0,1.0])              |2       |2.658066945416904 |\n",
            "|(14,[1,2,3,11,13],[91.0,34.0,10.0,1.0,10.0])             |2       |2.7201346238856607|\n",
            "|(14,[1,2,3,11,13],[85.0,34.0,10.0,1.0,9.0])              |2       |2.7278410864907965|\n",
            "|(14,[1,2,3,11,13],[83.0,31.0,10.0,1.0,5.0])              |2       |2.7048710175259   |\n",
            "|(14,[1,2,3,11],[67.0,90.0,10.0,1.0])                     |2       |2.7010615185452793|\n",
            "|(14,[1,2,3,11,13],[88.0,8.0,10.0,1.0,17.0])              |2       |2.780504394903811 |\n",
            "|(14,[1,2,3,10,11,12,13],[47.0,66.0,10.0,1.0,1.0,1.0,3.0])|2       |2.598708700518487 |\n",
            "|(14,[1,2,3,11,13],[59.0,31.0,10.0,1.0,5.0])              |2       |2.7639931311932395|\n",
            "|(14,[1,2,3,11,13],[55.0,18.0,10.0,1.0,11.0])             |2       |2.8180217347385774|\n",
            "|(14,[1,2,3,11,13],[55.0,53.0,10.0,1.0,11.0])             |2       |2.813362634181872 |\n",
            "|(14,[1,2,3,11,12,13],[46.0,66.0,10.0,1.0,1.0,8.0])       |2       |2.928160170856363 |\n",
            "|(14,[1,2,3,11,12,13],[48.0,52.0,10.0,1.0,1.0,11.0])      |2       |2.9463191657085313|\n",
            "|(14,[1,2,3,11,13],[49.0,61.0,10.0,1.0,16.0])             |2       |2.862448554387099 |\n",
            "|(14,[1,2,3,11],[27.0,85.0,8.0,1.0])                      |2       |2.8019276277353735|\n",
            "|(14,[1,2,3,11,12,13],[50.0,20.0,10.0,1.0,1.0,17.0])      |2       |2.9880964668535315|\n",
            "|(14,[1,2,3,11,13],[30.0,80.0,10.0,1.0,3.0])              |2       |2.814761479471822 |\n",
            "|(14,[1,2,3,10,11],[71.0,100.0,10.0,1.0,1.0])             |2       |2.398258941469852 |\n",
            "|(14,[1,2,3,4,11,12,13],[66.0,73.0,10.0,1.0,1.0,1.0,13.0])|2       |2.6928940784548114|\n",
            "+---------------------------------------------------------+--------+------------------+\n",
            "only showing top 20 rows\n",
            "\n"
          ]
        }
      ]
    },
    {
      "cell_type": "code",
      "source": [
        "print (\"The coefficient of the model is : \", lr_model.coefficients)\n",
        "print (\"The Intercept of the model is : \", lr_model.intercept)"
      ],
      "metadata": {
        "colab": {
          "base_uri": "https://localhost:8080/"
        },
        "id": "rHZ-ACWLoNww",
        "outputId": "62129b44-34fe-4f82-b20b-d918f02d3aa9"
      },
      "execution_count": 44,
      "outputs": [
        {
          "output_type": "stream",
          "name": "stdout",
          "text": [
            "The coefficient of the model is :  [0.1853748773460173,-0.0024634214028058142,-0.0001331171587630118,-0.0008318336420232537,-0.2204361732925904,0.06846844196034885,0.0,0.40097286456564646,-0.13201340819038784,0.0,-0.29161771987657376,-0.022379348229455857,0.11557946454825536,0.0070740658116992365]\n",
            "The Intercept of the model is :  2.9087889814716283\n"
          ]
        }
      ]
    },
    {
      "cell_type": "code",
      "source": [
        "#Root Mean Square Error\n",
        "eval_lr = RegressionEvaluator(labelCol=\"Stop_num\", predictionCol=\"prediction\", metricName=\"rmse\")\n",
        "rmse_lr = eval_lr.evaluate(y_pred)\n",
        "print(\"RMSE: %.3f\" % rmse_lr)\n",
        "\n",
        "# Mean Square Error\n",
        "mse = eval_lr.evaluate(y_pred, {eval_lr.metricName: \"mse\"})\n",
        "print(\"MSE: %.3f\" % mse)\n",
        "\n",
        "# Mean Absolute Error\n",
        "mae = eval_lr.evaluate(y_pred, {eval_lr.metricName: \"mae\"})\n",
        "print(\"MAE: %.3f\" % mae)\n",
        "\n",
        "# r2 - coefficient of determination\n",
        "r2 = eval_lr.evaluate(y_pred, {eval_lr.metricName: \"r2\"})\n",
        "print(\"r2: %.3f\" %r2)"
      ],
      "metadata": {
        "colab": {
          "base_uri": "https://localhost:8080/"
        },
        "id": "bwZf1S0poUEH",
        "outputId": "661b489d-30db-4fc8-81cd-59569ef31b52"
      },
      "execution_count": 45,
      "outputs": [
        {
          "output_type": "stream",
          "name": "stdout",
          "text": [
            "RMSE: 2.515\n",
            "MSE: 6.324\n",
            "MAE: 2.493\n",
            "r2: -299.396\n"
          ]
        }
      ]
    },
    {
      "cell_type": "code",
      "source": [
        "from pyspark.ml.clustering import KMeans, GaussianMixture\n",
        "from pyspark.ml.evaluation import ClusteringEvaluator\n",
        "\n",
        "gmm = GaussianMixture(k=4, seed=1, featuresCol=\"Caracteristicas\", predictionCol=\"Prediccion\")\n",
        "model = gmm.fit(df_vec)\n",
        "\n"
      ],
      "metadata": {
        "id": "lZMItLOyPxTp"
      },
      "execution_count": 46,
      "outputs": []
    },
    {
      "cell_type": "code",
      "source": [
        "print(\"Pesos de los clusters:\", model.weights)\n",
        "print(\"Medias de los clusters:\", [g.mean for g in model.gaussians])\n",
        "print(\"Covarianzas de los clusters:\", [g.cov for g in model.gaussians])\n",
        "\n"
      ],
      "metadata": {
        "colab": {
          "base_uri": "https://localhost:8080/"
        },
        "id": "D9lKtHZvTBYT",
        "outputId": "393e609b-39e7-4cbc-a0e8-f45db2833352"
      },
      "execution_count": 47,
      "outputs": [
        {
          "output_type": "stream",
          "name": "stdout",
          "text": [
            "Pesos de los clusters: [0.8610860884135962, 0.02827606923030971, 0.10446987656397766, 0.006167965792116337]\n",
            "Medias de los clusters: [DenseVector([0.0219, 58.4098, 74.7803, 7.0779, 0.0941, 0.0001, 0.0002, 0.0, 0.0001, 0.0, 0.1442, 12.6512, 0.2936, 8.9464]), DenseVector([0.0306, 59.9939, 72.7909, 7.4928, 0.3916, 0.0039, 0.2445, 0.0003, 0.7561, 0.0003, 0.1331, 12.3939, 0.2853, 8.8585]), DenseVector([0.131, 59.2213, 78.9289, 6.1767, 0.0009, 0.7682, 0.0015, 0.0001, 0.0006, 0.0001, 0.0002, 13.1248, 0.3117, 9.391]), DenseVector([0.4484, 64.4302, 78.3936, 9.2562, 0.4383, 0.3645, 0.0255, 0.0014, 0.103, 0.1125, 0.5326, 16.351, 0.242, 9.7284])]\n",
            "Covarianzas de los clusters: [DenseMatrix(14, 14, [0.0026, 0.0026, 0.1537, -0.0294, 0.0, 0.0, 0.0, 0.0, ..., 0.0001, -0.0, -0.0, 0.0, 0.064, -1.6459, -0.214, 41.9193], 0), DenseMatrix(14, 14, [0.0415, 0.0652, 0.2951, -0.0469, 0.0014, 0.0, -0.0012, 0.0, ..., 0.0416, -0.0006, -0.043, 0.0006, 0.1427, -0.1209, -0.3413, 43.2689], 0), DenseMatrix(14, 14, [0.0582, 0.9105, 1.4618, -0.2871, 0.0006, -0.0736, -0.0001, -0.0, ..., 0.0003, -0.0002, -0.0003, 0.0001, 0.0001, -0.8386, -0.1724, 42.1369], 0), DenseMatrix(14, 14, [0.5077, 3.0192, 5.1954, -2.1403, -0.024, -0.1353, -0.0103, -0.0006, ..., -0.0038, -0.004, 0.1141, -0.0993, 0.2028, 0.2183, -0.0069, 43.5717], 0)]\n"
          ]
        }
      ]
    },
    {
      "cell_type": "code",
      "source": [
        "df_result = model.transform(df_vec)\n",
        "df_result.select('Caracteristicas','Severity','Prediccion').show(truncate = False)"
      ],
      "metadata": {
        "colab": {
          "base_uri": "https://localhost:8080/"
        },
        "id": "ehC0BsBfTEAQ",
        "outputId": "66537308-ef33-47b2-ad33-67d45d0abb95"
      },
      "execution_count": 48,
      "outputs": [
        {
          "output_type": "stream",
          "name": "stdout",
          "text": [
            "+----------------------------------------------------------------+--------+----------+\n",
            "|Caracteristicas                                                 |Severity|Prediccion|\n",
            "+----------------------------------------------------------------+--------+----------+\n",
            "|(14,[1,2,3,4,10,11,12,13],[52.0,71.0,10.0,1.0,1.0,1.0,1.0,1.0]) |2       |0         |\n",
            "|(14,[1,2,3,11,13],[64.0,42.0,10.0,1.0,11.0])                    |2       |0         |\n",
            "|(14,[1,2,3,11,13],[68.0,40.0,10.0,1.0,6.0])                     |2       |0         |\n",
            "|(14,[0,1,2,3,4,11,13],[0.04,81.0,42.0,10.0,1.0,1.0,10.0])       |2       |0         |\n",
            "|(14,[1,2,3,11,13],[68.0,21.0,10.0,1.0,9.0])                     |2       |0         |\n",
            "|(14,[1,2,3,11],[96.0,15.0,10.0,1.0])                            |2       |0         |\n",
            "|(14,[1,2,3,4,10,11,12,13],[63.0,58.0,10.0,1.0,1.0,1.0,1.0,15.0])|2       |0         |\n",
            "|(14,[1,2,3,11,13],[74.0,82.0,10.0,1.0,14.0])                    |2       |0         |\n",
            "|(14,[1,2,3,11,13],[79.0,94.0,10.0,1.0,13.0])                    |2       |0         |\n",
            "|(14,[1,2,3,5,11,12,13],[54.0,62.0,10.0,1.0,1.0,1.0,3.0])        |2       |2         |\n",
            "|(14,[1,2,3,11,12,13],[25.0,36.0,10.0,1.0,1.0,12.0])             |2       |0         |\n",
            "|(14,[1,2,3,11,13],[57.58170837837838,66.0,10.0,1.0,5.0])        |2       |0         |\n",
            "|(14,[1,2,3,11,13],[63.0,22.0,10.0,1.0,3.0])                     |2       |0         |\n",
            "|(14,[1,2,3,11,13],[49.0,59.0,10.0,1.0,11.0])                    |2       |0         |\n",
            "|(14,[1,2,3,4,10,11,12,13],[26.0,71.0,10.0,1.0,1.0,1.0,1.0,7.0]) |2       |0         |\n",
            "|(14,[1,2,3,11],[62.0,34.0,10.0,1.0])                            |2       |0         |\n",
            "|(14,[1,2,3,4,11,13],[73.0,34.0,10.0,1.0,1.0,16.0])              |2       |0         |\n",
            "|(14,[1,2,3,11,13],[61.0,35.0,10.0,1.0,4.0])                     |2       |0         |\n",
            "|(14,[1,2,3,11,12],[61.0,68.0,10.0,1.0,1.0])                     |2       |0         |\n",
            "|(14,[0,1,2,3,11,13],[0.04,90.0,16.0,10.0,1.0,4.0])              |2       |0         |\n",
            "+----------------------------------------------------------------+--------+----------+\n",
            "only showing top 20 rows\n",
            "\n"
          ]
        }
      ]
    },
    {
      "cell_type": "code",
      "source": [
        "df_igual = df_result.withColumn(\"es_igual\", when(col(\"Severity\") == col(\"Prediccion\"), 1).otherwise(0))\n",
        "conteo_iguales = df_igual.select(count(when(col(\"es_igual\") == 1, True)).alias(\"total_iguales\"))\n",
        "\n",
        "# Mostrar resultados\n",
        "df_igual.show()\n",
        "conteo_iguales.show()\n"
      ],
      "metadata": {
        "colab": {
          "base_uri": "https://localhost:8080/"
        },
        "id": "5oewfLJKXmwj",
        "outputId": "7f066088-3fba-4a16-ed10-84cc89062bb5"
      },
      "execution_count": 49,
      "outputs": [
        {
          "output_type": "stream",
          "name": "stdout",
          "text": [
            "+---------+-----------------+--------+-----------------+-----------+--------------+---------------+------------+------------+-----------+--------------+--------+-------------------+------------------+-----------------------+----------+-----------+--------------------+--------------------+--------------------+--------------------+----------+--------+\n",
            "|       ID|Precipitation(in)|Severity|   Temperature(F)|Humidity(%)|Visibility(mi)|Wind_Speed(mph)|Crossing_num|Junction_num|Railway_num|Roundabout_num|Stop_num|Traffic_Calming_num|Traffic_Signal_num|Weather_Condition_Index|City_Index|State_Index|Sunrise_Sunset_Index|Wind_Direction_Index|     Caracteristicas|         probability|Prediccion|es_igual|\n",
            "+---------+-----------------+--------+-----------------+-----------+--------------+---------------+------------+------------+-----------+--------------+--------+-------------------+------------------+-----------------------+----------+-----------+--------------------+--------------------+--------------------+--------------------+----------+--------+\n",
            "|A-5653328|              0.0|       2|             52.0|       71.0|          10.0|           15.0|           1|           0|          0|             0|       0|                  0|                 1|                    1.0|      15.0|        0.0|                 1.0|                 1.0|(14,[1,2,3,4,10,1...|[0.99999999999569...|         0|       0|\n",
            "|A-4972285|              0.0|       2|             64.0|       42.0|          10.0|           17.0|           0|           0|          0|             0|       0|                  0|                 0|                    1.0|    1986.0|        0.0|                 0.0|                11.0|(14,[1,2,3,11,13]...|[0.99999868510986...|         0|       0|\n",
            "|A-4205479|              0.0|       2|             68.0|       40.0|          10.0|            9.0|           0|           0|          0|             0|       0|                  0|                 0|                    1.0|      51.0|       22.0|                 0.0|                 6.0|(14,[1,2,3,11,13]...|[0.99999861496774...|         0|       0|\n",
            "|A-6329358|             0.04|       2|             81.0|       42.0|          10.0|           10.0|           1|           0|          0|             0|       0|                  0|                 0|                    1.0|      29.0|        0.0|                 0.0|                10.0|(14,[0,1,2,3,4,11...|[0.99999999999516...|         0|       0|\n",
            "|A-6350774|              0.0|       2|             68.0|       21.0|          10.0|           10.0|           0|           0|          0|             0|       0|                  0|                 0|                    1.0|      10.0|        2.0|                 0.0|                 9.0|(14,[1,2,3,11,13]...|[0.99999957745839...|         0|       0|\n",
            "|A-2054417|              0.0|       2|             96.0|       15.0|          10.0|            0.0|           0|           0|          0|             0|       0|                  0|                 0|                    1.0|      23.0|       20.0|                 0.0|                 0.0|(14,[1,2,3,11],[9...|[0.99999932042501...|         0|       0|\n",
            "|A-1279182|              0.0|       2|             63.0|       58.0|          10.0|            3.0|           1|           0|          0|             0|       0|                  0|                 1|                    1.0|     997.0|        0.0|                 1.0|                15.0|(14,[1,2,3,4,10,1...|[0.99999999999611...|         0|       0|\n",
            "|A-4981543|              0.0|       2|             74.0|       82.0|          10.0|            7.0|           0|           0|          0|             0|       0|                  0|                 0|                    1.0|       1.0|        1.0|                 0.0|                14.0|(14,[1,2,3,11,13]...|[0.99999131080820...|         0|       0|\n",
            "|A-6721985|              0.0|       2|             79.0|       94.0|          10.0|           10.0|           0|           0|          0|             0|       0|                  0|                 0|                    1.0|       4.0|        1.0|                 0.0|                13.0|(14,[1,2,3,11,13]...|[0.99998803485852...|         0|       0|\n",
            "|A-4322588|              0.0|       2|             54.0|       62.0|          10.0|            7.0|           0|           1|          0|             0|       0|                  0|                 0|                    1.0|     253.0|        0.0|                 1.0|                 3.0|(14,[1,2,3,5,11,1...|[2.19637439456573...|         2|       1|\n",
            "|A-4875434|              0.0|       2|             25.0|       36.0|          10.0|           10.0|           0|           0|          0|             0|       0|                  0|                 0|                    1.0|     628.0|        2.0|                 1.0|                12.0|(14,[1,2,3,11,12,...|[0.99999987204987...|         0|       0|\n",
            "|A-4501786|              0.0|       2|57.58170837837838|       66.0|          10.0|           12.0|           0|           0|          0|             0|       0|                  0|                 0|                    1.0|     456.0|        8.0|                 0.0|                 5.0|(14,[1,2,3,11,13]...|[0.99999712016526...|         0|       0|\n",
            "|A-4421077|              0.0|       2|             63.0|       22.0|          10.0|            9.0|           0|           0|          0|             0|       0|                  0|                 0|                    1.0|     774.0|        0.0|                 0.0|                 3.0|(14,[1,2,3,11,13]...|[0.99999961219195...|         0|       0|\n",
            "|A-3694023|              0.0|       2|             49.0|       59.0|          10.0|            7.0|           0|           0|          0|             0|       0|                  0|                 0|                    1.0|      82.0|       27.0|                 0.0|                11.0|(14,[1,2,3,11,13]...|[0.99999846585394...|         0|       0|\n",
            "|A-1722120|              0.0|       2|             26.0|       71.0|          10.0|            3.0|           1|           0|          0|             0|       0|                  0|                 1|                    1.0|      14.0|       25.0|                 1.0|                 7.0|(14,[1,2,3,4,10,1...|[0.99999999999886...|         0|       0|\n",
            "|A-4755504|              0.0|       2|             62.0|       34.0|          10.0|            0.0|           0|           0|          0|             0|       0|                  0|                 0|                    1.0|      28.0|        6.0|                 0.0|                 0.0|(14,[1,2,3,11],[6...|[0.99999919289666...|         0|       0|\n",
            "| A-937406|              0.0|       2|             73.0|       34.0|          10.0|            5.0|           1|           0|          0|             0|       0|                  0|                 0|                    1.0|     631.0|       24.0|                 0.0|                16.0|(14,[1,2,3,4,11,1...|[0.99999999999853...|         0|       0|\n",
            "|A-5827359|              0.0|       2|             61.0|       35.0|          10.0|           15.0|           0|           0|          0|             0|       0|                  0|                 0|                    1.0|     379.0|        0.0|                 0.0|                 4.0|(14,[1,2,3,11,13]...|[0.99999919971247...|         0|       0|\n",
            "|A-5980554|              0.0|       2|             61.0|       68.0|          10.0|            0.0|           0|           0|          0|             0|       0|                  0|                 0|                    1.0|      29.0|        0.0|                 1.0|                 0.0|(14,[1,2,3,11,12]...|[0.99999585409836...|         0|       0|\n",
            "|A-1033973|             0.04|       2|             90.0|       16.0|          10.0|            8.0|           0|           0|          0|             0|       0|                  0|                 0|                    1.0|     647.0|        0.0|                 0.0|                 4.0|(14,[0,1,2,3,11,1...|[0.99999856229026...|         0|       0|\n",
            "+---------+-----------------+--------+-----------------+-----------+--------------+---------------+------------+------------+-----------+--------------+--------+-------------------+------------------+-----------------------+----------+-----------+--------------------+--------------------+--------------------+--------------------+----------+--------+\n",
            "only showing top 20 rows\n",
            "\n",
            "+-------------+\n",
            "|total_iguales|\n",
            "+-------------+\n",
            "|         7874|\n",
            "+-------------+\n",
            "\n"
          ]
        }
      ]
    }
  ]
}