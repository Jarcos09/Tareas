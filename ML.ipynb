{
  "nbformat": 4,
  "nbformat_minor": 0,
  "metadata": {
    "colab": {
      "provenance": [],
      "mount_file_id": "1Jab2DUXez4z1kx-o-Btc9jKPcoslob_t",
      "authorship_tag": "ABX9TyN1CkisY9t37SGJxH120r7z",
      "include_colab_link": true
    },
    "kernelspec": {
      "name": "python3",
      "display_name": "Python 3"
    },
    "language_info": {
      "name": "python"
    }
  },
  "cells": [
    {
      "cell_type": "markdown",
      "metadata": {
        "id": "view-in-github",
        "colab_type": "text"
      },
      "source": [
        "<a href=\"https://colab.research.google.com/github/Jarcos09/Tareas/blob/main/ML.ipynb\" target=\"_parent\"><img src=\"https://colab.research.google.com/assets/colab-badge.svg\" alt=\"Open In Colab\"/></a>"
      ]
    },
    {
      "cell_type": "markdown",
      "source": [
        "# 🎓 **Inteligencia Artificial Aplicada**\n",
        "\n",
        "## 🤖 **Análisis de grandes volúmenes de datos (Gpo 10)**\n",
        "\n",
        "### 🏛️ Tecnológico de Monterrey\n",
        "\n",
        "#### 👨‍🏫 **Profesor titular :** Dr. Iván Olmos Pineda\n",
        "#### 👩‍🏫 **Profesor asistente :** Verónica Sandra Guzmán de Valle\n",
        "\n",
        "### 📊 **Proyecto | Base de Datos de Big Data**\n",
        "\n",
        "#### 📅 **04 de mayo de 2025**\n",
        "\n",
        "* 🧑‍💻 **A01795941 :** Juan Carlos Pérez Nava\n",
        "\n",
        "\n"
      ],
      "metadata": {
        "id": "XLo2RHbqcPHa"
      }
    },
    {
      "cell_type": "code",
      "source": [
        "import os\n",
        "import sys\n",
        "module_path = os.path.abspath(os.path.join('proyectos/librerias'))\n",
        "if module_path not in sys.path:\n",
        "    sys.path.append(module_path)\n",
        "from graficas import *\n",
        "\n",
        "from pyspark.sql import SparkSession, DataFrame\n",
        "from pyspark.sql.functions import col, sum, avg, lit, count, when, format_number, round, rand\n",
        "from pyspark.ml.feature import StringIndexer, OneHotEncoder\n",
        "from pyspark.ml.feature import QuantileDiscretizer\n",
        "from pyspark.ml.feature import VectorAssembler\n",
        "from pyspark.ml.evaluation import RegressionEvaluator\n",
        "from pyspark.ml.feature import Imputer\n",
        "\n",
        "import matplotlib.pyplot as plt\n",
        "import seaborn as sns\n",
        "import kagglehub\n",
        "\n",
        "import pandas as pd\n",
        "\n",
        "\n",
        "from functools import reduce"
      ],
      "metadata": {
        "id": "lNK_005tHX9o"
      },
      "execution_count": 1,
      "outputs": []
    },
    {
      "cell_type": "code",
      "source": [
        "path = kagglehub.dataset_download(\"sobhanmoosavi/us-accidents\")\n",
        "print(\"Path to dataset files:\", path)"
      ],
      "metadata": {
        "colab": {
          "base_uri": "https://localhost:8080/"
        },
        "id": "j7RDNtCfV_j8",
        "outputId": "dd5d58ba-5aa4-4a47-cf00-a1fbe3b49f8e"
      },
      "execution_count": 2,
      "outputs": [
        {
          "output_type": "stream",
          "name": "stdout",
          "text": [
            "Path to dataset files: /home/jarcos/.cache/kagglehub/datasets/sobhanmoosavi/us-accidents/versions/13\n"
          ]
        }
      ]
    },
    {
      "cell_type": "code",
      "source": [
        "spark = SparkSession.builder.master(\"local[*]\").appName(\"CargarCSV\").config(\"spark.driver.memory\", \"40g\").config(\"spark.executor.memory\", \"20g\").getOrCreate()\n",
        "df_accident = spark.read.option(\"header\", True).option(\"inferSchema\", True).csv(path)\n",
        "spark.sparkContext.setLogLevel(\"ERROR\")"
      ],
      "metadata": {
        "colab": {
          "base_uri": "https://localhost:8080/"
        },
        "id": "KzhCy58rgjX1",
        "outputId": "1850bc28-c35e-4797-aa40-041a9036f048"
      },
      "execution_count": 3,
      "outputs": [
        {
          "output_type": "stream",
          "name": "stderr",
          "text": [
            "Setting default log level to \"WARN\".\n",
            "To adjust logging level use sc.setLogLevel(newLevel). For SparkR, use setLogLevel(newLevel).\n",
            "25/05/24 00:07:24 WARN NativeCodeLoader: Unable to load native-hadoop library for your platform... using builtin-java classes where applicable\n"
          ]
        }
      ]
    },
    {
      "cell_type": "code",
      "source": [
        "df_accident.show(5)"
      ],
      "metadata": {
        "colab": {
          "base_uri": "https://localhost:8080/"
        },
        "id": "97uEFSF5t4A0",
        "outputId": "f9a655fa-e5d9-441f-df4d-320d1e0a231b"
      },
      "execution_count": 4,
      "outputs": [
        {
          "output_type": "stream",
          "name": "stdout",
          "text": [
            "+---+-------+--------+-------------------+-------------------+-----------------+------------------+-------+-------+------------+--------------------+--------------------+------------+----------+-----+----------+-------+----------+------------+-------------------+--------------+-------------+-----------+------------+--------------+--------------+---------------+-----------------+-----------------+-------+-----+--------+--------+--------+-------+-------+----------+-------+-----+---------------+--------------+------------+--------------+--------------+-----------------+---------------------+\n",
            "| ID| Source|Severity|         Start_Time|           End_Time|        Start_Lat|         Start_Lng|End_Lat|End_Lng|Distance(mi)|         Description|              Street|        City|    County|State|   Zipcode|Country|  Timezone|Airport_Code|  Weather_Timestamp|Temperature(F)|Wind_Chill(F)|Humidity(%)|Pressure(in)|Visibility(mi)|Wind_Direction|Wind_Speed(mph)|Precipitation(in)|Weather_Condition|Amenity| Bump|Crossing|Give_Way|Junction|No_Exit|Railway|Roundabout|Station| Stop|Traffic_Calming|Traffic_Signal|Turning_Loop|Sunrise_Sunset|Civil_Twilight|Nautical_Twilight|Astronomical_Twilight|\n",
            "+---+-------+--------+-------------------+-------------------+-----------------+------------------+-------+-------+------------+--------------------+--------------------+------------+----------+-----+----------+-------+----------+------------+-------------------+--------------+-------------+-----------+------------+--------------+--------------+---------------+-----------------+-----------------+-------+-----+--------+--------+--------+-------+-------+----------+-------+-----+---------------+--------------+------------+--------------+--------------+-----------------+---------------------+\n",
            "|A-1|Source2|       3|2016-02-08 05:46:00|2016-02-08 11:00:00|        39.865147|        -84.058723|   NULL|   NULL|        0.01|Right lane blocke...|              I-70 E|      Dayton|Montgomery|   OH|     45424|     US|US/Eastern|        KFFO|2016-02-08 05:58:00|          36.9|         NULL|       91.0|       29.68|          10.0|          Calm|           NULL|             0.02|       Light Rain|  false|false|   false|   false|   false|  false|  false|     false|  false|false|          false|         false|       false|         Night|         Night|            Night|                Night|\n",
            "|A-2|Source2|       2|2016-02-08 06:07:59|2016-02-08 06:37:59|39.92805900000001|        -82.831184|   NULL|   NULL|        0.01|Accident on Brice...|            Brice Rd|Reynoldsburg|  Franklin|   OH|43068-3402|     US|US/Eastern|        KCMH|2016-02-08 05:51:00|          37.9|         NULL|      100.0|       29.65|          10.0|          Calm|           NULL|              0.0|       Light Rain|  false|false|   false|   false|   false|  false|  false|     false|  false|false|          false|         false|       false|         Night|         Night|            Night|                  Day|\n",
            "|A-3|Source2|       2|2016-02-08 06:49:27|2016-02-08 07:19:27|        39.063148|        -84.032608|   NULL|   NULL|        0.01|Accident on OH-32...|      State Route 32|Williamsburg|  Clermont|   OH|     45176|     US|US/Eastern|        KI69|2016-02-08 06:56:00|          36.0|         33.3|      100.0|       29.67|          10.0|            SW|            3.5|             NULL|         Overcast|  false|false|   false|   false|   false|  false|  false|     false|  false|false|          false|          true|       false|         Night|         Night|              Day|                  Day|\n",
            "|A-4|Source2|       3|2016-02-08 07:23:34|2016-02-08 07:53:34|        39.747753|-84.20558199999998|   NULL|   NULL|        0.01|Accident on I-75 ...|              I-75 S|      Dayton|Montgomery|   OH|     45417|     US|US/Eastern|        KDAY|2016-02-08 07:38:00|          35.1|         31.0|       96.0|       29.64|           9.0|            SW|            4.6|             NULL|    Mostly Cloudy|  false|false|   false|   false|   false|  false|  false|     false|  false|false|          false|         false|       false|         Night|           Day|              Day|                  Day|\n",
            "|A-5|Source2|       2|2016-02-08 07:39:07|2016-02-08 08:09:07|        39.627781|        -84.188354|   NULL|   NULL|        0.01|Accident on McEwe...|Miamisburg Center...|      Dayton|Montgomery|   OH|     45459|     US|US/Eastern|        KMGY|2016-02-08 07:53:00|          36.0|         33.3|       89.0|       29.65|           6.0|            SW|            3.5|             NULL|    Mostly Cloudy|  false|false|   false|   false|   false|  false|  false|     false|  false|false|          false|          true|       false|           Day|           Day|              Day|                  Day|\n",
            "+---+-------+--------+-------------------+-------------------+-----------------+------------------+-------+-------+------------+--------------------+--------------------+------------+----------+-----+----------+-------+----------+------------+-------------------+--------------+-------------+-----------+------------+--------------+--------------+---------------+-----------------+-----------------+-------+-----+--------+--------+--------+-------+-------+----------+-------+-----+---------------+--------------+------------+--------------+--------------+-----------------+---------------------+\n",
            "only showing top 5 rows\n",
            "\n"
          ]
        }
      ]
    },
    {
      "cell_type": "markdown",
      "source": [
        "**Obtención de las estadísticas descriptivas de las características categóricas**"
      ],
      "metadata": {
        "id": "A8garbrA7wu6"
      }
    },
    {
      "cell_type": "markdown",
      "source": [
        "# Particionamiento\n",
        "\n",
        "El particionamiento del conjunto de datos se basa en las condiciones climáticas y la severidad del accidente, dividiéndolo en múltiples subconjuntos según combinaciones específicas de estas características."
      ],
      "metadata": {
        "id": "BZDsQ0zuhJRD"
      }
    },
    {
      "cell_type": "code",
      "source": [
        "columnas_clave = [\n",
        "    \"ID\", \"Weather_Condition\",\"Precipitation(in)\",\"Severity\", \"City\", \"State\",\n",
        "    \"Temperature(F)\", \"Humidity(%)\", \"Visibility(mi)\",\"Wind_Direction\",\"Wind_Speed(mph)\",\"Crossing\",\"Junction\",\"Railway\",\n",
        "    \"Roundabout\",\"Stop\",\"Sunrise_Sunset\",\"Traffic_Calming\",\"Traffic_Signal\"]\n",
        "\n",
        "total = df_accident.count()\n",
        "\n",
        "combinaciones_top = df_accident.groupBy(\"Weather_Condition\", \"Severity\") \\\n",
        "    .agg(count(\"*\").alias(\"Frecuencia\")) \\\n",
        "    .withColumn(\"Proporción\", col(\"Frecuencia\") / total) \\\n",
        "    .orderBy(col(\"Proporción\").desc())\n",
        "\n",
        "combinaciones_top = combinaciones_top.withColumn(\"Frecuencia\", col(\"Frecuencia\"))  \\\n",
        "    .withColumn(\"Proporción\", col(\"Proporción\")*100)\n",
        "\n",
        "df_particionada = df_accident.select(columnas_clave)\n",
        "df_particionada.write.mode(\"overwrite\").partitionBy(\"Weather_Condition\",\"Severity\").parquet(\"us_accidents_partitioned\")\n",
        "\n",
        "combinaciones_top.show(10, truncate=False)\n",
        "\n"
      ],
      "metadata": {
        "colab": {
          "base_uri": "https://localhost:8080/"
        },
        "id": "90X1Pa19yCZP",
        "outputId": "b68041ed-f737-494d-c168-b7afb57f67e4"
      },
      "execution_count": 5,
      "outputs": [
        {
          "output_type": "stream",
          "name": "stderr",
          "text": []
        },
        {
          "output_type": "stream",
          "name": "stdout",
          "text": [
            "+-----------------+--------+----------+------------------+\n",
            "|Weather_Condition|Severity|Frecuencia|Proporción        |\n",
            "+-----------------+--------+----------+------------------+\n",
            "|Fair             |2       |2226576   |28.810332392473782|\n",
            "|Mostly Cloudy    |2       |792735    |10.25743511523869 |\n",
            "|Cloudy           |2       |692929    |8.966015449005317 |\n",
            "|Partly Cloudy    |2       |548760    |7.1005696655734685|\n",
            "|Clear            |2       |536971    |6.948028270815386 |\n",
            "|Light Rain       |2       |270162    |3.495706870017238 |\n",
            "|Overcast         |2       |248938    |3.22108319011686  |\n",
            "|Clear            |3       |244956    |3.1695589018882835|\n",
            "|Fair             |3       |240084    |3.1065186376367455|\n",
            "|Mostly Cloudy    |3       |189229    |2.4484905919651614|\n",
            "+-----------------+--------+----------+------------------+\n",
            "only showing top 10 rows\n",
            "\n"
          ]
        }
      ]
    },
    {
      "cell_type": "code",
      "source": [
        "max_reg = 2000\n",
        "\n",
        "# Filtrar las filas\n",
        "combinaciones_filtradas = combinaciones_top.filter(col(\"Frecuencia\") >= max_reg)\n",
        "\n",
        "# Si hay datos, guardarlos en un vector\n",
        "particiones = combinaciones_filtradas.select(\"Weather_Condition\", \"Severity\").collect()\n",
        "\n",
        "# Mostrar el resultado\n",
        "\n",
        "print(f'✅ Se identificaron \\033[32m\\033[1m{len(particiones)}\\033[0m particiones que contienen más de \\033[36m{max_reg}\\033[0m registros.')"
      ],
      "metadata": {
        "colab": {
          "base_uri": "https://localhost:8080/"
        },
        "id": "D7nfphRPbPN3",
        "outputId": "98554629-4a91-4fb1-8f48-d72ae621789c"
      },
      "execution_count": 6,
      "outputs": [
        {
          "output_type": "stream",
          "name": "stderr",
          "text": []
        },
        {
          "output_type": "stream",
          "name": "stdout",
          "text": [
            "✅ Se identificaron \u001b[32m\u001b[1m77\u001b[0m particiones que contienen más de \u001b[36m2000\u001b[0m registros.\n"
          ]
        }
      ]
    },
    {
      "cell_type": "code",
      "source": [
        "contador_total = 0\n",
        "semilla = 1854\n",
        "\n",
        "# Crear un DataFrame vacío con la misma estructura\n",
        "df_muestras = spark.createDataFrame([], df_particionada.schema)\n",
        "lista_muestras = []\n",
        "\n",
        "for particion in particiones:\n",
        "\n",
        "    contador_total += 1\n",
        "    weather = particion[\"Weather_Condition\"]\n",
        "    severity = particion[\"Severity\"]\n",
        "\n",
        "    print(f\"Extrayendo Partición #\\033[32m\\033[1m{contador_total:03}\\033[0m | 🌦 Weather: \\033[1;36m{weather}\\033[0m | ⚠ Severity: \\033[1;36m{severity}\\033[0m\")\n",
        "\n",
        "    # Filtrar correctamente la partición\n",
        "    df_filtrada = df_particionada.filter((col(\"Weather_Condition\") == weather) & (col(\"Severity\") == severity))\n",
        "\n",
        "    # Limitar a 1200 registros\n",
        "    df_rand = df_filtrada.orderBy(rand(semilla)).limit(max_reg)\n",
        "\n",
        "    lista_muestras.append(df_rand)\n",
        "\n",
        "df_muestras = lista_muestras[0]  # Inicializamos con el primer DataFrame\n",
        "\n",
        "for df in lista_muestras[1:]:\n",
        "    df_muestras = df_muestras.union(df)\n",
        "\n",
        "# **Optimizar con persistencia**\n",
        "df_muestras = df_muestras.persist().coalesce(8)\n",
        "\n",
        "# Contar los registros en el nuevo DataFrame\n",
        "contador_total = df_muestras.count()\n",
        "\n",
        "\n",
        "print(f\"Total de registros obtenidos en la muestra: \\033[32m\\033[1m{contador_total}\\033[0m\")"
      ],
      "metadata": {
        "colab": {
          "base_uri": "https://localhost:8080/"
        },
        "id": "r0ZXtzjReRcH",
        "outputId": "e8a337e2-0b7c-4cc3-b603-99626a3b0216"
      },
      "execution_count": 7,
      "outputs": [
        {
          "output_type": "stream",
          "name": "stdout",
          "text": [
            "Extrayendo Partición #\u001b[32m\u001b[1m001\u001b[0m | 🌦 Weather: \u001b[1;36mFair\u001b[0m | ⚠ Severity: \u001b[1;36m2\u001b[0m\n",
            "Extrayendo Partición #\u001b[32m\u001b[1m002\u001b[0m | 🌦 Weather: \u001b[1;36mMostly Cloudy\u001b[0m | ⚠ Severity: \u001b[1;36m2\u001b[0m\n",
            "Extrayendo Partición #\u001b[32m\u001b[1m003\u001b[0m | 🌦 Weather: \u001b[1;36mCloudy\u001b[0m | ⚠ Severity: \u001b[1;36m2\u001b[0m\n",
            "Extrayendo Partición #\u001b[32m\u001b[1m004\u001b[0m | 🌦 Weather: \u001b[1;36mPartly Cloudy\u001b[0m | ⚠ Severity: \u001b[1;36m2\u001b[0m\n",
            "Extrayendo Partición #\u001b[32m\u001b[1m005\u001b[0m | 🌦 Weather: \u001b[1;36mClear\u001b[0m | ⚠ Severity: \u001b[1;36m2\u001b[0m\n",
            "Extrayendo Partición #\u001b[32m\u001b[1m006\u001b[0m | 🌦 Weather: \u001b[1;36mLight Rain\u001b[0m | ⚠ Severity: \u001b[1;36m2\u001b[0m\n",
            "Extrayendo Partición #\u001b[32m\u001b[1m007\u001b[0m | 🌦 Weather: \u001b[1;36mOvercast\u001b[0m | ⚠ Severity: \u001b[1;36m2\u001b[0m\n",
            "Extrayendo Partición #\u001b[32m\u001b[1m008\u001b[0m | 🌦 Weather: \u001b[1;36mClear\u001b[0m | ⚠ Severity: \u001b[1;36m3\u001b[0m\n",
            "Extrayendo Partición #\u001b[32m\u001b[1m009\u001b[0m | 🌦 Weather: \u001b[1;36mFair\u001b[0m | ⚠ Severity: \u001b[1;36m3\u001b[0m\n",
            "Extrayendo Partición #\u001b[32m\u001b[1m010\u001b[0m | 🌦 Weather: \u001b[1;36mMostly Cloudy\u001b[0m | ⚠ Severity: \u001b[1;36m3\u001b[0m\n",
            "Extrayendo Partición #\u001b[32m\u001b[1m011\u001b[0m | 🌦 Weather: \u001b[1;36mNone\u001b[0m | ⚠ Severity: \u001b[1;36m2\u001b[0m\n",
            "Extrayendo Partición #\u001b[32m\u001b[1m012\u001b[0m | 🌦 Weather: \u001b[1;36mScattered Clouds\u001b[0m | ⚠ Severity: \u001b[1;36m2\u001b[0m\n",
            "Extrayendo Partición #\u001b[32m\u001b[1m013\u001b[0m | 🌦 Weather: \u001b[1;36mPartly Cloudy\u001b[0m | ⚠ Severity: \u001b[1;36m3\u001b[0m\n",
            "Extrayendo Partición #\u001b[32m\u001b[1m014\u001b[0m | 🌦 Weather: \u001b[1;36mOvercast\u001b[0m | ⚠ Severity: \u001b[1;36m3\u001b[0m\n",
            "Extrayendo Partición #\u001b[32m\u001b[1m015\u001b[0m | 🌦 Weather: \u001b[1;36mLight Snow\u001b[0m | ⚠ Severity: \u001b[1;36m2\u001b[0m\n",
            "Extrayendo Partición #\u001b[32m\u001b[1m016\u001b[0m | 🌦 Weather: \u001b[1;36mCloudy\u001b[0m | ⚠ Severity: \u001b[1;36m3\u001b[0m\n",
            "Extrayendo Partición #\u001b[32m\u001b[1m017\u001b[0m | 🌦 Weather: \u001b[1;36mFog\u001b[0m | ⚠ Severity: \u001b[1;36m2\u001b[0m\n",
            "Extrayendo Partición #\u001b[32m\u001b[1m018\u001b[0m | 🌦 Weather: \u001b[1;36mLight Rain\u001b[0m | ⚠ Severity: \u001b[1;36m3\u001b[0m\n",
            "Extrayendo Partición #\u001b[32m\u001b[1m019\u001b[0m | 🌦 Weather: \u001b[1;36mScattered Clouds\u001b[0m | ⚠ Severity: \u001b[1;36m3\u001b[0m\n",
            "Extrayendo Partición #\u001b[32m\u001b[1m020\u001b[0m | 🌦 Weather: \u001b[1;36mRain\u001b[0m | ⚠ Severity: \u001b[1;36m2\u001b[0m\n",
            "Extrayendo Partición #\u001b[32m\u001b[1m021\u001b[0m | 🌦 Weather: \u001b[1;36mHaze\u001b[0m | ⚠ Severity: \u001b[1;36m2\u001b[0m\n",
            "Extrayendo Partición #\u001b[32m\u001b[1m022\u001b[0m | 🌦 Weather: \u001b[1;36mFair\u001b[0m | ⚠ Severity: \u001b[1;36m4\u001b[0m\n",
            "Extrayendo Partición #\u001b[32m\u001b[1m023\u001b[0m | 🌦 Weather: \u001b[1;36mFair\u001b[0m | ⚠ Severity: \u001b[1;36m1\u001b[0m\n",
            "Extrayendo Partición #\u001b[32m\u001b[1m024\u001b[0m | 🌦 Weather: \u001b[1;36mFair / Windy\u001b[0m | ⚠ Severity: \u001b[1;36m2\u001b[0m\n",
            "Extrayendo Partición #\u001b[32m\u001b[1m025\u001b[0m | 🌦 Weather: \u001b[1;36mNone\u001b[0m | ⚠ Severity: \u001b[1;36m3\u001b[0m\n",
            "Extrayendo Partición #\u001b[32m\u001b[1m026\u001b[0m | 🌦 Weather: \u001b[1;36mClear\u001b[0m | ⚠ Severity: \u001b[1;36m4\u001b[0m\n",
            "Extrayendo Partición #\u001b[32m\u001b[1m027\u001b[0m | 🌦 Weather: \u001b[1;36mHeavy Rain\u001b[0m | ⚠ Severity: \u001b[1;36m2\u001b[0m\n",
            "Extrayendo Partición #\u001b[32m\u001b[1m028\u001b[0m | 🌦 Weather: \u001b[1;36mMostly Cloudy\u001b[0m | ⚠ Severity: \u001b[1;36m4\u001b[0m\n",
            "Extrayendo Partición #\u001b[32m\u001b[1m029\u001b[0m | 🌦 Weather: \u001b[1;36mCloudy\u001b[0m | ⚠ Severity: \u001b[1;36m4\u001b[0m\n",
            "Extrayendo Partición #\u001b[32m\u001b[1m030\u001b[0m | 🌦 Weather: \u001b[1;36mLight Snow\u001b[0m | ⚠ Severity: \u001b[1;36m3\u001b[0m\n",
            "Extrayendo Partición #\u001b[32m\u001b[1m031\u001b[0m | 🌦 Weather: \u001b[1;36mRain\u001b[0m | ⚠ Severity: \u001b[1;36m3\u001b[0m\n",
            "Extrayendo Partición #\u001b[32m\u001b[1m032\u001b[0m | 🌦 Weather: \u001b[1;36mLight Drizzle\u001b[0m | ⚠ Severity: \u001b[1;36m2\u001b[0m\n",
            "Extrayendo Partición #\u001b[32m\u001b[1m033\u001b[0m | 🌦 Weather: \u001b[1;36mPartly Cloudy\u001b[0m | ⚠ Severity: \u001b[1;36m4\u001b[0m\n",
            "Extrayendo Partición #\u001b[32m\u001b[1m034\u001b[0m | 🌦 Weather: \u001b[1;36mThunder in the Vicinity\u001b[0m | ⚠ Severity: \u001b[1;36m2\u001b[0m\n",
            "Extrayendo Partición #\u001b[32m\u001b[1m035\u001b[0m | 🌦 Weather: \u001b[1;36mCloudy / Windy\u001b[0m | ⚠ Severity: \u001b[1;36m2\u001b[0m\n",
            "Extrayendo Partición #\u001b[32m\u001b[1m036\u001b[0m | 🌦 Weather: \u001b[1;36mHaze\u001b[0m | ⚠ Severity: \u001b[1;36m3\u001b[0m\n",
            "Extrayendo Partición #\u001b[32m\u001b[1m037\u001b[0m | 🌦 Weather: \u001b[1;36mOvercast\u001b[0m | ⚠ Severity: \u001b[1;36m4\u001b[0m\n",
            "Extrayendo Partición #\u001b[32m\u001b[1m038\u001b[0m | 🌦 Weather: \u001b[1;36mMostly Cloudy / Windy\u001b[0m | ⚠ Severity: \u001b[1;36m2\u001b[0m\n",
            "Extrayendo Partición #\u001b[32m\u001b[1m039\u001b[0m | 🌦 Weather: \u001b[1;36mT-Storm\u001b[0m | ⚠ Severity: \u001b[1;36m2\u001b[0m\n",
            "Extrayendo Partición #\u001b[32m\u001b[1m040\u001b[0m | 🌦 Weather: \u001b[1;36mSnow\u001b[0m | ⚠ Severity: \u001b[1;36m2\u001b[0m\n",
            "Extrayendo Partición #\u001b[32m\u001b[1m041\u001b[0m | 🌦 Weather: \u001b[1;36mThunder\u001b[0m | ⚠ Severity: \u001b[1;36m2\u001b[0m\n",
            "Extrayendo Partición #\u001b[32m\u001b[1m042\u001b[0m | 🌦 Weather: \u001b[1;36mLight Rain with Thunder\u001b[0m | ⚠ Severity: \u001b[1;36m2\u001b[0m\n",
            "Extrayendo Partición #\u001b[32m\u001b[1m043\u001b[0m | 🌦 Weather: \u001b[1;36mMostly Cloudy\u001b[0m | ⚠ Severity: \u001b[1;36m1\u001b[0m\n",
            "Extrayendo Partición #\u001b[32m\u001b[1m044\u001b[0m | 🌦 Weather: \u001b[1;36mSmoke\u001b[0m | ⚠ Severity: \u001b[1;36m2\u001b[0m\n",
            "Extrayendo Partición #\u001b[32m\u001b[1m045\u001b[0m | 🌦 Weather: \u001b[1;36mWintry Mix\u001b[0m | ⚠ Severity: \u001b[1;36m2\u001b[0m\n",
            "Extrayendo Partición #\u001b[32m\u001b[1m046\u001b[0m | 🌦 Weather: \u001b[1;36mFog\u001b[0m | ⚠ Severity: \u001b[1;36m3\u001b[0m\n",
            "Extrayendo Partición #\u001b[32m\u001b[1m047\u001b[0m | 🌦 Weather: \u001b[1;36mLight Rain\u001b[0m | ⚠ Severity: \u001b[1;36m4\u001b[0m\n",
            "Extrayendo Partición #\u001b[32m\u001b[1m048\u001b[0m | 🌦 Weather: \u001b[1;36mPartly Cloudy / Windy\u001b[0m | ⚠ Severity: \u001b[1;36m2\u001b[0m\n",
            "Extrayendo Partición #\u001b[32m\u001b[1m049\u001b[0m | 🌦 Weather: \u001b[1;36mCloudy\u001b[0m | ⚠ Severity: \u001b[1;36m1\u001b[0m\n",
            "Extrayendo Partición #\u001b[32m\u001b[1m050\u001b[0m | 🌦 Weather: \u001b[1;36mHeavy T-Storm\u001b[0m | ⚠ Severity: \u001b[1;36m2\u001b[0m\n",
            "Extrayendo Partición #\u001b[32m\u001b[1m051\u001b[0m | 🌦 Weather: \u001b[1;36mNone\u001b[0m | ⚠ Severity: \u001b[1;36m4\u001b[0m\n",
            "Extrayendo Partición #\u001b[32m\u001b[1m052\u001b[0m | 🌦 Weather: \u001b[1;36mHeavy Rain\u001b[0m | ⚠ Severity: \u001b[1;36m3\u001b[0m\n",
            "Extrayendo Partición #\u001b[32m\u001b[1m053\u001b[0m | 🌦 Weather: \u001b[1;36mPartly Cloudy\u001b[0m | ⚠ Severity: \u001b[1;36m1\u001b[0m\n",
            "Extrayendo Partición #\u001b[32m\u001b[1m054\u001b[0m | 🌦 Weather: \u001b[1;36mLight Rain / Windy\u001b[0m | ⚠ Severity: \u001b[1;36m2\u001b[0m\n",
            "Extrayendo Partición #\u001b[32m\u001b[1m055\u001b[0m | 🌦 Weather: \u001b[1;36mLight Snow / Windy\u001b[0m | ⚠ Severity: \u001b[1;36m2\u001b[0m\n",
            "Extrayendo Partición #\u001b[32m\u001b[1m056\u001b[0m | 🌦 Weather: \u001b[1;36mScattered Clouds\u001b[0m | ⚠ Severity: \u001b[1;36m4\u001b[0m\n",
            "Extrayendo Partición #\u001b[32m\u001b[1m057\u001b[0m | 🌦 Weather: \u001b[1;36mLight Snow\u001b[0m | ⚠ Severity: \u001b[1;36m4\u001b[0m\n",
            "Extrayendo Partición #\u001b[32m\u001b[1m058\u001b[0m | 🌦 Weather: \u001b[1;36mLight Drizzle\u001b[0m | ⚠ Severity: \u001b[1;36m3\u001b[0m\n",
            "Extrayendo Partición #\u001b[32m\u001b[1m059\u001b[0m | 🌦 Weather: \u001b[1;36mHeavy Snow\u001b[0m | ⚠ Severity: \u001b[1;36m2\u001b[0m\n",
            "Extrayendo Partición #\u001b[32m\u001b[1m060\u001b[0m | 🌦 Weather: \u001b[1;36mDrizzle\u001b[0m | ⚠ Severity: \u001b[1;36m2\u001b[0m\n",
            "Extrayendo Partición #\u001b[32m\u001b[1m061\u001b[0m | 🌦 Weather: \u001b[1;36mFair / Windy\u001b[0m | ⚠ Severity: \u001b[1;36m3\u001b[0m\n",
            "Extrayendo Partición #\u001b[32m\u001b[1m062\u001b[0m | 🌦 Weather: \u001b[1;36mPatches of Fog\u001b[0m | ⚠ Severity: \u001b[1;36m2\u001b[0m\n",
            "Extrayendo Partición #\u001b[32m\u001b[1m063\u001b[0m | 🌦 Weather: \u001b[1;36mN/A Precipitation\u001b[0m | ⚠ Severity: \u001b[1;36m2\u001b[0m\n",
            "Extrayendo Partición #\u001b[32m\u001b[1m064\u001b[0m | 🌦 Weather: \u001b[1;36mLight Thunderstorms and Rain\u001b[0m | ⚠ Severity: \u001b[1;36m2\u001b[0m\n",
            "Extrayendo Partición #\u001b[32m\u001b[1m065\u001b[0m | 🌦 Weather: \u001b[1;36mT-Storm\u001b[0m | ⚠ Severity: \u001b[1;36m3\u001b[0m\n",
            "Extrayendo Partición #\u001b[32m\u001b[1m066\u001b[0m | 🌦 Weather: \u001b[1;36mFog\u001b[0m | ⚠ Severity: \u001b[1;36m4\u001b[0m\n",
            "Extrayendo Partición #\u001b[32m\u001b[1m067\u001b[0m | 🌦 Weather: \u001b[1;36mThunderstorm\u001b[0m | ⚠ Severity: \u001b[1;36m2\u001b[0m\n",
            "Extrayendo Partición #\u001b[32m\u001b[1m068\u001b[0m | 🌦 Weather: \u001b[1;36mMist\u001b[0m | ⚠ Severity: \u001b[1;36m2\u001b[0m\n",
            "Extrayendo Partición #\u001b[32m\u001b[1m069\u001b[0m | 🌦 Weather: \u001b[1;36mShallow Fog\u001b[0m | ⚠ Severity: \u001b[1;36m2\u001b[0m\n",
            "Extrayendo Partición #\u001b[32m\u001b[1m070\u001b[0m | 🌦 Weather: \u001b[1;36mLight Rain with Thunder\u001b[0m | ⚠ Severity: \u001b[1;36m3\u001b[0m\n",
            "Extrayendo Partición #\u001b[32m\u001b[1m071\u001b[0m | 🌦 Weather: \u001b[1;36mSnow\u001b[0m | ⚠ Severity: \u001b[1;36m3\u001b[0m\n",
            "Extrayendo Partición #\u001b[32m\u001b[1m072\u001b[0m | 🌦 Weather: \u001b[1;36mLight Rain\u001b[0m | ⚠ Severity: \u001b[1;36m1\u001b[0m\n",
            "Extrayendo Partición #\u001b[32m\u001b[1m073\u001b[0m | 🌦 Weather: \u001b[1;36mMostly Cloudy / Windy\u001b[0m | ⚠ Severity: \u001b[1;36m3\u001b[0m\n",
            "Extrayendo Partición #\u001b[32m\u001b[1m074\u001b[0m | 🌦 Weather: \u001b[1;36mLight Freezing Rain\u001b[0m | ⚠ Severity: \u001b[1;36m2\u001b[0m\n",
            "Extrayendo Partición #\u001b[32m\u001b[1m075\u001b[0m | 🌦 Weather: \u001b[1;36mThunder in the Vicinity\u001b[0m | ⚠ Severity: \u001b[1;36m3\u001b[0m\n",
            "Extrayendo Partición #\u001b[32m\u001b[1m076\u001b[0m | 🌦 Weather: \u001b[1;36mCloudy / Windy\u001b[0m | ⚠ Severity: \u001b[1;36m3\u001b[0m\n",
            "Extrayendo Partición #\u001b[32m\u001b[1m077\u001b[0m | 🌦 Weather: \u001b[1;36mRain\u001b[0m | ⚠ Severity: \u001b[1;36m4\u001b[0m\n"
          ]
        },
        {
          "output_type": "stream",
          "name": "stderr",
          "text": []
        },
        {
          "output_type": "stream",
          "name": "stdout",
          "text": [
            "Total de registros obtenidos en la muestra: \u001b[32m\u001b[1m148000\u001b[0m\n"
          ]
        },
        {
          "output_type": "stream",
          "name": "stderr",
          "text": [
            "\r                                                                                \r"
          ]
        }
      ]
    },
    {
      "cell_type": "markdown",
      "source": [
        "# Imputando valores faltantes"
      ],
      "metadata": {
        "id": "tzMcfXbtGIPz"
      }
    },
    {
      "cell_type": "code",
      "source": [
        "def obten_nulos(particion):\n",
        "  from pyspark.sql.types import StructType, StructField, StringType, IntegerType, DoubleType\n",
        "\n",
        "  print(f\"📊 Total de filas en la partición: {particion.count()}\")\n",
        "  print(f\"🗂️ Número de columnas en la partición: {len(particion.columns)}\")\n",
        "\n",
        "  info_nulos = {}\n",
        "  cols_nulos = {}\n",
        "\n",
        "  total_rows = particion.count()\n",
        "\n",
        "  registros_totales = particion.count()\n",
        "\n",
        "  # Contar valores nulos por columna\n",
        "\n",
        "  cols_nulos = particion.select(\n",
        "    [sum(col(c).isNull().cast(\"int\")).alias(c) for c in particion.columns]\n",
        "    )\n",
        "\n",
        "  # Convertir los resultados en un diccionario\n",
        "  info_nulos = {c: cols_nulos.select(c).collect()[0][0] for c in particion.columns}\n",
        "\n",
        "  # Filtrar solo las columnas con valores nulos\n",
        "  cols_nulos = {c: {\"count\": v, \"percent\": (v / total_rows) * 100} for c, v in info_nulos.items() if v > 0}\n",
        "\n",
        "  # Validar si existen nulos\n",
        "  if not cols_nulos:\n",
        "        print(\"✅ No existen valores nulos en la partición.\")\n",
        "        return\n",
        "\n",
        "  listado = [(key, value['count'], value['percent']) for key, value in cols_nulos.items()]\n",
        "\n",
        "  # Definir el esquema del DataFrame\n",
        "  schema = StructType([\n",
        "    StructField(\"Columna\", StringType(), True),\n",
        "    StructField(\"Total de nulos\", IntegerType(), True),\n",
        "    StructField(\"Porcentaje\", DoubleType(), True)\n",
        "  ])\n",
        "\n",
        "  df_resumen_nulos = spark.createDataFrame(listado, schema=schema)\n",
        "\n",
        "  for col_name in [c for c, t in df_resumen_nulos.dtypes if t == \"double\"]:\n",
        "      df_resumen_nulos = df_resumen_nulos.withColumn(col_name, round(df_resumen_nulos[col_name], 2))\n",
        "\n",
        "  df_resumen_nulos.orderBy(col(\"Total de nulos\").desc()).show(truncate=False)\n"
      ],
      "metadata": {
        "id": "z3od6x_V7aP-"
      },
      "execution_count": 8,
      "outputs": []
    },
    {
      "cell_type": "code",
      "source": [
        "def imputacion_valores(particion):\n",
        "    print(\"✅ Se realiza la imputación utilizando los siguientes valores:\\n\")\n",
        "\n",
        "    # Obtener las modas (valores más frecuentes)\n",
        "    moda_Weather = particion.groupBy(\"Weather_Condition\").count().orderBy(col(\"count\").desc()).first()[\"Weather_Condition\"]\n",
        "    moda_City = particion.groupBy(\"City\").count().orderBy(col(\"count\").desc()).first()[\"City\"]\n",
        "    moda_Sunset = particion.groupBy(\"Sunrise_Sunset\").count().orderBy(col(\"count\").desc()).first()[\"Sunrise_Sunset\"]\n",
        "    moda_wub = particion.groupBy(\"Wind_Direction\").count().orderBy(col(\"count\").desc()).first()[\"Wind_Direction\"]\n",
        "\n",
        "    # Obtener promedios de las variables numéricas\n",
        "    media_Temperature = particion.select(round(avg(col(\"Temperature(F)\")), 2).alias(\"avg_temp\")).collect()[0][0]\n",
        "    media_Humidity = particion.select(round(avg(col(\"Humidity(%)\")), 2).alias(\"avg_humidity\")).collect()[0][0]\n",
        "    media_Visibility = particion.select(round(avg(col(\"Visibility(mi)\")), 2).alias(\"avg_visibility\")).collect()[0][0]\n",
        "    media_Precipitation = particion.select(round(avg(col(\"Precipitation(in)\")), 2).alias(\"avg_precipitation\")).collect()[0][0]\n",
        "    media_Wind_Speed = particion.select(round(avg(col(\"Wind_Speed(mph)\")), 2).alias(\"avg_wind_speed\")).collect()[0][0]\n",
        "\n",
        "\n",
        "    # Imprimir valores calculados correctamente\n",
        "    print(f\"🌡️ Temperatura promedio: {media_Temperature}\")\n",
        "    print(f\"💧 Humedad promedio: {media_Humidity}\")\n",
        "    print(f\"👀 Visibilidad promedio: {media_Visibility}\")\n",
        "    print(f\"🌧️ Precipitación promedio: {media_Precipitation}\")\n",
        "    print(f\"🌬️ Velocidad del viento promedio: {media_Wind_Speed}\")\n",
        "\n",
        "    print(f\"☁️ Condición meteorológica más frecuente: {moda_Weather}\")\n",
        "    print(f\"🏙️ Ciudad más frecuente: {moda_City}\")\n",
        "    print(f\"🌅 Hora de atardecer más frecuente: {moda_Sunset}\")\n",
        "    print(f\"🌬️ Dirección del viento más frecuente: {moda_wub}\")\n",
        "\n",
        "    # Aplicar imputación con Imputer\n",
        "    from pyspark.ml.feature import Imputer\n",
        "\n",
        "    imputer_num = Imputer(\n",
        "        inputCols=[\"Temperature(F)\", \"Humidity(%)\", \"Visibility(mi)\", \"Precipitation(in)\", \"Wind_Speed(mph)\"],\n",
        "        outputCols=[\"Temperature(F)\", \"Humidity(%)\", \"Visibility(mi)\", \"Precipitation(in)\", \"Wind_Speed(mph)\"]\n",
        "    ).setStrategy(\"mean\")\n",
        "\n",
        "    particion = imputer_num.fit(particion).transform(particion)\n",
        "\n",
        "    # Imputación de valores categóricos con na.fill()\n",
        "    particion = particion.na.fill({\n",
        "        \"Weather_Condition\": moda_Weather,\n",
        "        \"City\": moda_City,\n",
        "        \"Sunrise_Sunset\": moda_Sunset,\n",
        "        \"Wind_Direction\": moda_wub\n",
        "    })\n",
        "\n",
        "    print(\"\\n🔍 Se validan nuevamente los valores nulos para corroborar la imputación.\\n\")\n",
        "\n",
        "    obten_nulos(particion)\n",
        "\n",
        "    for col_name in [c for c, t in particion.dtypes if t == \"double\"]:\n",
        "      particion = particion.withColumn(col_name, round(particion[col_name], 2))\n",
        "\n",
        "    return particion"
      ],
      "metadata": {
        "id": "PS9ra8pQSM71"
      },
      "execution_count": 9,
      "outputs": []
    },
    {
      "cell_type": "code",
      "source": [
        "obten_nulos(df_muestras)"
      ],
      "metadata": {
        "id": "vc-aW7WY73U0",
        "colab": {
          "base_uri": "https://localhost:8080/"
        },
        "outputId": "f967409b-8697-4b37-b35c-4e0a1fb14f63"
      },
      "execution_count": 10,
      "outputs": [
        {
          "output_type": "stream",
          "name": "stdout",
          "text": [
            "📊 Total de filas en la partición: 148000\n",
            "🗂️ Número de columnas en la partición: 19\n",
            "+-----------------+--------------+----------+\n",
            "|Columna          |Total de nulos|Porcentaje|\n",
            "+-----------------+--------------+----------+\n",
            "|Precipitation(in)|33645         |22.73     |\n",
            "|Wind_Speed(mph)  |8824          |5.96      |\n",
            "|Humidity(%)      |1078          |0.73      |\n",
            "|Wind_Direction   |726           |0.49      |\n",
            "|Temperature(F)   |700           |0.47      |\n",
            "|Sunrise_Sunset   |541           |0.37      |\n",
            "|Visibility(mi)   |439           |0.3       |\n",
            "|City             |5             |0.0       |\n",
            "+-----------------+--------------+----------+\n",
            "\n"
          ]
        }
      ]
    },
    {
      "cell_type": "code",
      "source": [
        "muestra_imp = imputacion_valores(df_muestras)"
      ],
      "metadata": {
        "colab": {
          "base_uri": "https://localhost:8080/"
        },
        "id": "eMiT-fWeUziL",
        "outputId": "284921ff-6cdb-4da3-ca9e-0a4f3545b6e8"
      },
      "execution_count": 11,
      "outputs": [
        {
          "output_type": "stream",
          "name": "stdout",
          "text": [
            "✅ Se realiza la imputación utilizando los siguientes valores:\n",
            "\n",
            "🌡️ Temperatura promedio: 57.57\n",
            "💧 Humedad promedio: 75.21\n",
            "👀 Visibilidad promedio: 7.02\n",
            "🌧️ Precipitación promedio: 0.03\n",
            "🌬️ Velocidad del viento promedio: 10.15\n",
            "☁️ Condición meteorológica más frecuente: Fair\n",
            "🏙️ Ciudad más frecuente: Miami\n",
            "🌅 Hora de atardecer más frecuente: Day\n",
            "🌬️ Dirección del viento más frecuente: CALM\n",
            "\n",
            "🔍 Se validan nuevamente los valores nulos para corroborar la imputación.\n",
            "\n",
            "📊 Total de filas en la partición: 148000\n",
            "🗂️ Número de columnas en la partición: 19\n",
            "✅ No existen valores nulos en la partición.\n"
          ]
        }
      ]
    },
    {
      "cell_type": "markdown",
      "source": [
        "# Preparando datos"
      ],
      "metadata": {
        "id": "bkIQuXvbbTv_"
      }
    },
    {
      "cell_type": "code",
      "source": [
        "muestra_imp.groupBy(\"Severity\").count().show()"
      ],
      "metadata": {
        "colab": {
          "base_uri": "https://localhost:8080/"
        },
        "id": "cCLiAdHcjHm-",
        "outputId": "e6a2ac2c-4cec-4639-8d55-10463ea2cdf9"
      },
      "execution_count": 12,
      "outputs": [
        {
          "output_type": "stream",
          "name": "stdout",
          "text": [
            "+--------+-----+\n",
            "|Severity|count|\n",
            "+--------+-----+\n",
            "|       3|42000|\n",
            "|       2|74000|\n",
            "|       4|22000|\n",
            "|       1|10000|\n",
            "+--------+-----+\n",
            "\n"
          ]
        }
      ]
    },
    {
      "cell_type": "code",
      "source": [
        "muestra_imp.show()"
      ],
      "metadata": {
        "colab": {
          "base_uri": "https://localhost:8080/"
        },
        "id": "3RFzlmg12gfA",
        "outputId": "cb344905-e5ed-4ea3-96b4-5036605b7486"
      },
      "execution_count": 13,
      "outputs": [
        {
          "output_type": "stream",
          "name": "stdout",
          "text": [
            "+---------+-----------------+-----------------+--------+---------------+-----+--------------+-----------+--------------+--------------+---------------+--------+--------+-------+----------+-----+--------------+---------------+--------------+\n",
            "|       ID|Weather_Condition|Precipitation(in)|Severity|           City|State|Temperature(F)|Humidity(%)|Visibility(mi)|Wind_Direction|Wind_Speed(mph)|Crossing|Junction|Railway|Roundabout| Stop|Sunrise_Sunset|Traffic_Calming|Traffic_Signal|\n",
            "+---------+-----------------+-----------------+--------+---------------+-----+--------------+-----------+--------------+--------------+---------------+--------+--------+-------+----------+-----+--------------+---------------+--------------+\n",
            "|A-6158704|             Fair|              0.0|       2|          Miami|   FL|          74.0|       59.0|          10.0|           ESE|            7.0|   false|   false|  false|     false|false|           Day|          false|         false|\n",
            "|A-1909088|             Fair|              0.0|       2|        Antioch|   TN|          72.0|       87.0|          10.0|             S|            5.0|   false|   false|  false|     false|false|         Night|          false|          true|\n",
            "|A-1249234|             Fair|              0.0|       2|       Mariposa|   CA|          61.0|       34.0|          10.0|           SSE|            5.0|   false|   false|  false|     false|false|           Day|          false|         false|\n",
            "|A-5945961|             Fair|              0.0|       2|        Yonkers|   NY|          81.0|       67.0|          10.0|             W|            3.0|   false|   false|  false|     false|false|           Day|          false|         false|\n",
            "|A-5349001|             Fair|             0.03|       2|         Tucson|   AZ|          46.0|       50.0|          10.0|           ESE|            6.0|   false|   false|  false|     false|false|         Night|          false|         false|\n",
            "|A-6263346|             Fair|              0.0|       2|     East Haven|   CT|          51.0|       35.0|          10.0|            SW|           10.0|   false|   false|  false|     false|false|           Day|          false|         false|\n",
            "|A-6834780|             Fair|              0.0|       2|        Mendota|   CA|          56.0|       57.0|          10.0|          CALM|            0.0|   false|   false|  false|     false|false|         Night|          false|         false|\n",
            "|A-6145561|             Fair|              0.0|       2|        Atlanta|   GA|          68.0|       40.0|          10.0|            NW|            6.0|    true|   false|  false|     false|false|           Day|          false|          true|\n",
            "|A-4602158|             Fair|              0.0|       2| Marina del Rey|   CA|          67.0|       70.0|          10.0|            SW|            8.0|    true|   false|  false|     false|false|           Day|          false|         false|\n",
            "|A-7252466|             Fair|             0.03|       2|      Palo Alto|   CA|          57.0|       63.0|          10.0|             N|            6.0|   false|   false|  false|     false|false|         Night|          false|         false|\n",
            "|A-7719309|             Fair|              0.0|       2|        Pacific|   WA|          57.0|       90.0|          10.0|          CALM|            0.0|   false|   false|  false|     false|false|           Day|          false|         false|\n",
            "|A-4690308|             Fair|              0.0|       2|    Gainesville|   FL|          58.0|       32.0|          10.0|             N|            6.0|    true|   false|  false|     false|false|         Night|          false|         false|\n",
            "|A-6543918|             Fair|              0.0|       2|       Florence|   SC|          59.0|       44.0|          10.0|            SE|            6.0|   false|   false|  false|     false|false|           Day|          false|         false|\n",
            "|A-3783335|             Fair|              0.0|       2|         Delano|   CA|          67.0|       54.0|          10.0|             W|            6.0|   false|   false|  false|     false|false|           Day|          false|         false|\n",
            "| A-749666|             Fair|              0.0|       2|    Santa Maria|   CA|          68.0|       43.0|          10.0|             W|            5.0|   false|   false|  false|     false|false|           Day|          false|         false|\n",
            "|A-4823415|             Fair|              0.0|       2|Fort Lauderdale|   FL|          47.0|       63.0|          10.0|           NNW|            8.0|   false|   false|  false|     false|false|         Night|          false|         false|\n",
            "|A-7042063|             Fair|              0.0|       2|      La Puente|   CA|          74.0|       40.0|          10.0|           VAR|            7.0|   false|   false|  false|     false|false|           Day|          false|         false|\n",
            "|A-1262900|             Fair|              0.0|       2|        Willmar|   MN|          30.0|       80.0|          10.0|           ESE|           14.0|   false|   false|  false|     false|false|         Night|          false|         false|\n",
            "|A-5314693|             Fair|              0.0|       2|     Honea Path|   SC|          54.0|       38.0|          10.0|           WSW|            3.0|   false|   false|  false|     false|false|         Night|          false|         false|\n",
            "|A-1924807|             Fair|              0.0|       2|      Lexington|   KY|          73.0|       84.0|           9.0|            SW|            7.0|   false|   false|  false|     false|false|           Day|          false|         false|\n",
            "+---------+-----------------+-----------------+--------+---------------+-----+--------------+-----------+--------------+--------------+---------------+--------+--------+-------+----------+-----+--------------+---------------+--------------+\n",
            "only showing top 20 rows\n",
            "\n"
          ]
        }
      ]
    },
    {
      "cell_type": "code",
      "source": [
        "categoricas = [\"Weather_Condition\", \"City\", \"State\", \"Sunrise_Sunset\",\"Wind_Direction\"]\n",
        "binarias = [\"Crossing\", \"Junction\", \"Railway\", \"Roundabout\", \"Stop\", \"Traffic_Calming\", \"Traffic_Signal\"]"
      ],
      "metadata": {
        "id": "HKTLf48hbs_d"
      },
      "execution_count": 14,
      "outputs": []
    },
    {
      "cell_type": "code",
      "source": [
        "# ✅ Crear una copia de `imp_sev_1` para trabajar sobre ella\n",
        "Transf_muestra = muestra_imp.alias(\"copia_muestra\")  # Esto asegura que el original quede intacto\n",
        "\n",
        "# Convertir variables binarias a 0 y 1 en la copia\n",
        "for columna in binarias:\n",
        "    Transf_muestra = Transf_muestra.withColumn(columna + \"_num\", col(columna).cast(\"int\"))\n",
        "\n",
        "# Aplicar StringIndexer a las variables categóricas\n",
        "indexers = [StringIndexer(inputCol=col, outputCol=col + \"_Index\").fit(Transf_muestra) for col in categoricas]\n",
        "for indexer in indexers:\n",
        "    Transf_muestra = indexer.transform(Transf_muestra)\n",
        "\n",
        "# Aplicar One-Hot Encoding a las categóricas\n",
        "#codificadores = [OneHotEncoder(inputCol=col + \"_Index\", outputCol=col + \"_OHE\").fit(Transf_muestra) for col in categoricas]\n",
        "#for codificador in codificadores:\n",
        "#    Transf_muestra = codificador.transform(Transf_muestra)\n",
        "\n",
        "# 🔥 Eliminar las columnas originales que ya no se usarán en el modelo\n",
        "Transf_muestra = Transf_muestra.drop(*categoricas).drop(*binarias)\n",
        "\n",
        "Transf_muestra.show()\n",
        "\n",
        "\n"
      ],
      "metadata": {
        "colab": {
          "base_uri": "https://localhost:8080/"
        },
        "id": "NX_PoP6Nh3Bj",
        "outputId": "1bc54312-80f8-485e-a920-d48966229956"
      },
      "execution_count": 15,
      "outputs": [
        {
          "output_type": "stream",
          "name": "stdout",
          "text": [
            "+---------+-----------------+--------+--------------+-----------+--------------+---------------+------------+------------+-----------+--------------+--------+-------------------+------------------+-----------------------+----------+-----------+--------------------+--------------------+\n",
            "|       ID|Precipitation(in)|Severity|Temperature(F)|Humidity(%)|Visibility(mi)|Wind_Speed(mph)|Crossing_num|Junction_num|Railway_num|Roundabout_num|Stop_num|Traffic_Calming_num|Traffic_Signal_num|Weather_Condition_Index|City_Index|State_Index|Sunrise_Sunset_Index|Wind_Direction_Index|\n",
            "+---------+-----------------+--------+--------------+-----------+--------------+---------------+------------+------------+-----------+--------------+--------+-------------------+------------------+-----------------------+----------+-----------+--------------------+--------------------+\n",
            "|A-6158704|              0.0|       2|          74.0|       59.0|          10.0|            7.0|           0|           0|          0|             0|       0|                  0|                 0|                    1.0|       0.0|        1.0|                 0.0|                17.0|\n",
            "|A-1909088|              0.0|       2|          72.0|       87.0|          10.0|            5.0|           0|           0|          0|             0|       0|                  0|                 1|                    1.0|      73.0|       14.0|                 1.0|                 1.0|\n",
            "|A-1249234|              0.0|       2|          61.0|       34.0|          10.0|            5.0|           0|           0|          0|             0|       0|                  0|                 0|                    1.0|    3870.0|        0.0|                 0.0|                10.0|\n",
            "|A-5945961|              0.0|       2|          81.0|       67.0|          10.0|            3.0|           0|           0|          0|             0|       0|                  0|                 0|                    1.0|     160.0|        3.0|                 0.0|                 3.0|\n",
            "|A-5349001|             0.03|       2|          46.0|       50.0|          10.0|            6.0|           0|           0|          0|             0|       0|                  0|                 0|                    1.0|      45.0|       20.0|                 1.0|                17.0|\n",
            "|A-6263346|              0.0|       2|          51.0|       35.0|          10.0|           10.0|           0|           0|          0|             0|       0|                  0|                 0|                    1.0|    1295.0|       27.0|                 0.0|                 9.0|\n",
            "|A-6834780|              0.0|       2|          56.0|       57.0|          10.0|            0.0|           0|           0|          0|             0|       0|                  0|                 0|                    1.0|    1827.0|        0.0|                 1.0|                 0.0|\n",
            "|A-6145561|              0.0|       2|          68.0|       40.0|          10.0|            6.0|           1|           0|          0|             0|       0|                  0|                 1|                    1.0|       5.0|       11.0|                 0.0|                 5.0|\n",
            "|A-4602158|              0.0|       2|          67.0|       70.0|          10.0|            8.0|           1|           0|          0|             0|       0|                  0|                 0|                    1.0|    4442.0|        0.0|                 0.0|                 9.0|\n",
            "|A-7252466|             0.03|       2|          57.0|       63.0|          10.0|            6.0|           0|           0|          0|             0|       0|                  0|                 0|                    1.0|     520.0|        0.0|                 1.0|                 8.0|\n",
            "|A-7719309|              0.0|       2|          57.0|       90.0|          10.0|            0.0|           0|           0|          0|             0|       0|                  0|                 0|                    1.0|     991.0|       19.0|                 0.0|                 0.0|\n",
            "|A-4690308|              0.0|       2|          58.0|       32.0|          10.0|            6.0|           1|           0|          0|             0|       0|                  0|                 0|                    1.0|     189.0|        1.0|                 1.0|                 8.0|\n",
            "|A-6543918|              0.0|       2|          59.0|       44.0|          10.0|            6.0|           0|           0|          0|             0|       0|                  0|                 0|                    1.0|     138.0|        6.0|                 0.0|                16.0|\n",
            "|A-3783335|              0.0|       2|          67.0|       54.0|          10.0|            6.0|           0|           0|          0|             0|       0|                  0|                 0|                    1.0|    2157.0|        0.0|                 0.0|                 3.0|\n",
            "| A-749666|              0.0|       2|          68.0|       43.0|          10.0|            5.0|           0|           0|          0|             0|       0|                  0|                 0|                    1.0|     780.0|        0.0|                 0.0|                 3.0|\n",
            "|A-4823415|              0.0|       2|          47.0|       63.0|          10.0|            8.0|           0|           0|          0|             0|       0|                  0|                 0|                    1.0|      32.0|        1.0|                 1.0|                 6.0|\n",
            "|A-7042063|              0.0|       2|          74.0|       40.0|          10.0|            7.0|           0|           0|          0|             0|       0|                  0|                 0|                    1.0|     369.0|        0.0|                 0.0|                20.0|\n",
            "|A-1262900|              0.0|       2|          30.0|       80.0|          10.0|           14.0|           0|           0|          0|             0|       0|                  0|                 0|                    1.0|    1985.0|        8.0|                 1.0|                17.0|\n",
            "|A-5314693|              0.0|       2|          54.0|       38.0|          10.0|            3.0|           0|           0|          0|             0|       0|                  0|                 0|                    1.0|    3380.0|        6.0|                 1.0|                11.0|\n",
            "|A-1924807|              0.0|       2|          73.0|       84.0|           9.0|            7.0|           0|           0|          0|             0|       0|                  0|                 0|                    1.0|      51.0|       31.0|                 0.0|                 9.0|\n",
            "+---------+-----------------+--------+--------------+-----------+--------------+---------------+------------+------------+-----------+--------------+--------+-------------------+------------------+-----------------------+----------+-----------+--------------------+--------------------+\n",
            "only showing top 20 rows\n",
            "\n"
          ]
        }
      ]
    },
    {
      "cell_type": "code",
      "source": [
        "from pyspark.sql.functions import when, col\n",
        "from pyspark.sql.functions import mean\n",
        "\n",
        "\n",
        "calcular_IQR(Transf_muestra,['Temperature(F)','Humidity(%)','Visibility(mi)','Wind_Speed(mph)'])\n",
        "\n",
        "mean_values = Transf_muestra.select(\n",
        "    mean(\"Temperature(F)\").alias(\"mean_temp\"),\n",
        "    mean(\"Humidity(%)\").alias(\"mean_humidity\"),\n",
        "    mean(\"Wind_Speed(mph)\").alias(\"mean_wind_speed\")\n",
        ").collect()[0]\n",
        "\n",
        "\n",
        "Transf_muestra_iqr = Transf_muestra.withColumn(\"Temperature(F)\", when((col(\"Temperature(F)\") < 14.5) | (col(\"Temperature(F)\") > 114.5), mean_values[\"mean_temp\"]).otherwise(col(\"Temperature(F)\"))) \\\n",
        "             .withColumn(\"Humidity(%)\", when((col(\"Humidity(%)\") < -6.0) | (col(\"Humidity(%)\") > 138.0), mean_values[\"mean_humidity\"]).otherwise(col(\"Humidity(%)\"))) \\\n",
        "             .withColumn(\"Wind_Speed(mph)\", when((col(\"Wind_Speed(mph)\") < -2.5) | (col(\"Wind_Speed(mph)\") > 17.5), mean_values[\"mean_wind_speed\"]).otherwise(col(\"Wind_Speed(mph)\")))"
      ],
      "metadata": {
        "id": "QuXJLcbJwdzo"
      },
      "execution_count": 16,
      "outputs": []
    },
    {
      "cell_type": "code",
      "source": [
        "calcular_IQR(Transf_muestra,['Temperature(F)','Humidity(%)','Visibility(mi)','Wind_Speed(mph)'])\n"
      ],
      "metadata": {
        "colab": {
          "base_uri": "https://localhost:8080/",
          "height": 206
        },
        "id": "nL90UIDBxvvf",
        "outputId": "ef8ce888-4102-498a-9879-dca1db3cd2cb"
      },
      "execution_count": 17,
      "outputs": [
        {
          "output_type": "execute_result",
          "data": {
            "text/plain": [
              "                  IQR  Límite Inf.  Límite Sup.\n",
              "Columna                                        \n",
              "Temperature(F)   31.4         -5.1        120.5\n",
              "Humidity(%)      30.0         17.0        137.0\n",
              "Visibility(mi)    7.0         -7.5         20.5\n",
              "Wind_Speed(mph)   8.0         -7.0         25.0"
            ],
            "text/html": [
              "<div>\n",
              "<style scoped>\n",
              "    .dataframe tbody tr th:only-of-type {\n",
              "        vertical-align: middle;\n",
              "    }\n",
              "\n",
              "    .dataframe tbody tr th {\n",
              "        vertical-align: top;\n",
              "    }\n",
              "\n",
              "    .dataframe thead th {\n",
              "        text-align: right;\n",
              "    }\n",
              "</style>\n",
              "<table border=\"1\" class=\"dataframe\">\n",
              "  <thead>\n",
              "    <tr style=\"text-align: right;\">\n",
              "      <th></th>\n",
              "      <th>IQR</th>\n",
              "      <th>Límite Inf.</th>\n",
              "      <th>Límite Sup.</th>\n",
              "    </tr>\n",
              "    <tr>\n",
              "      <th>Columna</th>\n",
              "      <th></th>\n",
              "      <th></th>\n",
              "      <th></th>\n",
              "    </tr>\n",
              "  </thead>\n",
              "  <tbody>\n",
              "    <tr>\n",
              "      <th>Temperature(F)</th>\n",
              "      <td>31.4</td>\n",
              "      <td>-5.1</td>\n",
              "      <td>120.5</td>\n",
              "    </tr>\n",
              "    <tr>\n",
              "      <th>Humidity(%)</th>\n",
              "      <td>30.0</td>\n",
              "      <td>17.0</td>\n",
              "      <td>137.0</td>\n",
              "    </tr>\n",
              "    <tr>\n",
              "      <th>Visibility(mi)</th>\n",
              "      <td>7.0</td>\n",
              "      <td>-7.5</td>\n",
              "      <td>20.5</td>\n",
              "    </tr>\n",
              "    <tr>\n",
              "      <th>Wind_Speed(mph)</th>\n",
              "      <td>8.0</td>\n",
              "      <td>-7.0</td>\n",
              "      <td>25.0</td>\n",
              "    </tr>\n",
              "  </tbody>\n",
              "</table>\n",
              "</div>"
            ]
          },
          "metadata": {},
          "execution_count": 17
        }
      ]
    },
    {
      "cell_type": "code",
      "source": [
        "calcular_IQR(Transf_muestra_iqr,['Temperature(F)','Humidity(%)','Visibility(mi)','Wind_Speed(mph)'])"
      ],
      "metadata": {
        "colab": {
          "base_uri": "https://localhost:8080/",
          "height": 206
        },
        "id": "MclfVST0x8X7",
        "outputId": "795a3cbb-94bc-4efb-af8b-511ebaa2e11f"
      },
      "execution_count": 18,
      "outputs": [
        {
          "output_type": "execute_result",
          "data": {
            "text/plain": [
              "                       IQR  Límite Inf.  Límite Sup.\n",
              "Columna                                             \n",
              "Temperature(F)   29.400000    -0.100000   117.500000\n",
              "Humidity(%)      30.000000    17.000000   137.000000\n",
              "Visibility(mi)    7.000000    -7.500000    20.500000\n",
              "Wind_Speed(mph)   5.153283    -2.729925    17.883208"
            ],
            "text/html": [
              "<div>\n",
              "<style scoped>\n",
              "    .dataframe tbody tr th:only-of-type {\n",
              "        vertical-align: middle;\n",
              "    }\n",
              "\n",
              "    .dataframe tbody tr th {\n",
              "        vertical-align: top;\n",
              "    }\n",
              "\n",
              "    .dataframe thead th {\n",
              "        text-align: right;\n",
              "    }\n",
              "</style>\n",
              "<table border=\"1\" class=\"dataframe\">\n",
              "  <thead>\n",
              "    <tr style=\"text-align: right;\">\n",
              "      <th></th>\n",
              "      <th>IQR</th>\n",
              "      <th>Límite Inf.</th>\n",
              "      <th>Límite Sup.</th>\n",
              "    </tr>\n",
              "    <tr>\n",
              "      <th>Columna</th>\n",
              "      <th></th>\n",
              "      <th></th>\n",
              "      <th></th>\n",
              "    </tr>\n",
              "  </thead>\n",
              "  <tbody>\n",
              "    <tr>\n",
              "      <th>Temperature(F)</th>\n",
              "      <td>29.400000</td>\n",
              "      <td>-0.100000</td>\n",
              "      <td>117.500000</td>\n",
              "    </tr>\n",
              "    <tr>\n",
              "      <th>Humidity(%)</th>\n",
              "      <td>30.000000</td>\n",
              "      <td>17.000000</td>\n",
              "      <td>137.000000</td>\n",
              "    </tr>\n",
              "    <tr>\n",
              "      <th>Visibility(mi)</th>\n",
              "      <td>7.000000</td>\n",
              "      <td>-7.500000</td>\n",
              "      <td>20.500000</td>\n",
              "    </tr>\n",
              "    <tr>\n",
              "      <th>Wind_Speed(mph)</th>\n",
              "      <td>5.153283</td>\n",
              "      <td>-2.729925</td>\n",
              "      <td>17.883208</td>\n",
              "    </tr>\n",
              "  </tbody>\n",
              "</table>\n",
              "</div>"
            ]
          },
          "metadata": {},
          "execution_count": 18
        }
      ]
    },
    {
      "cell_type": "code",
      "source": [
        "atributos = [ 'Precipitation(in)', 'Temperature(F)', 'Humidity(%)', 'Visibility(mi)',\n",
        "             'Crossing_num', 'Junction_num', 'Railway_num','Roundabout_num','Stop_num',\n",
        "              'Traffic_Calming_num', 'Traffic_Signal_num','Weather_Condition_Index',\n",
        "              'Sunrise_Sunset_Index','Wind_Direction_Index']"
      ],
      "metadata": {
        "id": "-M_w0JQFotVI"
      },
      "execution_count": 19,
      "outputs": []
    },
    {
      "cell_type": "code",
      "source": [
        "assembler = VectorAssembler(inputCols=atributos, outputCol = 'Caracteristicas')\n",
        "df_vec = assembler.transform(Transf_muestra_iqr)\n",
        "df_vec.select('Caracteristicas','Severity').show(5,truncate = False)"
      ],
      "metadata": {
        "colab": {
          "base_uri": "https://localhost:8080/"
        },
        "id": "o-PbBSmym4J8",
        "outputId": "c578507c-59d4-408e-dd25-942d530ff8e2"
      },
      "execution_count": 20,
      "outputs": [
        {
          "output_type": "stream",
          "name": "stdout",
          "text": [
            "+----------------------------------------------------------+--------+\n",
            "|Caracteristicas                                           |Severity|\n",
            "+----------------------------------------------------------+--------+\n",
            "|(14,[1,2,3,11,13],[74.0,59.0,10.0,1.0,17.0])              |2       |\n",
            "|(14,[1,2,3,10,11,12,13],[72.0,87.0,10.0,1.0,1.0,1.0,1.0]) |2       |\n",
            "|(14,[1,2,3,11,13],[61.0,34.0,10.0,1.0,10.0])              |2       |\n",
            "|(14,[1,2,3,11,13],[81.0,67.0,10.0,1.0,3.0])               |2       |\n",
            "|(14,[0,1,2,3,11,12,13],[0.03,46.0,50.0,10.0,1.0,1.0,17.0])|2       |\n",
            "+----------------------------------------------------------+--------+\n",
            "only showing top 5 rows\n",
            "\n"
          ]
        }
      ]
    },
    {
      "cell_type": "markdown",
      "source": [
        "# Creando conjuntos de datos"
      ],
      "metadata": {
        "id": "sGFg6ohTCf-5"
      }
    },
    {
      "cell_type": "code",
      "source": [
        "#spark.conf.set(\"spark.sql.shuffle.partitions\", \"200\")\n",
        "train, test = df_vec.randomSplit([0.8,0.2], seed = 10)\n",
        "\n",
        "train_size = train.count()\n",
        "test_size = test.count()\n",
        "total_size = train_size + test_size\n",
        "\n",
        "train_pct = (train_size / total_size) * 100\n",
        "test_pct = (test_size / total_size) * 100\n",
        "\n",
        "print(f\"\"\"Existen {train_size} instancias en el conjunto train ({train_pct:.2f}%),\n",
        "y {test_size} en el conjunto test ({test_pct:.2f}%).\"\"\")"
      ],
      "metadata": {
        "colab": {
          "base_uri": "https://localhost:8080/"
        },
        "id": "VSgGyGFgCk9M",
        "outputId": "b7a2232d-d8f4-4e57-8834-802a60e01716"
      },
      "execution_count": 21,
      "outputs": [
        {
          "output_type": "stream",
          "name": "stdout",
          "text": [
            "Existen 118446 instancias en el conjunto train (80.03%),\n",
            "y 29554 en el conjunto test (19.97%).\n"
          ]
        }
      ]
    },
    {
      "cell_type": "code",
      "source": [
        "from pyspark.ml.regression import LinearRegression\n",
        "lr = LinearRegression(featuresCol='Caracteristicas', labelCol='Severity', maxIter=10, regParam=0.03, elasticNetParam=0.08)\n",
        "lr_model = lr.fit(train)"
      ],
      "metadata": {
        "id": "GN9E6EYYoHLO"
      },
      "execution_count": 22,
      "outputs": []
    },
    {
      "cell_type": "code",
      "source": [
        "y_pred = lr_model.transform(test)\n",
        "y_pred.select('Caracteristicas','Severity','prediction').show(truncate = False)"
      ],
      "metadata": {
        "colab": {
          "base_uri": "https://localhost:8080/"
        },
        "id": "jupb8TgdafId",
        "outputId": "bbcbd479-de77-4d21-d9cb-bb2b93b5d5b5"
      },
      "execution_count": 23,
      "outputs": [
        {
          "output_type": "stream",
          "name": "stdout",
          "text": [
            "+----------------------------------------------------------+--------+------------------+\n",
            "|Caracteristicas                                           |Severity|prediction        |\n",
            "+----------------------------------------------------------+--------+------------------+\n",
            "|(14,[1,2,3,11,13],[104.0,5.0,10.0,1.0,4.0])               |2       |2.6550031829639167|\n",
            "|(14,[0,1,2,3,8,11,13],[0.06,71.0,90.0,6.0,1.0,19.0,15.0]) |2       |2.2528655353218925|\n",
            "|(14,[1,2,3,11,13],[92.0,22.0,10.0,3.0,1.0])               |3       |2.6164156132172742|\n",
            "|(14,[0,1,2,3,5,11,13],[0.03,64.4,77.0,10.0,1.0,3.0,2.0])  |3       |2.7661285794530857|\n",
            "|(14,[0,1,2,3,11],[0.03,80.0,87.0,4.0,19.0])               |2       |2.2763153038447306|\n",
            "|(14,[1,2,3,11,13],[67.0,52.0,10.0,3.0,17.0])              |3       |2.7881919503923642|\n",
            "|(14,[1,2,3,11,13],[90.0,59.0,10.0,3.0,9.0])               |3       |2.6712980300234914|\n",
            "|(14,[1,2,3,11,12,13],[71.0,92.0,10.0,3.0,1.0,1.0])        |2       |2.7585024688263315|\n",
            "|(14,[1,2,3,11],[63.0,90.0,0.5,28.0])                      |2       |2.1175948957240323|\n",
            "|(14,[1,2,3,11],[70.0,78.0,6.0,28.0])                      |2       |2.101168786041071 |\n",
            "|(14,[1,2,3,11,13],[57.0,100.0,10.0,11.0,12.0])            |3       |2.5912522735263663|\n",
            "|(14,[1,2,3,11,12,13],[67.0,73.0,10.0,3.0,1.0,15.0])       |3       |2.872341284818522 |\n",
            "|(14,[1,2,3,11,13],[47.0,77.0,10.0,11.0,14.0])             |3       |2.6354615569265936|\n",
            "|(14,[1,2,3,11,13],[47.0,77.0,10.0,11.0,14.0])             |3       |2.6354615569265936|\n",
            "|(14,[1,2,3,11,13],[47.0,83.0,10.0,11.0,12.0])             |3       |2.6200017111352296|\n",
            "|(14,[1,2,3,5,11,12,13],[47.0,77.0,10.0,1.0,11.0,1.0,12.0])|3       |2.804464052609507 |\n",
            "|(14,[0,1,2,3,11,13],[0.2,64.0,93.0,7.0,19.0,16.0])        |2       |2.444302306667468 |\n",
            "|(14,[1,2,3,10,11,13],[46.0,84.0,7.0,1.0,11.0,13.0])       |3       |2.3519846632248207|\n",
            "|(14,[1,2,3,11],[67.0,93.0,0.12,28.0])                     |2       |2.1069151864151197|\n",
            "|(14,[1,2,3,11,13],[86.0,37.0,9.0,11.0,9.0])               |3       |2.508807961834171 |\n",
            "+----------------------------------------------------------+--------+------------------+\n",
            "only showing top 20 rows\n",
            "\n"
          ]
        }
      ]
    },
    {
      "cell_type": "code",
      "source": [
        "print (\"The coefficient of the model is : \", lr_model.coefficients)\n",
        "print (\"The Intercept of the model is : \", lr_model.intercept)"
      ],
      "metadata": {
        "colab": {
          "base_uri": "https://localhost:8080/"
        },
        "id": "rHZ-ACWLoNww",
        "outputId": "c85067fa-4939-49ce-df27-c844165214a6"
      },
      "execution_count": 24,
      "outputs": [
        {
          "output_type": "stream",
          "name": "stdout",
          "text": [
            "The coefficient of the model is :  [0.08756284084703446,-0.0025395143882509168,-0.00019731139566788063,-0.00018495376603987754,-0.2323920555430527,0.08070962194773001,0.0,0.0,-0.15504027215359953,0.0,-0.2780521009097898,-0.022146741276632135,0.10256885115253996,0.007137988708678345]\n",
            "The Intercept of the model is :  2.9155435604226687\n"
          ]
        }
      ]
    },
    {
      "cell_type": "code",
      "source": [
        "#Root Mean Square Error\n",
        "eval_lr = RegressionEvaluator(labelCol=\"Stop_num\", predictionCol=\"prediction\", metricName=\"rmse\")\n",
        "rmse_lr = eval_lr.evaluate(y_pred)\n",
        "print(\"RMSE: %.3f\" % rmse_lr)\n",
        "\n",
        "# Mean Square Error\n",
        "mse = eval_lr.evaluate(y_pred, {eval_lr.metricName: \"mse\"})\n",
        "print(\"MSE: %.3f\" % mse)\n",
        "\n",
        "# Mean Absolute Error\n",
        "mae = eval_lr.evaluate(y_pred, {eval_lr.metricName: \"mae\"})\n",
        "print(\"MAE: %.3f\" % mae)\n",
        "\n",
        "# r2 - coefficient of determination\n",
        "r2 = eval_lr.evaluate(y_pred, {eval_lr.metricName: \"r2\"})\n",
        "print(\"r2: %.3f\" %r2)"
      ],
      "metadata": {
        "colab": {
          "base_uri": "https://localhost:8080/"
        },
        "id": "bwZf1S0poUEH",
        "outputId": "aa05b4ab-8cb6-44e2-9dcf-47fbbc4d5f87"
      },
      "execution_count": 25,
      "outputs": [
        {
          "output_type": "stream",
          "name": "stdout",
          "text": [
            "RMSE: 2.509\n",
            "MSE: 6.294\n",
            "MAE: 2.487\n",
            "r2: -294.737\n"
          ]
        }
      ]
    },
    {
      "cell_type": "code",
      "source": [
        "from pyspark.ml.clustering import KMeans, GaussianMixture\n",
        "from pyspark.ml.evaluation import ClusteringEvaluator\n",
        "\n",
        "gmm = GaussianMixture(k=4, seed=1, featuresCol=\"Caracteristicas\", predictionCol=\"Prediccion\")\n",
        "model = gmm.fit(df_vec)\n",
        "\n"
      ],
      "metadata": {
        "id": "lZMItLOyPxTp"
      },
      "execution_count": 26,
      "outputs": []
    },
    {
      "cell_type": "code",
      "source": [
        "print(\"Pesos de los clusters:\", model.weights)\n",
        "print(\"Medias de los clusters:\", [g.mean for g in model.gaussians])\n",
        "print(\"Covarianzas de los clusters:\", [g.cov for g in model.gaussians])\n",
        "\n"
      ],
      "metadata": {
        "colab": {
          "base_uri": "https://localhost:8080/"
        },
        "id": "D9lKtHZvTBYT",
        "outputId": "151ed0fc-989a-488f-f81c-ef31869810ed"
      },
      "execution_count": 27,
      "outputs": [
        {
          "output_type": "stream",
          "name": "stdout",
          "text": [
            "Pesos de los clusters: [0.8054949460143827, 0.16159496300845294, 0.01153162925286512, 0.021378461724299445]\n",
            "Medias de los clusters: [DenseVector([0.0243, 57.3572, 75.6449, 6.8598, 0.0002, 0.0977, 0.0001, 0.0, 0.0003, 0.0002, 0.0001, 12.6544, 0.3085, 8.929]), DenseVector([0.0669, 64.0112, 73.2926, 7.5992, 0.5097, 0.0008, 0.0005, 0.0, 0.0013, 0.0011, 0.781, 12.9685, 0.2316, 9.4468]), DenseVector([0.2425, 62.9122, 74.3993, 8.8981, 0.5442, 0.2471, 0.622, 0.0006, 0.0186, 0.0155, 0.3608, 12.9886, 0.2743, 9.515]), DenseVector([0.0311, 59.6231, 73.8734, 7.5877, 0.2817, 0.0061, 0.0036, 0.0003, 0.9901, 0.0084, 0.0615, 12.9917, 0.2939, 8.8088])]\n",
            "Covarianzas de los clusters: [DenseMatrix(14, 14, [0.0043, 0.0265, 0.2289, -0.0449, 0.0, 0.0004, 0.0, 0.0, ..., -0.0, 0.0, 0.0, -0.0, -0.0, -1.9835, -0.1743, 41.6228], 0), DenseMatrix(14, 14, [0.0379, 0.2236, 1.0306, -0.2125, -0.0213, -0.0, 0.0, -0.0, ..., -0.0003, 0.0002, -0.0005, -0.0007, -0.01, 1.7608, -0.2067, 42.7521], 0), DenseMatrix(14, 14, [0.3768, 1.7474, 4.1373, -1.1614, -0.0899, -0.0051, -0.1356, -0.0001, ..., -0.1422, 0.0023, -0.0088, -0.0115, 0.0732, -1.6052, -0.1776, 42.7147], 0), DenseMatrix(14, 14, [0.0777, 0.0404, 0.3844, -0.0614, -0.0008, 0.0, 0.0002, 0.0, ..., -0.0002, 0.0015, -0.0002, -0.0003, 0.0701, 0.6844, -0.2328, 43.0645], 0)]\n"
          ]
        }
      ]
    },
    {
      "cell_type": "code",
      "source": [
        "df_result = model.transform(df_vec)\n",
        "df_result.select('Caracteristicas','Severity','Prediccion').show(truncate = False)"
      ],
      "metadata": {
        "colab": {
          "base_uri": "https://localhost:8080/"
        },
        "id": "ehC0BsBfTEAQ",
        "outputId": "52723954-1c97-4911-f840-fc90c8638608"
      },
      "execution_count": 28,
      "outputs": [
        {
          "output_type": "stream",
          "name": "stdout",
          "text": [
            "+----------------------------------------------------------+--------+----------+\n",
            "|Caracteristicas                                           |Severity|Prediccion|\n",
            "+----------------------------------------------------------+--------+----------+\n",
            "|(14,[1,2,3,11,13],[74.0,59.0,10.0,1.0,17.0])              |2       |0         |\n",
            "|(14,[1,2,3,10,11,12,13],[72.0,87.0,10.0,1.0,1.0,1.0,1.0]) |2       |1         |\n",
            "|(14,[1,2,3,11,13],[61.0,34.0,10.0,1.0,10.0])              |2       |0         |\n",
            "|(14,[1,2,3,11,13],[81.0,67.0,10.0,1.0,3.0])               |2       |0         |\n",
            "|(14,[0,1,2,3,11,12,13],[0.03,46.0,50.0,10.0,1.0,1.0,17.0])|2       |0         |\n",
            "|(14,[1,2,3,11,13],[51.0,35.0,10.0,1.0,9.0])               |2       |0         |\n",
            "|(14,[1,2,3,11,12],[56.0,57.0,10.0,1.0,1.0])               |2       |0         |\n",
            "|(14,[1,2,3,4,10,11,13],[68.0,40.0,10.0,1.0,1.0,1.0,5.0])  |2       |1         |\n",
            "|(14,[1,2,3,4,11,13],[67.0,70.0,10.0,1.0,1.0,9.0])         |2       |1         |\n",
            "|(14,[0,1,2,3,11,12,13],[0.03,57.0,63.0,10.0,1.0,1.0,8.0]) |2       |0         |\n",
            "|(14,[1,2,3,11],[57.0,90.0,10.0,1.0])                      |2       |0         |\n",
            "|(14,[1,2,3,4,11,12,13],[58.0,32.0,10.0,1.0,1.0,1.0,8.0])  |2       |1         |\n",
            "|(14,[1,2,3,11,13],[59.0,44.0,10.0,1.0,16.0])              |2       |0         |\n",
            "|(14,[1,2,3,11,13],[67.0,54.0,10.0,1.0,3.0])               |2       |0         |\n",
            "|(14,[1,2,3,11,13],[68.0,43.0,10.0,1.0,3.0])               |2       |0         |\n",
            "|(14,[1,2,3,11,12,13],[47.0,63.0,10.0,1.0,1.0,6.0])        |2       |0         |\n",
            "|(14,[1,2,3,11,13],[74.0,40.0,10.0,1.0,20.0])              |2       |0         |\n",
            "|(14,[1,2,3,11,12,13],[30.0,80.0,10.0,1.0,1.0,17.0])       |2       |0         |\n",
            "|(14,[1,2,3,11,12,13],[54.0,38.0,10.0,1.0,1.0,11.0])       |2       |0         |\n",
            "|(14,[1,2,3,11,13],[73.0,84.0,9.0,1.0,9.0])                |2       |0         |\n",
            "+----------------------------------------------------------+--------+----------+\n",
            "only showing top 20 rows\n",
            "\n"
          ]
        }
      ]
    },
    {
      "cell_type": "code",
      "source": [
        "df_igual = df_result.withColumn(\"es_igual\", when(col(\"Severity\") == col(\"Prediccion\"), 1).otherwise(0))\n",
        "conteo_iguales = df_igual.select(count(when(col(\"es_igual\") == 1, True)).alias(\"total_iguales\"))\n",
        "\n",
        "# Mostrar resultados\n",
        "df_igual.show()\n",
        "conteo_iguales.show()\n"
      ],
      "metadata": {
        "colab": {
          "base_uri": "https://localhost:8080/"
        },
        "id": "5oewfLJKXmwj",
        "outputId": "f3cdf3d2-8c65-4784-85f5-46889e61db65"
      },
      "execution_count": 29,
      "outputs": [
        {
          "output_type": "stream",
          "name": "stdout",
          "text": [
            "+---------+-----------------+--------+--------------+-----------+--------------+---------------+------------+------------+-----------+--------------+--------+-------------------+------------------+-----------------------+----------+-----------+--------------------+--------------------+--------------------+--------------------+----------+--------+\n",
            "|       ID|Precipitation(in)|Severity|Temperature(F)|Humidity(%)|Visibility(mi)|Wind_Speed(mph)|Crossing_num|Junction_num|Railway_num|Roundabout_num|Stop_num|Traffic_Calming_num|Traffic_Signal_num|Weather_Condition_Index|City_Index|State_Index|Sunrise_Sunset_Index|Wind_Direction_Index|     Caracteristicas|         probability|Prediccion|es_igual|\n",
            "+---------+-----------------+--------+--------------+-----------+--------------+---------------+------------+------------+-----------+--------------+--------+-------------------+------------------+-----------------------+----------+-----------+--------------------+--------------------+--------------------+--------------------+----------+--------+\n",
            "|A-6158704|              0.0|       2|          74.0|       59.0|          10.0|            7.0|           0|           0|          0|             0|       0|                  0|                 0|                    1.0|       0.0|        1.0|                 0.0|                17.0|(14,[1,2,3,11,13]...|[0.99999956033386...|         0|       0|\n",
            "|A-1909088|              0.0|       2|          72.0|       87.0|          10.0|            5.0|           0|           0|          0|             0|       0|                  0|                 1|                    1.0|      73.0|       14.0|                 1.0|                 1.0|(14,[1,2,3,10,11,...|[1.16418983292662...|         1|       0|\n",
            "|A-1249234|              0.0|       2|          61.0|       34.0|          10.0|            5.0|           0|           0|          0|             0|       0|                  0|                 0|                    1.0|    3870.0|        0.0|                 0.0|                10.0|(14,[1,2,3,11,13]...|[0.99999966697775...|         0|       0|\n",
            "|A-5945961|              0.0|       2|          81.0|       67.0|          10.0|            3.0|           0|           0|          0|             0|       0|                  0|                 0|                    1.0|     160.0|        3.0|                 0.0|                 3.0|(14,[1,2,3,11,13]...|[0.99999948814928...|         0|       0|\n",
            "|A-5349001|             0.03|       2|          46.0|       50.0|          10.0|            6.0|           0|           0|          0|             0|       0|                  0|                 0|                    1.0|      45.0|       20.0|                 1.0|                17.0|(14,[0,1,2,3,11,1...|[0.99999984277511...|         0|       0|\n",
            "|A-6263346|              0.0|       2|          51.0|       35.0|          10.0|           10.0|           0|           0|          0|             0|       0|                  0|                 0|                    1.0|    1295.0|       27.0|                 0.0|                 9.0|(14,[1,2,3,11,13]...|[0.99999973999698...|         0|       0|\n",
            "|A-6834780|              0.0|       2|          56.0|       57.0|          10.0|            0.0|           0|           0|          0|             0|       0|                  0|                 0|                    1.0|    1827.0|        0.0|                 1.0|                 0.0|(14,[1,2,3,11,12]...|[0.99999978770435...|         0|       0|\n",
            "|A-6145561|              0.0|       2|          68.0|       40.0|          10.0|            6.0|           1|           0|          0|             0|       0|                  0|                 1|                    1.0|       5.0|       11.0|                 0.0|                 5.0|(14,[1,2,3,4,10,1...|[1.05012155304811...|         1|       0|\n",
            "|A-4602158|              0.0|       2|          67.0|       70.0|          10.0|            8.0|           1|           0|          0|             0|       0|                  0|                 0|                    1.0|    4442.0|        0.0|                 0.0|                 9.0|(14,[1,2,3,4,11,1...|[4.01712406112550...|         1|       0|\n",
            "|A-7252466|             0.03|       2|          57.0|       63.0|          10.0|            6.0|           0|           0|          0|             0|       0|                  0|                 0|                    1.0|     520.0|        0.0|                 1.0|                 8.0|(14,[0,1,2,3,11,1...|[0.99999975320185...|         0|       0|\n",
            "|A-7719309|              0.0|       2|          57.0|       90.0|          10.0|            0.0|           0|           0|          0|             0|       0|                  0|                 0|                    1.0|     991.0|       19.0|                 0.0|                 0.0|(14,[1,2,3,11],[5...|[0.99999945450196...|         0|       0|\n",
            "|A-4690308|              0.0|       2|          58.0|       32.0|          10.0|            6.0|           1|           0|          0|             0|       0|                  0|                 0|                    1.0|     189.0|        1.0|                 1.0|                 8.0|(14,[1,2,3,4,11,1...|[1.91571262553292...|         1|       0|\n",
            "|A-6543918|              0.0|       2|          59.0|       44.0|          10.0|            6.0|           0|           0|          0|             0|       0|                  0|                 0|                    1.0|     138.0|        6.0|                 0.0|                16.0|(14,[1,2,3,11,13]...|[0.99999969561395...|         0|       0|\n",
            "|A-3783335|              0.0|       2|          67.0|       54.0|          10.0|            6.0|           0|           0|          0|             0|       0|                  0|                 0|                    1.0|    2157.0|        0.0|                 0.0|                 3.0|(14,[1,2,3,11,13]...|[0.99999957949955...|         0|       0|\n",
            "| A-749666|              0.0|       2|          68.0|       43.0|          10.0|            5.0|           0|           0|          0|             0|       0|                  0|                 0|                    1.0|     780.0|        0.0|                 0.0|                 3.0|(14,[1,2,3,11,13]...|[0.99999958129381...|         0|       0|\n",
            "|A-4823415|              0.0|       2|          47.0|       63.0|          10.0|            8.0|           0|           0|          0|             0|       0|                  0|                 0|                    1.0|      32.0|        1.0|                 1.0|                 6.0|(14,[1,2,3,11,12,...|[0.99999983638073...|         0|       0|\n",
            "|A-7042063|              0.0|       2|          74.0|       40.0|          10.0|            7.0|           0|           0|          0|             0|       0|                  0|                 0|                    1.0|     369.0|        0.0|                 0.0|                20.0|(14,[1,2,3,11,13]...|[0.99999958853195...|         0|       0|\n",
            "|A-1262900|              0.0|       2|          30.0|       80.0|          10.0|           14.0|           0|           0|          0|             0|       0|                  0|                 0|                    1.0|    1985.0|        8.0|                 1.0|                17.0|(14,[1,2,3,11,12,...|[0.99999989175986...|         0|       0|\n",
            "|A-5314693|              0.0|       2|          54.0|       38.0|          10.0|            3.0|           0|           0|          0|             0|       0|                  0|                 0|                    1.0|    3380.0|        6.0|                 1.0|                11.0|(14,[1,2,3,11,12,...|[0.99999983997389...|         0|       0|\n",
            "|A-1924807|              0.0|       2|          73.0|       84.0|           9.0|            7.0|           0|           0|          0|             0|       0|                  0|                 0|                    1.0|      51.0|       31.0|                 0.0|                 9.0|(14,[1,2,3,11,13]...|[0.99999943830475...|         0|       0|\n",
            "+---------+-----------------+--------+--------------+-----------+--------------+---------------+------------+------------+-----------+--------------+--------+-------------------+------------------+-----------------------+----------+-----------+--------------------+--------------------+--------------------+--------------------+----------+--------+\n",
            "only showing top 20 rows\n",
            "\n",
            "+-------------+\n",
            "|total_iguales|\n",
            "+-------------+\n",
            "|         5181|\n",
            "+-------------+\n",
            "\n"
          ]
        }
      ]
    }
  ]
}