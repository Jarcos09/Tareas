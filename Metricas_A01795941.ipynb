{
  "nbformat": 4,
  "nbformat_minor": 0,
  "metadata": {
    "colab": {
      "provenance": [],
      "mount_file_id": "1Jab2DUXez4z1kx-o-Btc9jKPcoslob_t",
      "authorship_tag": "ABX9TyPd5XGyWfvRwit8/b08vJLS",
      "include_colab_link": true
    },
    "kernelspec": {
      "name": "python3",
      "display_name": "Python 3"
    },
    "language_info": {
      "name": "python"
    }
  },
  "cells": [
    {
      "cell_type": "markdown",
      "metadata": {
        "id": "view-in-github",
        "colab_type": "text"
      },
      "source": [
        "<a href=\"https://colab.research.google.com/github/Jarcos09/Tareas/blob/main/Metricas_A01795941.ipynb\" target=\"_parent\"><img src=\"https://colab.research.google.com/assets/colab-badge.svg\" alt=\"Open In Colab\"/></a>"
      ]
    },
    {
      "cell_type": "markdown",
      "source": [
        "# 🎓 **Inteligencia Artificial Aplicada**\n",
        "\n",
        "## 🤖 **Análisis de grandes volúmenes de datos (Gpo 10)**\n",
        "\n",
        "### 🏛️ Tecnológico de Monterrey\n",
        "\n",
        "#### 👨‍🏫 **Profesor titular :** Dr. Iván Olmos Pineda\n",
        "#### 👩‍🏫 **Profesor asistente :** Verónica Sandra Guzmán de Valle\n",
        "\n",
        "### 📊 **Actividad 4 | Métricas de calidad de resultados**\n",
        "\n",
        "#### 📅 **08 de junio de 2025**\n",
        "\n",
        "🧑‍💻 **A01795941 :** Juan Carlos Pérez Nava\n",
        "\n",
        "\n"
      ],
      "metadata": {
        "id": "XLo2RHbqcPHa"
      }
    },
    {
      "cell_type": "code",
      "source": [
        "# Módulos del sistema para manejo de rutas\n",
        "import os\n",
        "import sys\n",
        "\n",
        "# Definición del path para incluir una librería personalizada\n",
        "module_path = os.path.abspath(os.path.join('proyectos/librerias'))\n",
        "if module_path not in sys.path:\n",
        "    sys.path.append(module_path)\n",
        "\n",
        "# Importación de módulos gráficos personalizados\n",
        "from graficas import *\n",
        "\n",
        "# Importación de PySpark para manipulación y análisis de datos\n",
        "from pyspark.sql import (\n",
        "    SparkSession, DataFrame\n",
        ")\n",
        "from pyspark.sql.types import (\n",
        "    StructType, StructField, StringType, IntegerType, DoubleType\n",
        ")\n",
        "from pyspark.sql.functions import (\n",
        "    col, sum, avg, lit, count, when, format_number, round, rand, countDistinct\n",
        ")\n",
        "from pyspark.ml.feature import (\n",
        "    StringIndexer, OneHotEncoder, QuantileDiscretizer,\n",
        "    VectorAssembler, StandardScaler, Imputer\n",
        ")\n",
        "\n",
        "from pyspark.ml.feature import RFormula\n",
        "from pyspark.ml.classification import RandomForestClassifier\n",
        "from pyspark.ml.clustering import KMeans\n",
        "\n",
        "from pyspark.ml.evaluation import(    MulticlassClassificationEvaluator, ClusteringEvaluator\n",
        "    )\n",
        "\n",
        "from pyspark.ml.tuning import (\n",
        "    ParamGridBuilder, CrossValidator\n",
        ")\n",
        "\n",
        "# Importación de librerías para visualización\n",
        "import matplotlib.pyplot as plt\n",
        "import seaborn as sns\n",
        "\n",
        "# Librería para la integración con Kaggle\n",
        "import kagglehub\n",
        "\n",
        "# Manipulación de datos con Pandas\n",
        "import pandas as pd\n",
        "\n",
        "# Funciones de programación funcional\n",
        "from functools import reduce"
      ],
      "metadata": {
        "id": "lNK_005tHX9o"
      },
      "execution_count": 62,
      "outputs": []
    },
    {
      "cell_type": "code",
      "source": [
        "path = kagglehub.dataset_download(\"sobhanmoosavi/us-accidents\")\n",
        "print(\"Path to dataset files:\", path)"
      ],
      "metadata": {
        "colab": {
          "base_uri": "https://localhost:8080/"
        },
        "id": "j7RDNtCfV_j8",
        "outputId": "8cfb646a-4abb-48bd-df6e-6aabce4c30d0"
      },
      "execution_count": 2,
      "outputs": [
        {
          "output_type": "stream",
          "name": "stdout",
          "text": [
            "Path to dataset files: /home/jarcos/.cache/kagglehub/datasets/sobhanmoosavi/us-accidents/versions/13\n"
          ]
        }
      ]
    },
    {
      "cell_type": "code",
      "source": [
        "# Creación de una sesión de Spark\n",
        "# Se configura el modo \"local[*]\" para usar todos los núcleos disponibles en la máquina\n",
        "# Se asigna un nombre a la aplicación y se configuran los límites de memoria para el driver y los ejecutores\n",
        "\n",
        "spark = SparkSession.builder.master(\"local[*]\").appName(\"metricas\").config(\"spark.driver.memory\", \"40g\").config(\"spark.executor.memory\", \"20g\").getOrCreate()\n",
        "df_accident = spark.read.option(\"header\", True).option(\"inferSchema\", True).csv(path)\n",
        "spark.sparkContext.setLogLevel(\"ERROR\")"
      ],
      "metadata": {
        "colab": {
          "base_uri": "https://localhost:8080/"
        },
        "id": "KzhCy58rgjX1",
        "outputId": "64f459e6-1e63-4798-bbdf-295033de38ba"
      },
      "execution_count": 3,
      "outputs": [
        {
          "output_type": "stream",
          "name": "stderr",
          "text": [
            "Setting default log level to \"WARN\".\n",
            "To adjust logging level use sc.setLogLevel(newLevel). For SparkR, use setLogLevel(newLevel).\n",
            "25/06/07 20:08:58 WARN NativeCodeLoader: Unable to load native-hadoop library for your platform... using builtin-java classes where applicable\n"
          ]
        }
      ]
    },
    {
      "cell_type": "markdown",
      "source": [
        "# **1 - Construcción de la muestra M**\n",
        "\n",
        "**Etapa 1: Feature Engineering y Transformers**\n",
        "\n",
        "A lo largo de las actividades, se han realizado particiones considerando, en primer lugar, la severidad del accidente y, posteriormente, las condiciones climáticas. En este ejercicio se analizará la frecuencia de dichas particiones para identificar combinaciones que permitan una distribución homogénea. Por ello, se revisará el estado actual de estos subconjuntos.\n"
      ],
      "metadata": {
        "id": "BZDsQ0zuhJRD"
      }
    },
    {
      "cell_type": "code",
      "source": [
        "df_accident.select(\"Severity\").groupBy(\"Severity\").count().orderBy(\"Severity\").show()"
      ],
      "metadata": {
        "colab": {
          "base_uri": "https://localhost:8080/"
        },
        "id": "oU78BwyLy0zC",
        "outputId": "22d9f332-2254-4326-e7a7-7fb06cc6516b"
      },
      "execution_count": 4,
      "outputs": [
        {
          "output_type": "stream",
          "name": "stderr",
          "text": []
        },
        {
          "output_type": "stream",
          "name": "stdout",
          "text": [
            "+--------+-------+\n",
            "|Severity|  count|\n",
            "+--------+-------+\n",
            "|       1|  67366|\n",
            "|       2|6156981|\n",
            "|       3|1299337|\n",
            "|       4| 204710|\n",
            "+--------+-------+\n",
            "\n"
          ]
        },
        {
          "output_type": "stream",
          "name": "stderr",
          "text": [
            "\r[Stage 2:======================================================>  (22 + 1) / 23]\r\r                                                                                \r"
          ]
        }
      ]
    },
    {
      "cell_type": "code",
      "source": [
        "df_accident.filter(col(\"Severity\") == \"1\").select(\"Weather_Condition\").groupBy(\"Weather_Condition\").count().orderBy(col(\"count\").desc()).show(8)"
      ],
      "metadata": {
        "colab": {
          "base_uri": "https://localhost:8080/"
        },
        "id": "chKORyAL0sfA",
        "outputId": "cbff3ff1-1481-4e26-dc85-b5a9172a825a"
      },
      "execution_count": 5,
      "outputs": [
        {
          "output_type": "stream",
          "name": "stderr",
          "text": []
        },
        {
          "output_type": "stream",
          "name": "stdout",
          "text": [
            "+-----------------+-----+\n",
            "|Weather_Condition|count|\n",
            "+-----------------+-----+\n",
            "|             Fair|34359|\n",
            "|    Mostly Cloudy|10676|\n",
            "|           Cloudy| 7985|\n",
            "|    Partly Cloudy| 6820|\n",
            "|       Light Rain| 2338|\n",
            "|             NULL|  954|\n",
            "|              Fog|  662|\n",
            "|             Rain|  458|\n",
            "+-----------------+-----+\n",
            "only showing top 8 rows\n",
            "\n"
          ]
        },
        {
          "output_type": "stream",
          "name": "stderr",
          "text": [
            "\r[Stage 5:====================================================>    (21 + 2) / 23]\r\r                                                                                \r"
          ]
        }
      ]
    },
    {
      "cell_type": "code",
      "source": [
        "df_accident.filter(col(\"Severity\") == \"2\").select(\"Weather_Condition\").groupBy(\"Weather_Condition\").count().orderBy(col(\"count\").desc()).show(8)"
      ],
      "metadata": {
        "colab": {
          "base_uri": "https://localhost:8080/"
        },
        "id": "AGZtgl9o1YbN",
        "outputId": "3760633b-61ca-4513-f12f-72bb93f99fb5"
      },
      "execution_count": 6,
      "outputs": [
        {
          "output_type": "stream",
          "name": "stderr",
          "text": []
        },
        {
          "output_type": "stream",
          "name": "stdout",
          "text": [
            "+-----------------+-------+\n",
            "|Weather_Condition|  count|\n",
            "+-----------------+-------+\n",
            "|             Fair|2226576|\n",
            "|    Mostly Cloudy| 792735|\n",
            "|           Cloudy| 692929|\n",
            "|    Partly Cloudy| 548760|\n",
            "|            Clear| 536971|\n",
            "|       Light Rain| 270162|\n",
            "|         Overcast| 248938|\n",
            "|             NULL| 134781|\n",
            "+-----------------+-------+\n",
            "only showing top 8 rows\n",
            "\n"
          ]
        },
        {
          "output_type": "stream",
          "name": "stderr",
          "text": [
            "\r[Stage 8:====================================================>    (21 + 2) / 23]\r\r                                                                                \r"
          ]
        }
      ]
    },
    {
      "cell_type": "code",
      "source": [
        "df_accident.filter(col(\"Severity\") == \"3\").select(\"Weather_Condition\").groupBy(\"Weather_Condition\").count().orderBy(col(\"count\").desc()).show(8)"
      ],
      "metadata": {
        "colab": {
          "base_uri": "https://localhost:8080/"
        },
        "id": "n9mKTZ4I1asS",
        "outputId": "341b4837-194e-4890-abe4-b82770be19db"
      },
      "execution_count": 7,
      "outputs": [
        {
          "output_type": "stream",
          "name": "stderr",
          "text": []
        },
        {
          "output_type": "stream",
          "name": "stdout",
          "text": [
            "+-----------------+------+\n",
            "|Weather_Condition| count|\n",
            "+-----------------+------+\n",
            "|            Clear|244956|\n",
            "|             Fair|240084|\n",
            "|    Mostly Cloudy|189229|\n",
            "|    Partly Cloudy|127692|\n",
            "|         Overcast|119946|\n",
            "|           Cloudy| 93340|\n",
            "|       Light Rain| 71097|\n",
            "| Scattered Clouds| 66037|\n",
            "+-----------------+------+\n",
            "only showing top 8 rows\n",
            "\n"
          ]
        },
        {
          "output_type": "stream",
          "name": "stderr",
          "text": [
            "\r[Stage 11:================================================>       (20 + 3) / 23]\r\r                                                                                \r"
          ]
        }
      ]
    },
    {
      "cell_type": "code",
      "source": [
        "df_accident.filter(col(\"Severity\") == \"4\").select(\"Weather_Condition\").groupBy(\"Weather_Condition\").count().orderBy(col(\"count\").desc()).show(8)"
      ],
      "metadata": {
        "colab": {
          "base_uri": "https://localhost:8080/"
        },
        "id": "KxgKEctv1dF6",
        "outputId": "23e3fd64-ffae-457d-fb8c-d559dba38ba0"
      },
      "execution_count": 8,
      "outputs": [
        {
          "output_type": "stream",
          "name": "stderr",
          "text": []
        },
        {
          "output_type": "stream",
          "name": "stdout",
          "text": [
            "+-----------------+-----+\n",
            "|Weather_Condition|count|\n",
            "+-----------------+-----+\n",
            "|             Fair|59783|\n",
            "|            Clear|26479|\n",
            "|    Mostly Cloudy|23555|\n",
            "|           Cloudy|22828|\n",
            "|    Partly Cloudy|15700|\n",
            "|         Overcast|13867|\n",
            "|       Light Rain| 9360|\n",
            "|             NULL| 7429|\n",
            "+-----------------+-----+\n",
            "only showing top 8 rows\n",
            "\n"
          ]
        },
        {
          "output_type": "stream",
          "name": "stderr",
          "text": [
            "\r[Stage 14:==============================================>         (19 + 4) / 23]\r\r                                                                                \r"
          ]
        }
      ]
    },
    {
      "cell_type": "code",
      "source": [
        "# Definición de las columnas clave que serán utilizadas para el análisis y particionamiento\n",
        "columnas_clave = [\"Temperature(F)\",\"Weather_Condition\",\"Severity\",\"Humidity(%)\",\n",
        "                  \"Pressure(in)\", \"Wind_Direction\",\"Wind_Speed(mph)\",\"Precipitation(in)\",\n",
        "                  \"Crossing\",\"Junction\",\"Railway\",\"Roundabout\",\"Stop\",\"Sunrise_Sunset\",\n",
        "                  \"Traffic_Calming\",\"Traffic_Signal\"]\n",
        "\n",
        "# Escritura del DataFrame en formato Parquet, particionando por las columnas \"Severity\" y \"Weather_Condition\"\n",
        "df_particionada = df_accident.select(columnas_clave)\n",
        "df_particionada.write.mode(\"overwrite\").partitionBy(\"Severity\",\"Weather_Condition\").parquet(\"us_accidents_partitioned\")"
      ],
      "metadata": {
        "colab": {
          "base_uri": "https://localhost:8080/"
        },
        "id": "90X1Pa19yCZP",
        "outputId": "ec6f5bba-7a14-4c96-aebe-3e56c432be20"
      },
      "execution_count": 9,
      "outputs": [
        {
          "output_type": "stream",
          "name": "stderr",
          "text": []
        }
      ]
    },
    {
      "cell_type": "markdown",
      "source": [
        "Para generar una partición homogénea con una cantidad significativa de registros, se propone excluir las severidades 1 y 4, ya que representan menos del 1% y 2% del conjunto total, respectivamente. Posteriormente, se seleccionan las condiciones climáticas más predominantes en los accidentes de las severidades restantes, tomando 10,000 registros de cada una, con el objetivo de garantizar condiciones uniformes en cada partición."
      ],
      "metadata": {
        "id": "7zuVPSXI21dH"
      }
    },
    {
      "cell_type": "code",
      "source": [
        "# Definir la cantidad de registros a tomar por cada condición climática\n",
        "registros = {\n",
        "    \"Fair\": 10000,\n",
        "    \"Clear\": 10000,\n",
        "    \"Mostly Cloudy\": 10000,\n",
        "    \"Cloudy\": 10000,\n",
        "    \"Partly Cloudy\": 10000,\n",
        "    \"Overcast\": 10000,\n",
        "    \"Light Rain\": 10000\n",
        "}\n",
        "\n",
        "# Obtener la lista de condiciones climáticas disponibles en el diccionario de registros\n",
        "weather_conditions = list(registros.keys())\n",
        "\n",
        "# Definir las severidades de interés\n",
        "severidades = [{'Severity': 2}, {'Severity': 3}]\n",
        "\n",
        "# Crear un diccionario para almacenar los DataFrames filtrados y limitados\n",
        "dfs = {}\n",
        "\n",
        "# Generar un DataFrame por cada valor de severidad con el filtro y límite de condiciones climáticas\n",
        "for severidad in severidades:\n",
        "\n",
        "    clave = f\"Severity_{severidad['Severity']}\"\n",
        "\n",
        "    # Filtrar el DataFrame para mantener solo las filas con la severidad actual y las condiciones climáticas definidas\n",
        "    df_filtrado = df_particionada.filter(\n",
        "        (df_particionada[\"Severity\"] == severidad[\"Severity\"]) &\n",
        "        (df_particionada[\"Weather_Condition\"].isin(weather_conditions))\n",
        "    )\n",
        "\n",
        "    # Aplicar el límite de registros por cada condición climática\n",
        "    df_limitado = df_filtrado.groupBy(\"Weather_Condition\").applyInPandas(\n",
        "        lambda pdf: pdf.iloc[:registros.get(pdf.iloc[0][\"Weather_Condition\"], len(pdf))],  # Selecciona hasta 10,000 registros por condición\n",
        "        schema=df_filtrado.schema  # Mantiene la estructura original del DataFrame\n",
        "    )\n",
        "\n",
        "    # Guardar el DataFrame filtrado y limitado en el diccionario\n",
        "    dfs[clave] = df_limitado\n",
        "\n",
        "# Obtener las claves generadas en el diccionario de DataFrames\n",
        "claves = dfs.keys()"
      ],
      "metadata": {
        "id": "HDg_34u8dRtY"
      },
      "execution_count": 10,
      "outputs": []
    },
    {
      "cell_type": "code",
      "source": [
        "# Unir todos los DataFrames en uno solo\n",
        "df_muestra = reduce(DataFrame.unionAll, dfs.values())\n",
        "\n",
        "# Contar registros totales para verificar\n",
        "print(f\"Total de registros en el DataFrame final: {df_muestra.count()}\")\n"
      ],
      "metadata": {
        "colab": {
          "base_uri": "https://localhost:8080/"
        },
        "id": "O3dsFeD3d1UP",
        "outputId": "0a260f93-66a2-4b28-ebb1-338698f9c4ac"
      },
      "execution_count": 11,
      "outputs": [
        {
          "output_type": "stream",
          "name": "stderr",
          "text": []
        },
        {
          "output_type": "stream",
          "name": "stdout",
          "text": [
            "Total de registros en el DataFrame final: 140000\n"
          ]
        },
        {
          "output_type": "stream",
          "name": "stderr",
          "text": [
            "\r                                                                                \r"
          ]
        }
      ]
    },
    {
      "cell_type": "code",
      "source": [
        "# Convertir a Pandas DataFrame\n",
        "muestra_pd = df_muestra.select(\"Severity\", \"Weather_Condition\").toPandas()\n",
        "\n",
        "# Configuración de estilo\n",
        "sns.set_style(\"whitegrid\")\n",
        "\n",
        "# Crear la tabla de frecuencia\n",
        "tabla_frecuencia = muestra_pd.groupby([\"Weather_Condition\", \"Severity\"]).size().reset_index(name=\"Count\")\n",
        "\n",
        "# Crear el gráfico\n",
        "plt.figure(figsize=(12, 6))\n",
        "ax = sns.barplot(x=\"Weather_Condition\", y=\"Count\", hue=\"Severity\", data=tabla_frecuencia, palette=\"coolwarm\")\n",
        "\n",
        "# Agregar los valores en cada barra\n",
        "for bars in ax.containers:\n",
        "    ax.bar_label(bars, fmt='%d', label_type='edge', fontsize=10, color='black', padding=3)\n",
        "\n",
        "# Configurar etiquetas y título\n",
        "plt.xticks(rotation=45)\n",
        "plt.xlabel(\"Condición Climática\")\n",
        "plt.ylabel(\"Cantidad de Accidentes\")\n",
        "plt.title(\"Distribución de Condición Climática y Severidad\")\n",
        "\n",
        "# Ajustar la leyenda\n",
        "plt.legend(title=\"Severidad\")\n",
        "\n",
        "# Mostrar el gráfico\n",
        "plt.show()\n"
      ],
      "metadata": {
        "colab": {
          "base_uri": "https://localhost:8080/",
          "height": 630
        },
        "id": "m9c0-FavEmS-",
        "outputId": "e459ddb0-6029-4a1b-ad8c-a39a22991f1c"
      },
      "execution_count": 12,
      "outputs": [
        {
          "output_type": "stream",
          "name": "stderr",
          "text": []
        },
        {
          "output_type": "display_data",
          "data": {
            "text/plain": [
              "<Figure size 1200x600 with 1 Axes>"
            ],
            "image/png": "[encoded data removed]"
          },
          "metadata": {}
        }
      ]
    },
    {
      "cell_type": "markdown",
      "source": [
        "**Etapa 2: Procesamiento y Limpieza del Conjunto de Datos**\n"
      ],
      "metadata": {
        "id": "tzMcfXbtGIPz"
      }
    },
    {
      "cell_type": "code",
      "source": [
        "# Función para obtener un resumen de valores nulos en un DataFrame de PySpark\n",
        "def obten_nulos(particion):\n",
        "\n",
        "  print(f\"📊 Total de filas en la partición: {particion.count()}\")\n",
        "  print(f\"🗂️ Número de columnas en la partición: {len(particion.columns)}\")\n",
        "\n",
        "  info_nulos = {}\n",
        "  cols_nulos = {}\n",
        "  total_rows = particion.count()\n",
        "  registros_totales = particion.count()\n",
        "\n",
        "  # Contar valores nulos por columna y almacenarlos en un DataFrame temporal\n",
        "\n",
        "  cols_nulos = particion.select(\n",
        "    [sum(col(c).isNull().cast(\"int\")).alias(c) for c in particion.columns]\n",
        "    )\n",
        "\n",
        "  # Convertir los resultados en un diccionario para fácil acceso\n",
        "  info_nulos = {c: cols_nulos.select(c).collect()[0][0] for c in particion.columns}\n",
        "\n",
        "  # Filtrar solo las columnas con valores nulos y calcular el porcentaje de nulos\n",
        "  cols_nulos = {c: {\"count\": v, \"percent\": (v / total_rows) * 100} for c, v in info_nulos.items() if v > 0}\n",
        "\n",
        "  # Validar si existen columnas con valores nulos\n",
        "  if not cols_nulos:\n",
        "        print(\"✅ No existen valores nulos en la partición.\")\n",
        "        return\n",
        "\n",
        "  # Crear una lista con los resultados para construir un DataFrame\n",
        "  listado = [(key, value['count'], value['percent']) for key, value in cols_nulos.items()]\n",
        "\n",
        "  # Definir el esquema del DataFrame para almacenar el resumen de valores nulos\n",
        "  schema = StructType([\n",
        "    StructField(\"Columna\", StringType(), True),\n",
        "    StructField(\"Total de nulos\", IntegerType(), True),\n",
        "    StructField(\"Porcentaje\", DoubleType(), True)\n",
        "  ])\n",
        "\n",
        "  df_resumen_nulos = spark.createDataFrame(listado, schema=schema)\n",
        "\n",
        "  for col_name in [c for c, t in df_resumen_nulos.dtypes if t == \"double\"]:\n",
        "      df_resumen_nulos = df_resumen_nulos.withColumn(col_name, round(df_resumen_nulos[col_name], 2))\n",
        "\n",
        "  # Ordenar el DataFrame por el número de valores nulos en orden descendente y mostrarlo en consola\n",
        "  df_resumen_nulos.orderBy(col(\"Total de nulos\").desc()).show(truncate=False)"
      ],
      "metadata": {
        "id": "z3od6x_V7aP-"
      },
      "execution_count": 13,
      "outputs": []
    },
    {
      "cell_type": "code",
      "source": [
        "# Función para imputar valores faltantes en una partición del conjunto de datos\n",
        "def imputacion_valores(particion):\n",
        "    print(\"✅ Se realiza la imputación utilizando los siguientes valores:\\n\")\n",
        "\n",
        "    # Obtener las modas (valores más frecuentes) de las variables categóricas\n",
        "    moda_Weather = particion.groupBy(\"Weather_Condition\").count().orderBy(col(\"count\").desc()).first()[\"Weather_Condition\"]\n",
        "    moda_wub = particion.groupBy(\"Wind_Direction\").count().orderBy(col(\"count\").desc()).first()[\"Wind_Direction\"]\n",
        "    moda_Sunset = particion.groupBy(\"Sunrise_Sunset\").count().orderBy(col(\"count\").desc()).first()[\"Sunrise_Sunset\"]\n",
        "\n",
        "    # Obtener promedios de las variables numéricas para imputación\n",
        "    media_Temperature = particion.select(round(avg(col(\"Temperature(F)\")), 2).alias(\"avg_temp\")).collect()[0][0]\n",
        "    media_Humidity = particion.select(round(avg(col(\"Humidity(%)\")), 2).alias(\"avg_humidity\")).collect()[0][0]\n",
        "    media_Precipitation = particion.select(round(avg(col(\"Precipitation(in)\")), 2).alias(\"avg_precipitation\")).collect()[0][0]\n",
        "    media_Pressure = particion.select(round(avg(col(\"Pressure(in)\")), 2).alias(\"Pressure(in)\")).collect()[0][0]\n",
        "    media_Wind_Speed = particion.select(round(avg(col(\"Wind_Speed(mph)\")), 2).alias(\"Wind_Speed(mph)\")).collect()[0][0]\n",
        "\n",
        "\n",
        "\n",
        "    # Imprimir valores calculados correctamente\n",
        "    print(f\"🌡️ Temperatura promedio: {media_Temperature}\")\n",
        "    print(f\"💧 Humedad promedio: {media_Humidity}\")\n",
        "    print(f\"🌧️ Precipitación promedio: {media_Precipitation}\")\n",
        "    print(f\"🌬️ Velocidad del viento promedio: {media_Wind_Speed}\")\n",
        "\n",
        "    print(f\"☁️ Condición meteorológica más frecuente: {moda_Weather}\")\n",
        "    print(f\"🌬️ Dirección del viento más frecuente: {moda_wub}\")\n",
        "    print(f\"🌅 Hora de atardecer más frecuente: {moda_Sunset}\")\n",
        "\n",
        "    # Aplicar imputación de valores numéricos con la estrategia de promedio\n",
        "    imputer_num = Imputer(\n",
        "         inputCols=[\"Temperature(F)\", \"Humidity(%)\", \"Precipitation(in)\", \"Wind_Speed(mph)\",\"Pressure(in)\"],\n",
        "         outputCols=[\"Temperature(F)\", \"Humidity(%)\", \"Precipitation(in)\", \"Wind_Speed(mph)\",\"Pressure(in)\"]\n",
        "    ).setStrategy(\"mean\")\n",
        "\n",
        "    particion = imputer_num.fit(particion).transform(particion)\n",
        "\n",
        "    # Imputación de valores categóricos utilizando la moda\n",
        "    particion = particion.na.fill({\n",
        "        \"Weather_Condition\": moda_Weather,\n",
        "        \"Wind_Direction\": moda_wub,\n",
        "        \"Sunrise_Sunset\": moda_Sunset\n",
        "    })\n",
        "\n",
        "    print(\"\\n🔍 Se validan nuevamente los valores nulos para corroborar la imputación.\\n\")\n",
        "\n",
        "    obten_nulos(particion)\n",
        "\n",
        "    for col_name in [c for c, t in particion.dtypes if t == \"double\"]:\n",
        "      particion = particion.withColumn(col_name, round(particion[col_name], 1))\n",
        "\n",
        "    return particion"
      ],
      "metadata": {
        "id": "PS9ra8pQSM71"
      },
      "execution_count": 14,
      "outputs": []
    },
    {
      "cell_type": "markdown",
      "source": [
        "Se identifican las columnas con valores nulos y, posteriormente, se aplican estrategias para su tratamiento, como la imputación de datos faltantes."
      ],
      "metadata": {
        "id": "51lH0YdB-thu"
      }
    },
    {
      "cell_type": "code",
      "source": [
        "obten_nulos(df_muestra)"
      ],
      "metadata": {
        "id": "vc-aW7WY73U0",
        "colab": {
          "base_uri": "https://localhost:8080/"
        },
        "outputId": "b6204aa8-2074-459d-ad0f-7910dc758de6"
      },
      "execution_count": 15,
      "outputs": [
        {
          "output_type": "stream",
          "name": "stderr",
          "text": []
        },
        {
          "output_type": "stream",
          "name": "stdout",
          "text": [
            "📊 Total de filas en la partición: 140000\n",
            "🗂️ Número de columnas en la partición: 16\n"
          ]
        },
        {
          "output_type": "stream",
          "name": "stderr",
          "text": []
        },
        {
          "output_type": "stream",
          "name": "stdout",
          "text": [
            "+-----------------+--------------+----------+\n",
            "|Columna          |Total de nulos|Porcentaje|\n",
            "+-----------------+--------------+----------+\n",
            "|Precipitation(in)|78852         |56.32     |\n",
            "|Wind_Speed(mph)  |15836         |11.31     |\n",
            "|Humidity(%)      |952           |0.68      |\n",
            "|Temperature(F)   |629           |0.45      |\n",
            "|Wind_Direction   |312           |0.22      |\n",
            "|Sunrise_Sunset   |290           |0.21      |\n",
            "|Pressure(in)     |258           |0.18      |\n",
            "+-----------------+--------------+----------+\n",
            "\n"
          ]
        }
      ]
    },
    {
      "cell_type": "code",
      "source": [
        "muestra_imp = imputacion_valores(df_muestra)"
      ],
      "metadata": {
        "colab": {
          "base_uri": "https://localhost:8080/"
        },
        "id": "eMiT-fWeUziL",
        "outputId": "1bc5e8f1-2c99-4073-bb73-6e36c267bee1"
      },
      "execution_count": 16,
      "outputs": [
        {
          "output_type": "stream",
          "name": "stdout",
          "text": [
            "✅ Se realiza la imputación utilizando los siguientes valores:\n",
            "\n"
          ]
        },
        {
          "output_type": "stream",
          "name": "stderr",
          "text": []
        },
        {
          "output_type": "stream",
          "name": "stdout",
          "text": [
            "🌡️ Temperatura promedio: 65.22\n",
            "💧 Humedad promedio: 69.46\n",
            "🌧️ Precipitación promedio: 0.01\n",
            "🌬️ Velocidad del viento promedio: 8.15\n",
            "☁️ Condición meteorológica más frecuente: Cloudy\n",
            "🌬️ Dirección del viento más frecuente: Calm\n",
            "🌅 Hora de atardecer más frecuente: Day\n"
          ]
        },
        {
          "output_type": "stream",
          "name": "stderr",
          "text": []
        },
        {
          "output_type": "stream",
          "name": "stdout",
          "text": [
            "\n",
            "🔍 Se validan nuevamente los valores nulos para corroborar la imputación.\n",
            "\n"
          ]
        },
        {
          "output_type": "stream",
          "name": "stderr",
          "text": []
        },
        {
          "output_type": "stream",
          "name": "stdout",
          "text": [
            "📊 Total de filas en la partición: 140000\n",
            "🗂️ Número de columnas en la partición: 16\n"
          ]
        },
        {
          "output_type": "stream",
          "name": "stderr",
          "text": []
        },
        {
          "output_type": "stream",
          "name": "stdout",
          "text": [
            "✅ No existen valores nulos en la partición.\n"
          ]
        },
        {
          "output_type": "stream",
          "name": "stderr",
          "text": [
            "\r                                                                                \r"
          ]
        }
      ]
    },
    {
      "cell_type": "markdown",
      "source": [
        "Para detectar valores atípicos en las columnas numéricas seleccionadas, se utiliza el método del rango intercuartílico (IQR), que permite identificar aquellos valores que se desvían del rango esperado en cada columna."
      ],
      "metadata": {
        "id": "QeMgu_XF_rgc"
      }
    },
    {
      "cell_type": "code",
      "source": [
        "outliers = calcular_IQR(muestra_imp,['Precipitation(in)','Temperature(F)','Humidity(%)','Wind_Speed(mph)','Pressure(in)'])\n",
        "outliers"
      ],
      "metadata": {
        "id": "nL90UIDBxvvf",
        "colab": {
          "base_uri": "https://localhost:8080/",
          "height": 237
        },
        "outputId": "3f5e3e1c-4091-49dc-de6e-9440516e1df4"
      },
      "execution_count": 17,
      "outputs": [
        {
          "output_type": "stream",
          "name": "stderr",
          "text": []
        },
        {
          "output_type": "execute_result",
          "data": {
            "text/plain": [
              "                    IQR  Límite Inf.  Límite Sup.\n",
              "Columna                                          \n",
              "Precipitation(in)   0.0         0.00         0.00\n",
              "Temperature(F)     20.0        25.90       105.90\n",
              "Humidity(%)        30.0        11.00       131.00\n",
              "Wind_Speed(mph)     5.4        -3.10        18.50\n",
              "Pressure(in)        0.3        29.35        30.55"
            ],
            "text/html": [
              "<div>\n",
              "<style scoped>\n",
              "    .dataframe tbody tr th:only-of-type {\n",
              "        vertical-align: middle;\n",
              "    }\n",
              "\n",
              "    .dataframe tbody tr th {\n",
              "        vertical-align: top;\n",
              "    }\n",
              "\n",
              "    .dataframe thead th {\n",
              "        text-align: right;\n",
              "    }\n",
              "</style>\n",
              "<table border=\"1\" class=\"dataframe\">\n",
              "  <thead>\n",
              "    <tr style=\"text-align: right;\">\n",
              "      <th></th>\n",
              "      <th>IQR</th>\n",
              "      <th>Límite Inf.</th>\n",
              "      <th>Límite Sup.</th>\n",
              "    </tr>\n",
              "    <tr>\n",
              "      <th>Columna</th>\n",
              "      <th></th>\n",
              "      <th></th>\n",
              "      <th></th>\n",
              "    </tr>\n",
              "  </thead>\n",
              "  <tbody>\n",
              "    <tr>\n",
              "      <th>Precipitation(in)</th>\n",
              "      <td>0.0</td>\n",
              "      <td>0.00</td>\n",
              "      <td>0.00</td>\n",
              "    </tr>\n",
              "    <tr>\n",
              "      <th>Temperature(F)</th>\n",
              "      <td>20.0</td>\n",
              "      <td>25.90</td>\n",
              "      <td>105.90</td>\n",
              "    </tr>\n",
              "    <tr>\n",
              "      <th>Humidity(%)</th>\n",
              "      <td>30.0</td>\n",
              "      <td>11.00</td>\n",
              "      <td>131.00</td>\n",
              "    </tr>\n",
              "    <tr>\n",
              "      <th>Wind_Speed(mph)</th>\n",
              "      <td>5.4</td>\n",
              "      <td>-3.10</td>\n",
              "      <td>18.50</td>\n",
              "    </tr>\n",
              "    <tr>\n",
              "      <th>Pressure(in)</th>\n",
              "      <td>0.3</td>\n",
              "      <td>29.35</td>\n",
              "      <td>30.55</td>\n",
              "    </tr>\n",
              "  </tbody>\n",
              "</table>\n",
              "</div>"
            ]
          },
          "metadata": {},
          "execution_count": 17
        }
      ]
    },
    {
      "cell_type": "code",
      "source": [
        "for index, row in outliers.iterrows():\n",
        "    columna = index\n",
        "    limite_inf = row[\"Límite Inf.\"]\n",
        "    limite_sup = row[\"Límite Sup.\"]\n",
        "\n",
        "    columnas_IQR = f\"`{columna}`\"\n",
        "\n",
        "    # Aplicar una transformación a la columna para reemplazar valores atípicos\n",
        "    # Si un valor está fuera de los límites establecidos, se sustituye por el promedio de la columna\n",
        "    # En caso contrario, se conserva el valor original\n",
        "    muestra_imp = muestra_imp.withColumn(columna, when((col(columna) < limite_inf) | (col(columna) > limite_sup), muestra_imp.selectExpr(f\"avg({columnas_IQR})\").collect()[0][0])\n",
        "        .otherwise(col(columna))\n",
        "    )\n"
      ],
      "metadata": {
        "id": "Ik_Vc3ihHYhz",
        "colab": {
          "base_uri": "https://localhost:8080/"
        },
        "outputId": "6dc4e937-a514-4e53-c7ea-a0c50a4965c0"
      },
      "execution_count": 18,
      "outputs": [
        {
          "output_type": "stream",
          "name": "stderr",
          "text": []
        }
      ]
    },
    {
      "cell_type": "code",
      "source": [
        "# Se vuelve a calcular el rango intercuartílico (IQR) para verificar cambios\n",
        "outliers = calcular_IQR(muestra_imp,['Precipitation(in)','Temperature(F)','Humidity(%)','Wind_Speed(mph)','Pressure(in)'])\n",
        "outliers"
      ],
      "metadata": {
        "id": "h75AazMxJ8Li",
        "colab": {
          "base_uri": "https://localhost:8080/",
          "height": 237
        },
        "outputId": "db30608b-b03d-4db1-9b56-f58e7d0275c8"
      },
      "execution_count": 19,
      "outputs": [
        {
          "output_type": "stream",
          "name": "stderr",
          "text": []
        },
        {
          "output_type": "execute_result",
          "data": {
            "text/plain": [
              "                         IQR  Límite Inf.  Límite Sup.\n",
              "Columna                                               \n",
              "Precipitation(in)   0.000000     0.000000     0.000000\n",
              "Temperature(F)     19.900000    26.150000   105.750000\n",
              "Humidity(%)        30.000000    11.000000   131.000000\n",
              "Wind_Speed(mph)     4.200000    -1.300000    15.500000\n",
              "Pressure(in)        0.298681    29.353298    30.548021"
            ],
            "text/html": [
              "<div>\n",
              "<style scoped>\n",
              "    .dataframe tbody tr th:only-of-type {\n",
              "        vertical-align: middle;\n",
              "    }\n",
              "\n",
              "    .dataframe tbody tr th {\n",
              "        vertical-align: top;\n",
              "    }\n",
              "\n",
              "    .dataframe thead th {\n",
              "        text-align: right;\n",
              "    }\n",
              "</style>\n",
              "<table border=\"1\" class=\"dataframe\">\n",
              "  <thead>\n",
              "    <tr style=\"text-align: right;\">\n",
              "      <th></th>\n",
              "      <th>IQR</th>\n",
              "      <th>Límite Inf.</th>\n",
              "      <th>Límite Sup.</th>\n",
              "    </tr>\n",
              "    <tr>\n",
              "      <th>Columna</th>\n",
              "      <th></th>\n",
              "      <th></th>\n",
              "      <th></th>\n",
              "    </tr>\n",
              "  </thead>\n",
              "  <tbody>\n",
              "    <tr>\n",
              "      <th>Precipitation(in)</th>\n",
              "      <td>0.000000</td>\n",
              "      <td>0.000000</td>\n",
              "      <td>0.000000</td>\n",
              "    </tr>\n",
              "    <tr>\n",
              "      <th>Temperature(F)</th>\n",
              "      <td>19.900000</td>\n",
              "      <td>26.150000</td>\n",
              "      <td>105.750000</td>\n",
              "    </tr>\n",
              "    <tr>\n",
              "      <th>Humidity(%)</th>\n",
              "      <td>30.000000</td>\n",
              "      <td>11.000000</td>\n",
              "      <td>131.000000</td>\n",
              "    </tr>\n",
              "    <tr>\n",
              "      <th>Wind_Speed(mph)</th>\n",
              "      <td>4.200000</td>\n",
              "      <td>-1.300000</td>\n",
              "      <td>15.500000</td>\n",
              "    </tr>\n",
              "    <tr>\n",
              "      <th>Pressure(in)</th>\n",
              "      <td>0.298681</td>\n",
              "      <td>29.353298</td>\n",
              "      <td>30.548021</td>\n",
              "    </tr>\n",
              "  </tbody>\n",
              "</table>\n",
              "</div>"
            ]
          },
          "metadata": {},
          "execution_count": 19
        }
      ]
    },
    {
      "cell_type": "markdown",
      "source": [
        "Se imprime un resumen de las estadísticas descriptivas de los valores numéricos, proporcionando métricas clave para su verficacion."
      ],
      "metadata": {
        "id": "25KBMT1kBx07"
      }
    },
    {
      "cell_type": "code",
      "source": [
        "muestra_imp.describe().show()"
      ],
      "metadata": {
        "colab": {
          "base_uri": "https://localhost:8080/"
        },
        "id": "qKgWX__U5Rxk",
        "outputId": "88681723-d070-4b83-be0e-0f9e64beed3f"
      },
      "execution_count": 20,
      "outputs": [
        {
          "output_type": "stream",
          "name": "stderr",
          "text": []
        },
        {
          "output_type": "stream",
          "name": "stdout",
          "text": [
            "+-------+------------------+-----------------+------------------+------------------+------------------+--------------+------------------+--------------------+--------------+\n",
            "|summary|    Temperature(F)|Weather_Condition|          Severity|       Humidity(%)|      Pressure(in)|Wind_Direction|   Wind_Speed(mph)|   Precipitation(in)|Sunrise_Sunset|\n",
            "+-------+------------------+-----------------+------------------+------------------+------------------+--------------+------------------+--------------------+--------------+\n",
            "|  count|            140000|           140000|            140000|            140000|            140000|        140000|            140000|              140000|        140000|\n",
            "|   mean| 65.79846440924454|             NULL|               2.5| 69.63205350112243|29.937271497784945|          NULL| 7.859640492423623|1.688425306122476E-4|          NULL|\n",
            "| stddev|14.371687150802224|             NULL|0.5000017857238522|20.563527846658314|0.1915637539781627|          NULL|3.8651214279526704|9.026327370920543E-4|          NULL|\n",
            "|    min|              25.9|            Clear|                 2|              11.0|              29.4|          CALM|               0.0|                 0.0|           Day|\n",
            "|    max|             105.1|    Partly Cloudy|                 3|             100.0|              30.5|          West|              18.4|0.004994285714285663|         Night|\n",
            "+-------+------------------+-----------------+------------------+------------------+------------------+--------------+------------------+--------------------+--------------+\n",
            "\n"
          ]
        },
        {
          "output_type": "stream",
          "name": "stderr",
          "text": [
            "\r                                                                                \r"
          ]
        }
      ]
    },
    {
      "cell_type": "markdown",
      "source": [
        "Se crea el vector de características utilizando RFormula, que permite transformar los datos de manera estructurada para su uso en modelos de aprendizaje automático."
      ],
      "metadata": {
        "id": "_vC5PuM4Npf6"
      }
    },
    {
      "cell_type": "code",
      "source": [
        "# \"Severity ~ .\" indica que 'Severity' es la variable dependiente y el resto son predictoras\n",
        "rForm = RFormula(formula=\"Severity ~ .\")\n",
        "\n",
        "# Ajustar el modelo RFormula al DataFrame de entrada\n",
        "muestra_RF = rForm.fit(muestra_imp)\n",
        "\n",
        "# Transformar el DataFrame para preparar los datos según la fórmula aplicada\n",
        "muestra_preparadaRF = muestra_RF.transform(muestra_imp)\n",
        "\n",
        "# Mostrar las primeras 5 filas del DataFrame transformado\n",
        "muestra_preparadaRF.show(5)"
      ],
      "metadata": {
        "colab": {
          "base_uri": "https://localhost:8080/"
        },
        "id": "Qw7LDYSy70wi",
        "outputId": "b1e74efe-753d-49ce-cbd0-2aa2fabd08c0"
      },
      "execution_count": 21,
      "outputs": [
        {
          "output_type": "stream",
          "name": "stderr",
          "text": []
        },
        {
          "output_type": "stream",
          "name": "stdout",
          "text": [
            "+--------------+-----------------+--------+-----------+------------------+--------------+---------------+-----------------+--------+--------+-------+----------+-----+--------------+---------------+--------------+--------------------+-----+\n",
            "|Temperature(F)|Weather_Condition|Severity|Humidity(%)|      Pressure(in)|Wind_Direction|Wind_Speed(mph)|Precipitation(in)|Crossing|Junction|Railway|Roundabout| Stop|Sunrise_Sunset|Traffic_Calming|Traffic_Signal|            features|label|\n",
            "+--------------+-----------------+--------+-----------+------------------+--------------+---------------+-----------------+--------+--------+-------+----------+-----+--------------+---------------+--------------+--------------------+-----+\n",
            "|          49.0|           Cloudy|       2|      100.0|29.801319285714076|             E|           10.0|              0.0|   false|   false|  false|     false|false|           Day|          false|         false|(42,[0,2,7,8,32,3...|  2.0|\n",
            "|          63.0|           Cloudy|       2|       90.0|29.801319285714076|             E|            5.0|              0.0|   false|   false|  false|     false|false|         Night|          false|         false|(42,[0,2,7,8,32],...|  2.0|\n",
            "|          62.0|           Cloudy|       2|       86.0|29.801319285714076|           VAR|            3.0|              0.0|   false|   false|  false|     false|false|         Night|          false|          true|(42,[0,2,7,8,30,3...|  2.0|\n",
            "|          54.0|           Cloudy|       2|       80.0|29.801319285714076|          CALM|            0.0|              0.0|   false|    true|  false|     false|false|         Night|          false|         false|(42,[0,2,7,8,16,3...|  2.0|\n",
            "|          50.0|           Cloudy|       2|       74.0|29.801319285714076|          CALM|            0.0|              0.0|   false|   false|  false|     false|false|           Day|          false|         false|(42,[0,2,7,8,16,3...|  2.0|\n",
            "+--------------+-----------------+--------+-----------+------------------+--------------+---------------+-----------------+--------+--------+-------+----------+-----+--------------+---------------+--------------+--------------------+-----+\n",
            "only showing top 5 rows\n",
            "\n"
          ]
        },
        {
          "output_type": "stream",
          "name": "stderr",
          "text": [
            "\r                                                                                \r"
          ]
        }
      ]
    },
    {
      "cell_type": "code",
      "source": [
        "muestra_preparadaRF.printSchema()"
      ],
      "metadata": {
        "colab": {
          "base_uri": "https://localhost:8080/"
        },
        "id": "dtLo1VWMyaBt",
        "outputId": "3b1af850-0c5f-44c4-d865-6c575644a8c5"
      },
      "execution_count": 22,
      "outputs": [
        {
          "output_type": "stream",
          "name": "stdout",
          "text": [
            "root\n",
            " |-- Temperature(F): double (nullable = true)\n",
            " |-- Weather_Condition: string (nullable = false)\n",
            " |-- Severity: integer (nullable = true)\n",
            " |-- Humidity(%): double (nullable = true)\n",
            " |-- Pressure(in): double (nullable = true)\n",
            " |-- Wind_Direction: string (nullable = false)\n",
            " |-- Wind_Speed(mph): double (nullable = true)\n",
            " |-- Precipitation(in): double (nullable = true)\n",
            " |-- Crossing: boolean (nullable = true)\n",
            " |-- Junction: boolean (nullable = true)\n",
            " |-- Railway: boolean (nullable = true)\n",
            " |-- Roundabout: boolean (nullable = true)\n",
            " |-- Stop: boolean (nullable = true)\n",
            " |-- Sunrise_Sunset: string (nullable = false)\n",
            " |-- Traffic_Calming: boolean (nullable = true)\n",
            " |-- Traffic_Signal: boolean (nullable = true)\n",
            " |-- features: vector (nullable = true)\n",
            " |-- label: double (nullable = true)\n",
            "\n"
          ]
        }
      ]
    },
    {
      "cell_type": "markdown",
      "source": [
        "# **2 - Construcción Train – Test**\n"
      ],
      "metadata": {
        "id": "bkIQuXvbbTv_"
      }
    },
    {
      "cell_type": "markdown",
      "source": [
        "Se implementarán dos métodos para la preparación del conjunto de entrenamiento y prueba:\n",
        "* **Muestreo aleatorio simple**: Se realizará una división 80-20, asignando el 80% de los datos al entrenamiento y el 20% a la prueba.\n",
        "* **Muestreo estratificado**: Se organizarán los datos en función de la severidad y las condiciones climáticas, asegurando una representación equilibrada en ambos conjuntos.\n"
      ],
      "metadata": {
        "id": "tsw-urJOIlbz"
      }
    },
    {
      "cell_type": "code",
      "source": [
        "print(\"Número de registros: \" + str(muestra_preparadaRF.count()))"
      ],
      "metadata": {
        "colab": {
          "base_uri": "https://localhost:8080/"
        },
        "id": "ny_j4HIPIeQV",
        "outputId": "161c5bb3-4af9-4d15-9dff-0e7617289ede"
      },
      "execution_count": 23,
      "outputs": [
        {
          "output_type": "stream",
          "name": "stderr",
          "text": []
        },
        {
          "output_type": "stream",
          "name": "stdout",
          "text": [
            "Número de registros: 140000\n"
          ]
        },
        {
          "output_type": "stream",
          "name": "stderr",
          "text": [
            "\r                                                                                \r"
          ]
        }
      ]
    },
    {
      "cell_type": "markdown",
      "source": [
        "**Muestreo aleatorio simple**:\n",
        "\n",
        "Cuando Spark hace operaciones como joins, groupBy o agregaciones, necesita mover y organizar los datos entre diferentes nodos. A esto se le llama shuffle, y el número de particiones define cómo se distribuyen esos datos.\n",
        "- Si hay pocas particiones, cada tarea tendrá muchos datos, lo que puede hacer que el proceso sea más lento.\n",
        "- Si hay demasiadas particiones, se crean muchas pequeñas tareas, lo que puede generar más carga y reducir la eficiencia\n"
      ],
      "metadata": {
        "id": "n-fCUyDyJC_J"
      }
    },
    {
      "cell_type": "code",
      "source": [
        "spark.conf.set(\"spark.sql.shuffle.partitions\", \"8\")\n",
        "train_data_aleatorio ,test_data_aleatorio = muestra_preparadaRF.randomSplit([0.7,0.3], seed = 42)\n",
        "\n",
        "# Contar instancias en cada conjunto\n",
        "train_count = train_data_aleatorio.count()\n",
        "test_count = test_data_aleatorio.count()\n",
        "total_count = train_count + test_count\n",
        "\n",
        "# Calcular porcentajes\n",
        "train_percentage = (train_count / total_count) * 100\n",
        "test_percentage = (test_count / total_count) * 100\n",
        "\n",
        "# Imprimir resultados con porcentaje\n",
        "print(f\"\"\"📊 Resumen de la división de datos\n",
        "🔹 Conjunto de entrenamiento: {train_count:,} instancias ({train_percentage:.2f}%)\n",
        "🔹 Conjunto de prueba: {test_count:,} instancias ({test_percentage:.2f}%)\"\"\")\n",
        "\n"
      ],
      "metadata": {
        "colab": {
          "base_uri": "https://localhost:8080/"
        },
        "id": "w2KvFlUVKxMy",
        "outputId": "e46b7c38-f4ae-4252-dca0-430f853a3492"
      },
      "execution_count": 24,
      "outputs": [
        {
          "output_type": "stream",
          "name": "stderr",
          "text": []
        },
        {
          "output_type": "stream",
          "name": "stdout",
          "text": [
            "📊 Resumen de la división de datos\n",
            "🔹 Conjunto de entrenamiento: 98,333 instancias (70.24%)\n",
            "🔹 Conjunto de prueba: 41,667 instancias (29.76%)\n"
          ]
        },
        {
          "output_type": "stream",
          "name": "stderr",
          "text": [
            "\r                                                                                \r"
          ]
        }
      ]
    },
    {
      "cell_type": "markdown",
      "source": [
        "**Muestreo estratificado**"
      ],
      "metadata": {
        "id": "rZOaJ7JQJ9ZM"
      }
    },
    {
      "cell_type": "markdown",
      "source": [
        " El muestreo estratificado es una técnica de selección de datos donde se agrupan las observaciones en estratos antes de extraer una muestra representativa de cada uno, siendo util para:\n",
        "\n",
        "✅**Garantiza representatividad**: Cada condición climática y nivel de severidad tendrá una proporción similar en la muestra.\n",
        "\n",
        "✅**Evita sesgos**: Permite que todas las categorías del dataset estén bien representadas.\n",
        "\n",
        "✅**Mejora la calidad del modelo**: Si las clases están desbalanceadas, esto ayuda a equilibrarlas antes del entrenamiento.\n"
      ],
      "metadata": {
        "id": "W1meXAfW02eH"
      }
    },
    {
      "cell_type": "code",
      "source": [
        "from pyspark.sql.functions import concat, lit\n",
        "muestra_preparadaRF_stratum = muestra_preparadaRF.withColumn(\"stratum\", concat(muestra_preparadaRF[\"Weather_Condition\"], lit(\"_\"), muestra_preparadaRF[\"Severity\"]))\n",
        "muestra_preparadaRF_stratum.show(5)"
      ],
      "metadata": {
        "colab": {
          "base_uri": "https://localhost:8080/"
        },
        "id": "iKFPJRIVLU7G",
        "outputId": "3ec7c6e1-eb9c-4d04-dc47-d66fd2dda16f"
      },
      "execution_count": 25,
      "outputs": [
        {
          "output_type": "stream",
          "name": "stderr",
          "text": []
        },
        {
          "output_type": "stream",
          "name": "stdout",
          "text": [
            "+--------------+-----------------+--------+-----------+------------------+--------------+---------------+-----------------+--------+--------+-------+----------+-----+--------------+---------------+--------------+--------------------+-----+-------+\n",
            "|Temperature(F)|Weather_Condition|Severity|Humidity(%)|      Pressure(in)|Wind_Direction|Wind_Speed(mph)|Precipitation(in)|Crossing|Junction|Railway|Roundabout| Stop|Sunrise_Sunset|Traffic_Calming|Traffic_Signal|            features|label|stratum|\n",
            "+--------------+-----------------+--------+-----------+------------------+--------------+---------------+-----------------+--------+--------+-------+----------+-----+--------------+---------------+--------------+--------------------+-----+-------+\n",
            "|          87.0|             Fair|       2|       35.0|29.801319285714076|           SSE|            8.0|              0.0|   false|   false|  false|     false|false|           Day|          false|         false|(42,[0,3,7,8,17,3...|  2.0| Fair_2|\n",
            "|          94.0|             Fair|       2|       31.0|29.801319285714076|           SSE|            9.0|              0.0|   false|   false|  false|     false| true|           Day|          false|         false|(42,[0,3,7,8,17,3...|  2.0| Fair_2|\n",
            "|          85.0|             Fair|       2|       44.0|29.801319285714076|             S|           10.0|              0.0|   false|   false|  false|     false|false|           Day|          false|         false|(42,[0,3,7,8,27,3...|  2.0| Fair_2|\n",
            "|          85.0|             Fair|       2|       44.0|29.801319285714076|             S|           10.0|              0.0|   false|   false|  false|     false|false|           Day|          false|         false|(42,[0,3,7,8,27,3...|  2.0| Fair_2|\n",
            "|          85.0|             Fair|       2|       44.0|29.801319285714076|             S|           10.0|              0.0|   false|   false|  false|     false|false|           Day|          false|         false|(42,[0,3,7,8,27,3...|  2.0| Fair_2|\n",
            "+--------------+-----------------+--------+-----------+------------------+--------------+---------------+-----------------+--------+--------+-------+----------+-----+--------------+---------------+--------------+--------------------+-----+-------+\n",
            "only showing top 5 rows\n",
            "\n"
          ]
        },
        {
          "output_type": "stream",
          "name": "stderr",
          "text": [
            "\r                                                                                \r"
          ]
        }
      ]
    },
    {
      "cell_type": "code",
      "source": [
        "muestra_preparadaRF.explain()"
      ],
      "metadata": {
        "collapsed": true,
        "id": "E9y9ddEPA2DR",
        "colab": {
          "base_uri": "https://localhost:8080/"
        },
        "outputId": "784af5e4-4096-43fa-ced2-21fc14d384a8"
      },
      "execution_count": 26,
      "outputs": [
        {
          "output_type": "stream",
          "name": "stdout",
          "text": [
            "== Physical Plan ==\n",
            "AdaptiveSparkPlan isFinalPlan=false\n",
            "+- Project [Temperature(F)#3615, Weather_Condition#1908, Severity#272, Humidity(%)#3683, Pressure(in)#3819, Wind_Direction#1909, Wind_Speed(mph)#3751, Precipitation(in)#3547, Crossing#278, Junction#279, Railway#280, Roundabout#281, Stop#282, Sunrise_Sunset#1910, Traffic_Calming#284, Traffic_Signal#285, features#5986 AS features#6010, cast(Severity#272 as double) AS label#6051]\n",
            "   +- Project [Temperature(F)#3615, Weather_Condition#1908, Severity#272, Humidity(%)#3683, Pressure(in)#3819, Wind_Direction#1909, Wind_Speed(mph)#3751, Precipitation(in)#3547, Crossing#278, Junction#279, Railway#280, Roundabout#281, Stop#282, Sunrise_Sunset#1910, Traffic_Calming#284, Traffic_Signal#285, UDF(struct(Temperature(F), Temperature(F)#3615, onehot_140ecf5feed7, UDF(stridx_662d0e985070#5875, 0), Humidity(%), Humidity(%)#3683, Pressure(in), Pressure(in)#3819, onehot_c70bf8f59430, UDF(stridx_0f41f2b68ebb#5900, 1), Wind_Speed(mph), Wind_Speed(mph)#3751, Precipitation(in), Precipitation(in)#3547, Crossing_double_RFormula_ca3ea85542ae, cast(Crossing#278 as double), Junction_double_RFormula_ca3ea85542ae, cast(Junction#279 as double), Railway_double_RFormula_ca3ea85542ae, cast(Railway#280 as double), Roundabout_double_RFormula_ca3ea85542ae, cast(Roundabout#281 as double), Stop_double_RFormula_ca3ea85542ae, cast(Stop#282 as double), ... 6 more fields)) AS features#5986]\n",
            "      +- Project [Temperature(F)#3615, Weather_Condition#1908, Severity#272, Humidity(%)#3683, Pressure(in)#3819, Wind_Direction#1909, Wind_Speed(mph)#3751, Precipitation(in)#3547, Crossing#278, Junction#279, Railway#280, Roundabout#281, Stop#282, Sunrise_Sunset#1910, Traffic_Calming#284, Traffic_Signal#285, stridx_a753834d12ac#5851, stridx_662d0e985070#5875, UDF(Wind_Direction#1909) AS stridx_0f41f2b68ebb#5900]\n",
            "         +- Project [Temperature(F)#3615, Weather_Condition#1908, Severity#272, Humidity(%)#3683, Pressure(in)#3819, Wind_Direction#1909, Wind_Speed(mph)#3751, Precipitation(in)#3547, Crossing#278, Junction#279, Railway#280, Roundabout#281, Stop#282, Sunrise_Sunset#1910, Traffic_Calming#284, Traffic_Signal#285, stridx_a753834d12ac#5851, UDF(Weather_Condition#1908) AS stridx_662d0e985070#5875]\n",
            "            +- Project [CASE WHEN ((Temperature(F)#2831 < 25.899999999999988) OR (Temperature(F)#2831 > 105.90000000000002)) THEN 65.2172271428571 ELSE Temperature(F)#2831 END AS Temperature(F)#3615, Weather_Condition#1908, Severity#272, CASE WHEN ((Humidity(%)#2848 < 11.0) OR (Humidity(%)#2848 > 131.0)) THEN 69.46141428571428 ELSE Humidity(%)#2848 END AS Humidity(%)#3683, CASE WHEN ((Pressure(in)#2865 < 29.35) OR (Pressure(in)#2865 > 30.550000000000004)) THEN 29.801319285714076 ELSE Pressure(in)#2865 END AS Pressure(in)#3819, Wind_Direction#1909, CASE WHEN ((Wind_Speed(mph)#2882 < -3.1000000000000014) OR (Wind_Speed(mph)#2882 > 18.5)) THEN 8.141489285714455 ELSE Wind_Speed(mph)#2882 END AS Wind_Speed(mph)#3751, CASE WHEN ((Precipitation(in)#2899 < 0.0) OR (Precipitation(in)#2899 > 0.0)) THEN 0.004994285714285663 ELSE Precipitation(in)#2899 END AS Precipitation(in)#3547, Crossing#278, Junction#279, Railway#280, Roundabout#281, Stop#282, Sunrise_Sunset#1910, Traffic_Calming#284, Traffic_Signal#285, UDF(Sunrise_Sunset#1910) AS stridx_a753834d12ac#5851]\n",
            "               +- Union\n",
            "                  :- Project [CASE WHEN isnull(Temperature(F)#270) THEN 65.2 WHEN (Temperature(F)#270 = NaN) THEN 65.2 ELSE round(Temperature(F)#270, 1) END AS Temperature(F)#2831, coalesce(Weather_Condition#271, Cloudy) AS Weather_Condition#1908, Severity#272, CASE WHEN isnull(Humidity(%)#273) THEN 69.5 WHEN (Humidity(%)#273 = NaN) THEN 69.5 ELSE round(Humidity(%)#273, 1) END AS Humidity(%)#2848, CASE WHEN isnull(Pressure(in)#274) THEN 29.8 WHEN (Pressure(in)#274 = NaN) THEN 29.8 ELSE round(Pressure(in)#274, 1) END AS Pressure(in)#2865, coalesce(Wind_Direction#275, Calm) AS Wind_Direction#1909, CASE WHEN isnull(Wind_Speed(mph)#276) THEN 8.1 WHEN (Wind_Speed(mph)#276 = NaN) THEN 8.1 ELSE round(Wind_Speed(mph)#276, 1) END AS Wind_Speed(mph)#2882, CASE WHEN isnull(Precipitation(in)#277) THEN 0.0 WHEN (Precipitation(in)#277 = NaN) THEN 0.0 ELSE round(Precipitation(in)#277, 1) END AS Precipitation(in)#2899, Crossing#278, Junction#279, Railway#280, Roundabout#281, Stop#282, coalesce(Sunrise_Sunset#283, Day) AS Sunrise_Sunset#1910, Traffic_Calming#284, Traffic_Signal#285]\n",
            "                  :  +- FlatMapGroupsInPandas [Weather_Condition#45], <lambda>(Temperature(F)#37, Weather_Condition#45, Severity#19, Humidity(%)#39, Pressure(in)#40, Wind_Direction#42, Wind_Speed(mph)#43, Precipitation(in)#44, Crossing#48, Junction#50, Railway#52, Roundabout#53, Stop#55, Sunrise_Sunset#59, Traffic_Calming#56, Traffic_Signal#57)#269, [Temperature(F)#270, Weather_Condition#271, Severity#272, Humidity(%)#273, Pressure(in)#274, Wind_Direction#275, Wind_Speed(mph)#276, Precipitation(in)#277, Crossing#278, Junction#279, Railway#280, Roundabout#281, Stop#282, Sunrise_Sunset#283, Traffic_Calming#284, Traffic_Signal#285]\n",
            "                  :     +- Sort [Weather_Condition#45 ASC NULLS FIRST], false, 0\n",
            "                  :        +- Exchange hashpartitioning(Weather_Condition#45, 8), ENSURE_REQUIREMENTS, [plan_id=21822]\n",
            "                  :           +- Project [Weather_Condition#45, Temperature(F)#37, Weather_Condition#45, Severity#19, Humidity(%)#39, Pressure(in)#40, Wind_Direction#42, Wind_Speed(mph)#43, Precipitation(in)#44, Crossing#48, Junction#50, Railway#52, Roundabout#53, Stop#55, Sunrise_Sunset#59, Traffic_Calming#56, Traffic_Signal#57]\n",
            "                  :              +- Filter ((isnotnull(Severity#19) AND (Severity#19 = 2)) AND Weather_Condition#45 IN (Fair,Clear,Mostly Cloudy,Cloudy,Partly Cloudy,Overcast,Light Rain))\n",
            "                  :                 +- FileScan csv [Severity#19,Temperature(F)#37,Humidity(%)#39,Pressure(in)#40,Wind_Direction#42,Wind_Speed(mph)#43,Precipitation(in)#44,Weather_Condition#45,Crossing#48,Junction#50,Railway#52,Roundabout#53,Stop#55,Traffic_Calming#56,Traffic_Signal#57,Sunrise_Sunset#59] Batched: false, DataFilters: [isnotnull(Severity#19), (Severity#19 = 2), Weather_Condition#45 IN (Fair,Clear,Mostly Cloudy,Clo..., Format: CSV, Location: InMemoryFileIndex(1 paths)[file:/home/jarcos/.cache/kagglehub/datasets/sobhanmoosavi/us-accidents..., PartitionFilters: [], PushedFilters: [IsNotNull(Severity), EqualTo(Severity,2), In(Weather_Condition, [Clear,Cloudy,Fair,Light Rain,Mo..., ReadSchema: struct<Severity:int,Temperature(F):double,Humidity(%):double,Pressure(in):double,Wind_Direction:s...\n",
            "                  +- Project [CASE WHEN isnull(Temperature(F)#319) THEN 65.2 WHEN (Temperature(F)#319 = NaN) THEN 65.2 ELSE round(Temperature(F)#319, 1) END AS Temperature(F)#6531, coalesce(Weather_Condition#320, Cloudy) AS Weather_Condition#6532, Severity#321, CASE WHEN isnull(Humidity(%)#322) THEN 69.5 WHEN (Humidity(%)#322 = NaN) THEN 69.5 ELSE round(Humidity(%)#322, 1) END AS Humidity(%)#6533, CASE WHEN isnull(Pressure(in)#323) THEN 29.8 WHEN (Pressure(in)#323 = NaN) THEN 29.8 ELSE round(Pressure(in)#323, 1) END AS Pressure(in)#6534, coalesce(Wind_Direction#324, Calm) AS Wind_Direction#6535, CASE WHEN isnull(Wind_Speed(mph)#325) THEN 8.1 WHEN (Wind_Speed(mph)#325 = NaN) THEN 8.1 ELSE round(Wind_Speed(mph)#325, 1) END AS Wind_Speed(mph)#6536, CASE WHEN isnull(Precipitation(in)#326) THEN 0.0 WHEN (Precipitation(in)#326 = NaN) THEN 0.0 ELSE round(Precipitation(in)#326, 1) END AS Precipitation(in)#6537, Crossing#327, Junction#328, Railway#329, Roundabout#330, Stop#331, coalesce(Sunrise_Sunset#332, Day) AS Sunrise_Sunset#6538, Traffic_Calming#333, Traffic_Signal#334]\n",
            "                     +- FlatMapGroupsInPandas [Weather_Condition#379], <lambda>(Temperature(F)#371, Weather_Condition#379, Severity#353, Humidity(%)#373, Pressure(in)#374, Wind_Direction#376, Wind_Speed(mph)#377, Precipitation(in)#378, Crossing#382, Junction#384, Railway#386, Roundabout#387, Stop#389, Sunrise_Sunset#393, Traffic_Calming#390, Traffic_Signal#391)#318, [Temperature(F)#319, Weather_Condition#320, Severity#321, Humidity(%)#322, Pressure(in)#323, Wind_Direction#324, Wind_Speed(mph)#325, Precipitation(in)#326, Crossing#327, Junction#328, Railway#329, Roundabout#330, Stop#331, Sunrise_Sunset#332, Traffic_Calming#333, Traffic_Signal#334]\n",
            "                        +- Sort [Weather_Condition#379 ASC NULLS FIRST], false, 0\n",
            "                           +- Exchange hashpartitioning(Weather_Condition#379, 8), ENSURE_REQUIREMENTS, [plan_id=21826]\n",
            "                              +- Project [Weather_Condition#379, Temperature(F)#371, Weather_Condition#379, Severity#353, Humidity(%)#373, Pressure(in)#374, Wind_Direction#376, Wind_Speed(mph)#377, Precipitation(in)#378, Crossing#382, Junction#384, Railway#386, Roundabout#387, Stop#389, Sunrise_Sunset#393, Traffic_Calming#390, Traffic_Signal#391]\n",
            "                                 +- Filter ((isnotnull(Severity#353) AND (Severity#353 = 3)) AND Weather_Condition#379 IN (Fair,Clear,Mostly Cloudy,Cloudy,Partly Cloudy,Overcast,Light Rain))\n",
            "                                    +- FileScan csv [Severity#353,Temperature(F)#371,Humidity(%)#373,Pressure(in)#374,Wind_Direction#376,Wind_Speed(mph)#377,Precipitation(in)#378,Weather_Condition#379,Crossing#382,Junction#384,Railway#386,Roundabout#387,Stop#389,Traffic_Calming#390,Traffic_Signal#391,Sunrise_Sunset#393] Batched: false, DataFilters: [isnotnull(Severity#353), (Severity#353 = 3), Weather_Condition#379 IN (Fair,Clear,Mostly Cloudy,..., Format: CSV, Location: InMemoryFileIndex(1 paths)[file:/home/jarcos/.cache/kagglehub/datasets/sobhanmoosavi/us-accidents..., PartitionFilters: [], PushedFilters: [IsNotNull(Severity), EqualTo(Severity,3), In(Weather_Condition, [Clear,Cloudy,Fair,Light Rain,Mo..., ReadSchema: struct<Severity:int,Temperature(F):double,Humidity(%):double,Pressure(in):double,Wind_Direction:s...\n",
            "\n",
            "\n"
          ]
        }
      ]
    },
    {
      "cell_type": "code",
      "source": [
        "stratum_counts_weather = muestra_preparadaRF_stratum.groupBy(\"Weather_Condition\").count().collect()\n",
        "stratum_counts_severity = muestra_preparadaRF_stratum.groupBy(\"Severity\").count().collect()\n",
        "\n",
        "stratum_counts_combinado_a = muestra_preparadaRF_stratum.groupBy(\"Weather_Condition\",\"Severity\").count().collect()\n",
        "stratum_counts_combinado = muestra_preparadaRF_stratum.groupBy(\"stratum\").count().collect()\n",
        "\n",
        "print(stratum_counts_weather)\n",
        "print(stratum_counts_severity)\n",
        "\n",
        "print(stratum_counts_combinado_a)\n",
        "print(stratum_counts_combinado)"
      ],
      "metadata": {
        "colab": {
          "base_uri": "https://localhost:8080/"
        },
        "id": "Cf9wjekBF5a2",
        "outputId": "ff9964e7-e0e1-425f-c408-95df4706c8e5"
      },
      "execution_count": 27,
      "outputs": [
        {
          "output_type": "stream",
          "name": "stderr",
          "text": []
        },
        {
          "output_type": "stream",
          "name": "stdout",
          "text": [
            "[Row(Weather_Condition='Fair', count=20000), Row(Weather_Condition='Light Rain', count=20000), Row(Weather_Condition='Cloudy', count=20000), Row(Weather_Condition='Overcast', count=20000), Row(Weather_Condition='Clear', count=20000), Row(Weather_Condition='Partly Cloudy', count=20000), Row(Weather_Condition='Mostly Cloudy', count=20000)]\n",
            "[Row(Severity=2, count=70000), Row(Severity=3, count=70000)]\n",
            "[Row(Weather_Condition='Fair', Severity=2, count=10000), Row(Weather_Condition='Light Rain', Severity=2, count=10000), Row(Weather_Condition='Overcast', Severity=2, count=10000), Row(Weather_Condition='Cloudy', Severity=2, count=10000), Row(Weather_Condition='Clear', Severity=2, count=10000), Row(Weather_Condition='Partly Cloudy', Severity=2, count=10000), Row(Weather_Condition='Mostly Cloudy', Severity=2, count=10000), Row(Weather_Condition='Fair', Severity=3, count=10000), Row(Weather_Condition='Light Rain', Severity=3, count=10000), Row(Weather_Condition='Overcast', Severity=3, count=10000), Row(Weather_Condition='Cloudy', Severity=3, count=10000), Row(Weather_Condition='Partly Cloudy', Severity=3, count=10000), Row(Weather_Condition='Clear', Severity=3, count=10000), Row(Weather_Condition='Mostly Cloudy', Severity=3, count=10000)]\n",
            "[Row(stratum='Fair_2', count=10000), Row(stratum='Light Rain_2', count=10000), Row(stratum='Overcast_2', count=10000), Row(stratum='Cloudy_2', count=10000), Row(stratum='Partly Cloudy_2', count=10000), Row(stratum='Clear_2', count=10000), Row(stratum='Mostly Cloudy_2', count=10000), Row(stratum='Light Rain_3', count=10000), Row(stratum='Fair_3', count=10000), Row(stratum='Overcast_3', count=10000), Row(stratum='Cloudy_3', count=10000), Row(stratum='Partly Cloudy_3', count=10000), Row(stratum='Clear_3', count=10000), Row(stratum='Mostly Cloudy_3', count=10000)]\n"
          ]
        },
        {
          "output_type": "stream",
          "name": "stderr",
          "text": [
            "\r                                                                                \r"
          ]
        }
      ]
    },
    {
      "cell_type": "markdown",
      "source": [
        "📊 Informe de Distribución de Datos\n",
        "\n",
        "🔹 Distribución de las Condiciones Climáticas\n",
        "\n",
        "Cada condición climática tiene 20,000 registros, lo que indica una distribución uniforme en el conjunto de datos. No hay predominancia de ninguna categoría, asegurando una representación equilibrada.\n",
        "\n",
        "🔹 Gravedad de los Eventos\n",
        "\n",
        "Los eventos se dividen en dos niveles de severidad (2 y 3), con 70,000 registros asignados a cada uno. Esto muestra un balance entre ambas categorías, evitando sesgos en la severidad de los casos.\n",
        "\n",
        "🔹 Relación entre Clima y Severidad\n",
        "\n",
        "Cada condición climática se asocia con 10,000 registros de severidad 2 y 10,000 registros de severidad 3. Este patrón sugiere que la distribución entre condiciones climáticas y severidad es equilibrada, sin tendencias hacia un nivel de severidad específico.\n",
        "\n",
        "🔹 Estratificación del Clima y Severidad\n",
        "\n",
        "Los estratos creados mediante la combinación de Condición Climática y Severidad (Weather_Condition + Severity) tienen 10,000 registros cada uno, asegurando una distribución simétrica dentro del conjunto de datos.\n"
      ],
      "metadata": {
        "id": "tNZO_V0w1347"
      }
    },
    {
      "cell_type": "code",
      "source": [
        "from pyspark.sql.functions import col, count\n",
        "\n",
        "# Calcular el total de registros\n",
        "total_count = muestra_preparadaRF_stratum.count()\n",
        "\n",
        "# Calcular la fracción de muestreo (por ejemplo, para obtener un 30% del total)\n",
        "stratum_fractions_df = muestra_preparadaRF_stratum.groupBy(\"stratum\") \\\n",
        "    .agg((count(\"*\") / total_count * 0.3).alias(\"fraction\"))\n",
        "\n",
        "# Convertir el DataFrame a un diccionario para sampleBy()\n",
        "stratum_fractions = {row[\"stratum\"]: row[\"fraction\"] for row in stratum_fractions_df.collect()}"
      ],
      "metadata": {
        "colab": {
          "base_uri": "https://localhost:8080/"
        },
        "id": "lgdpwzT0Ywv2",
        "outputId": "080c61e1-75b6-4893-91a3-b11d13b1f345"
      },
      "execution_count": 28,
      "outputs": [
        {
          "output_type": "stream",
          "name": "stderr",
          "text": []
        }
      ]
    },
    {
      "cell_type": "code",
      "source": [
        "test_data_stratum = muestra_preparadaRF_stratum.sample(fraction=0.3, seed=42)\n",
        "train_data_stratum = muestra_preparadaRF_stratum.exceptAll(test_data_stratum)\n",
        "\n",
        "\n",
        "# Contar instancias en cada conjunto\n",
        "train_count = test_data_stratum.count()\n",
        "test_count = train_data_stratum.count()\n",
        "total_count = train_count + test_count\n",
        "\n",
        "# Calcular porcentajes\n",
        "train_percentage = (train_count / total_count) * 100\n",
        "test_percentage = (test_count / total_count) * 100\n",
        "\n",
        "\n",
        "# Imprimir resultados con porcentaje\n",
        "print(f\"\"\"📊 Resumen de la división de datos\n",
        "🔹 Conjunto de entrenamiento: {train_count:,} instancias ({train_percentage:.2f}%)\n",
        "🔹 Conjunto de prueba: {test_count:,} instancias ({test_percentage:.2f}%)\"\"\")\n",
        "\n",
        "\n",
        "# Mostrar registros de cada conjunto\n",
        "train_data_stratum.show(5)\n",
        "test_data_stratum.show(5)\n"
      ],
      "metadata": {
        "colab": {
          "base_uri": "https://localhost:8080/"
        },
        "id": "VaFpObXzcfeA",
        "outputId": "5166f7b6-edad-4698-b97e-a471330d4aa0"
      },
      "execution_count": 29,
      "outputs": [
        {
          "output_type": "stream",
          "name": "stderr",
          "text": []
        },
        {
          "output_type": "stream",
          "name": "stdout",
          "text": [
            "📊 Resumen de la división de datos\n",
            "🔹 Conjunto de entrenamiento: 41,980 instancias (29.99%)\n",
            "🔹 Conjunto de prueba: 98,019 instancias (70.01%)\n"
          ]
        },
        {
          "output_type": "stream",
          "name": "stderr",
          "text": []
        },
        {
          "output_type": "stream",
          "name": "stdout",
          "text": [
            "+--------------+-----------------+--------+-----------+------------------+--------------+---------------+-----------------+--------+--------+-------+----------+-----+--------------+---------------+--------------+--------------------+-----+-------+\n",
            "|Temperature(F)|Weather_Condition|Severity|Humidity(%)|      Pressure(in)|Wind_Direction|Wind_Speed(mph)|Precipitation(in)|Crossing|Junction|Railway|Roundabout| Stop|Sunrise_Sunset|Traffic_Calming|Traffic_Signal|            features|label|stratum|\n",
            "+--------------+-----------------+--------+-----------+------------------+--------------+---------------+-----------------+--------+--------+-------+----------+-----+--------------+---------------+--------------+--------------------+-----+-------+\n",
            "|          89.0|             Fair|       2|       24.0|29.801319285714076|           SSE|           14.0|              0.0|   false|   false|  false|     false|false|           Day|          false|         false|(42,[0,3,7,8,17,3...|  2.0| Fair_2|\n",
            "|          92.0|             Fair|       2|       30.0|29.801319285714076|           WNW|           12.0|              0.0|   false|   false|  false|     false|false|           Day|          false|         false|(42,[0,3,7,8,11,3...|  2.0| Fair_2|\n",
            "|          88.0|             Fair|       2|       36.0|29.801319285714076|            NW|           14.0|              0.0|   false|   false|  false|     false|false|           Day|          false|         false|(42,[0,3,7,8,18,3...|  2.0| Fair_2|\n",
            "|          88.0|             Fair|       2|       36.0|29.801319285714076|            NW|           14.0|              0.0|   false|   false|  false|     false|false|           Day|          false|         false|(42,[0,3,7,8,18,3...|  2.0| Fair_2|\n",
            "|          94.0|             Fair|       2|       32.0|29.801319285714076|             S|           14.0|              0.0|    true|   false|  false|     false| true|           Day|          false|         false|(42,[0,3,7,8,27,3...|  2.0| Fair_2|\n",
            "+--------------+-----------------+--------+-----------+------------------+--------------+---------------+-----------------+--------+--------+-------+----------+-----+--------------+---------------+--------------+--------------------+-----+-------+\n",
            "only showing top 5 rows\n",
            "\n"
          ]
        },
        {
          "output_type": "stream",
          "name": "stderr",
          "text": []
        },
        {
          "output_type": "stream",
          "name": "stdout",
          "text": [
            "+--------------+-----------------+--------+-----------+------------------+--------------+---------------+-----------------+--------+--------+-------+----------+-----+--------------+---------------+--------------+--------------------+-----+-------+\n",
            "|Temperature(F)|Weather_Condition|Severity|Humidity(%)|      Pressure(in)|Wind_Direction|Wind_Speed(mph)|Precipitation(in)|Crossing|Junction|Railway|Roundabout| Stop|Sunrise_Sunset|Traffic_Calming|Traffic_Signal|            features|label|stratum|\n",
            "+--------------+-----------------+--------+-----------+------------------+--------------+---------------+-----------------+--------+--------+-------+----------+-----+--------------+---------------+--------------+--------------------+-----+-------+\n",
            "|          85.0|             Fair|       2|       44.0|29.801319285714076|             S|           10.0|              0.0|   false|   false|  false|     false|false|           Day|          false|         false|(42,[0,3,7,8,27,3...|  2.0| Fair_2|\n",
            "|          83.0|             Fair|       2|       42.0|29.801319285714076|             S|           10.0|              0.0|   false|   false|  false|     false|false|           Day|          false|         false|(42,[0,3,7,8,27,3...|  2.0| Fair_2|\n",
            "|          84.0|             Fair|       2|       43.0|29.801319285714076|           VAR|            7.0|              0.0|   false|   false|  false|     false|false|           Day|          false|         false|(42,[0,3,7,8,30,3...|  2.0| Fair_2|\n",
            "|          68.0|             Fair|       2|       78.0|29.801319285714076|           ESE|            3.0|              0.0|   false|   false|  false|     false| true|         Night|          false|         false|(42,[0,3,7,8,20,3...|  2.0| Fair_2|\n",
            "|          72.0|             Fair|       2|       73.0|29.801319285714076|           ESE|            6.0|              0.0|   false|    true|  false|     false|false|         Night|          false|         false|(42,[0,3,7,8,20,3...|  2.0| Fair_2|\n",
            "+--------------+-----------------+--------+-----------+------------------+--------------+---------------+-----------------+--------+--------+-------+----------+-----+--------------+---------------+--------------+--------------------+-----+-------+\n",
            "only showing top 5 rows\n",
            "\n"
          ]
        },
        {
          "output_type": "stream",
          "name": "stderr",
          "text": [
            "\r                                                                                \r"
          ]
        }
      ]
    },
    {
      "cell_type": "markdown",
      "source": [
        "# **3 - Selección de métricas para medir calidad de resultados**\n"
      ],
      "metadata": {
        "id": "Uo1dfCEPlMrG"
      }
    },
    {
      "cell_type": "markdown",
      "source": [
        "El modelo que mostró el mejor desempeño en el ejercicio anterior fue **`RandomForestClassifier`**, por lo que se utilizarán las siguientes métricas para evaluar su rendimiento:\n",
        "\n",
        "✅ **Accuracy**: Indica el porcentaje de predicciones correctas sobre el total de instancias.\n",
        "\n",
        "✅ **Precision**: Evalúa qué tan preciso es el modelo en la clasificación de cada categoría, reduciendo falsas asignaciones.\n",
        "\n",
        "✅ **Recall**: Mide cuántas instancias de cada clase fueron correctamente identificadas por el modelo.\n",
        "\n",
        "✅ **F1-Score**: Combina precisión y recall en una sola métrica, equilibrando la evaluación entre todas las clases."
      ],
      "metadata": {
        "id": "WMxK7rnqxzV_"
      }
    },
    {
      "cell_type": "code",
      "source": [
        "accuracy = MulticlassClassificationEvaluator(labelCol=\"label\", predictionCol=\"prediction\", metricName=\"accuracy\")\n",
        "precision = MulticlassClassificationEvaluator(labelCol=\"label\", predictionCol=\"prediction\", metricName=\"weightedPrecision\")\n",
        "recall = MulticlassClassificationEvaluator(labelCol=\"label\", predictionCol=\"prediction\", metricName=\"weightedRecall\")\n",
        "f1_score = MulticlassClassificationEvaluator(labelCol=\"label\", predictionCol=\"prediction\", metricName=\"f1\")\n",
        "\n",
        "silhouette = ClusteringEvaluator(featuresCol=\"features\", predictionCol=\"label\", metricName=\"silhouette\")"
      ],
      "metadata": {
        "id": "KYS9vPMCpNqk"
      },
      "execution_count": 63,
      "outputs": []
    },
    {
      "cell_type": "markdown",
      "source": [
        "# **4 - Entrenamiento de Modelos de Aprendizaje**\n"
      ],
      "metadata": {
        "id": "_mGrG9SVeex-"
      }
    },
    {
      "cell_type": "markdown",
      "source": [
        "Se utilizará el modelo RandomForestClassifier, y la estrategia de entrenamiento considerará los siguientes aspectos:\n",
        "\n",
        "🔹 Preprocesamiento de Datos\n",
        "\n",
        "✅ Se aplicó selección de características para identificar las variables más representativas del modelo.\n",
        "\n",
        "✅ Se segmentaron los datos para garantizar una distribución equilibrada, evitando que el modelo favorezca una característica predominante.\n",
        "\n",
        "✅ Se realizó imputación de datos faltantes para mejorar el rendimiento del modelo y reducir la pérdida de información.\n",
        "\n",
        "✅ Se generó la columna 'features' a partir del vector de características, y 'label' como la variable objetivo, utilizando RFormula.\n",
        "\n",
        "✅ Se aplicó muestreo aleatorio simple y estratificado para evaluar distintas distribuciones y determinar cuál ofrece los mejores resultados.\n",
        "\n",
        "\n",
        "🔹 Entrenamiento del Modelo\n",
        "\n",
        "✅ Se configurará un bosque de 50 árboles (numTrees=50) para mejorar la capacidad de generalización del modelo.\n",
        "\n",
        "✅ Se establecerá una profundidad máxima de 10 niveles (maxDepth=10) para prevenir el sobreajuste.\n",
        "\n",
        "✅ Se empleará la selección automática de características (featureSubsetStrategy=\"auto\") para optimizar la eficiencia del aprendizaje.\n",
        "\n",
        "✅ Se utilizará \"entropy\" como criterio de división, maximizando la información en cada partición del árbol.\n",
        "\n",
        "✅ Se aplicará un subsampling del 80% (subsamplingRate=0.8) para reducir la varianza y mejorar la estabilidad del modelo.\n",
        "\n",
        "🔹 Ajuste de Hiperparámetros\n",
        "\n",
        "✅ Se realizará validación cruzada para optimizar los hiperparámetros numTrees, maxDepth y subsamplingRate, utilizando el conjunto de datos estratificados, con el objetivo de mejorar el rendimiento del modelo.\n",
        "\n",
        "✅ La evaluación se realizará utilizando la métrica de Accuracy, que permitirá medir la calidad de las predicciones y la eficacia del modelo.\n",
        "\n",
        "✅ Se ajustarán los hiperparámetros óptimos obtenidos durante el proceso de validación, asegurando la mejor configuración posible.\n"
      ],
      "metadata": {
        "id": "3PQdSgEdpCeP"
      }
    },
    {
      "cell_type": "markdown",
      "source": [
        "# Aplicación del modelo de aprendizaje supervisado"
      ],
      "metadata": {
        "id": "Dbyy1bDCbc8B"
      }
    },
    {
      "cell_type": "code",
      "source": [
        "# 🌳 Definir el modelo de Random Forest Regressor\n",
        "rf = RandomForestClassifier(\n",
        "    featuresCol='features',\n",
        "    labelCol='label',\n",
        "    numTrees=50,\n",
        "    maxDepth=10,\n",
        "    featureSubsetStrategy=\"auto\",\n",
        "    impurity=\"entropy\",\n",
        "    subsamplingRate=0.8\n",
        ")"
      ],
      "metadata": {
        "id": "96FigUpiZRv-"
      },
      "execution_count": 31,
      "outputs": []
    },
    {
      "cell_type": "code",
      "source": [
        "paramGrid = ParamGridBuilder().addGrid(rf.numTrees, [10, 50, 100]).\\\n",
        "            addGrid(rf.maxDepth, [5, 10, 15]).\\\n",
        "            addGrid(rf.subsamplingRate, [0.7, 0.8, 0.9]).build()"
      ],
      "metadata": {
        "id": "M9mKk3a2r3l_"
      },
      "execution_count": 32,
      "outputs": []
    },
    {
      "cell_type": "code",
      "source": [
        "crossval = CrossValidator(\n",
        "    estimator=rf,  # Modelo a evaluar\n",
        "    estimatorParamMaps=paramGrid,  # Hiperparámetros\n",
        "    evaluator=accuracy,  # Métrica de evaluación\n",
        "    numFolds=3  # Número de particiones para la validación cruzada\n",
        ")\n",
        "\n",
        "# 🏋️‍♂️ **Entrenar el modelo con validación cruzada**\n",
        "cv_model = crossval.fit(train_data_stratum)"
      ],
      "metadata": {
        "colab": {
          "base_uri": "https://localhost:8080/"
        },
        "id": "u4cELhpxsbiP",
        "outputId": "5df357cb-308f-43eb-c46c-6ed4e6418e7b"
      },
      "execution_count": 33,
      "outputs": [
        {
          "output_type": "stream",
          "name": "stderr",
          "text": []
        }
      ]
    },
    {
      "cell_type": "code",
      "source": [
        "# Obtener el mejor modelo entrenado\n",
        "parametros = cv_model.bestModel\n",
        "\n",
        "# Extraer hiperparámetros optimizados\n",
        "num_trees = parametros.getNumTrees\n",
        "max_depth = parametros.getOrDefault(\"maxDepth\")\n",
        "feature_subset_strategy = parametros.getOrDefault(\"featureSubsetStrategy\")\n",
        "impurity = parametros.getOrDefault(\"impurity\")\n",
        "subsampling_rate = parametros.getOrDefault(\"subsamplingRate\")\n",
        "\n",
        "predictions = cv_model.transform(test_data_aleatorio)\n",
        "mejor_acc = accuracy.evaluate(predictions)\n",
        "\n",
        "print(f\"✅ Mejor modelo encontrado - Accuracy: {mejor_acc:.4f}\")\n",
        "\n",
        "print(f\"\"\"📌 **Hiperparámetros del mejor modelo**\n",
        "🌲 Número de árboles: {num_trees}\n",
        "📏 Profundidad máxima: {max_depth}\n",
        "🔎 Estrategia de selección de características: {feature_subset_strategy}\n",
        "⚖ Criterio de impureza: {impurity}\n",
        "📉 Tasa de muestreo: {subsampling_rate}\"\"\")"
      ],
      "metadata": {
        "colab": {
          "base_uri": "https://localhost:8080/"
        },
        "id": "fLG0qDqlz9SI",
        "outputId": "ef36f8a2-8190-4e98-ff1e-66833f5994be"
      },
      "execution_count": 34,
      "outputs": [
        {
          "output_type": "stream",
          "name": "stderr",
          "text": []
        },
        {
          "output_type": "stream",
          "name": "stdout",
          "text": [
            "✅ Mejor modelo encontrado - Accuracy: 0.6455\n",
            "📌 **Hiperparámetros del mejor modelo**\n",
            "🌲 Número de árboles: 50\n",
            "📏 Profundidad máxima: 15\n",
            "🔎 Estrategia de selección de características: auto\n",
            "⚖ Criterio de impureza: entropy\n",
            "📉 Tasa de muestreo: 0.9\n"
          ]
        },
        {
          "output_type": "stream",
          "name": "stderr",
          "text": [
            "\r                                                                                \r"
          ]
        }
      ]
    },
    {
      "cell_type": "code",
      "source": [
        "# 🌳 Definición del modelo Random Forest Regressor\n",
        "# Utilizando los mejores hiperparámetros obtenidos\n",
        "# mediante validación cruzada.\n",
        "\n",
        "rf = RandomForestClassifier(\n",
        "    featuresCol='features',\n",
        "    labelCol='label',\n",
        "    numTrees=num_trees,\n",
        "    maxDepth=max_depth,\n",
        "    featureSubsetStrategy= feature_subset_strategy ,\n",
        "    impurity= impurity,\n",
        "    subsamplingRate= subsampling_rate\n",
        ")"
      ],
      "metadata": {
        "id": "cTuO6uDc2fq1"
      },
      "execution_count": 35,
      "outputs": []
    },
    {
      "cell_type": "code",
      "source": [
        "# 🏋️ Entrenar el modelo con el conjunto de entrenamiento\n",
        "rf_model_aleatorio = rf.fit(train_data_aleatorio)\n",
        "rf_model_estratificado = rf.fit(train_data_stratum)"
      ],
      "metadata": {
        "colab": {
          "base_uri": "https://localhost:8080/"
        },
        "id": "NCqgeOmeyJKi",
        "outputId": "a354cac3-47cf-42e1-a4a7-3f565de01619"
      },
      "execution_count": 36,
      "outputs": [
        {
          "output_type": "stream",
          "name": "stderr",
          "text": []
        }
      ]
    },
    {
      "cell_type": "code",
      "source": [
        "# Imprimiendo el accuracy de cada modelo con su respectivo test\n",
        "accuracy_aleatorio = accuracy.evaluate(rf_model_aleatorio.transform(test_data_aleatorio))\n",
        "accuracy_estratificado = accuracy.evaluate(rf_model_estratificado.transform(train_data_stratum))\n",
        "\n",
        "precision_aleatorio = precision.evaluate(rf_model_aleatorio.transform(test_data_aleatorio))\n",
        "precision_estratificado = precision.evaluate(rf_model_estratificado.transform(train_data_stratum))\n",
        "\n",
        "recall_aleatorio = recall.evaluate(rf_model_aleatorio.transform(test_data_aleatorio))\n",
        "recall_estratificado = recall.evaluate(rf_model_estratificado.transform(train_data_stratum))\n",
        "\n",
        "f1_score_aleatorio = f1_score.evaluate(rf_model_aleatorio.transform(test_data_aleatorio))\n",
        "f1_score_estratificado = f1_score.evaluate(rf_model_estratificado.transform(train_data_stratum))\n",
        "\n",
        "\n",
        "# 📊 Imprimiendo resultados del modelo\n",
        "print(\"\\n🔎 Evaluación del Modelo - Comparación de Muestreos 🔍\\n\")\n",
        "\n",
        "# 🎯 Accuracy\n",
        "print(f\"✅ Accuracy - Muestreo Aleatorio: {accuracy_aleatorio:.4f} 🎯\")\n",
        "print(f\"✅ Accuracy - Muestreo Estratificado: {accuracy_estratificado:.4f} 🎯\\n\")\n",
        "\n",
        "# 🎯 Precision\n",
        "print(f\"🎯 Precisión - Muestreo Aleatorio: {precision_aleatorio:.4f} 🔍\")\n",
        "print(f\"🎯 Precisión - Muestreo Estratificado: {precision_estratificado:.4f} 🔍\\n\")\n",
        "\n",
        "# 🔥 Recall\n",
        "print(f\"🔥 Recall - Muestreo Aleatorio: {recall_aleatorio:.4f} 🚀\")\n",
        "print(f\"🔥 Recall - Muestreo Estratificado: {recall_estratificado:.4f} 🚀\\n\")\n",
        "\n",
        "# ⚡ F1-Score\n",
        "print(f\"⚡ F1-Score - Muestreo Aleatorio: {f1_score_aleatorio:.4f} ⚖\")\n",
        "print(f\"⚡ F1-Score - Muestreo Estratificado: {f1_score_estratificado:.4f} ⚖\")\n"
      ],
      "metadata": {
        "colab": {
          "base_uri": "https://localhost:8080/"
        },
        "id": "Ad2aqWrZusTf",
        "outputId": "024cbe37-76ce-45ac-a110-536644cc2b43"
      },
      "execution_count": 38,
      "outputs": [
        {
          "output_type": "stream",
          "name": "stderr",
          "text": []
        },
        {
          "output_type": "stream",
          "name": "stdout",
          "text": [
            "\n",
            "🔎 Evaluación del Modelo - Comparación de Muestreos 🔍\n",
            "\n",
            "✅ Accuracy - Muestreo Aleatorio: 0.6339 🎯\n",
            "✅ Accuracy - Muestreo Estratificado: 0.6526 🎯\n",
            "\n",
            "🎯 Precisión - Muestreo Aleatorio: 0.6782 🔍\n",
            "🎯 Precisión - Muestreo Estratificado: 0.7001 🔍\n",
            "\n",
            "🔥 Recall - Muestreo Aleatorio: 0.6339 🚀\n",
            "🔥 Recall - Muestreo Estratificado: 0.6526 🚀\n",
            "\n",
            "⚡ F1-Score - Muestreo Aleatorio: 0.6096 ⚖\n",
            "⚡ F1-Score - Muestreo Estratificado: 0.6307 ⚖\n"
          ]
        },
        {
          "output_type": "stream",
          "name": "stderr",
          "text": [
            "\r                                                                                \r"
          ]
        }
      ]
    },
    {
      "cell_type": "markdown",
      "source": [
        "# Aplicación del modelo de aprendizaje no supervisado"
      ],
      "metadata": {
        "id": "Jn0XsW-VbrS4"
      }
    },
    {
      "cell_type": "code",
      "source": [
        "# 🔍 Definir el modelo K-Means\n",
        "# K-Means es un algoritmo de agrupamiento que clasifica los datos en k grupos según su similitud\n",
        "kmeans = KMeans(\n",
        "    featuresCol='features',\n",
        "    k=2,\n",
        "    seed=42\n",
        ")\n",
        "\n",
        "# 🏋️ Entrenar el modelo con los datos escalados\n",
        "model_kmeans = kmeans.fit(muestra_preparadaRF)\n",
        "\n",
        "# 🔄 Aplicar el modelo entrenado para hacer predicciones y asignar cada dato a un cluster\n",
        "kMeans_pred = model_kmeans.transform(muestra_preparadaRF)\n",
        "\n",
        "# 📊 Mostrar los resultados de la agrupación\n",
        "kMeans_pred.select('features','label','prediction').show(5,truncate = True)"
      ],
      "metadata": {
        "colab": {
          "base_uri": "https://localhost:8080/"
        },
        "id": "m8kl9mpLbaRz",
        "outputId": "60ad85cf-7993-4f9f-f9a2-dbbedfc1db97"
      },
      "execution_count": 44,
      "outputs": [
        {
          "output_type": "stream",
          "name": "stderr",
          "text": []
        },
        {
          "output_type": "stream",
          "name": "stdout",
          "text": [
            "+--------------------+-----+----------+\n",
            "|            features|label|prediction|\n",
            "+--------------------+-----+----------+\n",
            "|(42,[0,3,7,8,17,3...|  2.0|         0|\n",
            "|(42,[0,3,7,8,17,3...|  2.0|         0|\n",
            "|(42,[0,3,7,8,27,3...|  2.0|         0|\n",
            "|(42,[0,3,7,8,27,3...|  2.0|         0|\n",
            "|(42,[0,3,7,8,27,3...|  2.0|         0|\n",
            "+--------------------+-----+----------+\n",
            "only showing top 5 rows\n",
            "\n"
          ]
        },
        {
          "output_type": "stream",
          "name": "stderr",
          "text": [
            "\r                                                                                \r"
          ]
        }
      ]
    },
    {
      "cell_type": "code",
      "source": [
        "silhouette_score = evaluator.evaluate(kMeans_pred)\n",
        "sse = model_kmeans.summary.trainingCost\n",
        "\n",
        "print(f\"🔍 Silhouette Score: {silhouette_score:.4f}\")\n",
        "print(f\"📉 SSE (Inertia): {sse:.4f}\")\n",
        "\n",
        "kMeans_pred.groupBy(\"prediction\").count().show()"
      ],
      "metadata": {
        "colab": {
          "base_uri": "https://localhost:8080/"
        },
        "id": "qh6mqr7tdV-8",
        "outputId": "72b4d6b2-74d0-45d5-8249-4f05ce17ffd7"
      },
      "execution_count": 65,
      "outputs": [
        {
          "output_type": "stream",
          "name": "stderr",
          "text": []
        },
        {
          "output_type": "stream",
          "name": "stdout",
          "text": [
            "🔍 Silhouette Score: 0.0012\n",
            "📉 SSE (Inertia): 43067466.9648\n"
          ]
        },
        {
          "output_type": "stream",
          "name": "stderr",
          "text": []
        },
        {
          "output_type": "stream",
          "name": "stdout",
          "text": [
            "+----------+-----+\n",
            "|prediction|count|\n",
            "+----------+-----+\n",
            "|         1|87603|\n",
            "|         0|52397|\n",
            "+----------+-----+\n",
            "\n"
          ]
        },
        {
          "output_type": "stream",
          "name": "stderr",
          "text": [
            "\r                                                                                \r"
          ]
        }
      ]
    },
    {
      "cell_type": "markdown",
      "source": [
        "# **5 -  Análisis de resultados**\n"
      ],
      "metadata": {
        "id": "nq1L_HzLnQrQ"
      }
    },
    {
      "cell_type": "markdown",
      "source": [
        "5 Análisis de resultados”, en la cual incluya una profunda reflexión de los resultados alcanzados, identificando sus fortalezas y áreas de oportunidad de los resultados obtenidos."
      ],
      "metadata": {
        "id": "i5GOXb2Wx7ur"
      }
    },
    {
      "cell_type": "markdown",
      "source": [
        "* **Velasco Rebolledo, J. (2024)**. Machine Learning: Fundamentos, algoritmos y aplicaciones. Editorial Díaz de Santos. Recuperado el 20 de mayo de 2025, de https://elibro.net/es/ereader/consorcioitesm/275096.\n",
        "* **Apache Software Foundation. (s.f.)**. PySpark ML API Reference. Recuperado el 20 de mayo de 2025, de https://spark.apache.org/docs/latest/api/python/reference/pyspark.ml.html.\n"
      ],
      "metadata": {
        "id": "EzWoZ9xrquuz"
      }
    },
    {
      "cell_type": "markdown",
      "source": [
        "- Purushotham, S., & Tripathy, B. K. (2011, December). Evaluation of classifier models using stratified tenfold cross validation techniques. En International conference on computing and communication systems (pp. 680-690). Berlin, Heidelberg: Springer Berlin Heidelberg. Disponible en Springer o ResearchGate.\n",
        "- Dietterich, T. G. (2000, June). Ensemble methods in machine learning. En International workshop on multiple classifier systems (pp. 1-15). Berlin, Heidelberg: Springer Berlin Heidelberg. Disponible en Springer.\n",
        "- Junqué de Fortuny, E., Martens, D., & Provost, F. (2013). Predictive modeling with big data: is bigger really better? Big Data, 1(4), 215-226. Disponible en Mary Ann Liebert.\n",
        "- Al-Jarrah, O. Y., Yoo, P. D., Muhaidat, S., Karagiannidis, G. K., & Taha, K. (2015). Efficient machine learning for big data: A review. Big Data Research, 2(3), 87-93. Disponible en arXiv o Academia.edu.\n",
        "- Zhou, L., Pan, S., Wang, J., & Vasilakos, A. V. (2017). Machine learning on big data: Opportunities and challenges. Neurocomputing, 237, 350-361. Disponible en ResearchGate.\n"
      ],
      "metadata": {
        "id": "JqvzTLE8ywUA"
      }
    }
  ]
}